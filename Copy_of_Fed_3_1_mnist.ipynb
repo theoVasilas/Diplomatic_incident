{
  "cells": [
    {
      "cell_type": "markdown",
      "metadata": {
        "id": "view-in-github",
        "colab_type": "text"
      },
      "source": [
        "<a href=\"https://colab.research.google.com/github/theoVasilas/Diplomatic_incident/blob/simulation/Copy_of_Fed_3_1_mnist.ipynb\" target=\"_parent\"><img src=\"https://colab.research.google.com/assets/colab-badge.svg\" alt=\"Open In Colab\"/></a>"
      ]
    },
    {
      "cell_type": "markdown",
      "metadata": {
        "id": "nm_KsFraeQNa"
      },
      "source": [
        "# Installations"
      ]
    },
    {
      "cell_type": "code",
      "execution_count": 1,
      "metadata": {
        "id": "WbXGZcJBcrVT",
        "colab": {
          "base_uri": "https://localhost:8080/"
        },
        "outputId": "7e6bed03-a6f8-4f66-f7da-d53d6bcbae59"
      },
      "outputs": [
        {
          "output_type": "stream",
          "name": "stdout",
          "text": [
            "\u001b[2K   \u001b[90m━━━━━━━━━━━━━━━━━━━━━━━━━━━━━━━━━━━━━━━━\u001b[0m \u001b[32m65.1/65.1 MB\u001b[0m \u001b[31m12.6 MB/s\u001b[0m eta \u001b[36m0:00:00\u001b[0m\n",
            "\u001b[2K   \u001b[90m━━━━━━━━━━━━━━━━━━━━━━━━━━━━━━━━━━━━━━━━\u001b[0m \u001b[32m40.8/40.8 MB\u001b[0m \u001b[31m11.0 MB/s\u001b[0m eta \u001b[36m0:00:00\u001b[0m\n",
            "\u001b[2K   \u001b[90m━━━━━━━━━━━━━━━━━━━━━━━━━━━━━━━━━━━━━━━━\u001b[0m \u001b[32m3.9/3.9 MB\u001b[0m \u001b[31m54.7 MB/s\u001b[0m eta \u001b[36m0:00:00\u001b[0m\n",
            "\u001b[2K   \u001b[90m━━━━━━━━━━━━━━━━━━━━━━━━━━━━━━━━━━━━━━━━\u001b[0m \u001b[32m480.6/480.6 kB\u001b[0m \u001b[31m20.5 MB/s\u001b[0m eta \u001b[36m0:00:00\u001b[0m\n",
            "\u001b[2K   \u001b[90m━━━━━━━━━━━━━━━━━━━━━━━━━━━━━━━━━━━━━━━━\u001b[0m \u001b[32m8.3/8.3 MB\u001b[0m \u001b[31m66.6 MB/s\u001b[0m eta \u001b[36m0:00:00\u001b[0m\n",
            "\u001b[2K   \u001b[90m━━━━━━━━━━━━━━━━━━━━━━━━━━━━━━━━━━━━━━━━\u001b[0m \u001b[32m294.6/294.6 kB\u001b[0m \u001b[31m15.9 MB/s\u001b[0m eta \u001b[36m0:00:00\u001b[0m\n",
            "\u001b[2K   \u001b[90m━━━━━━━━━━━━━━━━━━━━━━━━━━━━━━━━━━━━━━━━\u001b[0m \u001b[32m2.3/2.3 MB\u001b[0m \u001b[31m47.3 MB/s\u001b[0m eta \u001b[36m0:00:00\u001b[0m\n",
            "\u001b[2K   \u001b[90m━━━━━━━━━━━━━━━━━━━━━━━━━━━━━━━━━━━━━━━━\u001b[0m \u001b[32m478.6/478.6 kB\u001b[0m \u001b[31m19.5 MB/s\u001b[0m eta \u001b[36m0:00:00\u001b[0m\n",
            "\u001b[2K   \u001b[90m━━━━━━━━━━━━━━━━━━━━━━━━━━━━━━━━━━━━━━━━\u001b[0m \u001b[32m78.7/78.7 kB\u001b[0m \u001b[31m4.5 MB/s\u001b[0m eta \u001b[36m0:00:00\u001b[0m\n",
            "\u001b[2K   \u001b[90m━━━━━━━━━━━━━━━━━━━━━━━━━━━━━━━━━━━━━━━━\u001b[0m \u001b[32m116.3/116.3 kB\u001b[0m \u001b[31m6.2 MB/s\u001b[0m eta \u001b[36m0:00:00\u001b[0m\n",
            "\u001b[2K   \u001b[90m━━━━━━━━━━━━━━━━━━━━━━━━━━━━━━━━━━━━━━━━\u001b[0m \u001b[32m134.8/134.8 kB\u001b[0m \u001b[31m7.4 MB/s\u001b[0m eta \u001b[36m0:00:00\u001b[0m\n",
            "\u001b[2K   \u001b[90m━━━━━━━━━━━━━━━━━━━━━━━━━━━━━━━━━━━━━━━━\u001b[0m \u001b[32m194.1/194.1 kB\u001b[0m \u001b[31m10.6 MB/s\u001b[0m eta \u001b[36m0:00:00\u001b[0m\n",
            "\u001b[?25h\u001b[31mERROR: pip's dependency resolver does not currently take into account all the packages that are installed. This behaviour is the source of the following dependency conflicts.\n",
            "cudf-cu12 24.4.1 requires pyarrow<15.0.0a0,>=14.0.1, but you have pyarrow 16.1.0 which is incompatible.\n",
            "ibis-framework 8.0.0 requires pyarrow<16,>=2, but you have pyarrow 16.1.0 which is incompatible.\n",
            "tensorflow-metadata 1.15.0 requires protobuf<4.21,>=3.20.3; python_version < \"3.11\", but you have protobuf 4.25.5 which is incompatible.\u001b[0m\u001b[31m\n",
            "\u001b[0m"
          ]
        }
      ],
      "source": [
        "!pip install -q flwr[simulation] flwr-datasets[vision] torch torchvision"
      ]
    },
    {
      "cell_type": "code",
      "execution_count": 2,
      "metadata": {
        "colab": {
          "base_uri": "https://localhost:8080/"
        },
        "id": "81QRVoGVe1iY",
        "outputId": "cf763763-c073-4a6d-be99-a8af78d9de82"
      },
      "outputs": [
        {
          "output_type": "stream",
          "name": "stdout",
          "text": [
            "Training on cpu\n",
            "Flower 1.12.0 / PyTorch 2.4.1+cu121\n"
          ]
        }
      ],
      "source": [
        "from collections import OrderedDict, Counter\n",
        "from typing import Dict, List, Optional, Tuple\n",
        "\n",
        "import matplotlib.pyplot as plt\n",
        "import numpy as np\n",
        "import torch\n",
        "import torch.nn as nn\n",
        "import torch.nn.functional as F\n",
        "import torchvision.transforms as transforms\n",
        "from torch.utils.data import DataLoader\n",
        "from datasets import load_dataset, logging\n",
        "from datasets.utils.logging import disable_progress_bar\n",
        "\n",
        "import flwr\n",
        "from flwr.client import Client, ClientApp, NumPyClient\n",
        "from flwr.common import Metrics, Context\n",
        "from flwr.server import ServerApp, ServerConfig, ServerAppComponents\n",
        "from flwr.server.strategy import FedAvg, FedAdagrad\n",
        "from flwr.simulation import run_simulation\n",
        "from flwr_datasets import FederatedDataset\n",
        "from flwr.common import ndarrays_to_parameters, NDArrays, Scalar, Context\n",
        "\n",
        "\n",
        "DEVICE = torch.device(\"cpu\")  # Try \"cuda\" to train on GPU\n",
        "print(f\"Training on {DEVICE}\")\n",
        "print(f\"Flower {flwr.__version__} / PyTorch {torch.__version__}\")\n",
        "disable_progress_bar()"
      ]
    },
    {
      "cell_type": "markdown",
      "source": [
        "# Dataloader"
      ],
      "metadata": {
        "id": "nQAJVA2Tn7zV"
      }
    },
    {
      "cell_type": "code",
      "source": [
        "BATCH_SIZE = 32"
      ],
      "metadata": {
        "id": "RGnxv9n1XQy6",
        "colab": {
          "base_uri": "https://localhost:8080/"
        },
        "outputId": "35b52a5b-3bbb-43e1-b487-23696f8ca672"
      },
      "execution_count": 3,
      "outputs": [
        {
          "output_type": "stream",
          "name": "stderr",
          "text": [
            "/usr/local/lib/python3.10/dist-packages/ipykernel/ipkernel.py:283: DeprecationWarning: `should_run_async` will not call `transform_cell` automatically in the future. Please pass the result to `transformed_cell` argument and any exception that happen during thetransform in `preprocessing_exc_tuple` in IPython 7.17 and above.\n",
            "  and should_run_async(code)\n"
          ]
        }
      ]
    },
    {
      "cell_type": "code",
      "execution_count": 4,
      "metadata": {
        "collapsed": true,
        "id": "tO_9qbNRnxvd"
      },
      "outputs": [],
      "source": [
        "def load_datasets(partition_id: int, num_partitions: int):\n",
        "\n",
        "    fds = FederatedDataset(\n",
        "        dataset=\"mnist\",\n",
        "        partitioners={\"train\": num_partitions}\n",
        "    )\n",
        "\n",
        "    pytorch_transforms = transforms.Compose([\n",
        "        transforms.ToTensor(),\n",
        "        transforms.Normalize((0.1307,), (0.3081,))\n",
        "    ])\n",
        "\n",
        "    def apply_transforms(batch):\n",
        "        batch[\"image\"] = [pytorch_transforms(img) for img in batch[\"image\"]]\n",
        "        return batch\n",
        "\n",
        "    partition = fds.load_partition(partition_id)\n",
        "    # Divider : 80% train, 20% test\n",
        "    partition_train_test = partition.train_test_split(test_size=0.2, seed=42)\n",
        "    #Apply Tranforms\n",
        "    partition_train_test = partition_train_test.with_transform(apply_transforms)\n",
        "\n",
        "    trainloader = DataLoader(partition_train_test[\"train\"], batch_size=BATCH_SIZE, shuffle=True )\n",
        "    valloader = DataLoader(partition_train_test[\"test\"], batch_size=BATCH_SIZE)\n",
        "\n",
        "    testset = fds.load_split(\"test\").with_transform(apply_transforms)\n",
        "    testloader = DataLoader(testset, batch_size=BATCH_SIZE)\n",
        "\n",
        "    return trainloader, valloader, testloader"
      ]
    },
    {
      "cell_type": "markdown",
      "metadata": {
        "id": "zH5D5Os9nxvd"
      },
      "source": [
        "### Histogram of the dataset\n"
      ]
    },
    {
      "cell_type": "code",
      "execution_count": 5,
      "metadata": {
        "colab": {
          "base_uri": "https://localhost:8080/",
          "height": 743,
          "referenced_widgets": [
            "760b6ececa704d5fac647e867e1e7d55",
            "c729aabd218940a0afb1b02284ec018f",
            "18ba6fdf1f2246f18079e4eb310e73f3",
            "bd7a99cf12fb4ab49a97816fe776cd85",
            "0449cd810854457bbd69a825f83120fa",
            "07717a7fee0e48008d264bca291150df",
            "6f89e866c8414b0494bd55d7f6e4166c",
            "12a9d326159d42879e0d5eb71c9c98b9",
            "22bdb2fd19eb405dae072f2f0ab2e41a",
            "0f09416c5b464ea582cfc40dcbd27123",
            "60cd0ba694214e2bbd1f3aa7200a8298",
            "714bff19bc2b419aaca77a8ec8780ecb",
            "a3f1ffe704f34de9aa2d0c4cd7db9302",
            "a58e935586ef47f5807d37781dc95fa3",
            "ae642310c6ae440ca634a775a5493c49",
            "8fd882389b45485aa1718c5c2730a04b",
            "97acfff4e8f840c3b06f08b455e65d58",
            "d59d78c31c874353aafb33358d04e667",
            "93f3f875d3734fe5b2b5ab018387354b",
            "7d7cd34e80df4032b5be997fd77cf0a3",
            "9bf7d9b1188c49aca5613da756b0c8bd",
            "7e7ac65a52a2498397ea37750148d2a2",
            "d3b0f7de5f2a42749c980f734e2edc0d",
            "708b29c73f444e068c44b488ab591f15",
            "749c89053e3b4adfb20648c6391f5b1f",
            "b269143f7625485ba9adc2b67aa40aa0",
            "6691e7b33ba34c25b9b04eea2aaf9f12",
            "449e3c5e71744e66a4441fed80b9f1a2",
            "b1f04a3b58c3479bb9418af09d191e3a",
            "6c39878e5f614aa7b499325ae94745fb",
            "27cb1365a73f4467b5f54d4fd2637e34",
            "6fc316e573c342778d7609de79ac2079",
            "e43b37bbddf1468985413d672ce08c83"
          ]
        },
        "collapsed": true,
        "outputId": "cc8c692a-4627-4572-e641-be35fde4e051",
        "id": "8spIgQa7nxvd"
      },
      "outputs": [
        {
          "output_type": "stream",
          "name": "stderr",
          "text": [
            "/usr/local/lib/python3.10/dist-packages/huggingface_hub/utils/_token.py:89: UserWarning: \n",
            "The secret `HF_TOKEN` does not exist in your Colab secrets.\n",
            "To authenticate with the Hugging Face Hub, create a token in your settings tab (https://huggingface.co/settings/tokens), set it as secret in your Google Colab and restart your session.\n",
            "You will be able to reuse this secret in all of your notebooks.\n",
            "Please note that authentication is recommended but still optional to access public models or datasets.\n",
            "  warnings.warn(\n"
          ]
        },
        {
          "output_type": "display_data",
          "data": {
            "text/plain": [
              "README.md:   0%|          | 0.00/6.97k [00:00<?, ?B/s]"
            ],
            "application/vnd.jupyter.widget-view+json": {
              "version_major": 2,
              "version_minor": 0,
              "model_id": "760b6ececa704d5fac647e867e1e7d55"
            }
          },
          "metadata": {}
        },
        {
          "output_type": "display_data",
          "data": {
            "text/plain": [
              "train-00000-of-00001.parquet:   0%|          | 0.00/15.6M [00:00<?, ?B/s]"
            ],
            "application/vnd.jupyter.widget-view+json": {
              "version_major": 2,
              "version_minor": 0,
              "model_id": "714bff19bc2b419aaca77a8ec8780ecb"
            }
          },
          "metadata": {}
        },
        {
          "output_type": "display_data",
          "data": {
            "text/plain": [
              "test-00000-of-00001.parquet:   0%|          | 0.00/2.60M [00:00<?, ?B/s]"
            ],
            "application/vnd.jupyter.widget-view+json": {
              "version_major": 2,
              "version_minor": 0,
              "model_id": "d3b0f7de5f2a42749c980f734e2edc0d"
            }
          },
          "metadata": {}
        },
        {
          "output_type": "display_data",
          "data": {
            "text/plain": [
              "<Figure size 640x480 with 1 Axes>"
            ],
            "image/png": "[encoded data removed]"
          },
          "metadata": {}
        }
      ],
      "source": [
        "# Download the CIFAR-10 dataset\n",
        "logging.set_verbosity_error()  # Suppress logs at the error level and below\n",
        "mninst = load_dataset(\"mnist\")\n",
        "\n",
        "# Construct histogram for training labels\n",
        "all_labels = mninst[\"train\"][\"label\"]\n",
        "all_label_counts = Counter(all_labels)\n",
        "\n",
        "# Visualize the histogram\n",
        "bar = plt.bar(all_label_counts.keys(), all_label_counts.values())\n",
        "_ = plt.bar_label(bar)\n",
        "\n",
        "# Plot formatting\n",
        "_ = plt.xticks([label for label in all_label_counts.keys()],\n",
        "               labels=[\"airplane\", \"automobile\", \"bird\", \"cat\", \"deer\", \"dog\", \"frog\", \"horse\", \"ship\", \"truck\"],\n",
        "               rotation=45)\n",
        "\n",
        "plt.xlabel(\"Class Label\")\n",
        "plt.ylabel(\"Frequency\")\n",
        "plt.title(\"CIFAR-10 Training Dataset Label Distribution\")\n",
        "plt.show()\n"
      ]
    },
    {
      "cell_type": "code",
      "source": [
        "num_partitions = 10  # Total number of participants\n",
        "fds = FederatedDataset(\n",
        "    dataset=\"mnist\",\n",
        "    partitioners={\"train\": num_partitions}\n",
        ")\n",
        "\n",
        "partition = fds.load_partition(0)\n",
        "print(f\"One Partition has {len(partition)} examples.\")\n",
        "\n",
        "# Divider : 80% train, 20% test\n",
        "partition_train_test = partition.train_test_split(test_size=0.2, seed=42)\n",
        "train_size = len(partition_train_test[\"train\"])\n",
        "print(f\"One Partition has {train_size} examples.\")\n",
        "\n",
        "all_labels = partition_train_test[\"train\"][\"label\"]\n",
        "\n",
        "label_counts = Counter(all_labels)\n",
        "\n",
        "# Visualize the histogram\n",
        "bar = plt.bar(label_counts.keys(), label_counts.values())\n",
        "_ = plt.bar_label(bar)\n",
        "\n",
        "total_count = sum(label_counts.values())\n",
        "\n",
        "# Calculate proportions\n",
        "proportions = [count / total_count for count in label_counts.values()]\n",
        "\n",
        "# Calculate entropy\n",
        "entropy = -sum(p * np.log2(p) for p in proportions)\n",
        "max_entropy = np.log2(len(label_counts))  # Maximum entropy for uniform distribution\n",
        "\n",
        "print(f\"Entropy: {entropy:.4f}\")\n",
        "print(f\"Max Entropy (Uniform Distribution): {max_entropy:.4f}\")\n",
        "print(f\"Distribution Uniformity Ratio: {entropy / max_entropy:.4f}\")"
      ],
      "metadata": {
        "colab": {
          "base_uri": "https://localhost:8080/",
          "height": 517
        },
        "id": "GSK1kmZVZdKJ",
        "outputId": "2b723884-9f12-4b46-8059-a5f4270a22c9"
      },
      "execution_count": 6,
      "outputs": [
        {
          "output_type": "stream",
          "name": "stdout",
          "text": [
            "One Partition has 6000 examples.\n",
            "One Partition has 4800 examples.\n",
            "Entropy: 3.3182\n",
            "Max Entropy (Uniform Distribution): 3.3219\n",
            "Distribution Uniformity Ratio: 0.9989\n"
          ]
        },
        {
          "output_type": "display_data",
          "data": {
            "text/plain": [
              "<Figure size 640x480 with 1 Axes>"
            ],
            "image/png": "[encoded data removed]"
          },
          "metadata": {}
        }
      ]
    },
    {
      "cell_type": "markdown",
      "source": [
        "so the data is IID"
      ],
      "metadata": {
        "id": "mIqjSC8ecqjn"
      }
    },
    {
      "cell_type": "markdown",
      "metadata": {
        "id": "jdYtx3nynxve"
      },
      "source": [
        "# Model"
      ]
    },
    {
      "cell_type": "code",
      "execution_count": 7,
      "metadata": {
        "colab": {
          "base_uri": "https://localhost:8080/"
        },
        "outputId": "5cf06407-d97c-460f-ccc4-cac0de8747c7",
        "id": "nZedhSu_nxve"
      },
      "outputs": [
        {
          "output_type": "stream",
          "name": "stderr",
          "text": [
            "/usr/local/lib/python3.10/dist-packages/ipykernel/ipkernel.py:283: DeprecationWarning: `should_run_async` will not call `transform_cell` automatically in the future. Please pass the result to `transformed_cell` argument and any exception that happen during thetransform in `preprocessing_exc_tuple` in IPython 7.17 and above.\n",
            "  and should_run_async(code)\n"
          ]
        }
      ],
      "source": [
        "class Net(nn.Module):\n",
        "    def __init__(self):\n",
        "        super(Net, self).__init__()\n",
        "        self.conv1 = nn.Conv2d(1, 6, 5)\n",
        "        self.pool = nn.MaxPool2d(2, 2)\n",
        "        self.conv2 = nn.Conv2d(6, 16, 5)\n",
        "        self.fc1 = nn.Linear(16 * 4 * 4, 120)\n",
        "        self.fc2 = nn.Linear(120, 84)\n",
        "        self.fc3 = nn.Linear(84, 10)\n",
        "\n",
        "    def forward(self, x: torch.Tensor) -> torch.Tensor:\n",
        "        x = self.pool(F.relu(self.conv1(x)))\n",
        "        x = self.pool(F.relu(self.conv2(x)))\n",
        "        x = x.view(-1, 16 * 4 * 4)\n",
        "        x = F.relu(self.fc1(x))\n",
        "        x = F.relu(self.fc2(x))\n",
        "        x = self.fc3(x)\n",
        "        return x"
      ]
    },
    {
      "cell_type": "code",
      "execution_count": 8,
      "metadata": {
        "colab": {
          "base_uri": "https://localhost:8080/"
        },
        "outputId": "e67c733e-55e1-4d09-e624-ab3513e84762",
        "id": "eUdA0GtZnxve"
      },
      "outputs": [
        {
          "output_type": "stream",
          "name": "stdout",
          "text": [
            "num_parameters = 44426\n"
          ]
        }
      ],
      "source": [
        "net = Net()\n",
        "num_parameters = sum(value.numel() for value in net.state_dict().values())\n",
        "print(f\"{num_parameters = }\")"
      ]
    },
    {
      "cell_type": "markdown",
      "metadata": {
        "id": "bWjz0Nerendb"
      },
      "source": [
        "# Train Test func\n"
      ]
    },
    {
      "cell_type": "code",
      "execution_count": 9,
      "metadata": {
        "id": "acU_vF0fkmrk"
      },
      "outputs": [],
      "source": [
        "def train(net, trainloader, optimizer, epochs: int, verbose=False):\n",
        "    \"\"\"Train the network on the training set.\"\"\"\n",
        "    criterion = torch.nn.CrossEntropyLoss()\n",
        "    net.train()\n",
        "    for epoch in range(epochs):\n",
        "        correct, total, epoch_loss = 0, 0, 0.0\n",
        "        for batch in trainloader:\n",
        "            images, labels = batch[\"image\"].to(DEVICE), batch[\"label\"].to(DEVICE)\n",
        "            optimizer.zero_grad()\n",
        "            outputs = net(images)\n",
        "            loss = criterion(outputs, labels)\n",
        "            loss.backward()\n",
        "            optimizer.step()\n",
        "\n",
        "            # Metrics\n",
        "            epoch_loss += loss\n",
        "            total += labels.size(0)\n",
        "            correct += (torch.max(outputs.data, 1)[1] == labels).sum().item()\n",
        "\n",
        "        epoch_loss /= len(trainloader.dataset)\n",
        "        epoch_acc = correct / total\n",
        "        if verbose:\n",
        "            print(f\"Epoch {epoch+1}: train loss {epoch_loss}, accuracy {epoch_acc}\")\n",
        "\n",
        "\n",
        "def test(net, testloader):\n",
        "    \"\"\"Evaluate the network on the entire test set.\"\"\"\n",
        "    criterion = torch.nn.CrossEntropyLoss()\n",
        "    correct, total, loss = 0, 0, 0.0\n",
        "\n",
        "    net.eval()\n",
        "    with torch.no_grad():\n",
        "        for batch in testloader:\n",
        "            images, labels = batch[\"image\"].to(DEVICE), batch[\"label\"].to(DEVICE)\n",
        "            outputs = net(images)\n",
        "\n",
        "            loss += criterion(outputs, labels).item()\n",
        "            _, predicted = torch.max(outputs.data, 1)\n",
        "            total += labels.size(0)\n",
        "            correct += (predicted == labels).sum().item()\n",
        "\n",
        "    loss /= len(testloader.dataset)\n",
        "    accuracy = correct / total\n",
        "    return loss, accuracy"
      ]
    },
    {
      "cell_type": "markdown",
      "source": [
        "# Federation"
      ],
      "metadata": {
        "id": "TzT9lfBvr3KZ"
      }
    },
    {
      "cell_type": "markdown",
      "metadata": {
        "id": "2cKphyyRfX73"
      },
      "source": [
        "## set-get params\n"
      ]
    },
    {
      "cell_type": "code",
      "execution_count": 10,
      "metadata": {
        "id": "n8TluyQffXa3"
      },
      "outputs": [],
      "source": [
        "def set_parameters(net, parameters: List[np.ndarray]):\n",
        "    params_dict = zip(net.state_dict().keys(), parameters)\n",
        "    state_dict = OrderedDict({k: torch.Tensor(v) for k, v in params_dict})\n",
        "    # replace the parameters\n",
        "    net.load_state_dict(state_dict, strict=True)\n",
        "\n",
        "\n",
        "def get_parameters(net) -> List[np.ndarray]:\n",
        "    \"\"\"Extract model parameters as a list of NumPy arrays.\"\"\"\n",
        "    return [val.cpu().numpy() for _, val in net.state_dict().items()]"
      ]
    },
    {
      "cell_type": "markdown",
      "source": [
        "## FlowerClient"
      ],
      "metadata": {
        "id": "ItO_cOnewf93"
      }
    },
    {
      "cell_type": "code",
      "source": [
        "class FlowerClient(NumPyClient):\n",
        "    def __init__(self, pid, net, trainloader, valloader):\n",
        "        self.pid = pid  # partition ID of a client\n",
        "        self.net = net\n",
        "        self.trainloader = trainloader\n",
        "        self.valloader = valloader\n",
        "\n",
        "    def get_parameters(self, config):\n",
        "        print(f\"[Client {self.pid}] get_parameters\")\n",
        "        return get_parameters(self.net)\n",
        "\n",
        "    def fit(self, parameters, config):\n",
        "        # Read values from config\n",
        "        server_round = config[\"server_round\"]\n",
        "        local_epochs = config[\"local_epochs\"]\n",
        "\n",
        "        # Use values provided by the config\n",
        "        print(f\"[Client {self.pid}, round {server_round}] fit, config: {config}\")\n",
        "        set_parameters(self.net, parameters)\n",
        "\n",
        "        optim = torch.optim.SGD(self.net.parameters(), lr=0.01, momentum=0.9)\n",
        "        train(self.net, self.trainloader,optim , epochs=local_epochs)\n",
        "#============================================================================================\n",
        "        # model_filename = f\"federated_model_{server_round}.pth\"\n",
        "        # torch.save(net.state_dict(), model_filename)\n",
        "        # print(f\"Model saved as {model_filename}\")\n",
        "#============================================================================================\n",
        "        return get_parameters(self.net), len(self.trainloader), {}\n",
        "\n",
        "    def evaluate(self, parameters, config):\n",
        "\n",
        "        print(f\"[Client {self.pid}] evaluate, config: {config}\")\n",
        "        set_parameters(self.net, parameters)\n",
        "\n",
        "        loss, accuracy = test(self.net, self.valloader)\n",
        "\n",
        "\n",
        "\n",
        "        return float(loss), len(self.valloader), {\"accuracy\": float(accuracy)}\n",
        "\n",
        "\n",
        "def client_fn(context: Context) -> Client:\n",
        "\n",
        "    net = Net().to(DEVICE)\n",
        "\n",
        "    partition_id = context.node_config[\"partition-id\"]\n",
        "    num_partitions = context.node_config[\"num-partitions\"]\n",
        "\n",
        "    trainloader, valloader, _ = load_datasets(partition_id, num_partitions)\n",
        "\n",
        "    # print(f\"FlowerClient is created\")\n",
        "    return FlowerClient(partition_id, net, trainloader, valloader).to_client()\n",
        "\n",
        "\n",
        "# Create the ClientApp\n",
        "client = ClientApp(client_fn=client_fn)"
      ],
      "metadata": {
        "id": "QPIbdYyUwes4"
      },
      "execution_count": 11,
      "outputs": []
    },
    {
      "cell_type": "markdown",
      "source": [
        "## Agregation Function"
      ],
      "metadata": {
        "id": "qspNHaEtwH6d"
      }
    },
    {
      "cell_type": "code",
      "source": [
        "def weighted_average(metrics: List[Tuple[int, Metrics]]) -> Metrics:\n",
        "    # Multiply accuracy of each client by number of examples used\n",
        "    accuracies = [num_examples * m[\"accuracy\"] for num_examples, m in metrics]\n",
        "    examples = [num_examples for num_examples, _ in metrics]\n",
        "\n",
        "    # Aggregate and return custom metric (weighted average)\n",
        "    return {\"accuracy\": sum(accuracies) / sum(examples)}"
      ],
      "metadata": {
        "id": "m1B4l0UqwHWd"
      },
      "execution_count": 12,
      "outputs": []
    },
    {
      "cell_type": "code",
      "source": [
        "Agregation_history = []\n",
        "\n",
        "def My_weighted_average(metrics: List[Tuple[int, Metrics]]) -> Metrics:\n",
        "\n",
        "    accuracies = [num_examples * m[\"accuracy\"] for num_examples, m in metrics]\n",
        "    losses = [num_examples * m.get(\"loss\", 0.0) for num_examples, m in metrics]\n",
        "    examples = [num_examples for num_examples, _ in metrics]\n",
        "\n",
        "    accuracy = sum(accuracies) / sum(examples)\n",
        "    loss = sum(losses) / sum(examples)\n",
        "\n",
        "    # Save metrics to history\n",
        "    Agregation_history.append({\n",
        "        # \"round\": server_round,\n",
        "        \"loss\": loss,\n",
        "        \"accuracy\": accuracy\n",
        "    })\n",
        "\n",
        "    print(f\"My_weighted_average -{accuracy} {loss} \")\n",
        "\n",
        "    return {\"accuracy\": accuracy, \"loss\": loss}"
      ],
      "metadata": {
        "id": "WqzWwkJoneTK"
      },
      "execution_count": 13,
      "outputs": []
    },
    {
      "cell_type": "markdown",
      "source": [
        "## Server Evaluate metrics aggregation fn"
      ],
      "metadata": {
        "id": "knQUJf_4wxeh"
      }
    },
    {
      "cell_type": "code",
      "source": [
        "# The `evaluate` function will be called by Flower after every round\n",
        "def evaluate(\n",
        "    server_round: int,\n",
        "    parameters: NDArrays,\n",
        "    config: Dict[str, Scalar],\n",
        ") -> Optional[Tuple[float, Dict[str, Scalar]]]:\n",
        "\n",
        "    net = Net().to(DEVICE)\n",
        "\n",
        "    _, _, testloader = load_datasets(0, NUM_CLIENTS)\n",
        "\n",
        "    set_parameters(net, parameters)  # Update model with the latest parameters\n",
        "\n",
        "    loss, accuracy = test(net, testloader)\n",
        "\n",
        "    print(f\"Server-side evaluation loss {loss} / accuracy {accuracy}\")\n",
        "\n",
        "    return loss, {\"server_round\": server_round, \"accuracy\": accuracy, \"loss\": loss}"
      ],
      "metadata": {
        "id": "--YKr9xWwulZ"
      },
      "execution_count": 14,
      "outputs": []
    },
    {
      "cell_type": "code",
      "source": [
        "evaluation_history = []\n",
        "\n",
        "def My_evaluate(\n",
        "    server_round: int,\n",
        "    parameters: NDArrays,\n",
        "    config: Dict[str, Scalar],\n",
        ") -> Optional[Tuple[float, Dict[str, Scalar]]]:\n",
        "\n",
        "    net = Net().to(DEVICE)\n",
        "\n",
        "    _, _, testloader = load_datasets(0, NUM_CLIENTS)\n",
        "\n",
        "    set_parameters(net, parameters)  # Update model with the latest parameters\n",
        "\n",
        "    loss, accuracy = test(net, testloader)\n",
        "\n",
        "    print(f\"Server-side evaluation loss {loss} / accuracy {accuracy}\")\n",
        "\n",
        "    # Save metrics to history\n",
        "    evaluation_history.append({\n",
        "        \"round\": server_round,\n",
        "        \"loss\": loss,\n",
        "        \"accuracy\": accuracy\n",
        "    })\n",
        "\n",
        "    model_filename = f\"federated_model_{server_round}.pth\"\n",
        "    torch.save(net.state_dict(), model_filename)\n",
        "    print(f\"Model saved as {model_filename}\")\n",
        "\n",
        "    return loss, {\"accuracy\": accuracy}\n"
      ],
      "metadata": {
        "id": "7iOysmhM4xkn"
      },
      "execution_count": 15,
      "outputs": []
    },
    {
      "cell_type": "markdown",
      "source": [
        "## Server Fn Strategy"
      ],
      "metadata": {
        "id": "q8a-4OUwuUlj"
      }
    },
    {
      "cell_type": "code",
      "source": [
        "def fit_config(server_round: int):\n",
        "    config = {\n",
        "        \"server_round\": server_round,  # The current round of federated learning\n",
        "        \"local_epochs\": 1 ,\n",
        "    }\n",
        "    return config"
      ],
      "metadata": {
        "id": "ovdO-TbMsmJN"
      },
      "execution_count": 16,
      "outputs": []
    },
    {
      "cell_type": "code",
      "source": [
        "NUM_CLIENTS = 100"
      ],
      "metadata": {
        "id": "0Yik1laByNMB"
      },
      "execution_count": 17,
      "outputs": []
    },
    {
      "cell_type": "code",
      "source": [
        "strategy_3 = FedAdagrad(\n",
        "        fraction_fit=0.3,\n",
        "        fraction_evaluate=0.3,\n",
        "        min_fit_clients=3,\n",
        "        min_evaluate_clients=3,\n",
        "        min_available_clients=NUM_CLIENTS,\n",
        "        initial_parameters=ndarrays_to_parameters(get_parameters(net)),\n",
        "    )"
      ],
      "metadata": {
        "id": "3geNiPA9xzfG"
      },
      "execution_count": 18,
      "outputs": []
    },
    {
      "cell_type": "code",
      "source": [
        "NUM_ROUNDS = 10"
      ],
      "metadata": {
        "id": "Ql8afg82ugnE"
      },
      "execution_count": 19,
      "outputs": []
    },
    {
      "cell_type": "code",
      "source": [
        "params = get_parameters(Net())"
      ],
      "metadata": {
        "id": "k3DpUzwDrmEo"
      },
      "execution_count": 20,
      "outputs": []
    },
    {
      "cell_type": "code",
      "source": [
        "def server_fn(context: Context) -> ServerAppComponents:\n",
        "    # Create FedAvg strategy\n",
        "    strategy = FedAvg(\n",
        "        fraction_fit  = 1,\n",
        "        fraction_evaluate = 1,\n",
        "        min_fit_clients  =  5,\n",
        "        min_evaluate_clients  = 2,\n",
        "        min_available_clients = NUM_CLIENTS, # use all\n",
        "        evaluate_fn = My_evaluate, # function used for validation dy server\n",
        "        on_fit_config_fn  = fit_config,  # Pass the fit_config function\n",
        "        # on_evaluate_config_fn,\n",
        "        # accept_failures,\n",
        "        initial_parameters  = ndarrays_to_parameters(params),\n",
        "        evaluate_metrics_aggregation_fn =  My_weighted_average,\n",
        "        # inplace,\n",
        "    )\n",
        "\n",
        "    config = ServerConfig(num_rounds = NUM_ROUNDS)\n",
        "\n",
        "    return ServerAppComponents(strategy=strategy, config = config)\n",
        "\n",
        "\n",
        "# Create the ServerApp\n",
        "server = ServerApp(server_fn=server_fn)"
      ],
      "metadata": {
        "id": "qVXUWwcCr_8-"
      },
      "execution_count": 21,
      "outputs": []
    },
    {
      "cell_type": "markdown",
      "source": [
        "## RUN\n"
      ],
      "metadata": {
        "id": "Wuh15neYr-Lu"
      }
    },
    {
      "cell_type": "code",
      "source": [
        "backend_config = {\"client_resources\": {\"num_cpus\": 1, \"num_gpus\": 0.0}}\n",
        "\n",
        "run_simulation(\n",
        "    server_app=server,\n",
        "    client_app=client,\n",
        "    num_supernodes=NUM_CLIENTS,\n",
        "    backend_config=backend_config,\n",
        ")"
      ],
      "metadata": {
        "colab": {
          "base_uri": "https://localhost:8080/"
        },
        "collapsed": true,
        "id": "JkRK4CULr9r9",
        "outputId": "d5d3d953-df0e-4d80-f1bb-722cc20371cb"
      },
      "execution_count": 22,
      "outputs": [
        {
          "metadata": {
            "tags": null
          },
          "name": "stderr",
          "output_type": "stream",
          "text": [
            "DEBUG:flwr:Asyncio event loop already running.\n",
            "\u001b[92mINFO \u001b[0m:      Starting Flower ServerApp, config: num_rounds=10, no round_timeout\n",
            "\u001b[92mINFO \u001b[0m:      \n",
            "\u001b[92mINFO \u001b[0m:      [INIT]\n",
            "\u001b[92mINFO \u001b[0m:      Using initial global parameters provided by strategy\n",
            "\u001b[92mINFO \u001b[0m:      Starting evaluation of initial global parameters\n",
            "/usr/lib/python3.10/subprocess.py:1796: RuntimeWarning: os.fork() was called. os.fork() is incompatible with multithreaded code, and JAX is multithreaded, so this will likely lead to a deadlock.\n",
            "  self.pid = _posixsubprocess.fork_exec(\n",
            "/usr/lib/python3.10/subprocess.py:1796: RuntimeWarning: os.fork() was called. os.fork() is incompatible with multithreaded code, and JAX is multithreaded, so this will likely lead to a deadlock.\n",
            "  self.pid = _posixsubprocess.fork_exec(\n",
            "\u001b[36m(pid=1218)\u001b[0m 2024-11-18 16:58:19.332008: E external/local_xla/xla/stream_executor/cuda/cuda_fft.cc:485] Unable to register cuFFT factory: Attempting to register factory for plugin cuFFT when one has already been registered\n",
            "\u001b[36m(pid=1218)\u001b[0m 2024-11-18 16:58:19.389761: E external/local_xla/xla/stream_executor/cuda/cuda_dnn.cc:8454] Unable to register cuDNN factory: Attempting to register factory for plugin cuDNN when one has already been registered\n",
            "\u001b[36m(pid=1218)\u001b[0m 2024-11-18 16:58:19.401470: E external/local_xla/xla/stream_executor/cuda/cuda_blas.cc:1452] Unable to register cuBLAS factory: Attempting to register factory for plugin cuBLAS when one has already been registered\n",
            "\u001b[92mINFO \u001b[0m:      initial parameters (loss, other metrics): 0.0721886756658554, {'accuracy': 0.0987}\n",
            "\u001b[92mINFO \u001b[0m:      \n",
            "\u001b[92mINFO \u001b[0m:      [ROUND 1]\n",
            "\u001b[92mINFO \u001b[0m:      configure_fit: strategy sampled 100 clients (out of 100)\n"
          ]
        },
        {
          "metadata": {
            "tags": null
          },
          "name": "stdout",
          "output_type": "stream",
          "text": [
            "Server-side evaluation loss 0.0721886756658554 / accuracy 0.0987\n",
            "Model saved as federated_model_0.pth\n"
          ]
        },
        {
          "metadata": {
            "tags": null
          },
          "name": "stderr",
          "output_type": "stream",
          "text": [
            "\u001b[36m(pid=1218)\u001b[0m 2024-11-18 16:58:23.224595: W tensorflow/compiler/tf2tensorrt/utils/py_utils.cc:38] TF-TRT Warning: Could not find TensorRT\n",
            "\u001b[36m(ClientAppActor pid=1218)\u001b[0m /usr/local/lib/python3.10/dist-packages/jupyter_client/connect.py:28: DeprecationWarning: Jupyter is migrating its paths to use standard platformdirs\n",
            "\u001b[36m(ClientAppActor pid=1218)\u001b[0m given by the platformdirs library.  To remove this warning and\n",
            "\u001b[36m(ClientAppActor pid=1218)\u001b[0m see the appropriate new directories, set the environment variable\n",
            "\u001b[36m(ClientAppActor pid=1218)\u001b[0m `JUPYTER_PLATFORM_DIRS=1` and then run `jupyter --paths`.\n",
            "\u001b[36m(ClientAppActor pid=1218)\u001b[0m The use of platformdirs will be the default in `jupyter_core` v6\n",
            "\u001b[36m(ClientAppActor pid=1218)\u001b[0m   from jupyter_core.paths import jupyter_data_dir, jupyter_runtime_dir, secure_write\n",
            "\u001b[36m(pid=1217)\u001b[0m 2024-11-18 16:58:20.005213: E external/local_xla/xla/stream_executor/cuda/cuda_fft.cc:485] Unable to register cuFFT factory: Attempting to register factory for plugin cuFFT when one has already been registered\n",
            "\u001b[36m(pid=1217)\u001b[0m 2024-11-18 16:58:20.059467: E external/local_xla/xla/stream_executor/cuda/cuda_dnn.cc:8454] Unable to register cuDNN factory: Attempting to register factory for plugin cuDNN when one has already been registered\n",
            "\u001b[36m(pid=1217)\u001b[0m 2024-11-18 16:58:20.071559: E external/local_xla/xla/stream_executor/cuda/cuda_blas.cc:1452] Unable to register cuBLAS factory: Attempting to register factory for plugin cuBLAS when one has already been registered\n",
            "\u001b[36m(pid=1217)\u001b[0m 2024-11-18 16:58:23.506528: W tensorflow/compiler/tf2tensorrt/utils/py_utils.cc:38] TF-TRT Warning: Could not find TensorRT\n"
          ]
        },
        {
          "metadata": {
            "tags": null
          },
          "name": "stdout",
          "output_type": "stream",
          "text": [
            "\u001b[36m(ClientAppActor pid=1218)\u001b[0m [Client 7, round 1] fit, config: {'server_round': 1, 'local_epochs': 1}\n",
            "\u001b[36m(ClientAppActor pid=1217)\u001b[0m [Client 83, round 1] fit, config: {'server_round': 1, 'local_epochs': 1}\u001b[32m [repeated 3x across cluster] (Ray deduplicates logs by default. Set RAY_DEDUP_LOGS=0 to disable log deduplication, or see https://docs.ray.io/en/master/ray-observability/ray-logging.html#log-deduplication for more options.)\u001b[0m\n",
            "\u001b[36m(ClientAppActor pid=1218)\u001b[0m [Client 13, round 1] fit, config: {'server_round': 1, 'local_epochs': 1}\u001b[32m [repeated 3x across cluster]\u001b[0m\n",
            "\u001b[36m(ClientAppActor pid=1218)\u001b[0m [Client 88, round 1] fit, config: {'server_round': 1, 'local_epochs': 1}\u001b[32m [repeated 4x across cluster]\u001b[0m\n",
            "\u001b[36m(ClientAppActor pid=1218)\u001b[0m [Client 66, round 1] fit, config: {'server_round': 1, 'local_epochs': 1}\u001b[32m [repeated 4x across cluster]\u001b[0m\n",
            "\u001b[36m(ClientAppActor pid=1218)\u001b[0m [Client 41, round 1] fit, config: {'server_round': 1, 'local_epochs': 1}\u001b[32m [repeated 4x across cluster]\u001b[0m\n",
            "\u001b[36m(ClientAppActor pid=1218)\u001b[0m [Client 55, round 1] fit, config: {'server_round': 1, 'local_epochs': 1}\u001b[32m [repeated 4x across cluster]\u001b[0m\n",
            "\u001b[36m(ClientAppActor pid=1218)\u001b[0m [Client 6, round 1] fit, config: {'server_round': 1, 'local_epochs': 1}\u001b[32m [repeated 4x across cluster]\u001b[0m\n",
            "\u001b[36m(ClientAppActor pid=1218)\u001b[0m [Client 14, round 1] fit, config: {'server_round': 1, 'local_epochs': 1}\u001b[32m [repeated 4x across cluster]\u001b[0m\n",
            "\u001b[36m(ClientAppActor pid=1218)\u001b[0m [Client 34, round 1] fit, config: {'server_round': 1, 'local_epochs': 1}\u001b[32m [repeated 4x across cluster]\u001b[0m\n",
            "\u001b[36m(ClientAppActor pid=1217)\u001b[0m [Client 9, round 1] fit, config: {'server_round': 1, 'local_epochs': 1}\u001b[32m [repeated 3x across cluster]\u001b[0m\n",
            "\u001b[36m(ClientAppActor pid=1218)\u001b[0m [Client 98, round 1] fit, config: {'server_round': 1, 'local_epochs': 1}\u001b[32m [repeated 3x across cluster]\u001b[0m\n",
            "\u001b[36m(ClientAppActor pid=1217)\u001b[0m [Client 69, round 1] fit, config: {'server_round': 1, 'local_epochs': 1}\u001b[32m [repeated 3x across cluster]\u001b[0m\n",
            "\u001b[36m(ClientAppActor pid=1218)\u001b[0m [Client 99, round 1] fit, config: {'server_round': 1, 'local_epochs': 1}\u001b[32m [repeated 3x across cluster]\u001b[0m\n",
            "\u001b[36m(ClientAppActor pid=1217)\u001b[0m [Client 52, round 1] fit, config: {'server_round': 1, 'local_epochs': 1}\u001b[32m [repeated 3x across cluster]\u001b[0m\n",
            "\u001b[36m(ClientAppActor pid=1218)\u001b[0m [Client 27, round 1] fit, config: {'server_round': 1, 'local_epochs': 1}\u001b[32m [repeated 3x across cluster]\u001b[0m\n",
            "\u001b[36m(ClientAppActor pid=1217)\u001b[0m [Client 31, round 1] fit, config: {'server_round': 1, 'local_epochs': 1}\u001b[32m [repeated 3x across cluster]\u001b[0m\n",
            "\u001b[36m(ClientAppActor pid=1218)\u001b[0m [Client 11, round 1] fit, config: {'server_round': 1, 'local_epochs': 1}\u001b[32m [repeated 3x across cluster]\u001b[0m\n",
            "\u001b[36m(ClientAppActor pid=1217)\u001b[0m [Client 32, round 1] fit, config: {'server_round': 1, 'local_epochs': 1}\u001b[32m [repeated 3x across cluster]\u001b[0m\n",
            "\u001b[36m(ClientAppActor pid=1218)\u001b[0m [Client 24, round 1] fit, config: {'server_round': 1, 'local_epochs': 1}\u001b[32m [repeated 3x across cluster]\u001b[0m\n",
            "\u001b[36m(ClientAppActor pid=1218)\u001b[0m [Client 22, round 1] fit, config: {'server_round': 1, 'local_epochs': 1}\u001b[32m [repeated 4x across cluster]\u001b[0m\n",
            "\u001b[36m(ClientAppActor pid=1218)\u001b[0m [Client 63, round 1] fit, config: {'server_round': 1, 'local_epochs': 1}\u001b[32m [repeated 4x across cluster]\u001b[0m\n",
            "\u001b[36m(ClientAppActor pid=1217)\u001b[0m [Client 62, round 1] fit, config: {'server_round': 1, 'local_epochs': 1}\u001b[32m [repeated 3x across cluster]\u001b[0m\n",
            "\u001b[36m(ClientAppActor pid=1218)\u001b[0m [Client 1, round 1] fit, config: {'server_round': 1, 'local_epochs': 1}\u001b[32m [repeated 3x across cluster]\u001b[0m\n",
            "\u001b[36m(ClientAppActor pid=1218)\u001b[0m [Client 49, round 1] fit, config: {'server_round': 1, 'local_epochs': 1}\u001b[32m [repeated 4x across cluster]\u001b[0m\n",
            "\u001b[36m(ClientAppActor pid=1218)\u001b[0m [Client 68, round 1] fit, config: {'server_round': 1, 'local_epochs': 1}\u001b[32m [repeated 4x across cluster]\u001b[0m\n",
            "\u001b[36m(ClientAppActor pid=1218)\u001b[0m [Client 30, round 1] fit, config: {'server_round': 1, 'local_epochs': 1}\u001b[32m [repeated 4x across cluster]\u001b[0m\n",
            "\u001b[36m(ClientAppActor pid=1217)\u001b[0m [Client 94, round 1] fit, config: {'server_round': 1, 'local_epochs': 1}\u001b[32m [repeated 3x across cluster]\u001b[0m\n",
            "\u001b[36m(ClientAppActor pid=1218)\u001b[0m [Client 65, round 1] fit, config: {'server_round': 1, 'local_epochs': 1}\u001b[32m [repeated 3x across cluster]\u001b[0m\n",
            "\u001b[36m(ClientAppActor pid=1217)\u001b[0m [Client 15, round 1] fit, config: {'server_round': 1, 'local_epochs': 1}\u001b[32m [repeated 3x across cluster]\u001b[0m\n"
          ]
        },
        {
          "metadata": {
            "tags": null
          },
          "name": "stderr",
          "output_type": "stream",
          "text": [
            "\u001b[92mINFO \u001b[0m:      aggregate_fit: received 100 results and 0 failures\n",
            "\u001b[93mWARNING \u001b[0m:   No fit_metrics_aggregation_fn provided\n",
            "\u001b[92mINFO \u001b[0m:      fit progress: (1, 0.07172676692008972, {'accuracy': 0.1394}, 232.256595393)\n",
            "\u001b[92mINFO \u001b[0m:      configure_evaluate: strategy sampled 100 clients (out of 100)\n"
          ]
        },
        {
          "metadata": {
            "tags": null
          },
          "name": "stdout",
          "output_type": "stream",
          "text": [
            "Server-side evaluation loss 0.07172676692008972 / accuracy 0.1394\n",
            "Model saved as federated_model_1.pth\n",
            "\u001b[36m(ClientAppActor pid=1218)\u001b[0m [Client 26] evaluate, config: {}\n",
            "\u001b[36m(ClientAppActor pid=1218)\u001b[0m [Client 75] evaluate, config: {}\u001b[32m [repeated 4x across cluster]\u001b[0m\n",
            "\u001b[36m(ClientAppActor pid=1218)\u001b[0m [Client 77] evaluate, config: {}\u001b[32m [repeated 4x across cluster]\u001b[0m\n",
            "\u001b[36m(ClientAppActor pid=1218)\u001b[0m [Client 41] evaluate, config: {}\u001b[32m [repeated 4x across cluster]\u001b[0m\n",
            "\u001b[36m(ClientAppActor pid=1218)\u001b[0m [Client 50] evaluate, config: {}\u001b[32m [repeated 4x across cluster]\u001b[0m\n",
            "\u001b[36m(ClientAppActor pid=1218)\u001b[0m [Client 54] evaluate, config: {}\u001b[32m [repeated 4x across cluster]\u001b[0m\n",
            "\u001b[36m(ClientAppActor pid=1218)\u001b[0m [Client 91] evaluate, config: {}\u001b[32m [repeated 4x across cluster]\u001b[0m\n",
            "\u001b[36m(ClientAppActor pid=1218)\u001b[0m [Client 27] evaluate, config: {}\u001b[32m [repeated 4x across cluster]\u001b[0m\n",
            "\u001b[36m(ClientAppActor pid=1218)\u001b[0m [Client 12] evaluate, config: {}\u001b[32m [repeated 4x across cluster]\u001b[0m\n",
            "\u001b[36m(ClientAppActor pid=1218)\u001b[0m [Client 7] evaluate, config: {}\u001b[32m [repeated 4x across cluster]\u001b[0m\n",
            "\u001b[36m(ClientAppActor pid=1218)\u001b[0m [Client 57] evaluate, config: {}\u001b[32m [repeated 4x across cluster]\u001b[0m\n",
            "\u001b[36m(ClientAppActor pid=1218)\u001b[0m [Client 13] evaluate, config: {}\u001b[32m [repeated 4x across cluster]\u001b[0m\n",
            "\u001b[36m(ClientAppActor pid=1217)\u001b[0m [Client 88] evaluate, config: {}\u001b[32m [repeated 4x across cluster]\u001b[0m\n",
            "\u001b[36m(ClientAppActor pid=1217)\u001b[0m [Client 69] evaluate, config: {}\u001b[32m [repeated 4x across cluster]\u001b[0m\n",
            "\u001b[36m(ClientAppActor pid=1218)\u001b[0m [Client 97] evaluate, config: {}\u001b[32m [repeated 4x across cluster]\u001b[0m\n",
            "\u001b[36m(ClientAppActor pid=1218)\u001b[0m [Client 1] evaluate, config: {}\u001b[32m [repeated 4x across cluster]\u001b[0m\n",
            "\u001b[36m(ClientAppActor pid=1217)\u001b[0m [Client 45] evaluate, config: {}\u001b[32m [repeated 4x across cluster]\u001b[0m\n",
            "\u001b[36m(ClientAppActor pid=1217)\u001b[0m [Client 49] evaluate, config: {}\u001b[32m [repeated 4x across cluster]\u001b[0m\n",
            "\u001b[36m(ClientAppActor pid=1217)\u001b[0m [Client 60] evaluate, config: {}\u001b[32m [repeated 4x across cluster]\u001b[0m\n",
            "\u001b[36m(ClientAppActor pid=1218)\u001b[0m [Client 30] evaluate, config: {}\u001b[32m [repeated 3x across cluster]\u001b[0m\n",
            "\u001b[36m(ClientAppActor pid=1218)\u001b[0m [Client 67] evaluate, config: {}\u001b[32m [repeated 3x across cluster]\u001b[0m\n",
            "\u001b[36m(ClientAppActor pid=1217)\u001b[0m [Client 46] evaluate, config: {}\u001b[32m [repeated 4x across cluster]\u001b[0m\n",
            "\u001b[36m(ClientAppActor pid=1217)\u001b[0m [Client 42] evaluate, config: {}\u001b[32m [repeated 4x across cluster]\u001b[0m\n",
            "\u001b[36m(ClientAppActor pid=1218)\u001b[0m [Client 94] evaluate, config: {}\u001b[32m [repeated 4x across cluster]\u001b[0m\n",
            "\u001b[36m(ClientAppActor pid=1218)\u001b[0m [Client 4] evaluate, config: {}\u001b[32m [repeated 4x across cluster]\u001b[0m\n",
            "\u001b[36m(ClientAppActor pid=1218)\u001b[0m [Client 14] evaluate, config: {}\u001b[32m [repeated 4x across cluster]\u001b[0m\n"
          ]
        },
        {
          "metadata": {
            "tags": null
          },
          "name": "stderr",
          "output_type": "stream",
          "text": [
            "\u001b[92mINFO \u001b[0m:      aggregate_evaluate: received 100 results and 0 failures\n",
            "\u001b[92mINFO \u001b[0m:      \n",
            "\u001b[92mINFO \u001b[0m:      [ROUND 2]\n",
            "\u001b[92mINFO \u001b[0m:      configure_fit: strategy sampled 100 clients (out of 100)\n"
          ]
        },
        {
          "metadata": {
            "tags": null
          },
          "name": "stdout",
          "output_type": "stream",
          "text": [
            "My_weighted_average -0.1394166666666667 0.0 \n",
            "\u001b[36m(ClientAppActor pid=1217)\u001b[0m [Client 0, round 2] fit, config: {'server_round': 2, 'local_epochs': 1}\n",
            "\u001b[36m(ClientAppActor pid=1217)\u001b[0m [Client 8] evaluate, config: {}\n",
            "\u001b[36m(ClientAppActor pid=1218)\u001b[0m [Client 90, round 2] fit, config: {'server_round': 2, 'local_epochs': 1}\u001b[32m [repeated 4x across cluster]\u001b[0m\n",
            "\u001b[36m(ClientAppActor pid=1218)\u001b[0m [Client 96, round 2] fit, config: {'server_round': 2, 'local_epochs': 1}\u001b[32m [repeated 4x across cluster]\u001b[0m\n",
            "\u001b[36m(ClientAppActor pid=1218)\u001b[0m [Client 56, round 2] fit, config: {'server_round': 2, 'local_epochs': 1}\u001b[32m [repeated 4x across cluster]\u001b[0m\n",
            "\u001b[36m(ClientAppActor pid=1217)\u001b[0m [Client 88, round 2] fit, config: {'server_round': 2, 'local_epochs': 1}\u001b[32m [repeated 4x across cluster]\u001b[0m\n",
            "\u001b[36m(ClientAppActor pid=1217)\u001b[0m [Client 1, round 2] fit, config: {'server_round': 2, 'local_epochs': 1}\u001b[32m [repeated 4x across cluster]\u001b[0m\n",
            "\u001b[36m(ClientAppActor pid=1217)\u001b[0m [Client 74, round 2] fit, config: {'server_round': 2, 'local_epochs': 1}\u001b[32m [repeated 4x across cluster]\u001b[0m\n",
            "\u001b[36m(ClientAppActor pid=1218)\u001b[0m [Client 64, round 2] fit, config: {'server_round': 2, 'local_epochs': 1}\u001b[32m [repeated 3x across cluster]\u001b[0m\n",
            "\u001b[36m(ClientAppActor pid=1217)\u001b[0m [Client 5, round 2] fit, config: {'server_round': 2, 'local_epochs': 1}\u001b[32m [repeated 3x across cluster]\u001b[0m\n",
            "\u001b[36m(ClientAppActor pid=1217)\u001b[0m [Client 34, round 2] fit, config: {'server_round': 2, 'local_epochs': 1}\u001b[32m [repeated 4x across cluster]\u001b[0m\n",
            "\u001b[36m(ClientAppActor pid=1218)\u001b[0m [Client 68, round 2] fit, config: {'server_round': 2, 'local_epochs': 1}\u001b[32m [repeated 3x across cluster]\u001b[0m\n",
            "\u001b[36m(ClientAppActor pid=1217)\u001b[0m [Client 24, round 2] fit, config: {'server_round': 2, 'local_epochs': 1}\u001b[32m [repeated 3x across cluster]\u001b[0m\n",
            "\u001b[36m(ClientAppActor pid=1218)\u001b[0m [Client 2, round 2] fit, config: {'server_round': 2, 'local_epochs': 1}\u001b[32m [repeated 3x across cluster]\u001b[0m\n",
            "\u001b[36m(ClientAppActor pid=1217)\u001b[0m [Client 44, round 2] fit, config: {'server_round': 2, 'local_epochs': 1}\u001b[32m [repeated 3x across cluster]\u001b[0m\n",
            "\u001b[36m(ClientAppActor pid=1218)\u001b[0m [Client 20, round 2] fit, config: {'server_round': 2, 'local_epochs': 1}\u001b[32m [repeated 3x across cluster]\u001b[0m\n",
            "\u001b[36m(ClientAppActor pid=1217)\u001b[0m [Client 25, round 2] fit, config: {'server_round': 2, 'local_epochs': 1}\u001b[32m [repeated 3x across cluster]\u001b[0m\n",
            "\u001b[36m(ClientAppActor pid=1218)\u001b[0m [Client 15, round 2] fit, config: {'server_round': 2, 'local_epochs': 1}\u001b[32m [repeated 3x across cluster]\u001b[0m\n",
            "\u001b[36m(ClientAppActor pid=1217)\u001b[0m [Client 53, round 2] fit, config: {'server_round': 2, 'local_epochs': 1}\u001b[32m [repeated 3x across cluster]\u001b[0m\n",
            "\u001b[36m(ClientAppActor pid=1218)\u001b[0m [Client 94, round 2] fit, config: {'server_round': 2, 'local_epochs': 1}\u001b[32m [repeated 3x across cluster]\u001b[0m\n",
            "\u001b[36m(ClientAppActor pid=1217)\u001b[0m [Client 11, round 2] fit, config: {'server_round': 2, 'local_epochs': 1}\u001b[32m [repeated 3x across cluster]\u001b[0m\n",
            "\u001b[36m(ClientAppActor pid=1218)\u001b[0m [Client 72, round 2] fit, config: {'server_round': 2, 'local_epochs': 1}\u001b[32m [repeated 3x across cluster]\u001b[0m\n",
            "\u001b[36m(ClientAppActor pid=1217)\u001b[0m [Client 95, round 2] fit, config: {'server_round': 2, 'local_epochs': 1}\u001b[32m [repeated 3x across cluster]\u001b[0m\n",
            "\u001b[36m(ClientAppActor pid=1218)\u001b[0m [Client 92, round 2] fit, config: {'server_round': 2, 'local_epochs': 1}\u001b[32m [repeated 3x across cluster]\u001b[0m\n",
            "\u001b[36m(ClientAppActor pid=1217)\u001b[0m [Client 46, round 2] fit, config: {'server_round': 2, 'local_epochs': 1}\u001b[32m [repeated 3x across cluster]\u001b[0m\n",
            "\u001b[36m(ClientAppActor pid=1218)\u001b[0m [Client 52, round 2] fit, config: {'server_round': 2, 'local_epochs': 1}\u001b[32m [repeated 3x across cluster]\u001b[0m\n",
            "\u001b[36m(ClientAppActor pid=1217)\u001b[0m [Client 12, round 2] fit, config: {'server_round': 2, 'local_epochs': 1}\u001b[32m [repeated 3x across cluster]\u001b[0m\n",
            "\u001b[36m(ClientAppActor pid=1218)\u001b[0m [Client 65, round 2] fit, config: {'server_round': 2, 'local_epochs': 1}\u001b[32m [repeated 3x across cluster]\u001b[0m\n",
            "\u001b[36m(ClientAppActor pid=1217)\u001b[0m [Client 76, round 2] fit, config: {'server_round': 2, 'local_epochs': 1}\u001b[32m [repeated 3x across cluster]\u001b[0m\n",
            "\u001b[36m(ClientAppActor pid=1218)\u001b[0m [Client 55, round 2] fit, config: {'server_round': 2, 'local_epochs': 1}\u001b[32m [repeated 3x across cluster]\u001b[0m\n",
            "\u001b[36m(ClientAppActor pid=1217)\u001b[0m [Client 26, round 2] fit, config: {'server_round': 2, 'local_epochs': 1}\u001b[32m [repeated 3x across cluster]\u001b[0m\n",
            "\u001b[36m(ClientAppActor pid=1218)\u001b[0m [Client 6, round 2] fit, config: {'server_round': 2, 'local_epochs': 1}\u001b[32m [repeated 3x across cluster]\u001b[0m\n"
          ]
        },
        {
          "metadata": {
            "tags": null
          },
          "name": "stderr",
          "output_type": "stream",
          "text": [
            "\u001b[92mINFO \u001b[0m:      aggregate_fit: received 100 results and 0 failures\n",
            "\u001b[92mINFO \u001b[0m:      fit progress: (2, 0.07105273990631103, {'accuracy': 0.2093}, 639.3239681329999)\n",
            "\u001b[92mINFO \u001b[0m:      configure_evaluate: strategy sampled 100 clients (out of 100)\n"
          ]
        },
        {
          "metadata": {
            "tags": null
          },
          "name": "stdout",
          "output_type": "stream",
          "text": [
            "Server-side evaluation loss 0.07105273990631103 / accuracy 0.2093\n",
            "Model saved as federated_model_2.pth\n",
            "\u001b[36m(ClientAppActor pid=1218)\u001b[0m [Client 15] evaluate, config: {}\n",
            "\u001b[36m(ClientAppActor pid=1218)\u001b[0m [Client 93, round 2] fit, config: {'server_round': 2, 'local_epochs': 1}\u001b[32m [repeated 2x across cluster]\u001b[0m\n",
            "\u001b[36m(ClientAppActor pid=1218)\u001b[0m [Client 84] evaluate, config: {}\u001b[32m [repeated 4x across cluster]\u001b[0m\n",
            "\u001b[36m(ClientAppActor pid=1217)\u001b[0m [Client 53] evaluate, config: {}\u001b[32m [repeated 4x across cluster]\u001b[0m\n",
            "\u001b[36m(ClientAppActor pid=1218)\u001b[0m [Client 28] evaluate, config: {}\u001b[32m [repeated 4x across cluster]\u001b[0m\n",
            "\u001b[36m(ClientAppActor pid=1217)\u001b[0m [Client 7] evaluate, config: {}\u001b[32m [repeated 4x across cluster]\u001b[0m\n",
            "\u001b[36m(ClientAppActor pid=1217)\u001b[0m [Client 59] evaluate, config: {}\u001b[32m [repeated 4x across cluster]\u001b[0m\n",
            "\u001b[36m(ClientAppActor pid=1217)\u001b[0m [Client 46] evaluate, config: {}\u001b[32m [repeated 4x across cluster]\u001b[0m\n",
            "\u001b[36m(ClientAppActor pid=1218)\u001b[0m [Client 78] evaluate, config: {}\u001b[32m [repeated 4x across cluster]\u001b[0m\n",
            "\u001b[36m(ClientAppActor pid=1217)\u001b[0m [Client 68] evaluate, config: {}\u001b[32m [repeated 4x across cluster]\u001b[0m\n",
            "\u001b[36m(ClientAppActor pid=1218)\u001b[0m [Client 69] evaluate, config: {}\u001b[32m [repeated 3x across cluster]\u001b[0m\n",
            "\u001b[36m(ClientAppActor pid=1217)\u001b[0m [Client 5] evaluate, config: {}\u001b[32m [repeated 3x across cluster]\u001b[0m\n",
            "\u001b[36m(ClientAppActor pid=1217)\u001b[0m [Client 52] evaluate, config: {}\u001b[32m [repeated 4x across cluster]\u001b[0m\n",
            "\u001b[36m(ClientAppActor pid=1218)\u001b[0m [Client 70] evaluate, config: {}\u001b[32m [repeated 4x across cluster]\u001b[0m\n",
            "\u001b[36m(ClientAppActor pid=1218)\u001b[0m [Client 11] evaluate, config: {}\u001b[32m [repeated 4x across cluster]\u001b[0m\n",
            "\u001b[36m(ClientAppActor pid=1218)\u001b[0m [Client 55] evaluate, config: {}\u001b[32m [repeated 4x across cluster]\u001b[0m\n",
            "\u001b[36m(ClientAppActor pid=1218)\u001b[0m [Client 14] evaluate, config: {}\u001b[32m [repeated 4x across cluster]\u001b[0m\n",
            "\u001b[36m(ClientAppActor pid=1218)\u001b[0m [Client 49] evaluate, config: {}\u001b[32m [repeated 4x across cluster]\u001b[0m\n",
            "\u001b[36m(ClientAppActor pid=1217)\u001b[0m [Client 98] evaluate, config: {}\u001b[32m [repeated 4x across cluster]\u001b[0m\n",
            "\u001b[36m(ClientAppActor pid=1217)\u001b[0m [Client 54] evaluate, config: {}\u001b[32m [repeated 4x across cluster]\u001b[0m\n",
            "\u001b[36m(ClientAppActor pid=1217)\u001b[0m [Client 29] evaluate, config: {}\u001b[32m [repeated 4x across cluster]\u001b[0m\n",
            "\u001b[36m(ClientAppActor pid=1217)\u001b[0m [Client 88] evaluate, config: {}\u001b[32m [repeated 4x across cluster]\u001b[0m\n",
            "\u001b[36m(ClientAppActor pid=1217)\u001b[0m [Client 87] evaluate, config: {}\u001b[32m [repeated 4x across cluster]\u001b[0m\n",
            "\u001b[36m(ClientAppActor pid=1217)\u001b[0m [Client 12] evaluate, config: {}\u001b[32m [repeated 4x across cluster]\u001b[0m\n",
            "\u001b[36m(ClientAppActor pid=1217)\u001b[0m [Client 21] evaluate, config: {}\u001b[32m [repeated 4x across cluster]\u001b[0m\n",
            "\u001b[36m(ClientAppActor pid=1217)\u001b[0m [Client 24] evaluate, config: {}\u001b[32m [repeated 4x across cluster]\u001b[0m\n",
            "\u001b[36m(ClientAppActor pid=1217)\u001b[0m [Client 44] evaluate, config: {}\u001b[32m [repeated 4x across cluster]\u001b[0m\n"
          ]
        },
        {
          "metadata": {
            "tags": null
          },
          "name": "stderr",
          "output_type": "stream",
          "text": [
            "\u001b[92mINFO \u001b[0m:      aggregate_evaluate: received 100 results and 0 failures\n",
            "\u001b[92mINFO \u001b[0m:      \n",
            "\u001b[92mINFO \u001b[0m:      [ROUND 3]\n",
            "\u001b[92mINFO \u001b[0m:      configure_fit: strategy sampled 100 clients (out of 100)\n"
          ]
        },
        {
          "metadata": {
            "tags": null
          },
          "name": "stdout",
          "output_type": "stream",
          "text": [
            "My_weighted_average -0.21599999999999986 0.0 \n",
            "\u001b[36m(ClientAppActor pid=1217)\u001b[0m [Client 49, round 3] fit, config: {'server_round': 3, 'local_epochs': 1}\n",
            "\u001b[36m(ClientAppActor pid=1218)\u001b[0m [Client 97] evaluate, config: {}\n",
            "\u001b[36m(ClientAppActor pid=1217)\u001b[0m [Client 77, round 3] fit, config: {'server_round': 3, 'local_epochs': 1}\u001b[32m [repeated 4x across cluster]\u001b[0m\n",
            "\u001b[36m(ClientAppActor pid=1217)\u001b[0m [Client 1, round 3] fit, config: {'server_round': 3, 'local_epochs': 1}\u001b[32m [repeated 4x across cluster]\u001b[0m\n",
            "\u001b[36m(ClientAppActor pid=1217)\u001b[0m [Client 64, round 3] fit, config: {'server_round': 3, 'local_epochs': 1}\u001b[32m [repeated 4x across cluster]\u001b[0m\n",
            "\u001b[36m(ClientAppActor pid=1218)\u001b[0m [Client 74, round 3] fit, config: {'server_round': 3, 'local_epochs': 1}\u001b[32m [repeated 3x across cluster]\u001b[0m\n",
            "\u001b[36m(ClientAppActor pid=1217)\u001b[0m [Client 38, round 3] fit, config: {'server_round': 3, 'local_epochs': 1}\u001b[32m [repeated 3x across cluster]\u001b[0m\n",
            "\u001b[36m(ClientAppActor pid=1217)\u001b[0m [Client 55, round 3] fit, config: {'server_round': 3, 'local_epochs': 1}\u001b[32m [repeated 4x across cluster]\u001b[0m\n",
            "\u001b[36m(ClientAppActor pid=1218)\u001b[0m [Client 21, round 3] fit, config: {'server_round': 3, 'local_epochs': 1}\u001b[32m [repeated 3x across cluster]\u001b[0m\n",
            "\u001b[36m(ClientAppActor pid=1217)\u001b[0m [Client 34, round 3] fit, config: {'server_round': 3, 'local_epochs': 1}\u001b[32m [repeated 3x across cluster]\u001b[0m\n",
            "\u001b[36m(ClientAppActor pid=1218)\u001b[0m [Client 22, round 3] fit, config: {'server_round': 3, 'local_epochs': 1}\u001b[32m [repeated 3x across cluster]\u001b[0m\n",
            "\u001b[36m(ClientAppActor pid=1217)\u001b[0m [Client 0, round 3] fit, config: {'server_round': 3, 'local_epochs': 1}\u001b[32m [repeated 3x across cluster]\u001b[0m\n",
            "\u001b[36m(ClientAppActor pid=1218)\u001b[0m [Client 78, round 3] fit, config: {'server_round': 3, 'local_epochs': 1}\u001b[32m [repeated 3x across cluster]\u001b[0m\n",
            "\u001b[36m(ClientAppActor pid=1217)\u001b[0m [Client 48, round 3] fit, config: {'server_round': 3, 'local_epochs': 1}\u001b[32m [repeated 3x across cluster]\u001b[0m\n",
            "\u001b[36m(ClientAppActor pid=1218)\u001b[0m [Client 6, round 3] fit, config: {'server_round': 3, 'local_epochs': 1}\u001b[32m [repeated 3x across cluster]\u001b[0m\n",
            "\u001b[36m(ClientAppActor pid=1217)\u001b[0m [Client 14, round 3] fit, config: {'server_round': 3, 'local_epochs': 1}\u001b[32m [repeated 3x across cluster]\u001b[0m\n",
            "\u001b[36m(ClientAppActor pid=1217)\u001b[0m [Client 36, round 3] fit, config: {'server_round': 3, 'local_epochs': 1}\u001b[32m [repeated 4x across cluster]\u001b[0m\n",
            "\u001b[36m(ClientAppActor pid=1217)\u001b[0m [Client 63, round 3] fit, config: {'server_round': 3, 'local_epochs': 1}\u001b[32m [repeated 3x across cluster]\u001b[0m\n",
            "\u001b[36m(ClientAppActor pid=1218)\u001b[0m [Client 91, round 3] fit, config: {'server_round': 3, 'local_epochs': 1}\u001b[32m [repeated 3x across cluster]\u001b[0m\n",
            "\u001b[36m(ClientAppActor pid=1217)\u001b[0m [Client 33, round 3] fit, config: {'server_round': 3, 'local_epochs': 1}\u001b[32m [repeated 3x across cluster]\u001b[0m\n",
            "\u001b[36m(ClientAppActor pid=1218)\u001b[0m [Client 71, round 3] fit, config: {'server_round': 3, 'local_epochs': 1}\u001b[32m [repeated 3x across cluster]\u001b[0m\n",
            "\u001b[36m(ClientAppActor pid=1217)\u001b[0m [Client 65, round 3] fit, config: {'server_round': 3, 'local_epochs': 1}\u001b[32m [repeated 3x across cluster]\u001b[0m\n",
            "\u001b[36m(ClientAppActor pid=1218)\u001b[0m [Client 9, round 3] fit, config: {'server_round': 3, 'local_epochs': 1}\u001b[32m [repeated 3x across cluster]\u001b[0m\n",
            "\u001b[36m(ClientAppActor pid=1217)\u001b[0m [Client 93, round 3] fit, config: {'server_round': 3, 'local_epochs': 1}\u001b[32m [repeated 3x across cluster]\u001b[0m\n",
            "\u001b[36m(ClientAppActor pid=1218)\u001b[0m [Client 44, round 3] fit, config: {'server_round': 3, 'local_epochs': 1}\u001b[32m [repeated 3x across cluster]\u001b[0m\n",
            "\u001b[36m(ClientAppActor pid=1217)\u001b[0m [Client 52, round 3] fit, config: {'server_round': 3, 'local_epochs': 1}\u001b[32m [repeated 3x across cluster]\u001b[0m\n",
            "\u001b[36m(ClientAppActor pid=1218)\u001b[0m [Client 4, round 3] fit, config: {'server_round': 3, 'local_epochs': 1}\u001b[32m [repeated 3x across cluster]\u001b[0m\n",
            "\u001b[36m(ClientAppActor pid=1217)\u001b[0m [Client 56, round 3] fit, config: {'server_round': 3, 'local_epochs': 1}\u001b[32m [repeated 3x across cluster]\u001b[0m\n",
            "\u001b[36m(ClientAppActor pid=1218)\u001b[0m [Client 98, round 3] fit, config: {'server_round': 3, 'local_epochs': 1}\u001b[32m [repeated 3x across cluster]\u001b[0m\n",
            "\u001b[36m(ClientAppActor pid=1217)\u001b[0m [Client 57, round 3] fit, config: {'server_round': 3, 'local_epochs': 1}\u001b[32m [repeated 3x across cluster]\u001b[0m\n",
            "\u001b[36m(ClientAppActor pid=1218)\u001b[0m [Client 76, round 3] fit, config: {'server_round': 3, 'local_epochs': 1}\u001b[32m [repeated 3x across cluster]\u001b[0m\n",
            "\u001b[36m(ClientAppActor pid=1217)\u001b[0m [Client 54, round 3] fit, config: {'server_round': 3, 'local_epochs': 1}\u001b[32m [repeated 3x across cluster]\u001b[0m\n",
            "\u001b[36m(ClientAppActor pid=1218)\u001b[0m [Client 10, round 3] fit, config: {'server_round': 3, 'local_epochs': 1}\u001b[32m [repeated 3x across cluster]\u001b[0m\n"
          ]
        },
        {
          "metadata": {
            "tags": null
          },
          "name": "stderr",
          "output_type": "stream",
          "text": [
            "\u001b[92mINFO \u001b[0m:      aggregate_fit: received 100 results and 0 failures\n",
            "\u001b[92mINFO \u001b[0m:      fit progress: (3, 0.06953631930351258, {'accuracy': 0.263}, 1047.023653526)\n",
            "\u001b[92mINFO \u001b[0m:      configure_evaluate: strategy sampled 100 clients (out of 100)\n"
          ]
        },
        {
          "metadata": {
            "tags": null
          },
          "name": "stdout",
          "output_type": "stream",
          "text": [
            "Server-side evaluation loss 0.06953631930351258 / accuracy 0.263\n",
            "Model saved as federated_model_3.pth\n",
            "\u001b[36m(ClientAppActor pid=1218)\u001b[0m [Client 26] evaluate, config: {}\n",
            "\u001b[36m(ClientAppActor pid=1217)\u001b[0m [Client 59, round 3] fit, config: {'server_round': 3, 'local_epochs': 1}\n",
            "\u001b[36m(ClientAppActor pid=1218)\u001b[0m [Client 83] evaluate, config: {}\u001b[32m [repeated 4x across cluster]\u001b[0m\n",
            "\u001b[36m(ClientAppActor pid=1217)\u001b[0m [Client 7] evaluate, config: {}\u001b[32m [repeated 4x across cluster]\u001b[0m\n",
            "\u001b[36m(ClientAppActor pid=1217)\u001b[0m [Client 52] evaluate, config: {}\u001b[32m [repeated 4x across cluster]\u001b[0m\n",
            "\u001b[36m(ClientAppActor pid=1218)\u001b[0m [Client 37] evaluate, config: {}\u001b[32m [repeated 4x across cluster]\u001b[0m\n",
            "\u001b[36m(ClientAppActor pid=1218)\u001b[0m [Client 55] evaluate, config: {}\u001b[32m [repeated 4x across cluster]\u001b[0m\n",
            "\u001b[36m(ClientAppActor pid=1217)\u001b[0m [Client 90] evaluate, config: {}\u001b[32m [repeated 4x across cluster]\u001b[0m\n",
            "\u001b[36m(ClientAppActor pid=1218)\u001b[0m [Client 86] evaluate, config: {}\u001b[32m [repeated 4x across cluster]\u001b[0m\n",
            "\u001b[36m(ClientAppActor pid=1218)\u001b[0m [Client 66] evaluate, config: {}\u001b[32m [repeated 4x across cluster]\u001b[0m\n",
            "\u001b[36m(ClientAppActor pid=1218)\u001b[0m [Client 51] evaluate, config: {}\u001b[32m [repeated 4x across cluster]\u001b[0m\n",
            "\u001b[36m(ClientAppActor pid=1217)\u001b[0m [Client 48] evaluate, config: {}\u001b[32m [repeated 4x across cluster]\u001b[0m\n",
            "\u001b[36m(ClientAppActor pid=1217)\u001b[0m [Client 15] evaluate, config: {}\u001b[32m [repeated 4x across cluster]\u001b[0m\n",
            "\u001b[36m(ClientAppActor pid=1218)\u001b[0m [Client 42] evaluate, config: {}\u001b[32m [repeated 3x across cluster]\u001b[0m\n",
            "\u001b[36m(ClientAppActor pid=1217)\u001b[0m [Client 20] evaluate, config: {}\u001b[32m [repeated 3x across cluster]\u001b[0m\n",
            "\u001b[36m(ClientAppActor pid=1217)\u001b[0m [Client 74] evaluate, config: {}\u001b[32m [repeated 4x across cluster]\u001b[0m\n",
            "\u001b[36m(ClientAppActor pid=1217)\u001b[0m [Client 40] evaluate, config: {}\u001b[32m [repeated 4x across cluster]\u001b[0m\n",
            "\u001b[36m(ClientAppActor pid=1217)\u001b[0m [Client 95] evaluate, config: {}\u001b[32m [repeated 4x across cluster]\u001b[0m\n",
            "\u001b[36m(ClientAppActor pid=1217)\u001b[0m [Client 87] evaluate, config: {}\u001b[32m [repeated 4x across cluster]\u001b[0m\n",
            "\u001b[36m(ClientAppActor pid=1217)\u001b[0m [Client 31] evaluate, config: {}\u001b[32m [repeated 4x across cluster]\u001b[0m\n",
            "\u001b[36m(ClientAppActor pid=1217)\u001b[0m [Client 63] evaluate, config: {}\u001b[32m [repeated 4x across cluster]\u001b[0m\n",
            "\u001b[36m(ClientAppActor pid=1218)\u001b[0m [Client 33] evaluate, config: {}\u001b[32m [repeated 4x across cluster]\u001b[0m\n",
            "\u001b[36m(ClientAppActor pid=1218)\u001b[0m [Client 44] evaluate, config: {}\u001b[32m [repeated 4x across cluster]\u001b[0m\n",
            "\u001b[36m(ClientAppActor pid=1218)\u001b[0m [Client 21] evaluate, config: {}\u001b[32m [repeated 4x across cluster]\u001b[0m\n",
            "\u001b[36m(ClientAppActor pid=1218)\u001b[0m [Client 18] evaluate, config: {}\u001b[32m [repeated 4x across cluster]\u001b[0m\n",
            "\u001b[36m(ClientAppActor pid=1218)\u001b[0m [Client 85] evaluate, config: {}\u001b[32m [repeated 4x across cluster]\u001b[0m\n",
            "\u001b[36m(ClientAppActor pid=1218)\u001b[0m [Client 97] evaluate, config: {}\u001b[32m [repeated 4x across cluster]\u001b[0m\n"
          ]
        },
        {
          "metadata": {
            "tags": null
          },
          "name": "stderr",
          "output_type": "stream",
          "text": [
            "\u001b[92mINFO \u001b[0m:      aggregate_evaluate: received 100 results and 0 failures\n",
            "\u001b[92mINFO \u001b[0m:      \n",
            "\u001b[92mINFO \u001b[0m:      [ROUND 4]\n",
            "\u001b[92mINFO \u001b[0m:      configure_fit: strategy sampled 100 clients (out of 100)\n"
          ]
        },
        {
          "metadata": {
            "tags": null
          },
          "name": "stdout",
          "output_type": "stream",
          "text": [
            "My_weighted_average -0.26541666666666675 0.0 \n",
            "\u001b[36m(ClientAppActor pid=1218)\u001b[0m [Client 44, round 4] fit, config: {'server_round': 4, 'local_epochs': 1}\n",
            "\u001b[36m(ClientAppActor pid=1217)\u001b[0m [Client 23] evaluate, config: {}\n",
            "\u001b[36m(ClientAppActor pid=1218)\u001b[0m [Client 84, round 4] fit, config: {'server_round': 4, 'local_epochs': 1}\u001b[32m [repeated 4x across cluster]\u001b[0m\n",
            "\u001b[36m(ClientAppActor pid=1218)\u001b[0m [Client 36, round 4] fit, config: {'server_round': 4, 'local_epochs': 1}\u001b[32m [repeated 4x across cluster]\u001b[0m\n",
            "\u001b[36m(ClientAppActor pid=1218)\u001b[0m [Client 75, round 4] fit, config: {'server_round': 4, 'local_epochs': 1}\u001b[32m [repeated 4x across cluster]\u001b[0m\n",
            "\u001b[36m(ClientAppActor pid=1218)\u001b[0m [Client 20, round 4] fit, config: {'server_round': 4, 'local_epochs': 1}\u001b[32m [repeated 4x across cluster]\u001b[0m\n",
            "\u001b[36m(ClientAppActor pid=1217)\u001b[0m [Client 34, round 4] fit, config: {'server_round': 4, 'local_epochs': 1}\u001b[32m [repeated 3x across cluster]\u001b[0m\n",
            "\u001b[36m(ClientAppActor pid=1218)\u001b[0m [Client 45, round 4] fit, config: {'server_round': 4, 'local_epochs': 1}\u001b[32m [repeated 3x across cluster]\u001b[0m\n",
            "\u001b[36m(ClientAppActor pid=1217)\u001b[0m [Client 27, round 4] fit, config: {'server_round': 4, 'local_epochs': 1}\u001b[32m [repeated 3x across cluster]\u001b[0m\n",
            "\u001b[36m(ClientAppActor pid=1218)\u001b[0m [Client 78, round 4] fit, config: {'server_round': 4, 'local_epochs': 1}\u001b[32m [repeated 3x across cluster]\u001b[0m\n",
            "\u001b[36m(ClientAppActor pid=1218)\u001b[0m [Client 49, round 4] fit, config: {'server_round': 4, 'local_epochs': 1}\u001b[32m [repeated 4x across cluster]\u001b[0m\n",
            "\u001b[36m(ClientAppActor pid=1218)\u001b[0m [Client 6, round 4] fit, config: {'server_round': 4, 'local_epochs': 1}\u001b[32m [repeated 4x across cluster]\u001b[0m\n",
            "\u001b[36m(ClientAppActor pid=1218)\u001b[0m [Client 73, round 4] fit, config: {'server_round': 4, 'local_epochs': 1}\u001b[32m [repeated 4x across cluster]\u001b[0m\n",
            "\u001b[36m(ClientAppActor pid=1218)\u001b[0m [Client 26, round 4] fit, config: {'server_round': 4, 'local_epochs': 1}\u001b[32m [repeated 4x across cluster]\u001b[0m\n",
            "\u001b[36m(ClientAppActor pid=1218)\u001b[0m [Client 29, round 4] fit, config: {'server_round': 4, 'local_epochs': 1}\u001b[32m [repeated 4x across cluster]\u001b[0m\n",
            "\u001b[36m(ClientAppActor pid=1218)\u001b[0m [Client 67, round 4] fit, config: {'server_round': 4, 'local_epochs': 1}\u001b[32m [repeated 4x across cluster]\u001b[0m\n",
            "\u001b[36m(ClientAppActor pid=1218)\u001b[0m [Client 77, round 4] fit, config: {'server_round': 4, 'local_epochs': 1}\u001b[32m [repeated 4x across cluster]\u001b[0m\n",
            "\u001b[36m(ClientAppActor pid=1218)\u001b[0m [Client 53, round 4] fit, config: {'server_round': 4, 'local_epochs': 1}\u001b[32m [repeated 4x across cluster]\u001b[0m\n",
            "\u001b[36m(ClientAppActor pid=1218)\u001b[0m [Client 76, round 4] fit, config: {'server_round': 4, 'local_epochs': 1}\u001b[32m [repeated 4x across cluster]\u001b[0m\n",
            "\u001b[36m(ClientAppActor pid=1217)\u001b[0m [Client 60, round 4] fit, config: {'server_round': 4, 'local_epochs': 1}\u001b[32m [repeated 3x across cluster]\u001b[0m\n",
            "\u001b[36m(ClientAppActor pid=1218)\u001b[0m [Client 3, round 4] fit, config: {'server_round': 4, 'local_epochs': 1}\u001b[32m [repeated 3x across cluster]\u001b[0m\n",
            "\u001b[36m(ClientAppActor pid=1217)\u001b[0m [Client 4, round 4] fit, config: {'server_round': 4, 'local_epochs': 1}\u001b[32m [repeated 3x across cluster]\u001b[0m\n",
            "\u001b[36m(ClientAppActor pid=1218)\u001b[0m [Client 57, round 4] fit, config: {'server_round': 4, 'local_epochs': 1}\u001b[32m [repeated 3x across cluster]\u001b[0m\n",
            "\u001b[36m(ClientAppActor pid=1217)\u001b[0m [Client 28, round 4] fit, config: {'server_round': 4, 'local_epochs': 1}\u001b[32m [repeated 4x across cluster]\u001b[0m\n",
            "\u001b[36m(ClientAppActor pid=1217)\u001b[0m [Client 59, round 4] fit, config: {'server_round': 4, 'local_epochs': 1}\u001b[32m [repeated 4x across cluster]\u001b[0m\n",
            "\u001b[36m(ClientAppActor pid=1218)\u001b[0m [Client 89, round 4] fit, config: {'server_round': 4, 'local_epochs': 1}\u001b[32m [repeated 4x across cluster]\u001b[0m\n",
            "\u001b[36m(ClientAppActor pid=1218)\u001b[0m [Client 13, round 4] fit, config: {'server_round': 4, 'local_epochs': 1}\u001b[32m [repeated 4x across cluster]\u001b[0m\n",
            "\u001b[36m(ClientAppActor pid=1218)\u001b[0m [Client 88, round 4] fit, config: {'server_round': 4, 'local_epochs': 1}\u001b[32m [repeated 4x across cluster]\u001b[0m\n"
          ]
        },
        {
          "metadata": {
            "tags": null
          },
          "name": "stderr",
          "output_type": "stream",
          "text": [
            "\u001b[92mINFO \u001b[0m:      aggregate_fit: received 100 results and 0 failures\n",
            "\u001b[92mINFO \u001b[0m:      fit progress: (4, 0.06467111406326294, {'accuracy': 0.4857}, 1455.032437569)\n",
            "\u001b[92mINFO \u001b[0m:      configure_evaluate: strategy sampled 100 clients (out of 100)\n"
          ]
        },
        {
          "metadata": {
            "tags": null
          },
          "name": "stdout",
          "output_type": "stream",
          "text": [
            "Server-side evaluation loss 0.06467111406326294 / accuracy 0.4857\n",
            "Model saved as federated_model_4.pth\n",
            "\u001b[36m(ClientAppActor pid=1217)\u001b[0m [Client 27] evaluate, config: {}\n",
            "\u001b[36m(ClientAppActor pid=1218)\u001b[0m [Client 38, round 4] fit, config: {'server_round': 4, 'local_epochs': 1}\u001b[32m [repeated 3x across cluster]\u001b[0m\n",
            "\u001b[36m(ClientAppActor pid=1217)\u001b[0m [Client 74] evaluate, config: {}\u001b[32m [repeated 4x across cluster]\u001b[0m\n",
            "\u001b[36m(ClientAppActor pid=1217)\u001b[0m [Client 21] evaluate, config: {}\u001b[32m [repeated 4x across cluster]\u001b[0m\n",
            "\u001b[36m(ClientAppActor pid=1217)\u001b[0m [Client 30] evaluate, config: {}\u001b[32m [repeated 4x across cluster]\u001b[0m\n",
            "\u001b[36m(ClientAppActor pid=1217)\u001b[0m [Client 69] evaluate, config: {}\u001b[32m [repeated 4x across cluster]\u001b[0m\n",
            "\u001b[36m(ClientAppActor pid=1217)\u001b[0m [Client 0] evaluate, config: {}\u001b[32m [repeated 4x across cluster]\u001b[0m\n",
            "\u001b[36m(ClientAppActor pid=1217)\u001b[0m [Client 46] evaluate, config: {}\u001b[32m [repeated 4x across cluster]\u001b[0m\n",
            "\u001b[36m(ClientAppActor pid=1217)\u001b[0m [Client 11] evaluate, config: {}\u001b[32m [repeated 4x across cluster]\u001b[0m\n",
            "\u001b[36m(ClientAppActor pid=1217)\u001b[0m [Client 80] evaluate, config: {}\u001b[32m [repeated 4x across cluster]\u001b[0m\n",
            "\u001b[36m(ClientAppActor pid=1217)\u001b[0m [Client 76] evaluate, config: {}\u001b[32m [repeated 4x across cluster]\u001b[0m\n",
            "\u001b[36m(ClientAppActor pid=1217)\u001b[0m [Client 1] evaluate, config: {}\u001b[32m [repeated 4x across cluster]\u001b[0m\n",
            "\u001b[36m(ClientAppActor pid=1217)\u001b[0m [Client 67] evaluate, config: {}\u001b[32m [repeated 4x across cluster]\u001b[0m\n",
            "\u001b[36m(ClientAppActor pid=1217)\u001b[0m [Client 19] evaluate, config: {}\u001b[32m [repeated 4x across cluster]\u001b[0m\n",
            "\u001b[36m(ClientAppActor pid=1217)\u001b[0m [Client 58] evaluate, config: {}\u001b[32m [repeated 4x across cluster]\u001b[0m\n",
            "\u001b[36m(ClientAppActor pid=1218)\u001b[0m [Client 87] evaluate, config: {}\u001b[32m [repeated 3x across cluster]\u001b[0m\n",
            "\u001b[36m(ClientAppActor pid=1217)\u001b[0m [Client 64] evaluate, config: {}\u001b[32m [repeated 3x across cluster]\u001b[0m\n",
            "\u001b[36m(ClientAppActor pid=1218)\u001b[0m [Client 51] evaluate, config: {}\u001b[32m [repeated 3x across cluster]\u001b[0m\n",
            "\u001b[36m(ClientAppActor pid=1217)\u001b[0m [Client 48] evaluate, config: {}\u001b[32m [repeated 3x across cluster]\u001b[0m\n",
            "\u001b[36m(ClientAppActor pid=1218)\u001b[0m [Client 5] evaluate, config: {}\u001b[32m [repeated 3x across cluster]\u001b[0m\n",
            "\u001b[36m(ClientAppActor pid=1217)\u001b[0m [Client 23] evaluate, config: {}\u001b[32m [repeated 3x across cluster]\u001b[0m\n",
            "\u001b[36m(ClientAppActor pid=1218)\u001b[0m [Client 63] evaluate, config: {}\u001b[32m [repeated 3x across cluster]\u001b[0m\n",
            "\u001b[36m(ClientAppActor pid=1217)\u001b[0m [Client 22] evaluate, config: {}\u001b[32m [repeated 3x across cluster]\u001b[0m\n",
            "\u001b[36m(ClientAppActor pid=1218)\u001b[0m [Client 17] evaluate, config: {}\u001b[32m [repeated 3x across cluster]\u001b[0m\n",
            "\u001b[36m(ClientAppActor pid=1217)\u001b[0m [Client 49] evaluate, config: {}\u001b[32m [repeated 3x across cluster]\u001b[0m\n",
            "\u001b[36m(ClientAppActor pid=1218)\u001b[0m [Client 88] evaluate, config: {}\u001b[32m [repeated 3x across cluster]\u001b[0m\n",
            "\u001b[36m(ClientAppActor pid=1217)\u001b[0m [Client 89] evaluate, config: {}\u001b[32m [repeated 3x across cluster]\u001b[0m\n",
            "\u001b[36m(ClientAppActor pid=1218)\u001b[0m [Client 15] evaluate, config: {}\u001b[32m [repeated 3x across cluster]\u001b[0m\n",
            "\u001b[36m(ClientAppActor pid=1218)\u001b[0m [Client 28] evaluate, config: {}\u001b[32m [repeated 4x across cluster]\u001b[0m\n"
          ]
        },
        {
          "metadata": {
            "tags": null
          },
          "name": "stderr",
          "output_type": "stream",
          "text": [
            "\u001b[92mINFO \u001b[0m:      aggregate_evaluate: received 100 results and 0 failures\n",
            "\u001b[92mINFO \u001b[0m:      \n",
            "\u001b[92mINFO \u001b[0m:      [ROUND 5]\n",
            "\u001b[92mINFO \u001b[0m:      configure_fit: strategy sampled 100 clients (out of 100)\n"
          ]
        },
        {
          "metadata": {
            "tags": null
          },
          "name": "stdout",
          "output_type": "stream",
          "text": [
            "\u001b[36m(ClientAppActor pid=1218)\u001b[0m [Client 90] evaluate, config: {}\u001b[32m [repeated 4x across cluster]\u001b[0m\n",
            "My_weighted_average -0.48283333333333334 0.0 \n",
            "\u001b[36m(ClientAppActor pid=1218)\u001b[0m [Client 26, round 5] fit, config: {'server_round': 5, 'local_epochs': 1}\n",
            "\u001b[36m(ClientAppActor pid=1218)\u001b[0m [Client 62, round 5] fit, config: {'server_round': 5, 'local_epochs': 1}\u001b[32m [repeated 4x across cluster]\u001b[0m\n",
            "\u001b[36m(ClientAppActor pid=1217)\u001b[0m [Client 32, round 5] fit, config: {'server_round': 5, 'local_epochs': 1}\u001b[32m [repeated 4x across cluster]\u001b[0m\n",
            "\u001b[36m(ClientAppActor pid=1218)\u001b[0m [Client 90, round 5] fit, config: {'server_round': 5, 'local_epochs': 1}\u001b[32m [repeated 4x across cluster]\u001b[0m\n",
            "\u001b[36m(ClientAppActor pid=1218)\u001b[0m [Client 35, round 5] fit, config: {'server_round': 5, 'local_epochs': 1}\u001b[32m [repeated 4x across cluster]\u001b[0m\n",
            "\u001b[36m(ClientAppActor pid=1218)\u001b[0m [Client 64, round 5] fit, config: {'server_round': 5, 'local_epochs': 1}\u001b[32m [repeated 4x across cluster]\u001b[0m\n",
            "\u001b[36m(ClientAppActor pid=1218)\u001b[0m [Client 14, round 5] fit, config: {'server_round': 5, 'local_epochs': 1}\u001b[32m [repeated 4x across cluster]\u001b[0m\n",
            "\u001b[36m(ClientAppActor pid=1217)\u001b[0m [Client 25, round 5] fit, config: {'server_round': 5, 'local_epochs': 1}\u001b[32m [repeated 4x across cluster]\u001b[0m\n",
            "\u001b[36m(ClientAppActor pid=1218)\u001b[0m [Client 68, round 5] fit, config: {'server_round': 5, 'local_epochs': 1}\u001b[32m [repeated 4x across cluster]\u001b[0m\n",
            "\u001b[36m(ClientAppActor pid=1218)\u001b[0m [Client 69, round 5] fit, config: {'server_round': 5, 'local_epochs': 1}\u001b[32m [repeated 4x across cluster]\u001b[0m\n",
            "\u001b[36m(ClientAppActor pid=1218)\u001b[0m [Client 24, round 5] fit, config: {'server_round': 5, 'local_epochs': 1}\u001b[32m [repeated 4x across cluster]\u001b[0m\n",
            "\u001b[36m(ClientAppActor pid=1218)\u001b[0m [Client 18, round 5] fit, config: {'server_round': 5, 'local_epochs': 1}\u001b[32m [repeated 4x across cluster]\u001b[0m\n",
            "\u001b[36m(ClientAppActor pid=1217)\u001b[0m [Client 20, round 5] fit, config: {'server_round': 5, 'local_epochs': 1}\u001b[32m [repeated 4x across cluster]\u001b[0m\n",
            "\u001b[36m(ClientAppActor pid=1217)\u001b[0m [Client 23, round 5] fit, config: {'server_round': 5, 'local_epochs': 1}\u001b[32m [repeated 4x across cluster]\u001b[0m\n",
            "\u001b[36m(ClientAppActor pid=1218)\u001b[0m [Client 86, round 5] fit, config: {'server_round': 5, 'local_epochs': 1}\u001b[32m [repeated 3x across cluster]\u001b[0m\n",
            "\u001b[36m(ClientAppActor pid=1217)\u001b[0m [Client 5, round 5] fit, config: {'server_round': 5, 'local_epochs': 1}\u001b[32m [repeated 3x across cluster]\u001b[0m\n",
            "\u001b[36m(ClientAppActor pid=1217)\u001b[0m [Client 61, round 5] fit, config: {'server_round': 5, 'local_epochs': 1}\u001b[32m [repeated 4x across cluster]\u001b[0m\n",
            "\u001b[36m(ClientAppActor pid=1217)\u001b[0m [Client 75, round 5] fit, config: {'server_round': 5, 'local_epochs': 1}\u001b[32m [repeated 4x across cluster]\u001b[0m\n",
            "\u001b[36m(ClientAppActor pid=1217)\u001b[0m [Client 95, round 5] fit, config: {'server_round': 5, 'local_epochs': 1}\u001b[32m [repeated 4x across cluster]\u001b[0m\n",
            "\u001b[36m(ClientAppActor pid=1217)\u001b[0m [Client 88, round 5] fit, config: {'server_round': 5, 'local_epochs': 1}\u001b[32m [repeated 4x across cluster]\u001b[0m\n",
            "\u001b[36m(ClientAppActor pid=1217)\u001b[0m [Client 63, round 5] fit, config: {'server_round': 5, 'local_epochs': 1}\u001b[32m [repeated 4x across cluster]\u001b[0m\n",
            "\u001b[36m(ClientAppActor pid=1217)\u001b[0m [Client 3, round 5] fit, config: {'server_round': 5, 'local_epochs': 1}\u001b[32m [repeated 4x across cluster]\u001b[0m\n",
            "\u001b[36m(ClientAppActor pid=1217)\u001b[0m [Client 93, round 5] fit, config: {'server_round': 5, 'local_epochs': 1}\u001b[32m [repeated 4x across cluster]\u001b[0m\n",
            "\u001b[36m(ClientAppActor pid=1217)\u001b[0m [Client 4, round 5] fit, config: {'server_round': 5, 'local_epochs': 1}\u001b[32m [repeated 4x across cluster]\u001b[0m\n",
            "\u001b[36m(ClientAppActor pid=1217)\u001b[0m [Client 33, round 5] fit, config: {'server_round': 5, 'local_epochs': 1}\u001b[32m [repeated 4x across cluster]\u001b[0m\n",
            "\u001b[36m(ClientAppActor pid=1217)\u001b[0m [Client 70, round 5] fit, config: {'server_round': 5, 'local_epochs': 1}\u001b[32m [repeated 4x across cluster]\u001b[0m\n"
          ]
        },
        {
          "metadata": {
            "tags": null
          },
          "name": "stderr",
          "output_type": "stream",
          "text": [
            "\u001b[92mINFO \u001b[0m:      aggregate_fit: received 100 results and 0 failures\n",
            "\u001b[92mINFO \u001b[0m:      fit progress: (5, 0.04484471033811569, {'accuracy': 0.6674}, 1864.2627496700002)\n",
            "\u001b[92mINFO \u001b[0m:      configure_evaluate: strategy sampled 100 clients (out of 100)\n"
          ]
        },
        {
          "metadata": {
            "tags": null
          },
          "name": "stdout",
          "output_type": "stream",
          "text": [
            "Server-side evaluation loss 0.04484471033811569 / accuracy 0.6674\n",
            "Model saved as federated_model_5.pth\n",
            "\u001b[36m(ClientAppActor pid=1218)\u001b[0m [Client 8] evaluate, config: {}\n",
            "\u001b[36m(ClientAppActor pid=1218)\u001b[0m [Client 58, round 5] fit, config: {'server_round': 5, 'local_epochs': 1}\n",
            "\u001b[36m(ClientAppActor pid=1217)\u001b[0m [Client 64] evaluate, config: {}\u001b[32m [repeated 4x across cluster]\u001b[0m\n",
            "\u001b[36m(ClientAppActor pid=1218)\u001b[0m [Client 74] evaluate, config: {}\u001b[32m [repeated 4x across cluster]\u001b[0m\n",
            "\u001b[36m(ClientAppActor pid=1218)\u001b[0m [Client 38] evaluate, config: {}\u001b[32m [repeated 4x across cluster]\u001b[0m\n",
            "\u001b[36m(ClientAppActor pid=1218)\u001b[0m [Client 72] evaluate, config: {}\u001b[32m [repeated 4x across cluster]\u001b[0m\n",
            "\u001b[36m(ClientAppActor pid=1218)\u001b[0m [Client 29] evaluate, config: {}\u001b[32m [repeated 4x across cluster]\u001b[0m\n",
            "\u001b[36m(ClientAppActor pid=1218)\u001b[0m [Client 91] evaluate, config: {}\u001b[32m [repeated 4x across cluster]\u001b[0m\n",
            "\u001b[36m(ClientAppActor pid=1218)\u001b[0m [Client 16] evaluate, config: {}\u001b[32m [repeated 4x across cluster]\u001b[0m\n",
            "\u001b[36m(ClientAppActor pid=1217)\u001b[0m [Client 44] evaluate, config: {}\u001b[32m [repeated 4x across cluster]\u001b[0m\n",
            "\u001b[36m(ClientAppActor pid=1218)\u001b[0m [Client 37] evaluate, config: {}\u001b[32m [repeated 4x across cluster]\u001b[0m\n",
            "\u001b[36m(ClientAppActor pid=1218)\u001b[0m [Client 92] evaluate, config: {}\u001b[32m [repeated 4x across cluster]\u001b[0m\n",
            "\u001b[36m(ClientAppActor pid=1218)\u001b[0m [Client 95] evaluate, config: {}\u001b[32m [repeated 4x across cluster]\u001b[0m\n",
            "\u001b[36m(ClientAppActor pid=1218)\u001b[0m [Client 68] evaluate, config: {}\u001b[32m [repeated 4x across cluster]\u001b[0m\n",
            "\u001b[36m(ClientAppActor pid=1218)\u001b[0m [Client 12] evaluate, config: {}\u001b[32m [repeated 4x across cluster]\u001b[0m\n",
            "\u001b[36m(ClientAppActor pid=1217)\u001b[0m [Client 30] evaluate, config: {}\u001b[32m [repeated 4x across cluster]\u001b[0m\n",
            "\u001b[36m(ClientAppActor pid=1218)\u001b[0m [Client 93] evaluate, config: {}\u001b[32m [repeated 4x across cluster]\u001b[0m\n",
            "\u001b[36m(ClientAppActor pid=1218)\u001b[0m [Client 3] evaluate, config: {}\u001b[32m [repeated 4x across cluster]\u001b[0m\n",
            "\u001b[36m(ClientAppActor pid=1218)\u001b[0m [Client 39] evaluate, config: {}\u001b[32m [repeated 4x across cluster]\u001b[0m\n",
            "\u001b[36m(ClientAppActor pid=1218)\u001b[0m [Client 81] evaluate, config: {}\u001b[32m [repeated 4x across cluster]\u001b[0m\n",
            "\u001b[36m(ClientAppActor pid=1218)\u001b[0m [Client 11] evaluate, config: {}\u001b[32m [repeated 4x across cluster]\u001b[0m\n",
            "\u001b[36m(ClientAppActor pid=1218)\u001b[0m [Client 90] evaluate, config: {}\u001b[32m [repeated 4x across cluster]\u001b[0m\n",
            "\u001b[36m(ClientAppActor pid=1218)\u001b[0m [Client 75] evaluate, config: {}\u001b[32m [repeated 4x across cluster]\u001b[0m\n",
            "\u001b[36m(ClientAppActor pid=1218)\u001b[0m [Client 32] evaluate, config: {}\u001b[32m [repeated 4x across cluster]\u001b[0m\n",
            "\u001b[36m(ClientAppActor pid=1218)\u001b[0m [Client 21] evaluate, config: {}\u001b[32m [repeated 4x across cluster]\u001b[0m\n",
            "\u001b[36m(ClientAppActor pid=1217)\u001b[0m [Client 15] evaluate, config: {}\u001b[32m [repeated 3x across cluster]\u001b[0m\n",
            "\u001b[36m(ClientAppActor pid=1218)\u001b[0m [Client 84] evaluate, config: {}\u001b[32m [repeated 3x across cluster]\u001b[0m\n"
          ]
        },
        {
          "metadata": {
            "tags": null
          },
          "name": "stderr",
          "output_type": "stream",
          "text": [
            "\u001b[92mINFO \u001b[0m:      aggregate_evaluate: received 100 results and 0 failures\n",
            "\u001b[92mINFO \u001b[0m:      \n",
            "\u001b[92mINFO \u001b[0m:      [ROUND 6]\n",
            "\u001b[92mINFO \u001b[0m:      configure_fit: strategy sampled 100 clients (out of 100)\n"
          ]
        },
        {
          "metadata": {
            "tags": null
          },
          "name": "stdout",
          "output_type": "stream",
          "text": [
            "My_weighted_average -0.6492500000000001 0.0 \n",
            "\u001b[36m(ClientAppActor pid=1218)\u001b[0m [Client 42, round 6] fit, config: {'server_round': 6, 'local_epochs': 1}\n",
            "\u001b[36m(ClientAppActor pid=1217)\u001b[0m [Client 57] evaluate, config: {}\n",
            "\u001b[36m(ClientAppActor pid=1218)\u001b[0m [Client 92, round 6] fit, config: {'server_round': 6, 'local_epochs': 1}\u001b[32m [repeated 4x across cluster]\u001b[0m\n",
            "\u001b[36m(ClientAppActor pid=1218)\u001b[0m [Client 87, round 6] fit, config: {'server_round': 6, 'local_epochs': 1}\u001b[32m [repeated 4x across cluster]\u001b[0m\n",
            "\u001b[36m(ClientAppActor pid=1217)\u001b[0m [Client 94, round 6] fit, config: {'server_round': 6, 'local_epochs': 1}\u001b[32m [repeated 3x across cluster]\u001b[0m\n",
            "\u001b[36m(ClientAppActor pid=1218)\u001b[0m [Client 16, round 6] fit, config: {'server_round': 6, 'local_epochs': 1}\u001b[32m [repeated 3x across cluster]\u001b[0m\n",
            "\u001b[36m(ClientAppActor pid=1218)\u001b[0m [Client 57, round 6] fit, config: {'server_round': 6, 'local_epochs': 1}\u001b[32m [repeated 4x across cluster]\u001b[0m\n",
            "\u001b[36m(ClientAppActor pid=1217)\u001b[0m [Client 78, round 6] fit, config: {'server_round': 6, 'local_epochs': 1}\u001b[32m [repeated 3x across cluster]\u001b[0m\n",
            "\u001b[36m(ClientAppActor pid=1218)\u001b[0m [Client 2, round 6] fit, config: {'server_round': 6, 'local_epochs': 1}\u001b[32m [repeated 3x across cluster]\u001b[0m\n",
            "\u001b[36m(ClientAppActor pid=1217)\u001b[0m [Client 97, round 6] fit, config: {'server_round': 6, 'local_epochs': 1}\u001b[32m [repeated 3x across cluster]\u001b[0m\n",
            "\u001b[36m(ClientAppActor pid=1218)\u001b[0m [Client 5, round 6] fit, config: {'server_round': 6, 'local_epochs': 1}\u001b[32m [repeated 3x across cluster]\u001b[0m\n",
            "\u001b[36m(ClientAppActor pid=1217)\u001b[0m [Client 43, round 6] fit, config: {'server_round': 6, 'local_epochs': 1}\u001b[32m [repeated 3x across cluster]\u001b[0m\n",
            "\u001b[36m(ClientAppActor pid=1218)\u001b[0m [Client 20, round 6] fit, config: {'server_round': 6, 'local_epochs': 1}\u001b[32m [repeated 3x across cluster]\u001b[0m\n",
            "\u001b[36m(ClientAppActor pid=1218)\u001b[0m [Client 10, round 6] fit, config: {'server_round': 6, 'local_epochs': 1}\u001b[32m [repeated 4x across cluster]\u001b[0m\n",
            "\u001b[36m(ClientAppActor pid=1218)\u001b[0m [Client 64, round 6] fit, config: {'server_round': 6, 'local_epochs': 1}\u001b[32m [repeated 4x across cluster]\u001b[0m\n",
            "\u001b[36m(ClientAppActor pid=1217)\u001b[0m [Client 73, round 6] fit, config: {'server_round': 6, 'local_epochs': 1}\u001b[32m [repeated 3x across cluster]\u001b[0m\n",
            "\u001b[36m(ClientAppActor pid=1218)\u001b[0m [Client 35, round 6] fit, config: {'server_round': 6, 'local_epochs': 1}\u001b[32m [repeated 3x across cluster]\u001b[0m\n",
            "\u001b[36m(ClientAppActor pid=1217)\u001b[0m [Client 74, round 6] fit, config: {'server_round': 6, 'local_epochs': 1}\u001b[32m [repeated 3x across cluster]\u001b[0m\n",
            "\u001b[36m(ClientAppActor pid=1218)\u001b[0m [Client 4, round 6] fit, config: {'server_round': 6, 'local_epochs': 1}\u001b[32m [repeated 3x across cluster]\u001b[0m\n",
            "\u001b[36m(ClientAppActor pid=1217)\u001b[0m [Client 22, round 6] fit, config: {'server_round': 6, 'local_epochs': 1}\u001b[32m [repeated 3x across cluster]\u001b[0m\n",
            "\u001b[36m(ClientAppActor pid=1218)\u001b[0m [Client 25, round 6] fit, config: {'server_round': 6, 'local_epochs': 1}\u001b[32m [repeated 3x across cluster]\u001b[0m\n",
            "\u001b[36m(ClientAppActor pid=1217)\u001b[0m [Client 11, round 6] fit, config: {'server_round': 6, 'local_epochs': 1}\u001b[32m [repeated 3x across cluster]\u001b[0m\n",
            "\u001b[36m(ClientAppActor pid=1218)\u001b[0m [Client 44, round 6] fit, config: {'server_round': 6, 'local_epochs': 1}\u001b[32m [repeated 3x across cluster]\u001b[0m\n",
            "\u001b[36m(ClientAppActor pid=1217)\u001b[0m [Client 59, round 6] fit, config: {'server_round': 6, 'local_epochs': 1}\u001b[32m [repeated 3x across cluster]\u001b[0m\n",
            "\u001b[36m(ClientAppActor pid=1218)\u001b[0m [Client 75, round 6] fit, config: {'server_round': 6, 'local_epochs': 1}\u001b[32m [repeated 3x across cluster]\u001b[0m\n",
            "\u001b[36m(ClientAppActor pid=1217)\u001b[0m [Client 86, round 6] fit, config: {'server_round': 6, 'local_epochs': 1}\u001b[32m [repeated 4x across cluster]\u001b[0m\n",
            "\u001b[36m(ClientAppActor pid=1217)\u001b[0m [Client 90, round 6] fit, config: {'server_round': 6, 'local_epochs': 1}\u001b[32m [repeated 4x across cluster]\u001b[0m\n",
            "\u001b[36m(ClientAppActor pid=1217)\u001b[0m [Client 21, round 6] fit, config: {'server_round': 6, 'local_epochs': 1}\u001b[32m [repeated 4x across cluster]\u001b[0m\n",
            "\u001b[36m(ClientAppActor pid=1217)\u001b[0m [Client 45, round 6] fit, config: {'server_round': 6, 'local_epochs': 1}\u001b[32m [repeated 4x across cluster]\u001b[0m\n",
            "\u001b[36m(ClientAppActor pid=1217)\u001b[0m [Client 72, round 6] fit, config: {'server_round': 6, 'local_epochs': 1}\u001b[32m [repeated 4x across cluster]\u001b[0m\n",
            "\u001b[36m(ClientAppActor pid=1218)\u001b[0m [Client 26, round 6] fit, config: {'server_round': 6, 'local_epochs': 1}\u001b[32m [repeated 3x across cluster]\u001b[0m\n"
          ]
        },
        {
          "metadata": {
            "tags": null
          },
          "name": "stderr",
          "output_type": "stream",
          "text": [
            "\u001b[92mINFO \u001b[0m:      aggregate_fit: received 100 results and 0 failures\n",
            "\u001b[92mINFO \u001b[0m:      fit progress: (6, 0.021290989711880683, {'accuracy': 0.8091}, 2272.557654162)\n",
            "\u001b[92mINFO \u001b[0m:      configure_evaluate: strategy sampled 100 clients (out of 100)\n"
          ]
        },
        {
          "metadata": {
            "tags": null
          },
          "name": "stdout",
          "output_type": "stream",
          "text": [
            "Server-side evaluation loss 0.021290989711880683 / accuracy 0.8091\n",
            "Model saved as federated_model_6.pth\n",
            "\u001b[36m(ClientAppActor pid=1217)\u001b[0m [Client 41] evaluate, config: {}\n",
            "\u001b[36m(ClientAppActor pid=1218)\u001b[0m [Client 63, round 6] fit, config: {'server_round': 6, 'local_epochs': 1}\u001b[32m [repeated 2x across cluster]\u001b[0m\n",
            "\u001b[36m(ClientAppActor pid=1217)\u001b[0m [Client 89] evaluate, config: {}\u001b[32m [repeated 4x across cluster]\u001b[0m\n",
            "\u001b[36m(ClientAppActor pid=1218)\u001b[0m [Client 24] evaluate, config: {}\u001b[32m [repeated 4x across cluster]\u001b[0m\n",
            "\u001b[36m(ClientAppActor pid=1218)\u001b[0m [Client 61] evaluate, config: {}\u001b[32m [repeated 4x across cluster]\u001b[0m\n",
            "\u001b[36m(ClientAppActor pid=1218)\u001b[0m [Client 62] evaluate, config: {}\u001b[32m [repeated 4x across cluster]\u001b[0m\n",
            "\u001b[36m(ClientAppActor pid=1218)\u001b[0m [Client 11] evaluate, config: {}\u001b[32m [repeated 4x across cluster]\u001b[0m\n",
            "\u001b[36m(ClientAppActor pid=1218)\u001b[0m [Client 21] evaluate, config: {}\u001b[32m [repeated 4x across cluster]\u001b[0m\n",
            "\u001b[36m(ClientAppActor pid=1218)\u001b[0m [Client 67] evaluate, config: {}\u001b[32m [repeated 4x across cluster]\u001b[0m\n",
            "\u001b[36m(ClientAppActor pid=1218)\u001b[0m [Client 59] evaluate, config: {}\u001b[32m [repeated 4x across cluster]\u001b[0m\n",
            "\u001b[36m(ClientAppActor pid=1218)\u001b[0m [Client 36] evaluate, config: {}\u001b[32m [repeated 4x across cluster]\u001b[0m\n",
            "\u001b[36m(ClientAppActor pid=1218)\u001b[0m [Client 51] evaluate, config: {}\u001b[32m [repeated 4x across cluster]\u001b[0m\n",
            "\u001b[36m(ClientAppActor pid=1217)\u001b[0m [Client 22] evaluate, config: {}\u001b[32m [repeated 3x across cluster]\u001b[0m\n",
            "\u001b[36m(ClientAppActor pid=1218)\u001b[0m [Client 69] evaluate, config: {}\u001b[32m [repeated 3x across cluster]\u001b[0m\n",
            "\u001b[36m(ClientAppActor pid=1217)\u001b[0m [Client 76] evaluate, config: {}\u001b[32m [repeated 3x across cluster]\u001b[0m\n",
            "\u001b[36m(ClientAppActor pid=1218)\u001b[0m [Client 30] evaluate, config: {}\u001b[32m [repeated 3x across cluster]\u001b[0m\n",
            "\u001b[36m(ClientAppActor pid=1218)\u001b[0m [Client 44] evaluate, config: {}\u001b[32m [repeated 4x across cluster]\u001b[0m\n",
            "\u001b[36m(ClientAppActor pid=1217)\u001b[0m [Client 83] evaluate, config: {}\u001b[32m [repeated 3x across cluster]\u001b[0m\n",
            "\u001b[36m(ClientAppActor pid=1218)\u001b[0m [Client 54] evaluate, config: {}\u001b[32m [repeated 3x across cluster]\u001b[0m\n",
            "\u001b[36m(ClientAppActor pid=1218)\u001b[0m [Client 74] evaluate, config: {}\u001b[32m [repeated 4x across cluster]\u001b[0m\n",
            "\u001b[36m(ClientAppActor pid=1217)\u001b[0m [Client 4] evaluate, config: {}\u001b[32m [repeated 3x across cluster]\u001b[0m\n",
            "\u001b[36m(ClientAppActor pid=1218)\u001b[0m [Client 93] evaluate, config: {}\u001b[32m [repeated 3x across cluster]\u001b[0m\n",
            "\u001b[36m(ClientAppActor pid=1217)\u001b[0m [Client 40] evaluate, config: {}\u001b[32m [repeated 3x across cluster]\u001b[0m\n",
            "\u001b[36m(ClientAppActor pid=1218)\u001b[0m [Client 72] evaluate, config: {}\u001b[32m [repeated 3x across cluster]\u001b[0m\n",
            "\u001b[36m(ClientAppActor pid=1218)\u001b[0m [Client 63] evaluate, config: {}\u001b[32m [repeated 4x across cluster]\u001b[0m\n",
            "\u001b[36m(ClientAppActor pid=1218)\u001b[0m [Client 88] evaluate, config: {}\u001b[32m [repeated 4x across cluster]\u001b[0m\n",
            "\u001b[36m(ClientAppActor pid=1218)\u001b[0m [Client 70] evaluate, config: {}\u001b[32m [repeated 4x across cluster]\u001b[0m\n",
            "\u001b[36m(ClientAppActor pid=1218)\u001b[0m [Client 60] evaluate, config: {}\u001b[32m [repeated 4x across cluster]\u001b[0m\n",
            "\u001b[36m(ClientAppActor pid=1217)\u001b[0m [Client 23] evaluate, config: {}\u001b[32m [repeated 3x across cluster]\u001b[0m\n"
          ]
        },
        {
          "metadata": {
            "tags": null
          },
          "name": "stderr",
          "output_type": "stream",
          "text": [
            "\u001b[92mINFO \u001b[0m:      aggregate_evaluate: received 100 results and 0 failures\n",
            "\u001b[92mINFO \u001b[0m:      \n",
            "\u001b[92mINFO \u001b[0m:      [ROUND 7]\n",
            "\u001b[92mINFO \u001b[0m:      configure_fit: strategy sampled 100 clients (out of 100)\n"
          ]
        },
        {
          "metadata": {
            "tags": null
          },
          "name": "stdout",
          "output_type": "stream",
          "text": [
            "My_weighted_average -0.7974166666666669 0.0 \n",
            "\u001b[36m(ClientAppActor pid=1217)\u001b[0m [Client 17, round 7] fit, config: {'server_round': 7, 'local_epochs': 1}\n",
            "\u001b[36m(ClientAppActor pid=1217)\u001b[0m [Client 98] evaluate, config: {}\u001b[32m [repeated 2x across cluster]\u001b[0m\n",
            "\u001b[36m(ClientAppActor pid=1217)\u001b[0m [Client 88, round 7] fit, config: {'server_round': 7, 'local_epochs': 1}\u001b[32m [repeated 4x across cluster]\u001b[0m\n",
            "\u001b[36m(ClientAppActor pid=1217)\u001b[0m [Client 79, round 7] fit, config: {'server_round': 7, 'local_epochs': 1}\u001b[32m [repeated 4x across cluster]\u001b[0m\n",
            "\u001b[36m(ClientAppActor pid=1217)\u001b[0m [Client 5, round 7] fit, config: {'server_round': 7, 'local_epochs': 1}\u001b[32m [repeated 4x across cluster]\u001b[0m\n",
            "\u001b[36m(ClientAppActor pid=1217)\u001b[0m [Client 41, round 7] fit, config: {'server_round': 7, 'local_epochs': 1}\u001b[32m [repeated 4x across cluster]\u001b[0m\n",
            "\u001b[36m(ClientAppActor pid=1218)\u001b[0m [Client 36, round 7] fit, config: {'server_round': 7, 'local_epochs': 1}\u001b[32m [repeated 3x across cluster]\u001b[0m\n",
            "\u001b[36m(ClientAppActor pid=1217)\u001b[0m [Client 85, round 7] fit, config: {'server_round': 7, 'local_epochs': 1}\u001b[32m [repeated 3x across cluster]\u001b[0m\n",
            "\u001b[36m(ClientAppActor pid=1217)\u001b[0m [Client 26, round 7] fit, config: {'server_round': 7, 'local_epochs': 1}\u001b[32m [repeated 4x across cluster]\u001b[0m\n",
            "\u001b[36m(ClientAppActor pid=1218)\u001b[0m [Client 45, round 7] fit, config: {'server_round': 7, 'local_epochs': 1}\u001b[32m [repeated 3x across cluster]\u001b[0m\n",
            "\u001b[36m(ClientAppActor pid=1217)\u001b[0m [Client 72, round 7] fit, config: {'server_round': 7, 'local_epochs': 1}\u001b[32m [repeated 3x across cluster]\u001b[0m\n",
            "\u001b[36m(ClientAppActor pid=1217)\u001b[0m [Client 75, round 7] fit, config: {'server_round': 7, 'local_epochs': 1}\u001b[32m [repeated 4x across cluster]\u001b[0m\n",
            "\u001b[36m(ClientAppActor pid=1217)\u001b[0m [Client 64, round 7] fit, config: {'server_round': 7, 'local_epochs': 1}\u001b[32m [repeated 4x across cluster]\u001b[0m\n",
            "\u001b[36m(ClientAppActor pid=1217)\u001b[0m [Client 30, round 7] fit, config: {'server_round': 7, 'local_epochs': 1}\u001b[32m [repeated 4x across cluster]\u001b[0m\n",
            "\u001b[36m(ClientAppActor pid=1218)\u001b[0m [Client 53, round 7] fit, config: {'server_round': 7, 'local_epochs': 1}\u001b[32m [repeated 4x across cluster]\u001b[0m\n",
            "\u001b[36m(ClientAppActor pid=1218)\u001b[0m [Client 60, round 7] fit, config: {'server_round': 7, 'local_epochs': 1}\u001b[32m [repeated 4x across cluster]\u001b[0m\n",
            "\u001b[36m(ClientAppActor pid=1218)\u001b[0m [Client 46, round 7] fit, config: {'server_round': 7, 'local_epochs': 1}\u001b[32m [repeated 4x across cluster]\u001b[0m\n",
            "\u001b[36m(ClientAppActor pid=1217)\u001b[0m [Client 11, round 7] fit, config: {'server_round': 7, 'local_epochs': 1}\u001b[32m [repeated 3x across cluster]\u001b[0m\n",
            "\u001b[36m(ClientAppActor pid=1218)\u001b[0m [Client 58, round 7] fit, config: {'server_round': 7, 'local_epochs': 1}\u001b[32m [repeated 3x across cluster]\u001b[0m\n",
            "\u001b[36m(ClientAppActor pid=1218)\u001b[0m [Client 6, round 7] fit, config: {'server_round': 7, 'local_epochs': 1}\u001b[32m [repeated 4x across cluster]\u001b[0m\n",
            "\u001b[36m(ClientAppActor pid=1217)\u001b[0m [Client 42, round 7] fit, config: {'server_round': 7, 'local_epochs': 1}\u001b[32m [repeated 3x across cluster]\u001b[0m\n",
            "\u001b[36m(ClientAppActor pid=1218)\u001b[0m [Client 82, round 7] fit, config: {'server_round': 7, 'local_epochs': 1}\u001b[32m [repeated 3x across cluster]\u001b[0m\n",
            "\u001b[36m(ClientAppActor pid=1217)\u001b[0m [Client 44, round 7] fit, config: {'server_round': 7, 'local_epochs': 1}\u001b[32m [repeated 3x across cluster]\u001b[0m\n",
            "\u001b[36m(ClientAppActor pid=1218)\u001b[0m [Client 3, round 7] fit, config: {'server_round': 7, 'local_epochs': 1}\u001b[32m [repeated 3x across cluster]\u001b[0m\n",
            "\u001b[36m(ClientAppActor pid=1217)\u001b[0m [Client 63, round 7] fit, config: {'server_round': 7, 'local_epochs': 1}\u001b[32m [repeated 3x across cluster]\u001b[0m\n",
            "\u001b[36m(ClientAppActor pid=1218)\u001b[0m [Client 7, round 7] fit, config: {'server_round': 7, 'local_epochs': 1}\u001b[32m [repeated 3x across cluster]\u001b[0m\n",
            "\u001b[36m(ClientAppActor pid=1217)\u001b[0m [Client 96, round 7] fit, config: {'server_round': 7, 'local_epochs': 1}\u001b[32m [repeated 3x across cluster]\u001b[0m\n",
            "\u001b[36m(ClientAppActor pid=1218)\u001b[0m [Client 31, round 7] fit, config: {'server_round': 7, 'local_epochs': 1}\u001b[32m [repeated 3x across cluster]\u001b[0m\n",
            "\u001b[36m(ClientAppActor pid=1218)\u001b[0m [Client 52, round 7] fit, config: {'server_round': 7, 'local_epochs': 1}\u001b[32m [repeated 4x across cluster]\u001b[0m\n",
            "\u001b[36m(ClientAppActor pid=1217)\u001b[0m [Client 87, round 7] fit, config: {'server_round': 7, 'local_epochs': 1}\u001b[32m [repeated 3x across cluster]\u001b[0m\n"
          ]
        },
        {
          "metadata": {
            "tags": null
          },
          "name": "stderr",
          "output_type": "stream",
          "text": [
            "\u001b[92mINFO \u001b[0m:      aggregate_fit: received 100 results and 0 failures\n",
            "\u001b[92mINFO \u001b[0m:      fit progress: (7, 0.01671361759006977, {'accuracy': 0.8512}, 2679.850982986)\n",
            "\u001b[92mINFO \u001b[0m:      configure_evaluate: strategy sampled 100 clients (out of 100)\n"
          ]
        },
        {
          "metadata": {
            "tags": null
          },
          "name": "stdout",
          "output_type": "stream",
          "text": [
            "Server-side evaluation loss 0.01671361759006977 / accuracy 0.8512\n",
            "Model saved as federated_model_7.pth\n",
            "\u001b[36m(ClientAppActor pid=1217)\u001b[0m [Client 17] evaluate, config: {}\n",
            "\u001b[36m(ClientAppActor pid=1217)\u001b[0m [Client 34, round 7] fit, config: {'server_round': 7, 'local_epochs': 1}\u001b[32m [repeated 2x across cluster]\u001b[0m\n",
            "\u001b[36m(ClientAppActor pid=1218)\u001b[0m [Client 69] evaluate, config: {}\u001b[32m [repeated 4x across cluster]\u001b[0m\n",
            "\u001b[36m(ClientAppActor pid=1218)\u001b[0m [Client 23] evaluate, config: {}\u001b[32m [repeated 4x across cluster]\u001b[0m\n",
            "\u001b[36m(ClientAppActor pid=1218)\u001b[0m [Client 27] evaluate, config: {}\u001b[32m [repeated 4x across cluster]\u001b[0m\n",
            "\u001b[36m(ClientAppActor pid=1217)\u001b[0m [Client 18] evaluate, config: {}\u001b[32m [repeated 4x across cluster]\u001b[0m\n",
            "\u001b[36m(ClientAppActor pid=1217)\u001b[0m [Client 91] evaluate, config: {}\u001b[32m [repeated 4x across cluster]\u001b[0m\n",
            "\u001b[36m(ClientAppActor pid=1217)\u001b[0m [Client 2] evaluate, config: {}\u001b[32m [repeated 4x across cluster]\u001b[0m\n",
            "\u001b[36m(ClientAppActor pid=1217)\u001b[0m [Client 30] evaluate, config: {}\u001b[32m [repeated 4x across cluster]\u001b[0m\n",
            "\u001b[36m(ClientAppActor pid=1218)\u001b[0m [Client 75] evaluate, config: {}\u001b[32m [repeated 4x across cluster]\u001b[0m\n",
            "\u001b[36m(ClientAppActor pid=1218)\u001b[0m [Client 6] evaluate, config: {}\u001b[32m [repeated 4x across cluster]\u001b[0m\n",
            "\u001b[36m(ClientAppActor pid=1218)\u001b[0m [Client 43] evaluate, config: {}\u001b[32m [repeated 4x across cluster]\u001b[0m\n",
            "\u001b[36m(ClientAppActor pid=1217)\u001b[0m [Client 32] evaluate, config: {}\u001b[32m [repeated 4x across cluster]\u001b[0m\n",
            "\u001b[36m(ClientAppActor pid=1217)\u001b[0m [Client 7] evaluate, config: {}\u001b[32m [repeated 4x across cluster]\u001b[0m\n",
            "\u001b[36m(ClientAppActor pid=1217)\u001b[0m [Client 10] evaluate, config: {}\u001b[32m [repeated 4x across cluster]\u001b[0m\n",
            "\u001b[36m(ClientAppActor pid=1218)\u001b[0m [Client 89] evaluate, config: {}\u001b[32m [repeated 3x across cluster]\u001b[0m\n",
            "\u001b[36m(ClientAppActor pid=1217)\u001b[0m [Client 0] evaluate, config: {}\u001b[32m [repeated 3x across cluster]\u001b[0m\n",
            "\u001b[36m(ClientAppActor pid=1217)\u001b[0m [Client 54] evaluate, config: {}\u001b[32m [repeated 4x across cluster]\u001b[0m\n",
            "\u001b[36m(ClientAppActor pid=1217)\u001b[0m [Client 80] evaluate, config: {}\u001b[32m [repeated 4x across cluster]\u001b[0m\n",
            "\u001b[36m(ClientAppActor pid=1217)\u001b[0m [Client 35] evaluate, config: {}\u001b[32m [repeated 4x across cluster]\u001b[0m\n",
            "\u001b[36m(ClientAppActor pid=1217)\u001b[0m [Client 53] evaluate, config: {}\u001b[32m [repeated 4x across cluster]\u001b[0m\n",
            "\u001b[36m(ClientAppActor pid=1217)\u001b[0m [Client 92] evaluate, config: {}\u001b[32m [repeated 4x across cluster]\u001b[0m\n",
            "\u001b[36m(ClientAppActor pid=1217)\u001b[0m [Client 15] evaluate, config: {}\u001b[32m [repeated 4x across cluster]\u001b[0m\n",
            "\u001b[36m(ClientAppActor pid=1217)\u001b[0m [Client 61] evaluate, config: {}\u001b[32m [repeated 4x across cluster]\u001b[0m\n",
            "\u001b[36m(ClientAppActor pid=1217)\u001b[0m [Client 25] evaluate, config: {}\u001b[32m [repeated 4x across cluster]\u001b[0m\n",
            "\u001b[36m(ClientAppActor pid=1217)\u001b[0m [Client 8] evaluate, config: {}\u001b[32m [repeated 4x across cluster]\u001b[0m\n",
            "\u001b[36m(ClientAppActor pid=1217)\u001b[0m [Client 78] evaluate, config: {}\u001b[32m [repeated 4x across cluster]\u001b[0m\n"
          ]
        },
        {
          "metadata": {
            "tags": null
          },
          "name": "stderr",
          "output_type": "stream",
          "text": [
            "\u001b[92mINFO \u001b[0m:      aggregate_evaluate: received 100 results and 0 failures\n",
            "\u001b[92mINFO \u001b[0m:      \n",
            "\u001b[92mINFO \u001b[0m:      [ROUND 8]\n",
            "\u001b[92mINFO \u001b[0m:      configure_fit: strategy sampled 100 clients (out of 100)\n"
          ]
        },
        {
          "metadata": {
            "tags": null
          },
          "name": "stdout",
          "output_type": "stream",
          "text": [
            "My_weighted_average -0.8441666666666668 0.0 \n",
            "\u001b[36m(ClientAppActor pid=1218)\u001b[0m [Client 7, round 8] fit, config: {'server_round': 8, 'local_epochs': 1}\n",
            "\u001b[36m(ClientAppActor pid=1218)\u001b[0m [Client 83] evaluate, config: {}\n",
            "\u001b[36m(ClientAppActor pid=1217)\u001b[0m [Client 60, round 8] fit, config: {'server_round': 8, 'local_epochs': 1}\u001b[32m [repeated 4x across cluster]\u001b[0m\n",
            "\u001b[36m(ClientAppActor pid=1217)\u001b[0m [Client 84, round 8] fit, config: {'server_round': 8, 'local_epochs': 1}\u001b[32m [repeated 4x across cluster]\u001b[0m\n",
            "\u001b[36m(ClientAppActor pid=1218)\u001b[0m [Client 88, round 8] fit, config: {'server_round': 8, 'local_epochs': 1}\u001b[32m [repeated 4x across cluster]\u001b[0m\n",
            "\u001b[36m(ClientAppActor pid=1218)\u001b[0m [Client 22, round 8] fit, config: {'server_round': 8, 'local_epochs': 1}\u001b[32m [repeated 4x across cluster]\u001b[0m\n",
            "\u001b[36m(ClientAppActor pid=1218)\u001b[0m [Client 20, round 8] fit, config: {'server_round': 8, 'local_epochs': 1}\u001b[32m [repeated 4x across cluster]\u001b[0m\n",
            "\u001b[36m(ClientAppActor pid=1217)\u001b[0m [Client 46, round 8] fit, config: {'server_round': 8, 'local_epochs': 1}\u001b[32m [repeated 3x across cluster]\u001b[0m\n",
            "\u001b[36m(ClientAppActor pid=1218)\u001b[0m [Client 8, round 8] fit, config: {'server_round': 8, 'local_epochs': 1}\u001b[32m [repeated 3x across cluster]\u001b[0m\n",
            "\u001b[36m(ClientAppActor pid=1217)\u001b[0m [Client 66, round 8] fit, config: {'server_round': 8, 'local_epochs': 1}\u001b[32m [repeated 4x across cluster]\u001b[0m\n",
            "\u001b[36m(ClientAppActor pid=1218)\u001b[0m [Client 43, round 8] fit, config: {'server_round': 8, 'local_epochs': 1}\u001b[32m [repeated 4x across cluster]\u001b[0m\n",
            "\u001b[36m(ClientAppActor pid=1218)\u001b[0m [Client 18, round 8] fit, config: {'server_round': 8, 'local_epochs': 1}\u001b[32m [repeated 4x across cluster]\u001b[0m\n",
            "\u001b[36m(ClientAppActor pid=1218)\u001b[0m [Client 74, round 8] fit, config: {'server_round': 8, 'local_epochs': 1}\u001b[32m [repeated 4x across cluster]\u001b[0m\n",
            "\u001b[36m(ClientAppActor pid=1218)\u001b[0m [Client 30, round 8] fit, config: {'server_round': 8, 'local_epochs': 1}\u001b[32m [repeated 4x across cluster]\u001b[0m\n",
            "\u001b[36m(ClientAppActor pid=1218)\u001b[0m [Client 34, round 8] fit, config: {'server_round': 8, 'local_epochs': 1}\u001b[32m [repeated 4x across cluster]\u001b[0m\n",
            "\u001b[36m(ClientAppActor pid=1218)\u001b[0m [Client 54, round 8] fit, config: {'server_round': 8, 'local_epochs': 1}\u001b[32m [repeated 4x across cluster]\u001b[0m\n",
            "\u001b[36m(ClientAppActor pid=1218)\u001b[0m [Client 99, round 8] fit, config: {'server_round': 8, 'local_epochs': 1}\u001b[32m [repeated 4x across cluster]\u001b[0m\n",
            "\u001b[36m(ClientAppActor pid=1218)\u001b[0m [Client 71, round 8] fit, config: {'server_round': 8, 'local_epochs': 1}\u001b[32m [repeated 4x across cluster]\u001b[0m\n",
            "\u001b[36m(ClientAppActor pid=1217)\u001b[0m [Client 4, round 8] fit, config: {'server_round': 8, 'local_epochs': 1}\u001b[32m [repeated 3x across cluster]\u001b[0m\n",
            "\u001b[36m(ClientAppActor pid=1218)\u001b[0m [Client 75, round 8] fit, config: {'server_round': 8, 'local_epochs': 1}\u001b[32m [repeated 3x across cluster]\u001b[0m\n",
            "\u001b[36m(ClientAppActor pid=1217)\u001b[0m [Client 92, round 8] fit, config: {'server_round': 8, 'local_epochs': 1}\u001b[32m [repeated 3x across cluster]\u001b[0m\n",
            "\u001b[36m(ClientAppActor pid=1218)\u001b[0m [Client 28, round 8] fit, config: {'server_round': 8, 'local_epochs': 1}\u001b[32m [repeated 3x across cluster]\u001b[0m\n",
            "\u001b[36m(ClientAppActor pid=1218)\u001b[0m [Client 68, round 8] fit, config: {'server_round': 8, 'local_epochs': 1}\u001b[32m [repeated 4x across cluster]\u001b[0m\n",
            "\u001b[36m(ClientAppActor pid=1217)\u001b[0m [Client 59, round 8] fit, config: {'server_round': 8, 'local_epochs': 1}\u001b[32m [repeated 3x across cluster]\u001b[0m\n",
            "\u001b[36m(ClientAppActor pid=1218)\u001b[0m [Client 9, round 8] fit, config: {'server_round': 8, 'local_epochs': 1}\u001b[32m [repeated 3x across cluster]\u001b[0m\n",
            "\u001b[36m(ClientAppActor pid=1217)\u001b[0m [Client 15, round 8] fit, config: {'server_round': 8, 'local_epochs': 1}\u001b[32m [repeated 3x across cluster]\u001b[0m\n",
            "\u001b[36m(ClientAppActor pid=1218)\u001b[0m [Client 0, round 8] fit, config: {'server_round': 8, 'local_epochs': 1}\u001b[32m [repeated 3x across cluster]\u001b[0m\n",
            "\u001b[36m(ClientAppActor pid=1217)\u001b[0m [Client 91, round 8] fit, config: {'server_round': 8, 'local_epochs': 1}\u001b[32m [repeated 3x across cluster]\u001b[0m\n",
            "\u001b[36m(ClientAppActor pid=1218)\u001b[0m [Client 83, round 8] fit, config: {'server_round': 8, 'local_epochs': 1}\u001b[32m [repeated 3x across cluster]\u001b[0m\n",
            "\u001b[36m(ClientAppActor pid=1217)\u001b[0m [Client 89, round 8] fit, config: {'server_round': 8, 'local_epochs': 1}\u001b[32m [repeated 3x across cluster]\u001b[0m\n"
          ]
        },
        {
          "metadata": {
            "tags": null
          },
          "name": "stderr",
          "output_type": "stream",
          "text": [
            "\u001b[92mINFO \u001b[0m:      aggregate_fit: received 100 results and 0 failures\n",
            "\u001b[92mINFO \u001b[0m:      fit progress: (8, 0.013299905429780483, {'accuracy': 0.8743}, 3086.138349814)\n",
            "\u001b[92mINFO \u001b[0m:      configure_evaluate: strategy sampled 100 clients (out of 100)\n"
          ]
        },
        {
          "output_type": "stream",
          "name": "stdout",
          "text": [
            "Server-side evaluation loss 0.013299905429780483 / accuracy 0.8743\n",
            "Model saved as federated_model_8.pth\n",
            "\u001b[36m(ClientAppActor pid=1218)\u001b[0m [Client 28] evaluate, config: {}\n",
            "\u001b[36m(ClientAppActor pid=1218)\u001b[0m [Client 75] evaluate, config: {}\u001b[32m [repeated 4x across cluster]\u001b[0m\n",
            "\u001b[36m(ClientAppActor pid=1217)\u001b[0m [Client 5] evaluate, config: {}\u001b[32m [repeated 4x across cluster]\u001b[0m\n",
            "\u001b[36m(ClientAppActor pid=1218)\u001b[0m [Client 80] evaluate, config: {}\u001b[32m [repeated 4x across cluster]\u001b[0m\n",
            "\u001b[36m(ClientAppActor pid=1218)\u001b[0m [Client 40] evaluate, config: {}\u001b[32m [repeated 4x across cluster]\u001b[0m\n",
            "\u001b[36m(ClientAppActor pid=1218)\u001b[0m [Client 56] evaluate, config: {}\u001b[32m [repeated 4x across cluster]\u001b[0m\n",
            "\u001b[36m(ClientAppActor pid=1218)\u001b[0m [Client 94] evaluate, config: {}\u001b[32m [repeated 4x across cluster]\u001b[0m\n",
            "\u001b[36m(ClientAppActor pid=1218)\u001b[0m [Client 19] evaluate, config: {}\u001b[32m [repeated 4x across cluster]\u001b[0m\n",
            "\u001b[36m(ClientAppActor pid=1218)\u001b[0m [Client 50] evaluate, config: {}\u001b[32m [repeated 4x across cluster]\u001b[0m\n",
            "\u001b[36m(ClientAppActor pid=1217)\u001b[0m [Client 87] evaluate, config: {}\u001b[32m [repeated 4x across cluster]\u001b[0m\n",
            "\u001b[36m(ClientAppActor pid=1217)\u001b[0m [Client 62] evaluate, config: {}\u001b[32m [repeated 4x across cluster]\u001b[0m\n",
            "\u001b[36m(ClientAppActor pid=1217)\u001b[0m [Client 44] evaluate, config: {}\u001b[32m [repeated 4x across cluster]\u001b[0m\n",
            "\u001b[36m(ClientAppActor pid=1217)\u001b[0m [Client 57] evaluate, config: {}\u001b[32m [repeated 4x across cluster]\u001b[0m\n",
            "\u001b[36m(ClientAppActor pid=1217)\u001b[0m [Client 11] evaluate, config: {}\u001b[32m [repeated 4x across cluster]\u001b[0m\n",
            "\u001b[36m(ClientAppActor pid=1217)\u001b[0m [Client 14] evaluate, config: {}\u001b[32m [repeated 4x across cluster]\u001b[0m\n",
            "\u001b[36m(ClientAppActor pid=1217)\u001b[0m [Client 84] evaluate, config: {}\u001b[32m [repeated 4x across cluster]\u001b[0m\n",
            "\u001b[36m(ClientAppActor pid=1217)\u001b[0m [Client 99] evaluate, config: {}\u001b[32m [repeated 4x across cluster]\u001b[0m\n",
            "\u001b[36m(ClientAppActor pid=1217)\u001b[0m [Client 13] evaluate, config: {}\u001b[32m [repeated 4x across cluster]\u001b[0m\n",
            "\u001b[36m(ClientAppActor pid=1217)\u001b[0m [Client 82] evaluate, config: {}\u001b[32m [repeated 4x across cluster]\u001b[0m\n",
            "\u001b[36m(ClientAppActor pid=1217)\u001b[0m [Client 68] evaluate, config: {}\u001b[32m [repeated 4x across cluster]\u001b[0m\n",
            "\u001b[36m(ClientAppActor pid=1218)\u001b[0m [Client 2] evaluate, config: {}\u001b[32m [repeated 4x across cluster]\u001b[0m\n",
            "\u001b[36m(ClientAppActor pid=1218)\u001b[0m [Client 79] evaluate, config: {}\u001b[32m [repeated 4x across cluster]\u001b[0m\n",
            "\u001b[36m(ClientAppActor pid=1217)\u001b[0m [Client 76] evaluate, config: {}\u001b[32m [repeated 4x across cluster]\u001b[0m\n",
            "\u001b[36m(ClientAppActor pid=1218)\u001b[0m [Client 67] evaluate, config: {}\u001b[32m [repeated 4x across cluster]\u001b[0m\n",
            "\u001b[36m(ClientAppActor pid=1218)\u001b[0m [Client 70] evaluate, config: {}\u001b[32m [repeated 4x across cluster]\u001b[0m\n"
          ]
        },
        {
          "output_type": "stream",
          "name": "stderr",
          "text": [
            "\u001b[92mINFO \u001b[0m:      aggregate_evaluate: received 100 results and 0 failures\n",
            "\u001b[92mINFO \u001b[0m:      \n",
            "\u001b[92mINFO \u001b[0m:      [ROUND 9]\n",
            "\u001b[92mINFO \u001b[0m:      configure_fit: strategy sampled 100 clients (out of 100)\n"
          ]
        },
        {
          "output_type": "stream",
          "name": "stdout",
          "text": [
            "My_weighted_average -0.8629166666666664 0.0 \n",
            "\u001b[36m(ClientAppActor pid=1218)\u001b[0m [Client 18, round 9] fit, config: {'server_round': 9, 'local_epochs': 1}\n",
            "\u001b[36m(ClientAppActor pid=1217)\u001b[0m [Client 54] evaluate, config: {}\u001b[32m [repeated 3x across cluster]\u001b[0m\n",
            "\u001b[36m(ClientAppActor pid=1217)\u001b[0m [Client 98, round 9] fit, config: {'server_round': 9, 'local_epochs': 1}\u001b[32m [repeated 4x across cluster]\u001b[0m\n",
            "\u001b[36m(ClientAppActor pid=1217)\u001b[0m [Client 45, round 9] fit, config: {'server_round': 9, 'local_epochs': 1}\u001b[32m [repeated 2x across cluster]\u001b[0m\n",
            "\u001b[36m(ClientAppActor pid=1218)\u001b[0m [Client 83, round 9] fit, config: {'server_round': 9, 'local_epochs': 1}\u001b[32m [repeated 3x across cluster]\u001b[0m\n",
            "\u001b[36m(ClientAppActor pid=1217)\u001b[0m [Client 47, round 9] fit, config: {'server_round': 9, 'local_epochs': 1}\u001b[32m [repeated 3x across cluster]\u001b[0m\n",
            "\u001b[36m(ClientAppActor pid=1218)\u001b[0m [Client 70, round 9] fit, config: {'server_round': 9, 'local_epochs': 1}\u001b[32m [repeated 3x across cluster]\u001b[0m\n",
            "\u001b[36m(ClientAppActor pid=1217)\u001b[0m [Client 72, round 9] fit, config: {'server_round': 9, 'local_epochs': 1}\u001b[32m [repeated 3x across cluster]\u001b[0m\n",
            "\u001b[36m(ClientAppActor pid=1218)\u001b[0m [Client 97, round 9] fit, config: {'server_round': 9, 'local_epochs': 1}\u001b[32m [repeated 3x across cluster]\u001b[0m\n",
            "\u001b[36m(ClientAppActor pid=1218)\u001b[0m [Client 37, round 9] fit, config: {'server_round': 9, 'local_epochs': 1}\u001b[32m [repeated 4x across cluster]\u001b[0m\n",
            "\u001b[36m(ClientAppActor pid=1218)\u001b[0m [Client 28, round 9] fit, config: {'server_round': 9, 'local_epochs': 1}\u001b[32m [repeated 4x across cluster]\u001b[0m\n",
            "\u001b[36m(ClientAppActor pid=1218)\u001b[0m [Client 64, round 9] fit, config: {'server_round': 9, 'local_epochs': 1}\u001b[32m [repeated 4x across cluster]\u001b[0m\n",
            "\u001b[36m(ClientAppActor pid=1217)\u001b[0m [Client 2, round 9] fit, config: {'server_round': 9, 'local_epochs': 1}\u001b[32m [repeated 3x across cluster]\u001b[0m\n",
            "\u001b[36m(ClientAppActor pid=1218)\u001b[0m [Client 12, round 9] fit, config: {'server_round': 9, 'local_epochs': 1}\u001b[32m [repeated 3x across cluster]\u001b[0m\n",
            "\u001b[36m(ClientAppActor pid=1217)\u001b[0m [Client 19, round 9] fit, config: {'server_round': 9, 'local_epochs': 1}\u001b[32m [repeated 3x across cluster]\u001b[0m\n",
            "\u001b[36m(ClientAppActor pid=1218)\u001b[0m [Client 76, round 9] fit, config: {'server_round': 9, 'local_epochs': 1}\u001b[32m [repeated 3x across cluster]\u001b[0m\n",
            "\u001b[36m(ClientAppActor pid=1217)\u001b[0m [Client 90, round 9] fit, config: {'server_round': 9, 'local_epochs': 1}\u001b[32m [repeated 3x across cluster]\u001b[0m\n",
            "\u001b[36m(ClientAppActor pid=1218)\u001b[0m [Client 15, round 9] fit, config: {'server_round': 9, 'local_epochs': 1}\u001b[32m [repeated 3x across cluster]\u001b[0m\n",
            "\u001b[36m(ClientAppActor pid=1217)\u001b[0m [Client 62, round 9] fit, config: {'server_round': 9, 'local_epochs': 1}\u001b[32m [repeated 3x across cluster]\u001b[0m\n",
            "\u001b[36m(ClientAppActor pid=1218)\u001b[0m [Client 61, round 9] fit, config: {'server_round': 9, 'local_epochs': 1}\u001b[32m [repeated 3x across cluster]\u001b[0m\n",
            "\u001b[36m(ClientAppActor pid=1217)\u001b[0m [Client 21, round 9] fit, config: {'server_round': 9, 'local_epochs': 1}\u001b[32m [repeated 3x across cluster]\u001b[0m\n",
            "\u001b[36m(ClientAppActor pid=1218)\u001b[0m [Client 51, round 9] fit, config: {'server_round': 9, 'local_epochs': 1}\u001b[32m [repeated 3x across cluster]\u001b[0m\n",
            "\u001b[36m(ClientAppActor pid=1217)\u001b[0m [Client 6, round 9] fit, config: {'server_round': 9, 'local_epochs': 1}\u001b[32m [repeated 3x across cluster]\u001b[0m\n",
            "\u001b[36m(ClientAppActor pid=1218)\u001b[0m [Client 9, round 9] fit, config: {'server_round': 9, 'local_epochs': 1}\u001b[32m [repeated 3x across cluster]\u001b[0m\n",
            "\u001b[36m(ClientAppActor pid=1218)\u001b[0m [Client 86, round 9] fit, config: {'server_round': 9, 'local_epochs': 1}\u001b[32m [repeated 4x across cluster]\u001b[0m\n",
            "\u001b[36m(ClientAppActor pid=1218)\u001b[0m [Client 63, round 9] fit, config: {'server_round': 9, 'local_epochs': 1}\u001b[32m [repeated 4x across cluster]\u001b[0m\n",
            "\u001b[36m(ClientAppActor pid=1218)\u001b[0m [Client 77, round 9] fit, config: {'server_round': 9, 'local_epochs': 1}\u001b[32m [repeated 4x across cluster]\u001b[0m\n",
            "\u001b[36m(ClientAppActor pid=1217)\u001b[0m [Client 46, round 9] fit, config: {'server_round': 9, 'local_epochs': 1}\u001b[32m [repeated 3x across cluster]\u001b[0m\n",
            "\u001b[36m(ClientAppActor pid=1218)\u001b[0m [Client 52, round 9] fit, config: {'server_round': 9, 'local_epochs': 1}\u001b[32m [repeated 3x across cluster]\u001b[0m\n",
            "\u001b[36m(ClientAppActor pid=1217)\u001b[0m [Client 13, round 9] fit, config: {'server_round': 9, 'local_epochs': 1}\u001b[32m [repeated 3x across cluster]\u001b[0m\n",
            "\u001b[36m(ClientAppActor pid=1218)\u001b[0m [Client 36, round 9] fit, config: {'server_round': 9, 'local_epochs': 1}\u001b[32m [repeated 3x across cluster]\u001b[0m\n",
            "\u001b[36m(ClientAppActor pid=1217)\u001b[0m [Client 33, round 9] fit, config: {'server_round': 9, 'local_epochs': 1}\u001b[32m [repeated 3x across cluster]\u001b[0m\n",
            "\u001b[36m(ClientAppActor pid=1218)\u001b[0m [Client 34, round 9] fit, config: {'server_round': 9, 'local_epochs': 1}\u001b[32m [repeated 3x across cluster]\u001b[0m\n"
          ]
        },
        {
          "output_type": "stream",
          "name": "stderr",
          "text": [
            "\u001b[92mINFO \u001b[0m:      aggregate_fit: received 100 results and 0 failures\n",
            "\u001b[92mINFO \u001b[0m:      fit progress: (9, 0.011943857433646917, {'accuracy': 0.89}, 3497.923825787)\n",
            "\u001b[92mINFO \u001b[0m:      configure_evaluate: strategy sampled 100 clients (out of 100)\n"
          ]
        },
        {
          "output_type": "stream",
          "name": "stdout",
          "text": [
            "Server-side evaluation loss 0.011943857433646917 / accuracy 0.89\n",
            "Model saved as federated_model_9.pth\n",
            "\u001b[36m(ClientAppActor pid=1217)\u001b[0m [Client 3] evaluate, config: {}\n",
            "\u001b[36m(ClientAppActor pid=1218)\u001b[0m [Client 35] evaluate, config: {}\u001b[32m [repeated 4x across cluster]\u001b[0m\n",
            "\u001b[36m(ClientAppActor pid=1217)\u001b[0m [Client 22] evaluate, config: {}\u001b[32m [repeated 4x across cluster]\u001b[0m\n",
            "\u001b[36m(ClientAppActor pid=1217)\u001b[0m [Client 29] evaluate, config: {}\u001b[32m [repeated 4x across cluster]\u001b[0m\n",
            "\u001b[36m(ClientAppActor pid=1217)\u001b[0m [Client 18] evaluate, config: {}\u001b[32m [repeated 4x across cluster]\u001b[0m\n",
            "\u001b[36m(ClientAppActor pid=1218)\u001b[0m [Client 10] evaluate, config: {}\u001b[32m [repeated 3x across cluster]\u001b[0m\n",
            "\u001b[36m(ClientAppActor pid=1217)\u001b[0m [Client 88] evaluate, config: {}\u001b[32m [repeated 3x across cluster]\u001b[0m\n",
            "\u001b[36m(ClientAppActor pid=1217)\u001b[0m [Client 89] evaluate, config: {}\u001b[32m [repeated 4x across cluster]\u001b[0m\n",
            "\u001b[36m(ClientAppActor pid=1217)\u001b[0m [Client 55] evaluate, config: {}\u001b[32m [repeated 4x across cluster]\u001b[0m\n",
            "\u001b[36m(ClientAppActor pid=1218)\u001b[0m [Client 56] evaluate, config: {}\u001b[32m [repeated 3x across cluster]\u001b[0m\n",
            "\u001b[36m(ClientAppActor pid=1217)\u001b[0m [Client 68] evaluate, config: {}\u001b[32m [repeated 3x across cluster]\u001b[0m\n",
            "\u001b[36m(ClientAppActor pid=1218)\u001b[0m [Client 51] evaluate, config: {}\u001b[32m [repeated 3x across cluster]\u001b[0m\n",
            "\u001b[36m(ClientAppActor pid=1217)\u001b[0m [Client 41] evaluate, config: {}\u001b[32m [repeated 3x across cluster]\u001b[0m\n",
            "\u001b[36m(ClientAppActor pid=1217)\u001b[0m [Client 52] evaluate, config: {}\u001b[32m [repeated 4x across cluster]\u001b[0m\n",
            "\u001b[36m(ClientAppActor pid=1217)\u001b[0m [Client 42] evaluate, config: {}\u001b[32m [repeated 4x across cluster]\u001b[0m\n",
            "\u001b[36m(ClientAppActor pid=1217)\u001b[0m [Client 37] evaluate, config: {}\u001b[32m [repeated 4x across cluster]\u001b[0m\n",
            "\u001b[36m(ClientAppActor pid=1218)\u001b[0m [Client 49] evaluate, config: {}\u001b[32m [repeated 4x across cluster]\u001b[0m\n",
            "\u001b[36m(ClientAppActor pid=1218)\u001b[0m [Client 40] evaluate, config: {}\u001b[32m [repeated 4x across cluster]\u001b[0m\n",
            "\u001b[36m(ClientAppActor pid=1218)\u001b[0m [Client 99] evaluate, config: {}\u001b[32m [repeated 4x across cluster]\u001b[0m\n",
            "\u001b[36m(ClientAppActor pid=1217)\u001b[0m [Client 66] evaluate, config: {}\u001b[32m [repeated 4x across cluster]\u001b[0m\n",
            "\u001b[36m(ClientAppActor pid=1217)\u001b[0m [Client 64] evaluate, config: {}\u001b[32m [repeated 4x across cluster]\u001b[0m\n",
            "\u001b[36m(ClientAppActor pid=1217)\u001b[0m [Client 21] evaluate, config: {}\u001b[32m [repeated 4x across cluster]\u001b[0m\n",
            "\u001b[36m(ClientAppActor pid=1217)\u001b[0m [Client 26] evaluate, config: {}\u001b[32m [repeated 4x across cluster]\u001b[0m\n",
            "\u001b[36m(ClientAppActor pid=1217)\u001b[0m [Client 72] evaluate, config: {}\u001b[32m [repeated 4x across cluster]\u001b[0m\n",
            "\u001b[36m(ClientAppActor pid=1217)\u001b[0m [Client 98] evaluate, config: {}\u001b[32m [repeated 4x across cluster]\u001b[0m\n",
            "\u001b[36m(ClientAppActor pid=1217)\u001b[0m [Client 95] evaluate, config: {}\u001b[32m [repeated 4x across cluster]\u001b[0m\n",
            "\u001b[36m(ClientAppActor pid=1217)\u001b[0m [Client 25] evaluate, config: {}\u001b[32m [repeated 4x across cluster]\u001b[0m\n"
          ]
        },
        {
          "output_type": "stream",
          "name": "stderr",
          "text": [
            "\u001b[92mINFO \u001b[0m:      aggregate_evaluate: received 100 results and 0 failures\n",
            "\u001b[92mINFO \u001b[0m:      \n",
            "\u001b[92mINFO \u001b[0m:      [ROUND 10]\n",
            "\u001b[92mINFO \u001b[0m:      configure_fit: strategy sampled 100 clients (out of 100)\n"
          ]
        },
        {
          "output_type": "stream",
          "name": "stdout",
          "text": [
            "My_weighted_average -0.8798333333333334 0.0 \n",
            "\u001b[36m(ClientAppActor pid=1217)\u001b[0m [Client 41, round 10] fit, config: {'server_round': 10, 'local_epochs': 1}\n",
            "\u001b[36m(ClientAppActor pid=1218)\u001b[0m [Client 63] evaluate, config: {}\n",
            "\u001b[36m(ClientAppActor pid=1217)\u001b[0m [Client 47, round 10] fit, config: {'server_round': 10, 'local_epochs': 1}\u001b[32m [repeated 2x across cluster]\u001b[0m\n",
            "\u001b[36m(ClientAppActor pid=1218)\u001b[0m [Client 98, round 10] fit, config: {'server_round': 10, 'local_epochs': 1}\u001b[32m [repeated 4x across cluster]\u001b[0m\n",
            "\u001b[36m(ClientAppActor pid=1217)\u001b[0m [Client 1, round 10] fit, config: {'server_round': 10, 'local_epochs': 1}\u001b[32m [repeated 4x across cluster]\u001b[0m\n",
            "\u001b[36m(ClientAppActor pid=1218)\u001b[0m [Client 74, round 10] fit, config: {'server_round': 10, 'local_epochs': 1}\u001b[32m [repeated 3x across cluster]\u001b[0m\n",
            "\u001b[36m(ClientAppActor pid=1218)\u001b[0m [Client 11, round 10] fit, config: {'server_round': 10, 'local_epochs': 1}\u001b[32m [repeated 4x across cluster]\u001b[0m\n",
            "\u001b[36m(ClientAppActor pid=1218)\u001b[0m [Client 60, round 10] fit, config: {'server_round': 10, 'local_epochs': 1}\u001b[32m [repeated 4x across cluster]\u001b[0m\n",
            "\u001b[36m(ClientAppActor pid=1218)\u001b[0m [Client 39, round 10] fit, config: {'server_round': 10, 'local_epochs': 1}\u001b[32m [repeated 4x across cluster]\u001b[0m\n",
            "\u001b[36m(ClientAppActor pid=1217)\u001b[0m [Client 3, round 10] fit, config: {'server_round': 10, 'local_epochs': 1}\u001b[32m [repeated 4x across cluster]\u001b[0m\n",
            "\u001b[36m(ClientAppActor pid=1217)\u001b[0m [Client 82, round 10] fit, config: {'server_round': 10, 'local_epochs': 1}\u001b[32m [repeated 4x across cluster]\u001b[0m\n",
            "\u001b[36m(ClientAppActor pid=1217)\u001b[0m [Client 64, round 10] fit, config: {'server_round': 10, 'local_epochs': 1}\u001b[32m [repeated 4x across cluster]\u001b[0m\n",
            "\u001b[36m(ClientAppActor pid=1217)\u001b[0m [Client 52, round 10] fit, config: {'server_round': 10, 'local_epochs': 1}\u001b[32m [repeated 4x across cluster]\u001b[0m\n",
            "\u001b[36m(ClientAppActor pid=1218)\u001b[0m [Client 54, round 10] fit, config: {'server_round': 10, 'local_epochs': 1}\u001b[32m [repeated 4x across cluster]\u001b[0m\n",
            "\u001b[36m(ClientAppActor pid=1218)\u001b[0m [Client 12, round 10] fit, config: {'server_round': 10, 'local_epochs': 1}\u001b[32m [repeated 4x across cluster]\u001b[0m\n",
            "\u001b[36m(ClientAppActor pid=1218)\u001b[0m [Client 37, round 10] fit, config: {'server_round': 10, 'local_epochs': 1}\u001b[32m [repeated 4x across cluster]\u001b[0m\n",
            "\u001b[36m(ClientAppActor pid=1217)\u001b[0m [Client 31, round 10] fit, config: {'server_round': 10, 'local_epochs': 1}\u001b[32m [repeated 4x across cluster]\u001b[0m\n",
            "\u001b[36m(ClientAppActor pid=1218)\u001b[0m [Client 5, round 10] fit, config: {'server_round': 10, 'local_epochs': 1}\u001b[32m [repeated 4x across cluster]\u001b[0m\n",
            "\u001b[36m(ClientAppActor pid=1218)\u001b[0m [Client 72, round 10] fit, config: {'server_round': 10, 'local_epochs': 1}\u001b[32m [repeated 4x across cluster]\u001b[0m\n",
            "\u001b[36m(ClientAppActor pid=1218)\u001b[0m [Client 40, round 10] fit, config: {'server_round': 10, 'local_epochs': 1}\u001b[32m [repeated 4x across cluster]\u001b[0m\n",
            "\u001b[36m(ClientAppActor pid=1218)\u001b[0m [Client 7, round 10] fit, config: {'server_round': 10, 'local_epochs': 1}\u001b[32m [repeated 4x across cluster]\u001b[0m\n",
            "\u001b[36m(ClientAppActor pid=1218)\u001b[0m [Client 50, round 10] fit, config: {'server_round': 10, 'local_epochs': 1}\u001b[32m [repeated 4x across cluster]\u001b[0m\n",
            "\u001b[36m(ClientAppActor pid=1218)\u001b[0m [Client 56, round 10] fit, config: {'server_round': 10, 'local_epochs': 1}\u001b[32m [repeated 4x across cluster]\u001b[0m\n",
            "\u001b[36m(ClientAppActor pid=1218)\u001b[0m [Client 68, round 10] fit, config: {'server_round': 10, 'local_epochs': 1}\u001b[32m [repeated 4x across cluster]\u001b[0m\n",
            "\u001b[36m(ClientAppActor pid=1217)\u001b[0m [Client 87, round 10] fit, config: {'server_round': 10, 'local_epochs': 1}\u001b[32m [repeated 4x across cluster]\u001b[0m\n",
            "\u001b[36m(ClientAppActor pid=1218)\u001b[0m [Client 19, round 10] fit, config: {'server_round': 10, 'local_epochs': 1}\u001b[32m [repeated 4x across cluster]\u001b[0m\n",
            "\u001b[36m(ClientAppActor pid=1218)\u001b[0m [Client 83, round 10] fit, config: {'server_round': 10, 'local_epochs': 1}\u001b[32m [repeated 4x across cluster]\u001b[0m\n"
          ]
        },
        {
          "output_type": "stream",
          "name": "stderr",
          "text": [
            "\u001b[92mINFO \u001b[0m:      aggregate_fit: received 100 results and 0 failures\n",
            "\u001b[92mINFO \u001b[0m:      fit progress: (10, 0.010605307241529227, {'accuracy': 0.8994}, 3916.5016214969996)\n",
            "\u001b[92mINFO \u001b[0m:      configure_evaluate: strategy sampled 100 clients (out of 100)\n"
          ]
        },
        {
          "output_type": "stream",
          "name": "stdout",
          "text": [
            "Server-side evaluation loss 0.010605307241529227 / accuracy 0.8994\n",
            "Model saved as federated_model_10.pth\n",
            "\u001b[36m(ClientAppActor pid=1218)\u001b[0m [Client 7] evaluate, config: {}\n",
            "\u001b[36m(ClientAppActor pid=1218)\u001b[0m [Client 97, round 10] fit, config: {'server_round': 10, 'local_epochs': 1}\u001b[32m [repeated 2x across cluster]\u001b[0m\n",
            "\u001b[36m(ClientAppActor pid=1217)\u001b[0m [Client 95] evaluate, config: {}\u001b[32m [repeated 4x across cluster]\u001b[0m\n",
            "\u001b[36m(ClientAppActor pid=1218)\u001b[0m [Client 93] evaluate, config: {}\u001b[32m [repeated 4x across cluster]\u001b[0m\n",
            "\u001b[36m(ClientAppActor pid=1217)\u001b[0m [Client 37] evaluate, config: {}\u001b[32m [repeated 2x across cluster]\u001b[0m\n",
            "\u001b[36m(ClientAppActor pid=1217)\u001b[0m [Client 94] evaluate, config: {}\u001b[32m [repeated 4x across cluster]\u001b[0m\n",
            "\u001b[36m(ClientAppActor pid=1217)\u001b[0m [Client 83] evaluate, config: {}\u001b[32m [repeated 4x across cluster]\u001b[0m\n",
            "\u001b[36m(ClientAppActor pid=1217)\u001b[0m [Client 52] evaluate, config: {}\u001b[32m [repeated 4x across cluster]\u001b[0m\n",
            "\u001b[36m(ClientAppActor pid=1217)\u001b[0m [Client 30] evaluate, config: {}\u001b[32m [repeated 4x across cluster]\u001b[0m\n",
            "\u001b[36m(ClientAppActor pid=1217)\u001b[0m [Client 27] evaluate, config: {}\u001b[32m [repeated 4x across cluster]\u001b[0m\n",
            "\u001b[36m(ClientAppActor pid=1217)\u001b[0m [Client 98] evaluate, config: {}\u001b[32m [repeated 4x across cluster]\u001b[0m\n",
            "\u001b[36m(ClientAppActor pid=1217)\u001b[0m [Client 32] evaluate, config: {}\u001b[32m [repeated 4x across cluster]\u001b[0m\n",
            "\u001b[36m(ClientAppActor pid=1217)\u001b[0m [Client 35] evaluate, config: {}\u001b[32m [repeated 4x across cluster]\u001b[0m\n",
            "\u001b[36m(ClientAppActor pid=1217)\u001b[0m [Client 55] evaluate, config: {}\u001b[32m [repeated 4x across cluster]\u001b[0m\n",
            "\u001b[36m(ClientAppActor pid=1217)\u001b[0m [Client 45] evaluate, config: {}\u001b[32m [repeated 4x across cluster]\u001b[0m\n",
            "\u001b[36m(ClientAppActor pid=1217)\u001b[0m [Client 5] evaluate, config: {}\u001b[32m [repeated 4x across cluster]\u001b[0m\n",
            "\u001b[36m(ClientAppActor pid=1217)\u001b[0m [Client 11] evaluate, config: {}\u001b[32m [repeated 4x across cluster]\u001b[0m\n",
            "\u001b[36m(ClientAppActor pid=1217)\u001b[0m [Client 0] evaluate, config: {}\u001b[32m [repeated 4x across cluster]\u001b[0m\n",
            "\u001b[36m(ClientAppActor pid=1217)\u001b[0m [Client 43] evaluate, config: {}\u001b[32m [repeated 4x across cluster]\u001b[0m\n",
            "\u001b[36m(ClientAppActor pid=1217)\u001b[0m [Client 25] evaluate, config: {}\u001b[32m [repeated 4x across cluster]\u001b[0m\n",
            "\u001b[36m(ClientAppActor pid=1217)\u001b[0m [Client 50] evaluate, config: {}\u001b[32m [repeated 4x across cluster]\u001b[0m\n",
            "\u001b[36m(ClientAppActor pid=1217)\u001b[0m [Client 39] evaluate, config: {}\u001b[32m [repeated 4x across cluster]\u001b[0m\n",
            "\u001b[36m(ClientAppActor pid=1217)\u001b[0m [Client 63] evaluate, config: {}\u001b[32m [repeated 4x across cluster]\u001b[0m\n",
            "\u001b[36m(ClientAppActor pid=1217)\u001b[0m [Client 31] evaluate, config: {}\u001b[32m [repeated 4x across cluster]\u001b[0m\n",
            "\u001b[36m(ClientAppActor pid=1217)\u001b[0m [Client 71] evaluate, config: {}\u001b[32m [repeated 4x across cluster]\u001b[0m\n",
            "\u001b[36m(ClientAppActor pid=1218)\u001b[0m [Client 19] evaluate, config: {}\u001b[32m [repeated 3x across cluster]\u001b[0m\n",
            "\u001b[36m(ClientAppActor pid=1217)\u001b[0m [Client 73] evaluate, config: {}\u001b[32m [repeated 3x across cluster]\u001b[0m\n"
          ]
        },
        {
          "output_type": "stream",
          "name": "stderr",
          "text": [
            "\u001b[92mINFO \u001b[0m:      aggregate_evaluate: received 100 results and 0 failures\n",
            "\u001b[92mINFO \u001b[0m:      \n",
            "\u001b[92mINFO \u001b[0m:      [SUMMARY]\n",
            "\u001b[92mINFO \u001b[0m:      Run finished 10 round(s) in 4110.01s\n",
            "\u001b[92mINFO \u001b[0m:      \tHistory (loss, distributed):\n",
            "\u001b[92mINFO \u001b[0m:      \t\tround 1: 0.07638917601108554\n",
            "\u001b[92mINFO \u001b[0m:      \t\tround 2: 0.07568218704064687\n",
            "\u001b[92mINFO \u001b[0m:      \t\tround 3: 0.0740942249099414\n",
            "\u001b[92mINFO \u001b[0m:      \t\tround 4: 0.06900924653808274\n",
            "\u001b[92mINFO \u001b[0m:      \t\tround 5: 0.048342982242504766\n",
            "\u001b[92mINFO \u001b[0m:      \t\tround 6: 0.02363182738174995\n",
            "\u001b[92mINFO \u001b[0m:      \t\tround 7: 0.018805093519389623\n",
            "\u001b[92mINFO \u001b[0m:      \t\tround 8: 0.015262411387016377\n",
            "\u001b[92mINFO \u001b[0m:      \t\tround 9: 0.013719038127611084\n",
            "\u001b[92mINFO \u001b[0m:      \t\tround 10: 0.012230183953419332\n",
            "\u001b[92mINFO \u001b[0m:      \tHistory (loss, centralized):\n",
            "\u001b[92mINFO \u001b[0m:      \t\tround 0: 0.0721886756658554\n",
            "\u001b[92mINFO \u001b[0m:      \t\tround 1: 0.07172676692008972\n",
            "\u001b[92mINFO \u001b[0m:      \t\tround 2: 0.07105273990631103\n",
            "\u001b[92mINFO \u001b[0m:      \t\tround 3: 0.06953631930351258\n",
            "\u001b[92mINFO \u001b[0m:      \t\tround 4: 0.06467111406326294\n",
            "\u001b[92mINFO \u001b[0m:      \t\tround 5: 0.04484471033811569\n",
            "\u001b[92mINFO \u001b[0m:      \t\tround 6: 0.021290989711880683\n",
            "\u001b[92mINFO \u001b[0m:      \t\tround 7: 0.01671361759006977\n",
            "\u001b[92mINFO \u001b[0m:      \t\tround 8: 0.013299905429780483\n",
            "\u001b[92mINFO \u001b[0m:      \t\tround 9: 0.011943857433646917\n",
            "\u001b[92mINFO \u001b[0m:      \t\tround 10: 0.010605307241529227\n",
            "\u001b[92mINFO \u001b[0m:      \tHistory (metrics, distributed, evaluate):\n",
            "\u001b[92mINFO \u001b[0m:      \t{'accuracy': [(1, 0.1394166666666667),\n",
            "\u001b[92mINFO \u001b[0m:      \t              (2, 0.21599999999999986),\n",
            "\u001b[92mINFO \u001b[0m:      \t              (3, 0.26541666666666675),\n",
            "\u001b[92mINFO \u001b[0m:      \t              (4, 0.48283333333333334),\n",
            "\u001b[92mINFO \u001b[0m:      \t              (5, 0.6492500000000001),\n",
            "\u001b[92mINFO \u001b[0m:      \t              (6, 0.7974166666666669),\n",
            "\u001b[92mINFO \u001b[0m:      \t              (7, 0.8441666666666668),\n",
            "\u001b[92mINFO \u001b[0m:      \t              (8, 0.8629166666666664),\n",
            "\u001b[92mINFO \u001b[0m:      \t              (9, 0.8798333333333334),\n",
            "\u001b[92mINFO \u001b[0m:      \t              (10, 0.8914166666666666)],\n",
            "\u001b[92mINFO \u001b[0m:      \t 'loss': [(1, 0.0),\n",
            "\u001b[92mINFO \u001b[0m:      \t          (2, 0.0),\n",
            "\u001b[92mINFO \u001b[0m:      \t          (3, 0.0),\n",
            "\u001b[92mINFO \u001b[0m:      \t          (4, 0.0),\n",
            "\u001b[92mINFO \u001b[0m:      \t          (5, 0.0),\n",
            "\u001b[92mINFO \u001b[0m:      \t          (6, 0.0),\n",
            "\u001b[92mINFO \u001b[0m:      \t          (7, 0.0),\n",
            "\u001b[92mINFO \u001b[0m:      \t          (8, 0.0),\n",
            "\u001b[92mINFO \u001b[0m:      \t          (9, 0.0),\n",
            "\u001b[92mINFO \u001b[0m:      \t          (10, 0.0)]}\n",
            "\u001b[92mINFO \u001b[0m:      \tHistory (metrics, centralized):\n",
            "\u001b[92mINFO \u001b[0m:      \t{'accuracy': [(0, 0.0987),\n",
            "\u001b[92mINFO \u001b[0m:      \t              (1, 0.1394),\n",
            "\u001b[92mINFO \u001b[0m:      \t              (2, 0.2093),\n",
            "\u001b[92mINFO \u001b[0m:      \t              (3, 0.263),\n",
            "\u001b[92mINFO \u001b[0m:      \t              (4, 0.4857),\n",
            "\u001b[92mINFO \u001b[0m:      \t              (5, 0.6674),\n",
            "\u001b[92mINFO \u001b[0m:      \t              (6, 0.8091),\n",
            "\u001b[92mINFO \u001b[0m:      \t              (7, 0.8512),\n",
            "\u001b[92mINFO \u001b[0m:      \t              (8, 0.8743),\n",
            "\u001b[92mINFO \u001b[0m:      \t              (9, 0.89),\n",
            "\u001b[92mINFO \u001b[0m:      \t              (10, 0.8994)]}\n",
            "\u001b[92mINFO \u001b[0m:      \n"
          ]
        },
        {
          "output_type": "stream",
          "name": "stdout",
          "text": [
            "My_weighted_average -0.8914166666666666 0.0 \n",
            "\u001b[36m(ClientAppActor pid=1218)\u001b[0m [Client 64] evaluate, config: {}\u001b[32m [repeated 3x across cluster]\u001b[0m\n"
          ]
        },
        {
          "output_type": "stream",
          "name": "stderr",
          "text": [
            "\u001b[36m(ClientAppActor pid=1217)\u001b[0m /usr/local/lib/python3.10/dist-packages/jupyter_client/connect.py:28: DeprecationWarning: Jupyter is migrating its paths to use standard platformdirs\n",
            "\u001b[36m(ClientAppActor pid=1217)\u001b[0m given by the platformdirs library.  To remove this warning and\n",
            "\u001b[36m(ClientAppActor pid=1217)\u001b[0m see the appropriate new directories, set the environment variable\n",
            "\u001b[36m(ClientAppActor pid=1217)\u001b[0m `JUPYTER_PLATFORM_DIRS=1` and then run `jupyter --paths`.\n",
            "\u001b[36m(ClientAppActor pid=1217)\u001b[0m The use of platformdirs will be the default in `jupyter_core` v6\n",
            "\u001b[36m(ClientAppActor pid=1217)\u001b[0m   from jupyter_core.paths import jupyter_data_dir, jupyter_runtime_dir, secure_write\n"
          ]
        }
      ]
    },
    {
      "cell_type": "markdown",
      "source": [
        "# plots"
      ],
      "metadata": {
        "id": "GXe5220lOSjl"
      }
    },
    {
      "cell_type": "code",
      "source": [
        "net.load_state_dict(torch.load(\"federated_model_3.pth\"))\n",
        "net.eval()\n",
        "_, valloader, _ = load_datasets(0, 1)\n",
        "loss, accuracy = test(net, valloader)\n",
        "print(f\"Validation Loss: {loss:.4f}\")\n",
        "print(f\"Validation Accuracy: {accuracy:.2f}%\")"
      ],
      "metadata": {
        "id": "Fps6ktTxMjLJ",
        "colab": {
          "base_uri": "https://localhost:8080/"
        },
        "outputId": "1f5c36c6-1b7a-4273-9fde-decc9f268955"
      },
      "execution_count": 23,
      "outputs": [
        {
          "output_type": "stream",
          "name": "stderr",
          "text": [
            "/usr/local/lib/python3.10/dist-packages/ipykernel/ipkernel.py:283: DeprecationWarning: `should_run_async` will not call `transform_cell` automatically in the future. Please pass the result to `transformed_cell` argument and any exception that happen during thetransform in `preprocessing_exc_tuple` in IPython 7.17 and above.\n",
            "  and should_run_async(code)\n",
            "<ipython-input-23-ee3b8fdb1208>:1: FutureWarning: You are using `torch.load` with `weights_only=False` (the current default value), which uses the default pickle module implicitly. It is possible to construct malicious pickle data which will execute arbitrary code during unpickling (See https://github.com/pytorch/pytorch/blob/main/SECURITY.md#untrusted-models for more details). In a future release, the default value for `weights_only` will be flipped to `True`. This limits the functions that could be executed during unpickling. Arbitrary objects will no longer be allowed to be loaded via this mode unless they are explicitly allowlisted by the user via `torch.serialization.add_safe_globals`. We recommend you start setting `weights_only=True` for any use case where you don't have full control of the loaded file. Please open an issue on GitHub for any issues related to this experimental feature.\n",
            "  net.load_state_dict(torch.load(\"federated_model_3.pth\"))\n"
          ]
        },
        {
          "output_type": "stream",
          "name": "stdout",
          "text": [
            "Validation Loss: 0.0695\n",
            "Validation Accuracy: 0.26%\n"
          ]
        }
      ]
    },
    {
      "cell_type": "code",
      "source": [
        "Agregation_history"
      ],
      "metadata": {
        "id": "1-j5_eQFDq25",
        "colab": {
          "base_uri": "https://localhost:8080/"
        },
        "outputId": "8a666478-f1e6-48ae-a998-58c7104a3f5a"
      },
      "execution_count": 24,
      "outputs": [
        {
          "output_type": "stream",
          "name": "stderr",
          "text": [
            "/usr/local/lib/python3.10/dist-packages/ipykernel/ipkernel.py:283: DeprecationWarning: `should_run_async` will not call `transform_cell` automatically in the future. Please pass the result to `transformed_cell` argument and any exception that happen during thetransform in `preprocessing_exc_tuple` in IPython 7.17 and above.\n",
            "  and should_run_async(code)\n"
          ]
        },
        {
          "output_type": "execute_result",
          "data": {
            "text/plain": [
              "[{'loss': 0.0, 'accuracy': 0.1394166666666667},\n",
              " {'loss': 0.0, 'accuracy': 0.21599999999999986},\n",
              " {'loss': 0.0, 'accuracy': 0.26541666666666675},\n",
              " {'loss': 0.0, 'accuracy': 0.48283333333333334},\n",
              " {'loss': 0.0, 'accuracy': 0.6492500000000001},\n",
              " {'loss': 0.0, 'accuracy': 0.7974166666666669},\n",
              " {'loss': 0.0, 'accuracy': 0.8441666666666668},\n",
              " {'loss': 0.0, 'accuracy': 0.8629166666666664},\n",
              " {'loss': 0.0, 'accuracy': 0.8798333333333334},\n",
              " {'loss': 0.0, 'accuracy': 0.8914166666666666}]"
            ]
          },
          "metadata": {},
          "execution_count": 24
        }
      ]
    },
    {
      "cell_type": "code",
      "source": [
        "evaluation_history"
      ],
      "metadata": {
        "id": "Jtz2MZwX5WdT",
        "colab": {
          "base_uri": "https://localhost:8080/"
        },
        "outputId": "d48566ed-61f5-4e44-9f64-c59d75781e7d"
      },
      "execution_count": 25,
      "outputs": [
        {
          "output_type": "execute_result",
          "data": {
            "text/plain": [
              "[{'round': 0, 'loss': 0.0721886756658554, 'accuracy': 0.0987},\n",
              " {'round': 1, 'loss': 0.07172676692008972, 'accuracy': 0.1394},\n",
              " {'round': 2, 'loss': 0.07105273990631103, 'accuracy': 0.2093},\n",
              " {'round': 3, 'loss': 0.06953631930351258, 'accuracy': 0.263},\n",
              " {'round': 4, 'loss': 0.06467111406326294, 'accuracy': 0.4857},\n",
              " {'round': 5, 'loss': 0.04484471033811569, 'accuracy': 0.6674},\n",
              " {'round': 6, 'loss': 0.021290989711880683, 'accuracy': 0.8091},\n",
              " {'round': 7, 'loss': 0.01671361759006977, 'accuracy': 0.8512},\n",
              " {'round': 8, 'loss': 0.013299905429780483, 'accuracy': 0.8743},\n",
              " {'round': 9, 'loss': 0.011943857433646917, 'accuracy': 0.89},\n",
              " {'round': 10, 'loss': 0.010605307241529227, 'accuracy': 0.8994}]"
            ]
          },
          "metadata": {},
          "execution_count": 25
        }
      ]
    },
    {
      "cell_type": "code",
      "source": [
        "accuracy_values = [d['accuracy'] for d in Agregation_history]\n",
        "plt.plot(accuracy_values)\n",
        "plt.show()"
      ],
      "metadata": {
        "collapsed": true,
        "id": "05FnkZl4EXWd",
        "colab": {
          "base_uri": "https://localhost:8080/",
          "height": 430
        },
        "outputId": "0de51fa3-50bd-4d81-c2bd-2536e17f25aa"
      },
      "execution_count": 26,
      "outputs": [
        {
          "output_type": "display_data",
          "data": {
            "text/plain": [
              "<Figure size 640x480 with 1 Axes>"
            ],
            "image/png": "[encoded data removed]"
          },
          "metadata": {}
        }
      ]
    },
    {
      "cell_type": "code",
      "source": [
        "rounds = [entry[\"round\"] for entry in evaluation_history]\n",
        "loss = [entry[\"loss\"] for entry in evaluation_history]\n",
        "accuracy = [entry[\"accuracy\"] for entry in evaluation_history]\n",
        "\n",
        "fig, ax1 = plt.subplots()\n",
        "\n",
        "# Plot loss on the first y-axis\n",
        "ax1.set_xlabel(\"Round\")\n",
        "ax1.set_ylabel(\"Loss\", color=\"tab:red\")\n",
        "ax1.plot(rounds, loss, color=\"tab:red\", label=\"Loss\")\n",
        "ax1.tick_params(axis=\"y\", labelcolor=\"tab:red\")\n",
        "\n",
        "# Create a second y-axis for accuracy\n",
        "ax2 = ax1.twinx()\n",
        "ax2.set_ylabel(\"Accuracy\", color=\"tab:blue\")\n",
        "ax2.plot(rounds, accuracy, color=\"tab:blue\", label=\"Accuracy\")\n",
        "ax2.tick_params(axis=\"y\", labelcolor=\"tab:blue\")\n",
        "\n",
        "# Title and legend\n",
        "fig.suptitle(\"Loss and Accuracy over Training Rounds\")\n",
        "ax1.legend(loc=\"upper left\")\n",
        "ax2.legend(loc=\"upper right\")\n",
        "\n",
        "# Show the plot\n",
        "plt.show()\n"
      ],
      "metadata": {
        "id": "Nceh6n9N5ovV",
        "collapsed": true,
        "colab": {
          "base_uri": "https://localhost:8080/",
          "height": 497
        },
        "outputId": "735edde2-2407-4548-a9c2-63b3da674f20"
      },
      "execution_count": 27,
      "outputs": [
        {
          "output_type": "display_data",
          "data": {
            "text/plain": [
              "<Figure size 640x480 with 2 Axes>"
            ],
            "image/png": "[encoded data removed]"
          },
          "metadata": {}
        }
      ]
    }
  ],
  "metadata": {
    "colab": {
      "collapsed_sections": [
        "nm_KsFraeQNa",
        "C8jpPOMUeesL",
        "AosnHQ_ojGd7",
        "BrJWWa_JjUTk",
        "_vxerus6q9qy",
        "bWjz0Nerendb",
        "957pzoxDewHM",
        "-xTUj8cKxV60"
      ],
      "provenance": [],
      "authorship_tag": "ABX9TyPVWOIGxaTAeDj6T4tMuPAF",
      "include_colab_link": true
    },
    "kernelspec": {
      "display_name": "Python 3",
      "name": "python3"
    },
    "language_info": {
      "name": "python"
    },
    "widgets": {
      "application/vnd.jupyter.widget-state+json": {
        "760b6ececa704d5fac647e867e1e7d55": {
          "model_module": "@jupyter-widgets/controls",
          "model_name": "HBoxModel",
          "model_module_version": "1.5.0",
          "state": {
            "_dom_classes": [],
            "_model_module": "@jupyter-widgets/controls",
            "_model_module_version": "1.5.0",
            "_model_name": "HBoxModel",
            "_view_count": null,
            "_view_module": "@jupyter-widgets/controls",
            "_view_module_version": "1.5.0",
            "_view_name": "HBoxView",
            "box_style": "",
            "children": [
              "IPY_MODEL_c729aabd218940a0afb1b02284ec018f",
              "IPY_MODEL_18ba6fdf1f2246f18079e4eb310e73f3",
              "IPY_MODEL_bd7a99cf12fb4ab49a97816fe776cd85"
            ],
            "layout": "IPY_MODEL_0449cd810854457bbd69a825f83120fa"
          }
        },
        "c729aabd218940a0afb1b02284ec018f": {
          "model_module": "@jupyter-widgets/controls",
          "model_name": "HTMLModel",
          "model_module_version": "1.5.0",
          "state": {
            "_dom_classes": [],
            "_model_module": "@jupyter-widgets/controls",
            "_model_module_version": "1.5.0",
            "_model_name": "HTMLModel",
            "_view_count": null,
            "_view_module": "@jupyter-widgets/controls",
            "_view_module_version": "1.5.0",
            "_view_name": "HTMLView",
            "description": "",
            "description_tooltip": null,
            "layout": "IPY_MODEL_07717a7fee0e48008d264bca291150df",
            "placeholder": "​",
            "style": "IPY_MODEL_6f89e866c8414b0494bd55d7f6e4166c",
            "value": "README.md: 100%"
          }
        },
        "18ba6fdf1f2246f18079e4eb310e73f3": {
          "model_module": "@jupyter-widgets/controls",
          "model_name": "FloatProgressModel",
          "model_module_version": "1.5.0",
          "state": {
            "_dom_classes": [],
            "_model_module": "@jupyter-widgets/controls",
            "_model_module_version": "1.5.0",
            "_model_name": "FloatProgressModel",
            "_view_count": null,
            "_view_module": "@jupyter-widgets/controls",
            "_view_module_version": "1.5.0",
            "_view_name": "ProgressView",
            "bar_style": "success",
            "description": "",
            "description_tooltip": null,
            "layout": "IPY_MODEL_12a9d326159d42879e0d5eb71c9c98b9",
            "max": 6971,
            "min": 0,
            "orientation": "horizontal",
            "style": "IPY_MODEL_22bdb2fd19eb405dae072f2f0ab2e41a",
            "value": 6971
          }
        },
        "bd7a99cf12fb4ab49a97816fe776cd85": {
          "model_module": "@jupyter-widgets/controls",
          "model_name": "HTMLModel",
          "model_module_version": "1.5.0",
          "state": {
            "_dom_classes": [],
            "_model_module": "@jupyter-widgets/controls",
            "_model_module_version": "1.5.0",
            "_model_name": "HTMLModel",
            "_view_count": null,
            "_view_module": "@jupyter-widgets/controls",
            "_view_module_version": "1.5.0",
            "_view_name": "HTMLView",
            "description": "",
            "description_tooltip": null,
            "layout": "IPY_MODEL_0f09416c5b464ea582cfc40dcbd27123",
            "placeholder": "​",
            "style": "IPY_MODEL_60cd0ba694214e2bbd1f3aa7200a8298",
            "value": " 6.97k/6.97k [00:00&lt;00:00, 333kB/s]"
          }
        },
        "0449cd810854457bbd69a825f83120fa": {
          "model_module": "@jupyter-widgets/base",
          "model_name": "LayoutModel",
          "model_module_version": "1.2.0",
          "state": {
            "_model_module": "@jupyter-widgets/base",
            "_model_module_version": "1.2.0",
            "_model_name": "LayoutModel",
            "_view_count": null,
            "_view_module": "@jupyter-widgets/base",
            "_view_module_version": "1.2.0",
            "_view_name": "LayoutView",
            "align_content": null,
            "align_items": null,
            "align_self": null,
            "border": null,
            "bottom": null,
            "display": null,
            "flex": null,
            "flex_flow": null,
            "grid_area": null,
            "grid_auto_columns": null,
            "grid_auto_flow": null,
            "grid_auto_rows": null,
            "grid_column": null,
            "grid_gap": null,
            "grid_row": null,
            "grid_template_areas": null,
            "grid_template_columns": null,
            "grid_template_rows": null,
            "height": null,
            "justify_content": null,
            "justify_items": null,
            "left": null,
            "margin": null,
            "max_height": null,
            "max_width": null,
            "min_height": null,
            "min_width": null,
            "object_fit": null,
            "object_position": null,
            "order": null,
            "overflow": null,
            "overflow_x": null,
            "overflow_y": null,
            "padding": null,
            "right": null,
            "top": null,
            "visibility": null,
            "width": null
          }
        },
        "07717a7fee0e48008d264bca291150df": {
          "model_module": "@jupyter-widgets/base",
          "model_name": "LayoutModel",
          "model_module_version": "1.2.0",
          "state": {
            "_model_module": "@jupyter-widgets/base",
            "_model_module_version": "1.2.0",
            "_model_name": "LayoutModel",
            "_view_count": null,
            "_view_module": "@jupyter-widgets/base",
            "_view_module_version": "1.2.0",
            "_view_name": "LayoutView",
            "align_content": null,
            "align_items": null,
            "align_self": null,
            "border": null,
            "bottom": null,
            "display": null,
            "flex": null,
            "flex_flow": null,
            "grid_area": null,
            "grid_auto_columns": null,
            "grid_auto_flow": null,
            "grid_auto_rows": null,
            "grid_column": null,
            "grid_gap": null,
            "grid_row": null,
            "grid_template_areas": null,
            "grid_template_columns": null,
            "grid_template_rows": null,
            "height": null,
            "justify_content": null,
            "justify_items": null,
            "left": null,
            "margin": null,
            "max_height": null,
            "max_width": null,
            "min_height": null,
            "min_width": null,
            "object_fit": null,
            "object_position": null,
            "order": null,
            "overflow": null,
            "overflow_x": null,
            "overflow_y": null,
            "padding": null,
            "right": null,
            "top": null,
            "visibility": null,
            "width": null
          }
        },
        "6f89e866c8414b0494bd55d7f6e4166c": {
          "model_module": "@jupyter-widgets/controls",
          "model_name": "DescriptionStyleModel",
          "model_module_version": "1.5.0",
          "state": {
            "_model_module": "@jupyter-widgets/controls",
            "_model_module_version": "1.5.0",
            "_model_name": "DescriptionStyleModel",
            "_view_count": null,
            "_view_module": "@jupyter-widgets/base",
            "_view_module_version": "1.2.0",
            "_view_name": "StyleView",
            "description_width": ""
          }
        },
        "12a9d326159d42879e0d5eb71c9c98b9": {
          "model_module": "@jupyter-widgets/base",
          "model_name": "LayoutModel",
          "model_module_version": "1.2.0",
          "state": {
            "_model_module": "@jupyter-widgets/base",
            "_model_module_version": "1.2.0",
            "_model_name": "LayoutModel",
            "_view_count": null,
            "_view_module": "@jupyter-widgets/base",
            "_view_module_version": "1.2.0",
            "_view_name": "LayoutView",
            "align_content": null,
            "align_items": null,
            "align_self": null,
            "border": null,
            "bottom": null,
            "display": null,
            "flex": null,
            "flex_flow": null,
            "grid_area": null,
            "grid_auto_columns": null,
            "grid_auto_flow": null,
            "grid_auto_rows": null,
            "grid_column": null,
            "grid_gap": null,
            "grid_row": null,
            "grid_template_areas": null,
            "grid_template_columns": null,
            "grid_template_rows": null,
            "height": null,
            "justify_content": null,
            "justify_items": null,
            "left": null,
            "margin": null,
            "max_height": null,
            "max_width": null,
            "min_height": null,
            "min_width": null,
            "object_fit": null,
            "object_position": null,
            "order": null,
            "overflow": null,
            "overflow_x": null,
            "overflow_y": null,
            "padding": null,
            "right": null,
            "top": null,
            "visibility": null,
            "width": null
          }
        },
        "22bdb2fd19eb405dae072f2f0ab2e41a": {
          "model_module": "@jupyter-widgets/controls",
          "model_name": "ProgressStyleModel",
          "model_module_version": "1.5.0",
          "state": {
            "_model_module": "@jupyter-widgets/controls",
            "_model_module_version": "1.5.0",
            "_model_name": "ProgressStyleModel",
            "_view_count": null,
            "_view_module": "@jupyter-widgets/base",
            "_view_module_version": "1.2.0",
            "_view_name": "StyleView",
            "bar_color": null,
            "description_width": ""
          }
        },
        "0f09416c5b464ea582cfc40dcbd27123": {
          "model_module": "@jupyter-widgets/base",
          "model_name": "LayoutModel",
          "model_module_version": "1.2.0",
          "state": {
            "_model_module": "@jupyter-widgets/base",
            "_model_module_version": "1.2.0",
            "_model_name": "LayoutModel",
            "_view_count": null,
            "_view_module": "@jupyter-widgets/base",
            "_view_module_version": "1.2.0",
            "_view_name": "LayoutView",
            "align_content": null,
            "align_items": null,
            "align_self": null,
            "border": null,
            "bottom": null,
            "display": null,
            "flex": null,
            "flex_flow": null,
            "grid_area": null,
            "grid_auto_columns": null,
            "grid_auto_flow": null,
            "grid_auto_rows": null,
            "grid_column": null,
            "grid_gap": null,
            "grid_row": null,
            "grid_template_areas": null,
            "grid_template_columns": null,
            "grid_template_rows": null,
            "height": null,
            "justify_content": null,
            "justify_items": null,
            "left": null,
            "margin": null,
            "max_height": null,
            "max_width": null,
            "min_height": null,
            "min_width": null,
            "object_fit": null,
            "object_position": null,
            "order": null,
            "overflow": null,
            "overflow_x": null,
            "overflow_y": null,
            "padding": null,
            "right": null,
            "top": null,
            "visibility": null,
            "width": null
          }
        },
        "60cd0ba694214e2bbd1f3aa7200a8298": {
          "model_module": "@jupyter-widgets/controls",
          "model_name": "DescriptionStyleModel",
          "model_module_version": "1.5.0",
          "state": {
            "_model_module": "@jupyter-widgets/controls",
            "_model_module_version": "1.5.0",
            "_model_name": "DescriptionStyleModel",
            "_view_count": null,
            "_view_module": "@jupyter-widgets/base",
            "_view_module_version": "1.2.0",
            "_view_name": "StyleView",
            "description_width": ""
          }
        },
        "714bff19bc2b419aaca77a8ec8780ecb": {
          "model_module": "@jupyter-widgets/controls",
          "model_name": "HBoxModel",
          "model_module_version": "1.5.0",
          "state": {
            "_dom_classes": [],
            "_model_module": "@jupyter-widgets/controls",
            "_model_module_version": "1.5.0",
            "_model_name": "HBoxModel",
            "_view_count": null,
            "_view_module": "@jupyter-widgets/controls",
            "_view_module_version": "1.5.0",
            "_view_name": "HBoxView",
            "box_style": "",
            "children": [
              "IPY_MODEL_a3f1ffe704f34de9aa2d0c4cd7db9302",
              "IPY_MODEL_a58e935586ef47f5807d37781dc95fa3",
              "IPY_MODEL_ae642310c6ae440ca634a775a5493c49"
            ],
            "layout": "IPY_MODEL_8fd882389b45485aa1718c5c2730a04b"
          }
        },
        "a3f1ffe704f34de9aa2d0c4cd7db9302": {
          "model_module": "@jupyter-widgets/controls",
          "model_name": "HTMLModel",
          "model_module_version": "1.5.0",
          "state": {
            "_dom_classes": [],
            "_model_module": "@jupyter-widgets/controls",
            "_model_module_version": "1.5.0",
            "_model_name": "HTMLModel",
            "_view_count": null,
            "_view_module": "@jupyter-widgets/controls",
            "_view_module_version": "1.5.0",
            "_view_name": "HTMLView",
            "description": "",
            "description_tooltip": null,
            "layout": "IPY_MODEL_97acfff4e8f840c3b06f08b455e65d58",
            "placeholder": "​",
            "style": "IPY_MODEL_d59d78c31c874353aafb33358d04e667",
            "value": "train-00000-of-00001.parquet: 100%"
          }
        },
        "a58e935586ef47f5807d37781dc95fa3": {
          "model_module": "@jupyter-widgets/controls",
          "model_name": "FloatProgressModel",
          "model_module_version": "1.5.0",
          "state": {
            "_dom_classes": [],
            "_model_module": "@jupyter-widgets/controls",
            "_model_module_version": "1.5.0",
            "_model_name": "FloatProgressModel",
            "_view_count": null,
            "_view_module": "@jupyter-widgets/controls",
            "_view_module_version": "1.5.0",
            "_view_name": "ProgressView",
            "bar_style": "success",
            "description": "",
            "description_tooltip": null,
            "layout": "IPY_MODEL_93f3f875d3734fe5b2b5ab018387354b",
            "max": 15561616,
            "min": 0,
            "orientation": "horizontal",
            "style": "IPY_MODEL_7d7cd34e80df4032b5be997fd77cf0a3",
            "value": 15561616
          }
        },
        "ae642310c6ae440ca634a775a5493c49": {
          "model_module": "@jupyter-widgets/controls",
          "model_name": "HTMLModel",
          "model_module_version": "1.5.0",
          "state": {
            "_dom_classes": [],
            "_model_module": "@jupyter-widgets/controls",
            "_model_module_version": "1.5.0",
            "_model_name": "HTMLModel",
            "_view_count": null,
            "_view_module": "@jupyter-widgets/controls",
            "_view_module_version": "1.5.0",
            "_view_name": "HTMLView",
            "description": "",
            "description_tooltip": null,
            "layout": "IPY_MODEL_9bf7d9b1188c49aca5613da756b0c8bd",
            "placeholder": "​",
            "style": "IPY_MODEL_7e7ac65a52a2498397ea37750148d2a2",
            "value": " 15.6M/15.6M [00:00&lt;00:00, 40.4MB/s]"
          }
        },
        "8fd882389b45485aa1718c5c2730a04b": {
          "model_module": "@jupyter-widgets/base",
          "model_name": "LayoutModel",
          "model_module_version": "1.2.0",
          "state": {
            "_model_module": "@jupyter-widgets/base",
            "_model_module_version": "1.2.0",
            "_model_name": "LayoutModel",
            "_view_count": null,
            "_view_module": "@jupyter-widgets/base",
            "_view_module_version": "1.2.0",
            "_view_name": "LayoutView",
            "align_content": null,
            "align_items": null,
            "align_self": null,
            "border": null,
            "bottom": null,
            "display": null,
            "flex": null,
            "flex_flow": null,
            "grid_area": null,
            "grid_auto_columns": null,
            "grid_auto_flow": null,
            "grid_auto_rows": null,
            "grid_column": null,
            "grid_gap": null,
            "grid_row": null,
            "grid_template_areas": null,
            "grid_template_columns": null,
            "grid_template_rows": null,
            "height": null,
            "justify_content": null,
            "justify_items": null,
            "left": null,
            "margin": null,
            "max_height": null,
            "max_width": null,
            "min_height": null,
            "min_width": null,
            "object_fit": null,
            "object_position": null,
            "order": null,
            "overflow": null,
            "overflow_x": null,
            "overflow_y": null,
            "padding": null,
            "right": null,
            "top": null,
            "visibility": null,
            "width": null
          }
        },
        "97acfff4e8f840c3b06f08b455e65d58": {
          "model_module": "@jupyter-widgets/base",
          "model_name": "LayoutModel",
          "model_module_version": "1.2.0",
          "state": {
            "_model_module": "@jupyter-widgets/base",
            "_model_module_version": "1.2.0",
            "_model_name": "LayoutModel",
            "_view_count": null,
            "_view_module": "@jupyter-widgets/base",
            "_view_module_version": "1.2.0",
            "_view_name": "LayoutView",
            "align_content": null,
            "align_items": null,
            "align_self": null,
            "border": null,
            "bottom": null,
            "display": null,
            "flex": null,
            "flex_flow": null,
            "grid_area": null,
            "grid_auto_columns": null,
            "grid_auto_flow": null,
            "grid_auto_rows": null,
            "grid_column": null,
            "grid_gap": null,
            "grid_row": null,
            "grid_template_areas": null,
            "grid_template_columns": null,
            "grid_template_rows": null,
            "height": null,
            "justify_content": null,
            "justify_items": null,
            "left": null,
            "margin": null,
            "max_height": null,
            "max_width": null,
            "min_height": null,
            "min_width": null,
            "object_fit": null,
            "object_position": null,
            "order": null,
            "overflow": null,
            "overflow_x": null,
            "overflow_y": null,
            "padding": null,
            "right": null,
            "top": null,
            "visibility": null,
            "width": null
          }
        },
        "d59d78c31c874353aafb33358d04e667": {
          "model_module": "@jupyter-widgets/controls",
          "model_name": "DescriptionStyleModel",
          "model_module_version": "1.5.0",
          "state": {
            "_model_module": "@jupyter-widgets/controls",
            "_model_module_version": "1.5.0",
            "_model_name": "DescriptionStyleModel",
            "_view_count": null,
            "_view_module": "@jupyter-widgets/base",
            "_view_module_version": "1.2.0",
            "_view_name": "StyleView",
            "description_width": ""
          }
        },
        "93f3f875d3734fe5b2b5ab018387354b": {
          "model_module": "@jupyter-widgets/base",
          "model_name": "LayoutModel",
          "model_module_version": "1.2.0",
          "state": {
            "_model_module": "@jupyter-widgets/base",
            "_model_module_version": "1.2.0",
            "_model_name": "LayoutModel",
            "_view_count": null,
            "_view_module": "@jupyter-widgets/base",
            "_view_module_version": "1.2.0",
            "_view_name": "LayoutView",
            "align_content": null,
            "align_items": null,
            "align_self": null,
            "border": null,
            "bottom": null,
            "display": null,
            "flex": null,
            "flex_flow": null,
            "grid_area": null,
            "grid_auto_columns": null,
            "grid_auto_flow": null,
            "grid_auto_rows": null,
            "grid_column": null,
            "grid_gap": null,
            "grid_row": null,
            "grid_template_areas": null,
            "grid_template_columns": null,
            "grid_template_rows": null,
            "height": null,
            "justify_content": null,
            "justify_items": null,
            "left": null,
            "margin": null,
            "max_height": null,
            "max_width": null,
            "min_height": null,
            "min_width": null,
            "object_fit": null,
            "object_position": null,
            "order": null,
            "overflow": null,
            "overflow_x": null,
            "overflow_y": null,
            "padding": null,
            "right": null,
            "top": null,
            "visibility": null,
            "width": null
          }
        },
        "7d7cd34e80df4032b5be997fd77cf0a3": {
          "model_module": "@jupyter-widgets/controls",
          "model_name": "ProgressStyleModel",
          "model_module_version": "1.5.0",
          "state": {
            "_model_module": "@jupyter-widgets/controls",
            "_model_module_version": "1.5.0",
            "_model_name": "ProgressStyleModel",
            "_view_count": null,
            "_view_module": "@jupyter-widgets/base",
            "_view_module_version": "1.2.0",
            "_view_name": "StyleView",
            "bar_color": null,
            "description_width": ""
          }
        },
        "9bf7d9b1188c49aca5613da756b0c8bd": {
          "model_module": "@jupyter-widgets/base",
          "model_name": "LayoutModel",
          "model_module_version": "1.2.0",
          "state": {
            "_model_module": "@jupyter-widgets/base",
            "_model_module_version": "1.2.0",
            "_model_name": "LayoutModel",
            "_view_count": null,
            "_view_module": "@jupyter-widgets/base",
            "_view_module_version": "1.2.0",
            "_view_name": "LayoutView",
            "align_content": null,
            "align_items": null,
            "align_self": null,
            "border": null,
            "bottom": null,
            "display": null,
            "flex": null,
            "flex_flow": null,
            "grid_area": null,
            "grid_auto_columns": null,
            "grid_auto_flow": null,
            "grid_auto_rows": null,
            "grid_column": null,
            "grid_gap": null,
            "grid_row": null,
            "grid_template_areas": null,
            "grid_template_columns": null,
            "grid_template_rows": null,
            "height": null,
            "justify_content": null,
            "justify_items": null,
            "left": null,
            "margin": null,
            "max_height": null,
            "max_width": null,
            "min_height": null,
            "min_width": null,
            "object_fit": null,
            "object_position": null,
            "order": null,
            "overflow": null,
            "overflow_x": null,
            "overflow_y": null,
            "padding": null,
            "right": null,
            "top": null,
            "visibility": null,
            "width": null
          }
        },
        "7e7ac65a52a2498397ea37750148d2a2": {
          "model_module": "@jupyter-widgets/controls",
          "model_name": "DescriptionStyleModel",
          "model_module_version": "1.5.0",
          "state": {
            "_model_module": "@jupyter-widgets/controls",
            "_model_module_version": "1.5.0",
            "_model_name": "DescriptionStyleModel",
            "_view_count": null,
            "_view_module": "@jupyter-widgets/base",
            "_view_module_version": "1.2.0",
            "_view_name": "StyleView",
            "description_width": ""
          }
        },
        "d3b0f7de5f2a42749c980f734e2edc0d": {
          "model_module": "@jupyter-widgets/controls",
          "model_name": "HBoxModel",
          "model_module_version": "1.5.0",
          "state": {
            "_dom_classes": [],
            "_model_module": "@jupyter-widgets/controls",
            "_model_module_version": "1.5.0",
            "_model_name": "HBoxModel",
            "_view_count": null,
            "_view_module": "@jupyter-widgets/controls",
            "_view_module_version": "1.5.0",
            "_view_name": "HBoxView",
            "box_style": "",
            "children": [
              "IPY_MODEL_708b29c73f444e068c44b488ab591f15",
              "IPY_MODEL_749c89053e3b4adfb20648c6391f5b1f",
              "IPY_MODEL_b269143f7625485ba9adc2b67aa40aa0"
            ],
            "layout": "IPY_MODEL_6691e7b33ba34c25b9b04eea2aaf9f12"
          }
        },
        "708b29c73f444e068c44b488ab591f15": {
          "model_module": "@jupyter-widgets/controls",
          "model_name": "HTMLModel",
          "model_module_version": "1.5.0",
          "state": {
            "_dom_classes": [],
            "_model_module": "@jupyter-widgets/controls",
            "_model_module_version": "1.5.0",
            "_model_name": "HTMLModel",
            "_view_count": null,
            "_view_module": "@jupyter-widgets/controls",
            "_view_module_version": "1.5.0",
            "_view_name": "HTMLView",
            "description": "",
            "description_tooltip": null,
            "layout": "IPY_MODEL_449e3c5e71744e66a4441fed80b9f1a2",
            "placeholder": "​",
            "style": "IPY_MODEL_b1f04a3b58c3479bb9418af09d191e3a",
            "value": "test-00000-of-00001.parquet: 100%"
          }
        },
        "749c89053e3b4adfb20648c6391f5b1f": {
          "model_module": "@jupyter-widgets/controls",
          "model_name": "FloatProgressModel",
          "model_module_version": "1.5.0",
          "state": {
            "_dom_classes": [],
            "_model_module": "@jupyter-widgets/controls",
            "_model_module_version": "1.5.0",
            "_model_name": "FloatProgressModel",
            "_view_count": null,
            "_view_module": "@jupyter-widgets/controls",
            "_view_module_version": "1.5.0",
            "_view_name": "ProgressView",
            "bar_style": "success",
            "description": "",
            "description_tooltip": null,
            "layout": "IPY_MODEL_6c39878e5f614aa7b499325ae94745fb",
            "max": 2595890,
            "min": 0,
            "orientation": "horizontal",
            "style": "IPY_MODEL_27cb1365a73f4467b5f54d4fd2637e34",
            "value": 2595890
          }
        },
        "b269143f7625485ba9adc2b67aa40aa0": {
          "model_module": "@jupyter-widgets/controls",
          "model_name": "HTMLModel",
          "model_module_version": "1.5.0",
          "state": {
            "_dom_classes": [],
            "_model_module": "@jupyter-widgets/controls",
            "_model_module_version": "1.5.0",
            "_model_name": "HTMLModel",
            "_view_count": null,
            "_view_module": "@jupyter-widgets/controls",
            "_view_module_version": "1.5.0",
            "_view_name": "HTMLView",
            "description": "",
            "description_tooltip": null,
            "layout": "IPY_MODEL_6fc316e573c342778d7609de79ac2079",
            "placeholder": "​",
            "style": "IPY_MODEL_e43b37bbddf1468985413d672ce08c83",
            "value": " 2.60M/2.60M [00:00&lt;00:00, 33.8MB/s]"
          }
        },
        "6691e7b33ba34c25b9b04eea2aaf9f12": {
          "model_module": "@jupyter-widgets/base",
          "model_name": "LayoutModel",
          "model_module_version": "1.2.0",
          "state": {
            "_model_module": "@jupyter-widgets/base",
            "_model_module_version": "1.2.0",
            "_model_name": "LayoutModel",
            "_view_count": null,
            "_view_module": "@jupyter-widgets/base",
            "_view_module_version": "1.2.0",
            "_view_name": "LayoutView",
            "align_content": null,
            "align_items": null,
            "align_self": null,
            "border": null,
            "bottom": null,
            "display": null,
            "flex": null,
            "flex_flow": null,
            "grid_area": null,
            "grid_auto_columns": null,
            "grid_auto_flow": null,
            "grid_auto_rows": null,
            "grid_column": null,
            "grid_gap": null,
            "grid_row": null,
            "grid_template_areas": null,
            "grid_template_columns": null,
            "grid_template_rows": null,
            "height": null,
            "justify_content": null,
            "justify_items": null,
            "left": null,
            "margin": null,
            "max_height": null,
            "max_width": null,
            "min_height": null,
            "min_width": null,
            "object_fit": null,
            "object_position": null,
            "order": null,
            "overflow": null,
            "overflow_x": null,
            "overflow_y": null,
            "padding": null,
            "right": null,
            "top": null,
            "visibility": null,
            "width": null
          }
        },
        "449e3c5e71744e66a4441fed80b9f1a2": {
          "model_module": "@jupyter-widgets/base",
          "model_name": "LayoutModel",
          "model_module_version": "1.2.0",
          "state": {
            "_model_module": "@jupyter-widgets/base",
            "_model_module_version": "1.2.0",
            "_model_name": "LayoutModel",
            "_view_count": null,
            "_view_module": "@jupyter-widgets/base",
            "_view_module_version": "1.2.0",
            "_view_name": "LayoutView",
            "align_content": null,
            "align_items": null,
            "align_self": null,
            "border": null,
            "bottom": null,
            "display": null,
            "flex": null,
            "flex_flow": null,
            "grid_area": null,
            "grid_auto_columns": null,
            "grid_auto_flow": null,
            "grid_auto_rows": null,
            "grid_column": null,
            "grid_gap": null,
            "grid_row": null,
            "grid_template_areas": null,
            "grid_template_columns": null,
            "grid_template_rows": null,
            "height": null,
            "justify_content": null,
            "justify_items": null,
            "left": null,
            "margin": null,
            "max_height": null,
            "max_width": null,
            "min_height": null,
            "min_width": null,
            "object_fit": null,
            "object_position": null,
            "order": null,
            "overflow": null,
            "overflow_x": null,
            "overflow_y": null,
            "padding": null,
            "right": null,
            "top": null,
            "visibility": null,
            "width": null
          }
        },
        "b1f04a3b58c3479bb9418af09d191e3a": {
          "model_module": "@jupyter-widgets/controls",
          "model_name": "DescriptionStyleModel",
          "model_module_version": "1.5.0",
          "state": {
            "_model_module": "@jupyter-widgets/controls",
            "_model_module_version": "1.5.0",
            "_model_name": "DescriptionStyleModel",
            "_view_count": null,
            "_view_module": "@jupyter-widgets/base",
            "_view_module_version": "1.2.0",
            "_view_name": "StyleView",
            "description_width": ""
          }
        },
        "6c39878e5f614aa7b499325ae94745fb": {
          "model_module": "@jupyter-widgets/base",
          "model_name": "LayoutModel",
          "model_module_version": "1.2.0",
          "state": {
            "_model_module": "@jupyter-widgets/base",
            "_model_module_version": "1.2.0",
            "_model_name": "LayoutModel",
            "_view_count": null,
            "_view_module": "@jupyter-widgets/base",
            "_view_module_version": "1.2.0",
            "_view_name": "LayoutView",
            "align_content": null,
            "align_items": null,
            "align_self": null,
            "border": null,
            "bottom": null,
            "display": null,
            "flex": null,
            "flex_flow": null,
            "grid_area": null,
            "grid_auto_columns": null,
            "grid_auto_flow": null,
            "grid_auto_rows": null,
            "grid_column": null,
            "grid_gap": null,
            "grid_row": null,
            "grid_template_areas": null,
            "grid_template_columns": null,
            "grid_template_rows": null,
            "height": null,
            "justify_content": null,
            "justify_items": null,
            "left": null,
            "margin": null,
            "max_height": null,
            "max_width": null,
            "min_height": null,
            "min_width": null,
            "object_fit": null,
            "object_position": null,
            "order": null,
            "overflow": null,
            "overflow_x": null,
            "overflow_y": null,
            "padding": null,
            "right": null,
            "top": null,
            "visibility": null,
            "width": null
          }
        },
        "27cb1365a73f4467b5f54d4fd2637e34": {
          "model_module": "@jupyter-widgets/controls",
          "model_name": "ProgressStyleModel",
          "model_module_version": "1.5.0",
          "state": {
            "_model_module": "@jupyter-widgets/controls",
            "_model_module_version": "1.5.0",
            "_model_name": "ProgressStyleModel",
            "_view_count": null,
            "_view_module": "@jupyter-widgets/base",
            "_view_module_version": "1.2.0",
            "_view_name": "StyleView",
            "bar_color": null,
            "description_width": ""
          }
        },
        "6fc316e573c342778d7609de79ac2079": {
          "model_module": "@jupyter-widgets/base",
          "model_name": "LayoutModel",
          "model_module_version": "1.2.0",
          "state": {
            "_model_module": "@jupyter-widgets/base",
            "_model_module_version": "1.2.0",
            "_model_name": "LayoutModel",
            "_view_count": null,
            "_view_module": "@jupyter-widgets/base",
            "_view_module_version": "1.2.0",
            "_view_name": "LayoutView",
            "align_content": null,
            "align_items": null,
            "align_self": null,
            "border": null,
            "bottom": null,
            "display": null,
            "flex": null,
            "flex_flow": null,
            "grid_area": null,
            "grid_auto_columns": null,
            "grid_auto_flow": null,
            "grid_auto_rows": null,
            "grid_column": null,
            "grid_gap": null,
            "grid_row": null,
            "grid_template_areas": null,
            "grid_template_columns": null,
            "grid_template_rows": null,
            "height": null,
            "justify_content": null,
            "justify_items": null,
            "left": null,
            "margin": null,
            "max_height": null,
            "max_width": null,
            "min_height": null,
            "min_width": null,
            "object_fit": null,
            "object_position": null,
            "order": null,
            "overflow": null,
            "overflow_x": null,
            "overflow_y": null,
            "padding": null,
            "right": null,
            "top": null,
            "visibility": null,
            "width": null
          }
        },
        "e43b37bbddf1468985413d672ce08c83": {
          "model_module": "@jupyter-widgets/controls",
          "model_name": "DescriptionStyleModel",
          "model_module_version": "1.5.0",
          "state": {
            "_model_module": "@jupyter-widgets/controls",
            "_model_module_version": "1.5.0",
            "_model_name": "DescriptionStyleModel",
            "_view_count": null,
            "_view_module": "@jupyter-widgets/base",
            "_view_module_version": "1.2.0",
            "_view_name": "StyleView",
            "description_width": ""
          }
        }
      }
    }
  },
  "nbformat": 4,
  "nbformat_minor": 0
}