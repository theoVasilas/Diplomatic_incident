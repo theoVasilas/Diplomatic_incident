{
  "cells": [
    {
      "cell_type": "markdown",
      "metadata": {
        "id": "view-in-github",
        "colab_type": "text"
      },
      "source": [
        "<a href=\"https://colab.research.google.com/github/theoVasilas/Diplomatic_incident/blob/Centralized-training/Centralized_cifar10.ipynb\" target=\"_parent\"><img src=\"https://colab.research.google.com/assets/colab-badge.svg\" alt=\"Open In Colab\"/></a>"
      ]
    },
    {
      "cell_type": "markdown",
      "metadata": {
        "id": "nm_KsFraeQNa"
      },
      "source": [
        "# Installations"
      ]
    },
    {
      "cell_type": "code",
      "execution_count": 1,
      "metadata": {
        "colab": {
          "base_uri": "https://localhost:8080/"
        },
        "id": "81QRVoGVe1iY",
        "outputId": "2e1548ba-2f07-4ad9-8a27-c4f57276409b"
      },
      "outputs": [
        {
          "output_type": "stream",
          "name": "stdout",
          "text": [
            "Pytorch Version:2.5.1+cu121\n",
            "Training on cpu\n"
          ]
        }
      ],
      "source": [
        "from collections import OrderedDict, Counter\n",
        "from typing import Dict, List, Optional, Tuple\n",
        "\n",
        "import matplotlib.pyplot as plt\n",
        "import numpy as np\n",
        "import torch\n",
        "import torch.nn as nn\n",
        "import torch.nn.functional as F\n",
        "import torchvision.transforms as transforms\n",
        "from torch.utils.data import DataLoader,random_split\n",
        "from torchsummary import summary\n",
        "\n",
        "import torchvision\n",
        "from torch.utils.data import DataLoader\n",
        "import torch.optim as optim\n",
        "import time\n",
        "import pandas as pd\n",
        "import torchvision.datasets as datasets\n",
        "from IPython import display\n",
        "print(f\"Pytorch Version:{torch.__version__}\")\n",
        "\n",
        "DEVICE = torch.device(\"cpu\")  # Try \"cuda\" to train on GPU\n",
        "print(f\"Training on {DEVICE}\")\n"
      ]
    },
    {
      "cell_type": "markdown",
      "metadata": {
        "id": "C8jpPOMUeesL"
      },
      "source": [
        "# Dataloader\n"
      ]
    },
    {
      "cell_type": "code",
      "source": [
        "transform = transforms.Compose([transforms.ToTensor()])\n",
        "trainset = torchvision.datasets.CIFAR10(root='./data', train=True, download=True, transform=transform)\n",
        "trainloader = DataLoader(trainset, batch_size=50000, shuffle=False)\n",
        "\n",
        "# Get all images in the training set\n",
        "data = next(iter(trainloader))[0]  # Images only (shape: [50000, 3, 32, 32])\n",
        "\n",
        "# Calculate mean and std for each channel\n",
        "mean = data.mean(dim=[0, 2, 3])  # Mean across batches, height, and width\n",
        "std = data.std(dim=[0, 2, 3])    # Std across batches, height, and width\n",
        "\n",
        "print(f\"Mean: {mean}, Std: {std}\")"
      ],
      "metadata": {
        "colab": {
          "base_uri": "https://localhost:8080/"
        },
        "id": "7eobCZxaRFct",
        "outputId": "3a90b600-c221-4946-83e7-6016a0646b15"
      },
      "execution_count": 2,
      "outputs": [
        {
          "output_type": "stream",
          "name": "stdout",
          "text": [
            "Downloading https://www.cs.toronto.edu/~kriz/cifar-10-python.tar.gz to ./data/cifar-10-python.tar.gz\n"
          ]
        },
        {
          "output_type": "stream",
          "name": "stderr",
          "text": [
            "100%|██████████| 170M/170M [00:03<00:00, 44.7MB/s]\n"
          ]
        },
        {
          "output_type": "stream",
          "name": "stdout",
          "text": [
            "Extracting ./data/cifar-10-python.tar.gz to ./data\n",
            "Mean: tensor([0.4914, 0.4822, 0.4465]), Std: tensor([0.2470, 0.2435, 0.2616])\n"
          ]
        }
      ]
    },
    {
      "cell_type": "code",
      "source": [
        "transform = transforms.Compose([\n",
        "    transforms.RandomCrop(32, padding=4),  # Data augmentation: random cropping\n",
        "    transforms.RandomHorizontalFlip(),    # Data augmentation: random horizontal flip\n",
        "    transforms.ToTensor(),\n",
        "    transforms.Normalize(mean, std)  # Normalize with CIFAR-10 stats\n",
        "])\n",
        "\n",
        "trainset = torchvision.datasets.CIFAR10(root='./data', train=True, download=True, transform=transform)\n",
        "\n",
        "train_size = int(0.8 * len(trainset))  # 80% of the dataset for training\n",
        "val_size = len(trainset) - train_size  # Remaining 20% for validation\n",
        "\n",
        "train_subset, val_subset = random_split(trainset, [train_size, val_size])\n",
        "\n",
        "trainloader = DataLoader(train_subset, batch_size=128, shuffle=True, num_workers=2)\n",
        "valloader = DataLoader(val_subset, batch_size=128, shuffle=False, num_workers=2)\n",
        "\n",
        "testset = torchvision.datasets.CIFAR10(root='./data', train=False, download=True, transform=transform)\n",
        "testloader = DataLoader(testset, batch_size=128, shuffle=False, num_workers=2)\n",
        "\n",
        "print(f\"Training samples: {len(trainloader.dataset)}\")\n",
        "print(f\"Validation samples: {len(valloader.dataset)}\")\n",
        "print(f\"Test samples: {len(testloader.dataset)}\")\n"
      ],
      "metadata": {
        "colab": {
          "base_uri": "https://localhost:8080/"
        },
        "id": "YS9CwvZB3wnO",
        "outputId": "8ab24a2f-a8af-4649-bba0-6303cdc8c7e9"
      },
      "execution_count": 3,
      "outputs": [
        {
          "output_type": "stream",
          "name": "stdout",
          "text": [
            "Files already downloaded and verified\n",
            "Files already downloaded and verified\n",
            "Training samples: 40000\n",
            "Validation samples: 10000\n",
            "Test samples: 10000\n"
          ]
        }
      ]
    },
    {
      "cell_type": "code",
      "source": [
        "print(\"CIFAR-10 Classes:\", trainset.classes)"
      ],
      "metadata": {
        "id": "UyF-aKWPAI1w",
        "colab": {
          "base_uri": "https://localhost:8080/"
        },
        "outputId": "41161ce4-866a-4379-d951-5d65a728769f"
      },
      "execution_count": 4,
      "outputs": [
        {
          "output_type": "stream",
          "name": "stdout",
          "text": [
            "CIFAR-10 Classes: ['airplane', 'automobile', 'bird', 'cat', 'deer', 'dog', 'frog', 'horse', 'ship', 'truck']\n"
          ]
        }
      ]
    },
    {
      "cell_type": "markdown",
      "metadata": {
        "id": "bWjz0Nerendb"
      },
      "source": [
        "# train test Func\n"
      ]
    },
    {
      "cell_type": "markdown",
      "source": [
        "/+ StepLR scheduler"
      ],
      "metadata": {
        "id": "i3O9LMmsm1Gc"
      }
    },
    {
      "cell_type": "code",
      "source": [
        "from tqdm import tqdm  # For progress bars\n",
        "\n",
        "def train(\n",
        "    net,\n",
        "    trainloader,\n",
        "    valloader,\n",
        "    optimizer,\n",
        "    step_size,\n",
        "    epochs: int,\n",
        "    verbose=False\n",
        "):\n",
        "\n",
        "    criterion = torch.nn.CrossEntropyLoss()\n",
        "    scheduler = torch.optim.lr_scheduler.StepLR(optimizer, step_size= step_size , gamma=0.5)  # Optional scheduler\n",
        "    history = {\"train_loss\": [], \"train_acc\": [], \"val_loss\": [], \"val_acc\": []}\n",
        "\n",
        "    # Training loop\n",
        "    for epoch in range(epochs):\n",
        "        lr = optimizer.param_groups[0]['lr']\n",
        "        print(f\"Epoch {epoch+1}/{epochs} - Learning Rate: {lr}\")\n",
        "\n",
        "        net.train()\n",
        "        train_loss, train_correct, train_total = 0.0, 0, 0\n",
        "\n",
        "        # Training Phase\n",
        "        for images, labels in tqdm(trainloader, desc=f\"Epoch {epoch+1}/{epochs} (Training)\"):\n",
        "            try:\n",
        "                images, labels = images.to(DEVICE), labels.to(DEVICE)\n",
        "                optimizer.zero_grad()\n",
        "                outputs = net(images)\n",
        "                loss = criterion(outputs, labels)\n",
        "                loss.backward()\n",
        "                optimizer.step()\n",
        "\n",
        "                # Metrics\n",
        "                train_loss += loss.item()\n",
        "                train_total += labels.size(0)\n",
        "                predictions = torch.argmax(outputs, dim=1)\n",
        "                train_correct += (predictions == labels).sum().item()\n",
        "            except Exception as e:\n",
        "                print(f\"Error in training step: {e}\")\n",
        "\n",
        "        if (epoch + 1) % 10 == 0:\n",
        "            filename = f'checkpoint_epoch_{epoch+1}.pth'\n",
        "            torch.save(net, filename)\n",
        "            print(f\"Entire model saved to {filename}\")\n",
        "\n",
        "        # Compute averages\n",
        "        train_loss /= len(trainloader)\n",
        "        train_acc = train_correct / train_total\n",
        "\n",
        "        # Validation Phase\n",
        "        net.eval()\n",
        "        val_loss, val_correct, val_total = 0.0, 0, 0\n",
        "        with torch.no_grad():\n",
        "            for images, labels in tqdm(valloader, desc=f\"Epoch {epoch+1}/{epochs} (Validation)\"):\n",
        "                try:\n",
        "                    images, labels = images.to(DEVICE), labels.to(DEVICE)\n",
        "                    outputs = net(images)\n",
        "                    loss = criterion(outputs, labels)\n",
        "\n",
        "                    # Metrics\n",
        "                    val_loss += loss.item()\n",
        "                    val_total += labels.size(0)\n",
        "                    predictions = torch.argmax(outputs, dim=1)\n",
        "                    val_correct += (predictions == labels).sum().item()\n",
        "                except Exception as e:\n",
        "                    print(f\"Error in validation step: {e}\")\n",
        "\n",
        "        # Compute averages\n",
        "        val_loss /= len(valloader)\n",
        "        val_acc = val_correct / val_total\n",
        "\n",
        "        # Step the scheduler\n",
        "        scheduler.step()\n",
        "\n",
        "        # Save metrics to history\n",
        "        history[\"train_loss\"].append(train_loss)\n",
        "        history[\"train_acc\"].append(train_acc)\n",
        "        history[\"val_loss\"].append(val_loss)\n",
        "        history[\"val_acc\"].append(val_acc)\n",
        "\n",
        "        # Verbose logging\n",
        "        if verbose:\n",
        "            print(\n",
        "                f\"Epoch {epoch+1}/{epochs} \"\n",
        "                f\"- Train Loss: {train_loss:.4f}, Train Acc: {train_acc:.4f} \"\n",
        "                f\"- Val Loss: {val_loss:.4f}, Val Acc: {val_acc:.4f}\"\n",
        "            )\n",
        "\n",
        "        if val_acc >= 0.90:\n",
        "              print(f\"Early stopping: Validation accuracy reached {accuracy_threshold*100}%\")\n",
        "              break\n",
        "\n",
        "    return history\n"
      ],
      "metadata": {
        "id": "7Ec7smIMIR_I"
      },
      "execution_count": 10,
      "outputs": []
    },
    {
      "cell_type": "code",
      "source": [
        "def test(net, testloader):\n",
        "    criterion = torch.nn.CrossEntropyLoss()\n",
        "    net.eval()  # Set the model to evaluation mode\n",
        "    test_loss, test_correct, test_total = 0.0, 0, 0\n",
        "\n",
        "    with torch.no_grad():  # No gradient calculation during testing\n",
        "        for images, labels in tqdm(testloader, desc=\"Testing\"):\n",
        "            try:\n",
        "                images, labels = images.to(DEVICE), labels.to(DEVICE)\n",
        "                outputs = net(images)\n",
        "                loss = criterion(outputs, labels)\n",
        "\n",
        "                # Metrics\n",
        "                test_loss += loss.item()\n",
        "                test_total += labels.size(0)\n",
        "                predictions = torch.argmax(outputs, dim=1)\n",
        "                test_correct += (predictions == labels).sum().item()\n",
        "            except Exception as e:\n",
        "                print(f\"Error in testing step: {e}\")\n",
        "\n",
        "    # Compute averages\n",
        "    test_loss /= len(testloader)\n",
        "    test_acc = test_correct / test_total\n",
        "\n",
        "    print(f\"Test Loss: {test_loss:.4f}, Test Accuracy: {test_acc:.4f}\")\n",
        "\n",
        "    return test_loss, test_acc\n"
      ],
      "metadata": {
        "id": "Rbx31yqkMWyn"
      },
      "execution_count": 6,
      "outputs": []
    },
    {
      "cell_type": "markdown",
      "metadata": {
        "id": "BrJWWa_JjUTk"
      },
      "source": [
        "# Model 1"
      ]
    },
    {
      "cell_type": "code",
      "execution_count": null,
      "metadata": {
        "id": "zo5PCprRixcB"
      },
      "outputs": [],
      "source": [
        "class Net(nn.Module):\n",
        "    def __init__(self) -> None:\n",
        "        super(Net, self).__init__()\n",
        "        self.conv1 = nn.Conv2d(3, 6, 5)\n",
        "        self.pool = nn.MaxPool2d(2, 2)\n",
        "        self.conv2 = nn.Conv2d(6, 16, 5)\n",
        "        self.fc1 = nn.Linear(16 * 5 * 5, 120)\n",
        "        self.fc2 = nn.Linear(120, 84)\n",
        "        self.fc3 = nn.Linear(84, 10)\n",
        "\n",
        "    def forward(self, x: torch.Tensor) -> torch.Tensor:\n",
        "        x = self.pool(F.relu(self.conv1(x)))\n",
        "        x = self.pool(F.relu(self.conv2(x)))\n",
        "        x = x.view(-1, 16 * 5 * 5)\n",
        "        x = F.relu(self.fc1(x))\n",
        "        x = F.relu(self.fc2(x))\n",
        "        x = self.fc3(x)\n",
        "        return x\n",
        "\n",
        "    def reset(self):\n",
        "      for layer in self.children():\n",
        "        if isinstance(layer, nn.Conv2d) or isinstance(layer, nn.Linear):\n",
        "          layer.reset_parameters()"
      ]
    },
    {
      "cell_type": "code",
      "execution_count": null,
      "metadata": {
        "id": "hBSI1-6bka1b",
        "colab": {
          "base_uri": "https://localhost:8080/"
        },
        "outputId": "af204f83-dd82-46af-e258-99cb87188b16"
      },
      "outputs": [
        {
          "output_type": "stream",
          "name": "stdout",
          "text": [
            "num_parameters = 62006\n"
          ]
        }
      ],
      "source": [
        "model = Net()\n",
        "num_parameters = sum(value.numel() for value in model.state_dict().values())\n",
        "print(f\"{num_parameters = }\")"
      ]
    },
    {
      "cell_type": "markdown",
      "metadata": {
        "id": "957pzoxDewHM"
      },
      "source": [
        "## Run"
      ]
    },
    {
      "cell_type": "code",
      "source": [
        "DEVICE = torch.device(\"cuda\" if torch.cuda.is_available() else \"cpu\")\n",
        "\n",
        "model.reset()  # Reset the model\n",
        "\n",
        "model = Net().to(DEVICE)\n",
        "\n",
        "# optimizer = torch.optim.Adam(model.parameters(), lr=0.01)\n",
        "optimizer = torch.optim.SGD(model.parameters(), lr=0.01, momentum=0.9, weight_decay=5e-4)\n",
        "\n",
        "history = train(model, trainloader, valloader, optimizer,step_size=50 , epochs=100, verbose=True)\n",
        "\n",
        "plt.plot(history[\"train_loss\"], label=\"Train Loss\")\n",
        "plt.plot(history[\"val_loss\"], label=\"Val Loss\")\n",
        "plt.xlabel(\"Epochs\")\n",
        "plt.ylabel(\"Loss\")\n",
        "plt.legend()\n",
        "plt.show()\n",
        "\n",
        "plt.plot(history[\"train_acc\"], label=\"Train Accuracy\")\n",
        "plt.plot(history[\"val_acc\"], label=\"Val Accuracy\")\n",
        "plt.xlabel(\"Epochs\")\n",
        "plt.ylabel(\"Accuracy\")\n",
        "plt.legend()\n",
        "plt.show()"
      ],
      "metadata": {
        "id": "_dZ4nyl2Ii6p",
        "colab": {
          "base_uri": "https://localhost:8080/",
          "height": 1000
        },
        "outputId": "274363dc-3866-4866-8d9b-b7548c383eb2"
      },
      "execution_count": null,
      "outputs": [
        {
          "output_type": "stream",
          "name": "stdout",
          "text": [
            "Epoch 1/100 - Learning Rate: 0.01\n"
          ]
        },
        {
          "output_type": "stream",
          "name": "stderr",
          "text": [
            "Epoch 1/100 (Training): 100%|██████████| 313/313 [00:24<00:00, 12.66it/s]\n",
            "Epoch 1/100 (Validation): 100%|██████████| 79/79 [00:07<00:00, 11.00it/s]\n"
          ]
        },
        {
          "output_type": "stream",
          "name": "stdout",
          "text": [
            "Epoch 1/100 - Train Loss: 2.0844, Train Acc: 0.2241 - Val Loss: 1.8392, Val Acc: 0.3376\n",
            "Epoch 2/100 - Learning Rate: 0.01\n"
          ]
        },
        {
          "output_type": "stream",
          "name": "stderr",
          "text": [
            "Epoch 2/100 (Training): 100%|██████████| 313/313 [00:23<00:00, 13.42it/s]\n",
            "Epoch 2/100 (Validation): 100%|██████████| 79/79 [00:05<00:00, 14.07it/s]\n"
          ]
        },
        {
          "output_type": "stream",
          "name": "stdout",
          "text": [
            "Epoch 2/100 - Train Loss: 1.7027, Train Acc: 0.3694 - Val Loss: 1.5947, Val Acc: 0.4212\n",
            "Epoch 3/100 - Learning Rate: 0.01\n"
          ]
        },
        {
          "output_type": "stream",
          "name": "stderr",
          "text": [
            "Epoch 3/100 (Training): 100%|██████████| 313/313 [00:23<00:00, 13.47it/s]\n",
            "Epoch 3/100 (Validation): 100%|██████████| 79/79 [00:06<00:00, 12.57it/s]\n"
          ]
        },
        {
          "output_type": "stream",
          "name": "stdout",
          "text": [
            "Epoch 3/100 - Train Loss: 1.5625, Train Acc: 0.4275 - Val Loss: 1.5817, Val Acc: 0.4286\n",
            "Epoch 4/100 - Learning Rate: 0.01\n"
          ]
        },
        {
          "output_type": "stream",
          "name": "stderr",
          "text": [
            "Epoch 4/100 (Training): 100%|██████████| 313/313 [00:22<00:00, 13.79it/s]\n",
            "Epoch 4/100 (Validation): 100%|██████████| 79/79 [00:06<00:00, 12.14it/s]\n"
          ]
        },
        {
          "output_type": "stream",
          "name": "stdout",
          "text": [
            "Epoch 4/100 - Train Loss: 1.4610, Train Acc: 0.4684 - Val Loss: 1.4098, Val Acc: 0.4933\n",
            "Epoch 5/100 - Learning Rate: 0.01\n"
          ]
        },
        {
          "output_type": "stream",
          "name": "stderr",
          "text": [
            "Epoch 5/100 (Training): 100%|██████████| 313/313 [00:22<00:00, 13.67it/s]\n",
            "Epoch 5/100 (Validation): 100%|██████████| 79/79 [00:06<00:00, 12.30it/s]\n"
          ]
        },
        {
          "output_type": "stream",
          "name": "stdout",
          "text": [
            "Epoch 5/100 - Train Loss: 1.4020, Train Acc: 0.4966 - Val Loss: 1.3835, Val Acc: 0.4997\n",
            "Epoch 6/100 - Learning Rate: 0.01\n"
          ]
        },
        {
          "output_type": "stream",
          "name": "stderr",
          "text": [
            "Epoch 6/100 (Training): 100%|██████████| 313/313 [00:22<00:00, 13.89it/s]\n",
            "Epoch 6/100 (Validation): 100%|██████████| 79/79 [00:06<00:00, 12.32it/s]\n"
          ]
        },
        {
          "output_type": "stream",
          "name": "stdout",
          "text": [
            "Epoch 6/100 - Train Loss: 1.3595, Train Acc: 0.5115 - Val Loss: 1.3242, Val Acc: 0.5220\n",
            "Epoch 7/100 - Learning Rate: 0.01\n"
          ]
        },
        {
          "output_type": "stream",
          "name": "stderr",
          "text": [
            "Epoch 7/100 (Training): 100%|██████████| 313/313 [00:22<00:00, 13.86it/s]\n",
            "Epoch 7/100 (Validation): 100%|██████████| 79/79 [00:06<00:00, 12.19it/s]\n"
          ]
        },
        {
          "output_type": "stream",
          "name": "stdout",
          "text": [
            "Epoch 7/100 - Train Loss: 1.3134, Train Acc: 0.5290 - Val Loss: 1.2999, Val Acc: 0.5373\n",
            "Epoch 8/100 - Learning Rate: 0.01\n"
          ]
        },
        {
          "output_type": "stream",
          "name": "stderr",
          "text": [
            "Epoch 8/100 (Training): 100%|██████████| 313/313 [00:22<00:00, 13.78it/s]\n",
            "Epoch 8/100 (Validation): 100%|██████████| 79/79 [00:06<00:00, 12.47it/s]\n"
          ]
        },
        {
          "output_type": "stream",
          "name": "stdout",
          "text": [
            "Epoch 8/100 - Train Loss: 1.2767, Train Acc: 0.5415 - Val Loss: 1.2629, Val Acc: 0.5516\n",
            "Epoch 9/100 - Learning Rate: 0.01\n"
          ]
        },
        {
          "output_type": "stream",
          "name": "stderr",
          "text": [
            "Epoch 9/100 (Training): 100%|██████████| 313/313 [00:22<00:00, 13.64it/s]\n",
            "Epoch 9/100 (Validation): 100%|██████████| 79/79 [00:06<00:00, 12.59it/s]\n"
          ]
        },
        {
          "output_type": "stream",
          "name": "stdout",
          "text": [
            "Epoch 9/100 - Train Loss: 1.2387, Train Acc: 0.5572 - Val Loss: 1.2806, Val Acc: 0.5428\n",
            "Epoch 10/100 - Learning Rate: 0.01\n"
          ]
        },
        {
          "output_type": "stream",
          "name": "stderr",
          "text": [
            "Epoch 10/100 (Training): 100%|██████████| 313/313 [00:23<00:00, 13.48it/s]\n",
            "Epoch 10/100 (Validation): 100%|██████████| 79/79 [00:05<00:00, 13.28it/s]\n"
          ]
        },
        {
          "output_type": "stream",
          "name": "stdout",
          "text": [
            "Epoch 10/100 - Train Loss: 1.2276, Train Acc: 0.5593 - Val Loss: 1.2445, Val Acc: 0.5541\n",
            "Epoch 11/100 - Learning Rate: 0.01\n"
          ]
        },
        {
          "output_type": "stream",
          "name": "stderr",
          "text": [
            "Epoch 11/100 (Training): 100%|██████████| 313/313 [00:25<00:00, 12.09it/s]\n",
            "Epoch 11/100 (Validation): 100%|██████████| 79/79 [00:04<00:00, 16.75it/s]\n"
          ]
        },
        {
          "output_type": "stream",
          "name": "stdout",
          "text": [
            "Epoch 11/100 - Train Loss: 1.1961, Train Acc: 0.5745 - Val Loss: 1.2845, Val Acc: 0.5429\n",
            "Epoch 12/100 - Learning Rate: 0.01\n"
          ]
        },
        {
          "output_type": "stream",
          "name": "stderr",
          "text": [
            "Epoch 12/100 (Training): 100%|██████████| 313/313 [00:24<00:00, 12.79it/s]\n",
            "Epoch 12/100 (Validation): 100%|██████████| 79/79 [00:04<00:00, 16.91it/s]\n"
          ]
        },
        {
          "output_type": "stream",
          "name": "stdout",
          "text": [
            "Epoch 12/100 - Train Loss: 1.1814, Train Acc: 0.5803 - Val Loss: 1.2104, Val Acc: 0.5754\n",
            "Epoch 13/100 - Learning Rate: 0.01\n"
          ]
        },
        {
          "output_type": "stream",
          "name": "stderr",
          "text": [
            "Epoch 13/100 (Training): 100%|██████████| 313/313 [00:24<00:00, 12.63it/s]\n",
            "Epoch 13/100 (Validation): 100%|██████████| 79/79 [00:04<00:00, 16.76it/s]\n"
          ]
        },
        {
          "output_type": "stream",
          "name": "stdout",
          "text": [
            "Epoch 13/100 - Train Loss: 1.1557, Train Acc: 0.5918 - Val Loss: 1.1527, Val Acc: 0.5890\n",
            "Epoch 14/100 - Learning Rate: 0.01\n"
          ]
        },
        {
          "output_type": "stream",
          "name": "stderr",
          "text": [
            "Epoch 14/100 (Training): 100%|██████████| 313/313 [00:24<00:00, 12.72it/s]\n",
            "Epoch 14/100 (Validation): 100%|██████████| 79/79 [00:04<00:00, 16.76it/s]\n"
          ]
        },
        {
          "output_type": "stream",
          "name": "stdout",
          "text": [
            "Epoch 14/100 - Train Loss: 1.1397, Train Acc: 0.5957 - Val Loss: 1.1774, Val Acc: 0.5801\n",
            "Epoch 15/100 - Learning Rate: 0.01\n"
          ]
        },
        {
          "output_type": "stream",
          "name": "stderr",
          "text": [
            "Epoch 15/100 (Training): 100%|██████████| 313/313 [00:24<00:00, 12.75it/s]\n",
            "Epoch 15/100 (Validation): 100%|██████████| 79/79 [00:04<00:00, 17.17it/s]\n"
          ]
        },
        {
          "output_type": "stream",
          "name": "stdout",
          "text": [
            "Epoch 15/100 - Train Loss: 1.1238, Train Acc: 0.6038 - Val Loss: 1.1299, Val Acc: 0.6026\n",
            "Epoch 16/100 - Learning Rate: 0.01\n"
          ]
        },
        {
          "output_type": "stream",
          "name": "stderr",
          "text": [
            "Epoch 16/100 (Training): 100%|██████████| 313/313 [00:24<00:00, 12.87it/s]\n",
            "Epoch 16/100 (Validation): 100%|██████████| 79/79 [00:04<00:00, 16.93it/s]\n"
          ]
        },
        {
          "output_type": "stream",
          "name": "stdout",
          "text": [
            "Epoch 16/100 - Train Loss: 1.1125, Train Acc: 0.6076 - Val Loss: 1.1310, Val Acc: 0.6090\n",
            "Epoch 17/100 - Learning Rate: 0.01\n"
          ]
        },
        {
          "output_type": "stream",
          "name": "stderr",
          "text": [
            "Epoch 17/100 (Training): 100%|██████████| 313/313 [00:24<00:00, 12.76it/s]\n",
            "Epoch 17/100 (Validation): 100%|██████████| 79/79 [00:04<00:00, 16.87it/s]\n"
          ]
        },
        {
          "output_type": "stream",
          "name": "stdout",
          "text": [
            "Epoch 17/100 - Train Loss: 1.0967, Train Acc: 0.6122 - Val Loss: 1.1340, Val Acc: 0.6014\n",
            "Epoch 18/100 - Learning Rate: 0.01\n"
          ]
        },
        {
          "output_type": "stream",
          "name": "stderr",
          "text": [
            "Epoch 18/100 (Training): 100%|██████████| 313/313 [00:24<00:00, 12.71it/s]\n",
            "Epoch 18/100 (Validation): 100%|██████████| 79/79 [00:04<00:00, 16.63it/s]\n"
          ]
        },
        {
          "output_type": "stream",
          "name": "stdout",
          "text": [
            "Epoch 18/100 - Train Loss: 1.0864, Train Acc: 0.6150 - Val Loss: 1.1306, Val Acc: 0.6056\n",
            "Epoch 19/100 - Learning Rate: 0.01\n"
          ]
        },
        {
          "output_type": "stream",
          "name": "stderr",
          "text": [
            "Epoch 19/100 (Training): 100%|██████████| 313/313 [00:24<00:00, 12.73it/s]\n",
            "Epoch 19/100 (Validation): 100%|██████████| 79/79 [00:04<00:00, 17.04it/s]\n"
          ]
        },
        {
          "output_type": "stream",
          "name": "stdout",
          "text": [
            "Epoch 19/100 - Train Loss: 1.0872, Train Acc: 0.6165 - Val Loss: 1.0985, Val Acc: 0.6189\n",
            "Epoch 20/100 - Learning Rate: 0.01\n"
          ]
        },
        {
          "output_type": "stream",
          "name": "stderr",
          "text": [
            "Epoch 20/100 (Training): 100%|██████████| 313/313 [00:26<00:00, 11.95it/s]\n",
            "Epoch 20/100 (Validation): 100%|██████████| 79/79 [00:04<00:00, 17.06it/s]\n"
          ]
        },
        {
          "output_type": "stream",
          "name": "stdout",
          "text": [
            "Epoch 20/100 - Train Loss: 1.0778, Train Acc: 0.6201 - Val Loss: 1.1948, Val Acc: 0.5751\n",
            "Epoch 21/100 - Learning Rate: 0.01\n"
          ]
        },
        {
          "output_type": "stream",
          "name": "stderr",
          "text": [
            "Epoch 21/100 (Training): 100%|██████████| 313/313 [00:24<00:00, 12.64it/s]\n",
            "Epoch 21/100 (Validation): 100%|██████████| 79/79 [00:04<00:00, 16.92it/s]\n"
          ]
        },
        {
          "output_type": "stream",
          "name": "stdout",
          "text": [
            "Epoch 21/100 - Train Loss: 1.0590, Train Acc: 0.6257 - Val Loss: 1.0557, Val Acc: 0.6283\n",
            "Epoch 22/100 - Learning Rate: 0.01\n"
          ]
        },
        {
          "output_type": "stream",
          "name": "stderr",
          "text": [
            "Epoch 22/100 (Training): 100%|██████████| 313/313 [00:24<00:00, 12.82it/s]\n",
            "Epoch 22/100 (Validation): 100%|██████████| 79/79 [00:04<00:00, 17.02it/s]\n"
          ]
        },
        {
          "output_type": "stream",
          "name": "stdout",
          "text": [
            "Epoch 22/100 - Train Loss: 1.0479, Train Acc: 0.6295 - Val Loss: 1.0679, Val Acc: 0.6226\n",
            "Epoch 23/100 - Learning Rate: 0.01\n"
          ]
        },
        {
          "output_type": "stream",
          "name": "stderr",
          "text": [
            "Epoch 23/100 (Training): 100%|██████████| 313/313 [00:24<00:00, 12.70it/s]\n",
            "Epoch 23/100 (Validation): 100%|██████████| 79/79 [00:04<00:00, 16.89it/s]\n"
          ]
        },
        {
          "output_type": "stream",
          "name": "stdout",
          "text": [
            "Epoch 23/100 - Train Loss: 1.0327, Train Acc: 0.6344 - Val Loss: 1.0709, Val Acc: 0.6220\n",
            "Epoch 24/100 - Learning Rate: 0.01\n"
          ]
        },
        {
          "output_type": "stream",
          "name": "stderr",
          "text": [
            "Epoch 24/100 (Training): 100%|██████████| 313/313 [00:24<00:00, 12.68it/s]\n",
            "Epoch 24/100 (Validation): 100%|██████████| 79/79 [00:04<00:00, 16.88it/s]\n"
          ]
        },
        {
          "output_type": "stream",
          "name": "stdout",
          "text": [
            "Epoch 24/100 - Train Loss: 1.0358, Train Acc: 0.6332 - Val Loss: 1.0769, Val Acc: 0.6243\n",
            "Epoch 25/100 - Learning Rate: 0.01\n"
          ]
        },
        {
          "output_type": "stream",
          "name": "stderr",
          "text": [
            "Epoch 25/100 (Training): 100%|██████████| 313/313 [00:24<00:00, 12.65it/s]\n",
            "Epoch 25/100 (Validation): 100%|██████████| 79/79 [00:05<00:00, 15.67it/s]\n"
          ]
        },
        {
          "output_type": "stream",
          "name": "stdout",
          "text": [
            "Epoch 25/100 - Train Loss: 1.0302, Train Acc: 0.6330 - Val Loss: 1.0853, Val Acc: 0.6176\n",
            "Epoch 26/100 - Learning Rate: 0.01\n"
          ]
        },
        {
          "output_type": "stream",
          "name": "stderr",
          "text": [
            "Epoch 26/100 (Training): 100%|██████████| 313/313 [00:24<00:00, 12.86it/s]\n",
            "Epoch 26/100 (Validation): 100%|██████████| 79/79 [00:05<00:00, 15.63it/s]\n"
          ]
        },
        {
          "output_type": "stream",
          "name": "stdout",
          "text": [
            "Epoch 26/100 - Train Loss: 1.0161, Train Acc: 0.6422 - Val Loss: 1.0541, Val Acc: 0.6273\n",
            "Epoch 27/100 - Learning Rate: 0.01\n"
          ]
        },
        {
          "output_type": "stream",
          "name": "stderr",
          "text": [
            "Epoch 27/100 (Training): 100%|██████████| 313/313 [00:24<00:00, 12.97it/s]\n",
            "Epoch 27/100 (Validation): 100%|██████████| 79/79 [00:05<00:00, 15.05it/s]\n"
          ]
        },
        {
          "output_type": "stream",
          "name": "stdout",
          "text": [
            "Epoch 27/100 - Train Loss: 1.0126, Train Acc: 0.6431 - Val Loss: 1.1035, Val Acc: 0.6141\n",
            "Epoch 28/100 - Learning Rate: 0.01\n"
          ]
        },
        {
          "output_type": "stream",
          "name": "stderr",
          "text": [
            "Epoch 28/100 (Training): 100%|██████████| 313/313 [00:23<00:00, 13.18it/s]\n",
            "Epoch 28/100 (Validation): 100%|██████████| 79/79 [00:05<00:00, 14.90it/s]\n"
          ]
        },
        {
          "output_type": "stream",
          "name": "stdout",
          "text": [
            "Epoch 28/100 - Train Loss: 1.0171, Train Acc: 0.6408 - Val Loss: 1.0488, Val Acc: 0.6353\n",
            "Epoch 29/100 - Learning Rate: 0.01\n"
          ]
        },
        {
          "output_type": "stream",
          "name": "stderr",
          "text": [
            "Epoch 29/100 (Training): 100%|██████████| 313/313 [00:23<00:00, 13.05it/s]\n",
            "Epoch 29/100 (Validation): 100%|██████████| 79/79 [00:07<00:00, 10.19it/s]\n"
          ]
        },
        {
          "output_type": "stream",
          "name": "stdout",
          "text": [
            "Epoch 29/100 - Train Loss: 1.0001, Train Acc: 0.6487 - Val Loss: 1.0087, Val Acc: 0.6471\n",
            "Epoch 30/100 - Learning Rate: 0.01\n"
          ]
        },
        {
          "output_type": "stream",
          "name": "stderr",
          "text": [
            "Epoch 30/100 (Training): 100%|██████████| 313/313 [00:23<00:00, 13.56it/s]\n",
            "Epoch 30/100 (Validation): 100%|██████████| 79/79 [00:06<00:00, 12.94it/s]\n"
          ]
        },
        {
          "output_type": "stream",
          "name": "stdout",
          "text": [
            "Epoch 30/100 - Train Loss: 0.9986, Train Acc: 0.6486 - Val Loss: 1.0224, Val Acc: 0.6384\n",
            "Epoch 31/100 - Learning Rate: 0.01\n"
          ]
        },
        {
          "output_type": "stream",
          "name": "stderr",
          "text": [
            "Epoch 31/100 (Training): 100%|██████████| 313/313 [00:23<00:00, 13.58it/s]\n",
            "Epoch 31/100 (Validation): 100%|██████████| 79/79 [00:06<00:00, 12.59it/s]\n"
          ]
        },
        {
          "output_type": "stream",
          "name": "stdout",
          "text": [
            "Epoch 31/100 - Train Loss: 0.9832, Train Acc: 0.6543 - Val Loss: 1.0975, Val Acc: 0.6193\n",
            "Epoch 32/100 - Learning Rate: 0.01\n"
          ]
        },
        {
          "output_type": "stream",
          "name": "stderr",
          "text": [
            "Epoch 32/100 (Training): 100%|██████████| 313/313 [00:22<00:00, 13.89it/s]\n",
            "Epoch 32/100 (Validation): 100%|██████████| 79/79 [00:06<00:00, 12.61it/s]\n"
          ]
        },
        {
          "output_type": "stream",
          "name": "stdout",
          "text": [
            "Epoch 32/100 - Train Loss: 0.9869, Train Acc: 0.6517 - Val Loss: 1.0402, Val Acc: 0.6362\n",
            "Epoch 33/100 - Learning Rate: 0.01\n"
          ]
        },
        {
          "output_type": "stream",
          "name": "stderr",
          "text": [
            "Epoch 33/100 (Training): 100%|██████████| 313/313 [00:22<00:00, 13.66it/s]\n",
            "Epoch 33/100 (Validation): 100%|██████████| 79/79 [00:06<00:00, 12.41it/s]\n"
          ]
        },
        {
          "output_type": "stream",
          "name": "stdout",
          "text": [
            "Epoch 33/100 - Train Loss: 0.9857, Train Acc: 0.6539 - Val Loss: 1.0644, Val Acc: 0.6235\n",
            "Epoch 34/100 - Learning Rate: 0.01\n"
          ]
        },
        {
          "output_type": "stream",
          "name": "stderr",
          "text": [
            "Epoch 34/100 (Training): 100%|██████████| 313/313 [00:22<00:00, 13.70it/s]\n",
            "Epoch 34/100 (Validation): 100%|██████████| 79/79 [00:06<00:00, 12.51it/s]\n"
          ]
        },
        {
          "output_type": "stream",
          "name": "stdout",
          "text": [
            "Epoch 34/100 - Train Loss: 0.9741, Train Acc: 0.6596 - Val Loss: 0.9931, Val Acc: 0.6493\n",
            "Epoch 35/100 - Learning Rate: 0.01\n"
          ]
        },
        {
          "output_type": "stream",
          "name": "stderr",
          "text": [
            "Epoch 35/100 (Training): 100%|██████████| 313/313 [00:22<00:00, 13.82it/s]\n",
            "Epoch 35/100 (Validation): 100%|██████████| 79/79 [00:06<00:00, 12.53it/s]\n"
          ]
        },
        {
          "output_type": "stream",
          "name": "stdout",
          "text": [
            "Epoch 35/100 - Train Loss: 0.9766, Train Acc: 0.6574 - Val Loss: 1.0311, Val Acc: 0.6345\n",
            "Epoch 36/100 - Learning Rate: 0.01\n"
          ]
        },
        {
          "output_type": "stream",
          "name": "stderr",
          "text": [
            "Epoch 36/100 (Training): 100%|██████████| 313/313 [00:23<00:00, 13.60it/s]\n",
            "Epoch 36/100 (Validation): 100%|██████████| 79/79 [00:06<00:00, 13.15it/s]\n"
          ]
        },
        {
          "output_type": "stream",
          "name": "stdout",
          "text": [
            "Epoch 36/100 - Train Loss: 0.9657, Train Acc: 0.6623 - Val Loss: 1.0366, Val Acc: 0.6380\n",
            "Epoch 37/100 - Learning Rate: 0.01\n"
          ]
        },
        {
          "output_type": "stream",
          "name": "stderr",
          "text": [
            "Epoch 37/100 (Training): 100%|██████████| 313/313 [00:23<00:00, 13.41it/s]\n",
            "Epoch 37/100 (Validation): 100%|██████████| 79/79 [00:05<00:00, 13.47it/s]\n"
          ]
        },
        {
          "output_type": "stream",
          "name": "stdout",
          "text": [
            "Epoch 37/100 - Train Loss: 0.9594, Train Acc: 0.6629 - Val Loss: 1.0243, Val Acc: 0.6455\n",
            "Epoch 38/100 - Learning Rate: 0.01\n"
          ]
        },
        {
          "output_type": "stream",
          "name": "stderr",
          "text": [
            "Epoch 38/100 (Training): 100%|██████████| 313/313 [00:23<00:00, 13.17it/s]\n",
            "Epoch 38/100 (Validation): 100%|██████████| 79/79 [00:05<00:00, 14.24it/s]\n"
          ]
        },
        {
          "output_type": "stream",
          "name": "stdout",
          "text": [
            "Epoch 38/100 - Train Loss: 0.9549, Train Acc: 0.6657 - Val Loss: 0.9893, Val Acc: 0.6514\n",
            "Epoch 39/100 - Learning Rate: 0.01\n"
          ]
        },
        {
          "output_type": "stream",
          "name": "stderr",
          "text": [
            "Epoch 39/100 (Training): 100%|██████████| 313/313 [00:24<00:00, 12.55it/s]\n",
            "Epoch 39/100 (Validation): 100%|██████████| 79/79 [00:06<00:00, 13.12it/s]\n"
          ]
        },
        {
          "output_type": "stream",
          "name": "stdout",
          "text": [
            "Epoch 39/100 - Train Loss: 0.9541, Train Acc: 0.6641 - Val Loss: 0.9893, Val Acc: 0.6582\n",
            "Epoch 40/100 - Learning Rate: 0.01\n"
          ]
        },
        {
          "output_type": "stream",
          "name": "stderr",
          "text": [
            "Epoch 40/100 (Training): 100%|██████████| 313/313 [00:22<00:00, 13.61it/s]\n",
            "Epoch 40/100 (Validation): 100%|██████████| 79/79 [00:06<00:00, 13.02it/s]\n"
          ]
        },
        {
          "output_type": "stream",
          "name": "stdout",
          "text": [
            "Epoch 40/100 - Train Loss: 0.9649, Train Acc: 0.6620 - Val Loss: 0.9964, Val Acc: 0.6470\n",
            "Epoch 41/100 - Learning Rate: 0.01\n"
          ]
        },
        {
          "output_type": "stream",
          "name": "stderr",
          "text": [
            "Epoch 41/100 (Training): 100%|██████████| 313/313 [00:23<00:00, 13.50it/s]\n",
            "Epoch 41/100 (Validation): 100%|██████████| 79/79 [00:05<00:00, 13.31it/s]\n"
          ]
        },
        {
          "output_type": "stream",
          "name": "stdout",
          "text": [
            "Epoch 41/100 - Train Loss: 0.9485, Train Acc: 0.6676 - Val Loss: 1.0116, Val Acc: 0.6436\n",
            "Epoch 42/100 - Learning Rate: 0.01\n"
          ]
        },
        {
          "output_type": "stream",
          "name": "stderr",
          "text": [
            "Epoch 42/100 (Training): 100%|██████████| 313/313 [00:23<00:00, 13.22it/s]\n",
            "Epoch 42/100 (Validation): 100%|██████████| 79/79 [00:05<00:00, 14.31it/s]\n"
          ]
        },
        {
          "output_type": "stream",
          "name": "stdout",
          "text": [
            "Epoch 42/100 - Train Loss: 0.9457, Train Acc: 0.6707 - Val Loss: 1.0255, Val Acc: 0.6419\n",
            "Epoch 43/100 - Learning Rate: 0.01\n"
          ]
        },
        {
          "output_type": "stream",
          "name": "stderr",
          "text": [
            "Epoch 43/100 (Training): 100%|██████████| 313/313 [00:23<00:00, 13.30it/s]\n",
            "Epoch 43/100 (Validation): 100%|██████████| 79/79 [00:05<00:00, 14.28it/s]\n"
          ]
        },
        {
          "output_type": "stream",
          "name": "stdout",
          "text": [
            "Epoch 43/100 - Train Loss: 0.9569, Train Acc: 0.6604 - Val Loss: 0.9746, Val Acc: 0.6626\n",
            "Epoch 44/100 - Learning Rate: 0.01\n"
          ]
        },
        {
          "output_type": "stream",
          "name": "stderr",
          "text": [
            "Epoch 44/100 (Training): 100%|██████████| 313/313 [00:24<00:00, 12.98it/s]\n",
            "Epoch 44/100 (Validation): 100%|██████████| 79/79 [00:04<00:00, 16.02it/s]\n"
          ]
        },
        {
          "output_type": "stream",
          "name": "stdout",
          "text": [
            "Epoch 44/100 - Train Loss: 0.9322, Train Acc: 0.6738 - Val Loss: 0.9909, Val Acc: 0.6581\n",
            "Epoch 45/100 - Learning Rate: 0.01\n"
          ]
        },
        {
          "output_type": "stream",
          "name": "stderr",
          "text": [
            "Epoch 45/100 (Training): 100%|██████████| 313/313 [00:24<00:00, 12.83it/s]\n",
            "Epoch 45/100 (Validation): 100%|██████████| 79/79 [00:04<00:00, 16.66it/s]\n"
          ]
        },
        {
          "output_type": "stream",
          "name": "stdout",
          "text": [
            "Epoch 45/100 - Train Loss: 0.9333, Train Acc: 0.6732 - Val Loss: 0.9983, Val Acc: 0.6496\n",
            "Epoch 46/100 - Learning Rate: 0.01\n"
          ]
        },
        {
          "output_type": "stream",
          "name": "stderr",
          "text": [
            "Epoch 46/100 (Training): 100%|██████████| 313/313 [00:24<00:00, 12.57it/s]\n",
            "Epoch 46/100 (Validation): 100%|██████████| 79/79 [00:04<00:00, 17.12it/s]\n"
          ]
        },
        {
          "output_type": "stream",
          "name": "stdout",
          "text": [
            "Epoch 46/100 - Train Loss: 0.9361, Train Acc: 0.6692 - Val Loss: 0.9947, Val Acc: 0.6519\n",
            "Epoch 47/100 - Learning Rate: 0.01\n"
          ]
        },
        {
          "output_type": "stream",
          "name": "stderr",
          "text": [
            "Epoch 47/100 (Training): 100%|██████████| 313/313 [00:24<00:00, 12.78it/s]\n",
            "Epoch 47/100 (Validation): 100%|██████████| 79/79 [00:04<00:00, 16.77it/s]\n"
          ]
        },
        {
          "output_type": "stream",
          "name": "stdout",
          "text": [
            "Epoch 47/100 - Train Loss: 0.9315, Train Acc: 0.6733 - Val Loss: 1.0021, Val Acc: 0.6421\n",
            "Epoch 48/100 - Learning Rate: 0.01\n"
          ]
        },
        {
          "output_type": "stream",
          "name": "stderr",
          "text": [
            "Epoch 48/100 (Training): 100%|██████████| 313/313 [00:26<00:00, 12.01it/s]\n",
            "Epoch 48/100 (Validation): 100%|██████████| 79/79 [00:04<00:00, 17.07it/s]\n"
          ]
        },
        {
          "output_type": "stream",
          "name": "stdout",
          "text": [
            "Epoch 48/100 - Train Loss: 0.9350, Train Acc: 0.6717 - Val Loss: 0.9635, Val Acc: 0.6608\n",
            "Epoch 49/100 - Learning Rate: 0.01\n"
          ]
        },
        {
          "output_type": "stream",
          "name": "stderr",
          "text": [
            "Epoch 49/100 (Training): 100%|██████████| 313/313 [00:24<00:00, 12.84it/s]\n",
            "Epoch 49/100 (Validation): 100%|██████████| 79/79 [00:04<00:00, 16.83it/s]\n"
          ]
        },
        {
          "output_type": "stream",
          "name": "stdout",
          "text": [
            "Epoch 49/100 - Train Loss: 0.9274, Train Acc: 0.6741 - Val Loss: 0.9812, Val Acc: 0.6569\n",
            "Epoch 50/100 - Learning Rate: 0.01\n"
          ]
        },
        {
          "output_type": "stream",
          "name": "stderr",
          "text": [
            "Epoch 50/100 (Training): 100%|██████████| 313/313 [00:24<00:00, 12.68it/s]\n",
            "Epoch 50/100 (Validation): 100%|██████████| 79/79 [00:04<00:00, 17.07it/s]\n"
          ]
        },
        {
          "output_type": "stream",
          "name": "stdout",
          "text": [
            "Epoch 50/100 - Train Loss: 0.9262, Train Acc: 0.6747 - Val Loss: 1.0015, Val Acc: 0.6521\n",
            "Epoch 51/100 - Learning Rate: 0.005\n"
          ]
        },
        {
          "output_type": "stream",
          "name": "stderr",
          "text": [
            "Epoch 51/100 (Training): 100%|██████████| 313/313 [00:24<00:00, 12.91it/s]\n",
            "Epoch 51/100 (Validation): 100%|██████████| 79/79 [00:04<00:00, 17.13it/s]\n"
          ]
        },
        {
          "output_type": "stream",
          "name": "stdout",
          "text": [
            "Epoch 51/100 - Train Loss: 0.8747, Train Acc: 0.6938 - Val Loss: 0.9328, Val Acc: 0.6728\n",
            "Epoch 52/100 - Learning Rate: 0.005\n"
          ]
        },
        {
          "output_type": "stream",
          "name": "stderr",
          "text": [
            "Epoch 52/100 (Training): 100%|██████████| 313/313 [00:24<00:00, 12.80it/s]\n",
            "Epoch 52/100 (Validation): 100%|██████████| 79/79 [00:04<00:00, 16.82it/s]\n"
          ]
        },
        {
          "output_type": "stream",
          "name": "stdout",
          "text": [
            "Epoch 52/100 - Train Loss: 0.8600, Train Acc: 0.6967 - Val Loss: 0.9392, Val Acc: 0.6711\n",
            "Epoch 53/100 - Learning Rate: 0.005\n"
          ]
        },
        {
          "output_type": "stream",
          "name": "stderr",
          "text": [
            "Epoch 53/100 (Training): 100%|██████████| 313/313 [00:24<00:00, 12.73it/s]\n",
            "Epoch 53/100 (Validation): 100%|██████████| 79/79 [00:04<00:00, 16.97it/s]\n"
          ]
        },
        {
          "output_type": "stream",
          "name": "stdout",
          "text": [
            "Epoch 53/100 - Train Loss: 0.8621, Train Acc: 0.6985 - Val Loss: 0.9234, Val Acc: 0.6762\n",
            "Epoch 54/100 - Learning Rate: 0.005\n"
          ]
        },
        {
          "output_type": "stream",
          "name": "stderr",
          "text": [
            "Epoch 54/100 (Training): 100%|██████████| 313/313 [00:24<00:00, 12.65it/s]\n",
            "Epoch 54/100 (Validation): 100%|██████████| 79/79 [00:04<00:00, 16.44it/s]\n"
          ]
        },
        {
          "output_type": "stream",
          "name": "stdout",
          "text": [
            "Epoch 54/100 - Train Loss: 0.8516, Train Acc: 0.7015 - Val Loss: 0.9098, Val Acc: 0.6758\n",
            "Epoch 55/100 - Learning Rate: 0.005\n"
          ]
        },
        {
          "output_type": "stream",
          "name": "stderr",
          "text": [
            "Epoch 55/100 (Training): 100%|██████████| 313/313 [00:25<00:00, 12.46it/s]\n",
            "Epoch 55/100 (Validation): 100%|██████████| 79/79 [00:04<00:00, 16.44it/s]\n"
          ]
        },
        {
          "output_type": "stream",
          "name": "stdout",
          "text": [
            "Epoch 55/100 - Train Loss: 0.8538, Train Acc: 0.6993 - Val Loss: 0.9190, Val Acc: 0.6795\n",
            "Epoch 56/100 - Learning Rate: 0.005\n"
          ]
        },
        {
          "output_type": "stream",
          "name": "stderr",
          "text": [
            "Epoch 56/100 (Training): 100%|██████████| 313/313 [00:25<00:00, 12.49it/s]\n",
            "Epoch 56/100 (Validation): 100%|██████████| 79/79 [00:04<00:00, 16.86it/s]\n"
          ]
        },
        {
          "output_type": "stream",
          "name": "stdout",
          "text": [
            "Epoch 56/100 - Train Loss: 0.8449, Train Acc: 0.7029 - Val Loss: 0.9295, Val Acc: 0.6753\n",
            "Epoch 57/100 - Learning Rate: 0.005\n"
          ]
        },
        {
          "output_type": "stream",
          "name": "stderr",
          "text": [
            "Epoch 57/100 (Training): 100%|██████████| 313/313 [00:24<00:00, 12.67it/s]\n",
            "Epoch 57/100 (Validation): 100%|██████████| 79/79 [00:04<00:00, 16.89it/s]\n"
          ]
        },
        {
          "output_type": "stream",
          "name": "stdout",
          "text": [
            "Epoch 57/100 - Train Loss: 0.8459, Train Acc: 0.7025 - Val Loss: 0.9052, Val Acc: 0.6847\n",
            "Epoch 58/100 - Learning Rate: 0.005\n"
          ]
        },
        {
          "output_type": "stream",
          "name": "stderr",
          "text": [
            "Epoch 58/100 (Training): 100%|██████████| 313/313 [00:26<00:00, 11.60it/s]\n",
            "Epoch 58/100 (Validation): 100%|██████████| 79/79 [00:04<00:00, 16.31it/s]\n"
          ]
        },
        {
          "output_type": "stream",
          "name": "stdout",
          "text": [
            "Epoch 58/100 - Train Loss: 0.8425, Train Acc: 0.7070 - Val Loss: 0.9295, Val Acc: 0.6728\n",
            "Epoch 59/100 - Learning Rate: 0.005\n"
          ]
        },
        {
          "output_type": "stream",
          "name": "stderr",
          "text": [
            "Epoch 59/100 (Training): 100%|██████████| 313/313 [00:24<00:00, 12.80it/s]\n",
            "Epoch 59/100 (Validation): 100%|██████████| 79/79 [00:05<00:00, 15.49it/s]\n"
          ]
        },
        {
          "output_type": "stream",
          "name": "stdout",
          "text": [
            "Epoch 59/100 - Train Loss: 0.8407, Train Acc: 0.7035 - Val Loss: 0.9246, Val Acc: 0.6760\n",
            "Epoch 60/100 - Learning Rate: 0.005\n"
          ]
        },
        {
          "output_type": "stream",
          "name": "stderr",
          "text": [
            "Epoch 60/100 (Training): 100%|██████████| 313/313 [00:24<00:00, 12.91it/s]\n",
            "Epoch 60/100 (Validation): 100%|██████████| 79/79 [00:05<00:00, 14.32it/s]\n"
          ]
        },
        {
          "output_type": "stream",
          "name": "stdout",
          "text": [
            "Epoch 60/100 - Train Loss: 0.8432, Train Acc: 0.7042 - Val Loss: 0.9035, Val Acc: 0.6869\n",
            "Epoch 61/100 - Learning Rate: 0.005\n"
          ]
        },
        {
          "output_type": "stream",
          "name": "stderr",
          "text": [
            "Epoch 61/100 (Training): 100%|██████████| 313/313 [00:24<00:00, 12.96it/s]\n",
            "Epoch 61/100 (Validation): 100%|██████████| 79/79 [00:05<00:00, 13.22it/s]\n"
          ]
        },
        {
          "output_type": "stream",
          "name": "stdout",
          "text": [
            "Epoch 61/100 - Train Loss: 0.8477, Train Acc: 0.6998 - Val Loss: 0.9085, Val Acc: 0.6872\n",
            "Epoch 62/100 - Learning Rate: 0.005\n"
          ]
        },
        {
          "output_type": "stream",
          "name": "stderr",
          "text": [
            "Epoch 62/100 (Training): 100%|██████████| 313/313 [00:23<00:00, 13.26it/s]\n",
            "Epoch 62/100 (Validation): 100%|██████████| 79/79 [00:06<00:00, 12.27it/s]\n"
          ]
        },
        {
          "output_type": "stream",
          "name": "stdout",
          "text": [
            "Epoch 62/100 - Train Loss: 0.8419, Train Acc: 0.7061 - Val Loss: 0.9212, Val Acc: 0.6783\n",
            "Epoch 63/100 - Learning Rate: 0.005\n"
          ]
        },
        {
          "output_type": "stream",
          "name": "stderr",
          "text": [
            "Epoch 63/100 (Training): 100%|██████████| 313/313 [00:23<00:00, 13.11it/s]\n",
            "Epoch 63/100 (Validation): 100%|██████████| 79/79 [00:06<00:00, 12.31it/s]\n"
          ]
        },
        {
          "output_type": "stream",
          "name": "stdout",
          "text": [
            "Epoch 63/100 - Train Loss: 0.8497, Train Acc: 0.7016 - Val Loss: 0.9202, Val Acc: 0.6777\n",
            "Epoch 64/100 - Learning Rate: 0.005\n"
          ]
        },
        {
          "output_type": "stream",
          "name": "stderr",
          "text": [
            "Epoch 64/100 (Training): 100%|██████████| 313/313 [00:36<00:00,  8.67it/s]\n",
            "Epoch 64/100 (Validation): 100%|██████████| 79/79 [00:08<00:00,  9.02it/s]\n"
          ]
        },
        {
          "output_type": "stream",
          "name": "stdout",
          "text": [
            "Epoch 64/100 - Train Loss: 0.8360, Train Acc: 0.7044 - Val Loss: 0.9248, Val Acc: 0.6775\n",
            "Epoch 65/100 - Learning Rate: 0.005\n"
          ]
        },
        {
          "output_type": "stream",
          "name": "stderr",
          "text": [
            "Epoch 65/100 (Training): 100%|██████████| 313/313 [00:31<00:00, 10.10it/s]\n",
            "Epoch 65/100 (Validation): 100%|██████████| 79/79 [00:08<00:00,  8.83it/s]\n"
          ]
        },
        {
          "output_type": "stream",
          "name": "stdout",
          "text": [
            "Epoch 65/100 - Train Loss: 0.8415, Train Acc: 0.7038 - Val Loss: 0.9089, Val Acc: 0.6788\n",
            "Epoch 66/100 - Learning Rate: 0.005\n"
          ]
        },
        {
          "output_type": "stream",
          "name": "stderr",
          "text": [
            "Epoch 66/100 (Training): 100%|██████████| 313/313 [00:28<00:00, 10.98it/s]\n",
            "Epoch 66/100 (Validation): 100%|██████████| 79/79 [00:04<00:00, 15.97it/s]\n"
          ]
        },
        {
          "output_type": "stream",
          "name": "stdout",
          "text": [
            "Epoch 66/100 - Train Loss: 0.8366, Train Acc: 0.7053 - Val Loss: 0.9306, Val Acc: 0.6736\n",
            "Epoch 67/100 - Learning Rate: 0.005\n"
          ]
        },
        {
          "output_type": "stream",
          "name": "stderr",
          "text": [
            "Epoch 67/100 (Training): 100%|██████████| 313/313 [00:25<00:00, 12.23it/s]\n",
            "Epoch 67/100 (Validation): 100%|██████████| 79/79 [00:04<00:00, 16.03it/s]\n"
          ]
        },
        {
          "output_type": "stream",
          "name": "stdout",
          "text": [
            "Epoch 67/100 - Train Loss: 0.8346, Train Acc: 0.7083 - Val Loss: 0.9062, Val Acc: 0.6838\n",
            "Epoch 68/100 - Learning Rate: 0.005\n"
          ]
        },
        {
          "output_type": "stream",
          "name": "stderr",
          "text": [
            "Epoch 68/100 (Training): 100%|██████████| 313/313 [00:28<00:00, 11.01it/s]\n",
            "Epoch 68/100 (Validation): 100%|██████████| 79/79 [00:06<00:00, 12.82it/s]\n"
          ]
        },
        {
          "output_type": "stream",
          "name": "stdout",
          "text": [
            "Epoch 68/100 - Train Loss: 0.8379, Train Acc: 0.7054 - Val Loss: 0.9201, Val Acc: 0.6810\n",
            "Epoch 69/100 - Learning Rate: 0.005\n"
          ]
        },
        {
          "output_type": "stream",
          "name": "stderr",
          "text": [
            "Epoch 69/100 (Training): 100%|██████████| 313/313 [00:26<00:00, 11.66it/s]\n",
            "Epoch 69/100 (Validation): 100%|██████████| 79/79 [00:07<00:00, 11.13it/s]\n"
          ]
        },
        {
          "output_type": "stream",
          "name": "stdout",
          "text": [
            "Epoch 69/100 - Train Loss: 0.8362, Train Acc: 0.7065 - Val Loss: 0.8795, Val Acc: 0.6912\n",
            "Epoch 70/100 - Learning Rate: 0.005\n"
          ]
        },
        {
          "output_type": "stream",
          "name": "stderr",
          "text": [
            "Epoch 70/100 (Training): 100%|██████████| 313/313 [00:25<00:00, 12.05it/s]\n",
            "Epoch 70/100 (Validation): 100%|██████████| 79/79 [00:06<00:00, 12.87it/s]\n"
          ]
        },
        {
          "output_type": "stream",
          "name": "stdout",
          "text": [
            "Epoch 70/100 - Train Loss: 0.8336, Train Acc: 0.7091 - Val Loss: 0.9245, Val Acc: 0.6751\n",
            "Epoch 71/100 - Learning Rate: 0.005\n"
          ]
        },
        {
          "output_type": "stream",
          "name": "stderr",
          "text": [
            "Epoch 71/100 (Training): 100%|██████████| 313/313 [00:27<00:00, 11.41it/s]\n",
            "Epoch 71/100 (Validation): 100%|██████████| 79/79 [00:05<00:00, 14.45it/s]\n"
          ]
        },
        {
          "output_type": "stream",
          "name": "stdout",
          "text": [
            "Epoch 71/100 - Train Loss: 0.8247, Train Acc: 0.7063 - Val Loss: 0.8997, Val Acc: 0.6874\n",
            "Epoch 72/100 - Learning Rate: 0.005\n"
          ]
        },
        {
          "output_type": "stream",
          "name": "stderr",
          "text": [
            "Epoch 72/100 (Training): 100%|██████████| 313/313 [00:27<00:00, 11.38it/s]\n",
            "Epoch 72/100 (Validation): 100%|██████████| 79/79 [00:05<00:00, 15.10it/s]\n"
          ]
        },
        {
          "output_type": "stream",
          "name": "stdout",
          "text": [
            "Epoch 72/100 - Train Loss: 0.8273, Train Acc: 0.7101 - Val Loss: 0.9135, Val Acc: 0.6816\n",
            "Epoch 73/100 - Learning Rate: 0.005\n"
          ]
        },
        {
          "output_type": "stream",
          "name": "stderr",
          "text": [
            "Epoch 73/100 (Training): 100%|██████████| 313/313 [00:27<00:00, 11.56it/s]\n",
            "Epoch 73/100 (Validation): 100%|██████████| 79/79 [00:06<00:00, 11.35it/s]\n"
          ]
        },
        {
          "output_type": "stream",
          "name": "stdout",
          "text": [
            "Epoch 73/100 - Train Loss: 0.8311, Train Acc: 0.7086 - Val Loss: 0.8999, Val Acc: 0.6855\n",
            "Epoch 74/100 - Learning Rate: 0.005\n"
          ]
        },
        {
          "output_type": "stream",
          "name": "stderr",
          "text": [
            "Epoch 74/100 (Training): 100%|██████████| 313/313 [00:25<00:00, 12.32it/s]\n",
            "Epoch 74/100 (Validation): 100%|██████████| 79/79 [00:07<00:00, 10.08it/s]\n"
          ]
        },
        {
          "output_type": "stream",
          "name": "stdout",
          "text": [
            "Epoch 74/100 - Train Loss: 0.8262, Train Acc: 0.7105 - Val Loss: 0.9040, Val Acc: 0.6837\n",
            "Epoch 75/100 - Learning Rate: 0.005\n"
          ]
        },
        {
          "output_type": "stream",
          "name": "stderr",
          "text": [
            "Epoch 75/100 (Training): 100%|██████████| 313/313 [00:27<00:00, 11.28it/s]\n",
            "Epoch 75/100 (Validation): 100%|██████████| 79/79 [00:05<00:00, 15.28it/s]\n"
          ]
        },
        {
          "output_type": "stream",
          "name": "stdout",
          "text": [
            "Epoch 75/100 - Train Loss: 0.8310, Train Acc: 0.7092 - Val Loss: 0.9113, Val Acc: 0.6777\n",
            "Epoch 76/100 - Learning Rate: 0.005\n"
          ]
        },
        {
          "output_type": "stream",
          "name": "stderr",
          "text": [
            "Epoch 76/100 (Training): 100%|██████████| 313/313 [00:27<00:00, 11.55it/s]\n",
            "Epoch 76/100 (Validation): 100%|██████████| 79/79 [00:05<00:00, 15.68it/s]\n"
          ]
        },
        {
          "output_type": "stream",
          "name": "stdout",
          "text": [
            "Epoch 76/100 - Train Loss: 0.8295, Train Acc: 0.7083 - Val Loss: 0.9337, Val Acc: 0.6722\n",
            "Epoch 77/100 - Learning Rate: 0.005\n"
          ]
        },
        {
          "output_type": "stream",
          "name": "stderr",
          "text": [
            "Epoch 77/100 (Training): 100%|██████████| 313/313 [00:26<00:00, 11.62it/s]\n",
            "Epoch 77/100 (Validation): 100%|██████████| 79/79 [00:06<00:00, 12.67it/s]\n"
          ]
        },
        {
          "output_type": "stream",
          "name": "stdout",
          "text": [
            "Epoch 77/100 - Train Loss: 0.8202, Train Acc: 0.7128 - Val Loss: 0.9123, Val Acc: 0.6821\n",
            "Epoch 78/100 - Learning Rate: 0.005\n"
          ]
        },
        {
          "output_type": "stream",
          "name": "stderr",
          "text": [
            "Epoch 78/100 (Training): 100%|██████████| 313/313 [00:25<00:00, 12.13it/s]\n",
            "Epoch 78/100 (Validation): 100%|██████████| 79/79 [00:06<00:00, 11.36it/s]\n"
          ]
        },
        {
          "output_type": "stream",
          "name": "stdout",
          "text": [
            "Epoch 78/100 - Train Loss: 0.8183, Train Acc: 0.7120 - Val Loss: 0.8975, Val Acc: 0.6876\n",
            "Epoch 79/100 - Learning Rate: 0.005\n"
          ]
        },
        {
          "output_type": "stream",
          "name": "stderr",
          "text": [
            "Epoch 79/100 (Training): 100%|██████████| 313/313 [00:25<00:00, 12.07it/s]\n",
            "Epoch 79/100 (Validation): 100%|██████████| 79/79 [00:06<00:00, 12.81it/s]\n"
          ]
        },
        {
          "output_type": "stream",
          "name": "stdout",
          "text": [
            "Epoch 79/100 - Train Loss: 0.8280, Train Acc: 0.7115 - Val Loss: 0.8973, Val Acc: 0.6885\n",
            "Epoch 80/100 - Learning Rate: 0.005\n"
          ]
        },
        {
          "output_type": "stream",
          "name": "stderr",
          "text": [
            "Epoch 80/100 (Training): 100%|██████████| 313/313 [00:27<00:00, 11.56it/s]\n",
            "Epoch 80/100 (Validation): 100%|██████████| 79/79 [00:05<00:00, 15.52it/s]\n"
          ]
        },
        {
          "output_type": "stream",
          "name": "stdout",
          "text": [
            "Epoch 80/100 - Train Loss: 0.8290, Train Acc: 0.7086 - Val Loss: 0.9058, Val Acc: 0.6834\n",
            "Epoch 81/100 - Learning Rate: 0.005\n"
          ]
        },
        {
          "output_type": "stream",
          "name": "stderr",
          "text": [
            "Epoch 81/100 (Training): 100%|██████████| 313/313 [00:26<00:00, 11.61it/s]\n",
            "Epoch 81/100 (Validation): 100%|██████████| 79/79 [00:05<00:00, 15.37it/s]\n"
          ]
        },
        {
          "output_type": "stream",
          "name": "stdout",
          "text": [
            "Epoch 81/100 - Train Loss: 0.8246, Train Acc: 0.7107 - Val Loss: 0.9073, Val Acc: 0.6825\n",
            "Epoch 82/100 - Learning Rate: 0.005\n"
          ]
        },
        {
          "output_type": "stream",
          "name": "stderr",
          "text": [
            "Epoch 82/100 (Training): 100%|██████████| 313/313 [00:27<00:00, 11.55it/s]\n",
            "Epoch 82/100 (Validation): 100%|██████████| 79/79 [00:05<00:00, 13.86it/s]\n"
          ]
        },
        {
          "output_type": "stream",
          "name": "stdout",
          "text": [
            "Epoch 82/100 - Train Loss: 0.8276, Train Acc: 0.7084 - Val Loss: 0.8905, Val Acc: 0.6857\n",
            "Epoch 83/100 - Learning Rate: 0.005\n"
          ]
        },
        {
          "output_type": "stream",
          "name": "stderr",
          "text": [
            "Epoch 83/100 (Training): 100%|██████████| 313/313 [00:28<00:00, 11.06it/s]\n",
            "Epoch 83/100 (Validation): 100%|██████████| 79/79 [00:07<00:00, 11.22it/s]\n"
          ]
        },
        {
          "output_type": "stream",
          "name": "stdout",
          "text": [
            "Epoch 83/100 - Train Loss: 0.8227, Train Acc: 0.7104 - Val Loss: 0.9168, Val Acc: 0.6783\n",
            "Epoch 84/100 - Learning Rate: 0.005\n"
          ]
        },
        {
          "output_type": "stream",
          "name": "stderr",
          "text": [
            "Epoch 84/100 (Training): 100%|██████████| 313/313 [00:25<00:00, 12.05it/s]\n",
            "Epoch 84/100 (Validation): 100%|██████████| 79/79 [00:05<00:00, 13.85it/s]\n"
          ]
        },
        {
          "output_type": "stream",
          "name": "stdout",
          "text": [
            "Epoch 84/100 - Train Loss: 0.8238, Train Acc: 0.7096 - Val Loss: 0.8919, Val Acc: 0.6905\n",
            "Epoch 85/100 - Learning Rate: 0.005\n"
          ]
        },
        {
          "output_type": "stream",
          "name": "stderr",
          "text": [
            "Epoch 85/100 (Training): 100%|██████████| 313/313 [00:26<00:00, 11.71it/s]\n",
            "Epoch 85/100 (Validation): 100%|██████████| 79/79 [00:05<00:00, 15.64it/s]\n"
          ]
        },
        {
          "output_type": "stream",
          "name": "stdout",
          "text": [
            "Epoch 85/100 - Train Loss: 0.8191, Train Acc: 0.7122 - Val Loss: 0.9266, Val Acc: 0.6760\n",
            "Epoch 86/100 - Learning Rate: 0.005\n"
          ]
        },
        {
          "output_type": "stream",
          "name": "stderr",
          "text": [
            "Epoch 86/100 (Training): 100%|██████████| 313/313 [00:26<00:00, 11.69it/s]\n",
            "Epoch 86/100 (Validation): 100%|██████████| 79/79 [00:05<00:00, 15.79it/s]\n"
          ]
        },
        {
          "output_type": "stream",
          "name": "stdout",
          "text": [
            "Epoch 86/100 - Train Loss: 0.8189, Train Acc: 0.7083 - Val Loss: 0.9190, Val Acc: 0.6833\n",
            "Epoch 87/100 - Learning Rate: 0.005\n"
          ]
        },
        {
          "output_type": "stream",
          "name": "stderr",
          "text": [
            "Epoch 87/100 (Training): 100%|██████████| 313/313 [00:26<00:00, 11.65it/s]\n",
            "Epoch 87/100 (Validation): 100%|██████████| 79/79 [00:05<00:00, 14.01it/s]\n"
          ]
        },
        {
          "output_type": "stream",
          "name": "stdout",
          "text": [
            "Epoch 87/100 - Train Loss: 0.8127, Train Acc: 0.7125 - Val Loss: 0.8674, Val Acc: 0.6989\n",
            "Epoch 88/100 - Learning Rate: 0.005\n"
          ]
        },
        {
          "output_type": "stream",
          "name": "stderr",
          "text": [
            "Epoch 88/100 (Training): 100%|██████████| 313/313 [00:26<00:00, 12.01it/s]\n",
            "Epoch 88/100 (Validation): 100%|██████████| 79/79 [00:06<00:00, 11.50it/s]\n"
          ]
        },
        {
          "output_type": "stream",
          "name": "stdout",
          "text": [
            "Epoch 88/100 - Train Loss: 0.8138, Train Acc: 0.7156 - Val Loss: 0.9183, Val Acc: 0.6808\n",
            "Epoch 89/100 - Learning Rate: 0.005\n"
          ]
        },
        {
          "output_type": "stream",
          "name": "stderr",
          "text": [
            "Epoch 89/100 (Training): 100%|██████████| 313/313 [00:24<00:00, 12.61it/s]\n",
            "Epoch 89/100 (Validation): 100%|██████████| 79/79 [00:06<00:00, 11.44it/s]\n"
          ]
        },
        {
          "output_type": "stream",
          "name": "stdout",
          "text": [
            "Epoch 89/100 - Train Loss: 0.8176, Train Acc: 0.7116 - Val Loss: 0.9523, Val Acc: 0.6714\n",
            "Epoch 90/100 - Learning Rate: 0.005\n"
          ]
        },
        {
          "output_type": "stream",
          "name": "stderr",
          "text": [
            "Epoch 90/100 (Training): 100%|██████████| 313/313 [00:26<00:00, 11.86it/s]\n",
            "Epoch 90/100 (Validation): 100%|██████████| 79/79 [00:05<00:00, 15.41it/s]\n"
          ]
        },
        {
          "output_type": "stream",
          "name": "stdout",
          "text": [
            "Epoch 90/100 - Train Loss: 0.8110, Train Acc: 0.7153 - Val Loss: 0.8798, Val Acc: 0.6910\n",
            "Epoch 91/100 - Learning Rate: 0.005\n"
          ]
        },
        {
          "output_type": "stream",
          "name": "stderr",
          "text": [
            "Epoch 91/100 (Training): 100%|██████████| 313/313 [00:26<00:00, 11.78it/s]\n",
            "Epoch 91/100 (Validation): 100%|██████████| 79/79 [00:05<00:00, 15.72it/s]\n"
          ]
        },
        {
          "output_type": "stream",
          "name": "stdout",
          "text": [
            "Epoch 91/100 - Train Loss: 0.8101, Train Acc: 0.7183 - Val Loss: 0.9385, Val Acc: 0.6714\n",
            "Epoch 92/100 - Learning Rate: 0.005\n"
          ]
        },
        {
          "output_type": "stream",
          "name": "stderr",
          "text": [
            "Epoch 92/100 (Training): 100%|██████████| 313/313 [00:28<00:00, 10.88it/s]\n",
            "Epoch 92/100 (Validation): 100%|██████████| 79/79 [00:05<00:00, 15.77it/s]\n"
          ]
        },
        {
          "output_type": "stream",
          "name": "stdout",
          "text": [
            "Epoch 92/100 - Train Loss: 0.8106, Train Acc: 0.7156 - Val Loss: 0.8866, Val Acc: 0.6904\n",
            "Epoch 93/100 - Learning Rate: 0.005\n"
          ]
        },
        {
          "output_type": "stream",
          "name": "stderr",
          "text": [
            "Epoch 93/100 (Training): 100%|██████████| 313/313 [00:26<00:00, 11.70it/s]\n",
            "Epoch 93/100 (Validation): 100%|██████████| 79/79 [00:05<00:00, 13.22it/s]\n"
          ]
        },
        {
          "output_type": "stream",
          "name": "stdout",
          "text": [
            "Epoch 93/100 - Train Loss: 0.8050, Train Acc: 0.7182 - Val Loss: 0.8907, Val Acc: 0.6893\n",
            "Epoch 94/100 - Learning Rate: 0.005\n"
          ]
        },
        {
          "output_type": "stream",
          "name": "stderr",
          "text": [
            "Epoch 94/100 (Training): 100%|██████████| 313/313 [00:25<00:00, 12.23it/s]\n",
            "Epoch 94/100 (Validation): 100%|██████████| 79/79 [00:06<00:00, 11.54it/s]\n"
          ]
        },
        {
          "output_type": "stream",
          "name": "stdout",
          "text": [
            "Epoch 94/100 - Train Loss: 0.8171, Train Acc: 0.7137 - Val Loss: 0.9028, Val Acc: 0.6856\n",
            "Epoch 95/100 - Learning Rate: 0.005\n"
          ]
        },
        {
          "output_type": "stream",
          "name": "stderr",
          "text": [
            "Epoch 95/100 (Training): 100%|██████████| 313/313 [00:25<00:00, 12.50it/s]\n",
            "Epoch 95/100 (Validation): 100%|██████████| 79/79 [00:06<00:00, 12.39it/s]\n"
          ]
        },
        {
          "output_type": "stream",
          "name": "stdout",
          "text": [
            "Epoch 95/100 - Train Loss: 0.8068, Train Acc: 0.7161 - Val Loss: 0.9031, Val Acc: 0.6819\n",
            "Epoch 96/100 - Learning Rate: 0.005\n"
          ]
        },
        {
          "output_type": "stream",
          "name": "stderr",
          "text": [
            "Epoch 96/100 (Training): 100%|██████████| 313/313 [00:23<00:00, 13.36it/s]\n",
            "Epoch 96/100 (Validation): 100%|██████████| 79/79 [00:05<00:00, 14.06it/s]\n"
          ]
        },
        {
          "output_type": "stream",
          "name": "stdout",
          "text": [
            "Epoch 96/100 - Train Loss: 0.8106, Train Acc: 0.7131 - Val Loss: 0.9008, Val Acc: 0.6841\n",
            "Epoch 97/100 - Learning Rate: 0.005\n"
          ]
        },
        {
          "output_type": "stream",
          "name": "stderr",
          "text": [
            "Epoch 97/100 (Training): 100%|██████████| 313/313 [00:24<00:00, 12.93it/s]\n",
            "Epoch 97/100 (Validation): 100%|██████████| 79/79 [00:05<00:00, 14.52it/s]\n"
          ]
        },
        {
          "output_type": "stream",
          "name": "stdout",
          "text": [
            "Epoch 97/100 - Train Loss: 0.8067, Train Acc: 0.7162 - Val Loss: 0.8999, Val Acc: 0.6873\n",
            "Epoch 98/100 - Learning Rate: 0.005\n"
          ]
        },
        {
          "output_type": "stream",
          "name": "stderr",
          "text": [
            "Epoch 98/100 (Training): 100%|██████████| 313/313 [00:24<00:00, 12.76it/s]\n",
            "Epoch 98/100 (Validation): 100%|██████████| 79/79 [00:04<00:00, 16.44it/s]\n"
          ]
        },
        {
          "output_type": "stream",
          "name": "stdout",
          "text": [
            "Epoch 98/100 - Train Loss: 0.8150, Train Acc: 0.7156 - Val Loss: 0.9071, Val Acc: 0.6834\n",
            "Epoch 99/100 - Learning Rate: 0.005\n"
          ]
        },
        {
          "output_type": "stream",
          "name": "stderr",
          "text": [
            "Epoch 99/100 (Training): 100%|██████████| 313/313 [00:24<00:00, 12.71it/s]\n",
            "Epoch 99/100 (Validation): 100%|██████████| 79/79 [00:04<00:00, 17.17it/s]\n"
          ]
        },
        {
          "output_type": "stream",
          "name": "stdout",
          "text": [
            "Epoch 99/100 - Train Loss: 0.8017, Train Acc: 0.7187 - Val Loss: 0.8754, Val Acc: 0.6954\n",
            "Epoch 100/100 - Learning Rate: 0.005\n"
          ]
        },
        {
          "output_type": "stream",
          "name": "stderr",
          "text": [
            "Epoch 100/100 (Training): 100%|██████████| 313/313 [00:24<00:00, 12.59it/s]\n",
            "Epoch 100/100 (Validation): 100%|██████████| 79/79 [00:05<00:00, 15.32it/s]\n"
          ]
        },
        {
          "output_type": "stream",
          "name": "stdout",
          "text": [
            "Epoch 100/100 - Train Loss: 0.8136, Train Acc: 0.7150 - Val Loss: 0.8771, Val Acc: 0.6932\n"
          ]
        },
        {
          "output_type": "display_data",
          "data": {
            "text/plain": [
              "<Figure size 640x480 with 1 Axes>"
            ],
            "image/png": "[encoded data removed]"
          },
          "metadata": {}
        },
        {
          "output_type": "display_data",
          "data": {
            "text/plain": [
              "<Figure size 640x480 with 1 Axes>"
            ],
            "image/png": "[encoded data removed]"
          },
          "metadata": {}
        }
      ]
    },
    {
      "cell_type": "markdown",
      "source": [
        "## test"
      ],
      "metadata": {
        "id": "WjTk7qSTWCBx"
      }
    },
    {
      "cell_type": "code",
      "source": [
        "testloader = DataLoader(testset, batch_size=128, shuffle=False, num_workers=2)\n",
        "test_loss, test_acc = test(model, testloader)\n"
      ],
      "metadata": {
        "id": "aM1mrPWtMavw",
        "colab": {
          "base_uri": "https://localhost:8080/"
        },
        "outputId": "7f95fc3a-8757-498f-ec47-96d7c734360d"
      },
      "execution_count": null,
      "outputs": [
        {
          "output_type": "stream",
          "name": "stderr",
          "text": [
            "Testing: 100%|██████████| 79/79 [00:06<00:00, 11.87it/s]"
          ]
        },
        {
          "output_type": "stream",
          "name": "stdout",
          "text": [
            "Test Loss: 0.8985, Test Accuracy: 0.6894\n"
          ]
        },
        {
          "output_type": "stream",
          "name": "stderr",
          "text": [
            "\n"
          ]
        }
      ]
    },
    {
      "cell_type": "markdown",
      "source": [
        "## save model"
      ],
      "metadata": {
        "id": "bLqbio-RWDoR"
      }
    },
    {
      "cell_type": "code",
      "source": [
        "filename = 'cifar10_model.pth'\n",
        "\n",
        "torch.save(model.state_dict(), filename)\n",
        "print(f\"Model saved to {filename}\")"
      ],
      "metadata": {
        "id": "ZcSFvmxiSrTV",
        "colab": {
          "base_uri": "https://localhost:8080/"
        },
        "outputId": "13a54954-4a0a-4bf0-a7d8-28085bc66085"
      },
      "execution_count": null,
      "outputs": [
        {
          "output_type": "stream",
          "name": "stdout",
          "text": [
            "Model saved to cifar10_model.pth\n"
          ]
        }
      ]
    },
    {
      "cell_type": "code",
      "source": [
        "# net = torch.load(filename)\n",
        "# net.eval()\n",
        "# print(f\"Model loaded from {filename}\")"
      ],
      "metadata": {
        "id": "heYmBNMvS4U2"
      },
      "execution_count": null,
      "outputs": []
    },
    {
      "cell_type": "markdown",
      "source": [
        "## statistics\n"
      ],
      "metadata": {
        "id": "bTryc_zJWFkh"
      }
    },
    {
      "cell_type": "code",
      "source": [
        "import seaborn as sns\n",
        "from sklearn.metrics import confusion_matrix\n",
        "\n",
        "model.eval()  # Set model to evaluation mode\n",
        "all_labels = []\n",
        "all_preds = []\n",
        "\n",
        "misclassified_images = []\n",
        "misclassified_labels = []\n",
        "misclassified_preds = []\n",
        "\n",
        "with torch.no_grad():\n",
        "    for images, labels in tqdm(testloader, desc=\"Computing Confusion Matrix\"):\n",
        "        images, labels = images.to(DEVICE), labels.to(DEVICE)\n",
        "        outputs = model(images)\n",
        "        _, preds = torch.max(outputs, 1)\n",
        "\n",
        "        all_labels.extend(labels.cpu().numpy())  # Collect all true labels\n",
        "        all_preds.extend(preds.cpu().numpy())    # Collect all predictions\n",
        "\n",
        "        # Find misclassified images\n",
        "        incorrect = preds != labels\n",
        "        misclassified_images.extend(images[incorrect].cpu())  # Collect misclassified images\n",
        "        misclassified_labels.extend(labels[incorrect].cpu())  # True labels of misclassified images\n",
        "        misclassified_preds.extend(preds[incorrect].cpu())  # Predicted labels of misclassified images\n",
        "\n"
      ],
      "metadata": {
        "id": "y2pkk6MNVrn2",
        "colab": {
          "base_uri": "https://localhost:8080/"
        },
        "outputId": "9e65a62f-9f67-406d-e668-065a01f0df23"
      },
      "execution_count": null,
      "outputs": [
        {
          "output_type": "stream",
          "name": "stderr",
          "text": [
            "Computing Confusion Matrix: 100%|██████████| 79/79 [00:05<00:00, 15.62it/s]\n"
          ]
        }
      ]
    },
    {
      "cell_type": "code",
      "source": [
        "# Compute confusion matrix\n",
        "cm = confusion_matrix(all_labels, all_preds)\n",
        "\n",
        "# Calculate accuracy for each class\n",
        "class_accuracies = np.diag(cm) / cm.sum(axis=1)\n",
        "for i, acc in enumerate(class_accuracies):\n",
        "    print(f'Accuracy for class {i}: {acc:.2f}')\n",
        "\n",
        "# Plot confusion matrix\n",
        "plt.figure(figsize=(10, 7))\n",
        "sns.heatmap(cm, annot=True, fmt=\"d\", cmap=\"Blues\", xticklabels=testloader.dataset.classes, yticklabels=testloader.dataset.classes)\n",
        "plt.xlabel('Predicted')\n",
        "plt.ylabel('True')\n",
        "plt.title('Confusion Matrix')\n",
        "plt.show()"
      ],
      "metadata": {
        "id": "eLFNpmEzWfvc",
        "colab": {
          "base_uri": "https://localhost:8080/"
        },
        "outputId": "3ab6b499-6c2e-4d47-a9ee-0f256f5fc272"
      },
      "execution_count": null,
      "outputs": [
        {
          "output_type": "stream",
          "name": "stdout",
          "text": [
            "Accuracy for class 0: 0.76\n",
            "Accuracy for class 1: 0.78\n",
            "Accuracy for class 2: 0.61\n",
            "Accuracy for class 3: 0.41\n",
            "Accuracy for class 4: 0.65\n",
            "Accuracy for class 5: 0.57\n",
            "Accuracy for class 6: 0.81\n",
            "Accuracy for class 7: 0.73\n",
            "Accuracy for class 8: 0.82\n",
            "Accuracy for class 9: 0.76\n"
          ]
        },
        {
          "output_type": "display_data",
          "data": {
            "text/plain": [
              "<Figure size 1000x700 with 2 Axes>"
            ],
            "image/png": "[encoded data removed]"
          },
          "metadata": {}
        }
      ]
    },
    {
      "cell_type": "code",
      "source": [
        "mean = torch.tensor([0.5, 0.5, 0.5])\n",
        "std = torch.tensor([0.5, 0.5, 0.5])\n",
        "\n",
        "num_images = 10\n",
        "\n",
        "for i in range(num_images):\n",
        "    # Create a new figure for each image\n",
        "    plt.figure(figsize=(3, 3))\n",
        "\n",
        "    image = misclassified_images[i].permute(1, 2, 0)  # Convert to (H, W, C)\n",
        "    image = image * std + mean  # Unnormalize\n",
        "    image = image.numpy()  # Convert to numpy\n",
        "    image = np.clip(image, 0, 1)  # Ensure values are in [0, 1]\n",
        "\n",
        "    plt.imshow(image)\n",
        "    plt.title(f\"True: {misclassified_labels[i]}, Pred: {misclassified_preds[i]}\")\n",
        "    plt.axis('off')  # Hide axes\n",
        "    plt.show()  # Show each image independently"
      ],
      "metadata": {
        "id": "vKki0s8sWepL",
        "colab": {
          "base_uri": "https://localhost:8080/"
        },
        "outputId": "3370ff17-f8d1-41a3-b7d9-518d684bb8c6"
      },
      "execution_count": null,
      "outputs": [
        {
          "output_type": "display_data",
          "data": {
            "text/plain": [
              "<Figure size 300x300 with 1 Axes>"
            ],
            "image/png": "[encoded data removed]"
          },
          "metadata": {}
        },
        {
          "output_type": "display_data",
          "data": {
            "text/plain": [
              "<Figure size 300x300 with 1 Axes>"
            ],
            "image/png": "[encoded data removed]"
          },
          "metadata": {}
        },
        {
          "output_type": "display_data",
          "data": {
            "text/plain": [
              "<Figure size 300x300 with 1 Axes>"
            ],
            "image/png": "[encoded data removed]"
          },
          "metadata": {}
        },
        {
          "output_type": "display_data",
          "data": {
            "text/plain": [
              "<Figure size 300x300 with 1 Axes>"
            ],
            "image/png": "[encoded data removed]"
          },
          "metadata": {}
        },
        {
          "output_type": "display_data",
          "data": {
            "text/plain": [
              "<Figure size 300x300 with 1 Axes>"
            ],
            "image/png": "[encoded data removed]"
          },
          "metadata": {}
        },
        {
          "output_type": "display_data",
          "data": {
            "text/plain": [
              "<Figure size 300x300 with 1 Axes>"
            ],
            "image/png": "[encoded data removed]"
          },
          "metadata": {}
        },
        {
          "output_type": "display_data",
          "data": {
            "text/plain": [
              "<Figure size 300x300 with 1 Axes>"
            ],
            "image/png": "[encoded data removed]"
          },
          "metadata": {}
        },
        {
          "output_type": "display_data",
          "data": {
            "text/plain": [
              "<Figure size 300x300 with 1 Axes>"
            ],
            "image/png": "[encoded data removed]"
          },
          "metadata": {}
        },
        {
          "output_type": "display_data",
          "data": {
            "text/plain": [
              "<Figure size 300x300 with 1 Axes>"
            ],
            "image/png": "[encoded data removed]"
          },
          "metadata": {}
        },
        {
          "output_type": "display_data",
          "data": {
            "text/plain": [
              "<Figure size 300x300 with 1 Axes>"
            ],
            "image/png": "[encoded data removed]"
          },
          "metadata": {}
        }
      ]
    },
    {
      "cell_type": "markdown",
      "source": [
        "# Model 2\n",
        "\n"
      ],
      "metadata": {
        "id": "Jl_n3idijV9w"
      }
    },
    {
      "cell_type": "markdown",
      "source": [
        "## ShufflnetV2"
      ],
      "metadata": {
        "id": "LbyNFzGS7KUd"
      }
    },
    {
      "cell_type": "code",
      "source": [
        "from torchvision.models import shufflenet_v2_x1_0\n",
        "\n",
        "model_2 = shufflenet_v2_x1_0(pretrained=True)\n",
        "\n",
        "num_classes = 10\n",
        "model_2.fc = torch.nn.Linear(model_2.fc.in_features, num_classes)\n",
        "\n",
        "num_parameters = sum(value.numel() for value in model_2.state_dict().values())\n",
        "print(f\"Number of parameters: {num_parameters / 10**6:.2f}M\")\n"
      ],
      "metadata": {
        "colab": {
          "base_uri": "https://localhost:8080/"
        },
        "id": "xNQ8W7um6lIR",
        "outputId": "c62b4e4b-b728-4484-e0f6-c378632f6541"
      },
      "execution_count": null,
      "outputs": [
        {
          "output_type": "stream",
          "name": "stdout",
          "text": [
            "Number of parameters: 1.28M\n"
          ]
        },
        {
          "output_type": "stream",
          "name": "stderr",
          "text": [
            "/usr/local/lib/python3.10/dist-packages/torchvision/models/_utils.py:208: UserWarning: The parameter 'pretrained' is deprecated since 0.13 and may be removed in the future, please use 'weights' instead.\n",
            "  warnings.warn(\n",
            "/usr/local/lib/python3.10/dist-packages/torchvision/models/_utils.py:223: UserWarning: Arguments other than a weight enum or `None` for 'weights' are deprecated since 0.13 and may be removed in the future. The current behavior is equivalent to passing `weights=ShuffleNet_V2_X1_0_Weights.IMAGENET1K_V1`. You can also use `weights=ShuffleNet_V2_X1_0_Weights.DEFAULT` to get the most up-to-date weights.\n",
            "  warnings.warn(msg)\n"
          ]
        }
      ]
    },
    {
      "cell_type": "markdown",
      "source": [
        "## freeze layers"
      ],
      "metadata": {
        "id": "aURSsihhdpRL"
      }
    },
    {
      "cell_type": "code",
      "source": [
        "for name, param in model_2.named_parameters():\n",
        "    if \"stage3\" in name:\n",
        "        param.requires_grad = False\n",
        "\n",
        "for name, param in model_2.named_parameters():\n",
        "    print(f\"{name}: requires_grad={param.requires_grad}\")"
      ],
      "metadata": {
        "colab": {
          "base_uri": "https://localhost:8080/"
        },
        "id": "xyRfk8NAdjVb",
        "outputId": "58c3bc01-b7cb-4b0d-c858-71dd69199848"
      },
      "execution_count": null,
      "outputs": [
        {
          "output_type": "stream",
          "name": "stdout",
          "text": [
            "conv1.0.weight: requires_grad=False\n",
            "conv1.1.weight: requires_grad=False\n",
            "conv1.1.bias: requires_grad=False\n",
            "stage2.0.branch1.0.weight: requires_grad=True\n",
            "stage2.0.branch1.1.weight: requires_grad=True\n",
            "stage2.0.branch1.1.bias: requires_grad=True\n",
            "stage2.0.branch1.2.weight: requires_grad=True\n",
            "stage2.0.branch1.3.weight: requires_grad=True\n",
            "stage2.0.branch1.3.bias: requires_grad=True\n",
            "stage2.0.branch2.0.weight: requires_grad=True\n",
            "stage2.0.branch2.1.weight: requires_grad=True\n",
            "stage2.0.branch2.1.bias: requires_grad=True\n",
            "stage2.0.branch2.3.weight: requires_grad=True\n",
            "stage2.0.branch2.4.weight: requires_grad=True\n",
            "stage2.0.branch2.4.bias: requires_grad=True\n",
            "stage2.0.branch2.5.weight: requires_grad=True\n",
            "stage2.0.branch2.6.weight: requires_grad=True\n",
            "stage2.0.branch2.6.bias: requires_grad=True\n",
            "stage2.1.branch2.0.weight: requires_grad=True\n",
            "stage2.1.branch2.1.weight: requires_grad=True\n",
            "stage2.1.branch2.1.bias: requires_grad=True\n",
            "stage2.1.branch2.3.weight: requires_grad=True\n",
            "stage2.1.branch2.4.weight: requires_grad=True\n",
            "stage2.1.branch2.4.bias: requires_grad=True\n",
            "stage2.1.branch2.5.weight: requires_grad=True\n",
            "stage2.1.branch2.6.weight: requires_grad=True\n",
            "stage2.1.branch2.6.bias: requires_grad=True\n",
            "stage2.2.branch2.0.weight: requires_grad=True\n",
            "stage2.2.branch2.1.weight: requires_grad=True\n",
            "stage2.2.branch2.1.bias: requires_grad=True\n",
            "stage2.2.branch2.3.weight: requires_grad=True\n",
            "stage2.2.branch2.4.weight: requires_grad=True\n",
            "stage2.2.branch2.4.bias: requires_grad=True\n",
            "stage2.2.branch2.5.weight: requires_grad=True\n",
            "stage2.2.branch2.6.weight: requires_grad=True\n",
            "stage2.2.branch2.6.bias: requires_grad=True\n",
            "stage2.3.branch2.0.weight: requires_grad=True\n",
            "stage2.3.branch2.1.weight: requires_grad=True\n",
            "stage2.3.branch2.1.bias: requires_grad=True\n",
            "stage2.3.branch2.3.weight: requires_grad=True\n",
            "stage2.3.branch2.4.weight: requires_grad=True\n",
            "stage2.3.branch2.4.bias: requires_grad=True\n",
            "stage2.3.branch2.5.weight: requires_grad=True\n",
            "stage2.3.branch2.6.weight: requires_grad=True\n",
            "stage2.3.branch2.6.bias: requires_grad=True\n",
            "stage3.0.branch1.0.weight: requires_grad=False\n",
            "stage3.0.branch1.1.weight: requires_grad=False\n",
            "stage3.0.branch1.1.bias: requires_grad=False\n",
            "stage3.0.branch1.2.weight: requires_grad=False\n",
            "stage3.0.branch1.3.weight: requires_grad=False\n",
            "stage3.0.branch1.3.bias: requires_grad=False\n",
            "stage3.0.branch2.0.weight: requires_grad=False\n",
            "stage3.0.branch2.1.weight: requires_grad=False\n",
            "stage3.0.branch2.1.bias: requires_grad=False\n",
            "stage3.0.branch2.3.weight: requires_grad=False\n",
            "stage3.0.branch2.4.weight: requires_grad=False\n",
            "stage3.0.branch2.4.bias: requires_grad=False\n",
            "stage3.0.branch2.5.weight: requires_grad=False\n",
            "stage3.0.branch2.6.weight: requires_grad=False\n",
            "stage3.0.branch2.6.bias: requires_grad=False\n",
            "stage3.1.branch2.0.weight: requires_grad=False\n",
            "stage3.1.branch2.1.weight: requires_grad=False\n",
            "stage3.1.branch2.1.bias: requires_grad=False\n",
            "stage3.1.branch2.3.weight: requires_grad=False\n",
            "stage3.1.branch2.4.weight: requires_grad=False\n",
            "stage3.1.branch2.4.bias: requires_grad=False\n",
            "stage3.1.branch2.5.weight: requires_grad=False\n",
            "stage3.1.branch2.6.weight: requires_grad=False\n",
            "stage3.1.branch2.6.bias: requires_grad=False\n",
            "stage3.2.branch2.0.weight: requires_grad=False\n",
            "stage3.2.branch2.1.weight: requires_grad=False\n",
            "stage3.2.branch2.1.bias: requires_grad=False\n",
            "stage3.2.branch2.3.weight: requires_grad=False\n",
            "stage3.2.branch2.4.weight: requires_grad=False\n",
            "stage3.2.branch2.4.bias: requires_grad=False\n",
            "stage3.2.branch2.5.weight: requires_grad=False\n",
            "stage3.2.branch2.6.weight: requires_grad=False\n",
            "stage3.2.branch2.6.bias: requires_grad=False\n",
            "stage3.3.branch2.0.weight: requires_grad=False\n",
            "stage3.3.branch2.1.weight: requires_grad=False\n",
            "stage3.3.branch2.1.bias: requires_grad=False\n",
            "stage3.3.branch2.3.weight: requires_grad=False\n",
            "stage3.3.branch2.4.weight: requires_grad=False\n",
            "stage3.3.branch2.4.bias: requires_grad=False\n",
            "stage3.3.branch2.5.weight: requires_grad=False\n",
            "stage3.3.branch2.6.weight: requires_grad=False\n",
            "stage3.3.branch2.6.bias: requires_grad=False\n",
            "stage3.4.branch2.0.weight: requires_grad=False\n",
            "stage3.4.branch2.1.weight: requires_grad=False\n",
            "stage3.4.branch2.1.bias: requires_grad=False\n",
            "stage3.4.branch2.3.weight: requires_grad=False\n",
            "stage3.4.branch2.4.weight: requires_grad=False\n",
            "stage3.4.branch2.4.bias: requires_grad=False\n",
            "stage3.4.branch2.5.weight: requires_grad=False\n",
            "stage3.4.branch2.6.weight: requires_grad=False\n",
            "stage3.4.branch2.6.bias: requires_grad=False\n",
            "stage3.5.branch2.0.weight: requires_grad=False\n",
            "stage3.5.branch2.1.weight: requires_grad=False\n",
            "stage3.5.branch2.1.bias: requires_grad=False\n",
            "stage3.5.branch2.3.weight: requires_grad=False\n",
            "stage3.5.branch2.4.weight: requires_grad=False\n",
            "stage3.5.branch2.4.bias: requires_grad=False\n",
            "stage3.5.branch2.5.weight: requires_grad=False\n",
            "stage3.5.branch2.6.weight: requires_grad=False\n",
            "stage3.5.branch2.6.bias: requires_grad=False\n",
            "stage3.6.branch2.0.weight: requires_grad=False\n",
            "stage3.6.branch2.1.weight: requires_grad=False\n",
            "stage3.6.branch2.1.bias: requires_grad=False\n",
            "stage3.6.branch2.3.weight: requires_grad=False\n",
            "stage3.6.branch2.4.weight: requires_grad=False\n",
            "stage3.6.branch2.4.bias: requires_grad=False\n",
            "stage3.6.branch2.5.weight: requires_grad=False\n",
            "stage3.6.branch2.6.weight: requires_grad=False\n",
            "stage3.6.branch2.6.bias: requires_grad=False\n",
            "stage3.7.branch2.0.weight: requires_grad=False\n",
            "stage3.7.branch2.1.weight: requires_grad=False\n",
            "stage3.7.branch2.1.bias: requires_grad=False\n",
            "stage3.7.branch2.3.weight: requires_grad=False\n",
            "stage3.7.branch2.4.weight: requires_grad=False\n",
            "stage3.7.branch2.4.bias: requires_grad=False\n",
            "stage3.7.branch2.5.weight: requires_grad=False\n",
            "stage3.7.branch2.6.weight: requires_grad=False\n",
            "stage3.7.branch2.6.bias: requires_grad=False\n",
            "stage4.0.branch1.0.weight: requires_grad=True\n",
            "stage4.0.branch1.1.weight: requires_grad=True\n",
            "stage4.0.branch1.1.bias: requires_grad=True\n",
            "stage4.0.branch1.2.weight: requires_grad=True\n",
            "stage4.0.branch1.3.weight: requires_grad=True\n",
            "stage4.0.branch1.3.bias: requires_grad=True\n",
            "stage4.0.branch2.0.weight: requires_grad=True\n",
            "stage4.0.branch2.1.weight: requires_grad=True\n",
            "stage4.0.branch2.1.bias: requires_grad=True\n",
            "stage4.0.branch2.3.weight: requires_grad=True\n",
            "stage4.0.branch2.4.weight: requires_grad=True\n",
            "stage4.0.branch2.4.bias: requires_grad=True\n",
            "stage4.0.branch2.5.weight: requires_grad=True\n",
            "stage4.0.branch2.6.weight: requires_grad=True\n",
            "stage4.0.branch2.6.bias: requires_grad=True\n",
            "stage4.1.branch2.0.weight: requires_grad=True\n",
            "stage4.1.branch2.1.weight: requires_grad=True\n",
            "stage4.1.branch2.1.bias: requires_grad=True\n",
            "stage4.1.branch2.3.weight: requires_grad=True\n",
            "stage4.1.branch2.4.weight: requires_grad=True\n",
            "stage4.1.branch2.4.bias: requires_grad=True\n",
            "stage4.1.branch2.5.weight: requires_grad=True\n",
            "stage4.1.branch2.6.weight: requires_grad=True\n",
            "stage4.1.branch2.6.bias: requires_grad=True\n",
            "stage4.2.branch2.0.weight: requires_grad=True\n",
            "stage4.2.branch2.1.weight: requires_grad=True\n",
            "stage4.2.branch2.1.bias: requires_grad=True\n",
            "stage4.2.branch2.3.weight: requires_grad=True\n",
            "stage4.2.branch2.4.weight: requires_grad=True\n",
            "stage4.2.branch2.4.bias: requires_grad=True\n",
            "stage4.2.branch2.5.weight: requires_grad=True\n",
            "stage4.2.branch2.6.weight: requires_grad=True\n",
            "stage4.2.branch2.6.bias: requires_grad=True\n",
            "stage4.3.branch2.0.weight: requires_grad=True\n",
            "stage4.3.branch2.1.weight: requires_grad=True\n",
            "stage4.3.branch2.1.bias: requires_grad=True\n",
            "stage4.3.branch2.3.weight: requires_grad=True\n",
            "stage4.3.branch2.4.weight: requires_grad=True\n",
            "stage4.3.branch2.4.bias: requires_grad=True\n",
            "stage4.3.branch2.5.weight: requires_grad=True\n",
            "stage4.3.branch2.6.weight: requires_grad=True\n",
            "stage4.3.branch2.6.bias: requires_grad=True\n",
            "conv5.0.weight: requires_grad=True\n",
            "conv5.1.weight: requires_grad=True\n",
            "conv5.1.bias: requires_grad=True\n",
            "fc.weight: requires_grad=True\n",
            "fc.bias: requires_grad=True\n"
          ]
        }
      ]
    },
    {
      "cell_type": "code",
      "source": [
        "summary(model_2, (3, 32, 32))"
      ],
      "metadata": {
        "colab": {
          "base_uri": "https://localhost:8080/"
        },
        "id": "o9fQ6wA0eIBG",
        "outputId": "f9733992-7a0e-4a95-db3c-2c59f3d91b25"
      },
      "execution_count": null,
      "outputs": [
        {
          "output_type": "stream",
          "name": "stdout",
          "text": [
            "----------------------------------------------------------------\n",
            "        Layer (type)               Output Shape         Param #\n",
            "================================================================\n",
            "            Conv2d-1           [-1, 24, 16, 16]             648\n",
            "       BatchNorm2d-2           [-1, 24, 16, 16]              48\n",
            "              ReLU-3           [-1, 24, 16, 16]               0\n",
            "         MaxPool2d-4             [-1, 24, 8, 8]               0\n",
            "            Conv2d-5             [-1, 24, 4, 4]             216\n",
            "       BatchNorm2d-6             [-1, 24, 4, 4]              48\n",
            "            Conv2d-7             [-1, 58, 4, 4]           1,392\n",
            "       BatchNorm2d-8             [-1, 58, 4, 4]             116\n",
            "              ReLU-9             [-1, 58, 4, 4]               0\n",
            "           Conv2d-10             [-1, 58, 8, 8]           1,392\n",
            "      BatchNorm2d-11             [-1, 58, 8, 8]             116\n",
            "             ReLU-12             [-1, 58, 8, 8]               0\n",
            "           Conv2d-13             [-1, 58, 4, 4]             522\n",
            "      BatchNorm2d-14             [-1, 58, 4, 4]             116\n",
            "           Conv2d-15             [-1, 58, 4, 4]           3,364\n",
            "      BatchNorm2d-16             [-1, 58, 4, 4]             116\n",
            "             ReLU-17             [-1, 58, 4, 4]               0\n",
            " InvertedResidual-18            [-1, 116, 4, 4]               0\n",
            "           Conv2d-19             [-1, 58, 4, 4]           3,364\n",
            "      BatchNorm2d-20             [-1, 58, 4, 4]             116\n",
            "             ReLU-21             [-1, 58, 4, 4]               0\n",
            "           Conv2d-22             [-1, 58, 4, 4]             522\n",
            "      BatchNorm2d-23             [-1, 58, 4, 4]             116\n",
            "           Conv2d-24             [-1, 58, 4, 4]           3,364\n",
            "      BatchNorm2d-25             [-1, 58, 4, 4]             116\n",
            "             ReLU-26             [-1, 58, 4, 4]               0\n",
            " InvertedResidual-27            [-1, 116, 4, 4]               0\n",
            "           Conv2d-28             [-1, 58, 4, 4]           3,364\n",
            "      BatchNorm2d-29             [-1, 58, 4, 4]             116\n",
            "             ReLU-30             [-1, 58, 4, 4]               0\n",
            "           Conv2d-31             [-1, 58, 4, 4]             522\n",
            "      BatchNorm2d-32             [-1, 58, 4, 4]             116\n",
            "           Conv2d-33             [-1, 58, 4, 4]           3,364\n",
            "      BatchNorm2d-34             [-1, 58, 4, 4]             116\n",
            "             ReLU-35             [-1, 58, 4, 4]               0\n",
            " InvertedResidual-36            [-1, 116, 4, 4]               0\n",
            "           Conv2d-37             [-1, 58, 4, 4]           3,364\n",
            "      BatchNorm2d-38             [-1, 58, 4, 4]             116\n",
            "             ReLU-39             [-1, 58, 4, 4]               0\n",
            "           Conv2d-40             [-1, 58, 4, 4]             522\n",
            "      BatchNorm2d-41             [-1, 58, 4, 4]             116\n",
            "           Conv2d-42             [-1, 58, 4, 4]           3,364\n",
            "      BatchNorm2d-43             [-1, 58, 4, 4]             116\n",
            "             ReLU-44             [-1, 58, 4, 4]               0\n",
            " InvertedResidual-45            [-1, 116, 4, 4]               0\n",
            "           Conv2d-46            [-1, 116, 2, 2]           1,044\n",
            "      BatchNorm2d-47            [-1, 116, 2, 2]             232\n",
            "           Conv2d-48            [-1, 116, 2, 2]          13,456\n",
            "      BatchNorm2d-49            [-1, 116, 2, 2]             232\n",
            "             ReLU-50            [-1, 116, 2, 2]               0\n",
            "           Conv2d-51            [-1, 116, 4, 4]          13,456\n",
            "      BatchNorm2d-52            [-1, 116, 4, 4]             232\n",
            "             ReLU-53            [-1, 116, 4, 4]               0\n",
            "           Conv2d-54            [-1, 116, 2, 2]           1,044\n",
            "      BatchNorm2d-55            [-1, 116, 2, 2]             232\n",
            "           Conv2d-56            [-1, 116, 2, 2]          13,456\n",
            "      BatchNorm2d-57            [-1, 116, 2, 2]             232\n",
            "             ReLU-58            [-1, 116, 2, 2]               0\n",
            " InvertedResidual-59            [-1, 232, 2, 2]               0\n",
            "           Conv2d-60            [-1, 116, 2, 2]          13,456\n",
            "      BatchNorm2d-61            [-1, 116, 2, 2]             232\n",
            "             ReLU-62            [-1, 116, 2, 2]               0\n",
            "           Conv2d-63            [-1, 116, 2, 2]           1,044\n",
            "      BatchNorm2d-64            [-1, 116, 2, 2]             232\n",
            "           Conv2d-65            [-1, 116, 2, 2]          13,456\n",
            "      BatchNorm2d-66            [-1, 116, 2, 2]             232\n",
            "             ReLU-67            [-1, 116, 2, 2]               0\n",
            " InvertedResidual-68            [-1, 232, 2, 2]               0\n",
            "           Conv2d-69            [-1, 116, 2, 2]          13,456\n",
            "      BatchNorm2d-70            [-1, 116, 2, 2]             232\n",
            "             ReLU-71            [-1, 116, 2, 2]               0\n",
            "           Conv2d-72            [-1, 116, 2, 2]           1,044\n",
            "      BatchNorm2d-73            [-1, 116, 2, 2]             232\n",
            "           Conv2d-74            [-1, 116, 2, 2]          13,456\n",
            "      BatchNorm2d-75            [-1, 116, 2, 2]             232\n",
            "             ReLU-76            [-1, 116, 2, 2]               0\n",
            " InvertedResidual-77            [-1, 232, 2, 2]               0\n",
            "           Conv2d-78            [-1, 116, 2, 2]          13,456\n",
            "      BatchNorm2d-79            [-1, 116, 2, 2]             232\n",
            "             ReLU-80            [-1, 116, 2, 2]               0\n",
            "           Conv2d-81            [-1, 116, 2, 2]           1,044\n",
            "      BatchNorm2d-82            [-1, 116, 2, 2]             232\n",
            "           Conv2d-83            [-1, 116, 2, 2]          13,456\n",
            "      BatchNorm2d-84            [-1, 116, 2, 2]             232\n",
            "             ReLU-85            [-1, 116, 2, 2]               0\n",
            " InvertedResidual-86            [-1, 232, 2, 2]               0\n",
            "           Conv2d-87            [-1, 116, 2, 2]          13,456\n",
            "      BatchNorm2d-88            [-1, 116, 2, 2]             232\n",
            "             ReLU-89            [-1, 116, 2, 2]               0\n",
            "           Conv2d-90            [-1, 116, 2, 2]           1,044\n",
            "      BatchNorm2d-91            [-1, 116, 2, 2]             232\n",
            "           Conv2d-92            [-1, 116, 2, 2]          13,456\n",
            "      BatchNorm2d-93            [-1, 116, 2, 2]             232\n",
            "             ReLU-94            [-1, 116, 2, 2]               0\n",
            " InvertedResidual-95            [-1, 232, 2, 2]               0\n",
            "           Conv2d-96            [-1, 116, 2, 2]          13,456\n",
            "      BatchNorm2d-97            [-1, 116, 2, 2]             232\n",
            "             ReLU-98            [-1, 116, 2, 2]               0\n",
            "           Conv2d-99            [-1, 116, 2, 2]           1,044\n",
            "     BatchNorm2d-100            [-1, 116, 2, 2]             232\n",
            "          Conv2d-101            [-1, 116, 2, 2]          13,456\n",
            "     BatchNorm2d-102            [-1, 116, 2, 2]             232\n",
            "            ReLU-103            [-1, 116, 2, 2]               0\n",
            "InvertedResidual-104            [-1, 232, 2, 2]               0\n",
            "          Conv2d-105            [-1, 116, 2, 2]          13,456\n",
            "     BatchNorm2d-106            [-1, 116, 2, 2]             232\n",
            "            ReLU-107            [-1, 116, 2, 2]               0\n",
            "          Conv2d-108            [-1, 116, 2, 2]           1,044\n",
            "     BatchNorm2d-109            [-1, 116, 2, 2]             232\n",
            "          Conv2d-110            [-1, 116, 2, 2]          13,456\n",
            "     BatchNorm2d-111            [-1, 116, 2, 2]             232\n",
            "            ReLU-112            [-1, 116, 2, 2]               0\n",
            "InvertedResidual-113            [-1, 232, 2, 2]               0\n",
            "          Conv2d-114            [-1, 116, 2, 2]          13,456\n",
            "     BatchNorm2d-115            [-1, 116, 2, 2]             232\n",
            "            ReLU-116            [-1, 116, 2, 2]               0\n",
            "          Conv2d-117            [-1, 116, 2, 2]           1,044\n",
            "     BatchNorm2d-118            [-1, 116, 2, 2]             232\n",
            "          Conv2d-119            [-1, 116, 2, 2]          13,456\n",
            "     BatchNorm2d-120            [-1, 116, 2, 2]             232\n",
            "            ReLU-121            [-1, 116, 2, 2]               0\n",
            "InvertedResidual-122            [-1, 232, 2, 2]               0\n",
            "          Conv2d-123            [-1, 232, 1, 1]           2,088\n",
            "     BatchNorm2d-124            [-1, 232, 1, 1]             464\n",
            "          Conv2d-125            [-1, 232, 1, 1]          53,824\n",
            "     BatchNorm2d-126            [-1, 232, 1, 1]             464\n",
            "            ReLU-127            [-1, 232, 1, 1]               0\n",
            "          Conv2d-128            [-1, 232, 2, 2]          53,824\n",
            "     BatchNorm2d-129            [-1, 232, 2, 2]             464\n",
            "            ReLU-130            [-1, 232, 2, 2]               0\n",
            "          Conv2d-131            [-1, 232, 1, 1]           2,088\n",
            "     BatchNorm2d-132            [-1, 232, 1, 1]             464\n",
            "          Conv2d-133            [-1, 232, 1, 1]          53,824\n",
            "     BatchNorm2d-134            [-1, 232, 1, 1]             464\n",
            "            ReLU-135            [-1, 232, 1, 1]               0\n",
            "InvertedResidual-136            [-1, 464, 1, 1]               0\n",
            "          Conv2d-137            [-1, 232, 1, 1]          53,824\n",
            "     BatchNorm2d-138            [-1, 232, 1, 1]             464\n",
            "            ReLU-139            [-1, 232, 1, 1]               0\n",
            "          Conv2d-140            [-1, 232, 1, 1]           2,088\n",
            "     BatchNorm2d-141            [-1, 232, 1, 1]             464\n",
            "          Conv2d-142            [-1, 232, 1, 1]          53,824\n",
            "     BatchNorm2d-143            [-1, 232, 1, 1]             464\n",
            "            ReLU-144            [-1, 232, 1, 1]               0\n",
            "InvertedResidual-145            [-1, 464, 1, 1]               0\n",
            "          Conv2d-146            [-1, 232, 1, 1]          53,824\n",
            "     BatchNorm2d-147            [-1, 232, 1, 1]             464\n",
            "            ReLU-148            [-1, 232, 1, 1]               0\n",
            "          Conv2d-149            [-1, 232, 1, 1]           2,088\n",
            "     BatchNorm2d-150            [-1, 232, 1, 1]             464\n",
            "          Conv2d-151            [-1, 232, 1, 1]          53,824\n",
            "     BatchNorm2d-152            [-1, 232, 1, 1]             464\n",
            "            ReLU-153            [-1, 232, 1, 1]               0\n",
            "InvertedResidual-154            [-1, 464, 1, 1]               0\n",
            "          Conv2d-155            [-1, 232, 1, 1]          53,824\n",
            "     BatchNorm2d-156            [-1, 232, 1, 1]             464\n",
            "            ReLU-157            [-1, 232, 1, 1]               0\n",
            "          Conv2d-158            [-1, 232, 1, 1]           2,088\n",
            "     BatchNorm2d-159            [-1, 232, 1, 1]             464\n",
            "          Conv2d-160            [-1, 232, 1, 1]          53,824\n",
            "     BatchNorm2d-161            [-1, 232, 1, 1]             464\n",
            "            ReLU-162            [-1, 232, 1, 1]               0\n",
            "InvertedResidual-163            [-1, 464, 1, 1]               0\n",
            "          Conv2d-164           [-1, 1024, 1, 1]         475,136\n",
            "     BatchNorm2d-165           [-1, 1024, 1, 1]           2,048\n",
            "            ReLU-166           [-1, 1024, 1, 1]               0\n",
            "          Linear-167                   [-1, 10]          10,250\n",
            "================================================================\n",
            "Total params: 1,263,854\n",
            "Trainable params: 1,018,978\n",
            "Non-trainable params: 244,876\n",
            "----------------------------------------------------------------\n",
            "Input size (MB): 0.01\n",
            "Forward/backward pass size (MB): 0.98\n",
            "Params size (MB): 4.82\n",
            "Estimated Total Size (MB): 5.81\n",
            "----------------------------------------------------------------\n"
          ]
        }
      ]
    },
    {
      "cell_type": "markdown",
      "source": [
        "## train\n"
      ],
      "metadata": {
        "id": "ClQn35SCle99"
      }
    },
    {
      "cell_type": "code",
      "source": [
        "DEVICE = torch.device(\"cuda\" if torch.cuda.is_available() else \"cpu\")\n",
        "\n",
        "model_2.to(DEVICE)\n",
        "\n",
        "# optimizer = torch.optim.Adam(model.parameters(), lr=0.01)\n",
        "optimizer = torch.optim.SGD(model_2.parameters(), lr=0.01, momentum=0.9, weight_decay=5e-4)\n",
        "\n",
        "history = train(model_2, trainloader, valloader, optimizer,step_size=25 , epochs=50, verbose=True)\n",
        "\n",
        "plt.plot(history[\"train_loss\"], label=\"Train Loss\")\n",
        "plt.plot(history[\"val_loss\"], label=\"Val Loss\")\n",
        "plt.xlabel(\"Epochs\")\n",
        "plt.ylabel(\"Loss\")\n",
        "plt.legend()\n",
        "plt.show()\n",
        "\n",
        "plt.plot(history[\"train_acc\"], label=\"Train Accuracy\")\n",
        "plt.plot(history[\"val_acc\"], label=\"Val Accuracy\")\n",
        "plt.xlabel(\"Epochs\")\n",
        "plt.ylabel(\"Accuracy\")\n",
        "plt.legend()\n",
        "plt.show()"
      ],
      "metadata": {
        "id": "fnkXSdLHlIVb",
        "colab": {
          "base_uri": "https://localhost:8080/",
          "height": 1000
        },
        "outputId": "a6d87a9b-8328-41ad-bd86-633bcc13a10a"
      },
      "execution_count": null,
      "outputs": [
        {
          "output_type": "stream",
          "name": "stdout",
          "text": [
            "Epoch 1/50 - Learning Rate: 0.01\n"
          ]
        },
        {
          "output_type": "stream",
          "name": "stderr",
          "text": [
            "Epoch 1/50 (Training): 100%|██████████| 313/313 [02:25<00:00,  2.16it/s]\n",
            "Epoch 1/50 (Validation): 100%|██████████| 79/79 [00:12<00:00,  6.32it/s]\n"
          ]
        },
        {
          "output_type": "stream",
          "name": "stdout",
          "text": [
            "Epoch 1/50 - Train Loss: 2.1178, Train Acc: 0.3130 - Val Loss: 1.7744, Val Acc: 0.4626\n",
            "Epoch 2/50 - Learning Rate: 0.01\n"
          ]
        },
        {
          "output_type": "stream",
          "name": "stderr",
          "text": [
            "Epoch 2/50 (Training): 100%|██████████| 313/313 [02:20<00:00,  2.22it/s]\n",
            "Epoch 2/50 (Validation): 100%|██████████| 79/79 [00:11<00:00,  6.95it/s]\n"
          ]
        },
        {
          "output_type": "stream",
          "name": "stdout",
          "text": [
            "Epoch 2/50 - Train Loss: 1.3564, Train Acc: 0.5376 - Val Loss: 1.1017, Val Acc: 0.6214\n",
            "Epoch 3/50 - Learning Rate: 0.01\n"
          ]
        },
        {
          "output_type": "stream",
          "name": "stderr",
          "text": [
            "Epoch 3/50 (Training): 100%|██████████| 313/313 [02:15<00:00,  2.30it/s]\n",
            "Epoch 3/50 (Validation): 100%|██████████| 79/79 [00:11<00:00,  6.98it/s]\n"
          ]
        },
        {
          "output_type": "stream",
          "name": "stdout",
          "text": [
            "Epoch 3/50 - Train Loss: 1.0043, Train Acc: 0.6526 - Val Loss: 0.9216, Val Acc: 0.6819\n",
            "Epoch 4/50 - Learning Rate: 0.01\n"
          ]
        },
        {
          "output_type": "stream",
          "name": "stderr",
          "text": [
            "Epoch 4/50 (Training): 100%|██████████| 313/313 [02:18<00:00,  2.25it/s]\n",
            "Epoch 4/50 (Validation): 100%|██████████| 79/79 [00:11<00:00,  6.94it/s]\n"
          ]
        },
        {
          "output_type": "stream",
          "name": "stdout",
          "text": [
            "Epoch 4/50 - Train Loss: 0.8781, Train Acc: 0.6968 - Val Loss: 0.8493, Val Acc: 0.7063\n",
            "Epoch 5/50 - Learning Rate: 0.01\n"
          ]
        },
        {
          "output_type": "stream",
          "name": "stderr",
          "text": [
            "Epoch 5/50 (Training): 100%|██████████| 313/313 [02:19<00:00,  2.24it/s]\n",
            "Epoch 5/50 (Validation): 100%|██████████| 79/79 [00:11<00:00,  6.90it/s]\n"
          ]
        },
        {
          "output_type": "stream",
          "name": "stdout",
          "text": [
            "Epoch 5/50 - Train Loss: 0.8148, Train Acc: 0.7166 - Val Loss: 0.8055, Val Acc: 0.7183\n",
            "Epoch 6/50 - Learning Rate: 0.01\n"
          ]
        },
        {
          "output_type": "stream",
          "name": "stderr",
          "text": [
            "Epoch 6/50 (Training): 100%|██████████| 313/313 [02:19<00:00,  2.25it/s]\n",
            "Epoch 6/50 (Validation): 100%|██████████| 79/79 [00:11<00:00,  6.89it/s]\n"
          ]
        },
        {
          "output_type": "stream",
          "name": "stdout",
          "text": [
            "Epoch 6/50 - Train Loss: 0.7674, Train Acc: 0.7327 - Val Loss: 0.7742, Val Acc: 0.7341\n",
            "Epoch 7/50 - Learning Rate: 0.01\n"
          ]
        },
        {
          "output_type": "stream",
          "name": "stderr",
          "text": [
            "Epoch 7/50 (Training): 100%|██████████| 313/313 [02:15<00:00,  2.30it/s]\n",
            "Epoch 7/50 (Validation): 100%|██████████| 79/79 [00:11<00:00,  7.13it/s]\n"
          ]
        },
        {
          "output_type": "stream",
          "name": "stdout",
          "text": [
            "Epoch 7/50 - Train Loss: 0.7321, Train Acc: 0.7476 - Val Loss: 0.7373, Val Acc: 0.7456\n",
            "Epoch 8/50 - Learning Rate: 0.01\n"
          ]
        },
        {
          "output_type": "stream",
          "name": "stderr",
          "text": [
            "Epoch 8/50 (Training): 100%|██████████| 313/313 [02:15<00:00,  2.31it/s]\n",
            "Epoch 8/50 (Validation): 100%|██████████| 79/79 [00:10<00:00,  7.29it/s]\n"
          ]
        },
        {
          "output_type": "stream",
          "name": "stdout",
          "text": [
            "Epoch 8/50 - Train Loss: 0.7016, Train Acc: 0.7552 - Val Loss: 0.7238, Val Acc: 0.7469\n",
            "Epoch 9/50 - Learning Rate: 0.01\n"
          ]
        },
        {
          "output_type": "stream",
          "name": "stderr",
          "text": [
            "Epoch 9/50 (Training): 100%|██████████| 313/313 [02:18<00:00,  2.27it/s]\n",
            "Epoch 9/50 (Validation): 100%|██████████| 79/79 [00:09<00:00,  8.34it/s]\n"
          ]
        },
        {
          "output_type": "stream",
          "name": "stdout",
          "text": [
            "Epoch 9/50 - Train Loss: 0.6844, Train Acc: 0.7614 - Val Loss: 0.7232, Val Acc: 0.7443\n",
            "Epoch 10/50 - Learning Rate: 0.01\n"
          ]
        },
        {
          "output_type": "stream",
          "name": "stderr",
          "text": [
            "Epoch 10/50 (Training): 100%|██████████| 313/313 [02:18<00:00,  2.26it/s]\n",
            "Epoch 10/50 (Validation): 100%|██████████| 79/79 [00:10<00:00,  7.68it/s]\n"
          ]
        },
        {
          "output_type": "stream",
          "name": "stdout",
          "text": [
            "Epoch 10/50 - Train Loss: 0.6698, Train Acc: 0.7677 - Val Loss: 0.7022, Val Acc: 0.7537\n",
            "Epoch 11/50 - Learning Rate: 0.01\n"
          ]
        },
        {
          "output_type": "stream",
          "name": "stderr",
          "text": [
            "Epoch 11/50 (Training): 100%|██████████| 313/313 [02:14<00:00,  2.33it/s]\n",
            "Epoch 11/50 (Validation): 100%|██████████| 79/79 [00:11<00:00,  6.92it/s]\n"
          ]
        },
        {
          "output_type": "stream",
          "name": "stdout",
          "text": [
            "Epoch 11/50 - Train Loss: 0.6505, Train Acc: 0.7730 - Val Loss: 0.6960, Val Acc: 0.7587\n",
            "Epoch 12/50 - Learning Rate: 0.01\n"
          ]
        },
        {
          "output_type": "stream",
          "name": "stderr",
          "text": [
            "Epoch 12/50 (Training): 100%|██████████| 313/313 [02:16<00:00,  2.30it/s]\n",
            "Epoch 12/50 (Validation): 100%|██████████| 79/79 [00:11<00:00,  7.17it/s]\n"
          ]
        },
        {
          "output_type": "stream",
          "name": "stdout",
          "text": [
            "Epoch 12/50 - Train Loss: 0.6277, Train Acc: 0.7791 - Val Loss: 0.6907, Val Acc: 0.7617\n",
            "Epoch 13/50 - Learning Rate: 0.01\n"
          ]
        },
        {
          "output_type": "stream",
          "name": "stderr",
          "text": [
            "Epoch 13/50 (Training): 100%|██████████| 313/313 [02:15<00:00,  2.31it/s]\n",
            "Epoch 13/50 (Validation): 100%|██████████| 79/79 [00:13<00:00,  5.82it/s]\n"
          ]
        },
        {
          "output_type": "stream",
          "name": "stdout",
          "text": [
            "Epoch 13/50 - Train Loss: 0.6161, Train Acc: 0.7845 - Val Loss: 0.6831, Val Acc: 0.7659\n",
            "Epoch 14/50 - Learning Rate: 0.01\n"
          ]
        },
        {
          "output_type": "stream",
          "name": "stderr",
          "text": [
            "Epoch 14/50 (Training): 100%|██████████| 313/313 [02:16<00:00,  2.29it/s]\n",
            "Epoch 14/50 (Validation): 100%|██████████| 79/79 [00:11<00:00,  6.93it/s]\n"
          ]
        },
        {
          "output_type": "stream",
          "name": "stdout",
          "text": [
            "Epoch 14/50 - Train Loss: 0.6028, Train Acc: 0.7888 - Val Loss: 0.6674, Val Acc: 0.7681\n",
            "Epoch 15/50 - Learning Rate: 0.01\n"
          ]
        },
        {
          "output_type": "stream",
          "name": "stderr",
          "text": [
            "Epoch 15/50 (Training): 100%|██████████| 313/313 [02:18<00:00,  2.26it/s]\n",
            "Epoch 15/50 (Validation): 100%|██████████| 79/79 [00:11<00:00,  7.02it/s]\n"
          ]
        },
        {
          "output_type": "stream",
          "name": "stdout",
          "text": [
            "Epoch 15/50 - Train Loss: 0.5919, Train Acc: 0.7946 - Val Loss: 0.6752, Val Acc: 0.7626\n",
            "Epoch 16/50 - Learning Rate: 0.01\n"
          ]
        },
        {
          "output_type": "stream",
          "name": "stderr",
          "text": [
            "Epoch 16/50 (Training): 100%|██████████| 313/313 [02:17<00:00,  2.28it/s]\n",
            "Epoch 16/50 (Validation): 100%|██████████| 79/79 [00:11<00:00,  6.75it/s]\n"
          ]
        },
        {
          "output_type": "stream",
          "name": "stdout",
          "text": [
            "Epoch 16/50 - Train Loss: 0.5875, Train Acc: 0.7939 - Val Loss: 0.6635, Val Acc: 0.7720\n",
            "Epoch 17/50 - Learning Rate: 0.01\n"
          ]
        },
        {
          "output_type": "stream",
          "name": "stderr",
          "text": [
            "Epoch 17/50 (Training): 100%|██████████| 313/313 [02:20<00:00,  2.22it/s]\n",
            "Epoch 17/50 (Validation): 100%|██████████| 79/79 [00:11<00:00,  6.82it/s]\n"
          ]
        },
        {
          "output_type": "stream",
          "name": "stdout",
          "text": [
            "Epoch 17/50 - Train Loss: 0.5781, Train Acc: 0.8002 - Val Loss: 0.6645, Val Acc: 0.7671\n",
            "Epoch 18/50 - Learning Rate: 0.01\n"
          ]
        },
        {
          "output_type": "stream",
          "name": "stderr",
          "text": [
            "Epoch 18/50 (Training): 100%|██████████| 313/313 [02:16<00:00,  2.29it/s]\n",
            "Epoch 18/50 (Validation): 100%|██████████| 79/79 [00:11<00:00,  6.93it/s]\n"
          ]
        },
        {
          "output_type": "stream",
          "name": "stdout",
          "text": [
            "Epoch 18/50 - Train Loss: 0.5619, Train Acc: 0.8043 - Val Loss: 0.6609, Val Acc: 0.7732\n",
            "Epoch 19/50 - Learning Rate: 0.01\n"
          ]
        },
        {
          "output_type": "stream",
          "name": "stderr",
          "text": [
            "Epoch 19/50 (Training): 100%|██████████| 313/313 [02:19<00:00,  2.25it/s]\n",
            "Epoch 19/50 (Validation): 100%|██████████| 79/79 [00:11<00:00,  6.88it/s]\n"
          ]
        },
        {
          "output_type": "stream",
          "name": "stdout",
          "text": [
            "Epoch 19/50 - Train Loss: 0.5532, Train Acc: 0.8036 - Val Loss: 0.6587, Val Acc: 0.7696\n",
            "Epoch 20/50 - Learning Rate: 0.01\n"
          ]
        },
        {
          "output_type": "stream",
          "name": "stderr",
          "text": [
            "Epoch 20/50 (Training): 100%|██████████| 313/313 [02:16<00:00,  2.30it/s]\n",
            "Epoch 20/50 (Validation): 100%|██████████| 79/79 [00:11<00:00,  6.98it/s]\n"
          ]
        },
        {
          "output_type": "stream",
          "name": "stdout",
          "text": [
            "Epoch 20/50 - Train Loss: 0.5474, Train Acc: 0.8069 - Val Loss: 0.6602, Val Acc: 0.7742\n",
            "Epoch 21/50 - Learning Rate: 0.01\n"
          ]
        },
        {
          "output_type": "stream",
          "name": "stderr",
          "text": [
            "Epoch 21/50 (Training): 100%|██████████| 313/313 [02:17<00:00,  2.27it/s]\n",
            "Epoch 21/50 (Validation): 100%|██████████| 79/79 [00:10<00:00,  7.31it/s]\n"
          ]
        },
        {
          "output_type": "stream",
          "name": "stdout",
          "text": [
            "Epoch 21/50 - Train Loss: 0.5394, Train Acc: 0.8106 - Val Loss: 0.6610, Val Acc: 0.7724\n",
            "Epoch 22/50 - Learning Rate: 0.01\n"
          ]
        },
        {
          "output_type": "stream",
          "name": "stderr",
          "text": [
            "Epoch 22/50 (Training): 100%|██████████| 313/313 [02:17<00:00,  2.27it/s]\n",
            "Epoch 22/50 (Validation): 100%|██████████| 79/79 [00:11<00:00,  7.17it/s]\n"
          ]
        },
        {
          "output_type": "stream",
          "name": "stdout",
          "text": [
            "Epoch 22/50 - Train Loss: 0.5362, Train Acc: 0.8124 - Val Loss: 0.6577, Val Acc: 0.7701\n",
            "Epoch 23/50 - Learning Rate: 0.01\n"
          ]
        },
        {
          "output_type": "stream",
          "name": "stderr",
          "text": [
            "Epoch 23/50 (Training): 100%|██████████| 313/313 [02:19<00:00,  2.24it/s]\n",
            "Epoch 23/50 (Validation): 100%|██████████| 79/79 [00:11<00:00,  7.16it/s]\n"
          ]
        },
        {
          "output_type": "stream",
          "name": "stdout",
          "text": [
            "Epoch 23/50 - Train Loss: 0.5254, Train Acc: 0.8151 - Val Loss: 0.6551, Val Acc: 0.7719\n",
            "Epoch 24/50 - Learning Rate: 0.01\n"
          ]
        },
        {
          "output_type": "stream",
          "name": "stderr",
          "text": [
            "Epoch 24/50 (Training): 100%|██████████| 313/313 [02:19<00:00,  2.24it/s]\n",
            "Epoch 24/50 (Validation): 100%|██████████| 79/79 [00:10<00:00,  7.64it/s]\n"
          ]
        },
        {
          "output_type": "stream",
          "name": "stdout",
          "text": [
            "Epoch 24/50 - Train Loss: 0.5244, Train Acc: 0.8160 - Val Loss: 0.6429, Val Acc: 0.7808\n",
            "Epoch 25/50 - Learning Rate: 0.01\n"
          ]
        },
        {
          "output_type": "stream",
          "name": "stderr",
          "text": [
            "Epoch 25/50 (Training): 100%|██████████| 313/313 [02:16<00:00,  2.29it/s]\n",
            "Epoch 25/50 (Validation): 100%|██████████| 79/79 [00:09<00:00,  8.27it/s]\n"
          ]
        },
        {
          "output_type": "stream",
          "name": "stdout",
          "text": [
            "Epoch 25/50 - Train Loss: 0.5127, Train Acc: 0.8198 - Val Loss: 0.6631, Val Acc: 0.7725\n",
            "Epoch 26/50 - Learning Rate: 0.005\n"
          ]
        },
        {
          "output_type": "stream",
          "name": "stderr",
          "text": [
            "Epoch 26/50 (Training): 100%|██████████| 313/313 [02:22<00:00,  2.19it/s]\n",
            "Epoch 26/50 (Validation): 100%|██████████| 79/79 [00:10<00:00,  7.90it/s]\n"
          ]
        },
        {
          "output_type": "stream",
          "name": "stdout",
          "text": [
            "Epoch 26/50 - Train Loss: 0.4625, Train Acc: 0.8390 - Val Loss: 0.6216, Val Acc: 0.7890\n",
            "Epoch 27/50 - Learning Rate: 0.005\n"
          ]
        },
        {
          "output_type": "stream",
          "name": "stderr",
          "text": [
            "Epoch 27/50 (Training): 100%|██████████| 313/313 [02:20<00:00,  2.23it/s]\n",
            "Epoch 27/50 (Validation): 100%|██████████| 79/79 [00:09<00:00,  7.93it/s]\n"
          ]
        },
        {
          "output_type": "stream",
          "name": "stdout",
          "text": [
            "Epoch 27/50 - Train Loss: 0.4376, Train Acc: 0.8470 - Val Loss: 0.6139, Val Acc: 0.7885\n",
            "Epoch 28/50 - Learning Rate: 0.005\n"
          ]
        },
        {
          "output_type": "stream",
          "name": "stderr",
          "text": [
            "Epoch 28/50 (Training): 100%|██████████| 313/313 [02:21<00:00,  2.22it/s]\n",
            "Epoch 28/50 (Validation): 100%|██████████| 79/79 [00:10<00:00,  7.60it/s]\n"
          ]
        },
        {
          "output_type": "stream",
          "name": "stdout",
          "text": [
            "Epoch 28/50 - Train Loss: 0.4282, Train Acc: 0.8467 - Val Loss: 0.6116, Val Acc: 0.7906\n",
            "Epoch 29/50 - Learning Rate: 0.005\n"
          ]
        },
        {
          "output_type": "stream",
          "name": "stderr",
          "text": [
            "Epoch 29/50 (Training): 100%|██████████| 313/313 [02:18<00:00,  2.26it/s]\n",
            "Epoch 29/50 (Validation): 100%|██████████| 79/79 [00:10<00:00,  7.53it/s]\n"
          ]
        },
        {
          "output_type": "stream",
          "name": "stdout",
          "text": [
            "Epoch 29/50 - Train Loss: 0.4172, Train Acc: 0.8519 - Val Loss: 0.6075, Val Acc: 0.7866\n",
            "Epoch 30/50 - Learning Rate: 0.005\n"
          ]
        },
        {
          "output_type": "stream",
          "name": "stderr",
          "text": [
            "Epoch 30/50 (Training): 100%|██████████| 313/313 [02:19<00:00,  2.24it/s]\n",
            "Epoch 30/50 (Validation): 100%|██████████| 79/79 [00:11<00:00,  6.88it/s]\n"
          ]
        },
        {
          "output_type": "stream",
          "name": "stdout",
          "text": [
            "Epoch 30/50 - Train Loss: 0.4146, Train Acc: 0.8528 - Val Loss: 0.6055, Val Acc: 0.7904\n",
            "Epoch 31/50 - Learning Rate: 0.005\n"
          ]
        },
        {
          "output_type": "stream",
          "name": "stderr",
          "text": [
            "Epoch 31/50 (Training): 100%|██████████| 313/313 [02:20<00:00,  2.23it/s]\n",
            "Epoch 31/50 (Validation): 100%|██████████| 79/79 [00:11<00:00,  6.85it/s]\n"
          ]
        },
        {
          "output_type": "stream",
          "name": "stdout",
          "text": [
            "Epoch 31/50 - Train Loss: 0.4096, Train Acc: 0.8559 - Val Loss: 0.6316, Val Acc: 0.7861\n",
            "Epoch 32/50 - Learning Rate: 0.005\n"
          ]
        },
        {
          "output_type": "stream",
          "name": "stderr",
          "text": [
            "Epoch 32/50 (Training): 100%|██████████| 313/313 [02:18<00:00,  2.26it/s]\n",
            "Epoch 32/50 (Validation): 100%|██████████| 79/79 [00:11<00:00,  6.91it/s]\n"
          ]
        },
        {
          "output_type": "stream",
          "name": "stdout",
          "text": [
            "Epoch 32/50 - Train Loss: 0.4068, Train Acc: 0.8562 - Val Loss: 0.6125, Val Acc: 0.7893\n",
            "Epoch 33/50 - Learning Rate: 0.005\n"
          ]
        },
        {
          "output_type": "stream",
          "name": "stderr",
          "text": [
            "Epoch 33/50 (Training): 100%|██████████| 313/313 [02:20<00:00,  2.22it/s]\n",
            "Epoch 33/50 (Validation): 100%|██████████| 79/79 [00:11<00:00,  6.93it/s]\n"
          ]
        },
        {
          "output_type": "stream",
          "name": "stdout",
          "text": [
            "Epoch 33/50 - Train Loss: 0.4056, Train Acc: 0.8579 - Val Loss: 0.6213, Val Acc: 0.7912\n",
            "Epoch 34/50 - Learning Rate: 0.005\n"
          ]
        },
        {
          "output_type": "stream",
          "name": "stderr",
          "text": [
            "Epoch 34/50 (Training): 100%|██████████| 313/313 [02:17<00:00,  2.27it/s]\n",
            "Epoch 34/50 (Validation): 100%|██████████| 79/79 [00:11<00:00,  6.98it/s]\n"
          ]
        },
        {
          "output_type": "stream",
          "name": "stdout",
          "text": [
            "Epoch 34/50 - Train Loss: 0.3947, Train Acc: 0.8585 - Val Loss: 0.6236, Val Acc: 0.7911\n",
            "Epoch 35/50 - Learning Rate: 0.005\n"
          ]
        },
        {
          "output_type": "stream",
          "name": "stderr",
          "text": [
            "Epoch 35/50 (Training): 100%|██████████| 313/313 [02:19<00:00,  2.24it/s]\n",
            "Epoch 35/50 (Validation): 100%|██████████| 79/79 [00:11<00:00,  6.96it/s]\n"
          ]
        },
        {
          "output_type": "stream",
          "name": "stdout",
          "text": [
            "Epoch 35/50 - Train Loss: 0.3943, Train Acc: 0.8605 - Val Loss: 0.6181, Val Acc: 0.7922\n",
            "Epoch 36/50 - Learning Rate: 0.005\n"
          ]
        },
        {
          "output_type": "stream",
          "name": "stderr",
          "text": [
            "Epoch 36/50 (Training): 100%|██████████| 313/313 [02:16<00:00,  2.30it/s]\n",
            "Epoch 36/50 (Validation): 100%|██████████| 79/79 [00:11<00:00,  6.82it/s]\n"
          ]
        },
        {
          "output_type": "stream",
          "name": "stdout",
          "text": [
            "Epoch 36/50 - Train Loss: 0.3914, Train Acc: 0.8626 - Val Loss: 0.6267, Val Acc: 0.7888\n",
            "Epoch 37/50 - Learning Rate: 0.005\n"
          ]
        },
        {
          "output_type": "stream",
          "name": "stderr",
          "text": [
            "Epoch 37/50 (Training): 100%|██████████| 313/313 [02:19<00:00,  2.24it/s]\n",
            "Epoch 37/50 (Validation): 100%|██████████| 79/79 [00:11<00:00,  6.99it/s]\n"
          ]
        },
        {
          "output_type": "stream",
          "name": "stdout",
          "text": [
            "Epoch 37/50 - Train Loss: 0.3886, Train Acc: 0.8635 - Val Loss: 0.6413, Val Acc: 0.7916\n",
            "Epoch 38/50 - Learning Rate: 0.005\n"
          ]
        },
        {
          "output_type": "stream",
          "name": "stderr",
          "text": [
            "Epoch 38/50 (Training): 100%|██████████| 313/313 [02:15<00:00,  2.31it/s]\n",
            "Epoch 38/50 (Validation): 100%|██████████| 79/79 [00:13<00:00,  5.82it/s]\n"
          ]
        },
        {
          "output_type": "stream",
          "name": "stdout",
          "text": [
            "Epoch 38/50 - Train Loss: 0.3793, Train Acc: 0.8645 - Val Loss: 0.6419, Val Acc: 0.7893\n",
            "Epoch 39/50 - Learning Rate: 0.005\n"
          ]
        },
        {
          "output_type": "stream",
          "name": "stderr",
          "text": [
            "Epoch 39/50 (Training): 100%|██████████| 313/313 [02:17<00:00,  2.27it/s]\n",
            "Epoch 39/50 (Validation): 100%|██████████| 79/79 [00:11<00:00,  6.85it/s]\n"
          ]
        },
        {
          "output_type": "stream",
          "name": "stdout",
          "text": [
            "Epoch 39/50 - Train Loss: 0.3769, Train Acc: 0.8657 - Val Loss: 0.6388, Val Acc: 0.7883\n",
            "Epoch 40/50 - Learning Rate: 0.005\n"
          ]
        },
        {
          "output_type": "stream",
          "name": "stderr",
          "text": [
            "Epoch 40/50 (Training): 100%|██████████| 313/313 [02:21<00:00,  2.21it/s]\n",
            "Epoch 40/50 (Validation): 100%|██████████| 79/79 [00:11<00:00,  6.88it/s]\n"
          ]
        },
        {
          "output_type": "stream",
          "name": "stdout",
          "text": [
            "Epoch 40/50 - Train Loss: 0.3768, Train Acc: 0.8672 - Val Loss: 0.6411, Val Acc: 0.7899\n",
            "Epoch 41/50 - Learning Rate: 0.005\n"
          ]
        },
        {
          "output_type": "stream",
          "name": "stderr",
          "text": [
            "Epoch 41/50 (Training): 100%|██████████| 313/313 [02:22<00:00,  2.20it/s]\n",
            "Epoch 41/50 (Validation): 100%|██████████| 79/79 [00:10<00:00,  7.25it/s]\n"
          ]
        },
        {
          "output_type": "stream",
          "name": "stdout",
          "text": [
            "Epoch 41/50 - Train Loss: 0.3730, Train Acc: 0.8674 - Val Loss: 0.6336, Val Acc: 0.7918\n",
            "Epoch 42/50 - Learning Rate: 0.005\n"
          ]
        },
        {
          "output_type": "stream",
          "name": "stderr",
          "text": [
            "Epoch 42/50 (Training): 100%|██████████| 313/313 [02:22<00:00,  2.20it/s]\n",
            "Epoch 42/50 (Validation): 100%|██████████| 79/79 [00:09<00:00,  8.23it/s]\n"
          ]
        },
        {
          "output_type": "stream",
          "name": "stdout",
          "text": [
            "Epoch 42/50 - Train Loss: 0.3664, Train Acc: 0.8695 - Val Loss: 0.6362, Val Acc: 0.7864\n",
            "Epoch 43/50 - Learning Rate: 0.005\n"
          ]
        },
        {
          "output_type": "stream",
          "name": "stderr",
          "text": [
            "Epoch 43/50 (Training): 100%|██████████| 313/313 [02:21<00:00,  2.21it/s]\n",
            "Epoch 43/50 (Validation): 100%|██████████| 79/79 [00:09<00:00,  8.37it/s]\n"
          ]
        },
        {
          "output_type": "stream",
          "name": "stdout",
          "text": [
            "Epoch 43/50 - Train Loss: 0.3663, Train Acc: 0.8717 - Val Loss: 0.6280, Val Acc: 0.7878\n",
            "Epoch 44/50 - Learning Rate: 0.005\n"
          ]
        },
        {
          "output_type": "stream",
          "name": "stderr",
          "text": [
            "Epoch 44/50 (Training): 100%|██████████| 313/313 [02:24<00:00,  2.16it/s]\n",
            "Epoch 44/50 (Validation): 100%|██████████| 79/79 [00:11<00:00,  6.67it/s]\n"
          ]
        },
        {
          "output_type": "stream",
          "name": "stdout",
          "text": [
            "Epoch 44/50 - Train Loss: 0.3649, Train Acc: 0.8708 - Val Loss: 0.6529, Val Acc: 0.7829\n",
            "Epoch 45/50 - Learning Rate: 0.005\n"
          ]
        },
        {
          "output_type": "stream",
          "name": "stderr",
          "text": [
            "Epoch 45/50 (Training): 100%|██████████| 313/313 [02:26<00:00,  2.14it/s]\n",
            "Epoch 45/50 (Validation): 100%|██████████| 79/79 [00:10<00:00,  7.80it/s]\n"
          ]
        },
        {
          "output_type": "stream",
          "name": "stdout",
          "text": [
            "Epoch 45/50 - Train Loss: 0.3585, Train Acc: 0.8732 - Val Loss: 0.6465, Val Acc: 0.7831\n",
            "Epoch 46/50 - Learning Rate: 0.005\n"
          ]
        },
        {
          "output_type": "stream",
          "name": "stderr",
          "text": [
            "Epoch 46/50 (Training): 100%|██████████| 313/313 [02:22<00:00,  2.20it/s]\n",
            "Epoch 46/50 (Validation): 100%|██████████| 79/79 [00:10<00:00,  7.42it/s]\n"
          ]
        },
        {
          "output_type": "stream",
          "name": "stdout",
          "text": [
            "Epoch 46/50 - Train Loss: 0.3549, Train Acc: 0.8734 - Val Loss: 0.6539, Val Acc: 0.7842\n",
            "Epoch 47/50 - Learning Rate: 0.005\n"
          ]
        },
        {
          "output_type": "stream",
          "name": "stderr",
          "text": [
            "Epoch 47/50 (Training): 100%|██████████| 313/313 [02:23<00:00,  2.18it/s]\n",
            "Epoch 47/50 (Validation): 100%|██████████| 79/79 [00:10<00:00,  7.71it/s]\n"
          ]
        },
        {
          "output_type": "stream",
          "name": "stdout",
          "text": [
            "Epoch 47/50 - Train Loss: 0.3522, Train Acc: 0.8742 - Val Loss: 0.6441, Val Acc: 0.7880\n",
            "Epoch 48/50 - Learning Rate: 0.005\n"
          ]
        },
        {
          "output_type": "stream",
          "name": "stderr",
          "text": [
            "Epoch 48/50 (Training): 100%|██████████| 313/313 [02:22<00:00,  2.20it/s]\n",
            "Epoch 48/50 (Validation): 100%|██████████| 79/79 [00:11<00:00,  6.67it/s]\n"
          ]
        },
        {
          "output_type": "stream",
          "name": "stdout",
          "text": [
            "Epoch 48/50 - Train Loss: 0.3475, Train Acc: 0.8764 - Val Loss: 0.6457, Val Acc: 0.7891\n",
            "Epoch 49/50 - Learning Rate: 0.005\n"
          ]
        },
        {
          "output_type": "stream",
          "name": "stderr",
          "text": [
            "Epoch 49/50 (Training): 100%|██████████| 313/313 [02:20<00:00,  2.22it/s]\n",
            "Epoch 49/50 (Validation): 100%|██████████| 79/79 [00:11<00:00,  6.74it/s]\n"
          ]
        },
        {
          "output_type": "stream",
          "name": "stdout",
          "text": [
            "Epoch 49/50 - Train Loss: 0.3476, Train Acc: 0.8772 - Val Loss: 0.6388, Val Acc: 0.7888\n",
            "Epoch 50/50 - Learning Rate: 0.005\n"
          ]
        },
        {
          "output_type": "stream",
          "name": "stderr",
          "text": [
            "Epoch 50/50 (Training): 100%|██████████| 313/313 [02:21<00:00,  2.22it/s]\n",
            "Epoch 50/50 (Validation): 100%|██████████| 79/79 [00:12<00:00,  6.56it/s]\n"
          ]
        },
        {
          "output_type": "stream",
          "name": "stdout",
          "text": [
            "Epoch 50/50 - Train Loss: 0.3404, Train Acc: 0.8787 - Val Loss: 0.6332, Val Acc: 0.7884\n"
          ]
        },
        {
          "output_type": "display_data",
          "data": {
            "text/plain": [
              "<Figure size 640x480 with 1 Axes>"
            ],
            "image/png": "[encoded data removed]"
          },
          "metadata": {}
        },
        {
          "output_type": "display_data",
          "data": {
            "text/plain": [
              "<Figure size 640x480 with 1 Axes>"
            ],
            "image/png": "[encoded data removed]"
          },
          "metadata": {}
        }
      ]
    },
    {
      "cell_type": "code",
      "source": [
        "filename = 'cifar10_model_2.pth'\n",
        "\n",
        "torch.save(model_2.state_dict(), filename)\n",
        "print(f\"Model saved to {filename}\")"
      ],
      "metadata": {
        "colab": {
          "base_uri": "https://localhost:8080/",
          "height": 332
        },
        "id": "glLd8g6XBdFs",
        "outputId": "d6cef96d-4380-427e-ffa8-114703a2e48d"
      },
      "execution_count": null,
      "outputs": [
        {
          "output_type": "error",
          "ename": "NameError",
          "evalue": "name 'model_2' is not defined",
          "traceback": [
            "\u001b[0;31m---------------------------------------------------------------------------\u001b[0m",
            "\u001b[0;31mNameError\u001b[0m                                 Traceback (most recent call last)",
            "\u001b[0;32m<ipython-input-14-96cdd747efa1>\u001b[0m in \u001b[0;36m<cell line: 3>\u001b[0;34m()\u001b[0m\n\u001b[1;32m      1\u001b[0m \u001b[0mfilename\u001b[0m \u001b[0;34m=\u001b[0m \u001b[0;34m'cifar10_model_2.pth'\u001b[0m\u001b[0;34m\u001b[0m\u001b[0;34m\u001b[0m\u001b[0m\n\u001b[1;32m      2\u001b[0m \u001b[0;34m\u001b[0m\u001b[0m\n\u001b[0;32m----> 3\u001b[0;31m \u001b[0mtorch\u001b[0m\u001b[0;34m.\u001b[0m\u001b[0msave\u001b[0m\u001b[0;34m(\u001b[0m\u001b[0mmodel_2\u001b[0m\u001b[0;34m.\u001b[0m\u001b[0mstate_dict\u001b[0m\u001b[0;34m(\u001b[0m\u001b[0;34m)\u001b[0m\u001b[0;34m,\u001b[0m \u001b[0mfilename\u001b[0m\u001b[0;34m)\u001b[0m\u001b[0;34m\u001b[0m\u001b[0;34m\u001b[0m\u001b[0m\n\u001b[0m\u001b[1;32m      4\u001b[0m \u001b[0mprint\u001b[0m\u001b[0;34m(\u001b[0m\u001b[0;34mf\"Model saved to {filename}\"\u001b[0m\u001b[0;34m)\u001b[0m\u001b[0;34m\u001b[0m\u001b[0;34m\u001b[0m\u001b[0m\n",
            "\u001b[0;31mNameError\u001b[0m: name 'model_2' is not defined"
          ]
        }
      ]
    },
    {
      "cell_type": "code",
      "source": [
        "# model_2 = torch.load(filename)\n",
        "# model_2.eval()\n",
        "# print(f\"Model loaded from {filename}\")"
      ],
      "metadata": {
        "id": "ER2VJVdsBgpl"
      },
      "execution_count": null,
      "outputs": []
    },
    {
      "cell_type": "markdown",
      "source": [
        "## test"
      ],
      "metadata": {
        "id": "JI9dSCSGldBF"
      }
    },
    {
      "cell_type": "code",
      "source": [
        "testloader = DataLoader(testset, batch_size=128, shuffle=False, num_workers=2)\n",
        "test_loss, test_acc = test(model_2, testloader)\n",
        "\n",
        "# Optionally, store these metrics for later analysis\n",
        "history[\"test_loss\"] = test_loss\n",
        "history[\"test_acc\"] = test_acc"
      ],
      "metadata": {
        "id": "-3AAn2nQlcj1",
        "colab": {
          "base_uri": "https://localhost:8080/"
        },
        "outputId": "4062cd18-85b0-40c5-d706-977a8a372e2c"
      },
      "execution_count": null,
      "outputs": [
        {
          "output_type": "stream",
          "name": "stderr",
          "text": [
            "Testing: 100%|██████████| 79/79 [00:11<00:00,  6.81it/s]"
          ]
        },
        {
          "output_type": "stream",
          "name": "stdout",
          "text": [
            "Test Loss: 0.6594, Test Accuracy: 0.7910\n"
          ]
        },
        {
          "output_type": "stream",
          "name": "stderr",
          "text": [
            "\n"
          ]
        }
      ]
    },
    {
      "cell_type": "markdown",
      "source": [
        "## statistics\n"
      ],
      "metadata": {
        "id": "K1wMwJry5qVC"
      }
    },
    {
      "cell_type": "code",
      "source": [
        "import seaborn as sns\n",
        "from sklearn.metrics import confusion_matrix\n",
        "\n",
        "model_2.eval()  # Set model to evaluation mode\n",
        "all_labels = []\n",
        "all_preds = []\n",
        "\n",
        "misclassified_images = []\n",
        "misclassified_labels = []\n",
        "misclassified_preds = []\n",
        "\n",
        "with torch.no_grad():\n",
        "    for images, labels in tqdm(testloader, desc=\"Computing Confusion Matrix\"):\n",
        "        images, labels = images.to(DEVICE), labels.to(DEVICE)\n",
        "        outputs = model_2(images)\n",
        "        _, preds = torch.max(outputs, 1)\n",
        "\n",
        "        all_labels.extend(labels.cpu().numpy())  # Collect all true labels\n",
        "        all_preds.extend(preds.cpu().numpy())    # Collect all predictions\n",
        "\n",
        "        # Find misclassified images\n",
        "        incorrect = preds != labels\n",
        "        misclassified_images.extend(images[incorrect].cpu())  # Collect misclassified images\n",
        "        misclassified_labels.extend(labels[incorrect].cpu())  # True labels of misclassified images\n",
        "        misclassified_preds.extend(preds[incorrect].cpu())  # Predicted labels of misclassified images\n",
        "\n"
      ],
      "metadata": {
        "colab": {
          "base_uri": "https://localhost:8080/"
        },
        "outputId": "7db7cebb-266e-4a87-a54e-d1e383f0a5c3",
        "id": "ywMRWy6Q5qVD"
      },
      "execution_count": null,
      "outputs": [
        {
          "output_type": "stream",
          "name": "stderr",
          "text": [
            "Computing Confusion Matrix: 100%|██████████| 79/79 [00:10<00:00,  7.62it/s]\n"
          ]
        }
      ]
    },
    {
      "cell_type": "code",
      "source": [
        "# Compute confusion matrix\n",
        "cm = confusion_matrix(all_labels, all_preds)\n",
        "\n",
        "# Calculate accuracy for each class\n",
        "class_accuracies = np.diag(cm) / cm.sum(axis=1)\n",
        "for i, acc in enumerate(class_accuracies):\n",
        "    print(f'Accuracy for class {i}: {acc:.2f}')\n",
        "\n",
        "# Plot confusion matrix\n",
        "plt.figure(figsize=(10, 7))\n",
        "sns.heatmap(cm, annot=True, fmt=\"d\", cmap=\"Blues\", xticklabels=testloader.dataset.classes, yticklabels=testloader.dataset.classes)\n",
        "plt.xlabel('Predicted')\n",
        "plt.ylabel('True')\n",
        "plt.title('Confusion Matrix')\n",
        "plt.show()"
      ],
      "metadata": {
        "colab": {
          "base_uri": "https://localhost:8080/",
          "height": 837
        },
        "outputId": "c861870e-3aff-48a7-a48d-d24f4dc7b2e5",
        "id": "kilVet935qVE"
      },
      "execution_count": null,
      "outputs": [
        {
          "output_type": "stream",
          "name": "stdout",
          "text": [
            "Accuracy for class 0: 0.83\n",
            "Accuracy for class 1: 0.86\n",
            "Accuracy for class 2: 0.74\n",
            "Accuracy for class 3: 0.61\n",
            "Accuracy for class 4: 0.80\n",
            "Accuracy for class 5: 0.73\n",
            "Accuracy for class 6: 0.83\n",
            "Accuracy for class 7: 0.83\n",
            "Accuracy for class 8: 0.87\n",
            "Accuracy for class 9: 0.85\n"
          ]
        },
        {
          "output_type": "display_data",
          "data": {
            "text/plain": [
              "<Figure size 1000x700 with 2 Axes>"
            ],
            "image/png": "[encoded data removed]"
          },
          "metadata": {}
        }
      ]
    },
    {
      "cell_type": "code",
      "source": [
        "mean = torch.tensor([0.5, 0.5, 0.5])\n",
        "std = torch.tensor([0.5, 0.5, 0.5])\n",
        "\n",
        "num_images = 10\n",
        "\n",
        "for i in range(num_images):\n",
        "    # Create a new figure for each image\n",
        "    plt.figure(figsize=(3, 3))\n",
        "\n",
        "    image = misclassified_images[i].permute(1, 2, 0)  # Convert to (H, W, C)\n",
        "    image = image * std + mean  # Unnormalize\n",
        "    image = image.numpy()  # Convert to numpy\n",
        "    image = np.clip(image, 0, 1)  # Ensure values are in [0, 1]\n",
        "\n",
        "    plt.imshow(image)\n",
        "    plt.title(f\"True: {misclassified_labels[i]}, Pred: {misclassified_preds[i]}\")\n",
        "    plt.axis('off')  # Hide axes\n",
        "    plt.show()  # Show each image independently"
      ],
      "metadata": {
        "colab": {
          "base_uri": "https://localhost:8080/",
          "height": 1000
        },
        "outputId": "70211c12-22b8-41f5-bfdf-68a09ad7cd71",
        "id": "xQM6y_3r5qVE"
      },
      "execution_count": null,
      "outputs": [
        {
          "output_type": "display_data",
          "data": {
            "text/plain": [
              "<Figure size 300x300 with 1 Axes>"
            ],
            "image/png": "[encoded data removed]"
          },
          "metadata": {}
        },
        {
          "output_type": "display_data",
          "data": {
            "text/plain": [
              "<Figure size 300x300 with 1 Axes>"
            ],
            "image/png": "[encoded data removed]"
          },
          "metadata": {}
        },
        {
          "output_type": "display_data",
          "data": {
            "text/plain": [
              "<Figure size 300x300 with 1 Axes>"
            ],
            "image/png": "[encoded data removed]"
          },
          "metadata": {}
        },
        {
          "output_type": "display_data",
          "data": {
            "text/plain": [
              "<Figure size 300x300 with 1 Axes>"
            ],
            "image/png": "[encoded data removed]"
          },
          "metadata": {}
        },
        {
          "output_type": "display_data",
          "data": {
            "text/plain": [
              "<Figure size 300x300 with 1 Axes>"
            ],
            "image/png": "[encoded data removed]"
          },
          "metadata": {}
        },
        {
          "output_type": "display_data",
          "data": {
            "text/plain": [
              "<Figure size 300x300 with 1 Axes>"
            ],
            "image/png": "[encoded data removed]"
          },
          "metadata": {}
        },
        {
          "output_type": "display_data",
          "data": {
            "text/plain": [
              "<Figure size 300x300 with 1 Axes>"
            ],
            "image/png": "[encoded data removed]"
          },
          "metadata": {}
        },
        {
          "output_type": "display_data",
          "data": {
            "text/plain": [
              "<Figure size 300x300 with 1 Axes>"
            ],
            "image/png": "[encoded data removed]"
          },
          "metadata": {}
        },
        {
          "output_type": "display_data",
          "data": {
            "text/plain": [
              "<Figure size 300x300 with 1 Axes>"
            ],
            "image/png": "[encoded data removed]"
          },
          "metadata": {}
        },
        {
          "output_type": "display_data",
          "data": {
            "text/plain": [
              "<Figure size 300x300 with 1 Axes>"
            ],
            "image/png": "[encoded data removed]"
          },
          "metadata": {}
        }
      ]
    },
    {
      "cell_type": "markdown",
      "source": [
        "# Model 3\n",
        "\n"
      ],
      "metadata": {
        "id": "l53BkDjjKncx"
      }
    },
    {
      "cell_type": "code",
      "source": [
        "class SmallCNN(nn.Module):\n",
        "    def __init__(self):\n",
        "        super(SmallCNN, self).__init__()\n",
        "        # Convolutional layers with Batch Normalization\n",
        "        self.conv1 = nn.Conv2d(in_channels=3, out_channels=32, kernel_size=3, padding=1)\n",
        "        self.bn1 = nn.BatchNorm2d(32)\n",
        "\n",
        "        self.conv2 = nn.Conv2d(in_channels=32, out_channels=64, kernel_size=3, padding=1)\n",
        "        self.bn2 = nn.BatchNorm2d(64)\n",
        "\n",
        "        self.conv3 = nn.Conv2d(in_channels=64, out_channels=128, kernel_size=3, padding=1)\n",
        "        self.bn3 = nn.BatchNorm2d(128)\n",
        "\n",
        "        # Fully connected layers\n",
        "        self.fc1 = nn.Linear(128 * 4 * 4, 256)  # Adjust input size based on pooling layers\n",
        "        self.fc2 = nn.Linear(256, 10)  # Output layer for 10 classes in CIFAR-10\n",
        "\n",
        "        # Pooling and dropout\n",
        "        self.pool = nn.MaxPool2d(kernel_size=2, stride=2)\n",
        "        self.dropout = nn.Dropout(0.5)\n",
        "\n",
        "    def forward(self, x):\n",
        "        x = self.pool(F.relu(self.bn1(self.conv1(x))))\n",
        "        x = self.pool(F.relu(self.bn2(self.conv2(x))))\n",
        "        x = self.pool(F.relu(self.bn3(self.conv3(x))))\n",
        "        x = x.view(-1, 128 * 4 * 4)  # Flatten feature maps for fully connected layers\n",
        "        x = F.relu(self.fc1(x))\n",
        "        x = self.dropout(x)\n",
        "        x = self.fc2(x)\n",
        "        return x\n",
        "\n",
        "# Example usage\n",
        "model_3 = SmallCNN()\n",
        "print(model_3)\n",
        "\n",
        "num_parameters = sum(value.numel() for value in model_3.state_dict().values())\n",
        "print(f\"Number of parameters: {num_parameters / 10**6:.2f}M\")"
      ],
      "metadata": {
        "id": "iQmhgLcgKncx",
        "colab": {
          "base_uri": "https://localhost:8080/"
        },
        "outputId": "93d0992c-2ab3-45a4-d2f0-7f61e27326d4"
      },
      "execution_count": 11,
      "outputs": [
        {
          "output_type": "stream",
          "name": "stdout",
          "text": [
            "SmallCNN(\n",
            "  (conv1): Conv2d(3, 32, kernel_size=(3, 3), stride=(1, 1), padding=(1, 1))\n",
            "  (bn1): BatchNorm2d(32, eps=1e-05, momentum=0.1, affine=True, track_running_stats=True)\n",
            "  (conv2): Conv2d(32, 64, kernel_size=(3, 3), stride=(1, 1), padding=(1, 1))\n",
            "  (bn2): BatchNorm2d(64, eps=1e-05, momentum=0.1, affine=True, track_running_stats=True)\n",
            "  (conv3): Conv2d(64, 128, kernel_size=(3, 3), stride=(1, 1), padding=(1, 1))\n",
            "  (bn3): BatchNorm2d(128, eps=1e-05, momentum=0.1, affine=True, track_running_stats=True)\n",
            "  (fc1): Linear(in_features=2048, out_features=256, bias=True)\n",
            "  (fc2): Linear(in_features=256, out_features=10, bias=True)\n",
            "  (pool): MaxPool2d(kernel_size=2, stride=2, padding=0, dilation=1, ceil_mode=False)\n",
            "  (dropout): Dropout(p=0.5, inplace=False)\n",
            ")\n",
            "Number of parameters: 0.62M\n"
          ]
        }
      ]
    },
    {
      "cell_type": "code",
      "source": [
        "summary(model_3, (3, 32, 32))"
      ],
      "metadata": {
        "id": "u8aVTrZHLKqX",
        "colab": {
          "base_uri": "https://localhost:8080/"
        },
        "outputId": "57363337-bd62-44d0-b357-4afba1e3185f"
      },
      "execution_count": 12,
      "outputs": [
        {
          "output_type": "stream",
          "name": "stdout",
          "text": [
            "----------------------------------------------------------------\n",
            "        Layer (type)               Output Shape         Param #\n",
            "================================================================\n",
            "            Conv2d-1           [-1, 32, 32, 32]             896\n",
            "       BatchNorm2d-2           [-1, 32, 32, 32]              64\n",
            "         MaxPool2d-3           [-1, 32, 16, 16]               0\n",
            "            Conv2d-4           [-1, 64, 16, 16]          18,496\n",
            "       BatchNorm2d-5           [-1, 64, 16, 16]             128\n",
            "         MaxPool2d-6             [-1, 64, 8, 8]               0\n",
            "            Conv2d-7            [-1, 128, 8, 8]          73,856\n",
            "       BatchNorm2d-8            [-1, 128, 8, 8]             256\n",
            "         MaxPool2d-9            [-1, 128, 4, 4]               0\n",
            "           Linear-10                  [-1, 256]         524,544\n",
            "          Dropout-11                  [-1, 256]               0\n",
            "           Linear-12                   [-1, 10]           2,570\n",
            "================================================================\n",
            "Total params: 620,810\n",
            "Trainable params: 620,810\n",
            "Non-trainable params: 0\n",
            "----------------------------------------------------------------\n",
            "Input size (MB): 0.01\n",
            "Forward/backward pass size (MB): 0.99\n",
            "Params size (MB): 2.37\n",
            "Estimated Total Size (MB): 3.37\n",
            "----------------------------------------------------------------\n"
          ]
        }
      ]
    },
    {
      "cell_type": "markdown",
      "source": [
        "## train\n"
      ],
      "metadata": {
        "id": "TlC-r1kbKncy"
      }
    },
    {
      "cell_type": "code",
      "source": [
        "DEVICE = torch.device(\"cuda\" if torch.cuda.is_available() else \"cpu\")\n",
        "\n",
        "model_3.to(DEVICE)\n",
        "\n",
        "# optimizer = torch.optim.Adam(model.parameters(), lr=0.01)\n",
        "optimizer = torch.optim.SGD(model_3.parameters(), lr=0.01, momentum=0.9, weight_decay=5e-4)\n",
        "\n",
        "history = train(model_3, trainloader, valloader, optimizer, step_size=40 , epochs=70, verbose=True)\n",
        "\n",
        "plt.plot(history[\"train_loss\"], label=\"Train Loss\")\n",
        "plt.plot(history[\"val_loss\"], label=\"Val Loss\")\n",
        "plt.xlabel(\"Epochs\")\n",
        "plt.ylabel(\"Loss\")\n",
        "plt.legend()\n",
        "plt.show()\n",
        "\n",
        "plt.plot(history[\"train_acc\"], label=\"Train Accuracy\")\n",
        "plt.plot(history[\"val_acc\"], label=\"Val Accuracy\")\n",
        "plt.xlabel(\"Epochs\")\n",
        "plt.ylabel(\"Accuracy\")\n",
        "plt.legend()\n",
        "plt.show()"
      ],
      "metadata": {
        "id": "MCImGiQmKncy",
        "colab": {
          "base_uri": "https://localhost:8080/",
          "height": 1000
        },
        "outputId": "488f215e-b5a3-4294-8f13-bc7274a5b7c9"
      },
      "execution_count": 13,
      "outputs": [
        {
          "output_type": "stream",
          "name": "stdout",
          "text": [
            "Epoch 1/70 - Learning Rate: 0.01\n"
          ]
        },
        {
          "output_type": "stream",
          "name": "stderr",
          "text": [
            "Epoch 1/70 (Training): 100%|██████████| 313/313 [02:06<00:00,  2.47it/s]\n",
            "Epoch 1/70 (Validation): 100%|██████████| 79/79 [00:14<00:00,  5.42it/s]\n"
          ]
        },
        {
          "output_type": "stream",
          "name": "stdout",
          "text": [
            "Epoch 1/70 - Train Loss: 1.6559, Train Acc: 0.3843 - Val Loss: 1.5348, Val Acc: 0.4331\n",
            "Epoch 2/70 - Learning Rate: 0.01\n"
          ]
        },
        {
          "output_type": "stream",
          "name": "stderr",
          "text": [
            "Epoch 2/70 (Training): 100%|██████████| 313/313 [01:55<00:00,  2.71it/s]\n",
            "Epoch 2/70 (Validation): 100%|██████████| 79/79 [00:16<00:00,  4.83it/s]\n"
          ]
        },
        {
          "output_type": "stream",
          "name": "stdout",
          "text": [
            "Epoch 2/70 - Train Loss: 1.3568, Train Acc: 0.5062 - Val Loss: 1.1889, Val Acc: 0.5733\n",
            "Epoch 3/70 - Learning Rate: 0.01\n"
          ]
        },
        {
          "output_type": "stream",
          "name": "stderr",
          "text": [
            "Epoch 3/70 (Training): 100%|██████████| 313/313 [01:55<00:00,  2.71it/s]\n",
            "Epoch 3/70 (Validation): 100%|██████████| 79/79 [00:14<00:00,  5.33it/s]\n"
          ]
        },
        {
          "output_type": "stream",
          "name": "stdout",
          "text": [
            "Epoch 3/70 - Train Loss: 1.2207, Train Acc: 0.5593 - Val Loss: 1.1180, Val Acc: 0.5930\n",
            "Epoch 4/70 - Learning Rate: 0.01\n"
          ]
        },
        {
          "output_type": "stream",
          "name": "stderr",
          "text": [
            "Epoch 4/70 (Training): 100%|██████████| 313/313 [01:59<00:00,  2.61it/s]\n",
            "Epoch 4/70 (Validation): 100%|██████████| 79/79 [00:14<00:00,  5.33it/s]\n"
          ]
        },
        {
          "output_type": "stream",
          "name": "stdout",
          "text": [
            "Epoch 4/70 - Train Loss: 1.1162, Train Acc: 0.6003 - Val Loss: 1.0887, Val Acc: 0.6157\n",
            "Epoch 5/70 - Learning Rate: 0.01\n"
          ]
        },
        {
          "output_type": "stream",
          "name": "stderr",
          "text": [
            "Epoch 5/70 (Training): 100%|██████████| 313/313 [01:59<00:00,  2.61it/s]\n",
            "Epoch 5/70 (Validation): 100%|██████████| 79/79 [00:14<00:00,  5.32it/s]\n"
          ]
        },
        {
          "output_type": "stream",
          "name": "stdout",
          "text": [
            "Epoch 5/70 - Train Loss: 1.0446, Train Acc: 0.6309 - Val Loss: 1.0669, Val Acc: 0.6248\n",
            "Epoch 6/70 - Learning Rate: 0.01\n"
          ]
        },
        {
          "output_type": "stream",
          "name": "stderr",
          "text": [
            "Epoch 6/70 (Training): 100%|██████████| 313/313 [01:56<00:00,  2.69it/s]\n",
            "Epoch 6/70 (Validation): 100%|██████████| 79/79 [00:14<00:00,  5.34it/s]\n"
          ]
        },
        {
          "output_type": "stream",
          "name": "stdout",
          "text": [
            "Epoch 6/70 - Train Loss: 0.9841, Train Acc: 0.6525 - Val Loss: 1.0103, Val Acc: 0.6482\n",
            "Epoch 7/70 - Learning Rate: 0.01\n"
          ]
        },
        {
          "output_type": "stream",
          "name": "stderr",
          "text": [
            "Epoch 7/70 (Training): 100%|██████████| 313/313 [01:57<00:00,  2.67it/s]\n",
            "Epoch 7/70 (Validation): 100%|██████████| 79/79 [00:14<00:00,  5.36it/s]\n"
          ]
        },
        {
          "output_type": "stream",
          "name": "stdout",
          "text": [
            "Epoch 7/70 - Train Loss: 0.9461, Train Acc: 0.6665 - Val Loss: 0.9535, Val Acc: 0.6600\n",
            "Epoch 8/70 - Learning Rate: 0.01\n"
          ]
        },
        {
          "output_type": "stream",
          "name": "stderr",
          "text": [
            "Epoch 8/70 (Training): 100%|██████████| 313/313 [01:58<00:00,  2.63it/s]\n",
            "Epoch 8/70 (Validation): 100%|██████████| 79/79 [00:14<00:00,  5.44it/s]\n"
          ]
        },
        {
          "output_type": "stream",
          "name": "stdout",
          "text": [
            "Epoch 8/70 - Train Loss: 0.9079, Train Acc: 0.6794 - Val Loss: 0.9550, Val Acc: 0.6765\n",
            "Epoch 9/70 - Learning Rate: 0.01\n"
          ]
        },
        {
          "output_type": "stream",
          "name": "stderr",
          "text": [
            "Epoch 9/70 (Training): 100%|██████████| 313/313 [01:55<00:00,  2.71it/s]\n",
            "Epoch 9/70 (Validation): 100%|██████████| 79/79 [00:14<00:00,  5.37it/s]\n"
          ]
        },
        {
          "output_type": "stream",
          "name": "stdout",
          "text": [
            "Epoch 9/70 - Train Loss: 0.8699, Train Acc: 0.6934 - Val Loss: 0.8328, Val Acc: 0.7107\n",
            "Epoch 10/70 - Learning Rate: 0.01\n"
          ]
        },
        {
          "output_type": "stream",
          "name": "stderr",
          "text": [
            "Epoch 10/70 (Training): 100%|██████████| 313/313 [01:59<00:00,  2.62it/s]\n"
          ]
        },
        {
          "output_type": "stream",
          "name": "stdout",
          "text": [
            "Entire model saved to checkpoint_epoch_10.pth\n"
          ]
        },
        {
          "output_type": "stream",
          "name": "stderr",
          "text": [
            "Epoch 10/70 (Validation): 100%|██████████| 79/79 [00:14<00:00,  5.36it/s]\n"
          ]
        },
        {
          "output_type": "stream",
          "name": "stdout",
          "text": [
            "Epoch 10/70 - Train Loss: 0.8394, Train Acc: 0.7074 - Val Loss: 0.7727, Val Acc: 0.7291\n",
            "Epoch 11/70 - Learning Rate: 0.01\n"
          ]
        },
        {
          "output_type": "stream",
          "name": "stderr",
          "text": [
            "Epoch 11/70 (Training): 100%|██████████| 313/313 [01:58<00:00,  2.64it/s]\n",
            "Epoch 11/70 (Validation): 100%|██████████| 79/79 [00:14<00:00,  5.37it/s]\n"
          ]
        },
        {
          "output_type": "stream",
          "name": "stdout",
          "text": [
            "Epoch 11/70 - Train Loss: 0.8114, Train Acc: 0.7171 - Val Loss: 0.8412, Val Acc: 0.7065\n",
            "Epoch 12/70 - Learning Rate: 0.01\n"
          ]
        },
        {
          "output_type": "stream",
          "name": "stderr",
          "text": [
            "Epoch 12/70 (Training): 100%|██████████| 313/313 [01:56<00:00,  2.69it/s]\n",
            "Epoch 12/70 (Validation): 100%|██████████| 79/79 [00:14<00:00,  5.31it/s]\n"
          ]
        },
        {
          "output_type": "stream",
          "name": "stdout",
          "text": [
            "Epoch 12/70 - Train Loss: 0.7895, Train Acc: 0.7235 - Val Loss: 0.7692, Val Acc: 0.7311\n",
            "Epoch 13/70 - Learning Rate: 0.01\n"
          ]
        },
        {
          "output_type": "stream",
          "name": "stderr",
          "text": [
            "Epoch 13/70 (Training): 100%|██████████| 313/313 [01:57<00:00,  2.66it/s]\n",
            "Epoch 13/70 (Validation): 100%|██████████| 79/79 [00:14<00:00,  5.39it/s]\n"
          ]
        },
        {
          "output_type": "stream",
          "name": "stdout",
          "text": [
            "Epoch 13/70 - Train Loss: 0.7690, Train Acc: 0.7326 - Val Loss: 0.7286, Val Acc: 0.7483\n",
            "Epoch 14/70 - Learning Rate: 0.01\n"
          ]
        },
        {
          "output_type": "stream",
          "name": "stderr",
          "text": [
            "Epoch 14/70 (Training): 100%|██████████| 313/313 [01:58<00:00,  2.65it/s]\n",
            "Epoch 14/70 (Validation): 100%|██████████| 79/79 [00:14<00:00,  5.38it/s]\n"
          ]
        },
        {
          "output_type": "stream",
          "name": "stdout",
          "text": [
            "Epoch 14/70 - Train Loss: 0.7486, Train Acc: 0.7409 - Val Loss: 0.7119, Val Acc: 0.7501\n",
            "Epoch 15/70 - Learning Rate: 0.01\n"
          ]
        },
        {
          "output_type": "stream",
          "name": "stderr",
          "text": [
            "Epoch 15/70 (Training): 100%|██████████| 313/313 [01:57<00:00,  2.67it/s]\n",
            "Epoch 15/70 (Validation): 100%|██████████| 79/79 [00:14<00:00,  5.31it/s]\n"
          ]
        },
        {
          "output_type": "stream",
          "name": "stdout",
          "text": [
            "Epoch 15/70 - Train Loss: 0.7232, Train Acc: 0.7475 - Val Loss: 0.7610, Val Acc: 0.7296\n",
            "Epoch 16/70 - Learning Rate: 0.01\n"
          ]
        },
        {
          "output_type": "stream",
          "name": "stderr",
          "text": [
            "Epoch 16/70 (Training): 100%|██████████| 313/313 [01:57<00:00,  2.66it/s]\n",
            "Epoch 16/70 (Validation): 100%|██████████| 79/79 [00:14<00:00,  5.43it/s]\n"
          ]
        },
        {
          "output_type": "stream",
          "name": "stdout",
          "text": [
            "Epoch 16/70 - Train Loss: 0.7141, Train Acc: 0.7531 - Val Loss: 0.7531, Val Acc: 0.7442\n",
            "Epoch 17/70 - Learning Rate: 0.01\n"
          ]
        },
        {
          "output_type": "stream",
          "name": "stderr",
          "text": [
            "Epoch 17/70 (Training): 100%|██████████| 313/313 [01:57<00:00,  2.66it/s]\n",
            "Epoch 17/70 (Validation): 100%|██████████| 79/79 [00:14<00:00,  5.35it/s]\n"
          ]
        },
        {
          "output_type": "stream",
          "name": "stdout",
          "text": [
            "Epoch 17/70 - Train Loss: 0.6920, Train Acc: 0.7606 - Val Loss: 0.7018, Val Acc: 0.7518\n",
            "Epoch 18/70 - Learning Rate: 0.01\n"
          ]
        },
        {
          "output_type": "stream",
          "name": "stderr",
          "text": [
            "Epoch 18/70 (Training): 100%|██████████| 313/313 [01:55<00:00,  2.70it/s]\n",
            "Epoch 18/70 (Validation): 100%|██████████| 79/79 [00:14<00:00,  5.32it/s]\n"
          ]
        },
        {
          "output_type": "stream",
          "name": "stdout",
          "text": [
            "Epoch 18/70 - Train Loss: 0.6765, Train Acc: 0.7659 - Val Loss: 0.6545, Val Acc: 0.7782\n",
            "Epoch 19/70 - Learning Rate: 0.01\n"
          ]
        },
        {
          "output_type": "stream",
          "name": "stderr",
          "text": [
            "Epoch 19/70 (Training): 100%|██████████| 313/313 [01:58<00:00,  2.63it/s]\n",
            "Epoch 19/70 (Validation): 100%|██████████| 79/79 [00:14<00:00,  5.37it/s]\n"
          ]
        },
        {
          "output_type": "stream",
          "name": "stdout",
          "text": [
            "Epoch 19/70 - Train Loss: 0.6649, Train Acc: 0.7718 - Val Loss: 0.6668, Val Acc: 0.7692\n",
            "Epoch 20/70 - Learning Rate: 0.01\n"
          ]
        },
        {
          "output_type": "stream",
          "name": "stderr",
          "text": [
            "Epoch 20/70 (Training): 100%|██████████| 313/313 [01:57<00:00,  2.66it/s]\n"
          ]
        },
        {
          "output_type": "stream",
          "name": "stdout",
          "text": [
            "Entire model saved to checkpoint_epoch_20.pth\n"
          ]
        },
        {
          "output_type": "stream",
          "name": "stderr",
          "text": [
            "Epoch 20/70 (Validation): 100%|██████████| 79/79 [00:14<00:00,  5.36it/s]\n"
          ]
        },
        {
          "output_type": "stream",
          "name": "stdout",
          "text": [
            "Epoch 20/70 - Train Loss: 0.6578, Train Acc: 0.7712 - Val Loss: 0.6648, Val Acc: 0.7688\n",
            "Epoch 21/70 - Learning Rate: 0.01\n"
          ]
        },
        {
          "output_type": "stream",
          "name": "stderr",
          "text": [
            "Epoch 21/70 (Training): 100%|██████████| 313/313 [01:55<00:00,  2.70it/s]\n",
            "Epoch 21/70 (Validation): 100%|██████████| 79/79 [00:14<00:00,  5.41it/s]\n"
          ]
        },
        {
          "output_type": "stream",
          "name": "stdout",
          "text": [
            "Epoch 21/70 - Train Loss: 0.6445, Train Acc: 0.7776 - Val Loss: 0.6793, Val Acc: 0.7640\n",
            "Epoch 22/70 - Learning Rate: 0.01\n"
          ]
        },
        {
          "output_type": "stream",
          "name": "stderr",
          "text": [
            "Epoch 22/70 (Training): 100%|██████████| 313/313 [01:57<00:00,  2.65it/s]\n",
            "Epoch 22/70 (Validation): 100%|██████████| 79/79 [00:14<00:00,  5.35it/s]\n"
          ]
        },
        {
          "output_type": "stream",
          "name": "stdout",
          "text": [
            "Epoch 22/70 - Train Loss: 0.6305, Train Acc: 0.7821 - Val Loss: 0.6338, Val Acc: 0.7814\n",
            "Epoch 23/70 - Learning Rate: 0.01\n"
          ]
        },
        {
          "output_type": "stream",
          "name": "stderr",
          "text": [
            "Epoch 23/70 (Training): 100%|██████████| 313/313 [01:59<00:00,  2.61it/s]\n",
            "Epoch 23/70 (Validation): 100%|██████████| 79/79 [00:14<00:00,  5.37it/s]\n"
          ]
        },
        {
          "output_type": "stream",
          "name": "stdout",
          "text": [
            "Epoch 23/70 - Train Loss: 0.6201, Train Acc: 0.7860 - Val Loss: 0.6333, Val Acc: 0.7838\n",
            "Epoch 24/70 - Learning Rate: 0.01\n"
          ]
        },
        {
          "output_type": "stream",
          "name": "stderr",
          "text": [
            "Epoch 24/70 (Training): 100%|██████████| 313/313 [01:56<00:00,  2.69it/s]\n",
            "Epoch 24/70 (Validation): 100%|██████████| 79/79 [00:15<00:00,  5.20it/s]\n"
          ]
        },
        {
          "output_type": "stream",
          "name": "stdout",
          "text": [
            "Epoch 24/70 - Train Loss: 0.6090, Train Acc: 0.7887 - Val Loss: 0.6414, Val Acc: 0.7812\n",
            "Epoch 25/70 - Learning Rate: 0.01\n"
          ]
        },
        {
          "output_type": "stream",
          "name": "stderr",
          "text": [
            "Epoch 25/70 (Training): 100%|██████████| 313/313 [01:56<00:00,  2.68it/s]\n",
            "Epoch 25/70 (Validation): 100%|██████████| 79/79 [00:14<00:00,  5.36it/s]\n"
          ]
        },
        {
          "output_type": "stream",
          "name": "stdout",
          "text": [
            "Epoch 25/70 - Train Loss: 0.6047, Train Acc: 0.7901 - Val Loss: 0.6237, Val Acc: 0.7856\n",
            "Epoch 26/70 - Learning Rate: 0.01\n"
          ]
        },
        {
          "output_type": "stream",
          "name": "stderr",
          "text": [
            "Epoch 26/70 (Training): 100%|██████████| 313/313 [01:57<00:00,  2.67it/s]\n",
            "Epoch 26/70 (Validation): 100%|██████████| 79/79 [00:14<00:00,  5.42it/s]\n"
          ]
        },
        {
          "output_type": "stream",
          "name": "stdout",
          "text": [
            "Epoch 26/70 - Train Loss: 0.5929, Train Acc: 0.7962 - Val Loss: 0.6218, Val Acc: 0.7904\n",
            "Epoch 27/70 - Learning Rate: 0.01\n"
          ]
        },
        {
          "output_type": "stream",
          "name": "stderr",
          "text": [
            "Epoch 27/70 (Training): 100%|██████████| 313/313 [01:56<00:00,  2.68it/s]\n",
            "Epoch 27/70 (Validation): 100%|██████████| 79/79 [00:15<00:00,  5.17it/s]\n"
          ]
        },
        {
          "output_type": "stream",
          "name": "stdout",
          "text": [
            "Epoch 27/70 - Train Loss: 0.5772, Train Acc: 0.8023 - Val Loss: 0.6295, Val Acc: 0.7857\n",
            "Epoch 28/70 - Learning Rate: 0.01\n"
          ]
        },
        {
          "output_type": "stream",
          "name": "stderr",
          "text": [
            "Epoch 28/70 (Training): 100%|██████████| 313/313 [01:56<00:00,  2.68it/s]\n",
            "Epoch 28/70 (Validation): 100%|██████████| 79/79 [00:14<00:00,  5.37it/s]\n"
          ]
        },
        {
          "output_type": "stream",
          "name": "stdout",
          "text": [
            "Epoch 28/70 - Train Loss: 0.5734, Train Acc: 0.8034 - Val Loss: 0.6180, Val Acc: 0.7923\n",
            "Epoch 29/70 - Learning Rate: 0.01\n"
          ]
        },
        {
          "output_type": "stream",
          "name": "stderr",
          "text": [
            "Epoch 29/70 (Training): 100%|██████████| 313/313 [01:57<00:00,  2.67it/s]\n",
            "Epoch 29/70 (Validation): 100%|██████████| 79/79 [00:14<00:00,  5.39it/s]\n"
          ]
        },
        {
          "output_type": "stream",
          "name": "stdout",
          "text": [
            "Epoch 29/70 - Train Loss: 0.5708, Train Acc: 0.8052 - Val Loss: 0.5655, Val Acc: 0.8040\n",
            "Epoch 30/70 - Learning Rate: 0.01\n"
          ]
        },
        {
          "output_type": "stream",
          "name": "stderr",
          "text": [
            "Epoch 30/70 (Training): 100%|██████████| 313/313 [01:56<00:00,  2.70it/s]\n"
          ]
        },
        {
          "output_type": "stream",
          "name": "stdout",
          "text": [
            "Entire model saved to checkpoint_epoch_30.pth\n"
          ]
        },
        {
          "output_type": "stream",
          "name": "stderr",
          "text": [
            "Epoch 30/70 (Validation): 100%|██████████| 79/79 [00:16<00:00,  4.82it/s]\n"
          ]
        },
        {
          "output_type": "stream",
          "name": "stdout",
          "text": [
            "Epoch 30/70 - Train Loss: 0.5616, Train Acc: 0.8079 - Val Loss: 0.5948, Val Acc: 0.7971\n",
            "Epoch 31/70 - Learning Rate: 0.01\n"
          ]
        },
        {
          "output_type": "stream",
          "name": "stderr",
          "text": [
            "Epoch 31/70 (Training): 100%|██████████| 313/313 [01:56<00:00,  2.69it/s]\n",
            "Epoch 31/70 (Validation): 100%|██████████| 79/79 [00:14<00:00,  5.36it/s]\n"
          ]
        },
        {
          "output_type": "stream",
          "name": "stdout",
          "text": [
            "Epoch 31/70 - Train Loss: 0.5502, Train Acc: 0.8129 - Val Loss: 0.5774, Val Acc: 0.8021\n",
            "Epoch 32/70 - Learning Rate: 0.01\n"
          ]
        },
        {
          "output_type": "stream",
          "name": "stderr",
          "text": [
            "Epoch 32/70 (Training): 100%|██████████| 313/313 [01:58<00:00,  2.64it/s]\n",
            "Epoch 32/70 (Validation): 100%|██████████| 79/79 [00:14<00:00,  5.41it/s]\n"
          ]
        },
        {
          "output_type": "stream",
          "name": "stdout",
          "text": [
            "Epoch 32/70 - Train Loss: 0.5504, Train Acc: 0.8101 - Val Loss: 0.5797, Val Acc: 0.7971\n",
            "Epoch 33/70 - Learning Rate: 0.01\n"
          ]
        },
        {
          "output_type": "stream",
          "name": "stderr",
          "text": [
            "Epoch 33/70 (Training): 100%|██████████| 313/313 [01:55<00:00,  2.71it/s]\n",
            "Epoch 33/70 (Validation): 100%|██████████| 79/79 [00:16<00:00,  4.82it/s]\n"
          ]
        },
        {
          "output_type": "stream",
          "name": "stdout",
          "text": [
            "Epoch 33/70 - Train Loss: 0.5493, Train Acc: 0.8105 - Val Loss: 0.5840, Val Acc: 0.8017\n",
            "Epoch 34/70 - Learning Rate: 0.01\n"
          ]
        },
        {
          "output_type": "stream",
          "name": "stderr",
          "text": [
            "Epoch 34/70 (Training): 100%|██████████| 313/313 [01:56<00:00,  2.70it/s]\n",
            "Epoch 34/70 (Validation): 100%|██████████| 79/79 [00:14<00:00,  5.43it/s]\n"
          ]
        },
        {
          "output_type": "stream",
          "name": "stdout",
          "text": [
            "Epoch 34/70 - Train Loss: 0.5359, Train Acc: 0.8162 - Val Loss: 0.5610, Val Acc: 0.8079\n",
            "Epoch 35/70 - Learning Rate: 0.01\n"
          ]
        },
        {
          "output_type": "stream",
          "name": "stderr",
          "text": [
            "Epoch 35/70 (Training): 100%|██████████| 313/313 [01:57<00:00,  2.66it/s]\n",
            "Epoch 35/70 (Validation): 100%|██████████| 79/79 [00:14<00:00,  5.41it/s]\n"
          ]
        },
        {
          "output_type": "stream",
          "name": "stdout",
          "text": [
            "Epoch 35/70 - Train Loss: 0.5299, Train Acc: 0.8176 - Val Loss: 0.6838, Val Acc: 0.7715\n",
            "Epoch 36/70 - Learning Rate: 0.01\n"
          ]
        },
        {
          "output_type": "stream",
          "name": "stderr",
          "text": [
            "Epoch 36/70 (Training): 100%|██████████| 313/313 [01:56<00:00,  2.70it/s]\n",
            "Epoch 36/70 (Validation): 100%|██████████| 79/79 [00:16<00:00,  4.65it/s]\n"
          ]
        },
        {
          "output_type": "stream",
          "name": "stdout",
          "text": [
            "Epoch 36/70 - Train Loss: 0.5280, Train Acc: 0.8190 - Val Loss: 0.6376, Val Acc: 0.7880\n",
            "Epoch 37/70 - Learning Rate: 0.01\n"
          ]
        },
        {
          "output_type": "stream",
          "name": "stderr",
          "text": [
            "Epoch 37/70 (Training): 100%|██████████| 313/313 [01:56<00:00,  2.70it/s]\n",
            "Epoch 37/70 (Validation): 100%|██████████| 79/79 [00:14<00:00,  5.37it/s]\n"
          ]
        },
        {
          "output_type": "stream",
          "name": "stdout",
          "text": [
            "Epoch 37/70 - Train Loss: 0.5209, Train Acc: 0.8203 - Val Loss: 0.5866, Val Acc: 0.7971\n",
            "Epoch 38/70 - Learning Rate: 0.01\n"
          ]
        },
        {
          "output_type": "stream",
          "name": "stderr",
          "text": [
            "Epoch 38/70 (Training): 100%|██████████| 313/313 [01:57<00:00,  2.66it/s]\n",
            "Epoch 38/70 (Validation): 100%|██████████| 79/79 [00:14<00:00,  5.39it/s]\n"
          ]
        },
        {
          "output_type": "stream",
          "name": "stdout",
          "text": [
            "Epoch 38/70 - Train Loss: 0.5172, Train Acc: 0.8203 - Val Loss: 0.6072, Val Acc: 0.7934\n",
            "Epoch 39/70 - Learning Rate: 0.01\n"
          ]
        },
        {
          "output_type": "stream",
          "name": "stderr",
          "text": [
            "Epoch 39/70 (Training): 100%|██████████| 313/313 [01:55<00:00,  2.70it/s]\n",
            "Epoch 39/70 (Validation): 100%|██████████| 79/79 [00:16<00:00,  4.77it/s]\n"
          ]
        },
        {
          "output_type": "stream",
          "name": "stdout",
          "text": [
            "Epoch 39/70 - Train Loss: 0.5152, Train Acc: 0.8241 - Val Loss: 0.5513, Val Acc: 0.8087\n",
            "Epoch 40/70 - Learning Rate: 0.01\n"
          ]
        },
        {
          "output_type": "stream",
          "name": "stderr",
          "text": [
            "Epoch 40/70 (Training): 100%|██████████| 313/313 [01:57<00:00,  2.67it/s]\n"
          ]
        },
        {
          "output_type": "stream",
          "name": "stdout",
          "text": [
            "Entire model saved to checkpoint_epoch_40.pth\n"
          ]
        },
        {
          "output_type": "stream",
          "name": "stderr",
          "text": [
            "Epoch 40/70 (Validation): 100%|██████████| 79/79 [00:14<00:00,  5.47it/s]\n"
          ]
        },
        {
          "output_type": "stream",
          "name": "stdout",
          "text": [
            "Epoch 40/70 - Train Loss: 0.5118, Train Acc: 0.8239 - Val Loss: 0.5788, Val Acc: 0.7984\n",
            "Epoch 41/70 - Learning Rate: 0.005\n"
          ]
        },
        {
          "output_type": "stream",
          "name": "stderr",
          "text": [
            "Epoch 41/70 (Training): 100%|██████████| 313/313 [01:56<00:00,  2.68it/s]\n",
            "Epoch 41/70 (Validation): 100%|██████████| 79/79 [00:14<00:00,  5.39it/s]\n"
          ]
        },
        {
          "output_type": "stream",
          "name": "stdout",
          "text": [
            "Epoch 41/70 - Train Loss: 0.4645, Train Acc: 0.8390 - Val Loss: 0.5084, Val Acc: 0.8254\n",
            "Epoch 42/70 - Learning Rate: 0.005\n"
          ]
        },
        {
          "output_type": "stream",
          "name": "stderr",
          "text": [
            "Epoch 42/70 (Training): 100%|██████████| 313/313 [01:55<00:00,  2.71it/s]\n",
            "Epoch 42/70 (Validation): 100%|██████████| 79/79 [00:16<00:00,  4.87it/s]\n"
          ]
        },
        {
          "output_type": "stream",
          "name": "stdout",
          "text": [
            "Epoch 42/70 - Train Loss: 0.4538, Train Acc: 0.8439 - Val Loss: 0.5385, Val Acc: 0.8110\n",
            "Epoch 43/70 - Learning Rate: 0.005\n"
          ]
        },
        {
          "output_type": "stream",
          "name": "stderr",
          "text": [
            "Epoch 43/70 (Training): 100%|██████████| 313/313 [01:55<00:00,  2.70it/s]\n",
            "Epoch 43/70 (Validation): 100%|██████████| 79/79 [00:14<00:00,  5.30it/s]\n"
          ]
        },
        {
          "output_type": "stream",
          "name": "stdout",
          "text": [
            "Epoch 43/70 - Train Loss: 0.4443, Train Acc: 0.8479 - Val Loss: 0.4976, Val Acc: 0.8300\n",
            "Epoch 44/70 - Learning Rate: 0.005\n"
          ]
        },
        {
          "output_type": "stream",
          "name": "stderr",
          "text": [
            "Epoch 44/70 (Training): 100%|██████████| 313/313 [01:58<00:00,  2.64it/s]\n",
            "Epoch 44/70 (Validation): 100%|██████████| 79/79 [00:14<00:00,  5.35it/s]\n"
          ]
        },
        {
          "output_type": "stream",
          "name": "stdout",
          "text": [
            "Epoch 44/70 - Train Loss: 0.4421, Train Acc: 0.8481 - Val Loss: 0.4955, Val Acc: 0.8313\n",
            "Epoch 45/70 - Learning Rate: 0.005\n"
          ]
        },
        {
          "output_type": "stream",
          "name": "stderr",
          "text": [
            "Epoch 45/70 (Training): 100%|██████████| 313/313 [01:55<00:00,  2.71it/s]\n",
            "Epoch 45/70 (Validation): 100%|██████████| 79/79 [00:14<00:00,  5.38it/s]\n"
          ]
        },
        {
          "output_type": "stream",
          "name": "stdout",
          "text": [
            "Epoch 45/70 - Train Loss: 0.4388, Train Acc: 0.8494 - Val Loss: 0.5168, Val Acc: 0.8204\n",
            "Epoch 46/70 - Learning Rate: 0.005\n"
          ]
        },
        {
          "output_type": "stream",
          "name": "stderr",
          "text": [
            "Epoch 46/70 (Training): 100%|██████████| 313/313 [01:57<00:00,  2.68it/s]\n",
            "Epoch 46/70 (Validation): 100%|██████████| 79/79 [00:14<00:00,  5.39it/s]\n"
          ]
        },
        {
          "output_type": "stream",
          "name": "stdout",
          "text": [
            "Epoch 46/70 - Train Loss: 0.4357, Train Acc: 0.8503 - Val Loss: 0.5183, Val Acc: 0.8228\n",
            "Epoch 47/70 - Learning Rate: 0.005\n"
          ]
        },
        {
          "output_type": "stream",
          "name": "stderr",
          "text": [
            "Epoch 47/70 (Training): 100%|██████████| 313/313 [01:57<00:00,  2.66it/s]\n",
            "Epoch 47/70 (Validation): 100%|██████████| 79/79 [00:14<00:00,  5.37it/s]\n"
          ]
        },
        {
          "output_type": "stream",
          "name": "stdout",
          "text": [
            "Epoch 47/70 - Train Loss: 0.4283, Train Acc: 0.8512 - Val Loss: 0.5057, Val Acc: 0.8278\n",
            "Epoch 48/70 - Learning Rate: 0.005\n"
          ]
        },
        {
          "output_type": "stream",
          "name": "stderr",
          "text": [
            "Epoch 48/70 (Training): 100%|██████████| 313/313 [01:56<00:00,  2.68it/s]\n",
            "Epoch 48/70 (Validation): 100%|██████████| 79/79 [00:14<00:00,  5.36it/s]\n"
          ]
        },
        {
          "output_type": "stream",
          "name": "stdout",
          "text": [
            "Epoch 48/70 - Train Loss: 0.4277, Train Acc: 0.8533 - Val Loss: 0.5116, Val Acc: 0.8269\n",
            "Epoch 49/70 - Learning Rate: 0.005\n"
          ]
        },
        {
          "output_type": "stream",
          "name": "stderr",
          "text": [
            "Epoch 49/70 (Training): 100%|██████████| 313/313 [01:57<00:00,  2.67it/s]\n",
            "Epoch 49/70 (Validation): 100%|██████████| 79/79 [00:14<00:00,  5.35it/s]\n"
          ]
        },
        {
          "output_type": "stream",
          "name": "stdout",
          "text": [
            "Epoch 49/70 - Train Loss: 0.4258, Train Acc: 0.8541 - Val Loss: 0.5561, Val Acc: 0.8165\n",
            "Epoch 50/70 - Learning Rate: 0.005\n"
          ]
        },
        {
          "output_type": "stream",
          "name": "stderr",
          "text": [
            "Epoch 50/70 (Training): 100%|██████████| 313/313 [01:57<00:00,  2.66it/s]\n"
          ]
        },
        {
          "output_type": "stream",
          "name": "stdout",
          "text": [
            "Entire model saved to checkpoint_epoch_50.pth\n"
          ]
        },
        {
          "output_type": "stream",
          "name": "stderr",
          "text": [
            "Epoch 50/70 (Validation): 100%|██████████| 79/79 [00:14<00:00,  5.39it/s]\n"
          ]
        },
        {
          "output_type": "stream",
          "name": "stdout",
          "text": [
            "Epoch 50/70 - Train Loss: 0.4293, Train Acc: 0.8504 - Val Loss: 0.4861, Val Acc: 0.8348\n",
            "Epoch 51/70 - Learning Rate: 0.005\n"
          ]
        },
        {
          "output_type": "stream",
          "name": "stderr",
          "text": [
            "Epoch 51/70 (Training): 100%|██████████| 313/313 [01:56<00:00,  2.68it/s]\n",
            "Epoch 51/70 (Validation): 100%|██████████| 79/79 [00:14<00:00,  5.45it/s]\n"
          ]
        },
        {
          "output_type": "stream",
          "name": "stdout",
          "text": [
            "Epoch 51/70 - Train Loss: 0.4172, Train Acc: 0.8566 - Val Loss: 0.4928, Val Acc: 0.8275\n",
            "Epoch 52/70 - Learning Rate: 0.005\n"
          ]
        },
        {
          "output_type": "stream",
          "name": "stderr",
          "text": [
            "Epoch 52/70 (Training): 100%|██████████| 313/313 [01:58<00:00,  2.65it/s]\n",
            "Epoch 52/70 (Validation): 100%|██████████| 79/79 [00:14<00:00,  5.37it/s]\n"
          ]
        },
        {
          "output_type": "stream",
          "name": "stdout",
          "text": [
            "Epoch 52/70 - Train Loss: 0.4236, Train Acc: 0.8538 - Val Loss: 0.5045, Val Acc: 0.8257\n",
            "Epoch 53/70 - Learning Rate: 0.005\n"
          ]
        },
        {
          "output_type": "stream",
          "name": "stderr",
          "text": [
            "Epoch 53/70 (Training): 100%|██████████| 313/313 [01:57<00:00,  2.66it/s]\n",
            "Epoch 53/70 (Validation): 100%|██████████| 79/79 [00:14<00:00,  5.47it/s]\n"
          ]
        },
        {
          "output_type": "stream",
          "name": "stdout",
          "text": [
            "Epoch 53/70 - Train Loss: 0.4181, Train Acc: 0.8562 - Val Loss: 0.5056, Val Acc: 0.8260\n",
            "Epoch 54/70 - Learning Rate: 0.005\n"
          ]
        },
        {
          "output_type": "stream",
          "name": "stderr",
          "text": [
            "Epoch 54/70 (Training): 100%|██████████| 313/313 [01:56<00:00,  2.69it/s]\n",
            "Epoch 54/70 (Validation): 100%|██████████| 79/79 [00:14<00:00,  5.38it/s]\n"
          ]
        },
        {
          "output_type": "stream",
          "name": "stdout",
          "text": [
            "Epoch 54/70 - Train Loss: 0.4169, Train Acc: 0.8546 - Val Loss: 0.4787, Val Acc: 0.8405\n",
            "Epoch 55/70 - Learning Rate: 0.005\n"
          ]
        },
        {
          "output_type": "stream",
          "name": "stderr",
          "text": [
            "Epoch 55/70 (Training): 100%|██████████| 313/313 [01:58<00:00,  2.64it/s]\n",
            "Epoch 55/70 (Validation): 100%|██████████| 79/79 [00:14<00:00,  5.31it/s]\n"
          ]
        },
        {
          "output_type": "stream",
          "name": "stdout",
          "text": [
            "Epoch 55/70 - Train Loss: 0.4148, Train Acc: 0.8555 - Val Loss: 0.5105, Val Acc: 0.8269\n",
            "Epoch 56/70 - Learning Rate: 0.005\n"
          ]
        },
        {
          "output_type": "stream",
          "name": "stderr",
          "text": [
            "Epoch 56/70 (Training): 100%|██████████| 313/313 [01:57<00:00,  2.67it/s]\n",
            "Epoch 56/70 (Validation): 100%|██████████| 79/79 [00:14<00:00,  5.42it/s]\n"
          ]
        },
        {
          "output_type": "stream",
          "name": "stdout",
          "text": [
            "Epoch 56/70 - Train Loss: 0.4090, Train Acc: 0.8600 - Val Loss: 0.5077, Val Acc: 0.8246\n",
            "Epoch 57/70 - Learning Rate: 0.005\n"
          ]
        },
        {
          "output_type": "stream",
          "name": "stderr",
          "text": [
            "Epoch 57/70 (Training): 100%|██████████| 313/313 [01:55<00:00,  2.71it/s]\n",
            "Epoch 57/70 (Validation): 100%|██████████| 79/79 [00:14<00:00,  5.37it/s]\n"
          ]
        },
        {
          "output_type": "stream",
          "name": "stdout",
          "text": [
            "Epoch 57/70 - Train Loss: 0.4069, Train Acc: 0.8589 - Val Loss: 0.4898, Val Acc: 0.8330\n",
            "Epoch 58/70 - Learning Rate: 0.005\n"
          ]
        },
        {
          "output_type": "stream",
          "name": "stderr",
          "text": [
            "Epoch 58/70 (Training): 100%|██████████| 313/313 [01:57<00:00,  2.67it/s]\n",
            "Epoch 58/70 (Validation): 100%|██████████| 79/79 [00:14<00:00,  5.45it/s]\n"
          ]
        },
        {
          "output_type": "stream",
          "name": "stdout",
          "text": [
            "Epoch 58/70 - Train Loss: 0.4151, Train Acc: 0.8569 - Val Loss: 0.4980, Val Acc: 0.8326\n",
            "Epoch 59/70 - Learning Rate: 0.005\n"
          ]
        },
        {
          "output_type": "stream",
          "name": "stderr",
          "text": [
            "Epoch 59/70 (Training): 100%|██████████| 313/313 [01:58<00:00,  2.63it/s]\n",
            "Epoch 59/70 (Validation): 100%|██████████| 79/79 [00:14<00:00,  5.44it/s]\n"
          ]
        },
        {
          "output_type": "stream",
          "name": "stdout",
          "text": [
            "Epoch 59/70 - Train Loss: 0.4067, Train Acc: 0.8587 - Val Loss: 0.5511, Val Acc: 0.8119\n",
            "Epoch 60/70 - Learning Rate: 0.005\n"
          ]
        },
        {
          "output_type": "stream",
          "name": "stderr",
          "text": [
            "Epoch 60/70 (Training): 100%|██████████| 313/313 [01:55<00:00,  2.71it/s]\n"
          ]
        },
        {
          "output_type": "stream",
          "name": "stdout",
          "text": [
            "Entire model saved to checkpoint_epoch_60.pth\n"
          ]
        },
        {
          "output_type": "stream",
          "name": "stderr",
          "text": [
            "Epoch 60/70 (Validation): 100%|██████████| 79/79 [00:14<00:00,  5.38it/s]\n"
          ]
        },
        {
          "output_type": "stream",
          "name": "stdout",
          "text": [
            "Epoch 60/70 - Train Loss: 0.4113, Train Acc: 0.8581 - Val Loss: 0.5269, Val Acc: 0.8227\n",
            "Epoch 61/70 - Learning Rate: 0.005\n"
          ]
        },
        {
          "output_type": "stream",
          "name": "stderr",
          "text": [
            "Epoch 61/70 (Training): 100%|██████████| 313/313 [01:57<00:00,  2.67it/s]\n",
            "Epoch 61/70 (Validation): 100%|██████████| 79/79 [00:14<00:00,  5.47it/s]\n"
          ]
        },
        {
          "output_type": "stream",
          "name": "stdout",
          "text": [
            "Epoch 61/70 - Train Loss: 0.4063, Train Acc: 0.8600 - Val Loss: 0.4945, Val Acc: 0.8354\n",
            "Epoch 62/70 - Learning Rate: 0.005\n"
          ]
        },
        {
          "output_type": "stream",
          "name": "stderr",
          "text": [
            "Epoch 62/70 (Training): 100%|██████████| 313/313 [01:57<00:00,  2.67it/s]\n",
            "Epoch 62/70 (Validation): 100%|██████████| 79/79 [00:14<00:00,  5.41it/s]\n"
          ]
        },
        {
          "output_type": "stream",
          "name": "stdout",
          "text": [
            "Epoch 62/70 - Train Loss: 0.4034, Train Acc: 0.8620 - Val Loss: 0.5075, Val Acc: 0.8274\n",
            "Epoch 63/70 - Learning Rate: 0.005\n"
          ]
        },
        {
          "output_type": "stream",
          "name": "stderr",
          "text": [
            "Epoch 63/70 (Training): 100%|██████████| 313/313 [01:55<00:00,  2.71it/s]\n",
            "Epoch 63/70 (Validation): 100%|██████████| 79/79 [00:14<00:00,  5.43it/s]\n"
          ]
        },
        {
          "output_type": "stream",
          "name": "stdout",
          "text": [
            "Epoch 63/70 - Train Loss: 0.4067, Train Acc: 0.8592 - Val Loss: 0.4886, Val Acc: 0.8309\n",
            "Epoch 64/70 - Learning Rate: 0.005\n"
          ]
        },
        {
          "output_type": "stream",
          "name": "stderr",
          "text": [
            "Epoch 64/70 (Training): 100%|██████████| 313/313 [01:58<00:00,  2.64it/s]\n",
            "Epoch 64/70 (Validation): 100%|██████████| 79/79 [00:14<00:00,  5.40it/s]\n"
          ]
        },
        {
          "output_type": "stream",
          "name": "stdout",
          "text": [
            "Epoch 64/70 - Train Loss: 0.4076, Train Acc: 0.8601 - Val Loss: 0.4910, Val Acc: 0.8330\n",
            "Epoch 65/70 - Learning Rate: 0.005\n"
          ]
        },
        {
          "output_type": "stream",
          "name": "stderr",
          "text": [
            "Epoch 65/70 (Training): 100%|██████████| 313/313 [01:57<00:00,  2.67it/s]\n",
            "Epoch 65/70 (Validation): 100%|██████████| 79/79 [00:14<00:00,  5.39it/s]\n"
          ]
        },
        {
          "output_type": "stream",
          "name": "stdout",
          "text": [
            "Epoch 65/70 - Train Loss: 0.4031, Train Acc: 0.8613 - Val Loss: 0.4820, Val Acc: 0.8338\n",
            "Epoch 66/70 - Learning Rate: 0.005\n"
          ]
        },
        {
          "output_type": "stream",
          "name": "stderr",
          "text": [
            "Epoch 66/70 (Training): 100%|██████████| 313/313 [01:55<00:00,  2.71it/s]\n",
            "Epoch 66/70 (Validation): 100%|██████████| 79/79 [00:14<00:00,  5.36it/s]\n"
          ]
        },
        {
          "output_type": "stream",
          "name": "stdout",
          "text": [
            "Epoch 66/70 - Train Loss: 0.3998, Train Acc: 0.8633 - Val Loss: 0.4841, Val Acc: 0.8350\n",
            "Epoch 67/70 - Learning Rate: 0.005\n"
          ]
        },
        {
          "output_type": "stream",
          "name": "stderr",
          "text": [
            "Epoch 67/70 (Training): 100%|██████████| 313/313 [01:57<00:00,  2.66it/s]\n",
            "Epoch 67/70 (Validation): 100%|██████████| 79/79 [00:14<00:00,  5.43it/s]\n"
          ]
        },
        {
          "output_type": "stream",
          "name": "stdout",
          "text": [
            "Epoch 67/70 - Train Loss: 0.3969, Train Acc: 0.8620 - Val Loss: 0.4827, Val Acc: 0.8351\n",
            "Epoch 68/70 - Learning Rate: 0.005\n"
          ]
        },
        {
          "output_type": "stream",
          "name": "stderr",
          "text": [
            "Epoch 68/70 (Training): 100%|██████████| 313/313 [01:58<00:00,  2.64it/s]\n",
            "Epoch 68/70 (Validation): 100%|██████████| 79/79 [00:14<00:00,  5.36it/s]\n"
          ]
        },
        {
          "output_type": "stream",
          "name": "stdout",
          "text": [
            "Epoch 68/70 - Train Loss: 0.3976, Train Acc: 0.8618 - Val Loss: 0.5422, Val Acc: 0.8209\n",
            "Epoch 69/70 - Learning Rate: 0.005\n"
          ]
        },
        {
          "output_type": "stream",
          "name": "stderr",
          "text": [
            "Epoch 69/70 (Training): 100%|██████████| 313/313 [01:55<00:00,  2.71it/s]\n",
            "Epoch 69/70 (Validation): 100%|██████████| 79/79 [00:14<00:00,  5.46it/s]\n"
          ]
        },
        {
          "output_type": "stream",
          "name": "stdout",
          "text": [
            "Epoch 69/70 - Train Loss: 0.3962, Train Acc: 0.8630 - Val Loss: 0.4817, Val Acc: 0.8360\n",
            "Epoch 70/70 - Learning Rate: 0.005\n"
          ]
        },
        {
          "output_type": "stream",
          "name": "stderr",
          "text": [
            "Epoch 70/70 (Training): 100%|██████████| 313/313 [01:57<00:00,  2.67it/s]\n"
          ]
        },
        {
          "output_type": "stream",
          "name": "stdout",
          "text": [
            "Entire model saved to checkpoint_epoch_70.pth\n"
          ]
        },
        {
          "output_type": "stream",
          "name": "stderr",
          "text": [
            "Epoch 70/70 (Validation): 100%|██████████| 79/79 [00:14<00:00,  5.40it/s]\n"
          ]
        },
        {
          "output_type": "stream",
          "name": "stdout",
          "text": [
            "Epoch 70/70 - Train Loss: 0.3951, Train Acc: 0.8636 - Val Loss: 0.4768, Val Acc: 0.8355\n"
          ]
        },
        {
          "output_type": "display_data",
          "data": {
            "text/plain": [
              "<Figure size 640x480 with 1 Axes>"
            ],
            "image/png": "[encoded data removed]"
          },
          "metadata": {}
        },
        {
          "output_type": "display_data",
          "data": {
            "text/plain": [
              "<Figure size 640x480 with 1 Axes>"
            ],
            "image/png": "[encoded data removed]"
          },
          "metadata": {}
        }
      ]
    },
    {
      "cell_type": "code",
      "source": [
        "filename = 'cifar10_model_3.pth'\n",
        "\n",
        "torch.save(model_3.state_dict(), filename)\n",
        "print(f\"Model saved to {filename}\")"
      ],
      "metadata": {
        "id": "xgcfKhVFKncy",
        "colab": {
          "base_uri": "https://localhost:8080/"
        },
        "outputId": "25215610-4e8b-4a70-c6c4-2dab6830d008"
      },
      "execution_count": 14,
      "outputs": [
        {
          "output_type": "stream",
          "name": "stdout",
          "text": [
            "Model saved to cifar10_model_3.pth\n"
          ]
        }
      ]
    },
    {
      "cell_type": "code",
      "source": [
        "# model_2 = torch.load(filename)\n",
        "# model_2.eval()\n",
        "# print(f\"Model loaded from {filename}\")"
      ],
      "metadata": {
        "id": "wAoSj95NKncy"
      },
      "execution_count": 15,
      "outputs": []
    },
    {
      "cell_type": "markdown",
      "source": [
        "## test"
      ],
      "metadata": {
        "id": "_UbyKCEbKncy"
      }
    },
    {
      "cell_type": "code",
      "source": [
        "testloader = DataLoader(testset, batch_size=128, shuffle=False, num_workers=2)\n",
        "test_loss, test_acc = test(model_3, testloader)\n",
        "\n",
        "# Optionally, store these metrics for later analysis\n",
        "history[\"test_loss\"] = test_loss\n",
        "history[\"test_acc\"] = test_acc"
      ],
      "metadata": {
        "id": "4vdHh3BeKncy",
        "colab": {
          "base_uri": "https://localhost:8080/"
        },
        "outputId": "974ebf54-6d58-40d3-c3a7-bf02711cb31b"
      },
      "execution_count": 16,
      "outputs": [
        {
          "output_type": "stream",
          "name": "stderr",
          "text": [
            "Testing: 100%|██████████| 79/79 [00:14<00:00,  5.36it/s]"
          ]
        },
        {
          "output_type": "stream",
          "name": "stdout",
          "text": [
            "Test Loss: 0.4945, Test Accuracy: 0.8295\n"
          ]
        },
        {
          "output_type": "stream",
          "name": "stderr",
          "text": [
            "\n"
          ]
        }
      ]
    },
    {
      "cell_type": "markdown",
      "source": [
        "## statistics\n"
      ],
      "metadata": {
        "id": "CxKZz1iWKncy"
      }
    },
    {
      "cell_type": "code",
      "source": [
        "import seaborn as sns\n",
        "from sklearn.metrics import confusion_matrix\n",
        "\n",
        "model_3.eval()  # Set model to evaluation mode\n",
        "all_labels = []\n",
        "all_preds = []\n",
        "\n",
        "misclassified_images = []\n",
        "misclassified_labels = []\n",
        "misclassified_preds = []\n",
        "\n",
        "with torch.no_grad():\n",
        "    for images, labels in tqdm(testloader, desc=\"Computing Confusion Matrix\"):\n",
        "        images, labels = images.to(DEVICE), labels.to(DEVICE)\n",
        "        outputs = model_3(images)\n",
        "        _, preds = torch.max(outputs, 1)\n",
        "\n",
        "        all_labels.extend(labels.cpu().numpy())  # Collect all true labels\n",
        "        all_preds.extend(preds.cpu().numpy())    # Collect all predictions\n",
        "\n",
        "        # Find misclassified images\n",
        "        incorrect = preds != labels\n",
        "        misclassified_images.extend(images[incorrect].cpu())  # Collect misclassified images\n",
        "        misclassified_labels.extend(labels[incorrect].cpu())  # True labels of misclassified images\n",
        "        misclassified_preds.extend(preds[incorrect].cpu())  # Predicted labels of misclassified images\n",
        "\n"
      ],
      "metadata": {
        "id": "iSN8lBsQKncz",
        "colab": {
          "base_uri": "https://localhost:8080/"
        },
        "outputId": "f4181fa7-472d-401f-a6c2-7492c3eaa976"
      },
      "execution_count": 17,
      "outputs": [
        {
          "output_type": "stream",
          "name": "stderr",
          "text": [
            "Computing Confusion Matrix: 100%|██████████| 79/79 [00:14<00:00,  5.32it/s]\n"
          ]
        }
      ]
    },
    {
      "cell_type": "code",
      "source": [
        "# Compute confusion matrix\n",
        "cm = confusion_matrix(all_labels, all_preds)\n",
        "\n",
        "# Calculate accuracy for each class\n",
        "class_accuracies = np.diag(cm) / cm.sum(axis=1)\n",
        "for i, acc in enumerate(class_accuracies):\n",
        "    print(f'Accuracy for class {i}: {acc:.2f}')\n",
        "\n",
        "# Plot confusion matrix\n",
        "plt.figure(figsize=(10, 7))\n",
        "sns.heatmap(cm, annot=True, fmt=\"d\", cmap=\"Blues\", xticklabels=testloader.dataset.classes, yticklabels=testloader.dataset.classes)\n",
        "plt.xlabel('Predicted')\n",
        "plt.ylabel('True')\n",
        "plt.title('Confusion Matrix')\n",
        "plt.show()"
      ],
      "metadata": {
        "id": "sTpO2_50Kncz",
        "colab": {
          "base_uri": "https://localhost:8080/",
          "height": 880
        },
        "outputId": "c65b8f7a-beff-4e03-a399-05e9c6f99c58"
      },
      "execution_count": 18,
      "outputs": [
        {
          "output_type": "stream",
          "name": "stdout",
          "text": [
            "Accuracy for class 0: 0.85\n",
            "Accuracy for class 1: 0.89\n",
            "Accuracy for class 2: 0.74\n",
            "Accuracy for class 3: 0.69\n",
            "Accuracy for class 4: 0.85\n",
            "Accuracy for class 5: 0.75\n",
            "Accuracy for class 6: 0.87\n",
            "Accuracy for class 7: 0.89\n",
            "Accuracy for class 8: 0.92\n",
            "Accuracy for class 9: 0.88\n"
          ]
        },
        {
          "output_type": "display_data",
          "data": {
            "text/plain": [
              "<Figure size 1000x700 with 2 Axes>"
            ],
            "image/png": "[encoded data removed]"
          },
          "metadata": {}
        }
      ]
    }
  ],
  "metadata": {
    "colab": {
      "collapsed_sections": [
        "nm_KsFraeQNa",
        "C8jpPOMUeesL",
        "AosnHQ_ojGd7",
        "BrJWWa_JjUTk",
        "_vxerus6q9qy",
        "bWjz0Nerendb",
        "957pzoxDewHM",
        "-xTUj8cKxV60"
      ],
      "provenance": [],
      "authorship_tag": "ABX9TyNXxCIfXDENRI93k09jwA3/",
      "include_colab_link": true
    },
    "kernelspec": {
      "display_name": "Python 3",
      "name": "python3"
    },
    "language_info": {
      "name": "python"
    }
  },
  "nbformat": 4,
  "nbformat_minor": 0
}