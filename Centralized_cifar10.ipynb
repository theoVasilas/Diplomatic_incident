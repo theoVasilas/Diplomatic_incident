{
  "cells": [
    {
      "cell_type": "markdown",
      "metadata": {
        "id": "view-in-github",
        "colab_type": "text"
      },
      "source": [
        "<a href=\"https://colab.research.google.com/github/theoVasilas/Diplomatic_incident/blob/Centralized-training/Centralized_cifar10.ipynb\" target=\"_parent\"><img src=\"https://colab.research.google.com/assets/colab-badge.svg\" alt=\"Open In Colab\"/></a>"
      ]
    },
    {
      "cell_type": "markdown",
      "metadata": {
        "id": "nm_KsFraeQNa"
      },
      "source": [
        "# Installations"
      ]
    },
    {
      "cell_type": "code",
      "execution_count": 29,
      "metadata": {
        "colab": {
          "base_uri": "https://localhost:8080/"
        },
        "id": "81QRVoGVe1iY",
        "outputId": "ee13648c-f4d1-41f1-c2d5-541965b5086e"
      },
      "outputs": [
        {
          "output_type": "stream",
          "name": "stdout",
          "text": [
            "Pytorch Version:2.5.1+cu121\n",
            "Training on cpu\n"
          ]
        }
      ],
      "source": [
        "from collections import OrderedDict, Counter\n",
        "from typing import Dict, List, Optional, Tuple\n",
        "\n",
        "import matplotlib.pyplot as plt\n",
        "import numpy as np\n",
        "import torch\n",
        "import torch.nn as nn\n",
        "import torch.nn.functional as F\n",
        "import torchvision.transforms as transforms\n",
        "from torch.utils.data import DataLoader,random_split\n",
        "\n",
        "import torchvision\n",
        "from torch.utils.data import DataLoader\n",
        "import torch.optim as optim\n",
        "import time\n",
        "import pandas as pd\n",
        "import torchvision.datasets as datasets\n",
        "from IPython import display\n",
        "print(f\"Pytorch Version:{torch.__version__}\")\n",
        "\n",
        "DEVICE = torch.device(\"cpu\")  # Try \"cuda\" to train on GPU\n",
        "print(f\"Training on {DEVICE}\")\n"
      ]
    },
    {
      "cell_type": "markdown",
      "metadata": {
        "id": "C8jpPOMUeesL"
      },
      "source": [
        "# Dataloader\n"
      ]
    },
    {
      "cell_type": "code",
      "source": [
        "transform = transforms.Compose([transforms.ToTensor()])\n",
        "trainset = torchvision.datasets.CIFAR10(root='./data', train=True, download=True, transform=transform)\n",
        "trainloader = DataLoader(trainset, batch_size=50000, shuffle=False)\n",
        "\n",
        "# Get all images in the training set\n",
        "data = next(iter(trainloader))[0]  # Images only (shape: [50000, 3, 32, 32])\n",
        "\n",
        "# Calculate mean and std for each channel\n",
        "mean = data.mean(dim=[0, 2, 3])  # Mean across batches, height, and width\n",
        "std = data.std(dim=[0, 2, 3])    # Std across batches, height, and width\n",
        "\n",
        "print(f\"Mean: {mean}, Std: {std}\")"
      ],
      "metadata": {
        "colab": {
          "base_uri": "https://localhost:8080/"
        },
        "id": "7eobCZxaRFct",
        "outputId": "f2a21ff5-6073-42e5-bed5-a18c93016c45"
      },
      "execution_count": 30,
      "outputs": [
        {
          "output_type": "stream",
          "name": "stdout",
          "text": [
            "Files already downloaded and verified\n",
            "Mean: tensor([0.4914, 0.4822, 0.4465]), Std: tensor([0.2470, 0.2435, 0.2616])\n"
          ]
        }
      ]
    },
    {
      "cell_type": "code",
      "source": [
        "transform = transforms.Compose([\n",
        "    transforms.RandomCrop(32, padding=4),  # Data augmentation: random cropping\n",
        "    transforms.RandomHorizontalFlip(),    # Data augmentation: random horizontal flip\n",
        "    transforms.ToTensor(),\n",
        "    transforms.Normalize(mean, std)  # Normalize with CIFAR-10 stats\n",
        "])\n",
        "\n",
        "trainset = torchvision.datasets.CIFAR10(root='./data', train=True, download=True, transform=transform)\n",
        "\n",
        "train_size = int(0.8 * len(trainset))  # 80% of the dataset for training\n",
        "val_size = len(trainset) - train_size  # Remaining 20% for validation\n",
        "\n",
        "train_subset, val_subset = random_split(trainset, [train_size, val_size])\n",
        "\n",
        "trainloader = DataLoader(train_subset, batch_size=128, shuffle=True, num_workers=2)\n",
        "valloader = DataLoader(val_subset, batch_size=128, shuffle=False, num_workers=2)\n",
        "\n",
        "testset = torchvision.datasets.CIFAR10(root='./data', train=False, download=True, transform=transform)\n",
        "testloader = DataLoader(testset, batch_size=128, shuffle=False, num_workers=2)\n",
        "\n",
        "print(f\"Training samples: {len(trainloader.dataset)}\")\n",
        "print(f\"Validation samples: {len(valloader.dataset)}\")\n",
        "print(f\"Test samples: {len(testloader.dataset)}\")\n"
      ],
      "metadata": {
        "colab": {
          "base_uri": "https://localhost:8080/"
        },
        "id": "YS9CwvZB3wnO",
        "outputId": "2a6f0ff7-3b4e-4939-9180-f9e4ffe17030"
      },
      "execution_count": 31,
      "outputs": [
        {
          "output_type": "stream",
          "name": "stdout",
          "text": [
            "Files already downloaded and verified\n",
            "Files already downloaded and verified\n",
            "Training samples: 40000\n",
            "Validation samples: 10000\n",
            "Test samples: 10000\n"
          ]
        }
      ]
    },
    {
      "cell_type": "code",
      "source": [
        "print(\"CIFAR-10 Classes:\", trainset.classes)"
      ],
      "metadata": {
        "id": "UyF-aKWPAI1w",
        "colab": {
          "base_uri": "https://localhost:8080/"
        },
        "outputId": "886b8d5f-26d7-41df-91cf-e9f8938ce5d3"
      },
      "execution_count": 32,
      "outputs": [
        {
          "output_type": "stream",
          "name": "stdout",
          "text": [
            "CIFAR-10 Classes: ['airplane', 'automobile', 'bird', 'cat', 'deer', 'dog', 'frog', 'horse', 'ship', 'truck']\n"
          ]
        }
      ]
    },
    {
      "cell_type": "markdown",
      "metadata": {
        "id": "bWjz0Nerendb"
      },
      "source": [
        "# train test Func\n"
      ]
    },
    {
      "cell_type": "markdown",
      "source": [
        "/+ StepLR scheduler"
      ],
      "metadata": {
        "id": "i3O9LMmsm1Gc"
      }
    },
    {
      "cell_type": "code",
      "source": [
        "from tqdm import tqdm  # For progress bars\n",
        "\n",
        "def train(\n",
        "    net,\n",
        "    trainloader,\n",
        "    valloader,\n",
        "    optimizer,\n",
        "    step_size,\n",
        "    epochs: int,\n",
        "    verbose=False\n",
        "):\n",
        "\n",
        "    criterion = torch.nn.CrossEntropyLoss()\n",
        "    scheduler = torch.optim.lr_scheduler.StepLR(optimizer, step_size=10, gamma=0.5)  # Optional scheduler\n",
        "    history = {\"train_loss\": [], \"train_acc\": [], \"val_loss\": [], \"val_acc\": []}\n",
        "\n",
        "    # Training loop\n",
        "    for epoch in range(epochs):\n",
        "        lr = optimizer.param_groups[0]['lr']\n",
        "        print(f\"Epoch {epoch+1}/{epochs} - Learning Rate: {lr}\")\n",
        "\n",
        "        net.train()\n",
        "        train_loss, train_correct, train_total = 0.0, 0, 0\n",
        "\n",
        "        # Training Phase\n",
        "        for images, labels in tqdm(trainloader, desc=f\"Epoch {epoch+1}/{epochs} (Training)\"):\n",
        "            try:\n",
        "                images, labels = images.to(DEVICE), labels.to(DEVICE)\n",
        "                optimizer.zero_grad()\n",
        "                outputs = net(images)\n",
        "                loss = criterion(outputs, labels)\n",
        "                loss.backward()\n",
        "                optimizer.step()\n",
        "\n",
        "                # Metrics\n",
        "                train_loss += loss.item()\n",
        "                train_total += labels.size(0)\n",
        "                predictions = torch.argmax(outputs, dim=1)\n",
        "                train_correct += (predictions == labels).sum().item()\n",
        "            except Exception as e:\n",
        "                print(f\"Error in training step: {e}\")\n",
        "\n",
        "        # if (epoch + 1) % 10 == 0:\n",
        "        #     filename = f'checkpoint_epoch_{epoch+1}.pth'\n",
        "        #     torch.save(net, filename)\n",
        "        #     print(f\"Entire model saved to {filename}\")\n",
        "\n",
        "        # Compute averages\n",
        "        train_loss /= len(trainloader)\n",
        "        train_acc = train_correct / train_total\n",
        "\n",
        "        # Validation Phase\n",
        "        net.eval()\n",
        "        val_loss, val_correct, val_total = 0.0, 0, 0\n",
        "        with torch.no_grad():\n",
        "            for images, labels in tqdm(valloader, desc=f\"Epoch {epoch+1}/{epochs} (Validation)\"):\n",
        "                try:\n",
        "                    images, labels = images.to(DEVICE), labels.to(DEVICE)\n",
        "                    outputs = net(images)\n",
        "                    loss = criterion(outputs, labels)\n",
        "\n",
        "                    # Metrics\n",
        "                    val_loss += loss.item()\n",
        "                    val_total += labels.size(0)\n",
        "                    predictions = torch.argmax(outputs, dim=1)\n",
        "                    val_correct += (predictions == labels).sum().item()\n",
        "                except Exception as e:\n",
        "                    print(f\"Error in validation step: {e}\")\n",
        "\n",
        "        # Compute averages\n",
        "        val_loss /= len(valloader)\n",
        "        val_acc = val_correct / val_total\n",
        "\n",
        "        # Step the scheduler\n",
        "        scheduler.step()\n",
        "\n",
        "        # Save metrics to history\n",
        "        history[\"train_loss\"].append(train_loss)\n",
        "        history[\"train_acc\"].append(train_acc)\n",
        "        history[\"val_loss\"].append(val_loss)\n",
        "        history[\"val_acc\"].append(val_acc)\n",
        "\n",
        "        # Verbose logging\n",
        "        if verbose:\n",
        "            print(\n",
        "                f\"Epoch {epoch+1}/{epochs} \"\n",
        "                f\"- Train Loss: {train_loss:.4f}, Train Acc: {train_acc:.4f} \"\n",
        "                f\"- Val Loss: {val_loss:.4f}, Val Acc: {val_acc:.4f}\"\n",
        "            )\n",
        "\n",
        "        if val_acc >= 0.90:\n",
        "              print(f\"Early stopping: Validation accuracy reached {accuracy_threshold*100}%\")\n",
        "              break\n",
        "\n",
        "    return history\n"
      ],
      "metadata": {
        "id": "7Ec7smIMIR_I"
      },
      "execution_count": 59,
      "outputs": []
    },
    {
      "cell_type": "code",
      "source": [
        "def test(net, testloader):\n",
        "    criterion = torch.nn.CrossEntropyLoss()\n",
        "    net.eval()  # Set the model to evaluation mode\n",
        "    test_loss, test_correct, test_total = 0.0, 0, 0\n",
        "\n",
        "    with torch.no_grad():  # No gradient calculation during testing\n",
        "        for images, labels in tqdm(testloader, desc=\"Testing\"):\n",
        "            try:\n",
        "                images, labels = images.to(DEVICE), labels.to(DEVICE)\n",
        "                outputs = net(images)\n",
        "                loss = criterion(outputs, labels)\n",
        "\n",
        "                # Metrics\n",
        "                test_loss += loss.item()\n",
        "                test_total += labels.size(0)\n",
        "                predictions = torch.argmax(outputs, dim=1)\n",
        "                test_correct += (predictions == labels).sum().item()\n",
        "            except Exception as e:\n",
        "                print(f\"Error in testing step: {e}\")\n",
        "\n",
        "    # Compute averages\n",
        "    test_loss /= len(testloader)\n",
        "    test_acc = test_correct / test_total\n",
        "\n",
        "    print(f\"Test Loss: {test_loss:.4f}, Test Accuracy: {test_acc:.4f}\")\n",
        "\n",
        "    return test_loss, test_acc\n"
      ],
      "metadata": {
        "id": "Rbx31yqkMWyn"
      },
      "execution_count": 34,
      "outputs": []
    },
    {
      "cell_type": "markdown",
      "metadata": {
        "id": "BrJWWa_JjUTk"
      },
      "source": [
        "# Model 1"
      ]
    },
    {
      "cell_type": "code",
      "execution_count": 55,
      "metadata": {
        "id": "zo5PCprRixcB"
      },
      "outputs": [],
      "source": [
        "class Net(nn.Module):\n",
        "    def __init__(self) -> None:\n",
        "        super(Net, self).__init__()\n",
        "        self.conv1 = nn.Conv2d(3, 6, 5)\n",
        "        self.pool = nn.MaxPool2d(2, 2)\n",
        "        self.conv2 = nn.Conv2d(6, 16, 5)\n",
        "        self.fc1 = nn.Linear(16 * 5 * 5, 120)\n",
        "        self.fc2 = nn.Linear(120, 84)\n",
        "        self.fc3 = nn.Linear(84, 10)\n",
        "\n",
        "    def forward(self, x: torch.Tensor) -> torch.Tensor:\n",
        "        x = self.pool(F.relu(self.conv1(x)))\n",
        "        x = self.pool(F.relu(self.conv2(x)))\n",
        "        x = x.view(-1, 16 * 5 * 5)\n",
        "        x = F.relu(self.fc1(x))\n",
        "        x = F.relu(self.fc2(x))\n",
        "        x = self.fc3(x)\n",
        "        return x\n",
        "\n",
        "    def reset(self):\n",
        "      for layer in self.children():\n",
        "        if isinstance(layer, nn.Conv2d) or isinstance(layer, nn.Linear):\n",
        "          layer.reset_parameters()"
      ]
    },
    {
      "cell_type": "code",
      "execution_count": 56,
      "metadata": {
        "id": "hBSI1-6bka1b",
        "colab": {
          "base_uri": "https://localhost:8080/"
        },
        "outputId": "78235aab-a92e-4f5c-b166-ab5c2e0593e9"
      },
      "outputs": [
        {
          "output_type": "stream",
          "name": "stdout",
          "text": [
            "num_parameters = 62006\n"
          ]
        }
      ],
      "source": [
        "model = Net()\n",
        "num_parameters = sum(value.numel() for value in model.state_dict().values())\n",
        "print(f\"{num_parameters = }\")"
      ]
    },
    {
      "cell_type": "markdown",
      "metadata": {
        "id": "957pzoxDewHM"
      },
      "source": [
        "## Run"
      ]
    },
    {
      "cell_type": "code",
      "source": [
        "DEVICE = torch.device(\"cuda\" if torch.cuda.is_available() else \"cpu\")\n",
        "\n",
        "model.reset()  # Reset the model\n",
        "\n",
        "model = Net().to(DEVICE)\n",
        "\n",
        "# optimizer = torch.optim.Adam(model.parameters(), lr=0.01)\n",
        "optimizer = torch.optim.SGD(model.parameters(), lr=0.01, momentum=0.9, weight_decay=5e-4)\n",
        "\n",
        "history = train(model, trainloader, valloader, optimizer,step_size=25 , epochs=50, verbose=True)\n",
        "\n",
        "plt.plot(history[\"train_loss\"], label=\"Train Loss\")\n",
        "plt.plot(history[\"val_loss\"], label=\"Val Loss\")\n",
        "plt.xlabel(\"Epochs\")\n",
        "plt.ylabel(\"Loss\")\n",
        "plt.legend()\n",
        "plt.show()\n",
        "\n",
        "plt.plot(history[\"train_acc\"], label=\"Train Accuracy\")\n",
        "plt.plot(history[\"val_acc\"], label=\"Val Accuracy\")\n",
        "plt.xlabel(\"Epochs\")\n",
        "plt.ylabel(\"Accuracy\")\n",
        "plt.legend()\n",
        "plt.show()"
      ],
      "metadata": {
        "id": "_dZ4nyl2Ii6p",
        "colab": {
          "base_uri": "https://localhost:8080/",
          "height": 1000
        },
        "outputId": "5b318f55-ffea-4840-bb4a-3d6b619e373c"
      },
      "execution_count": 60,
      "outputs": [
        {
          "output_type": "stream",
          "name": "stdout",
          "text": [
            "Epoch 1/50 - Learning Rate: 0.01\n"
          ]
        },
        {
          "output_type": "stream",
          "name": "stderr",
          "text": [
            "Epoch 1/50 (Training): 100%|██████████| 313/313 [00:30<00:00, 10.17it/s]\n",
            "Epoch 1/50 (Validation): 100%|██████████| 79/79 [00:04<00:00, 16.36it/s]\n"
          ]
        },
        {
          "output_type": "stream",
          "name": "stdout",
          "text": [
            "Epoch 1/50 - Train Loss: 2.0288, Train Acc: 0.2441 - Val Loss: 1.7942, Val Acc: 0.3409\n",
            "Epoch 2/50 - Learning Rate: 0.01\n"
          ]
        },
        {
          "output_type": "stream",
          "name": "stderr",
          "text": [
            "Epoch 2/50 (Training): 100%|██████████| 313/313 [00:25<00:00, 12.20it/s]\n",
            "Epoch 2/50 (Validation): 100%|██████████| 79/79 [00:04<00:00, 16.81it/s]\n"
          ]
        },
        {
          "output_type": "stream",
          "name": "stdout",
          "text": [
            "Epoch 2/50 - Train Loss: 1.6740, Train Acc: 0.3766 - Val Loss: 1.5920, Val Acc: 0.4030\n",
            "Epoch 3/50 - Learning Rate: 0.01\n"
          ]
        },
        {
          "output_type": "stream",
          "name": "stderr",
          "text": [
            "Epoch 3/50 (Training): 100%|██████████| 313/313 [00:25<00:00, 12.21it/s]\n",
            "Epoch 3/50 (Validation): 100%|██████████| 79/79 [00:04<00:00, 16.97it/s]\n"
          ]
        },
        {
          "output_type": "stream",
          "name": "stdout",
          "text": [
            "Epoch 3/50 - Train Loss: 1.5494, Train Acc: 0.4333 - Val Loss: 1.4711, Val Acc: 0.4634\n",
            "Epoch 4/50 - Learning Rate: 0.01\n"
          ]
        },
        {
          "output_type": "stream",
          "name": "stderr",
          "text": [
            "Epoch 4/50 (Training): 100%|██████████| 313/313 [00:25<00:00, 12.18it/s]\n",
            "Epoch 4/50 (Validation): 100%|██████████| 79/79 [00:04<00:00, 16.85it/s]\n"
          ]
        },
        {
          "output_type": "stream",
          "name": "stdout",
          "text": [
            "Epoch 4/50 - Train Loss: 1.4389, Train Acc: 0.4793 - Val Loss: 1.4769, Val Acc: 0.4812\n",
            "Epoch 5/50 - Learning Rate: 0.01\n"
          ]
        },
        {
          "output_type": "stream",
          "name": "stderr",
          "text": [
            "Epoch 5/50 (Training): 100%|██████████| 313/313 [00:25<00:00, 12.37it/s]\n",
            "Epoch 5/50 (Validation): 100%|██████████| 79/79 [00:04<00:00, 17.07it/s]\n"
          ]
        },
        {
          "output_type": "stream",
          "name": "stdout",
          "text": [
            "Epoch 5/50 - Train Loss: 1.3684, Train Acc: 0.5090 - Val Loss: 1.3239, Val Acc: 0.5211\n",
            "Epoch 6/50 - Learning Rate: 0.01\n"
          ]
        },
        {
          "output_type": "stream",
          "name": "stderr",
          "text": [
            "Epoch 6/50 (Training): 100%|██████████| 313/313 [00:28<00:00, 11.16it/s]\n",
            "Epoch 6/50 (Validation): 100%|██████████| 79/79 [00:04<00:00, 17.20it/s]\n"
          ]
        },
        {
          "output_type": "stream",
          "name": "stdout",
          "text": [
            "Epoch 6/50 - Train Loss: 1.3225, Train Acc: 0.5269 - Val Loss: 1.3845, Val Acc: 0.5054\n",
            "Epoch 7/50 - Learning Rate: 0.01\n"
          ]
        },
        {
          "output_type": "stream",
          "name": "stderr",
          "text": [
            "Epoch 7/50 (Training): 100%|██████████| 313/313 [00:25<00:00, 12.49it/s]\n",
            "Epoch 7/50 (Validation): 100%|██████████| 79/79 [00:04<00:00, 16.66it/s]\n"
          ]
        },
        {
          "output_type": "stream",
          "name": "stdout",
          "text": [
            "Epoch 7/50 - Train Loss: 1.2728, Train Acc: 0.5458 - Val Loss: 1.2947, Val Acc: 0.5362\n",
            "Epoch 8/50 - Learning Rate: 0.01\n"
          ]
        },
        {
          "output_type": "stream",
          "name": "stderr",
          "text": [
            "Epoch 8/50 (Training): 100%|██████████| 313/313 [00:23<00:00, 13.08it/s]\n",
            "Epoch 8/50 (Validation): 100%|██████████| 79/79 [00:05<00:00, 13.36it/s]\n"
          ]
        },
        {
          "output_type": "stream",
          "name": "stdout",
          "text": [
            "Epoch 8/50 - Train Loss: 1.2291, Train Acc: 0.5603 - Val Loss: 1.2665, Val Acc: 0.5471\n",
            "Epoch 9/50 - Learning Rate: 0.01\n"
          ]
        },
        {
          "output_type": "stream",
          "name": "stderr",
          "text": [
            "Epoch 9/50 (Training): 100%|██████████| 313/313 [00:26<00:00, 11.76it/s]\n",
            "Epoch 9/50 (Validation): 100%|██████████| 79/79 [00:04<00:00, 16.61it/s]\n"
          ]
        },
        {
          "output_type": "stream",
          "name": "stdout",
          "text": [
            "Epoch 9/50 - Train Loss: 1.2095, Train Acc: 0.5708 - Val Loss: 1.2183, Val Acc: 0.5745\n",
            "Epoch 10/50 - Learning Rate: 0.01\n"
          ]
        },
        {
          "output_type": "stream",
          "name": "stderr",
          "text": [
            "Epoch 10/50 (Training): 100%|██████████| 313/313 [00:24<00:00, 13.03it/s]\n",
            "Epoch 10/50 (Validation): 100%|██████████| 79/79 [00:06<00:00, 13.16it/s]\n"
          ]
        },
        {
          "output_type": "stream",
          "name": "stdout",
          "text": [
            "Epoch 10/50 - Train Loss: 1.1798, Train Acc: 0.5789 - Val Loss: 1.1926, Val Acc: 0.5772\n",
            "Epoch 11/50 - Learning Rate: 0.005\n"
          ]
        },
        {
          "output_type": "stream",
          "name": "stderr",
          "text": [
            "Epoch 11/50 (Training): 100%|██████████| 313/313 [00:23<00:00, 13.27it/s]\n",
            "Epoch 11/50 (Validation): 100%|██████████| 79/79 [00:06<00:00, 11.98it/s]\n"
          ]
        },
        {
          "output_type": "stream",
          "name": "stdout",
          "text": [
            "Epoch 11/50 - Train Loss: 1.1170, Train Acc: 0.6043 - Val Loss: 1.1904, Val Acc: 0.5737\n",
            "Epoch 12/50 - Learning Rate: 0.005\n"
          ]
        },
        {
          "output_type": "stream",
          "name": "stderr",
          "text": [
            "Epoch 12/50 (Training): 100%|██████████| 313/313 [00:23<00:00, 13.38it/s]\n",
            "Epoch 12/50 (Validation): 100%|██████████| 79/79 [00:07<00:00, 11.23it/s]\n"
          ]
        },
        {
          "output_type": "stream",
          "name": "stdout",
          "text": [
            "Epoch 12/50 - Train Loss: 1.0936, Train Acc: 0.6103 - Val Loss: 1.1753, Val Acc: 0.5796\n",
            "Epoch 13/50 - Learning Rate: 0.005\n"
          ]
        },
        {
          "output_type": "stream",
          "name": "stderr",
          "text": [
            "Epoch 13/50 (Training): 100%|██████████| 313/313 [00:23<00:00, 13.57it/s]\n",
            "Epoch 13/50 (Validation): 100%|██████████| 79/79 [00:05<00:00, 13.39it/s]\n"
          ]
        },
        {
          "output_type": "stream",
          "name": "stdout",
          "text": [
            "Epoch 13/50 - Train Loss: 1.0808, Train Acc: 0.6152 - Val Loss: 1.1713, Val Acc: 0.5900\n",
            "Epoch 14/50 - Learning Rate: 0.005\n"
          ]
        },
        {
          "output_type": "stream",
          "name": "stderr",
          "text": [
            "Epoch 14/50 (Training): 100%|██████████| 313/313 [00:23<00:00, 13.38it/s]\n",
            "Epoch 14/50 (Validation): 100%|██████████| 79/79 [00:05<00:00, 14.98it/s]\n"
          ]
        },
        {
          "output_type": "stream",
          "name": "stdout",
          "text": [
            "Epoch 14/50 - Train Loss: 1.0768, Train Acc: 0.6177 - Val Loss: 1.1480, Val Acc: 0.5936\n",
            "Epoch 15/50 - Learning Rate: 0.005\n"
          ]
        },
        {
          "output_type": "stream",
          "name": "stderr",
          "text": [
            "Epoch 15/50 (Training): 100%|██████████| 313/313 [00:27<00:00, 11.48it/s]\n",
            "Epoch 15/50 (Validation): 100%|██████████| 79/79 [00:05<00:00, 13.97it/s]\n"
          ]
        },
        {
          "output_type": "stream",
          "name": "stdout",
          "text": [
            "Epoch 15/50 - Train Loss: 1.0634, Train Acc: 0.6243 - Val Loss: 1.1260, Val Acc: 0.6026\n",
            "Epoch 16/50 - Learning Rate: 0.005\n"
          ]
        },
        {
          "output_type": "stream",
          "name": "stderr",
          "text": [
            "Epoch 16/50 (Training): 100%|██████████| 313/313 [00:24<00:00, 12.72it/s]\n",
            "Epoch 16/50 (Validation): 100%|██████████| 79/79 [00:04<00:00, 16.56it/s]\n"
          ]
        },
        {
          "output_type": "stream",
          "name": "stdout",
          "text": [
            "Epoch 16/50 - Train Loss: 1.0567, Train Acc: 0.6251 - Val Loss: 1.1137, Val Acc: 0.6079\n",
            "Epoch 17/50 - Learning Rate: 0.005\n"
          ]
        },
        {
          "output_type": "stream",
          "name": "stderr",
          "text": [
            "Epoch 17/50 (Training): 100%|██████████| 313/313 [00:25<00:00, 12.42it/s]\n",
            "Epoch 17/50 (Validation): 100%|██████████| 79/79 [00:04<00:00, 17.10it/s]\n"
          ]
        },
        {
          "output_type": "stream",
          "name": "stdout",
          "text": [
            "Epoch 17/50 - Train Loss: 1.0473, Train Acc: 0.6299 - Val Loss: 1.1209, Val Acc: 0.6042\n",
            "Epoch 18/50 - Learning Rate: 0.005\n"
          ]
        },
        {
          "output_type": "stream",
          "name": "stderr",
          "text": [
            "Epoch 18/50 (Training): 100%|██████████| 313/313 [00:27<00:00, 11.28it/s]\n",
            "Epoch 18/50 (Validation): 100%|██████████| 79/79 [00:04<00:00, 17.02it/s]\n"
          ]
        },
        {
          "output_type": "stream",
          "name": "stdout",
          "text": [
            "Epoch 18/50 - Train Loss: 1.0394, Train Acc: 0.6292 - Val Loss: 1.0892, Val Acc: 0.6164\n",
            "Epoch 19/50 - Learning Rate: 0.005\n"
          ]
        },
        {
          "output_type": "stream",
          "name": "stderr",
          "text": [
            "Epoch 19/50 (Training): 100%|██████████| 313/313 [00:25<00:00, 12.24it/s]\n",
            "Epoch 19/50 (Validation): 100%|██████████| 79/79 [00:04<00:00, 17.19it/s]\n"
          ]
        },
        {
          "output_type": "stream",
          "name": "stdout",
          "text": [
            "Epoch 19/50 - Train Loss: 1.0320, Train Acc: 0.6328 - Val Loss: 1.0958, Val Acc: 0.6114\n",
            "Epoch 20/50 - Learning Rate: 0.005\n"
          ]
        },
        {
          "output_type": "stream",
          "name": "stderr",
          "text": [
            "Epoch 20/50 (Training): 100%|██████████| 313/313 [00:25<00:00, 12.25it/s]\n",
            "Epoch 20/50 (Validation): 100%|██████████| 79/79 [00:04<00:00, 17.15it/s]\n"
          ]
        },
        {
          "output_type": "stream",
          "name": "stdout",
          "text": [
            "Epoch 20/50 - Train Loss: 1.0304, Train Acc: 0.6348 - Val Loss: 1.0731, Val Acc: 0.6209\n",
            "Epoch 21/50 - Learning Rate: 0.0025\n"
          ]
        },
        {
          "output_type": "stream",
          "name": "stderr",
          "text": [
            "Epoch 21/50 (Training): 100%|██████████| 313/313 [00:25<00:00, 12.23it/s]\n",
            "Epoch 21/50 (Validation): 100%|██████████| 79/79 [00:04<00:00, 17.21it/s]\n"
          ]
        },
        {
          "output_type": "stream",
          "name": "stdout",
          "text": [
            "Epoch 21/50 - Train Loss: 0.9839, Train Acc: 0.6498 - Val Loss: 1.0609, Val Acc: 0.6261\n",
            "Epoch 22/50 - Learning Rate: 0.0025\n"
          ]
        },
        {
          "output_type": "stream",
          "name": "stderr",
          "text": [
            "Epoch 22/50 (Training): 100%|██████████| 313/313 [00:24<00:00, 12.86it/s]\n",
            "Epoch 22/50 (Validation): 100%|██████████| 79/79 [00:04<00:00, 16.70it/s]\n"
          ]
        },
        {
          "output_type": "stream",
          "name": "stdout",
          "text": [
            "Epoch 22/50 - Train Loss: 0.9792, Train Acc: 0.6540 - Val Loss: 1.0584, Val Acc: 0.6221\n",
            "Epoch 23/50 - Learning Rate: 0.0025\n"
          ]
        },
        {
          "output_type": "stream",
          "name": "stderr",
          "text": [
            "Epoch 23/50 (Training): 100%|██████████| 313/313 [00:24<00:00, 12.95it/s]\n",
            "Epoch 23/50 (Validation): 100%|██████████| 79/79 [00:04<00:00, 16.68it/s]\n"
          ]
        },
        {
          "output_type": "stream",
          "name": "stdout",
          "text": [
            "Epoch 23/50 - Train Loss: 0.9802, Train Acc: 0.6523 - Val Loss: 1.0485, Val Acc: 0.6341\n",
            "Epoch 24/50 - Learning Rate: 0.0025\n"
          ]
        },
        {
          "output_type": "stream",
          "name": "stderr",
          "text": [
            "Epoch 24/50 (Training): 100%|██████████| 313/313 [00:27<00:00, 11.44it/s]\n",
            "Epoch 24/50 (Validation): 100%|██████████| 79/79 [00:04<00:00, 16.91it/s]\n"
          ]
        },
        {
          "output_type": "stream",
          "name": "stdout",
          "text": [
            "Epoch 24/50 - Train Loss: 0.9720, Train Acc: 0.6550 - Val Loss: 1.0261, Val Acc: 0.6365\n",
            "Epoch 25/50 - Learning Rate: 0.0025\n"
          ]
        },
        {
          "output_type": "stream",
          "name": "stderr",
          "text": [
            "Epoch 25/50 (Training): 100%|██████████| 313/313 [00:23<00:00, 13.30it/s]\n",
            "Epoch 25/50 (Validation): 100%|██████████| 79/79 [00:05<00:00, 13.36it/s]\n"
          ]
        },
        {
          "output_type": "stream",
          "name": "stdout",
          "text": [
            "Epoch 25/50 - Train Loss: 0.9712, Train Acc: 0.6567 - Val Loss: 1.0368, Val Acc: 0.6344\n",
            "Epoch 26/50 - Learning Rate: 0.0025\n"
          ]
        },
        {
          "output_type": "stream",
          "name": "stderr",
          "text": [
            "Epoch 26/50 (Training): 100%|██████████| 313/313 [00:23<00:00, 13.46it/s]\n",
            "Epoch 26/50 (Validation): 100%|██████████| 79/79 [00:06<00:00, 11.80it/s]\n"
          ]
        },
        {
          "output_type": "stream",
          "name": "stdout",
          "text": [
            "Epoch 26/50 - Train Loss: 0.9614, Train Acc: 0.6617 - Val Loss: 1.0584, Val Acc: 0.6248\n",
            "Epoch 27/50 - Learning Rate: 0.0025\n"
          ]
        },
        {
          "output_type": "stream",
          "name": "stderr",
          "text": [
            "Epoch 27/50 (Training): 100%|██████████| 313/313 [00:23<00:00, 13.22it/s]\n",
            "Epoch 27/50 (Validation): 100%|██████████| 79/79 [00:08<00:00,  9.46it/s]\n"
          ]
        },
        {
          "output_type": "stream",
          "name": "stdout",
          "text": [
            "Epoch 27/50 - Train Loss: 0.9589, Train Acc: 0.6568 - Val Loss: 1.0192, Val Acc: 0.6409\n",
            "Epoch 28/50 - Learning Rate: 0.0025\n"
          ]
        },
        {
          "output_type": "stream",
          "name": "stderr",
          "text": [
            "Epoch 28/50 (Training): 100%|██████████| 313/313 [00:22<00:00, 13.67it/s]\n",
            "Epoch 28/50 (Validation): 100%|██████████| 79/79 [00:06<00:00, 13.12it/s]\n"
          ]
        },
        {
          "output_type": "stream",
          "name": "stdout",
          "text": [
            "Epoch 28/50 - Train Loss: 0.9595, Train Acc: 0.6575 - Val Loss: 1.0261, Val Acc: 0.6407\n",
            "Epoch 29/50 - Learning Rate: 0.0025\n"
          ]
        },
        {
          "output_type": "stream",
          "name": "stderr",
          "text": [
            "Epoch 29/50 (Training): 100%|██████████| 313/313 [00:23<00:00, 13.46it/s]\n",
            "Epoch 29/50 (Validation): 100%|██████████| 79/79 [00:05<00:00, 14.49it/s]\n"
          ]
        },
        {
          "output_type": "stream",
          "name": "stdout",
          "text": [
            "Epoch 29/50 - Train Loss: 0.9522, Train Acc: 0.6600 - Val Loss: 1.0303, Val Acc: 0.6405\n",
            "Epoch 30/50 - Learning Rate: 0.0025\n"
          ]
        },
        {
          "output_type": "stream",
          "name": "stderr",
          "text": [
            "Epoch 30/50 (Training): 100%|██████████| 313/313 [00:24<00:00, 12.80it/s]\n",
            "Epoch 30/50 (Validation): 100%|██████████| 79/79 [00:04<00:00, 17.02it/s]\n"
          ]
        },
        {
          "output_type": "stream",
          "name": "stdout",
          "text": [
            "Epoch 30/50 - Train Loss: 0.9542, Train Acc: 0.6604 - Val Loss: 1.0230, Val Acc: 0.6426\n",
            "Epoch 31/50 - Learning Rate: 0.00125\n"
          ]
        },
        {
          "output_type": "stream",
          "name": "stderr",
          "text": [
            "Epoch 31/50 (Training): 100%|██████████| 313/313 [00:25<00:00, 12.30it/s]\n",
            "Epoch 31/50 (Validation): 100%|██████████| 79/79 [00:04<00:00, 17.27it/s]\n"
          ]
        },
        {
          "output_type": "stream",
          "name": "stdout",
          "text": [
            "Epoch 31/50 - Train Loss: 0.9275, Train Acc: 0.6692 - Val Loss: 1.0051, Val Acc: 0.6499\n",
            "Epoch 32/50 - Learning Rate: 0.00125\n"
          ]
        },
        {
          "output_type": "stream",
          "name": "stderr",
          "text": [
            "Epoch 32/50 (Training): 100%|██████████| 313/313 [00:24<00:00, 12.56it/s]\n",
            "Epoch 32/50 (Validation): 100%|██████████| 79/79 [00:04<00:00, 17.07it/s]\n"
          ]
        },
        {
          "output_type": "stream",
          "name": "stdout",
          "text": [
            "Epoch 32/50 - Train Loss: 0.9273, Train Acc: 0.6695 - Val Loss: 1.0053, Val Acc: 0.6443\n",
            "Epoch 33/50 - Learning Rate: 0.00125\n"
          ]
        },
        {
          "output_type": "stream",
          "name": "stderr",
          "text": [
            "Epoch 33/50 (Training): 100%|██████████| 313/313 [00:27<00:00, 11.40it/s]\n",
            "Epoch 33/50 (Validation): 100%|██████████| 79/79 [00:04<00:00, 17.01it/s]\n"
          ]
        },
        {
          "output_type": "stream",
          "name": "stdout",
          "text": [
            "Epoch 33/50 - Train Loss: 0.9226, Train Acc: 0.6703 - Val Loss: 0.9973, Val Acc: 0.6421\n",
            "Epoch 34/50 - Learning Rate: 0.00125\n"
          ]
        },
        {
          "output_type": "stream",
          "name": "stderr",
          "text": [
            "Epoch 34/50 (Training): 100%|██████████| 313/313 [00:25<00:00, 12.32it/s]\n",
            "Epoch 34/50 (Validation): 100%|██████████| 79/79 [00:04<00:00, 17.13it/s]\n"
          ]
        },
        {
          "output_type": "stream",
          "name": "stdout",
          "text": [
            "Epoch 34/50 - Train Loss: 0.9197, Train Acc: 0.6733 - Val Loss: 1.0026, Val Acc: 0.6516\n",
            "Epoch 35/50 - Learning Rate: 0.00125\n"
          ]
        },
        {
          "output_type": "stream",
          "name": "stderr",
          "text": [
            "Epoch 35/50 (Training): 100%|██████████| 313/313 [00:24<00:00, 12.76it/s]\n",
            "Epoch 35/50 (Validation): 100%|██████████| 79/79 [00:04<00:00, 16.85it/s]\n"
          ]
        },
        {
          "output_type": "stream",
          "name": "stdout",
          "text": [
            "Epoch 35/50 - Train Loss: 0.9197, Train Acc: 0.6715 - Val Loss: 1.0023, Val Acc: 0.6504\n",
            "Epoch 36/50 - Learning Rate: 0.00125\n"
          ]
        },
        {
          "output_type": "stream",
          "name": "stderr",
          "text": [
            "Epoch 36/50 (Training): 100%|██████████| 313/313 [00:23<00:00, 13.08it/s]\n",
            "Epoch 36/50 (Validation): 100%|██████████| 79/79 [00:06<00:00, 13.15it/s]\n"
          ]
        },
        {
          "output_type": "stream",
          "name": "stdout",
          "text": [
            "Epoch 36/50 - Train Loss: 0.9177, Train Acc: 0.6738 - Val Loss: 1.0028, Val Acc: 0.6436\n",
            "Epoch 37/50 - Learning Rate: 0.00125\n"
          ]
        },
        {
          "output_type": "stream",
          "name": "stderr",
          "text": [
            "Epoch 37/50 (Training): 100%|██████████| 313/313 [00:26<00:00, 11.70it/s]\n",
            "Epoch 37/50 (Validation): 100%|██████████| 79/79 [00:04<00:00, 16.56it/s]\n"
          ]
        },
        {
          "output_type": "stream",
          "name": "stdout",
          "text": [
            "Epoch 37/50 - Train Loss: 0.9120, Train Acc: 0.6776 - Val Loss: 0.9913, Val Acc: 0.6514\n",
            "Epoch 38/50 - Learning Rate: 0.00125\n"
          ]
        },
        {
          "output_type": "stream",
          "name": "stderr",
          "text": [
            "Epoch 38/50 (Training): 100%|██████████| 313/313 [00:24<00:00, 12.96it/s]\n",
            "Epoch 38/50 (Validation): 100%|██████████| 79/79 [00:04<00:00, 16.57it/s]\n"
          ]
        },
        {
          "output_type": "stream",
          "name": "stdout",
          "text": [
            "Epoch 38/50 - Train Loss: 0.9196, Train Acc: 0.6701 - Val Loss: 0.9936, Val Acc: 0.6534\n",
            "Epoch 39/50 - Learning Rate: 0.00125\n"
          ]
        },
        {
          "output_type": "stream",
          "name": "stderr",
          "text": [
            "Epoch 39/50 (Training): 100%|██████████| 313/313 [00:24<00:00, 12.99it/s]\n",
            "Epoch 39/50 (Validation): 100%|██████████| 79/79 [00:05<00:00, 13.38it/s]\n"
          ]
        },
        {
          "output_type": "stream",
          "name": "stdout",
          "text": [
            "Epoch 39/50 - Train Loss: 0.9113, Train Acc: 0.6748 - Val Loss: 0.9996, Val Acc: 0.6509\n",
            "Epoch 40/50 - Learning Rate: 0.00125\n"
          ]
        },
        {
          "output_type": "stream",
          "name": "stderr",
          "text": [
            "Epoch 40/50 (Training): 100%|██████████| 313/313 [00:23<00:00, 13.45it/s]\n",
            "Epoch 40/50 (Validation): 100%|██████████| 79/79 [00:06<00:00, 11.79it/s]\n"
          ]
        },
        {
          "output_type": "stream",
          "name": "stdout",
          "text": [
            "Epoch 40/50 - Train Loss: 0.9148, Train Acc: 0.6740 - Val Loss: 0.9861, Val Acc: 0.6543\n",
            "Epoch 41/50 - Learning Rate: 0.000625\n"
          ]
        },
        {
          "output_type": "stream",
          "name": "stderr",
          "text": [
            "Epoch 41/50 (Training): 100%|██████████| 313/313 [00:23<00:00, 13.48it/s]\n",
            "Epoch 41/50 (Validation): 100%|██████████| 79/79 [00:06<00:00, 11.51it/s]\n"
          ]
        },
        {
          "output_type": "stream",
          "name": "stdout",
          "text": [
            "Epoch 41/50 - Train Loss: 0.9018, Train Acc: 0.6776 - Val Loss: 1.0061, Val Acc: 0.6491\n",
            "Epoch 42/50 - Learning Rate: 0.000625\n"
          ]
        },
        {
          "output_type": "stream",
          "name": "stderr",
          "text": [
            "Epoch 42/50 (Training): 100%|██████████| 313/313 [00:25<00:00, 12.19it/s]\n",
            "Epoch 42/50 (Validation): 100%|██████████| 79/79 [00:06<00:00, 11.70it/s]\n"
          ]
        },
        {
          "output_type": "stream",
          "name": "stdout",
          "text": [
            "Epoch 42/50 - Train Loss: 0.8990, Train Acc: 0.6795 - Val Loss: 0.9811, Val Acc: 0.6560\n",
            "Epoch 43/50 - Learning Rate: 0.000625\n"
          ]
        },
        {
          "output_type": "stream",
          "name": "stderr",
          "text": [
            "Epoch 43/50 (Training): 100%|██████████| 313/313 [00:23<00:00, 13.58it/s]\n",
            "Epoch 43/50 (Validation): 100%|██████████| 79/79 [00:06<00:00, 11.64it/s]\n"
          ]
        },
        {
          "output_type": "stream",
          "name": "stdout",
          "text": [
            "Epoch 43/50 - Train Loss: 0.9014, Train Acc: 0.6807 - Val Loss: 0.9900, Val Acc: 0.6529\n",
            "Epoch 44/50 - Learning Rate: 0.000625\n"
          ]
        },
        {
          "output_type": "stream",
          "name": "stderr",
          "text": [
            "Epoch 44/50 (Training): 100%|██████████| 313/313 [00:23<00:00, 13.56it/s]\n",
            "Epoch 44/50 (Validation): 100%|██████████| 79/79 [00:05<00:00, 13.72it/s]\n"
          ]
        },
        {
          "output_type": "stream",
          "name": "stdout",
          "text": [
            "Epoch 44/50 - Train Loss: 0.8900, Train Acc: 0.6840 - Val Loss: 0.9776, Val Acc: 0.6580\n",
            "Epoch 45/50 - Learning Rate: 0.000625\n"
          ]
        },
        {
          "output_type": "stream",
          "name": "stderr",
          "text": [
            "Epoch 45/50 (Training): 100%|██████████| 313/313 [00:23<00:00, 13.59it/s]\n",
            "Epoch 45/50 (Validation): 100%|██████████| 79/79 [00:05<00:00, 14.31it/s]\n"
          ]
        },
        {
          "output_type": "stream",
          "name": "stdout",
          "text": [
            "Epoch 45/50 - Train Loss: 0.8917, Train Acc: 0.6810 - Val Loss: 0.9903, Val Acc: 0.6539\n",
            "Epoch 46/50 - Learning Rate: 0.000625\n"
          ]
        },
        {
          "output_type": "stream",
          "name": "stderr",
          "text": [
            "Epoch 46/50 (Training): 100%|██████████| 313/313 [00:26<00:00, 11.88it/s]\n",
            "Epoch 46/50 (Validation): 100%|██████████| 79/79 [00:04<00:00, 17.05it/s]\n"
          ]
        },
        {
          "output_type": "stream",
          "name": "stdout",
          "text": [
            "Epoch 46/50 - Train Loss: 0.8896, Train Acc: 0.6844 - Val Loss: 0.9813, Val Acc: 0.6515\n",
            "Epoch 47/50 - Learning Rate: 0.000625\n"
          ]
        },
        {
          "output_type": "stream",
          "name": "stderr",
          "text": [
            "Epoch 47/50 (Training): 100%|██████████| 313/313 [00:25<00:00, 12.52it/s]\n",
            "Epoch 47/50 (Validation): 100%|██████████| 79/79 [00:04<00:00, 17.04it/s]\n"
          ]
        },
        {
          "output_type": "stream",
          "name": "stdout",
          "text": [
            "Epoch 47/50 - Train Loss: 0.8869, Train Acc: 0.6845 - Val Loss: 0.9813, Val Acc: 0.6566\n",
            "Epoch 48/50 - Learning Rate: 0.000625\n"
          ]
        },
        {
          "output_type": "stream",
          "name": "stderr",
          "text": [
            "Epoch 48/50 (Training): 100%|██████████| 313/313 [00:25<00:00, 12.47it/s]\n",
            "Epoch 48/50 (Validation): 100%|██████████| 79/79 [00:04<00:00, 17.13it/s]\n"
          ]
        },
        {
          "output_type": "stream",
          "name": "stdout",
          "text": [
            "Epoch 48/50 - Train Loss: 0.8885, Train Acc: 0.6835 - Val Loss: 0.9803, Val Acc: 0.6567\n",
            "Epoch 49/50 - Learning Rate: 0.000625\n"
          ]
        },
        {
          "output_type": "stream",
          "name": "stderr",
          "text": [
            "Epoch 49/50 (Training): 100%|██████████| 313/313 [00:25<00:00, 12.43it/s]\n",
            "Epoch 49/50 (Validation): 100%|██████████| 79/79 [00:04<00:00, 17.27it/s]\n"
          ]
        },
        {
          "output_type": "stream",
          "name": "stdout",
          "text": [
            "Epoch 49/50 - Train Loss: 0.8858, Train Acc: 0.6858 - Val Loss: 0.9909, Val Acc: 0.6511\n",
            "Epoch 50/50 - Learning Rate: 0.000625\n"
          ]
        },
        {
          "output_type": "stream",
          "name": "stderr",
          "text": [
            "Epoch 50/50 (Training): 100%|██████████| 313/313 [00:24<00:00, 12.68it/s]\n",
            "Epoch 50/50 (Validation): 100%|██████████| 79/79 [00:04<00:00, 17.04it/s]\n"
          ]
        },
        {
          "output_type": "stream",
          "name": "stdout",
          "text": [
            "Epoch 50/50 - Train Loss: 0.8889, Train Acc: 0.6846 - Val Loss: 0.9729, Val Acc: 0.6594\n"
          ]
        },
        {
          "output_type": "display_data",
          "data": {
            "text/plain": [
              "<Figure size 640x480 with 1 Axes>"
            ],
            "image/png": "[encoded data removed]"
          },
          "metadata": {}
        },
        {
          "output_type": "display_data",
          "data": {
            "text/plain": [
              "<Figure size 640x480 with 1 Axes>"
            ],
            "image/png": "[encoded data removed]"
          },
          "metadata": {}
        }
      ]
    },
    {
      "cell_type": "markdown",
      "source": [
        "## test"
      ],
      "metadata": {
        "id": "WjTk7qSTWCBx"
      }
    },
    {
      "cell_type": "code",
      "source": [
        "testloader = DataLoader(testset, batch_size=128, shuffle=False, num_workers=2)\n",
        "test_loss, test_acc = test(model, testloader)\n"
      ],
      "metadata": {
        "id": "aM1mrPWtMavw"
      },
      "execution_count": null,
      "outputs": []
    },
    {
      "cell_type": "markdown",
      "source": [
        "## save model"
      ],
      "metadata": {
        "id": "bLqbio-RWDoR"
      }
    },
    {
      "cell_type": "code",
      "source": [
        "filename = 'cifar10_model.pth'\n",
        "\n",
        "torch.save(model.state_dict(), filename)\n",
        "print(f\"Model saved to {filename}\")"
      ],
      "metadata": {
        "id": "ZcSFvmxiSrTV"
      },
      "execution_count": null,
      "outputs": []
    },
    {
      "cell_type": "code",
      "source": [
        "# net = torch.load(filename)\n",
        "# net.eval()\n",
        "# print(f\"Model loaded from {filename}\")"
      ],
      "metadata": {
        "id": "heYmBNMvS4U2"
      },
      "execution_count": null,
      "outputs": []
    },
    {
      "cell_type": "markdown",
      "source": [
        "## statistics\n"
      ],
      "metadata": {
        "id": "bTryc_zJWFkh"
      }
    },
    {
      "cell_type": "code",
      "source": [
        "import seaborn as sns\n",
        "from sklearn.metrics import confusion_matrix\n",
        "\n",
        "model.eval()  # Set model to evaluation mode\n",
        "all_labels = []\n",
        "all_preds = []\n",
        "\n",
        "misclassified_images = []\n",
        "misclassified_labels = []\n",
        "misclassified_preds = []\n",
        "\n",
        "with torch.no_grad():\n",
        "    for images, labels in tqdm(testloader, desc=\"Computing Confusion Matrix\"):\n",
        "        images, labels = images.to(DEVICE), labels.to(DEVICE)\n",
        "        outputs = model(images)\n",
        "        _, preds = torch.max(outputs, 1)\n",
        "\n",
        "        all_labels.extend(labels.cpu().numpy())  # Collect all true labels\n",
        "        all_preds.extend(preds.cpu().numpy())    # Collect all predictions\n",
        "\n",
        "        # Find misclassified images\n",
        "        incorrect = preds != labels\n",
        "        misclassified_images.extend(images[incorrect].cpu())  # Collect misclassified images\n",
        "        misclassified_labels.extend(labels[incorrect].cpu())  # True labels of misclassified images\n",
        "        misclassified_preds.extend(preds[incorrect].cpu())  # Predicted labels of misclassified images\n",
        "\n"
      ],
      "metadata": {
        "id": "y2pkk6MNVrn2"
      },
      "execution_count": null,
      "outputs": []
    },
    {
      "cell_type": "code",
      "source": [
        "# Compute confusion matrix\n",
        "cm = confusion_matrix(all_labels, all_preds)\n",
        "\n",
        "# Calculate accuracy for each class\n",
        "class_accuracies = np.diag(cm) / cm.sum(axis=1)\n",
        "for i, acc in enumerate(class_accuracies):\n",
        "    print(f'Accuracy for class {i}: {acc:.2f}')\n",
        "\n",
        "# Plot confusion matrix\n",
        "plt.figure(figsize=(10, 7))\n",
        "sns.heatmap(cm, annot=True, fmt=\"d\", cmap=\"Blues\", xticklabels=testloader.dataset.classes, yticklabels=testloader.dataset.classes)\n",
        "plt.xlabel('Predicted')\n",
        "plt.ylabel('True')\n",
        "plt.title('Confusion Matrix')\n",
        "plt.show()"
      ],
      "metadata": {
        "id": "eLFNpmEzWfvc"
      },
      "execution_count": null,
      "outputs": []
    },
    {
      "cell_type": "code",
      "source": [
        "mean = torch.tensor([0.5, 0.5, 0.5])\n",
        "std = torch.tensor([0.5, 0.5, 0.5])\n",
        "\n",
        "num_images = 10\n",
        "\n",
        "for i in range(num_images):\n",
        "    # Create a new figure for each image\n",
        "    plt.figure(figsize=(3, 3))\n",
        "\n",
        "    image = misclassified_images[i].permute(1, 2, 0)  # Convert to (H, W, C)\n",
        "    image = image * std + mean  # Unnormalize\n",
        "    image = image.numpy()  # Convert to numpy\n",
        "    image = np.clip(image, 0, 1)  # Ensure values are in [0, 1]\n",
        "\n",
        "    plt.imshow(image)\n",
        "    plt.title(f\"True: {misclassified_labels[i]}, Pred: {misclassified_preds[i]}\")\n",
        "    plt.axis('off')  # Hide axes\n",
        "    plt.show()  # Show each image independently"
      ],
      "metadata": {
        "id": "vKki0s8sWepL"
      },
      "execution_count": null,
      "outputs": []
    },
    {
      "cell_type": "markdown",
      "source": [
        "# Model 2\n",
        "\n"
      ],
      "metadata": {
        "id": "Jl_n3idijV9w"
      }
    },
    {
      "cell_type": "markdown",
      "source": [
        "## ShufflnetV2"
      ],
      "metadata": {
        "id": "LbyNFzGS7KUd"
      }
    },
    {
      "cell_type": "code",
      "source": [
        "from torchvision.models import shufflenet_v2_x1_0\n",
        "\n",
        "model_2 = shufflenet_v2_x1_0(pretrained=True)\n",
        "\n",
        "num_classes = 10\n",
        "model_2.fc = torch.nn.Linear(model_2.fc.in_features, num_classes)\n",
        "\n",
        "num_parameters = sum(value.numel() for value in model_2.state_dict().values())\n",
        "print(f\"Number of parameters: {num_parameters / 10**6:.2f}M\")\n"
      ],
      "metadata": {
        "colab": {
          "base_uri": "https://localhost:8080/"
        },
        "id": "xNQ8W7um6lIR",
        "outputId": "e83cde07-2d85-4d75-ddf0-b18ab2e0f0dd"
      },
      "execution_count": 45,
      "outputs": [
        {
          "output_type": "stream",
          "name": "stderr",
          "text": [
            "/usr/local/lib/python3.10/dist-packages/torchvision/models/_utils.py:223: UserWarning: Arguments other than a weight enum or `None` for 'weights' are deprecated since 0.13 and may be removed in the future. The current behavior is equivalent to passing `weights=ShuffleNet_V2_X1_0_Weights.IMAGENET1K_V1`. You can also use `weights=ShuffleNet_V2_X1_0_Weights.DEFAULT` to get the most up-to-date weights.\n",
            "  warnings.warn(msg)\n",
            "Downloading: \"https://download.pytorch.org/models/shufflenetv2_x1-5666bf0f80.pth\" to /root/.cache/torch/hub/checkpoints/shufflenetv2_x1-5666bf0f80.pth\n",
            "100%|██████████| 8.79M/8.79M [00:00<00:00, 25.4MB/s]"
          ]
        },
        {
          "output_type": "stream",
          "name": "stdout",
          "text": [
            "Number of parameters: 1.28M\n"
          ]
        },
        {
          "output_type": "stream",
          "name": "stderr",
          "text": [
            "\n"
          ]
        }
      ]
    },
    {
      "cell_type": "markdown",
      "source": [
        "## train\n"
      ],
      "metadata": {
        "id": "ClQn35SCle99"
      }
    },
    {
      "cell_type": "code",
      "source": [
        "DEVICE = torch.device(\"cuda\" if torch.cuda.is_available() else \"cpu\")\n",
        "\n",
        "model_2.to(DEVICE)\n",
        "\n",
        "# optimizer = torch.optim.Adam(model.parameters(), lr=0.01)\n",
        "optimizer = torch.optim.SGD(model_2.parameters(), lr=0.01, momentum=0.9, weight_decay=5e-4)\n",
        "\n",
        "history = train(model_2, trainloader, valloader, optimizer,step_size=10 , epochs=20, verbose=True)\n",
        "\n",
        "plt.plot(history[\"train_loss\"], label=\"Train Loss\")\n",
        "plt.plot(history[\"val_loss\"], label=\"Val Loss\")\n",
        "plt.xlabel(\"Epochs\")\n",
        "plt.ylabel(\"Loss\")\n",
        "plt.legend()\n",
        "plt.show()\n",
        "\n",
        "plt.plot(history[\"train_acc\"], label=\"Train Accuracy\")\n",
        "plt.plot(history[\"val_acc\"], label=\"Val Accuracy\")\n",
        "plt.xlabel(\"Epochs\")\n",
        "plt.ylabel(\"Accuracy\")\n",
        "plt.legend()\n",
        "plt.show()"
      ],
      "metadata": {
        "id": "fnkXSdLHlIVb",
        "colab": {
          "base_uri": "https://localhost:8080/",
          "height": 1000
        },
        "outputId": "635ec2db-a9b2-4bfb-851c-86fef4f05cd1"
      },
      "execution_count": 46,
      "outputs": [
        {
          "output_type": "stream",
          "name": "stdout",
          "text": [
            "Epoch 1/20 - Learning Rate: 0.01\n"
          ]
        },
        {
          "output_type": "stream",
          "name": "stderr",
          "text": [
            "Epoch 1/20 (Training): 100%|██████████| 313/313 [02:10<00:00,  2.39it/s]\n",
            "Epoch 1/20 (Validation): 100%|██████████| 79/79 [00:10<00:00,  7.30it/s]\n"
          ]
        },
        {
          "output_type": "stream",
          "name": "stdout",
          "text": [
            "Epoch 1/20 - Train Loss: 2.1166, Train Acc: 0.3169 - Val Loss: 1.7539, Val Acc: 0.4470\n",
            "Epoch 2/20 - Learning Rate: 0.01\n"
          ]
        },
        {
          "output_type": "stream",
          "name": "stderr",
          "text": [
            "Epoch 2/20 (Training): 100%|██████████| 313/313 [02:13<00:00,  2.35it/s]\n",
            "Epoch 2/20 (Validation): 100%|██████████| 79/79 [00:11<00:00,  6.92it/s]\n"
          ]
        },
        {
          "output_type": "stream",
          "name": "stdout",
          "text": [
            "Epoch 2/20 - Train Loss: 1.3311, Train Acc: 0.5451 - Val Loss: 1.0979, Val Acc: 0.6165\n",
            "Epoch 3/20 - Learning Rate: 0.01\n"
          ]
        },
        {
          "output_type": "stream",
          "name": "stderr",
          "text": [
            "Epoch 3/20 (Training): 100%|██████████| 313/313 [02:14<00:00,  2.33it/s]\n",
            "Epoch 3/20 (Validation): 100%|██████████| 79/79 [00:08<00:00,  8.85it/s]\n"
          ]
        },
        {
          "output_type": "stream",
          "name": "stdout",
          "text": [
            "Epoch 3/20 - Train Loss: 0.9973, Train Acc: 0.6548 - Val Loss: 0.9302, Val Acc: 0.6743\n",
            "Epoch 4/20 - Learning Rate: 0.01\n"
          ]
        },
        {
          "output_type": "stream",
          "name": "stderr",
          "text": [
            "Epoch 4/20 (Training): 100%|██████████| 313/313 [02:13<00:00,  2.35it/s]\n",
            "Epoch 4/20 (Validation): 100%|██████████| 79/79 [00:10<00:00,  7.40it/s]\n"
          ]
        },
        {
          "output_type": "stream",
          "name": "stdout",
          "text": [
            "Epoch 4/20 - Train Loss: 0.8759, Train Acc: 0.6966 - Val Loss: 0.8622, Val Acc: 0.6994\n",
            "Epoch 5/20 - Learning Rate: 0.01\n"
          ]
        },
        {
          "output_type": "stream",
          "name": "stderr",
          "text": [
            "Epoch 5/20 (Training): 100%|██████████| 313/313 [02:15<00:00,  2.32it/s]\n",
            "Epoch 5/20 (Validation): 100%|██████████| 79/79 [00:10<00:00,  7.33it/s]\n"
          ]
        },
        {
          "output_type": "stream",
          "name": "stdout",
          "text": [
            "Epoch 5/20 - Train Loss: 0.8177, Train Acc: 0.7141 - Val Loss: 0.8133, Val Acc: 0.7163\n",
            "Epoch 6/20 - Learning Rate: 0.01\n"
          ]
        },
        {
          "output_type": "stream",
          "name": "stderr",
          "text": [
            "Epoch 6/20 (Training): 100%|██████████| 313/313 [02:13<00:00,  2.34it/s]\n",
            "Epoch 6/20 (Validation): 100%|██████████| 79/79 [00:09<00:00,  8.67it/s]\n"
          ]
        },
        {
          "output_type": "stream",
          "name": "stdout",
          "text": [
            "Epoch 6/20 - Train Loss: 0.7695, Train Acc: 0.7327 - Val Loss: 0.7775, Val Acc: 0.7311\n",
            "Epoch 7/20 - Learning Rate: 0.01\n"
          ]
        },
        {
          "output_type": "stream",
          "name": "stderr",
          "text": [
            "Epoch 7/20 (Training): 100%|██████████| 313/313 [02:20<00:00,  2.22it/s]\n",
            "Epoch 7/20 (Validation): 100%|██████████| 79/79 [00:09<00:00,  8.42it/s]\n"
          ]
        },
        {
          "output_type": "stream",
          "name": "stdout",
          "text": [
            "Epoch 7/20 - Train Loss: 0.7325, Train Acc: 0.7425 - Val Loss: 0.7494, Val Acc: 0.7354\n",
            "Epoch 8/20 - Learning Rate: 0.01\n"
          ]
        },
        {
          "output_type": "stream",
          "name": "stderr",
          "text": [
            "Epoch 8/20 (Training): 100%|██████████| 313/313 [02:13<00:00,  2.35it/s]\n",
            "Epoch 8/20 (Validation): 100%|██████████| 79/79 [00:10<00:00,  7.20it/s]\n"
          ]
        },
        {
          "output_type": "stream",
          "name": "stdout",
          "text": [
            "Epoch 8/20 - Train Loss: 0.7078, Train Acc: 0.7543 - Val Loss: 0.7204, Val Acc: 0.7422\n",
            "Epoch 9/20 - Learning Rate: 0.01\n"
          ]
        },
        {
          "output_type": "stream",
          "name": "stderr",
          "text": [
            "Epoch 9/20 (Training): 100%|██████████| 313/313 [02:16<00:00,  2.29it/s]\n",
            "Epoch 9/20 (Validation): 100%|██████████| 79/79 [00:10<00:00,  7.38it/s]\n"
          ]
        },
        {
          "output_type": "stream",
          "name": "stdout",
          "text": [
            "Epoch 9/20 - Train Loss: 0.6814, Train Acc: 0.7625 - Val Loss: 0.7181, Val Acc: 0.7500\n",
            "Epoch 10/20 - Learning Rate: 0.01\n"
          ]
        },
        {
          "output_type": "stream",
          "name": "stderr",
          "text": [
            "Epoch 10/20 (Training): 100%|██████████| 313/313 [02:13<00:00,  2.35it/s]\n",
            "Epoch 10/20 (Validation): 100%|██████████| 79/79 [00:08<00:00,  8.96it/s]\n"
          ]
        },
        {
          "output_type": "stream",
          "name": "stdout",
          "text": [
            "Epoch 10/20 - Train Loss: 0.6646, Train Acc: 0.7652 - Val Loss: 0.7325, Val Acc: 0.7462\n",
            "Epoch 11/20 - Learning Rate: 0.005\n"
          ]
        },
        {
          "output_type": "stream",
          "name": "stderr",
          "text": [
            "Epoch 11/20 (Training): 100%|██████████| 313/313 [02:15<00:00,  2.31it/s]\n",
            "Epoch 11/20 (Validation): 100%|██████████| 79/79 [00:11<00:00,  6.66it/s]\n"
          ]
        },
        {
          "output_type": "stream",
          "name": "stdout",
          "text": [
            "Epoch 11/20 - Train Loss: 0.6228, Train Acc: 0.7833 - Val Loss: 0.6728, Val Acc: 0.7694\n",
            "Epoch 12/20 - Learning Rate: 0.005\n"
          ]
        },
        {
          "output_type": "stream",
          "name": "stderr",
          "text": [
            "Epoch 12/20 (Training): 100%|██████████| 313/313 [02:13<00:00,  2.34it/s]\n",
            "Epoch 12/20 (Validation): 100%|██████████| 79/79 [00:11<00:00,  7.14it/s]\n"
          ]
        },
        {
          "output_type": "stream",
          "name": "stdout",
          "text": [
            "Epoch 12/20 - Train Loss: 0.5993, Train Acc: 0.7899 - Val Loss: 0.6670, Val Acc: 0.7649\n",
            "Epoch 13/20 - Learning Rate: 0.005\n"
          ]
        },
        {
          "output_type": "stream",
          "name": "stderr",
          "text": [
            "Epoch 13/20 (Training): 100%|██████████| 313/313 [02:17<00:00,  2.28it/s]\n",
            "Epoch 13/20 (Validation): 100%|██████████| 79/79 [00:10<00:00,  7.26it/s]\n"
          ]
        },
        {
          "output_type": "stream",
          "name": "stdout",
          "text": [
            "Epoch 13/20 - Train Loss: 0.5886, Train Acc: 0.7932 - Val Loss: 0.6618, Val Acc: 0.7688\n",
            "Epoch 14/20 - Learning Rate: 0.005\n"
          ]
        },
        {
          "output_type": "stream",
          "name": "stderr",
          "text": [
            "Epoch 14/20 (Training): 100%|██████████| 313/313 [02:16<00:00,  2.30it/s]\n",
            "Epoch 14/20 (Validation): 100%|██████████| 79/79 [00:10<00:00,  7.26it/s]\n"
          ]
        },
        {
          "output_type": "stream",
          "name": "stdout",
          "text": [
            "Epoch 14/20 - Train Loss: 0.5760, Train Acc: 0.7988 - Val Loss: 0.6654, Val Acc: 0.7683\n",
            "Epoch 15/20 - Learning Rate: 0.005\n"
          ]
        },
        {
          "output_type": "stream",
          "name": "stderr",
          "text": [
            "Epoch 15/20 (Training): 100%|██████████| 313/313 [02:16<00:00,  2.29it/s]\n",
            "Epoch 15/20 (Validation): 100%|██████████| 79/79 [00:11<00:00,  6.62it/s]\n"
          ]
        },
        {
          "output_type": "stream",
          "name": "stdout",
          "text": [
            "Epoch 15/20 - Train Loss: 0.5690, Train Acc: 0.8002 - Val Loss: 0.6566, Val Acc: 0.7727\n",
            "Epoch 16/20 - Learning Rate: 0.005\n"
          ]
        },
        {
          "output_type": "stream",
          "name": "stderr",
          "text": [
            "Epoch 16/20 (Training): 100%|██████████| 313/313 [02:17<00:00,  2.27it/s]\n",
            "Epoch 16/20 (Validation): 100%|██████████| 79/79 [00:09<00:00,  8.16it/s]\n"
          ]
        },
        {
          "output_type": "stream",
          "name": "stdout",
          "text": [
            "Epoch 16/20 - Train Loss: 0.5614, Train Acc: 0.8020 - Val Loss: 0.6534, Val Acc: 0.7713\n",
            "Epoch 17/20 - Learning Rate: 0.005\n"
          ]
        },
        {
          "output_type": "stream",
          "name": "stderr",
          "text": [
            "Epoch 17/20 (Training): 100%|██████████| 313/313 [02:15<00:00,  2.31it/s]\n",
            "Epoch 17/20 (Validation): 100%|██████████| 79/79 [00:09<00:00,  8.47it/s]\n"
          ]
        },
        {
          "output_type": "stream",
          "name": "stdout",
          "text": [
            "Epoch 17/20 - Train Loss: 0.5437, Train Acc: 0.8084 - Val Loss: 0.6523, Val Acc: 0.7698\n",
            "Epoch 18/20 - Learning Rate: 0.005\n"
          ]
        },
        {
          "output_type": "stream",
          "name": "stderr",
          "text": [
            "Epoch 18/20 (Training): 100%|██████████| 313/313 [02:18<00:00,  2.26it/s]\n",
            "Epoch 18/20 (Validation): 100%|██████████| 79/79 [00:11<00:00,  7.05it/s]\n"
          ]
        },
        {
          "output_type": "stream",
          "name": "stdout",
          "text": [
            "Epoch 18/20 - Train Loss: 0.5418, Train Acc: 0.8089 - Val Loss: 0.6327, Val Acc: 0.7783\n",
            "Epoch 19/20 - Learning Rate: 0.005\n"
          ]
        },
        {
          "output_type": "stream",
          "name": "stderr",
          "text": [
            "Epoch 19/20 (Training): 100%|██████████| 313/313 [02:15<00:00,  2.31it/s]\n",
            "Epoch 19/20 (Validation): 100%|██████████| 79/79 [00:10<00:00,  7.32it/s]\n"
          ]
        },
        {
          "output_type": "stream",
          "name": "stdout",
          "text": [
            "Epoch 19/20 - Train Loss: 0.5339, Train Acc: 0.8141 - Val Loss: 0.6501, Val Acc: 0.7793\n",
            "Epoch 20/20 - Learning Rate: 0.005\n"
          ]
        },
        {
          "output_type": "stream",
          "name": "stderr",
          "text": [
            "Epoch 20/20 (Training): 100%|██████████| 313/313 [02:17<00:00,  2.27it/s]\n",
            "Epoch 20/20 (Validation): 100%|██████████| 79/79 [00:11<00:00,  7.15it/s]\n"
          ]
        },
        {
          "output_type": "stream",
          "name": "stdout",
          "text": [
            "Epoch 20/20 - Train Loss: 0.5293, Train Acc: 0.8136 - Val Loss: 0.6363, Val Acc: 0.7774\n"
          ]
        },
        {
          "output_type": "display_data",
          "data": {
            "text/plain": [
              "<Figure size 640x480 with 1 Axes>"
            ],
            "image/png": "[encoded data removed]"
          },
          "metadata": {}
        },
        {
          "output_type": "display_data",
          "data": {
            "text/plain": [
              "<Figure size 640x480 with 1 Axes>"
            ],
            "image/png": "[encoded data removed]"
          },
          "metadata": {}
        }
      ]
    },
    {
      "cell_type": "code",
      "source": [
        "filename = 'cifar10_model_2.pth'\n",
        "\n",
        "torch.save(model_2.state_dict(), filename)\n",
        "print(f\"Model saved to {filename}\")"
      ],
      "metadata": {
        "colab": {
          "base_uri": "https://localhost:8080/"
        },
        "id": "glLd8g6XBdFs",
        "outputId": "f74765f2-2e8f-4d38-e303-6649a1dde533"
      },
      "execution_count": 54,
      "outputs": [
        {
          "output_type": "stream",
          "name": "stdout",
          "text": [
            "Model saved to cifar10_model_2.pth\n"
          ]
        }
      ]
    },
    {
      "cell_type": "code",
      "source": [
        "# model_2 = torch.load(filename)\n",
        "# model_2.eval()\n",
        "# print(f\"Model loaded from {filename}\")"
      ],
      "metadata": {
        "id": "ER2VJVdsBgpl"
      },
      "execution_count": 48,
      "outputs": []
    },
    {
      "cell_type": "markdown",
      "source": [
        "## test"
      ],
      "metadata": {
        "id": "JI9dSCSGldBF"
      }
    },
    {
      "cell_type": "code",
      "source": [
        "testloader = DataLoader(testset, batch_size=128, shuffle=False, num_workers=2)\n",
        "test_loss, test_acc = test(model_2, testloader)\n",
        "\n",
        "# Optionally, store these metrics for later analysis\n",
        "history[\"test_loss\"] = test_loss\n",
        "history[\"test_acc\"] = test_acc"
      ],
      "metadata": {
        "id": "-3AAn2nQlcj1",
        "colab": {
          "base_uri": "https://localhost:8080/"
        },
        "outputId": "45caecd5-09ae-4962-bb64-f66483cd60a2"
      },
      "execution_count": 53,
      "outputs": [
        {
          "output_type": "stream",
          "name": "stderr",
          "text": [
            "Testing: 100%|██████████| 79/79 [00:11<00:00,  6.76it/s]"
          ]
        },
        {
          "output_type": "stream",
          "name": "stdout",
          "text": [
            "Test Loss: 0.6437, Test Accuracy: 0.7784\n"
          ]
        },
        {
          "output_type": "stream",
          "name": "stderr",
          "text": [
            "\n"
          ]
        }
      ]
    },
    {
      "cell_type": "markdown",
      "source": [
        "## statistics\n"
      ],
      "metadata": {
        "id": "K1wMwJry5qVC"
      }
    },
    {
      "cell_type": "code",
      "source": [
        "import seaborn as sns\n",
        "from sklearn.metrics import confusion_matrix\n",
        "\n",
        "model_2.eval()  # Set model to evaluation mode\n",
        "all_labels = []\n",
        "all_preds = []\n",
        "\n",
        "misclassified_images = []\n",
        "misclassified_labels = []\n",
        "misclassified_preds = []\n",
        "\n",
        "with torch.no_grad():\n",
        "    for images, labels in tqdm(testloader, desc=\"Computing Confusion Matrix\"):\n",
        "        images, labels = images.to(DEVICE), labels.to(DEVICE)\n",
        "        outputs = model_2(images)\n",
        "        _, preds = torch.max(outputs, 1)\n",
        "\n",
        "        all_labels.extend(labels.cpu().numpy())  # Collect all true labels\n",
        "        all_preds.extend(preds.cpu().numpy())    # Collect all predictions\n",
        "\n",
        "        # Find misclassified images\n",
        "        incorrect = preds != labels\n",
        "        misclassified_images.extend(images[incorrect].cpu())  # Collect misclassified images\n",
        "        misclassified_labels.extend(labels[incorrect].cpu())  # True labels of misclassified images\n",
        "        misclassified_preds.extend(preds[incorrect].cpu())  # Predicted labels of misclassified images\n",
        "\n"
      ],
      "metadata": {
        "colab": {
          "base_uri": "https://localhost:8080/"
        },
        "outputId": "0759f78b-9400-4fce-ee94-10979ce1c040",
        "id": "ywMRWy6Q5qVD"
      },
      "execution_count": 50,
      "outputs": [
        {
          "output_type": "stream",
          "name": "stderr",
          "text": [
            "Computing Confusion Matrix: 100%|██████████| 79/79 [00:09<00:00,  7.96it/s]\n"
          ]
        }
      ]
    },
    {
      "cell_type": "code",
      "source": [
        "# Compute confusion matrix\n",
        "cm = confusion_matrix(all_labels, all_preds)\n",
        "\n",
        "# Calculate accuracy for each class\n",
        "class_accuracies = np.diag(cm) / cm.sum(axis=1)\n",
        "for i, acc in enumerate(class_accuracies):\n",
        "    print(f'Accuracy for class {i}: {acc:.2f}')\n",
        "\n",
        "# Plot confusion matrix\n",
        "plt.figure(figsize=(10, 7))\n",
        "sns.heatmap(cm, annot=True, fmt=\"d\", cmap=\"Blues\", xticklabels=testloader.dataset.classes, yticklabels=testloader.dataset.classes)\n",
        "plt.xlabel('Predicted')\n",
        "plt.ylabel('True')\n",
        "plt.title('Confusion Matrix')\n",
        "plt.show()"
      ],
      "metadata": {
        "colab": {
          "base_uri": "https://localhost:8080/",
          "height": 857
        },
        "outputId": "2246b73f-406d-45c1-9ecc-84592149c4f0",
        "id": "kilVet935qVE"
      },
      "execution_count": 51,
      "outputs": [
        {
          "output_type": "stream",
          "name": "stdout",
          "text": [
            "Accuracy for class 0: 0.81\n",
            "Accuracy for class 1: 0.90\n",
            "Accuracy for class 2: 0.75\n",
            "Accuracy for class 3: 0.61\n",
            "Accuracy for class 4: 0.73\n",
            "Accuracy for class 5: 0.71\n",
            "Accuracy for class 6: 0.84\n",
            "Accuracy for class 7: 0.79\n",
            "Accuracy for class 8: 0.85\n",
            "Accuracy for class 9: 0.81\n"
          ]
        },
        {
          "output_type": "display_data",
          "data": {
            "text/plain": [
              "<Figure size 1000x700 with 2 Axes>"
            ],
            "image/png": "[encoded data removed]"
          },
          "metadata": {}
        }
      ]
    },
    {
      "cell_type": "code",
      "source": [
        "mean = torch.tensor([0.5, 0.5, 0.5])\n",
        "std = torch.tensor([0.5, 0.5, 0.5])\n",
        "\n",
        "num_images = 10\n",
        "\n",
        "for i in range(num_images):\n",
        "    # Create a new figure for each image\n",
        "    plt.figure(figsize=(3, 3))\n",
        "\n",
        "    image = misclassified_images[i].permute(1, 2, 0)  # Convert to (H, W, C)\n",
        "    image = image * std + mean  # Unnormalize\n",
        "    image = image.numpy()  # Convert to numpy\n",
        "    image = np.clip(image, 0, 1)  # Ensure values are in [0, 1]\n",
        "\n",
        "    plt.imshow(image)\n",
        "    plt.title(f\"True: {misclassified_labels[i]}, Pred: {misclassified_preds[i]}\")\n",
        "    plt.axis('off')  # Hide axes\n",
        "    plt.show()  # Show each image independently"
      ],
      "metadata": {
        "colab": {
          "base_uri": "https://localhost:8080/",
          "height": 1000
        },
        "outputId": "fe60504d-fc1e-40e4-ba6e-a150e7159b92",
        "id": "xQM6y_3r5qVE"
      },
      "execution_count": 52,
      "outputs": [
        {
          "output_type": "display_data",
          "data": {
            "text/plain": [
              "<Figure size 300x300 with 1 Axes>"
            ],
            "image/png": "[encoded data removed]"
          },
          "metadata": {}
        },
        {
          "output_type": "display_data",
          "data": {
            "text/plain": [
              "<Figure size 300x300 with 1 Axes>"
            ],
            "image/png": "[encoded data removed]"
          },
          "metadata": {}
        },
        {
          "output_type": "display_data",
          "data": {
            "text/plain": [
              "<Figure size 300x300 with 1 Axes>"
            ],
            "image/png": "[encoded data removed]"
          },
          "metadata": {}
        },
        {
          "output_type": "display_data",
          "data": {
            "text/plain": [
              "<Figure size 300x300 with 1 Axes>"
            ],
            "image/png": "[encoded data removed]"
          },
          "metadata": {}
        },
        {
          "output_type": "display_data",
          "data": {
            "text/plain": [
              "<Figure size 300x300 with 1 Axes>"
            ],
            "image/png": "[encoded data removed]"
          },
          "metadata": {}
        },
        {
          "output_type": "display_data",
          "data": {
            "text/plain": [
              "<Figure size 300x300 with 1 Axes>"
            ],
            "image/png": "[encoded data removed]"
          },
          "metadata": {}
        },
        {
          "output_type": "display_data",
          "data": {
            "text/plain": [
              "<Figure size 300x300 with 1 Axes>"
            ],
            "image/png": "[encoded data removed]"
          },
          "metadata": {}
        },
        {
          "output_type": "display_data",
          "data": {
            "text/plain": [
              "<Figure size 300x300 with 1 Axes>"
            ],
            "image/png": "[encoded data removed]"
          },
          "metadata": {}
        },
        {
          "output_type": "display_data",
          "data": {
            "text/plain": [
              "<Figure size 300x300 with 1 Axes>"
            ],
            "image/png": "[encoded data removed]"
          },
          "metadata": {}
        },
        {
          "output_type": "display_data",
          "data": {
            "text/plain": [
              "<Figure size 300x300 with 1 Axes>"
            ],
            "image/png": "[encoded data removed]"
          },
          "metadata": {}
        }
      ]
    }
  ],
  "metadata": {
    "colab": {
      "collapsed_sections": [
        "nm_KsFraeQNa",
        "C8jpPOMUeesL",
        "AosnHQ_ojGd7",
        "BrJWWa_JjUTk",
        "_vxerus6q9qy",
        "bWjz0Nerendb",
        "957pzoxDewHM",
        "-xTUj8cKxV60"
      ],
      "provenance": [],
      "authorship_tag": "ABX9TyNhpx84QLYtgohKFW8dvEFL",
      "include_colab_link": true
    },
    "kernelspec": {
      "display_name": "Python 3",
      "name": "python3"
    },
    "language_info": {
      "name": "python"
    }
  },
  "nbformat": 4,
  "nbformat_minor": 0
}