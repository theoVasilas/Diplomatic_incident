{
  "cells": [
    {
      "cell_type": "markdown",
      "metadata": {
        "id": "view-in-github",
        "colab_type": "text"
      },
      "source": [
        "<a href=\"https://colab.research.google.com/github/theoVasilas/Diplomatic_incident/blob/CO2/Calculations_Mnist.ipynb\" target=\"_parent\"><img src=\"https://colab.research.google.com/assets/colab-badge.svg\" alt=\"Open In Colab\"/></a>"
      ]
    },
    {
      "cell_type": "markdown",
      "metadata": {
        "id": "nm_KsFraeQNa"
      },
      "source": [
        "# Installations"
      ]
    },
    {
      "cell_type": "code",
      "source": [
        "!pip install -q flwr[simulation] flwr-datasets[vision]"
      ],
      "metadata": {
        "id": "BaEK9rTeOz8X"
      },
      "execution_count": null,
      "outputs": []
    },
    {
      "cell_type": "code",
      "source": [
        "!pip install thop"
      ],
      "metadata": {
        "colab": {
          "base_uri": "https://localhost:8080/"
        },
        "id": "sU-gFDXYNPep",
        "outputId": "6f4f853a-c219-4f5d-f1cf-588e62c5edf2"
      },
      "execution_count": null,
      "outputs": [
        {
          "output_type": "stream",
          "name": "stdout",
          "text": [
            "Requirement already satisfied: thop in /usr/local/lib/python3.11/dist-packages (0.1.1.post2209072238)\n",
            "Requirement already satisfied: torch in /usr/local/lib/python3.11/dist-packages (from thop) (2.5.1+cu124)\n",
            "Requirement already satisfied: filelock in /usr/local/lib/python3.11/dist-packages (from torch->thop) (3.17.0)\n",
            "Requirement already satisfied: typing-extensions>=4.8.0 in /usr/local/lib/python3.11/dist-packages (from torch->thop) (4.12.2)\n",
            "Requirement already satisfied: networkx in /usr/local/lib/python3.11/dist-packages (from torch->thop) (3.4.2)\n",
            "Requirement already satisfied: jinja2 in /usr/local/lib/python3.11/dist-packages (from torch->thop) (3.1.6)\n",
            "Requirement already satisfied: fsspec in /usr/local/lib/python3.11/dist-packages (from torch->thop) (2024.9.0)\n",
            "Requirement already satisfied: nvidia-cuda-nvrtc-cu12==12.4.127 in /usr/local/lib/python3.11/dist-packages (from torch->thop) (12.4.127)\n",
            "Requirement already satisfied: nvidia-cuda-runtime-cu12==12.4.127 in /usr/local/lib/python3.11/dist-packages (from torch->thop) (12.4.127)\n",
            "Requirement already satisfied: nvidia-cuda-cupti-cu12==12.4.127 in /usr/local/lib/python3.11/dist-packages (from torch->thop) (12.4.127)\n",
            "Requirement already satisfied: nvidia-cudnn-cu12==9.1.0.70 in /usr/local/lib/python3.11/dist-packages (from torch->thop) (9.1.0.70)\n",
            "Requirement already satisfied: nvidia-cublas-cu12==12.4.5.8 in /usr/local/lib/python3.11/dist-packages (from torch->thop) (12.4.5.8)\n",
            "Requirement already satisfied: nvidia-cufft-cu12==11.2.1.3 in /usr/local/lib/python3.11/dist-packages (from torch->thop) (11.2.1.3)\n",
            "Requirement already satisfied: nvidia-curand-cu12==10.3.5.147 in /usr/local/lib/python3.11/dist-packages (from torch->thop) (10.3.5.147)\n",
            "Requirement already satisfied: nvidia-cusolver-cu12==11.6.1.9 in /usr/local/lib/python3.11/dist-packages (from torch->thop) (11.6.1.9)\n",
            "Requirement already satisfied: nvidia-cusparse-cu12==12.3.1.170 in /usr/local/lib/python3.11/dist-packages (from torch->thop) (12.3.1.170)\n",
            "Requirement already satisfied: nvidia-nccl-cu12==2.21.5 in /usr/local/lib/python3.11/dist-packages (from torch->thop) (2.21.5)\n",
            "Requirement already satisfied: nvidia-nvtx-cu12==12.4.127 in /usr/local/lib/python3.11/dist-packages (from torch->thop) (12.4.127)\n",
            "Requirement already satisfied: nvidia-nvjitlink-cu12==12.4.127 in /usr/local/lib/python3.11/dist-packages (from torch->thop) (12.4.127)\n",
            "Requirement already satisfied: triton==3.1.0 in /usr/local/lib/python3.11/dist-packages (from torch->thop) (3.1.0)\n",
            "Requirement already satisfied: sympy==1.13.1 in /usr/local/lib/python3.11/dist-packages (from torch->thop) (1.13.1)\n",
            "Requirement already satisfied: mpmath<1.4,>=1.1.0 in /usr/local/lib/python3.11/dist-packages (from sympy==1.13.1->torch->thop) (1.3.0)\n",
            "Requirement already satisfied: MarkupSafe>=2.0 in /usr/local/lib/python3.11/dist-packages (from jinja2->torch->thop) (3.0.2)\n"
          ]
        }
      ]
    },
    {
      "cell_type": "code",
      "execution_count": null,
      "metadata": {
        "colab": {
          "base_uri": "https://localhost:8080/"
        },
        "id": "81QRVoGVe1iY",
        "outputId": "d5815791-eca2-48d4-b8aa-dbd7b867a60b"
      },
      "outputs": [
        {
          "output_type": "stream",
          "name": "stdout",
          "text": [
            "Training on cpu\n"
          ]
        }
      ],
      "source": [
        "from collections import OrderedDict, Counter\n",
        "from typing import Dict, List, Optional, Tuple\n",
        "\n",
        "import matplotlib.pyplot as plt\n",
        "import numpy as np\n",
        "import torch\n",
        "import torch.nn as nn\n",
        "import torch.nn.functional as F\n",
        "import torchvision.transforms as transforms\n",
        "from torch.utils.data import DataLoader\n",
        "\n",
        "from flwr_datasets import FederatedDataset\n",
        "\n",
        "\n",
        "DEVICE = torch.device(\"cpu\")  # Try \"cuda\" to train on GPU\n",
        "print(f\"Training on {DEVICE}\")"
      ]
    },
    {
      "cell_type": "markdown",
      "metadata": {
        "id": "C8jpPOMUeesL"
      },
      "source": [
        "# Dataloader\n"
      ]
    },
    {
      "cell_type": "code",
      "execution_count": null,
      "metadata": {
        "id": "3eSppwJ3sLLC"
      },
      "outputs": [],
      "source": [
        "BATCH_SIZE = 32\n",
        "NUM_CLIENTS = 10"
      ]
    },
    {
      "cell_type": "code",
      "execution_count": 30,
      "metadata": {
        "collapsed": true,
        "id": "IegZUniri1tS"
      },
      "outputs": [],
      "source": [
        "def load_datasets(partition_id: int, num_partitions: int):\n",
        "    fds = FederatedDataset(dataset=\"ylecun/mnist\",\n",
        "                           partitioners={\"train\": num_partitions})\n",
        "\n",
        "    pytorch_transforms = transforms.Compose(\n",
        "        [transforms.ToTensor(), transforms.Normalize((0.1307,), (0.3081,))]\n",
        "    )\n",
        "    def apply_transforms(batch):\n",
        "        batch[\"image\"] = [pytorch_transforms(img) for img in batch[\"image\"]]\n",
        "        return batch\n",
        "\n",
        "    partition = fds.load_partition(partition_id)\n",
        "    # Divider : 80% train, 20% test\n",
        "    partition_train_test = partition.train_test_split(test_size=0.2, seed=42)\n",
        "    #Apply Tranforms\n",
        "    partition_train_test = partition_train_test.with_transform(apply_transforms)\n",
        "\n",
        "    trainloader = DataLoader(partition_train_test[\"train\"], shuffle=True )\n",
        "    valloader = DataLoader(partition_train_test[\"test\"])\n",
        "\n",
        "    testset = fds.load_split(\"test\").with_transform(apply_transforms)\n",
        "    testloader = DataLoader(testset)\n",
        "\n",
        "    return trainloader, valloader, testloader"
      ]
    },
    {
      "cell_type": "code",
      "source": [
        "trainloader, valloader, testloader = load_datasets(0,1)\n",
        "\n",
        "total_size = 0\n",
        "\n",
        "# Iterate through the images in the partition\n",
        "for sample in trainloader:\n",
        "    image = sample[\"image\"]  # Assuming image is a tensor or PIL image\n",
        "    if isinstance(image, torch.Tensor):\n",
        "        # If image is a tensor, get the shape and calculate size\n",
        "        image_size = image.numel() * image.element_size()  # in bytes\n",
        "    else:\n",
        "        # If image is a PIL image, get the size in bytes\n",
        "        image_size = len(image.tobytes())\n",
        "\n",
        "    total_size += image_size\n",
        "\n",
        "# Convert the total size to kilobytes\n",
        "total_size_kb = total_size / 1024.0\n",
        "\n",
        "print(f\"Total size of the partition in bytes: {total_size}\")\n",
        "print(f\"Total size of the partition in kilobytes: {total_size_kb}\")\n",
        "print(f\"Total size of the partition in Megabytes: {total_size_kb / 1000}\")\n",
        "\n",
        "print(f\"{len(trainloader) = }\")\n",
        "print(f\"{len(valloader) = }\")\n",
        "print(f\"{len(testloader) = }\")\n",
        "\n"
      ],
      "metadata": {
        "id": "vApUV9BjJy8K",
        "outputId": "79a9f8df-47bd-4d8d-9373-bb47ec833ab0",
        "colab": {
          "base_uri": "https://localhost:8080/"
        }
      },
      "execution_count": 31,
      "outputs": [
        {
          "output_type": "stream",
          "name": "stdout",
          "text": [
            "Total size of the partition in bytes: 150528000\n",
            "Total size of the partition in kilobytes: 147000.0\n",
            "Total size of the partition in Megabytes: 147.0\n",
            "len(trainloader) = 48000\n",
            "len(valloader) = 12000\n",
            "len(testloader) = 10000\n"
          ]
        }
      ]
    },
    {
      "cell_type": "markdown",
      "source": [
        "# models"
      ],
      "metadata": {
        "id": "7sJv9IbbNaUh"
      }
    },
    {
      "cell_type": "code",
      "source": [
        "from thop import profile\n",
        "\n",
        "def Cal_fPO(model):\n",
        "  input_tensor = torch.randn(1, 1, 28, 28)\n",
        "  flops, params = profile(model, inputs=(input_tensor,))\n",
        "  print(f\"FLOPs: {flops}\")\n",
        "  print(f\"Parameters: {params}\")\n",
        "\n",
        "  trainloader, valloader, _ = load_datasets(0,10)\n",
        "  datasize = len(trainloader)\n",
        "  FPO_epoch = 3 * flops * datasize\n",
        "  FPO_validation = flops * len(valloader)\n",
        "\n",
        "  print(f\"FPO_epoch: {FPO_epoch/10**6}M\")\n",
        "  print(f\"FPO_validation: {FPO_validation/10**6}M\")"
      ],
      "metadata": {
        "id": "eRyJEzViNnDu"
      },
      "execution_count": null,
      "outputs": []
    },
    {
      "cell_type": "code",
      "source": [
        "def cal_param(model):\n",
        "  num_parameters = sum(value.numel() for value in model.state_dict().values())\n",
        "  print(f\"{num_parameters = }\")\n",
        "\n",
        "  model_size_bytes = num_parameters * 4\n",
        "\n",
        "  # Convert bytes to megabytes\n",
        "  model_size_mb = model_size_bytes / (1024 * 1024)\n",
        "\n",
        "  print(f\"num_parameters = {num_parameters}\")\n",
        "  print(f\"Model size = {model_size_mb:.2f} MB\")"
      ],
      "metadata": {
        "id": "MSUgLfLHOAJT"
      },
      "execution_count": null,
      "outputs": []
    },
    {
      "cell_type": "markdown",
      "metadata": {
        "id": "BrJWWa_JjUTk"
      },
      "source": [
        "## Model 1"
      ]
    },
    {
      "cell_type": "code",
      "execution_count": null,
      "metadata": {
        "id": "zo5PCprRixcB"
      },
      "outputs": [],
      "source": [
        "class Net(nn.Module):\n",
        "    def __init__(self):\n",
        "        super(Net, self).__init__()\n",
        "        self.conv1 = nn.Conv2d(1, 6, 5)\n",
        "        self.pool = nn.MaxPool2d(2, 2)\n",
        "        self.conv2 = nn.Conv2d(6, 16, 5)\n",
        "        self.fc1 = nn.Linear(16 * 4 * 4, 120)\n",
        "        self.fc2 = nn.Linear(120, 84)\n",
        "        self.fc3 = nn.Linear(84, 10)\n",
        "\n",
        "    def forward(self, x: torch.Tensor) -> torch.Tensor:\n",
        "        x = self.pool(F.relu(self.conv1(x)))\n",
        "        x = self.pool(F.relu(self.conv2(x)))\n",
        "        x = x.view(-1, 16 * 4 * 4)\n",
        "        x = F.relu(self.fc1(x))\n",
        "        x = F.relu(self.fc2(x))\n",
        "        x = self.fc3(x)\n",
        "        return x"
      ]
    },
    {
      "cell_type": "code",
      "execution_count": null,
      "metadata": {
        "colab": {
          "base_uri": "https://localhost:8080/"
        },
        "id": "hBSI1-6bka1b",
        "outputId": "484fc69a-212f-49a2-ad70-ac3afbc49575"
      },
      "outputs": [
        {
          "output_type": "stream",
          "name": "stdout",
          "text": [
            "num_parameters = 44426\n",
            "num_parameters = 44426\n",
            "Model size = 0.17 MB\n",
            "[INFO] Register count_convNd() for <class 'torch.nn.modules.conv.Conv2d'>.\n",
            "[INFO] Register zero_ops() for <class 'torch.nn.modules.pooling.MaxPool2d'>.\n",
            "[INFO] Register count_linear() for <class 'torch.nn.modules.linear.Linear'>.\n",
            "FLOPs: 281640.0\n",
            "Parameters: 44426.0\n",
            "FPO_epoch: 126.738M\n",
            "FPO_validation: 10.70232M\n"
          ]
        }
      ],
      "source": [
        "net = Net()\n",
        "cal_param(net)\n",
        "Cal_fPO(net)"
      ]
    }
  ],
  "metadata": {
    "colab": {
      "collapsed_sections": [
        "nm_KsFraeQNa",
        "C8jpPOMUeesL"
      ],
      "provenance": [],
      "authorship_tag": "ABX9TyM+1D18xRaaYOiLyuJKMRzZ",
      "include_colab_link": true
    },
    "kernelspec": {
      "display_name": "Python 3",
      "name": "python3"
    },
    "language_info": {
      "name": "python"
    }
  },
  "nbformat": 4,
  "nbformat_minor": 0
}