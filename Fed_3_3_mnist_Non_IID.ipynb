{
  "cells": [
    {
      "cell_type": "markdown",
      "metadata": {
        "id": "view-in-github",
        "colab_type": "text"
      },
      "source": [
        "<a href=\"https://colab.research.google.com/github/theoVasilas/Diplomatic_incident/blob/simulation/Fed_3_3_mnist_Non_IID.ipynb\" target=\"_parent\"><img src=\"https://colab.research.google.com/assets/colab-badge.svg\" alt=\"Open In Colab\"/></a>"
      ]
    },
    {
      "cell_type": "markdown",
      "metadata": {
        "id": "nm_KsFraeQNa"
      },
      "source": [
        "# Installations"
      ]
    },
    {
      "cell_type": "code",
      "execution_count": 1,
      "metadata": {
        "id": "WbXGZcJBcrVT",
        "colab": {
          "base_uri": "https://localhost:8080/"
        },
        "outputId": "22354c7c-fc62-40b5-88a2-c36e0f1d2de0"
      },
      "outputs": [
        {
          "output_type": "stream",
          "name": "stdout",
          "text": [
            "\u001b[2K   \u001b[90m━━━━━━━━━━━━━━━━━━━━━━━━━━━━━━━━━━━━━━━━\u001b[0m \u001b[32m65.1/65.1 MB\u001b[0m \u001b[31m12.2 MB/s\u001b[0m eta \u001b[36m0:00:00\u001b[0m\n",
            "\u001b[2K   \u001b[90m━━━━━━━━━━━━━━━━━━━━━━━━━━━━━━━━━━━━━━━━\u001b[0m \u001b[32m40.8/40.8 MB\u001b[0m \u001b[31m12.8 MB/s\u001b[0m eta \u001b[36m0:00:00\u001b[0m\n",
            "\u001b[2K   \u001b[90m━━━━━━━━━━━━━━━━━━━━━━━━━━━━━━━━━━━━━━━━\u001b[0m \u001b[32m3.9/3.9 MB\u001b[0m \u001b[31m70.2 MB/s\u001b[0m eta \u001b[36m0:00:00\u001b[0m\n",
            "\u001b[2K   \u001b[90m━━━━━━━━━━━━━━━━━━━━━━━━━━━━━━━━━━━━━━━━\u001b[0m \u001b[32m480.6/480.6 kB\u001b[0m \u001b[31m27.5 MB/s\u001b[0m eta \u001b[36m0:00:00\u001b[0m\n",
            "\u001b[2K   \u001b[90m━━━━━━━━━━━━━━━━━━━━━━━━━━━━━━━━━━━━━━━━\u001b[0m \u001b[32m179.3/179.3 kB\u001b[0m \u001b[31m11.9 MB/s\u001b[0m eta \u001b[36m0:00:00\u001b[0m\n",
            "\u001b[2K   \u001b[90m━━━━━━━━━━━━━━━━━━━━━━━━━━━━━━━━━━━━━━━━\u001b[0m \u001b[32m5.6/5.6 MB\u001b[0m \u001b[31m71.5 MB/s\u001b[0m eta \u001b[36m0:00:00\u001b[0m\n",
            "\u001b[2K   \u001b[90m━━━━━━━━━━━━━━━━━━━━━━━━━━━━━━━━━━━━━━━━\u001b[0m \u001b[32m2.3/2.3 MB\u001b[0m \u001b[31m60.7 MB/s\u001b[0m eta \u001b[36m0:00:00\u001b[0m\n",
            "\u001b[2K   \u001b[90m━━━━━━━━━━━━━━━━━━━━━━━━━━━━━━━━━━━━━━━━\u001b[0m \u001b[32m47.3/47.3 kB\u001b[0m \u001b[31m3.5 MB/s\u001b[0m eta \u001b[36m0:00:00\u001b[0m\n",
            "\u001b[2K   \u001b[90m━━━━━━━━━━━━━━━━━━━━━━━━━━━━━━━━━━━━━━━━\u001b[0m \u001b[32m512.2/512.2 kB\u001b[0m \u001b[31m29.3 MB/s\u001b[0m eta \u001b[36m0:00:00\u001b[0m\n",
            "\u001b[2K   \u001b[90m━━━━━━━━━━━━━━━━━━━━━━━━━━━━━━━━━━━━━━━━\u001b[0m \u001b[32m78.7/78.7 kB\u001b[0m \u001b[31m5.8 MB/s\u001b[0m eta \u001b[36m0:00:00\u001b[0m\n",
            "\u001b[2K   \u001b[90m━━━━━━━━━━━━━━━━━━━━━━━━━━━━━━━━━━━━━━━━\u001b[0m \u001b[32m116.3/116.3 kB\u001b[0m \u001b[31m8.0 MB/s\u001b[0m eta \u001b[36m0:00:00\u001b[0m\n",
            "\u001b[2K   \u001b[90m━━━━━━━━━━━━━━━━━━━━━━━━━━━━━━━━━━━━━━━━\u001b[0m \u001b[32m134.8/134.8 kB\u001b[0m \u001b[31m10.4 MB/s\u001b[0m eta \u001b[36m0:00:00\u001b[0m\n",
            "\u001b[2K   \u001b[90m━━━━━━━━━━━━━━━━━━━━━━━━━━━━━━━━━━━━━━━━\u001b[0m \u001b[32m194.1/194.1 kB\u001b[0m \u001b[31m13.2 MB/s\u001b[0m eta \u001b[36m0:00:00\u001b[0m\n",
            "\u001b[?25h\u001b[31mERROR: pip's dependency resolver does not currently take into account all the packages that are installed. This behaviour is the source of the following dependency conflicts.\n",
            "gcsfs 2024.10.0 requires fsspec==2024.10.0, but you have fsspec 2024.9.0 which is incompatible.\u001b[0m\u001b[31m\n",
            "\u001b[0m"
          ]
        }
      ],
      "source": [
        "!pip install -q flwr[simulation] flwr-datasets[vision] torch torchvision"
      ]
    },
    {
      "cell_type": "code",
      "execution_count": 2,
      "metadata": {
        "colab": {
          "base_uri": "https://localhost:8080/"
        },
        "id": "81QRVoGVe1iY",
        "outputId": "a45b8312-fa97-4c42-c628-91a9944a4c94"
      },
      "outputs": [
        {
          "output_type": "stream",
          "name": "stdout",
          "text": [
            "Training on cpu\n",
            "Flower 1.13.1 / PyTorch 2.5.1+cu121\n"
          ]
        }
      ],
      "source": [
        "from collections import OrderedDict, Counter\n",
        "from typing import Dict, List, Optional, Tuple\n",
        "\n",
        "import matplotlib.pyplot as plt\n",
        "import numpy as np\n",
        "import torch\n",
        "import torch.nn as nn\n",
        "import torch.nn.functional as F\n",
        "import torchvision.transforms as transforms\n",
        "from torch.utils.data import DataLoader\n",
        "from datasets import load_dataset, logging\n",
        "from datasets.utils.logging import disable_progress_bar\n",
        "\n",
        "import flwr\n",
        "from flwr.client import Client, ClientApp, NumPyClient\n",
        "from flwr.common import Metrics, Context\n",
        "from flwr.server import ServerApp, ServerConfig, ServerAppComponents\n",
        "from flwr.server.strategy import FedAvg, FedAdagrad\n",
        "from flwr.simulation import run_simulation\n",
        "from flwr_datasets import FederatedDataset\n",
        "from flwr.common import ndarrays_to_parameters, NDArrays, Scalar, Context\n",
        "\n",
        "\n",
        "DEVICE = torch.device(\"cpu\")  # Try \"cuda\" to train on GPU\n",
        "print(f\"Training on {DEVICE}\")\n",
        "print(f\"Flower {flwr.__version__} / PyTorch {torch.__version__}\")\n",
        "disable_progress_bar()"
      ]
    },
    {
      "cell_type": "markdown",
      "metadata": {
        "id": "nQAJVA2Tn7zV"
      },
      "source": [
        "# Dataloader"
      ]
    },
    {
      "cell_type": "code",
      "execution_count": 3,
      "metadata": {
        "id": "RGnxv9n1XQy6",
        "colab": {
          "base_uri": "https://localhost:8080/"
        },
        "outputId": "7a201e34-5d28-4813-f69e-fbf2af44b77e"
      },
      "outputs": [
        {
          "output_type": "stream",
          "name": "stderr",
          "text": [
            "/usr/local/lib/python3.10/dist-packages/ipykernel/ipkernel.py:283: DeprecationWarning: `should_run_async` will not call `transform_cell` automatically in the future. Please pass the result to `transformed_cell` argument and any exception that happen during thetransform in `preprocessing_exc_tuple` in IPython 7.17 and above.\n",
            "  and should_run_async(code)\n"
          ]
        }
      ],
      "source": [
        "BATCH_SIZE = 32\n",
        "NUM_CLIENTS = 10"
      ]
    },
    {
      "cell_type": "code",
      "execution_count": 4,
      "metadata": {
        "collapsed": true,
        "id": "tO_9qbNRnxvd"
      },
      "outputs": [],
      "source": [
        "from flwr_datasets.partitioner import DirichletPartitioner\n",
        "from flwr_datasets.visualization import plot_label_distributions\n",
        "\n",
        "def load_datasets(partition_id: int, num_partitions: int):\n",
        "    fds = FederatedDataset(\n",
        "        dataset=\"mnist\",\n",
        "        partitioners={\n",
        "            \"train\": DirichletPartitioner(\n",
        "                num_partitions=NUM_CLIENTS,\n",
        "                partition_by=\"label\",\n",
        "                alpha=0.3,\n",
        "                seed=42,\n",
        "                min_partition_size=0,\n",
        "            ),\n",
        "        },\n",
        "    )\n",
        "\n",
        "    pytorch_transforms = transforms.Compose([\n",
        "        transforms.ToTensor(),\n",
        "        transforms.Normalize((0.1307,), (0.3081,))\n",
        "    ])\n",
        "\n",
        "    def apply_transforms(batch):\n",
        "        batch[\"image\"] = [pytorch_transforms(img) for img in batch[\"image\"]]\n",
        "        return batch\n",
        "\n",
        "    partition = fds.load_partition(partition_id)\n",
        "    # Divider : 80% train, 20% test\n",
        "    partition_train_test = partition.train_test_split(test_size=0.2, seed=42)\n",
        "    #Apply Tranforms\n",
        "    partition_train_test = partition_train_test.with_transform(apply_transforms)\n",
        "\n",
        "    trainloader = DataLoader(partition_train_test[\"train\"], batch_size=BATCH_SIZE, shuffle=True )\n",
        "    valloader = DataLoader(partition_train_test[\"test\"], batch_size=BATCH_SIZE)\n",
        "\n",
        "    testset = fds.load_split(\"test\").with_transform(apply_transforms)\n",
        "    testloader = DataLoader(testset, batch_size=BATCH_SIZE)\n",
        "\n",
        "    return trainloader, valloader, testloader"
      ]
    },
    {
      "cell_type": "markdown",
      "metadata": {
        "id": "zH5D5Os9nxvd"
      },
      "source": [
        "### Histogram of the dataset\n"
      ]
    },
    {
      "cell_type": "code",
      "execution_count": 5,
      "metadata": {
        "id": "4pbCiAMpF_Ra",
        "colab": {
          "base_uri": "https://localhost:8080/",
          "height": 0,
          "referenced_widgets": [
            "96d8ad3900d24f4f962f0d5c587a3fab",
            "a6143713719748a9a271f9b507ac5c69",
            "c9ae7d7b49844220845fa41efa445b4f",
            "1464011934354648bd99a088db601f89",
            "0754646e51e4431f8a292e8764e1b57d",
            "8f4aadfee16e4fa98f9a7366dfb7c799",
            "3769a5f901664513b8c2acde9866f933",
            "9953ab88009d4ef38a62aaa4cae47a5f",
            "50a77adbc1b84b0c980fc66fc68465fb",
            "ebd8b1bfd5e544e3855fb964460c7ef7",
            "ce5aaee50a064062b298b6e87780325c",
            "7d42c0d1034f4140a8926fe5787e5722",
            "af3f15d3a53c49faa2d9cd791cbc6173",
            "675f66f6345e4a2385b50063f19828e8",
            "bf82faaa36eb4bb6bcd0a20543d34720",
            "2ac00aa449764d16ab017d3eb513fd54",
            "75d7d43d568d47b1b8e153faa5216575",
            "93a2002bf52044e39be207911ab1cd62",
            "25289911ed3e4d6d89f9fb799390feb5",
            "268df0b05e334ac6b55ac2285910cb0f",
            "15f581e9f4b24050bb121beaa4a4ff0c",
            "3236dd7869274f4ea53cd856f5240cb9",
            "03e1da01280541cdb810a418eb89bdc6",
            "c31c4a0d1b2f4fd1844970359fe6d4fe",
            "d658d148dfd24dd7b3d241f557f5e54f",
            "356e8b19414d4d84957e5ce2ac75a403",
            "8002bc4b6630489ebc60cfc20698247d",
            "ca7c8781c3b446db9116e26f56cb1930",
            "9a95b09857b549cfbd0887656fc209c9",
            "e5f8cb08d14e4efea07e9a680c93d006",
            "5ad7479559d84517b61d30ed11503b8d",
            "d19e81824d3241e0a594f4731687c794",
            "a8be593659aa4515b448fa52a2d0359f"
          ]
        },
        "outputId": "cb6e4f6f-4410-42bf-87de-2168bcc9446e"
      },
      "outputs": [
        {
          "output_type": "stream",
          "name": "stderr",
          "text": [
            "/usr/local/lib/python3.10/dist-packages/huggingface_hub/utils/_auth.py:94: UserWarning: \n",
            "The secret `HF_TOKEN` does not exist in your Colab secrets.\n",
            "To authenticate with the Hugging Face Hub, create a token in your settings tab (https://huggingface.co/settings/tokens), set it as secret in your Google Colab and restart your session.\n",
            "You will be able to reuse this secret in all of your notebooks.\n",
            "Please note that authentication is recommended but still optional to access public models or datasets.\n",
            "  warnings.warn(\n"
          ]
        },
        {
          "output_type": "display_data",
          "data": {
            "text/plain": [
              "README.md:   0%|          | 0.00/6.97k [00:00<?, ?B/s]"
            ],
            "application/vnd.jupyter.widget-view+json": {
              "version_major": 2,
              "version_minor": 0,
              "model_id": "96d8ad3900d24f4f962f0d5c587a3fab"
            }
          },
          "metadata": {}
        },
        {
          "output_type": "display_data",
          "data": {
            "text/plain": [
              "train-00000-of-00001.parquet:   0%|          | 0.00/15.6M [00:00<?, ?B/s]"
            ],
            "application/vnd.jupyter.widget-view+json": {
              "version_major": 2,
              "version_minor": 0,
              "model_id": "7d42c0d1034f4140a8926fe5787e5722"
            }
          },
          "metadata": {}
        },
        {
          "output_type": "display_data",
          "data": {
            "text/plain": [
              "test-00000-of-00001.parquet:   0%|          | 0.00/2.60M [00:00<?, ?B/s]"
            ],
            "application/vnd.jupyter.widget-view+json": {
              "version_major": 2,
              "version_minor": 0,
              "model_id": "03e1da01280541cdb810a418eb89bdc6"
            }
          },
          "metadata": {}
        }
      ],
      "source": [
        "from flwr_datasets import FederatedDataset\n",
        "from flwr_datasets.partitioner import (\n",
        "    IidPartitioner,\n",
        "    DirichletPartitioner,\n",
        "    ShardPartitioner,\n",
        ")\n",
        "\n",
        "partitioner_list = []\n",
        "title_list = [\"IidPartitioner\", \"DirichletPartitioner\", \"ShardPartitioner\"]\n",
        "\n",
        "## IidPartitioner\n",
        "fds = FederatedDataset(\n",
        "    dataset=\"mnist\",\n",
        "    partitioners={\n",
        "        \"train\": IidPartitioner(num_partitions=10),\n",
        "    },\n",
        ")\n",
        "partitioner_list.append(fds.partitioners[\"train\"])\n",
        "\n",
        "## DirichletPartitioner\n",
        "fds = FederatedDataset(\n",
        "    dataset=\"mnist\",\n",
        "    partitioners={\n",
        "        \"train\": DirichletPartitioner(\n",
        "            num_partitions=10,\n",
        "            partition_by=\"label\",\n",
        "            alpha=1.0,\n",
        "            min_partition_size=0,\n",
        "        ),\n",
        "    },\n",
        ")\n",
        "partitioner_list.append(fds.partitioners[\"train\"])\n",
        "\n",
        "## ShardPartitioner\n",
        "fds = FederatedDataset(\n",
        "    dataset=\"mnist\",\n",
        "    partitioners={\n",
        "        \"train\": ShardPartitioner(\n",
        "            num_partitions=10, partition_by=\"label\", num_shards_per_partition=2\n",
        "        )\n",
        "    },\n",
        ")\n",
        "partitioner_list.append(fds.partitioners[\"train\"])"
      ]
    },
    {
      "cell_type": "code",
      "execution_count": 6,
      "metadata": {
        "colab": {
          "base_uri": "https://localhost:8080/",
          "height": 0
        },
        "id": "VcpgPQqeI9ok",
        "outputId": "1805616a-f4f5-4c60-e0ab-5fd005be7d94"
      },
      "outputs": [
        {
          "output_type": "stream",
          "name": "stderr",
          "text": [
            "/usr/local/lib/python3.10/dist-packages/flwr_datasets/visualization/comparison_label_distribution.py:222: UserWarning: The figure layout has changed to tight\n",
            "  fig.tight_layout()\n"
          ]
        },
        {
          "output_type": "display_data",
          "data": {
            "text/plain": [
              "<Figure size 800x480 with 3 Axes>"
            ],
            "image/png": "[encoded data removed]"
          },
          "metadata": {}
        }
      ],
      "source": [
        "from flwr_datasets.visualization import plot_comparison_label_distribution\n",
        "\n",
        "fig, axes, df_list = plot_comparison_label_distribution(\n",
        "    partitioner_list=partitioner_list,\n",
        "    label_name=\"label\",\n",
        "    subtitle=\"Comparison of Partitioning Schemes on Mnist\",\n",
        "    titles=title_list,\n",
        "    legend=True,\n",
        "    verbose_labels=True,\n",
        ")"
      ]
    },
    {
      "cell_type": "markdown",
      "metadata": {
        "id": "mIqjSC8ecqjn"
      },
      "source": [
        "so the data is IID"
      ]
    },
    {
      "cell_type": "markdown",
      "metadata": {
        "id": "jdYtx3nynxve"
      },
      "source": [
        "# Model"
      ]
    },
    {
      "cell_type": "code",
      "execution_count": 7,
      "metadata": {
        "colab": {
          "base_uri": "https://localhost:8080/"
        },
        "id": "nZedhSu_nxve",
        "outputId": "9a7613b8-8dc8-46bc-8825-bed5e712a553"
      },
      "outputs": [
        {
          "output_type": "stream",
          "name": "stderr",
          "text": [
            "/usr/local/lib/python3.10/dist-packages/ipykernel/ipkernel.py:283: DeprecationWarning: `should_run_async` will not call `transform_cell` automatically in the future. Please pass the result to `transformed_cell` argument and any exception that happen during thetransform in `preprocessing_exc_tuple` in IPython 7.17 and above.\n",
            "  and should_run_async(code)\n"
          ]
        }
      ],
      "source": [
        "class Net(nn.Module):\n",
        "    def __init__(self):\n",
        "        super(Net, self).__init__()\n",
        "        self.conv1 = nn.Conv2d(1, 6, 5)\n",
        "        self.pool = nn.MaxPool2d(2, 2)\n",
        "        self.conv2 = nn.Conv2d(6, 16, 5)\n",
        "        self.fc1 = nn.Linear(16 * 4 * 4, 120)\n",
        "        self.fc2 = nn.Linear(120, 84)\n",
        "        self.fc3 = nn.Linear(84, 10)\n",
        "\n",
        "    def forward(self, x: torch.Tensor) -> torch.Tensor:\n",
        "        x = self.pool(F.relu(self.conv1(x)))\n",
        "        x = self.pool(F.relu(self.conv2(x)))\n",
        "        x = x.view(-1, 16 * 4 * 4)\n",
        "        x = F.relu(self.fc1(x))\n",
        "        x = F.relu(self.fc2(x))\n",
        "        x = self.fc3(x)\n",
        "        return x"
      ]
    },
    {
      "cell_type": "code",
      "execution_count": 8,
      "metadata": {
        "colab": {
          "base_uri": "https://localhost:8080/"
        },
        "id": "eUdA0GtZnxve",
        "outputId": "150443ce-0237-40fe-9c54-c3ab195aefd8"
      },
      "outputs": [
        {
          "output_type": "stream",
          "name": "stdout",
          "text": [
            "num_parameters = 44426\n"
          ]
        }
      ],
      "source": [
        "net = Net()\n",
        "num_parameters = sum(value.numel() for value in net.state_dict().values())\n",
        "print(f\"{num_parameters = }\")"
      ]
    },
    {
      "cell_type": "markdown",
      "metadata": {
        "id": "bWjz0Nerendb"
      },
      "source": [
        "# Train Test func\n"
      ]
    },
    {
      "cell_type": "code",
      "execution_count": 9,
      "metadata": {
        "id": "acU_vF0fkmrk"
      },
      "outputs": [],
      "source": [
        "def train(net, trainloader, optimizer, epochs: int, verbose=False):\n",
        "    \"\"\"Train the network on the training set.\"\"\"\n",
        "    criterion = torch.nn.CrossEntropyLoss()\n",
        "    net.train()\n",
        "    for epoch in range(epochs):\n",
        "        correct, total, epoch_loss = 0, 0, 0.0\n",
        "        for batch in trainloader:\n",
        "            images, labels = batch[\"image\"].to(DEVICE), batch[\"label\"].to(DEVICE)\n",
        "            optimizer.zero_grad()\n",
        "            outputs = net(images)\n",
        "            loss = criterion(outputs, labels)\n",
        "            loss.backward()\n",
        "            optimizer.step()\n",
        "\n",
        "            # Metrics\n",
        "            epoch_loss += loss\n",
        "            total += labels.size(0)\n",
        "            correct += (torch.max(outputs.data, 1)[1] == labels).sum().item()\n",
        "\n",
        "        epoch_loss /= len(trainloader.dataset)\n",
        "        epoch_acc = correct / total\n",
        "        if verbose:\n",
        "            print(f\"Epoch {epoch+1}: train loss {epoch_loss}, accuracy {epoch_acc}\")\n",
        "\n",
        "\n",
        "def test(net, testloader):\n",
        "    \"\"\"Evaluate the network on the entire test set.\"\"\"\n",
        "    criterion = torch.nn.CrossEntropyLoss()\n",
        "    correct, total, loss = 0, 0, 0.0\n",
        "\n",
        "    net.eval()\n",
        "    with torch.no_grad():\n",
        "        for batch in testloader:\n",
        "            images, labels = batch[\"image\"].to(DEVICE), batch[\"label\"].to(DEVICE)\n",
        "            outputs = net(images)\n",
        "\n",
        "            loss += criterion(outputs, labels).item()\n",
        "            _, predicted = torch.max(outputs.data, 1)\n",
        "            total += labels.size(0)\n",
        "            correct += (predicted == labels).sum().item()\n",
        "\n",
        "    loss /= len(testloader.dataset)\n",
        "    accuracy = correct / total\n",
        "    return loss, accuracy"
      ]
    },
    {
      "cell_type": "markdown",
      "metadata": {
        "id": "TzT9lfBvr3KZ"
      },
      "source": [
        "# Federation"
      ]
    },
    {
      "cell_type": "markdown",
      "metadata": {
        "id": "2cKphyyRfX73"
      },
      "source": [
        "## set-get params\n"
      ]
    },
    {
      "cell_type": "code",
      "execution_count": 10,
      "metadata": {
        "id": "n8TluyQffXa3"
      },
      "outputs": [],
      "source": [
        "def set_parameters(net, parameters: List[np.ndarray]):\n",
        "    params_dict = zip(net.state_dict().keys(), parameters)\n",
        "    state_dict = OrderedDict({k: torch.Tensor(v) for k, v in params_dict})\n",
        "    # replace the parameters\n",
        "    net.load_state_dict(state_dict, strict=True)\n",
        "\n",
        "\n",
        "def get_parameters(net) -> List[np.ndarray]:\n",
        "    \"\"\"Extract model parameters as a list of NumPy arrays.\"\"\"\n",
        "    return [val.cpu().numpy() for _, val in net.state_dict().items()]"
      ]
    },
    {
      "cell_type": "markdown",
      "metadata": {
        "id": "ItO_cOnewf93"
      },
      "source": [
        "## FlowerClient"
      ]
    },
    {
      "cell_type": "code",
      "execution_count": 11,
      "metadata": {
        "id": "QPIbdYyUwes4"
      },
      "outputs": [],
      "source": [
        "class FlowerClient(NumPyClient):\n",
        "    def __init__(self, pid, net, trainloader, valloader):\n",
        "        self.pid = pid  # partition ID of a client\n",
        "        self.net = net\n",
        "        self.trainloader = trainloader\n",
        "        self.valloader = valloader\n",
        "\n",
        "    def get_parameters(self, config):\n",
        "        print(f\"[Client {self.pid}] get_parameters\")\n",
        "        return get_parameters(self.net)\n",
        "\n",
        "    def fit(self, parameters, config):\n",
        "        # Read values from config\n",
        "        server_round = config[\"server_round\"]\n",
        "        local_epochs = config[\"local_epochs\"]\n",
        "\n",
        "        # Use values provided by the config\n",
        "        print(f\"[Client {self.pid}, round {server_round}] fit, config: {config}\")\n",
        "        set_parameters(self.net, parameters)\n",
        "\n",
        "        optim = torch.optim.SGD(self.net.parameters(), lr=0.01, momentum=0.9)\n",
        "        train(self.net, self.trainloader,optim , epochs=local_epochs)\n",
        "#============================================================================================\n",
        "        # model_filename = f\"federated_model_{server_round}.pth\"\n",
        "        # torch.save(net.state_dict(), model_filename)\n",
        "        # print(f\"Model saved as {model_filename}\")\n",
        "#============================================================================================\n",
        "        return get_parameters(self.net), len(self.trainloader), {}\n",
        "\n",
        "    def evaluate(self, parameters, config):\n",
        "\n",
        "        print(f\"[Client {self.pid}] evaluate, config: {config}\")\n",
        "        set_parameters(self.net, parameters)\n",
        "\n",
        "        loss, accuracy = test(self.net, self.valloader)\n",
        "\n",
        "\n",
        "\n",
        "        return float(loss), len(self.valloader), {\"accuracy\": float(accuracy)}\n",
        "\n",
        "\n",
        "def client_fn(context: Context) -> Client:\n",
        "\n",
        "    net = Net().to(DEVICE)\n",
        "\n",
        "    partition_id = context.node_config[\"partition-id\"]\n",
        "    num_partitions = context.node_config[\"num-partitions\"]\n",
        "\n",
        "    trainloader, valloader, _ = load_datasets(partition_id, num_partitions)\n",
        "\n",
        "    # print(f\"FlowerClient is created\")\n",
        "    return FlowerClient(partition_id, net, trainloader, valloader).to_client()\n",
        "\n",
        "\n",
        "# Create the ClientApp\n",
        "client = ClientApp(client_fn=client_fn)"
      ]
    },
    {
      "cell_type": "markdown",
      "metadata": {
        "id": "qspNHaEtwH6d"
      },
      "source": [
        "## Agregation Function"
      ]
    },
    {
      "cell_type": "code",
      "execution_count": 12,
      "metadata": {
        "id": "m1B4l0UqwHWd"
      },
      "outputs": [],
      "source": [
        "def weighted_average(metrics: List[Tuple[int, Metrics]]) -> Metrics:\n",
        "    # Multiply accuracy of each client by number of examples used\n",
        "    accuracies = [num_examples * m[\"accuracy\"] for num_examples, m in metrics]\n",
        "    examples = [num_examples for num_examples, _ in metrics]\n",
        "\n",
        "    # Aggregate and return custom metric (weighted average)\n",
        "    return {\"accuracy\": sum(accuracies) / sum(examples)}"
      ]
    },
    {
      "cell_type": "code",
      "execution_count": 13,
      "metadata": {
        "id": "WqzWwkJoneTK"
      },
      "outputs": [],
      "source": [
        "Agregation_history = []\n",
        "\n",
        "def My_weighted_average(metrics: List[Tuple[int, Metrics]]) -> Metrics:\n",
        "\n",
        "    accuracies = [num_examples * m[\"accuracy\"] for num_examples, m in metrics]\n",
        "    losses = [num_examples * m.get(\"loss\", 0.0) for num_examples, m in metrics]\n",
        "    examples = [num_examples for num_examples, _ in metrics]\n",
        "\n",
        "    accuracy = sum(accuracies) / sum(examples)\n",
        "    loss = sum(losses) / sum(examples)\n",
        "\n",
        "    # Save metrics to history\n",
        "    Agregation_history.append({\n",
        "        # \"round\": server_round,\n",
        "        \"loss\": loss,\n",
        "        \"accuracy\": accuracy\n",
        "    })\n",
        "\n",
        "    print(f\"My_weighted_average -{accuracy} {loss} \")\n",
        "\n",
        "    return {\"accuracy\": accuracy, \"loss\": loss}"
      ]
    },
    {
      "cell_type": "markdown",
      "metadata": {
        "id": "knQUJf_4wxeh"
      },
      "source": [
        "## Server Evaluate metrics aggregation fn"
      ]
    },
    {
      "cell_type": "code",
      "execution_count": 14,
      "metadata": {
        "id": "--YKr9xWwulZ"
      },
      "outputs": [],
      "source": [
        "# The `evaluate` function will be called by Flower after every round\n",
        "def evaluate(\n",
        "    server_round: int,\n",
        "    parameters: NDArrays,\n",
        "    config: Dict[str, Scalar],\n",
        ") -> Optional[Tuple[float, Dict[str, Scalar]]]:\n",
        "\n",
        "    net = Net().to(DEVICE)\n",
        "\n",
        "    _, _, testloader = load_datasets(0, NUM_CLIENTS)\n",
        "\n",
        "    set_parameters(net, parameters)  # Update model with the latest parameters\n",
        "\n",
        "    loss, accuracy = test(net, testloader)\n",
        "\n",
        "    print(f\"Server-side evaluation loss {loss} / accuracy {accuracy}\")\n",
        "\n",
        "    return loss, {\"server_round\": server_round, \"accuracy\": accuracy, \"loss\": loss}"
      ]
    },
    {
      "cell_type": "code",
      "execution_count": 15,
      "metadata": {
        "id": "7iOysmhM4xkn"
      },
      "outputs": [],
      "source": [
        "evaluation_history = []\n",
        "\n",
        "def My_evaluate(\n",
        "    server_round: int,\n",
        "    parameters: NDArrays,\n",
        "    config: Dict[str, Scalar],\n",
        ") -> Optional[Tuple[float, Dict[str, Scalar]]]:\n",
        "\n",
        "    net = Net().to(DEVICE)\n",
        "\n",
        "    _, _, testloader = load_datasets(0, NUM_CLIENTS)\n",
        "\n",
        "    set_parameters(net, parameters)  # Update model with the latest parameters\n",
        "\n",
        "    loss, accuracy = test(net, testloader)\n",
        "\n",
        "    print(f\"Server-side evaluation loss {loss} / accuracy {accuracy}\")\n",
        "\n",
        "    # Save metrics to history\n",
        "    evaluation_history.append({\n",
        "        \"round\": server_round,\n",
        "        \"loss\": loss,\n",
        "        \"accuracy\": accuracy\n",
        "    })\n",
        "\n",
        "    model_filename = f\"federated_model_{server_round}.pth\"\n",
        "    torch.save(net.state_dict(), model_filename)\n",
        "    print(f\"Model saved as {model_filename}\")\n",
        "\n",
        "    return loss, {\"accuracy\": accuracy}\n"
      ]
    },
    {
      "cell_type": "markdown",
      "source": [],
      "metadata": {
        "id": "OiUTwtzxgZBk"
      }
    },
    {
      "cell_type": "markdown",
      "metadata": {
        "id": "q8a-4OUwuUlj"
      },
      "source": [
        "## Server Fn Strategy"
      ]
    },
    {
      "cell_type": "code",
      "execution_count": 16,
      "metadata": {
        "id": "ovdO-TbMsmJN"
      },
      "outputs": [],
      "source": [
        "def fit_config(server_round: int):\n",
        "    config = {\n",
        "        \"server_round\": server_round,  # The current round of federated learning\n",
        "        \"local_epochs\": 1 ,\n",
        "    }\n",
        "    return config"
      ]
    },
    {
      "cell_type": "code",
      "execution_count": 17,
      "metadata": {
        "id": "0Yik1laByNMB"
      },
      "outputs": [],
      "source": [
        "NUM_CLIENTS = 10"
      ]
    },
    {
      "cell_type": "code",
      "execution_count": 18,
      "metadata": {
        "id": "Ql8afg82ugnE"
      },
      "outputs": [],
      "source": [
        "NUM_ROUNDS = 10"
      ]
    },
    {
      "cell_type": "code",
      "execution_count": 19,
      "metadata": {
        "id": "k3DpUzwDrmEo"
      },
      "outputs": [],
      "source": [
        "params = get_parameters(Net())"
      ]
    },
    {
      "cell_type": "code",
      "execution_count": 20,
      "metadata": {
        "id": "qVXUWwcCr_8-"
      },
      "outputs": [],
      "source": [
        "def server_fn(context: Context) -> ServerAppComponents:\n",
        "    # Create FedAvg strategy\n",
        "    strategy = FedAvg(\n",
        "        fraction_fit  = 1,\n",
        "        fraction_evaluate = 1,\n",
        "        min_fit_clients  =  5,\n",
        "        min_evaluate_clients  = 2,\n",
        "        min_available_clients = NUM_CLIENTS, # use all\n",
        "        evaluate_fn = My_evaluate, # function used for validation dy server\n",
        "        on_fit_config_fn  = fit_config,  # Pass the fit_config function\n",
        "        # on_evaluate_config_fn,\n",
        "        # accept_failures,\n",
        "        initial_parameters  = ndarrays_to_parameters(params),\n",
        "        evaluate_metrics_aggregation_fn =  My_weighted_average,\n",
        "        # inplace,\n",
        "    )\n",
        "\n",
        "    config = ServerConfig(num_rounds = NUM_ROUNDS)\n",
        "\n",
        "    return ServerAppComponents(strategy=strategy, config = config)\n",
        "\n",
        "\n",
        "# Create the ServerApp\n",
        "server = ServerApp(server_fn=server_fn)"
      ]
    },
    {
      "cell_type": "markdown",
      "source": [],
      "metadata": {
        "id": "fdw3Yn7DgYaF"
      }
    },
    {
      "cell_type": "markdown",
      "metadata": {
        "id": "Wuh15neYr-Lu"
      },
      "source": [
        "\n",
        "\n",
        "\n",
        "---\n",
        "\n",
        "\n",
        "## RUN\n"
      ]
    },
    {
      "cell_type": "code",
      "execution_count": null,
      "metadata": {
        "colab": {
          "base_uri": "https://localhost:8080/"
        },
        "collapsed": true,
        "id": "JkRK4CULr9r9",
        "outputId": "48750926-765c-4885-8a67-bea86a89a7a3"
      },
      "outputs": [
        {
          "output_type": "stream",
          "name": "stderr",
          "text": [
            "DEBUG:flwr:Asyncio event loop already running.\n",
            "\u001b[92mINFO \u001b[0m:      Starting Flower ServerApp, config: num_rounds=10, no round_timeout\n",
            "\u001b[92mINFO \u001b[0m:      \n",
            "\u001b[92mINFO \u001b[0m:      [INIT]\n",
            "\u001b[92mINFO \u001b[0m:      Using initial global parameters provided by strategy\n",
            "\u001b[92mINFO \u001b[0m:      Starting evaluation of initial global parameters\n",
            "\u001b[92mINFO \u001b[0m:      initial parameters (loss, other metrics): 0.07195697515010833, {'accuracy': 0.144}\n",
            "\u001b[92mINFO \u001b[0m:      \n",
            "\u001b[92mINFO \u001b[0m:      [ROUND 1]\n",
            "\u001b[92mINFO \u001b[0m:      configure_fit: strategy sampled 10 clients (out of 10)\n"
          ]
        },
        {
          "output_type": "stream",
          "name": "stdout",
          "text": [
            "Server-side evaluation loss 0.07195697515010833 / accuracy 0.144\n",
            "Model saved as federated_model_0.pth\n"
          ]
        },
        {
          "output_type": "stream",
          "name": "stderr",
          "text": [
            "\u001b[36m(pid=3901)\u001b[0m 2024-12-05 04:52:57.468027: E external/local_xla/xla/stream_executor/cuda/cuda_fft.cc:485] Unable to register cuFFT factory: Attempting to register factory for plugin cuFFT when one has already been registered\n",
            "\u001b[36m(pid=3901)\u001b[0m 2024-12-05 04:52:57.504043: E external/local_xla/xla/stream_executor/cuda/cuda_dnn.cc:8454] Unable to register cuDNN factory: Attempting to register factory for plugin cuDNN when one has already been registered\n",
            "\u001b[36m(pid=3901)\u001b[0m 2024-12-05 04:52:57.515614: E external/local_xla/xla/stream_executor/cuda/cuda_blas.cc:1452] Unable to register cuBLAS factory: Attempting to register factory for plugin cuBLAS when one has already been registered\n",
            "\u001b[36m(pid=3901)\u001b[0m 2024-12-05 04:53:00.586820: W tensorflow/compiler/tf2tensorrt/utils/py_utils.cc:38] TF-TRT Warning: Could not find TensorRT\n",
            "\u001b[36m(ClientAppActor pid=3901)\u001b[0m /usr/local/lib/python3.10/dist-packages/jupyter_client/connect.py:28: DeprecationWarning: Jupyter is migrating its paths to use standard platformdirs\n",
            "\u001b[36m(ClientAppActor pid=3901)\u001b[0m given by the platformdirs library.  To remove this warning and\n",
            "\u001b[36m(ClientAppActor pid=3901)\u001b[0m see the appropriate new directories, set the environment variable\n",
            "\u001b[36m(ClientAppActor pid=3901)\u001b[0m `JUPYTER_PLATFORM_DIRS=1` and then run `jupyter --paths`.\n",
            "\u001b[36m(ClientAppActor pid=3901)\u001b[0m The use of platformdirs will be the default in `jupyter_core` v6\n",
            "\u001b[36m(ClientAppActor pid=3901)\u001b[0m   from jupyter_core.paths import jupyter_data_dir, jupyter_runtime_dir, secure_write\n",
            "\u001b[36m(pid=3900)\u001b[0m 2024-12-05 04:52:57.633566: E external/local_xla/xla/stream_executor/cuda/cuda_fft.cc:485] Unable to register cuFFT factory: Attempting to register factory for plugin cuFFT when one has already been registered\n",
            "\u001b[36m(pid=3900)\u001b[0m 2024-12-05 04:52:57.672125: E external/local_xla/xla/stream_executor/cuda/cuda_dnn.cc:8454] Unable to register cuDNN factory: Attempting to register factory for plugin cuDNN when one has already been registered\n",
            "\u001b[36m(pid=3900)\u001b[0m 2024-12-05 04:52:57.684093: E external/local_xla/xla/stream_executor/cuda/cuda_blas.cc:1452] Unable to register cuBLAS factory: Attempting to register factory for plugin cuBLAS when one has already been registered\n",
            "\u001b[36m(pid=3900)\u001b[0m 2024-12-05 04:53:00.975087: W tensorflow/compiler/tf2tensorrt/utils/py_utils.cc:38] TF-TRT Warning: Could not find TensorRT\n"
          ]
        },
        {
          "output_type": "stream",
          "name": "stdout",
          "text": [
            "\u001b[36m(ClientAppActor pid=3900)\u001b[0m [Client 2, round 1] fit, config: {'server_round': 1, 'local_epochs': 1}\n",
            "\u001b[36m(ClientAppActor pid=3901)\u001b[0m [Client 5, round 1] fit, config: {'server_round': 1, 'local_epochs': 1}\u001b[32m [repeated 3x across cluster] (Ray deduplicates logs by default. Set RAY_DEDUP_LOGS=0 to disable log deduplication, or see https://docs.ray.io/en/master/ray-observability/ray-logging.html#log-deduplication for more options.)\u001b[0m\n",
            "\u001b[36m(ClientAppActor pid=3901)\u001b[0m [Client 0, round 1] fit, config: {'server_round': 1, 'local_epochs': 1}\u001b[32m [repeated 3x across cluster]\u001b[0m\n",
            "\u001b[36m(ClientAppActor pid=3901)\u001b[0m [Client 4, round 1] fit, config: {'server_round': 1, 'local_epochs': 1}\u001b[32m [repeated 2x across cluster]\u001b[0m\n"
          ]
        },
        {
          "output_type": "stream",
          "name": "stderr",
          "text": [
            "\u001b[92mINFO \u001b[0m:      aggregate_fit: received 10 results and 0 failures\n",
            "\u001b[93mWARNING \u001b[0m:   No fit_metrics_aggregation_fn provided\n",
            "\u001b[92mINFO \u001b[0m:      fit progress: (1, 0.037477218347787854, {'accuracy': 0.6024}, 56.350420129999975)\n",
            "\u001b[92mINFO \u001b[0m:      configure_evaluate: strategy sampled 10 clients (out of 10)\n"
          ]
        },
        {
          "output_type": "stream",
          "name": "stdout",
          "text": [
            "Server-side evaluation loss 0.037477218347787854 / accuracy 0.6024\n",
            "Model saved as federated_model_1.pth\n",
            "\u001b[36m(ClientAppActor pid=3901)\u001b[0m [Client 1] evaluate, config: {}\n",
            "\u001b[36m(ClientAppActor pid=3900)\u001b[0m [Client 6, round 1] fit, config: {'server_round': 1, 'local_epochs': 1}\n",
            "\u001b[36m(ClientAppActor pid=3900)\u001b[0m [Client 3] evaluate, config: {}\u001b[32m [repeated 6x across cluster]\u001b[0m\n"
          ]
        },
        {
          "output_type": "stream",
          "name": "stderr",
          "text": [
            "\u001b[92mINFO \u001b[0m:      aggregate_evaluate: received 10 results and 0 failures\n",
            "\u001b[92mINFO \u001b[0m:      \n",
            "\u001b[92mINFO \u001b[0m:      [ROUND 2]\n",
            "\u001b[92mINFO \u001b[0m:      configure_fit: strategy sampled 10 clients (out of 10)\n"
          ]
        },
        {
          "output_type": "stream",
          "name": "stdout",
          "text": [
            "My_weighted_average -0.6004126462106232 0.0 \n",
            "\u001b[36m(ClientAppActor pid=3900)\u001b[0m [Client 1, round 2] fit, config: {'server_round': 2, 'local_epochs': 1}\n",
            "\u001b[36m(ClientAppActor pid=3900)\u001b[0m [Client 6] evaluate, config: {}\u001b[32m [repeated 3x across cluster]\u001b[0m\n",
            "\u001b[36m(ClientAppActor pid=3900)\u001b[0m [Client 3, round 2] fit, config: {'server_round': 2, 'local_epochs': 1}\u001b[32m [repeated 2x across cluster]\u001b[0m\n",
            "\u001b[36m(ClientAppActor pid=3901)\u001b[0m [Client 6, round 2] fit, config: {'server_round': 2, 'local_epochs': 1}\u001b[32m [repeated 2x across cluster]\u001b[0m\n",
            "\u001b[36m(ClientAppActor pid=3901)\u001b[0m [Client 8, round 2] fit, config: {'server_round': 2, 'local_epochs': 1}\u001b[32m [repeated 3x across cluster]\u001b[0m\n",
            "\u001b[36m(ClientAppActor pid=3900)\u001b[0m [Client 4, round 2] fit, config: {'server_round': 2, 'local_epochs': 1}\n",
            "\u001b[36m(ClientAppActor pid=3901)\u001b[0m [Client 2, round 2] fit, config: {'server_round': 2, 'local_epochs': 1}\n"
          ]
        },
        {
          "output_type": "stream",
          "name": "stderr",
          "text": [
            "\u001b[92mINFO \u001b[0m:      aggregate_fit: received 10 results and 0 failures\n",
            "\u001b[92mINFO \u001b[0m:      fit progress: (2, 0.007851393847167492, {'accuracy': 0.9337}, 105.75042024200002)\n",
            "\u001b[92mINFO \u001b[0m:      configure_evaluate: strategy sampled 10 clients (out of 10)\n"
          ]
        },
        {
          "output_type": "stream",
          "name": "stdout",
          "text": [
            "Server-side evaluation loss 0.007851393847167492 / accuracy 0.9337\n",
            "Model saved as federated_model_2.pth\n",
            "\u001b[36m(ClientAppActor pid=3901)\u001b[0m [Client 3] evaluate, config: {}\n",
            "\u001b[36m(ClientAppActor pid=3900)\u001b[0m [Client 9] evaluate, config: {}\u001b[32m [repeated 6x across cluster]\u001b[0m\n"
          ]
        },
        {
          "output_type": "stream",
          "name": "stderr",
          "text": [
            "\u001b[92mINFO \u001b[0m:      aggregate_evaluate: received 10 results and 0 failures\n",
            "\u001b[92mINFO \u001b[0m:      \n",
            "\u001b[92mINFO \u001b[0m:      [ROUND 3]\n",
            "\u001b[92mINFO \u001b[0m:      configure_fit: strategy sampled 10 clients (out of 10)\n"
          ]
        },
        {
          "output_type": "stream",
          "name": "stdout",
          "text": [
            "My_weighted_average -0.9277770166490794 0.0 \n",
            "\u001b[36m(ClientAppActor pid=3900)\u001b[0m [Client 5, round 3] fit, config: {'server_round': 3, 'local_epochs': 1}\n",
            "\u001b[36m(ClientAppActor pid=3901)\u001b[0m [Client 1] evaluate, config: {}\u001b[32m [repeated 3x across cluster]\u001b[0m\n",
            "\u001b[36m(ClientAppActor pid=3900)\u001b[0m [Client 1, round 3] fit, config: {'server_round': 3, 'local_epochs': 1}\u001b[32m [repeated 3x across cluster]\u001b[0m\n",
            "\u001b[36m(ClientAppActor pid=3900)\u001b[0m [Client 6, round 3] fit, config: {'server_round': 3, 'local_epochs': 1}\u001b[32m [repeated 2x across cluster]\u001b[0m\n",
            "\u001b[36m(ClientAppActor pid=3900)\u001b[0m [Client 8, round 3] fit, config: {'server_round': 3, 'local_epochs': 1}\u001b[32m [repeated 3x across cluster]\u001b[0m\n"
          ]
        },
        {
          "output_type": "stream",
          "name": "stderr",
          "text": [
            "\u001b[92mINFO \u001b[0m:      aggregate_fit: received 10 results and 0 failures\n",
            "\u001b[92mINFO \u001b[0m:      fit progress: (3, 0.004451217584963888, {'accuracy': 0.9578}, 152.76489213599996)\n",
            "\u001b[92mINFO \u001b[0m:      configure_evaluate: strategy sampled 10 clients (out of 10)\n"
          ]
        },
        {
          "output_type": "stream",
          "name": "stdout",
          "text": [
            "Server-side evaluation loss 0.004451217584963888 / accuracy 0.9578\n",
            "Model saved as federated_model_3.pth\n",
            "\u001b[36m(ClientAppActor pid=3900)\u001b[0m [Client 2] evaluate, config: {}\n",
            "\u001b[36m(ClientAppActor pid=3901)\u001b[0m [Client 3, round 3] fit, config: {'server_round': 3, 'local_epochs': 1}\n",
            "\u001b[36m(ClientAppActor pid=3900)\u001b[0m [Client 0] evaluate, config: {}\u001b[32m [repeated 6x across cluster]\u001b[0m\n"
          ]
        },
        {
          "output_type": "stream",
          "name": "stderr",
          "text": [
            "\u001b[92mINFO \u001b[0m:      aggregate_evaluate: received 10 results and 0 failures\n",
            "\u001b[92mINFO \u001b[0m:      \n",
            "\u001b[92mINFO \u001b[0m:      [ROUND 4]\n",
            "\u001b[92mINFO \u001b[0m:      configure_fit: strategy sampled 10 clients (out of 10)\n"
          ]
        },
        {
          "output_type": "stream",
          "name": "stdout",
          "text": [
            "My_weighted_average -0.952210811476744 0.0 \n",
            "\u001b[36m(ClientAppActor pid=3900)\u001b[0m [Client 0, round 4] fit, config: {'server_round': 4, 'local_epochs': 1}\n",
            "\u001b[36m(ClientAppActor pid=3901)\u001b[0m [Client 4] evaluate, config: {}\u001b[32m [repeated 3x across cluster]\u001b[0m\n",
            "\u001b[36m(ClientAppActor pid=3900)\u001b[0m [Client 4, round 4] fit, config: {'server_round': 4, 'local_epochs': 1}\u001b[32m [repeated 2x across cluster]\u001b[0m\n",
            "\u001b[36m(ClientAppActor pid=3901)\u001b[0m [Client 8, round 4] fit, config: {'server_round': 4, 'local_epochs': 1}\u001b[32m [repeated 4x across cluster]\u001b[0m\n",
            "\u001b[36m(ClientAppActor pid=3901)\u001b[0m [Client 7, round 4] fit, config: {'server_round': 4, 'local_epochs': 1}\u001b[32m [repeated 2x across cluster]\u001b[0m\n"
          ]
        },
        {
          "output_type": "stream",
          "name": "stderr",
          "text": [
            "\u001b[92mINFO \u001b[0m:      aggregate_fit: received 10 results and 0 failures\n",
            "\u001b[92mINFO \u001b[0m:      fit progress: (4, 0.003136938432464376, {'accuracy': 0.9699}, 204.174545384)\n",
            "\u001b[92mINFO \u001b[0m:      configure_evaluate: strategy sampled 10 clients (out of 10)\n"
          ]
        },
        {
          "output_type": "stream",
          "name": "stdout",
          "text": [
            "Server-side evaluation loss 0.003136938432464376 / accuracy 0.9699\n",
            "Model saved as federated_model_4.pth\n",
            "\u001b[36m(ClientAppActor pid=3900)\u001b[0m [Client 1] evaluate, config: {}\n",
            "\u001b[36m(ClientAppActor pid=3900)\u001b[0m [Client 6, round 4] fit, config: {'server_round': 4, 'local_epochs': 1}\n",
            "\u001b[36m(ClientAppActor pid=3901)\u001b[0m [Client 6] evaluate, config: {}\u001b[32m [repeated 4x across cluster]\u001b[0m\n"
          ]
        },
        {
          "output_type": "stream",
          "name": "stderr",
          "text": [
            "\u001b[92mINFO \u001b[0m:      aggregate_evaluate: received 10 results and 0 failures\n",
            "\u001b[92mINFO \u001b[0m:      \n",
            "\u001b[92mINFO \u001b[0m:      [ROUND 5]\n",
            "\u001b[92mINFO \u001b[0m:      configure_fit: strategy sampled 10 clients (out of 10)\n"
          ]
        },
        {
          "output_type": "stream",
          "name": "stdout",
          "text": [
            "My_weighted_average -0.9649582076288822 0.0 \n",
            "\u001b[36m(ClientAppActor pid=3900)\u001b[0m [Client 3, round 5] fit, config: {'server_round': 5, 'local_epochs': 1}\n",
            "\u001b[36m(ClientAppActor pid=3901)\u001b[0m [Client 3] evaluate, config: {}\u001b[32m [repeated 5x across cluster]\u001b[0m\n",
            "\u001b[36m(ClientAppActor pid=3901)\u001b[0m [Client 7, round 5] fit, config: {'server_round': 5, 'local_epochs': 1}\u001b[32m [repeated 3x across cluster]\u001b[0m\n",
            "\u001b[36m(ClientAppActor pid=3900)\u001b[0m [Client 9, round 5] fit, config: {'server_round': 5, 'local_epochs': 1}\u001b[32m [repeated 2x across cluster]\u001b[0m\n",
            "\u001b[36m(ClientAppActor pid=3901)\u001b[0m [Client 0, round 5] fit, config: {'server_round': 5, 'local_epochs': 1}\u001b[32m [repeated 3x across cluster]\u001b[0m\n"
          ]
        },
        {
          "output_type": "stream",
          "name": "stderr",
          "text": [
            "\u001b[92mINFO \u001b[0m:      aggregate_fit: received 10 results and 0 failures\n",
            "\u001b[92mINFO \u001b[0m:      fit progress: (5, 0.002528823841549456, {'accuracy': 0.9738}, 253.31981566699994)\n",
            "\u001b[92mINFO \u001b[0m:      configure_evaluate: strategy sampled 10 clients (out of 10)\n"
          ]
        },
        {
          "output_type": "stream",
          "name": "stdout",
          "text": [
            "Server-side evaluation loss 0.002528823841549456 / accuracy 0.9738\n",
            "Model saved as federated_model_5.pth\n",
            "\u001b[36m(ClientAppActor pid=3901)\u001b[0m [Client 1] evaluate, config: {}\n",
            "\u001b[36m(ClientAppActor pid=3900)\u001b[0m [Client 1, round 5] fit, config: {'server_round': 5, 'local_epochs': 1}\n",
            "\u001b[36m(ClientAppActor pid=3900)\u001b[0m [Client 7] evaluate, config: {}\u001b[32m [repeated 4x across cluster]\u001b[0m\n"
          ]
        },
        {
          "output_type": "stream",
          "name": "stderr",
          "text": [
            "\u001b[92mINFO \u001b[0m:      aggregate_evaluate: received 10 results and 0 failures\n",
            "\u001b[92mINFO \u001b[0m:      \n",
            "\u001b[92mINFO \u001b[0m:      [ROUND 6]\n",
            "\u001b[92mINFO \u001b[0m:      configure_fit: strategy sampled 10 clients (out of 10)\n"
          ]
        },
        {
          "output_type": "stream",
          "name": "stdout",
          "text": [
            "My_weighted_average -0.9700321010261108 0.0 \n",
            "\u001b[36m(ClientAppActor pid=3900)\u001b[0m [Client 1, round 6] fit, config: {'server_round': 6, 'local_epochs': 1}\n",
            "\u001b[36m(ClientAppActor pid=3900)\u001b[0m [Client 9] evaluate, config: {}\u001b[32m [repeated 5x across cluster]\u001b[0m\n",
            "\u001b[36m(ClientAppActor pid=3900)\u001b[0m [Client 2, round 6] fit, config: {'server_round': 6, 'local_epochs': 1}\u001b[32m [repeated 2x across cluster]\u001b[0m\n",
            "\u001b[36m(ClientAppActor pid=3901)\u001b[0m [Client 7, round 6] fit, config: {'server_round': 6, 'local_epochs': 1}\u001b[32m [repeated 3x across cluster]\u001b[0m\n",
            "\u001b[36m(ClientAppActor pid=3900)\u001b[0m [Client 8, round 6] fit, config: {'server_round': 6, 'local_epochs': 1}\u001b[32m [repeated 2x across cluster]\u001b[0m\n"
          ]
        },
        {
          "output_type": "stream",
          "name": "stderr",
          "text": [
            "\u001b[92mINFO \u001b[0m:      aggregate_fit: received 10 results and 0 failures\n",
            "\u001b[92mINFO \u001b[0m:      fit progress: (6, 0.0022411986282328145, {'accuracy': 0.9776}, 302.67830558)\n",
            "\u001b[92mINFO \u001b[0m:      configure_evaluate: strategy sampled 10 clients (out of 10)\n"
          ]
        },
        {
          "output_type": "stream",
          "name": "stdout",
          "text": [
            "Server-side evaluation loss 0.0022411986282328145 / accuracy 0.9776\n",
            "Model saved as federated_model_6.pth\n",
            "\u001b[36m(ClientAppActor pid=3901)\u001b[0m [Client 1] evaluate, config: {}\n",
            "\u001b[36m(ClientAppActor pid=3901)\u001b[0m [Client 9, round 6] fit, config: {'server_round': 6, 'local_epochs': 1}\u001b[32m [repeated 2x across cluster]\u001b[0m\n",
            "\u001b[36m(ClientAppActor pid=3900)\u001b[0m [Client 3] evaluate, config: {}\u001b[32m [repeated 6x across cluster]\u001b[0m\n"
          ]
        },
        {
          "output_type": "stream",
          "name": "stderr",
          "text": [
            "\u001b[92mINFO \u001b[0m:      aggregate_evaluate: received 10 results and 0 failures\n",
            "\u001b[92mINFO \u001b[0m:      \n",
            "\u001b[92mINFO \u001b[0m:      [ROUND 7]\n",
            "\u001b[92mINFO \u001b[0m:      configure_fit: strategy sampled 10 clients (out of 10)\n"
          ]
        },
        {
          "output_type": "stream",
          "name": "stdout",
          "text": [
            "My_weighted_average -0.9739002402664189 0.0 \n",
            "\u001b[36m(ClientAppActor pid=3900)\u001b[0m [Client 3, round 7] fit, config: {'server_round': 7, 'local_epochs': 1}\n",
            "\u001b[36m(ClientAppActor pid=3901)\u001b[0m [Client 6] evaluate, config: {}\u001b[32m [repeated 3x across cluster]\u001b[0m\n",
            "\u001b[36m(ClientAppActor pid=3901)\u001b[0m [Client 4, round 7] fit, config: {'server_round': 7, 'local_epochs': 1}\u001b[32m [repeated 2x across cluster]\u001b[0m\n",
            "\u001b[36m(ClientAppActor pid=3900)\u001b[0m [Client 9, round 7] fit, config: {'server_round': 7, 'local_epochs': 1}\u001b[32m [repeated 3x across cluster]\u001b[0m\n",
            "\u001b[36m(ClientAppActor pid=3900)\u001b[0m [Client 7, round 7] fit, config: {'server_round': 7, 'local_epochs': 1}\u001b[32m [repeated 2x across cluster]\u001b[0m\n",
            "\u001b[36m(ClientAppActor pid=3901)\u001b[0m [Client 6, round 7] fit, config: {'server_round': 7, 'local_epochs': 1}\u001b[32m [repeated 2x across cluster]\u001b[0m\n"
          ]
        },
        {
          "output_type": "stream",
          "name": "stderr",
          "text": [
            "\u001b[92mINFO \u001b[0m:      aggregate_fit: received 10 results and 0 failures\n",
            "\u001b[92mINFO \u001b[0m:      fit progress: (7, 0.0019346961123170331, {'accuracy': 0.9803}, 350.32368997000003)\n",
            "\u001b[92mINFO \u001b[0m:      configure_evaluate: strategy sampled 10 clients (out of 10)\n"
          ]
        },
        {
          "output_type": "stream",
          "name": "stdout",
          "text": [
            "Server-side evaluation loss 0.0019346961123170331 / accuracy 0.9803\n",
            "Model saved as federated_model_7.pth\n",
            "\u001b[36m(ClientAppActor pid=3901)\u001b[0m [Client 1] evaluate, config: {}\n",
            "\u001b[36m(ClientAppActor pid=3900)\u001b[0m [Client 8] evaluate, config: {}\u001b[32m [repeated 6x across cluster]\u001b[0m\n"
          ]
        },
        {
          "output_type": "stream",
          "name": "stderr",
          "text": [
            "\u001b[92mINFO \u001b[0m:      aggregate_evaluate: received 10 results and 0 failures\n",
            "\u001b[92mINFO \u001b[0m:      \n",
            "\u001b[92mINFO \u001b[0m:      [ROUND 8]\n",
            "\u001b[92mINFO \u001b[0m:      configure_fit: strategy sampled 10 clients (out of 10)\n"
          ]
        },
        {
          "output_type": "stream",
          "name": "stdout",
          "text": [
            "My_weighted_average -0.9772767004237861 0.0 \n",
            "\u001b[36m(ClientAppActor pid=3900)\u001b[0m [Client 1, round 8] fit, config: {'server_round': 8, 'local_epochs': 1}\n",
            "\u001b[36m(ClientAppActor pid=3901)\u001b[0m [Client 7] evaluate, config: {}\u001b[32m [repeated 3x across cluster]\u001b[0m\n",
            "\u001b[36m(ClientAppActor pid=3900)\u001b[0m [Client 4, round 8] fit, config: {'server_round': 8, 'local_epochs': 1}\u001b[32m [repeated 2x across cluster]\u001b[0m\n",
            "\u001b[36m(ClientAppActor pid=3900)\u001b[0m [Client 2, round 8] fit, config: {'server_round': 8, 'local_epochs': 1}\u001b[32m [repeated 4x across cluster]\u001b[0m\n",
            "\u001b[36m(ClientAppActor pid=3900)\u001b[0m [Client 3, round 8] fit, config: {'server_round': 8, 'local_epochs': 1}\u001b[32m [repeated 3x across cluster]\u001b[0m\n"
          ]
        },
        {
          "output_type": "stream",
          "name": "stderr",
          "text": [
            "\u001b[92mINFO \u001b[0m:      aggregate_fit: received 10 results and 0 failures\n",
            "\u001b[92mINFO \u001b[0m:      fit progress: (8, 0.0018003339012037031, {'accuracy': 0.9808}, 397.93002624099995)\n",
            "\u001b[92mINFO \u001b[0m:      configure_evaluate: strategy sampled 10 clients (out of 10)\n"
          ]
        },
        {
          "output_type": "stream",
          "name": "stdout",
          "text": [
            "Server-side evaluation loss 0.0018003339012037031 / accuracy 0.9808\n",
            "Model saved as federated_model_8.pth\n",
            "\u001b[36m(ClientAppActor pid=3901)\u001b[0m [Client 1] evaluate, config: {}\n",
            "\u001b[36m(ClientAppActor pid=3900)\u001b[0m [Client 5] evaluate, config: {}\u001b[32m [repeated 6x across cluster]\u001b[0m\n"
          ]
        },
        {
          "output_type": "stream",
          "name": "stderr",
          "text": [
            "\u001b[92mINFO \u001b[0m:      aggregate_evaluate: received 10 results and 0 failures\n",
            "\u001b[92mINFO \u001b[0m:      \n",
            "\u001b[92mINFO \u001b[0m:      [ROUND 9]\n",
            "\u001b[92mINFO \u001b[0m:      configure_fit: strategy sampled 10 clients (out of 10)\n"
          ]
        },
        {
          "output_type": "stream",
          "name": "stdout",
          "text": [
            "My_weighted_average -0.9775578578699099 0.0 \n",
            "\u001b[36m(ClientAppActor pid=3900)\u001b[0m [Client 4, round 9] fit, config: {'server_round': 9, 'local_epochs': 1}\n",
            "\u001b[36m(ClientAppActor pid=3901)\u001b[0m [Client 4] evaluate, config: {}\u001b[32m [repeated 3x across cluster]\u001b[0m\n",
            "\u001b[36m(ClientAppActor pid=3900)\u001b[0m [Client 5, round 9] fit, config: {'server_round': 9, 'local_epochs': 1}\u001b[32m [repeated 2x across cluster]\u001b[0m\n",
            "\u001b[36m(ClientAppActor pid=3901)\u001b[0m [Client 9, round 9] fit, config: {'server_round': 9, 'local_epochs': 1}\u001b[32m [repeated 3x across cluster]\u001b[0m\n",
            "\u001b[36m(ClientAppActor pid=3901)\u001b[0m [Client 2, round 9] fit, config: {'server_round': 9, 'local_epochs': 1}\n",
            "\u001b[36m(ClientAppActor pid=3901)\u001b[0m [Client 0, round 9] fit, config: {'server_round': 9, 'local_epochs': 1}\n",
            "\u001b[36m(ClientAppActor pid=3901)\u001b[0m [Client 8, round 9] fit, config: {'server_round': 9, 'local_epochs': 1}\u001b[32m [repeated 2x across cluster]\u001b[0m\n"
          ]
        },
        {
          "output_type": "stream",
          "name": "stderr",
          "text": [
            "\u001b[92mINFO \u001b[0m:      aggregate_fit: received 10 results and 0 failures\n",
            "\u001b[92mINFO \u001b[0m:      fit progress: (9, 0.0017451590685755947, {'accuracy': 0.9813}, 444.665756754)\n",
            "\u001b[92mINFO \u001b[0m:      configure_evaluate: strategy sampled 10 clients (out of 10)\n"
          ]
        },
        {
          "output_type": "stream",
          "name": "stdout",
          "text": [
            "Server-side evaluation loss 0.0017451590685755947 / accuracy 0.9813\n",
            "Model saved as federated_model_9.pth\n",
            "\u001b[36m(ClientAppActor pid=3901)\u001b[0m [Client 1] evaluate, config: {}\n",
            "\u001b[36m(ClientAppActor pid=3901)\u001b[0m [Client 6] evaluate, config: {}\u001b[32m [repeated 6x across cluster]\u001b[0m\n"
          ]
        },
        {
          "output_type": "stream",
          "name": "stderr",
          "text": [
            "\u001b[92mINFO \u001b[0m:      aggregate_evaluate: received 10 results and 0 failures\n",
            "\u001b[92mINFO \u001b[0m:      \n",
            "\u001b[92mINFO \u001b[0m:      [ROUND 10]\n",
            "\u001b[92mINFO \u001b[0m:      configure_fit: strategy sampled 10 clients (out of 10)\n"
          ]
        },
        {
          "output_type": "stream",
          "name": "stdout",
          "text": [
            "My_weighted_average -0.9780485633401573 0.0 \n",
            "\u001b[36m(ClientAppActor pid=3900)\u001b[0m [Client 0, round 10] fit, config: {'server_round': 10, 'local_epochs': 1}\n",
            "\u001b[36m(ClientAppActor pid=3900)\u001b[0m [Client 2] evaluate, config: {}\u001b[32m [repeated 3x across cluster]\u001b[0m\n",
            "\u001b[36m(ClientAppActor pid=3900)\u001b[0m [Client 4, round 10] fit, config: {'server_round': 10, 'local_epochs': 1}\u001b[32m [repeated 2x across cluster]\u001b[0m\n",
            "\u001b[36m(ClientAppActor pid=3900)\u001b[0m [Client 6, round 10] fit, config: {'server_round': 10, 'local_epochs': 1}\u001b[32m [repeated 2x across cluster]\u001b[0m\n",
            "\u001b[36m(ClientAppActor pid=3901)\u001b[0m [Client 8, round 10] fit, config: {'server_round': 10, 'local_epochs': 1}\u001b[32m [repeated 3x across cluster]\u001b[0m\n",
            "\u001b[36m(ClientAppActor pid=3900)\u001b[0m [Client 1, round 10] fit, config: {'server_round': 10, 'local_epochs': 1}\n",
            "\u001b[36m(ClientAppActor pid=3901)\u001b[0m [Client 2, round 10] fit, config: {'server_round': 10, 'local_epochs': 1}\n"
          ]
        },
        {
          "output_type": "stream",
          "name": "stderr",
          "text": [
            "\u001b[92mINFO \u001b[0m:      aggregate_fit: received 10 results and 0 failures\n",
            "\u001b[92mINFO \u001b[0m:      fit progress: (10, 0.0015524988591554575, {'accuracy': 0.9839}, 495.06818234499997)\n",
            "\u001b[92mINFO \u001b[0m:      configure_evaluate: strategy sampled 10 clients (out of 10)\n"
          ]
        },
        {
          "output_type": "stream",
          "name": "stdout",
          "text": [
            "Server-side evaluation loss 0.0015524988591554575 / accuracy 0.9839\n",
            "Model saved as federated_model_10.pth\n",
            "\u001b[36m(ClientAppActor pid=3901)\u001b[0m [Client 2] evaluate, config: {}\n",
            "\u001b[36m(ClientAppActor pid=3900)\u001b[0m [Client 1] evaluate, config: {}\u001b[32m [repeated 6x across cluster]\u001b[0m\n"
          ]
        },
        {
          "output_type": "stream",
          "name": "stderr",
          "text": [
            "\u001b[92mINFO \u001b[0m:      aggregate_evaluate: received 10 results and 0 failures\n",
            "\u001b[92mINFO \u001b[0m:      \n",
            "\u001b[92mINFO \u001b[0m:      [SUMMARY]\n",
            "\u001b[92mINFO \u001b[0m:      Run finished 10 round(s) in 507.34s\n",
            "\u001b[92mINFO \u001b[0m:      \tHistory (loss, distributed):\n",
            "\u001b[92mINFO \u001b[0m:      \t\tround 1: 0.03875445714693137\n",
            "\u001b[92mINFO \u001b[0m:      \t\tround 2: 0.008547469514457819\n",
            "\u001b[92mINFO \u001b[0m:      \t\tround 3: 0.005021076445269084\n",
            "\u001b[92mINFO \u001b[0m:      \t\tround 4: 0.0036882947950794285\n",
            "\u001b[92mINFO \u001b[0m:      \t\tround 5: 0.0030507090123160743\n",
            "\u001b[92mINFO \u001b[0m:      \t\tround 6: 0.0027217310740074788\n",
            "\u001b[92mINFO \u001b[0m:      \t\tround 7: 0.002412590608417427\n",
            "\u001b[92mINFO \u001b[0m:      \t\tround 8: 0.0022907311188855375\n",
            "\u001b[92mINFO \u001b[0m:      \t\tround 9: 0.0022132165188330556\n",
            "\u001b[92mINFO \u001b[0m:      \t\tround 10: 0.0019924305373190472\n",
            "\u001b[92mINFO \u001b[0m:      \tHistory (loss, centralized):\n",
            "\u001b[92mINFO \u001b[0m:      \t\tround 0: 0.07195697515010833\n",
            "\u001b[92mINFO \u001b[0m:      \t\tround 1: 0.037477218347787854\n",
            "\u001b[92mINFO \u001b[0m:      \t\tround 2: 0.007851393847167492\n",
            "\u001b[92mINFO \u001b[0m:      \t\tround 3: 0.004451217584963888\n",
            "\u001b[92mINFO \u001b[0m:      \t\tround 4: 0.003136938432464376\n",
            "\u001b[92mINFO \u001b[0m:      \t\tround 5: 0.002528823841549456\n",
            "\u001b[92mINFO \u001b[0m:      \t\tround 6: 0.0022411986282328145\n",
            "\u001b[92mINFO \u001b[0m:      \t\tround 7: 0.0019346961123170331\n",
            "\u001b[92mINFO \u001b[0m:      \t\tround 8: 0.0018003339012037031\n",
            "\u001b[92mINFO \u001b[0m:      \t\tround 9: 0.0017451590685755947\n",
            "\u001b[92mINFO \u001b[0m:      \t\tround 10: 0.0015524988591554575\n",
            "\u001b[92mINFO \u001b[0m:      \tHistory (metrics, distributed, evaluate):\n",
            "\u001b[92mINFO \u001b[0m:      \t{'accuracy': [(1, 0.6004126462106232),\n",
            "\u001b[92mINFO \u001b[0m:      \t              (2, 0.9277770166490794),\n",
            "\u001b[92mINFO \u001b[0m:      \t              (3, 0.952210811476744),\n",
            "\u001b[92mINFO \u001b[0m:      \t              (4, 0.9649582076288822),\n",
            "\u001b[92mINFO \u001b[0m:      \t              (5, 0.9700321010261108),\n",
            "\u001b[92mINFO \u001b[0m:      \t              (6, 0.9739002402664189),\n",
            "\u001b[92mINFO \u001b[0m:      \t              (7, 0.9772767004237861),\n",
            "\u001b[92mINFO \u001b[0m:      \t              (8, 0.9775578578699099),\n",
            "\u001b[92mINFO \u001b[0m:      \t              (9, 0.9780485633401573),\n",
            "\u001b[92mINFO \u001b[0m:      \t              (10, 0.9818662004860321)],\n",
            "\u001b[92mINFO \u001b[0m:      \t 'loss': [(1, 0.0),\n",
            "\u001b[92mINFO \u001b[0m:      \t          (2, 0.0),\n",
            "\u001b[92mINFO \u001b[0m:      \t          (3, 0.0),\n",
            "\u001b[92mINFO \u001b[0m:      \t          (4, 0.0),\n",
            "\u001b[92mINFO \u001b[0m:      \t          (5, 0.0),\n",
            "\u001b[92mINFO \u001b[0m:      \t          (6, 0.0),\n",
            "\u001b[92mINFO \u001b[0m:      \t          (7, 0.0),\n",
            "\u001b[92mINFO \u001b[0m:      \t          (8, 0.0),\n",
            "\u001b[92mINFO \u001b[0m:      \t          (9, 0.0),\n",
            "\u001b[92mINFO \u001b[0m:      \t          (10, 0.0)]}\n",
            "\u001b[92mINFO \u001b[0m:      \tHistory (metrics, centralized):\n",
            "\u001b[92mINFO \u001b[0m:      \t{'accuracy': [(0, 0.144),\n",
            "\u001b[92mINFO \u001b[0m:      \t              (1, 0.6024),\n",
            "\u001b[92mINFO \u001b[0m:      \t              (2, 0.9337),\n",
            "\u001b[92mINFO \u001b[0m:      \t              (3, 0.9578),\n",
            "\u001b[92mINFO \u001b[0m:      \t              (4, 0.9699),\n",
            "\u001b[92mINFO \u001b[0m:      \t              (5, 0.9738),\n",
            "\u001b[92mINFO \u001b[0m:      \t              (6, 0.9776),\n",
            "\u001b[92mINFO \u001b[0m:      \t              (7, 0.9803),\n",
            "\u001b[92mINFO \u001b[0m:      \t              (8, 0.9808),\n",
            "\u001b[92mINFO \u001b[0m:      \t              (9, 0.9813),\n",
            "\u001b[92mINFO \u001b[0m:      \t              (10, 0.9839)]}\n",
            "\u001b[92mINFO \u001b[0m:      \n"
          ]
        },
        {
          "output_type": "stream",
          "name": "stdout",
          "text": [
            "My_weighted_average -0.9818662004860321 0.0 \n",
            "\u001b[36m(ClientAppActor pid=3900)\u001b[0m [Client 3] evaluate, config: {}\u001b[32m [repeated 3x across cluster]\u001b[0m\n"
          ]
        },
        {
          "output_type": "stream",
          "name": "stderr",
          "text": [
            "\u001b[36m(ClientAppActor pid=3900)\u001b[0m /usr/local/lib/python3.10/dist-packages/jupyter_client/connect.py:28: DeprecationWarning: Jupyter is migrating its paths to use standard platformdirs\n",
            "\u001b[36m(ClientAppActor pid=3900)\u001b[0m given by the platformdirs library.  To remove this warning and\n",
            "\u001b[36m(ClientAppActor pid=3900)\u001b[0m see the appropriate new directories, set the environment variable\n",
            "\u001b[36m(ClientAppActor pid=3900)\u001b[0m `JUPYTER_PLATFORM_DIRS=1` and then run `jupyter --paths`.\n",
            "\u001b[36m(ClientAppActor pid=3900)\u001b[0m The use of platformdirs will be the default in `jupyter_core` v6\n",
            "\u001b[36m(ClientAppActor pid=3900)\u001b[0m   from jupyter_core.paths import jupyter_data_dir, jupyter_runtime_dir, secure_write\n"
          ]
        }
      ],
      "source": [
        "backend_config = {\"client_resources\": {\"num_cpus\": 1, \"num_gpus\": 0.0}}\n",
        "\n",
        "run_simulation(\n",
        "    server_app=server,\n",
        "    client_app=client,\n",
        "    num_supernodes=NUM_CLIENTS,\n",
        "    backend_config=backend_config,\n",
        ")"
      ]
    },
    {
      "cell_type": "markdown",
      "metadata": {
        "id": "GXe5220lOSjl"
      },
      "source": [
        "# plots"
      ]
    },
    {
      "cell_type": "code",
      "execution_count": null,
      "metadata": {
        "colab": {
          "base_uri": "https://localhost:8080/"
        },
        "id": "Fps6ktTxMjLJ",
        "outputId": "5d02e13a-79c8-495b-efc3-9ed5cf17b693"
      },
      "outputs": [
        {
          "output_type": "stream",
          "name": "stderr",
          "text": [
            "/usr/local/lib/python3.10/dist-packages/ipykernel/ipkernel.py:283: DeprecationWarning: `should_run_async` will not call `transform_cell` automatically in the future. Please pass the result to `transformed_cell` argument and any exception that happen during thetransform in `preprocessing_exc_tuple` in IPython 7.17 and above.\n",
            "  and should_run_async(code)\n",
            "<ipython-input-22-ee3b8fdb1208>:1: FutureWarning: You are using `torch.load` with `weights_only=False` (the current default value), which uses the default pickle module implicitly. It is possible to construct malicious pickle data which will execute arbitrary code during unpickling (See https://github.com/pytorch/pytorch/blob/main/SECURITY.md#untrusted-models for more details). In a future release, the default value for `weights_only` will be flipped to `True`. This limits the functions that could be executed during unpickling. Arbitrary objects will no longer be allowed to be loaded via this mode unless they are explicitly allowlisted by the user via `torch.serialization.add_safe_globals`. We recommend you start setting `weights_only=True` for any use case where you don't have full control of the loaded file. Please open an issue on GitHub for any issues related to this experimental feature.\n",
            "  net.load_state_dict(torch.load(\"federated_model_3.pth\"))\n"
          ]
        },
        {
          "output_type": "stream",
          "name": "stdout",
          "text": [
            "Validation Loss: 0.0040\n",
            "Validation Accuracy: 0.96%\n"
          ]
        }
      ],
      "source": [
        "net.load_state_dict(torch.load(\"federated_model_3.pth\"))\n",
        "net.eval()\n",
        "_, valloader, _ = load_datasets(0, 1)\n",
        "loss, accuracy = test(net, valloader)\n",
        "print(f\"Validation Loss: {loss:.4f}\")\n",
        "print(f\"Validation Accuracy: {accuracy:.2f}%\")"
      ]
    },
    {
      "cell_type": "code",
      "execution_count": null,
      "metadata": {
        "colab": {
          "base_uri": "https://localhost:8080/"
        },
        "id": "1-j5_eQFDq25",
        "outputId": "c8f1a841-7a71-4bfb-840f-82dcdd14f5b4"
      },
      "outputs": [
        {
          "output_type": "stream",
          "name": "stderr",
          "text": [
            "/usr/local/lib/python3.10/dist-packages/ipykernel/ipkernel.py:283: DeprecationWarning: `should_run_async` will not call `transform_cell` automatically in the future. Please pass the result to `transformed_cell` argument and any exception that happen during thetransform in `preprocessing_exc_tuple` in IPython 7.17 and above.\n",
            "  and should_run_async(code)\n"
          ]
        },
        {
          "output_type": "execute_result",
          "data": {
            "text/plain": [
              "[{'loss': 0.0, 'accuracy': 0.6004126462106232},\n",
              " {'loss': 0.0, 'accuracy': 0.9277770166490794},\n",
              " {'loss': 0.0, 'accuracy': 0.952210811476744},\n",
              " {'loss': 0.0, 'accuracy': 0.9649582076288822},\n",
              " {'loss': 0.0, 'accuracy': 0.9700321010261108},\n",
              " {'loss': 0.0, 'accuracy': 0.9739002402664189},\n",
              " {'loss': 0.0, 'accuracy': 0.9772767004237861},\n",
              " {'loss': 0.0, 'accuracy': 0.9775578578699099},\n",
              " {'loss': 0.0, 'accuracy': 0.9780485633401573},\n",
              " {'loss': 0.0, 'accuracy': 0.9818662004860321}]"
            ]
          },
          "metadata": {},
          "execution_count": 23
        }
      ],
      "source": [
        "Agregation_history"
      ]
    },
    {
      "cell_type": "code",
      "execution_count": null,
      "metadata": {
        "colab": {
          "base_uri": "https://localhost:8080/"
        },
        "id": "Jtz2MZwX5WdT",
        "outputId": "acc3a183-2705-4d72-9de4-e4b384c73e90"
      },
      "outputs": [
        {
          "output_type": "execute_result",
          "data": {
            "text/plain": [
              "[{'round': 0, 'loss': 0.07195697515010833, 'accuracy': 0.144},\n",
              " {'round': 1, 'loss': 0.037477218347787854, 'accuracy': 0.6024},\n",
              " {'round': 2, 'loss': 0.007851393847167492, 'accuracy': 0.9337},\n",
              " {'round': 3, 'loss': 0.004451217584963888, 'accuracy': 0.9578},\n",
              " {'round': 4, 'loss': 0.003136938432464376, 'accuracy': 0.9699},\n",
              " {'round': 5, 'loss': 0.002528823841549456, 'accuracy': 0.9738},\n",
              " {'round': 6, 'loss': 0.0022411986282328145, 'accuracy': 0.9776},\n",
              " {'round': 7, 'loss': 0.0019346961123170331, 'accuracy': 0.9803},\n",
              " {'round': 8, 'loss': 0.0018003339012037031, 'accuracy': 0.9808},\n",
              " {'round': 9, 'loss': 0.0017451590685755947, 'accuracy': 0.9813},\n",
              " {'round': 10, 'loss': 0.0015524988591554575, 'accuracy': 0.9839}]"
            ]
          },
          "metadata": {},
          "execution_count": 24
        }
      ],
      "source": [
        "evaluation_history"
      ]
    },
    {
      "cell_type": "code",
      "execution_count": null,
      "metadata": {
        "colab": {
          "base_uri": "https://localhost:8080/",
          "height": 434
        },
        "id": "05FnkZl4EXWd",
        "outputId": "022c4598-01d5-4c6b-82be-f7a90e03810d"
      },
      "outputs": [
        {
          "output_type": "display_data",
          "data": {
            "text/plain": [
              "<Figure size 640x480 with 1 Axes>"
            ],
            "image/png": "[encoded data removed]"
          },
          "metadata": {}
        }
      ],
      "source": [
        "accuracy_values = [d['accuracy'] for d in Agregation_history]\n",
        "plt.plot(accuracy_values)\n",
        "plt.show()"
      ]
    },
    {
      "cell_type": "code",
      "execution_count": null,
      "metadata": {
        "colab": {
          "base_uri": "https://localhost:8080/",
          "height": 497
        },
        "collapsed": true,
        "id": "Nceh6n9N5ovV",
        "outputId": "702811ad-21ef-4041-8be3-aa0bde0a8afa"
      },
      "outputs": [
        {
          "output_type": "display_data",
          "data": {
            "text/plain": [
              "<Figure size 640x480 with 2 Axes>"
            ],
            "image/png": "[encoded data removed]"
          },
          "metadata": {}
        }
      ],
      "source": [
        "rounds = [entry[\"round\"] for entry in evaluation_history]\n",
        "loss = [entry[\"loss\"] for entry in evaluation_history]\n",
        "accuracy = [entry[\"accuracy\"] for entry in evaluation_history]\n",
        "\n",
        "fig, ax1 = plt.subplots()\n",
        "\n",
        "# Plot loss on the first y-axis\n",
        "ax1.set_xlabel(\"Round\")\n",
        "ax1.set_ylabel(\"Loss\", color=\"tab:red\")\n",
        "ax1.plot(rounds, loss, color=\"tab:red\", label=\"Loss\")\n",
        "ax1.tick_params(axis=\"y\", labelcolor=\"tab:red\")\n",
        "\n",
        "# Create a second y-axis for accuracy\n",
        "ax2 = ax1.twinx()\n",
        "ax2.set_ylabel(\"Accuracy\", color=\"tab:blue\")\n",
        "ax2.plot(rounds, accuracy, color=\"tab:blue\", label=\"Accuracy\")\n",
        "ax2.tick_params(axis=\"y\", labelcolor=\"tab:blue\")\n",
        "\n",
        "# Title and legend\n",
        "fig.suptitle(\"Loss and Accuracy over Training Rounds\")\n",
        "ax1.legend(loc=\"upper left\")\n",
        "ax2.legend(loc=\"upper right\")\n",
        "\n",
        "# Show the plot\n",
        "plt.show()\n"
      ]
    },
    {
      "cell_type": "markdown",
      "source": [
        "# More local epoch"
      ],
      "metadata": {
        "id": "4Li79wbMfxTh"
      }
    },
    {
      "cell_type": "markdown",
      "metadata": {
        "id": "G4zO-Ph6f37r"
      },
      "source": [
        "## Server Fn Strategy"
      ]
    },
    {
      "cell_type": "code",
      "execution_count": 21,
      "metadata": {
        "id": "lHt9rFSOf37s"
      },
      "outputs": [],
      "source": [
        "def fit_config(server_round: int):\n",
        "    config = {\n",
        "        \"server_round\": server_round,  # The current round of federated learning\n",
        "        \"local_epochs\": 5 ,\n",
        "    }\n",
        "    return config"
      ]
    },
    {
      "cell_type": "code",
      "execution_count": 22,
      "metadata": {
        "id": "NA2_lI9Qf37s"
      },
      "outputs": [],
      "source": [
        "NUM_CLIENTS = 10"
      ]
    },
    {
      "cell_type": "code",
      "execution_count": 23,
      "metadata": {
        "id": "v9irbG-ef37s"
      },
      "outputs": [],
      "source": [
        "NUM_ROUNDS = 10"
      ]
    },
    {
      "cell_type": "code",
      "execution_count": 24,
      "metadata": {
        "id": "5U4aB6QYf37s"
      },
      "outputs": [],
      "source": [
        "params = get_parameters(Net())"
      ]
    },
    {
      "cell_type": "code",
      "execution_count": 25,
      "metadata": {
        "id": "O-I-3CYbf37s"
      },
      "outputs": [],
      "source": [
        "def server_fn(context: Context) -> ServerAppComponents:\n",
        "    # Create FedAvg strategy\n",
        "    strategy = FedAvg(\n",
        "        fraction_fit  = 1,\n",
        "        fraction_evaluate = 1,\n",
        "        min_fit_clients  =  5,\n",
        "        min_evaluate_clients  = 2,\n",
        "        min_available_clients = NUM_CLIENTS, # use all\n",
        "        evaluate_fn = My_evaluate, # function used for validation dy server\n",
        "        on_fit_config_fn  = fit_config,  # Pass the fit_config function\n",
        "        # on_evaluate_config_fn,\n",
        "        # accept_failures,\n",
        "        initial_parameters  = ndarrays_to_parameters(params),\n",
        "        evaluate_metrics_aggregation_fn =  My_weighted_average,\n",
        "        # inplace,\n",
        "    )\n",
        "\n",
        "    config = ServerConfig(num_rounds = NUM_ROUNDS)\n",
        "\n",
        "    return ServerAppComponents(strategy=strategy, config = config)\n",
        "\n",
        "\n",
        "# Create the ServerApp\n",
        "server = ServerApp(server_fn=server_fn)"
      ]
    },
    {
      "cell_type": "markdown",
      "metadata": {
        "id": "M4_n26gvf37s"
      },
      "source": [
        "## RUN\n"
      ]
    },
    {
      "cell_type": "code",
      "execution_count": 26,
      "metadata": {
        "colab": {
          "base_uri": "https://localhost:8080/"
        },
        "collapsed": true,
        "outputId": "28354dc9-146f-4452-e79c-376ac8cc2980",
        "id": "TzgZ3GtWf37s"
      },
      "outputs": [
        {
          "output_type": "stream",
          "name": "stderr",
          "text": [
            "DEBUG:flwr:Asyncio event loop already running.\n",
            "\u001b[92mINFO \u001b[0m:      Starting Flower ServerApp, config: num_rounds=10, no round_timeout\n",
            "\u001b[92mINFO \u001b[0m:      \n",
            "\u001b[92mINFO \u001b[0m:      [INIT]\n",
            "\u001b[92mINFO \u001b[0m:      Using initial global parameters provided by strategy\n",
            "\u001b[92mINFO \u001b[0m:      Starting evaluation of initial global parameters\n",
            "\u001b[92mINFO \u001b[0m:      initial parameters (loss, other metrics): 0.07198393993377686, {'accuracy': 0.1144}\n",
            "\u001b[92mINFO \u001b[0m:      \n",
            "\u001b[92mINFO \u001b[0m:      [ROUND 1]\n",
            "\u001b[92mINFO \u001b[0m:      configure_fit: strategy sampled 10 clients (out of 10)\n"
          ]
        },
        {
          "output_type": "stream",
          "name": "stdout",
          "text": [
            "Server-side evaluation loss 0.07198393993377686 / accuracy 0.1144\n",
            "Model saved as federated_model_0.pth\n"
          ]
        },
        {
          "output_type": "stream",
          "name": "stderr",
          "text": [
            "\u001b[36m(pid=1972)\u001b[0m 2024-12-05 15:50:41.759204: E external/local_xla/xla/stream_executor/cuda/cuda_fft.cc:485] Unable to register cuFFT factory: Attempting to register factory for plugin cuFFT when one has already been registered\n",
            "\u001b[36m(pid=1973)\u001b[0m 2024-12-05 15:50:41.817437: E external/local_xla/xla/stream_executor/cuda/cuda_dnn.cc:8454] Unable to register cuDNN factory: Attempting to register factory for plugin cuDNN when one has already been registered\n",
            "\u001b[36m(pid=1973)\u001b[0m 2024-12-05 15:50:41.830107: E external/local_xla/xla/stream_executor/cuda/cuda_blas.cc:1452] Unable to register cuBLAS factory: Attempting to register factory for plugin cuBLAS when one has already been registered\n",
            "\u001b[36m(pid=1973)\u001b[0m 2024-12-05 15:50:44.514099: W tensorflow/compiler/tf2tensorrt/utils/py_utils.cc:38] TF-TRT Warning: Could not find TensorRT\n",
            "\u001b[36m(ClientAppActor pid=1972)\u001b[0m /usr/local/lib/python3.10/dist-packages/jupyter_client/connect.py:28: DeprecationWarning: Jupyter is migrating its paths to use standard platformdirs\n",
            "\u001b[36m(ClientAppActor pid=1972)\u001b[0m given by the platformdirs library.  To remove this warning and\n",
            "\u001b[36m(ClientAppActor pid=1972)\u001b[0m see the appropriate new directories, set the environment variable\n",
            "\u001b[36m(ClientAppActor pid=1972)\u001b[0m `JUPYTER_PLATFORM_DIRS=1` and then run `jupyter --paths`.\n",
            "\u001b[36m(ClientAppActor pid=1972)\u001b[0m The use of platformdirs will be the default in `jupyter_core` v6\n",
            "\u001b[36m(ClientAppActor pid=1972)\u001b[0m   from jupyter_core.paths import jupyter_data_dir, jupyter_runtime_dir, secure_write\n",
            "\u001b[36m(pid=1973)\u001b[0m 2024-12-05 15:50:41.775003: E external/local_xla/xla/stream_executor/cuda/cuda_fft.cc:485] Unable to register cuFFT factory: Attempting to register factory for plugin cuFFT when one has already been registered\n",
            "\u001b[36m(pid=1972)\u001b[0m 2024-12-05 15:50:41.804092: E external/local_xla/xla/stream_executor/cuda/cuda_dnn.cc:8454] Unable to register cuDNN factory: Attempting to register factory for plugin cuDNN when one has already been registered\n",
            "\u001b[36m(pid=1972)\u001b[0m 2024-12-05 15:50:41.817487: E external/local_xla/xla/stream_executor/cuda/cuda_blas.cc:1452] Unable to register cuBLAS factory: Attempting to register factory for plugin cuBLAS when one has already been registered\n",
            "\u001b[36m(pid=1972)\u001b[0m 2024-12-05 15:50:44.536845: W tensorflow/compiler/tf2tensorrt/utils/py_utils.cc:38] TF-TRT Warning: Could not find TensorRT\n"
          ]
        },
        {
          "output_type": "stream",
          "name": "stdout",
          "text": [
            "\u001b[36m(ClientAppActor pid=1973)\u001b[0m [Client 0, round 1] fit, config: {'server_round': 1, 'local_epochs': 5}\n",
            "\u001b[36m(ClientAppActor pid=1973)\u001b[0m [Client 5, round 1] fit, config: {'server_round': 1, 'local_epochs': 5}\u001b[32m [repeated 2x across cluster] (Ray deduplicates logs by default. Set RAY_DEDUP_LOGS=0 to disable log deduplication, or see https://docs.ray.io/en/master/ray-observability/ray-logging.html#log-deduplication for more options.)\u001b[0m\n",
            "\u001b[36m(ClientAppActor pid=1972)\u001b[0m [Client 6, round 1] fit, config: {'server_round': 1, 'local_epochs': 5}\n",
            "\u001b[36m(ClientAppActor pid=1972)\u001b[0m [Client 8, round 1] fit, config: {'server_round': 1, 'local_epochs': 5}\n",
            "\u001b[36m(ClientAppActor pid=1973)\u001b[0m [Client 2, round 1] fit, config: {'server_round': 1, 'local_epochs': 5}\u001b[32m [repeated 2x across cluster]\u001b[0m\n",
            "\u001b[36m(ClientAppActor pid=1973)\u001b[0m [Client 4, round 1] fit, config: {'server_round': 1, 'local_epochs': 5}\n",
            "\u001b[36m(ClientAppActor pid=1972)\u001b[0m [Client 1, round 1] fit, config: {'server_round': 1, 'local_epochs': 5}\n",
            "\u001b[36m(ClientAppActor pid=1973)\u001b[0m [Client 7, round 1] fit, config: {'server_round': 1, 'local_epochs': 5}\n"
          ]
        },
        {
          "output_type": "stream",
          "name": "stderr",
          "text": [
            "\u001b[92mINFO \u001b[0m:      aggregate_fit: received 10 results and 0 failures\n",
            "\u001b[93mWARNING \u001b[0m:   No fit_metrics_aggregation_fn provided\n",
            "\u001b[92mINFO \u001b[0m:      fit progress: (1, 0.02554964945912361, {'accuracy': 0.9224}, 183.86729541199992)\n",
            "\u001b[92mINFO \u001b[0m:      configure_evaluate: strategy sampled 10 clients (out of 10)\n"
          ]
        },
        {
          "output_type": "stream",
          "name": "stdout",
          "text": [
            "Server-side evaluation loss 0.02554964945912361 / accuracy 0.9224\n",
            "Model saved as federated_model_1.pth\n",
            "\u001b[36m(ClientAppActor pid=1973)\u001b[0m [Client 0] evaluate, config: {}\n",
            "\u001b[36m(ClientAppActor pid=1973)\u001b[0m [Client 6] evaluate, config: {}\u001b[32m [repeated 4x across cluster]\u001b[0m\n",
            "\u001b[36m(ClientAppActor pid=1972)\u001b[0m [Client 5] evaluate, config: {}\u001b[32m [repeated 3x across cluster]\u001b[0m\n"
          ]
        },
        {
          "output_type": "stream",
          "name": "stderr",
          "text": [
            "\u001b[92mINFO \u001b[0m:      aggregate_evaluate: received 10 results and 0 failures\n",
            "\u001b[92mINFO \u001b[0m:      \n",
            "\u001b[92mINFO \u001b[0m:      [ROUND 2]\n",
            "\u001b[92mINFO \u001b[0m:      configure_fit: strategy sampled 10 clients (out of 10)\n"
          ]
        },
        {
          "output_type": "stream",
          "name": "stdout",
          "text": [
            "My_weighted_average -0.9072423041945876 0.0 \n",
            "\u001b[36m(ClientAppActor pid=1973)\u001b[0m [Client 0, round 2] fit, config: {'server_round': 2, 'local_epochs': 5}\n",
            "\u001b[36m(ClientAppActor pid=1973)\u001b[0m [Client 8] evaluate, config: {}\u001b[32m [repeated 2x across cluster]\u001b[0m\n",
            "\u001b[36m(ClientAppActor pid=1972)\u001b[0m [Client 4, round 2] fit, config: {'server_round': 2, 'local_epochs': 5}\u001b[32m [repeated 2x across cluster]\u001b[0m\n",
            "\u001b[36m(ClientAppActor pid=1973)\u001b[0m [Client 7, round 2] fit, config: {'server_round': 2, 'local_epochs': 5}\u001b[32m [repeated 2x across cluster]\u001b[0m\n",
            "\u001b[36m(ClientAppActor pid=1972)\u001b[0m [Client 8, round 2] fit, config: {'server_round': 2, 'local_epochs': 5}\n",
            "\u001b[36m(ClientAppActor pid=1972)\u001b[0m [Client 2, round 2] fit, config: {'server_round': 2, 'local_epochs': 5}\n",
            "\u001b[36m(ClientAppActor pid=1972)\u001b[0m [Client 3, round 2] fit, config: {'server_round': 2, 'local_epochs': 5}\n",
            "\u001b[36m(ClientAppActor pid=1973)\u001b[0m [Client 5, round 2] fit, config: {'server_round': 2, 'local_epochs': 5}\n",
            "\u001b[36m(ClientAppActor pid=1973)\u001b[0m [Client 9, round 2] fit, config: {'server_round': 2, 'local_epochs': 5}\n"
          ]
        },
        {
          "output_type": "stream",
          "name": "stderr",
          "text": [
            "\u001b[92mINFO \u001b[0m:      aggregate_fit: received 10 results and 0 failures\n",
            "\u001b[92mINFO \u001b[0m:      fit progress: (2, 0.0027367684668628497, {'accuracy': 0.9718}, 356.26175705399993)\n",
            "\u001b[92mINFO \u001b[0m:      configure_evaluate: strategy sampled 10 clients (out of 10)\n"
          ]
        },
        {
          "output_type": "stream",
          "name": "stdout",
          "text": [
            "Server-side evaluation loss 0.0027367684668628497 / accuracy 0.9718\n",
            "Model saved as federated_model_2.pth\n",
            "\u001b[36m(ClientAppActor pid=1972)\u001b[0m [Client 0] evaluate, config: {}\n",
            "\u001b[36m(ClientAppActor pid=1973)\u001b[0m [Client 9] evaluate, config: {}\u001b[32m [repeated 4x across cluster]\u001b[0m\n",
            "\u001b[36m(ClientAppActor pid=1973)\u001b[0m [Client 7] evaluate, config: {}\u001b[32m [repeated 5x across cluster]\u001b[0m\n"
          ]
        },
        {
          "output_type": "stream",
          "name": "stderr",
          "text": [
            "\u001b[92mINFO \u001b[0m:      aggregate_evaluate: received 10 results and 0 failures\n",
            "\u001b[92mINFO \u001b[0m:      \n",
            "\u001b[92mINFO \u001b[0m:      [ROUND 3]\n",
            "\u001b[92mINFO \u001b[0m:      configure_fit: strategy sampled 10 clients (out of 10)\n"
          ]
        },
        {
          "output_type": "stream",
          "name": "stdout",
          "text": [
            "My_weighted_average -0.9712108614084783 0.0 \n",
            "\u001b[36m(ClientAppActor pid=1973)\u001b[0m [Client 0, round 3] fit, config: {'server_round': 3, 'local_epochs': 5}\n",
            "\u001b[36m(ClientAppActor pid=1972)\u001b[0m [Client 3, round 3] fit, config: {'server_round': 3, 'local_epochs': 5}\u001b[32m [repeated 2x across cluster]\u001b[0m\n",
            "\u001b[36m(ClientAppActor pid=1973)\u001b[0m [Client 5, round 3] fit, config: {'server_round': 3, 'local_epochs': 5}\n",
            "\u001b[36m(ClientAppActor pid=1972)\u001b[0m [Client 8, round 3] fit, config: {'server_round': 3, 'local_epochs': 5}\n",
            "\u001b[36m(ClientAppActor pid=1973)\u001b[0m [Client 1, round 3] fit, config: {'server_round': 3, 'local_epochs': 5}\u001b[32m [repeated 2x across cluster]\u001b[0m\n",
            "\u001b[36m(ClientAppActor pid=1972)\u001b[0m [Client 4, round 3] fit, config: {'server_round': 3, 'local_epochs': 5}\n",
            "\u001b[36m(ClientAppActor pid=1973)\u001b[0m [Client 6, round 3] fit, config: {'server_round': 3, 'local_epochs': 5}\n",
            "\u001b[36m(ClientAppActor pid=1972)\u001b[0m [Client 7, round 3] fit, config: {'server_round': 3, 'local_epochs': 5}\n"
          ]
        },
        {
          "output_type": "stream",
          "name": "stderr",
          "text": [
            "\u001b[92mINFO \u001b[0m:      aggregate_fit: received 10 results and 0 failures\n",
            "\u001b[92mINFO \u001b[0m:      fit progress: (3, 0.00196404101580556, {'accuracy': 0.9797}, 528.6563847689999)\n",
            "\u001b[92mINFO \u001b[0m:      configure_evaluate: strategy sampled 10 clients (out of 10)\n"
          ]
        },
        {
          "output_type": "stream",
          "name": "stdout",
          "text": [
            "Server-side evaluation loss 0.00196404101580556 / accuracy 0.9797\n",
            "Model saved as federated_model_3.pth\n",
            "\u001b[36m(ClientAppActor pid=1973)\u001b[0m [Client 2] evaluate, config: {}\n",
            "\u001b[36m(ClientAppActor pid=1973)\u001b[0m [Client 8] evaluate, config: {}\u001b[32m [repeated 4x across cluster]\u001b[0m\n"
          ]
        },
        {
          "output_type": "stream",
          "name": "stderr",
          "text": [
            "\u001b[92mINFO \u001b[0m:      aggregate_evaluate: received 10 results and 0 failures\n",
            "\u001b[92mINFO \u001b[0m:      \n",
            "\u001b[92mINFO \u001b[0m:      [ROUND 4]\n",
            "\u001b[92mINFO \u001b[0m:      configure_fit: strategy sampled 10 clients (out of 10)\n"
          ]
        },
        {
          "output_type": "stream",
          "name": "stdout",
          "text": [
            "My_weighted_average -0.9787874553569044 0.0 \n",
            "\u001b[36m(ClientAppActor pid=1973)\u001b[0m [Client 1, round 4] fit, config: {'server_round': 4, 'local_epochs': 5}\n",
            "\u001b[36m(ClientAppActor pid=1973)\u001b[0m [Client 9] evaluate, config: {}\u001b[32m [repeated 5x across cluster]\u001b[0m\n",
            "\u001b[36m(ClientAppActor pid=1973)\u001b[0m [Client 4, round 4] fit, config: {'server_round': 4, 'local_epochs': 5}\u001b[32m [repeated 2x across cluster]\u001b[0m\n",
            "\u001b[36m(ClientAppActor pid=1972)\u001b[0m [Client 5, round 4] fit, config: {'server_round': 4, 'local_epochs': 5}\n",
            "\u001b[36m(ClientAppActor pid=1973)\u001b[0m [Client 7, round 4] fit, config: {'server_round': 4, 'local_epochs': 5}\n",
            "\u001b[36m(ClientAppActor pid=1972)\u001b[0m [Client 8, round 4] fit, config: {'server_round': 4, 'local_epochs': 5}\n",
            "\u001b[36m(ClientAppActor pid=1972)\u001b[0m [Client 9, round 4] fit, config: {'server_round': 4, 'local_epochs': 5}\n",
            "\u001b[36m(ClientAppActor pid=1973)\u001b[0m [Client 6, round 4] fit, config: {'server_round': 4, 'local_epochs': 5}\n",
            "\u001b[36m(ClientAppActor pid=1972)\u001b[0m [Client 0, round 4] fit, config: {'server_round': 4, 'local_epochs': 5}\n"
          ]
        },
        {
          "output_type": "stream",
          "name": "stderr",
          "text": [
            "\u001b[92mINFO \u001b[0m:      aggregate_fit: received 10 results and 0 failures\n",
            "\u001b[92mINFO \u001b[0m:      fit progress: (4, 0.0017741997495599208, {'accuracy': 0.9824}, 699.0116819599998)\n",
            "\u001b[92mINFO \u001b[0m:      configure_evaluate: strategy sampled 10 clients (out of 10)\n"
          ]
        },
        {
          "output_type": "stream",
          "name": "stdout",
          "text": [
            "Server-side evaluation loss 0.0017741997495599208 / accuracy 0.9824\n",
            "Model saved as federated_model_4.pth\n",
            "\u001b[36m(ClientAppActor pid=1973)\u001b[0m [Client 1] evaluate, config: {}\n",
            "\u001b[36m(ClientAppActor pid=1973)\u001b[0m [Client 2, round 4] fit, config: {'server_round': 4, 'local_epochs': 5}\n",
            "\u001b[36m(ClientAppActor pid=1972)\u001b[0m [Client 6] evaluate, config: {}\u001b[32m [repeated 4x across cluster]\u001b[0m\n",
            "\u001b[36m(ClientAppActor pid=1972)\u001b[0m [Client 4] evaluate, config: {}\u001b[32m [repeated 4x across cluster]\u001b[0m\n"
          ]
        },
        {
          "output_type": "stream",
          "name": "stderr",
          "text": [
            "\u001b[92mINFO \u001b[0m:      aggregate_evaluate: received 10 results and 0 failures\n",
            "\u001b[92mINFO \u001b[0m:      \n",
            "\u001b[92mINFO \u001b[0m:      [ROUND 5]\n",
            "\u001b[92mINFO \u001b[0m:      configure_fit: strategy sampled 10 clients (out of 10)\n"
          ]
        },
        {
          "output_type": "stream",
          "name": "stdout",
          "text": [
            "My_weighted_average -0.9800534926648703 0.0 \n",
            "\u001b[36m(ClientAppActor pid=1973)\u001b[0m [Client 0, round 5] fit, config: {'server_round': 5, 'local_epochs': 5}\n",
            "\u001b[36m(ClientAppActor pid=1973)\u001b[0m [Client 8] evaluate, config: {}\n",
            "\u001b[36m(ClientAppActor pid=1972)\u001b[0m [Client 2, round 5] fit, config: {'server_round': 5, 'local_epochs': 5}\u001b[32m [repeated 2x across cluster]\u001b[0m\n",
            "\u001b[36m(ClientAppActor pid=1972)\u001b[0m [Client 6, round 5] fit, config: {'server_round': 5, 'local_epochs': 5}\u001b[32m [repeated 2x across cluster]\u001b[0m\n",
            "\u001b[36m(ClientAppActor pid=1972)\u001b[0m [Client 9, round 5] fit, config: {'server_round': 5, 'local_epochs': 5}\n",
            "\u001b[36m(ClientAppActor pid=1973)\u001b[0m [Client 5, round 5] fit, config: {'server_round': 5, 'local_epochs': 5}\n",
            "\u001b[36m(ClientAppActor pid=1972)\u001b[0m [Client 3, round 5] fit, config: {'server_round': 5, 'local_epochs': 5}\n",
            "\u001b[36m(ClientAppActor pid=1973)\u001b[0m [Client 7, round 5] fit, config: {'server_round': 5, 'local_epochs': 5}\n",
            "\u001b[36m(ClientAppActor pid=1972)\u001b[0m [Client 8, round 5] fit, config: {'server_round': 5, 'local_epochs': 5}\n"
          ]
        },
        {
          "output_type": "stream",
          "name": "stderr",
          "text": [
            "\u001b[92mINFO \u001b[0m:      aggregate_fit: received 10 results and 0 failures\n",
            "\u001b[92mINFO \u001b[0m:      fit progress: (5, 0.0016861100377092953, {'accuracy': 0.9846}, 868.296465833)\n",
            "\u001b[92mINFO \u001b[0m:      configure_evaluate: strategy sampled 10 clients (out of 10)\n"
          ]
        },
        {
          "output_type": "stream",
          "name": "stdout",
          "text": [
            "Server-side evaluation loss 0.0016861100377092953 / accuracy 0.9846\n",
            "Model saved as federated_model_5.pth\n",
            "\u001b[36m(ClientAppActor pid=1972)\u001b[0m [Client 0] evaluate, config: {}\n",
            "\u001b[36m(ClientAppActor pid=1972)\u001b[0m [Client 9] evaluate, config: {}\u001b[32m [repeated 4x across cluster]\u001b[0m\n",
            "\u001b[36m(ClientAppActor pid=1972)\u001b[0m [Client 2] evaluate, config: {}\u001b[32m [repeated 4x across cluster]\u001b[0m\n"
          ]
        },
        {
          "output_type": "stream",
          "name": "stderr",
          "text": [
            "\u001b[92mINFO \u001b[0m:      aggregate_evaluate: received 10 results and 0 failures\n",
            "\u001b[92mINFO \u001b[0m:      \n",
            "\u001b[92mINFO \u001b[0m:      [ROUND 6]\n",
            "\u001b[92mINFO \u001b[0m:      configure_fit: strategy sampled 10 clients (out of 10)\n"
          ]
        },
        {
          "output_type": "stream",
          "name": "stdout",
          "text": [
            "My_weighted_average -0.9813023341814747 0.0 \n",
            "\u001b[36m(ClientAppActor pid=1972)\u001b[0m [Client 2, round 6] fit, config: {'server_round': 6, 'local_epochs': 5}\n",
            "\u001b[36m(ClientAppActor pid=1973)\u001b[0m [Client 8] evaluate, config: {}\n",
            "\u001b[36m(ClientAppActor pid=1972)\u001b[0m [Client 6, round 6] fit, config: {'server_round': 6, 'local_epochs': 5}\u001b[32m [repeated 2x across cluster]\u001b[0m\n",
            "\u001b[36m(ClientAppActor pid=1972)\u001b[0m [Client 7, round 6] fit, config: {'server_round': 6, 'local_epochs': 5}\n",
            "\u001b[36m(ClientAppActor pid=1973)\u001b[0m [Client 8, round 6] fit, config: {'server_round': 6, 'local_epochs': 5}\n",
            "\u001b[36m(ClientAppActor pid=1973)\u001b[0m [Client 9, round 6] fit, config: {'server_round': 6, 'local_epochs': 5}\n",
            "\u001b[36m(ClientAppActor pid=1972)\u001b[0m [Client 4, round 6] fit, config: {'server_round': 6, 'local_epochs': 5}\n",
            "\u001b[36m(ClientAppActor pid=1973)\u001b[0m [Client 5, round 6] fit, config: {'server_round': 6, 'local_epochs': 5}\n",
            "\u001b[36m(ClientAppActor pid=1972)\u001b[0m [Client 3, round 6] fit, config: {'server_round': 6, 'local_epochs': 5}\n",
            "\u001b[36m(ClientAppActor pid=1973)\u001b[0m [Client 0, round 6] fit, config: {'server_round': 6, 'local_epochs': 5}\n"
          ]
        },
        {
          "output_type": "stream",
          "name": "stderr",
          "text": [
            "\u001b[92mINFO \u001b[0m:      aggregate_fit: received 10 results and 0 failures\n",
            "\u001b[92mINFO \u001b[0m:      fit progress: (6, 0.0015214721501506574, {'accuracy': 0.9853}, 1037.812892712)\n",
            "\u001b[92mINFO \u001b[0m:      configure_evaluate: strategy sampled 10 clients (out of 10)\n"
          ]
        },
        {
          "output_type": "stream",
          "name": "stdout",
          "text": [
            "Server-side evaluation loss 0.0015214721501506574 / accuracy 0.9853\n",
            "Model saved as federated_model_6.pth\n",
            "\u001b[36m(ClientAppActor pid=1973)\u001b[0m [Client 4] evaluate, config: {}\n",
            "\u001b[36m(ClientAppActor pid=1973)\u001b[0m [Client 8] evaluate, config: {}\u001b[32m [repeated 4x across cluster]\u001b[0m\n",
            "\u001b[36m(ClientAppActor pid=1973)\u001b[0m [Client 6] evaluate, config: {}\u001b[32m [repeated 4x across cluster]\u001b[0m\n"
          ]
        },
        {
          "output_type": "stream",
          "name": "stderr",
          "text": [
            "\u001b[92mINFO \u001b[0m:      aggregate_evaluate: received 10 results and 0 failures\n",
            "\u001b[92mINFO \u001b[0m:      \n",
            "\u001b[92mINFO \u001b[0m:      [ROUND 7]\n",
            "\u001b[92mINFO \u001b[0m:      configure_fit: strategy sampled 10 clients (out of 10)\n"
          ]
        },
        {
          "output_type": "stream",
          "name": "stdout",
          "text": [
            "My_weighted_average -0.9825415009334946 0.0 \n",
            "\u001b[36m(ClientAppActor pid=1972)\u001b[0m [Client 0, round 7] fit, config: {'server_round': 7, 'local_epochs': 5}\n",
            "\u001b[36m(ClientAppActor pid=1972)\u001b[0m [Client 2] evaluate, config: {}\n",
            "\u001b[36m(ClientAppActor pid=1973)\u001b[0m [Client 3, round 7] fit, config: {'server_round': 7, 'local_epochs': 5}\u001b[32m [repeated 2x across cluster]\u001b[0m\n",
            "\u001b[36m(ClientAppActor pid=1972)\u001b[0m [Client 4, round 7] fit, config: {'server_round': 7, 'local_epochs': 5}\n",
            "\u001b[36m(ClientAppActor pid=1973)\u001b[0m [Client 8, round 7] fit, config: {'server_round': 7, 'local_epochs': 5}\n",
            "\u001b[36m(ClientAppActor pid=1972)\u001b[0m [Client 9, round 7] fit, config: {'server_round': 7, 'local_epochs': 5}\n",
            "\u001b[36m(ClientAppActor pid=1972)\u001b[0m [Client 7, round 7] fit, config: {'server_round': 7, 'local_epochs': 5}\n",
            "\u001b[36m(ClientAppActor pid=1973)\u001b[0m [Client 5, round 7] fit, config: {'server_round': 7, 'local_epochs': 5}\n",
            "\u001b[36m(ClientAppActor pid=1973)\u001b[0m [Client 1, round 7] fit, config: {'server_round': 7, 'local_epochs': 5}\n",
            "\u001b[36m(ClientAppActor pid=1972)\u001b[0m [Client 6, round 7] fit, config: {'server_round': 7, 'local_epochs': 5}\n"
          ]
        },
        {
          "output_type": "stream",
          "name": "stderr",
          "text": [
            "\u001b[92mINFO \u001b[0m:      aggregate_fit: received 10 results and 0 failures\n",
            "\u001b[92mINFO \u001b[0m:      fit progress: (7, 0.0015350205360846303, {'accuracy': 0.9851}, 1207.809964095)\n",
            "\u001b[92mINFO \u001b[0m:      configure_evaluate: strategy sampled 10 clients (out of 10)\n"
          ]
        },
        {
          "output_type": "stream",
          "name": "stdout",
          "text": [
            "Server-side evaluation loss 0.0015350205360846303 / accuracy 0.9851\n",
            "Model saved as federated_model_7.pth\n",
            "\u001b[36m(ClientAppActor pid=1973)\u001b[0m [Client 1] evaluate, config: {}\n",
            "\u001b[36m(ClientAppActor pid=1972)\u001b[0m [Client 7] evaluate, config: {}\u001b[32m [repeated 5x across cluster]\u001b[0m\n",
            "\u001b[36m(ClientAppActor pid=1973)\u001b[0m [Client 4] evaluate, config: {}\u001b[32m [repeated 4x across cluster]\u001b[0m\n"
          ]
        },
        {
          "output_type": "stream",
          "name": "stderr",
          "text": [
            "\u001b[92mINFO \u001b[0m:      aggregate_evaluate: received 10 results and 0 failures\n",
            "\u001b[92mINFO \u001b[0m:      \n",
            "\u001b[92mINFO \u001b[0m:      [ROUND 8]\n",
            "\u001b[92mINFO \u001b[0m:      configure_fit: strategy sampled 10 clients (out of 10)\n"
          ]
        },
        {
          "output_type": "stream",
          "name": "stdout",
          "text": [
            "My_weighted_average -0.9837020094212486 0.0 \n",
            "\u001b[36m(ClientAppActor pid=1973)\u001b[0m [Client 0, round 8] fit, config: {'server_round': 8, 'local_epochs': 5}\n",
            "\u001b[36m(ClientAppActor pid=1972)\u001b[0m [Client 2, round 8] fit, config: {'server_round': 8, 'local_epochs': 5}\u001b[32m [repeated 2x across cluster]\u001b[0m\n",
            "\u001b[36m(ClientAppActor pid=1972)\u001b[0m [Client 7, round 8] fit, config: {'server_round': 8, 'local_epochs': 5}\u001b[32m [repeated 2x across cluster]\u001b[0m\n",
            "\u001b[36m(ClientAppActor pid=1973)\u001b[0m [Client 9, round 8] fit, config: {'server_round': 8, 'local_epochs': 5}\n",
            "\u001b[36m(ClientAppActor pid=1973)\u001b[0m [Client 8, round 8] fit, config: {'server_round': 8, 'local_epochs': 5}\n",
            "\u001b[36m(ClientAppActor pid=1972)\u001b[0m [Client 4, round 8] fit, config: {'server_round': 8, 'local_epochs': 5}\n",
            "\u001b[36m(ClientAppActor pid=1973)\u001b[0m [Client 5, round 8] fit, config: {'server_round': 8, 'local_epochs': 5}\n",
            "\u001b[36m(ClientAppActor pid=1972)\u001b[0m [Client 3, round 8] fit, config: {'server_round': 8, 'local_epochs': 5}\n"
          ]
        },
        {
          "output_type": "stream",
          "name": "stderr",
          "text": [
            "\u001b[92mINFO \u001b[0m:      aggregate_fit: received 10 results and 0 failures\n",
            "\u001b[92mINFO \u001b[0m:      fit progress: (8, 0.0014792091208164493, {'accuracy': 0.9854}, 1376.9012387189998)\n",
            "\u001b[92mINFO \u001b[0m:      configure_evaluate: strategy sampled 10 clients (out of 10)\n"
          ]
        },
        {
          "output_type": "stream",
          "name": "stdout",
          "text": [
            "Server-side evaluation loss 0.0014792091208164493 / accuracy 0.9854\n",
            "Model saved as federated_model_8.pth\n",
            "\u001b[36m(ClientAppActor pid=1972)\u001b[0m [Client 2] evaluate, config: {}\n",
            "\u001b[36m(ClientAppActor pid=1972)\u001b[0m [Client 8] evaluate, config: {}\u001b[32m [repeated 4x across cluster]\u001b[0m\n",
            "\u001b[36m(ClientAppActor pid=1973)\u001b[0m [Client 5] evaluate, config: {}\u001b[32m [repeated 5x across cluster]\u001b[0m\n"
          ]
        },
        {
          "output_type": "stream",
          "name": "stderr",
          "text": [
            "\u001b[92mINFO \u001b[0m:      aggregate_evaluate: received 10 results and 0 failures\n",
            "\u001b[92mINFO \u001b[0m:      \n",
            "\u001b[92mINFO \u001b[0m:      [ROUND 9]\n",
            "\u001b[92mINFO \u001b[0m:      configure_fit: strategy sampled 10 clients (out of 10)\n"
          ]
        },
        {
          "output_type": "stream",
          "name": "stdout",
          "text": [
            "My_weighted_average -0.9847053820670856 0.0 \n",
            "\u001b[36m(ClientAppActor pid=1973)\u001b[0m [Client 0, round 9] fit, config: {'server_round': 9, 'local_epochs': 5}\n",
            "\u001b[36m(ClientAppActor pid=1972)\u001b[0m [Client 6, round 9] fit, config: {'server_round': 9, 'local_epochs': 5}\u001b[32m [repeated 2x across cluster]\u001b[0m\n",
            "\u001b[36m(ClientAppActor pid=1973)\u001b[0m [Client 7, round 9] fit, config: {'server_round': 9, 'local_epochs': 5}\n",
            "\u001b[36m(ClientAppActor pid=1972)\u001b[0m [Client 8, round 9] fit, config: {'server_round': 9, 'local_epochs': 5}\n",
            "\u001b[36m(ClientAppActor pid=1972)\u001b[0m [Client 9, round 9] fit, config: {'server_round': 9, 'local_epochs': 5}\n",
            "\u001b[36m(ClientAppActor pid=1973)\u001b[0m [Client 3, round 9] fit, config: {'server_round': 9, 'local_epochs': 5}\n",
            "\u001b[36m(ClientAppActor pid=1972)\u001b[0m [Client 5, round 9] fit, config: {'server_round': 9, 'local_epochs': 5}\u001b[32m [repeated 2x across cluster]\u001b[0m\n",
            "\u001b[36m(ClientAppActor pid=1972)\u001b[0m [Client 1, round 9] fit, config: {'server_round': 9, 'local_epochs': 5}\n"
          ]
        },
        {
          "output_type": "stream",
          "name": "stderr",
          "text": [
            "\u001b[92mINFO \u001b[0m:      aggregate_fit: received 10 results and 0 failures\n",
            "\u001b[92mINFO \u001b[0m:      fit progress: (9, 0.001495994094350408, {'accuracy': 0.9858}, 1549.0624566239999)\n",
            "\u001b[92mINFO \u001b[0m:      configure_evaluate: strategy sampled 10 clients (out of 10)\n"
          ]
        },
        {
          "output_type": "stream",
          "name": "stdout",
          "text": [
            "Server-side evaluation loss 0.001495994094350408 / accuracy 0.9858\n",
            "Model saved as federated_model_9.pth\n",
            "\u001b[36m(ClientAppActor pid=1973)\u001b[0m [Client 2] evaluate, config: {}\n",
            "\u001b[36m(ClientAppActor pid=1972)\u001b[0m [Client 9] evaluate, config: {}\u001b[32m [repeated 5x across cluster]\u001b[0m\n",
            "\u001b[36m(ClientAppActor pid=1973)\u001b[0m [Client 5] evaluate, config: {}\u001b[32m [repeated 3x across cluster]\u001b[0m\n"
          ]
        },
        {
          "output_type": "stream",
          "name": "stderr",
          "text": [
            "\u001b[92mINFO \u001b[0m:      aggregate_evaluate: received 10 results and 0 failures\n",
            "\u001b[92mINFO \u001b[0m:      \n",
            "\u001b[92mINFO \u001b[0m:      [ROUND 10]\n",
            "\u001b[92mINFO \u001b[0m:      configure_fit: strategy sampled 10 clients (out of 10)\n"
          ]
        },
        {
          "output_type": "stream",
          "name": "stdout",
          "text": [
            "My_weighted_average -0.9845401072074945 0.0 \n",
            "\u001b[36m(ClientAppActor pid=1972)\u001b[0m [Client 0, round 10] fit, config: {'server_round': 10, 'local_epochs': 5}\n",
            "\u001b[36m(ClientAppActor pid=1972)\u001b[0m [Client 0] evaluate, config: {}\n",
            "\u001b[36m(ClientAppActor pid=1973)\u001b[0m [Client 3, round 10] fit, config: {'server_round': 10, 'local_epochs': 5}\u001b[32m [repeated 2x across cluster]\u001b[0m\n",
            "\u001b[36m(ClientAppActor pid=1972)\u001b[0m [Client 4, round 10] fit, config: {'server_round': 10, 'local_epochs': 5}\n",
            "\u001b[36m(ClientAppActor pid=1973)\u001b[0m [Client 6, round 10] fit, config: {'server_round': 10, 'local_epochs': 5}\n",
            "\u001b[36m(ClientAppActor pid=1972)\u001b[0m [Client 7, round 10] fit, config: {'server_round': 10, 'local_epochs': 5}\n",
            "\u001b[36m(ClientAppActor pid=1973)\u001b[0m [Client 1, round 10] fit, config: {'server_round': 10, 'local_epochs': 5}\n",
            "\u001b[36m(ClientAppActor pid=1973)\u001b[0m [Client 9, round 10] fit, config: {'server_round': 10, 'local_epochs': 5}\n",
            "\u001b[36m(ClientAppActor pid=1972)\u001b[0m [Client 5, round 10] fit, config: {'server_round': 10, 'local_epochs': 5}\n"
          ]
        },
        {
          "output_type": "stream",
          "name": "stderr",
          "text": [
            "\u001b[92mINFO \u001b[0m:      aggregate_fit: received 10 results and 0 failures\n",
            "\u001b[92mINFO \u001b[0m:      fit progress: (10, 0.001377238285623389, {'accuracy': 0.9865}, 1720.152662561)\n",
            "\u001b[92mINFO \u001b[0m:      configure_evaluate: strategy sampled 10 clients (out of 10)\n"
          ]
        },
        {
          "output_type": "stream",
          "name": "stdout",
          "text": [
            "Server-side evaluation loss 0.001377238285623389 / accuracy 0.9865\n",
            "Model saved as federated_model_10.pth\n",
            "\u001b[36m(ClientAppActor pid=1973)\u001b[0m [Client 0] evaluate, config: {}\n",
            "\u001b[36m(ClientAppActor pid=1973)\u001b[0m [Client 8, round 10] fit, config: {'server_round': 10, 'local_epochs': 5}\n",
            "\u001b[36m(ClientAppActor pid=1972)\u001b[0m [Client 9] evaluate, config: {}\u001b[32m [repeated 5x across cluster]\u001b[0m\n",
            "\u001b[36m(ClientAppActor pid=1972)\u001b[0m [Client 7] evaluate, config: {}\u001b[32m [repeated 4x across cluster]\u001b[0m\n"
          ]
        },
        {
          "output_type": "stream",
          "name": "stderr",
          "text": [
            "\u001b[92mINFO \u001b[0m:      aggregate_evaluate: received 10 results and 0 failures\n",
            "\u001b[92mINFO \u001b[0m:      \n",
            "\u001b[92mINFO \u001b[0m:      [SUMMARY]\n",
            "\u001b[92mINFO \u001b[0m:      Run finished 10 round(s) in 1734.24s\n",
            "\u001b[92mINFO \u001b[0m:      \tHistory (loss, distributed):\n",
            "\u001b[92mINFO \u001b[0m:      \t\tround 1: 0.026628893215678216\n",
            "\u001b[92mINFO \u001b[0m:      \t\tround 2: 0.0031209883949135943\n",
            "\u001b[92mINFO \u001b[0m:      \t\tround 3: 0.002398491982153667\n",
            "\u001b[92mINFO \u001b[0m:      \t\tround 4: 0.0022819550435550836\n",
            "\u001b[92mINFO \u001b[0m:      \t\tround 5: 0.002050710805491007\n",
            "\u001b[92mINFO \u001b[0m:      \t\tround 6: 0.002005211440656781\n",
            "\u001b[92mINFO \u001b[0m:      \t\tround 7: 0.001976948619565433\n",
            "\u001b[92mINFO \u001b[0m:      \t\tround 8: 0.001955814207395512\n",
            "\u001b[92mINFO \u001b[0m:      \t\tround 9: 0.001939929149409194\n",
            "\u001b[92mINFO \u001b[0m:      \t\tround 10: 0.0018745609435998729\n",
            "\u001b[92mINFO \u001b[0m:      \tHistory (loss, centralized):\n",
            "\u001b[92mINFO \u001b[0m:      \t\tround 0: 0.07198393993377686\n",
            "\u001b[92mINFO \u001b[0m:      \t\tround 1: 0.02554964945912361\n",
            "\u001b[92mINFO \u001b[0m:      \t\tround 2: 0.0027367684668628497\n",
            "\u001b[92mINFO \u001b[0m:      \t\tround 3: 0.00196404101580556\n",
            "\u001b[92mINFO \u001b[0m:      \t\tround 4: 0.0017741997495599208\n",
            "\u001b[92mINFO \u001b[0m:      \t\tround 5: 0.0016861100377092953\n",
            "\u001b[92mINFO \u001b[0m:      \t\tround 6: 0.0015214721501506574\n",
            "\u001b[92mINFO \u001b[0m:      \t\tround 7: 0.0015350205360846303\n",
            "\u001b[92mINFO \u001b[0m:      \t\tround 8: 0.0014792091208164493\n",
            "\u001b[92mINFO \u001b[0m:      \t\tround 9: 0.001495994094350408\n",
            "\u001b[92mINFO \u001b[0m:      \t\tround 10: 0.001377238285623389\n",
            "\u001b[92mINFO \u001b[0m:      \tHistory (metrics, distributed, evaluate):\n",
            "\u001b[92mINFO \u001b[0m:      \t{'accuracy': [(1, 0.9072423041945876),\n",
            "\u001b[92mINFO \u001b[0m:      \t              (2, 0.9712108614084783),\n",
            "\u001b[92mINFO \u001b[0m:      \t              (3, 0.9787874553569044),\n",
            "\u001b[92mINFO \u001b[0m:      \t              (4, 0.9800534926648703),\n",
            "\u001b[92mINFO \u001b[0m:      \t              (5, 0.9813023341814747),\n",
            "\u001b[92mINFO \u001b[0m:      \t              (6, 0.9825415009334946),\n",
            "\u001b[92mINFO \u001b[0m:      \t              (7, 0.9837020094212486),\n",
            "\u001b[92mINFO \u001b[0m:      \t              (8, 0.9847053820670856),\n",
            "\u001b[92mINFO \u001b[0m:      \t              (9, 0.9845401072074945),\n",
            "\u001b[92mINFO \u001b[0m:      \t              (10, 0.985207346189006)],\n",
            "\u001b[92mINFO \u001b[0m:      \t 'loss': [(1, 0.0),\n",
            "\u001b[92mINFO \u001b[0m:      \t          (2, 0.0),\n",
            "\u001b[92mINFO \u001b[0m:      \t          (3, 0.0),\n",
            "\u001b[92mINFO \u001b[0m:      \t          (4, 0.0),\n",
            "\u001b[92mINFO \u001b[0m:      \t          (5, 0.0),\n",
            "\u001b[92mINFO \u001b[0m:      \t          (6, 0.0),\n",
            "\u001b[92mINFO \u001b[0m:      \t          (7, 0.0),\n",
            "\u001b[92mINFO \u001b[0m:      \t          (8, 0.0),\n",
            "\u001b[92mINFO \u001b[0m:      \t          (9, 0.0),\n",
            "\u001b[92mINFO \u001b[0m:      \t          (10, 0.0)]}\n",
            "\u001b[92mINFO \u001b[0m:      \tHistory (metrics, centralized):\n",
            "\u001b[92mINFO \u001b[0m:      \t{'accuracy': [(0, 0.1144),\n",
            "\u001b[92mINFO \u001b[0m:      \t              (1, 0.9224),\n",
            "\u001b[92mINFO \u001b[0m:      \t              (2, 0.9718),\n",
            "\u001b[92mINFO \u001b[0m:      \t              (3, 0.9797),\n",
            "\u001b[92mINFO \u001b[0m:      \t              (4, 0.9824),\n",
            "\u001b[92mINFO \u001b[0m:      \t              (5, 0.9846),\n",
            "\u001b[92mINFO \u001b[0m:      \t              (6, 0.9853),\n",
            "\u001b[92mINFO \u001b[0m:      \t              (7, 0.9851),\n",
            "\u001b[92mINFO \u001b[0m:      \t              (8, 0.9854),\n",
            "\u001b[92mINFO \u001b[0m:      \t              (9, 0.9858),\n",
            "\u001b[92mINFO \u001b[0m:      \t              (10, 0.9865)]}\n",
            "\u001b[92mINFO \u001b[0m:      \n"
          ]
        },
        {
          "output_type": "stream",
          "name": "stdout",
          "text": [
            "My_weighted_average -0.985207346189006 0.0 \n"
          ]
        },
        {
          "output_type": "stream",
          "name": "stderr",
          "text": [
            "\u001b[36m(ClientAppActor pid=1973)\u001b[0m /usr/local/lib/python3.10/dist-packages/jupyter_client/connect.py:28: DeprecationWarning: Jupyter is migrating its paths to use standard platformdirs\n",
            "\u001b[36m(ClientAppActor pid=1973)\u001b[0m given by the platformdirs library.  To remove this warning and\n",
            "\u001b[36m(ClientAppActor pid=1973)\u001b[0m see the appropriate new directories, set the environment variable\n",
            "\u001b[36m(ClientAppActor pid=1973)\u001b[0m `JUPYTER_PLATFORM_DIRS=1` and then run `jupyter --paths`.\n",
            "\u001b[36m(ClientAppActor pid=1973)\u001b[0m The use of platformdirs will be the default in `jupyter_core` v6\n",
            "\u001b[36m(ClientAppActor pid=1973)\u001b[0m   from jupyter_core.paths import jupyter_data_dir, jupyter_runtime_dir, secure_write\n"
          ]
        }
      ],
      "source": [
        "backend_config = {\"client_resources\": {\"num_cpus\": 1, \"num_gpus\": 0.0}}\n",
        "\n",
        "run_simulation(\n",
        "    server_app=server,\n",
        "    client_app=client,\n",
        "    num_supernodes=NUM_CLIENTS,\n",
        "    backend_config=backend_config,\n",
        ")"
      ]
    },
    {
      "cell_type": "markdown",
      "metadata": {
        "id": "VZTgBV4Nf37t"
      },
      "source": [
        "# plots"
      ]
    },
    {
      "cell_type": "code",
      "execution_count": 27,
      "metadata": {
        "colab": {
          "base_uri": "https://localhost:8080/"
        },
        "outputId": "e17d6f92-b32e-44ae-bcb6-5d4fd541c455",
        "id": "FUP83sqjf37t"
      },
      "outputs": [
        {
          "output_type": "stream",
          "name": "stderr",
          "text": [
            "/usr/local/lib/python3.10/dist-packages/ipykernel/ipkernel.py:283: DeprecationWarning: `should_run_async` will not call `transform_cell` automatically in the future. Please pass the result to `transformed_cell` argument and any exception that happen during thetransform in `preprocessing_exc_tuple` in IPython 7.17 and above.\n",
            "  and should_run_async(code)\n",
            "<ipython-input-27-ee3b8fdb1208>:1: FutureWarning: You are using `torch.load` with `weights_only=False` (the current default value), which uses the default pickle module implicitly. It is possible to construct malicious pickle data which will execute arbitrary code during unpickling (See https://github.com/pytorch/pytorch/blob/main/SECURITY.md#untrusted-models for more details). In a future release, the default value for `weights_only` will be flipped to `True`. This limits the functions that could be executed during unpickling. Arbitrary objects will no longer be allowed to be loaded via this mode unless they are explicitly allowlisted by the user via `torch.serialization.add_safe_globals`. We recommend you start setting `weights_only=True` for any use case where you don't have full control of the loaded file. Please open an issue on GitHub for any issues related to this experimental feature.\n",
            "  net.load_state_dict(torch.load(\"federated_model_3.pth\"))\n"
          ]
        },
        {
          "output_type": "stream",
          "name": "stdout",
          "text": [
            "Validation Loss: 0.0020\n",
            "Validation Accuracy: 0.98%\n"
          ]
        }
      ],
      "source": [
        "net.load_state_dict(torch.load(\"federated_model_3.pth\"))\n",
        "net.eval()\n",
        "_, valloader, _ = load_datasets(0, 1)\n",
        "loss, accuracy = test(net, valloader)\n",
        "print(f\"Validation Loss: {loss:.4f}\")\n",
        "print(f\"Validation Accuracy: {accuracy:.2f}%\")"
      ]
    },
    {
      "cell_type": "code",
      "execution_count": 28,
      "metadata": {
        "colab": {
          "base_uri": "https://localhost:8080/"
        },
        "outputId": "d9fb4297-7225-4dca-8dea-70aaf3fc7fdd",
        "id": "lztVXRhcf37t"
      },
      "outputs": [
        {
          "output_type": "stream",
          "name": "stderr",
          "text": [
            "/usr/local/lib/python3.10/dist-packages/ipykernel/ipkernel.py:283: DeprecationWarning: `should_run_async` will not call `transform_cell` automatically in the future. Please pass the result to `transformed_cell` argument and any exception that happen during thetransform in `preprocessing_exc_tuple` in IPython 7.17 and above.\n",
            "  and should_run_async(code)\n"
          ]
        },
        {
          "output_type": "execute_result",
          "data": {
            "text/plain": [
              "[{'loss': 0.0, 'accuracy': 0.9072423041945876},\n",
              " {'loss': 0.0, 'accuracy': 0.9712108614084783},\n",
              " {'loss': 0.0, 'accuracy': 0.9787874553569044},\n",
              " {'loss': 0.0, 'accuracy': 0.9800534926648703},\n",
              " {'loss': 0.0, 'accuracy': 0.9813023341814747},\n",
              " {'loss': 0.0, 'accuracy': 0.9825415009334946},\n",
              " {'loss': 0.0, 'accuracy': 0.9837020094212486},\n",
              " {'loss': 0.0, 'accuracy': 0.9847053820670856},\n",
              " {'loss': 0.0, 'accuracy': 0.9845401072074945},\n",
              " {'loss': 0.0, 'accuracy': 0.985207346189006}]"
            ]
          },
          "metadata": {},
          "execution_count": 28
        }
      ],
      "source": [
        "Agregation_history"
      ]
    },
    {
      "cell_type": "code",
      "execution_count": 29,
      "metadata": {
        "colab": {
          "base_uri": "https://localhost:8080/"
        },
        "outputId": "3f761dc5-07eb-4053-880d-b080c9fb0833",
        "id": "zpI1AG2If37t"
      },
      "outputs": [
        {
          "output_type": "execute_result",
          "data": {
            "text/plain": [
              "[{'round': 0, 'loss': 0.07198393993377686, 'accuracy': 0.1144},\n",
              " {'round': 1, 'loss': 0.02554964945912361, 'accuracy': 0.9224},\n",
              " {'round': 2, 'loss': 0.0027367684668628497, 'accuracy': 0.9718},\n",
              " {'round': 3, 'loss': 0.00196404101580556, 'accuracy': 0.9797},\n",
              " {'round': 4, 'loss': 0.0017741997495599208, 'accuracy': 0.9824},\n",
              " {'round': 5, 'loss': 0.0016861100377092953, 'accuracy': 0.9846},\n",
              " {'round': 6, 'loss': 0.0015214721501506574, 'accuracy': 0.9853},\n",
              " {'round': 7, 'loss': 0.0015350205360846303, 'accuracy': 0.9851},\n",
              " {'round': 8, 'loss': 0.0014792091208164493, 'accuracy': 0.9854},\n",
              " {'round': 9, 'loss': 0.001495994094350408, 'accuracy': 0.9858},\n",
              " {'round': 10, 'loss': 0.001377238285623389, 'accuracy': 0.9865}]"
            ]
          },
          "metadata": {},
          "execution_count": 29
        }
      ],
      "source": [
        "evaluation_history"
      ]
    },
    {
      "cell_type": "code",
      "execution_count": 30,
      "metadata": {
        "colab": {
          "base_uri": "https://localhost:8080/",
          "height": 430
        },
        "collapsed": true,
        "outputId": "43ead850-426e-4ba5-ed2b-065ddfdb5557",
        "id": "IxOnKPVyf37t"
      },
      "outputs": [
        {
          "output_type": "display_data",
          "data": {
            "text/plain": [
              "<Figure size 640x480 with 1 Axes>"
            ],
            "image/png": "[encoded data removed]"
          },
          "metadata": {}
        }
      ],
      "source": [
        "accuracy_values = [d['accuracy'] for d in Agregation_history]\n",
        "plt.plot(accuracy_values)\n",
        "plt.show()"
      ]
    },
    {
      "cell_type": "code",
      "execution_count": 31,
      "metadata": {
        "colab": {
          "base_uri": "https://localhost:8080/",
          "height": 497
        },
        "collapsed": true,
        "outputId": "d527b58b-4f82-4c6d-81b8-615789d3355b",
        "id": "rT_AANg3f37t"
      },
      "outputs": [
        {
          "output_type": "display_data",
          "data": {
            "text/plain": [
              "<Figure size 640x480 with 2 Axes>"
            ],
            "image/png": "[encoded data removed]"
          },
          "metadata": {}
        }
      ],
      "source": [
        "rounds = [entry[\"round\"] for entry in evaluation_history]\n",
        "loss = [entry[\"loss\"] for entry in evaluation_history]\n",
        "accuracy = [entry[\"accuracy\"] for entry in evaluation_history]\n",
        "\n",
        "fig, ax1 = plt.subplots()\n",
        "\n",
        "# Plot loss on the first y-axis\n",
        "ax1.set_xlabel(\"Round\")\n",
        "ax1.set_ylabel(\"Loss\", color=\"tab:red\")\n",
        "ax1.plot(rounds, loss, color=\"tab:red\", label=\"Loss\")\n",
        "ax1.tick_params(axis=\"y\", labelcolor=\"tab:red\")\n",
        "\n",
        "# Create a second y-axis for accuracy\n",
        "ax2 = ax1.twinx()\n",
        "ax2.set_ylabel(\"Accuracy\", color=\"tab:blue\")\n",
        "ax2.plot(rounds, accuracy, color=\"tab:blue\", label=\"Accuracy\")\n",
        "ax2.tick_params(axis=\"y\", labelcolor=\"tab:blue\")\n",
        "\n",
        "# Title and legend\n",
        "fig.suptitle(\"Loss and Accuracy over Training Rounds\")\n",
        "ax1.legend(loc=\"upper left\")\n",
        "ax2.legend(loc=\"upper right\")\n",
        "\n",
        "# Show the plot\n",
        "plt.show()\n"
      ]
    }
  ],
  "metadata": {
    "colab": {
      "collapsed_sections": [
        "nm_KsFraeQNa",
        "C8jpPOMUeesL",
        "AosnHQ_ojGd7",
        "BrJWWa_JjUTk",
        "_vxerus6q9qy",
        "bWjz0Nerendb",
        "957pzoxDewHM",
        "-xTUj8cKxV60"
      ],
      "provenance": [],
      "authorship_tag": "ABX9TyN70M6DXpT92SOTp39wlFZr",
      "include_colab_link": true
    },
    "kernelspec": {
      "display_name": "Python 3",
      "name": "python3"
    },
    "language_info": {
      "name": "python"
    },
    "widgets": {
      "application/vnd.jupyter.widget-state+json": {
        "96d8ad3900d24f4f962f0d5c587a3fab": {
          "model_module": "@jupyter-widgets/controls",
          "model_name": "HBoxModel",
          "model_module_version": "1.5.0",
          "state": {
            "_dom_classes": [],
            "_model_module": "@jupyter-widgets/controls",
            "_model_module_version": "1.5.0",
            "_model_name": "HBoxModel",
            "_view_count": null,
            "_view_module": "@jupyter-widgets/controls",
            "_view_module_version": "1.5.0",
            "_view_name": "HBoxView",
            "box_style": "",
            "children": [
              "IPY_MODEL_a6143713719748a9a271f9b507ac5c69",
              "IPY_MODEL_c9ae7d7b49844220845fa41efa445b4f",
              "IPY_MODEL_1464011934354648bd99a088db601f89"
            ],
            "layout": "IPY_MODEL_0754646e51e4431f8a292e8764e1b57d"
          }
        },
        "a6143713719748a9a271f9b507ac5c69": {
          "model_module": "@jupyter-widgets/controls",
          "model_name": "HTMLModel",
          "model_module_version": "1.5.0",
          "state": {
            "_dom_classes": [],
            "_model_module": "@jupyter-widgets/controls",
            "_model_module_version": "1.5.0",
            "_model_name": "HTMLModel",
            "_view_count": null,
            "_view_module": "@jupyter-widgets/controls",
            "_view_module_version": "1.5.0",
            "_view_name": "HTMLView",
            "description": "",
            "description_tooltip": null,
            "layout": "IPY_MODEL_8f4aadfee16e4fa98f9a7366dfb7c799",
            "placeholder": "​",
            "style": "IPY_MODEL_3769a5f901664513b8c2acde9866f933",
            "value": "README.md: 100%"
          }
        },
        "c9ae7d7b49844220845fa41efa445b4f": {
          "model_module": "@jupyter-widgets/controls",
          "model_name": "FloatProgressModel",
          "model_module_version": "1.5.0",
          "state": {
            "_dom_classes": [],
            "_model_module": "@jupyter-widgets/controls",
            "_model_module_version": "1.5.0",
            "_model_name": "FloatProgressModel",
            "_view_count": null,
            "_view_module": "@jupyter-widgets/controls",
            "_view_module_version": "1.5.0",
            "_view_name": "ProgressView",
            "bar_style": "success",
            "description": "",
            "description_tooltip": null,
            "layout": "IPY_MODEL_9953ab88009d4ef38a62aaa4cae47a5f",
            "max": 6971,
            "min": 0,
            "orientation": "horizontal",
            "style": "IPY_MODEL_50a77adbc1b84b0c980fc66fc68465fb",
            "value": 6971
          }
        },
        "1464011934354648bd99a088db601f89": {
          "model_module": "@jupyter-widgets/controls",
          "model_name": "HTMLModel",
          "model_module_version": "1.5.0",
          "state": {
            "_dom_classes": [],
            "_model_module": "@jupyter-widgets/controls",
            "_model_module_version": "1.5.0",
            "_model_name": "HTMLModel",
            "_view_count": null,
            "_view_module": "@jupyter-widgets/controls",
            "_view_module_version": "1.5.0",
            "_view_name": "HTMLView",
            "description": "",
            "description_tooltip": null,
            "layout": "IPY_MODEL_ebd8b1bfd5e544e3855fb964460c7ef7",
            "placeholder": "​",
            "style": "IPY_MODEL_ce5aaee50a064062b298b6e87780325c",
            "value": " 6.97k/6.97k [00:00&lt;00:00, 145kB/s]"
          }
        },
        "0754646e51e4431f8a292e8764e1b57d": {
          "model_module": "@jupyter-widgets/base",
          "model_name": "LayoutModel",
          "model_module_version": "1.2.0",
          "state": {
            "_model_module": "@jupyter-widgets/base",
            "_model_module_version": "1.2.0",
            "_model_name": "LayoutModel",
            "_view_count": null,
            "_view_module": "@jupyter-widgets/base",
            "_view_module_version": "1.2.0",
            "_view_name": "LayoutView",
            "align_content": null,
            "align_items": null,
            "align_self": null,
            "border": null,
            "bottom": null,
            "display": null,
            "flex": null,
            "flex_flow": null,
            "grid_area": null,
            "grid_auto_columns": null,
            "grid_auto_flow": null,
            "grid_auto_rows": null,
            "grid_column": null,
            "grid_gap": null,
            "grid_row": null,
            "grid_template_areas": null,
            "grid_template_columns": null,
            "grid_template_rows": null,
            "height": null,
            "justify_content": null,
            "justify_items": null,
            "left": null,
            "margin": null,
            "max_height": null,
            "max_width": null,
            "min_height": null,
            "min_width": null,
            "object_fit": null,
            "object_position": null,
            "order": null,
            "overflow": null,
            "overflow_x": null,
            "overflow_y": null,
            "padding": null,
            "right": null,
            "top": null,
            "visibility": null,
            "width": null
          }
        },
        "8f4aadfee16e4fa98f9a7366dfb7c799": {
          "model_module": "@jupyter-widgets/base",
          "model_name": "LayoutModel",
          "model_module_version": "1.2.0",
          "state": {
            "_model_module": "@jupyter-widgets/base",
            "_model_module_version": "1.2.0",
            "_model_name": "LayoutModel",
            "_view_count": null,
            "_view_module": "@jupyter-widgets/base",
            "_view_module_version": "1.2.0",
            "_view_name": "LayoutView",
            "align_content": null,
            "align_items": null,
            "align_self": null,
            "border": null,
            "bottom": null,
            "display": null,
            "flex": null,
            "flex_flow": null,
            "grid_area": null,
            "grid_auto_columns": null,
            "grid_auto_flow": null,
            "grid_auto_rows": null,
            "grid_column": null,
            "grid_gap": null,
            "grid_row": null,
            "grid_template_areas": null,
            "grid_template_columns": null,
            "grid_template_rows": null,
            "height": null,
            "justify_content": null,
            "justify_items": null,
            "left": null,
            "margin": null,
            "max_height": null,
            "max_width": null,
            "min_height": null,
            "min_width": null,
            "object_fit": null,
            "object_position": null,
            "order": null,
            "overflow": null,
            "overflow_x": null,
            "overflow_y": null,
            "padding": null,
            "right": null,
            "top": null,
            "visibility": null,
            "width": null
          }
        },
        "3769a5f901664513b8c2acde9866f933": {
          "model_module": "@jupyter-widgets/controls",
          "model_name": "DescriptionStyleModel",
          "model_module_version": "1.5.0",
          "state": {
            "_model_module": "@jupyter-widgets/controls",
            "_model_module_version": "1.5.0",
            "_model_name": "DescriptionStyleModel",
            "_view_count": null,
            "_view_module": "@jupyter-widgets/base",
            "_view_module_version": "1.2.0",
            "_view_name": "StyleView",
            "description_width": ""
          }
        },
        "9953ab88009d4ef38a62aaa4cae47a5f": {
          "model_module": "@jupyter-widgets/base",
          "model_name": "LayoutModel",
          "model_module_version": "1.2.0",
          "state": {
            "_model_module": "@jupyter-widgets/base",
            "_model_module_version": "1.2.0",
            "_model_name": "LayoutModel",
            "_view_count": null,
            "_view_module": "@jupyter-widgets/base",
            "_view_module_version": "1.2.0",
            "_view_name": "LayoutView",
            "align_content": null,
            "align_items": null,
            "align_self": null,
            "border": null,
            "bottom": null,
            "display": null,
            "flex": null,
            "flex_flow": null,
            "grid_area": null,
            "grid_auto_columns": null,
            "grid_auto_flow": null,
            "grid_auto_rows": null,
            "grid_column": null,
            "grid_gap": null,
            "grid_row": null,
            "grid_template_areas": null,
            "grid_template_columns": null,
            "grid_template_rows": null,
            "height": null,
            "justify_content": null,
            "justify_items": null,
            "left": null,
            "margin": null,
            "max_height": null,
            "max_width": null,
            "min_height": null,
            "min_width": null,
            "object_fit": null,
            "object_position": null,
            "order": null,
            "overflow": null,
            "overflow_x": null,
            "overflow_y": null,
            "padding": null,
            "right": null,
            "top": null,
            "visibility": null,
            "width": null
          }
        },
        "50a77adbc1b84b0c980fc66fc68465fb": {
          "model_module": "@jupyter-widgets/controls",
          "model_name": "ProgressStyleModel",
          "model_module_version": "1.5.0",
          "state": {
            "_model_module": "@jupyter-widgets/controls",
            "_model_module_version": "1.5.0",
            "_model_name": "ProgressStyleModel",
            "_view_count": null,
            "_view_module": "@jupyter-widgets/base",
            "_view_module_version": "1.2.0",
            "_view_name": "StyleView",
            "bar_color": null,
            "description_width": ""
          }
        },
        "ebd8b1bfd5e544e3855fb964460c7ef7": {
          "model_module": "@jupyter-widgets/base",
          "model_name": "LayoutModel",
          "model_module_version": "1.2.0",
          "state": {
            "_model_module": "@jupyter-widgets/base",
            "_model_module_version": "1.2.0",
            "_model_name": "LayoutModel",
            "_view_count": null,
            "_view_module": "@jupyter-widgets/base",
            "_view_module_version": "1.2.0",
            "_view_name": "LayoutView",
            "align_content": null,
            "align_items": null,
            "align_self": null,
            "border": null,
            "bottom": null,
            "display": null,
            "flex": null,
            "flex_flow": null,
            "grid_area": null,
            "grid_auto_columns": null,
            "grid_auto_flow": null,
            "grid_auto_rows": null,
            "grid_column": null,
            "grid_gap": null,
            "grid_row": null,
            "grid_template_areas": null,
            "grid_template_columns": null,
            "grid_template_rows": null,
            "height": null,
            "justify_content": null,
            "justify_items": null,
            "left": null,
            "margin": null,
            "max_height": null,
            "max_width": null,
            "min_height": null,
            "min_width": null,
            "object_fit": null,
            "object_position": null,
            "order": null,
            "overflow": null,
            "overflow_x": null,
            "overflow_y": null,
            "padding": null,
            "right": null,
            "top": null,
            "visibility": null,
            "width": null
          }
        },
        "ce5aaee50a064062b298b6e87780325c": {
          "model_module": "@jupyter-widgets/controls",
          "model_name": "DescriptionStyleModel",
          "model_module_version": "1.5.0",
          "state": {
            "_model_module": "@jupyter-widgets/controls",
            "_model_module_version": "1.5.0",
            "_model_name": "DescriptionStyleModel",
            "_view_count": null,
            "_view_module": "@jupyter-widgets/base",
            "_view_module_version": "1.2.0",
            "_view_name": "StyleView",
            "description_width": ""
          }
        },
        "7d42c0d1034f4140a8926fe5787e5722": {
          "model_module": "@jupyter-widgets/controls",
          "model_name": "HBoxModel",
          "model_module_version": "1.5.0",
          "state": {
            "_dom_classes": [],
            "_model_module": "@jupyter-widgets/controls",
            "_model_module_version": "1.5.0",
            "_model_name": "HBoxModel",
            "_view_count": null,
            "_view_module": "@jupyter-widgets/controls",
            "_view_module_version": "1.5.0",
            "_view_name": "HBoxView",
            "box_style": "",
            "children": [
              "IPY_MODEL_af3f15d3a53c49faa2d9cd791cbc6173",
              "IPY_MODEL_675f66f6345e4a2385b50063f19828e8",
              "IPY_MODEL_bf82faaa36eb4bb6bcd0a20543d34720"
            ],
            "layout": "IPY_MODEL_2ac00aa449764d16ab017d3eb513fd54"
          }
        },
        "af3f15d3a53c49faa2d9cd791cbc6173": {
          "model_module": "@jupyter-widgets/controls",
          "model_name": "HTMLModel",
          "model_module_version": "1.5.0",
          "state": {
            "_dom_classes": [],
            "_model_module": "@jupyter-widgets/controls",
            "_model_module_version": "1.5.0",
            "_model_name": "HTMLModel",
            "_view_count": null,
            "_view_module": "@jupyter-widgets/controls",
            "_view_module_version": "1.5.0",
            "_view_name": "HTMLView",
            "description": "",
            "description_tooltip": null,
            "layout": "IPY_MODEL_75d7d43d568d47b1b8e153faa5216575",
            "placeholder": "​",
            "style": "IPY_MODEL_93a2002bf52044e39be207911ab1cd62",
            "value": "train-00000-of-00001.parquet: 100%"
          }
        },
        "675f66f6345e4a2385b50063f19828e8": {
          "model_module": "@jupyter-widgets/controls",
          "model_name": "FloatProgressModel",
          "model_module_version": "1.5.0",
          "state": {
            "_dom_classes": [],
            "_model_module": "@jupyter-widgets/controls",
            "_model_module_version": "1.5.0",
            "_model_name": "FloatProgressModel",
            "_view_count": null,
            "_view_module": "@jupyter-widgets/controls",
            "_view_module_version": "1.5.0",
            "_view_name": "ProgressView",
            "bar_style": "success",
            "description": "",
            "description_tooltip": null,
            "layout": "IPY_MODEL_25289911ed3e4d6d89f9fb799390feb5",
            "max": 15561616,
            "min": 0,
            "orientation": "horizontal",
            "style": "IPY_MODEL_268df0b05e334ac6b55ac2285910cb0f",
            "value": 15561616
          }
        },
        "bf82faaa36eb4bb6bcd0a20543d34720": {
          "model_module": "@jupyter-widgets/controls",
          "model_name": "HTMLModel",
          "model_module_version": "1.5.0",
          "state": {
            "_dom_classes": [],
            "_model_module": "@jupyter-widgets/controls",
            "_model_module_version": "1.5.0",
            "_model_name": "HTMLModel",
            "_view_count": null,
            "_view_module": "@jupyter-widgets/controls",
            "_view_module_version": "1.5.0",
            "_view_name": "HTMLView",
            "description": "",
            "description_tooltip": null,
            "layout": "IPY_MODEL_15f581e9f4b24050bb121beaa4a4ff0c",
            "placeholder": "​",
            "style": "IPY_MODEL_3236dd7869274f4ea53cd856f5240cb9",
            "value": " 15.6M/15.6M [00:00&lt;00:00, 20.6MB/s]"
          }
        },
        "2ac00aa449764d16ab017d3eb513fd54": {
          "model_module": "@jupyter-widgets/base",
          "model_name": "LayoutModel",
          "model_module_version": "1.2.0",
          "state": {
            "_model_module": "@jupyter-widgets/base",
            "_model_module_version": "1.2.0",
            "_model_name": "LayoutModel",
            "_view_count": null,
            "_view_module": "@jupyter-widgets/base",
            "_view_module_version": "1.2.0",
            "_view_name": "LayoutView",
            "align_content": null,
            "align_items": null,
            "align_self": null,
            "border": null,
            "bottom": null,
            "display": null,
            "flex": null,
            "flex_flow": null,
            "grid_area": null,
            "grid_auto_columns": null,
            "grid_auto_flow": null,
            "grid_auto_rows": null,
            "grid_column": null,
            "grid_gap": null,
            "grid_row": null,
            "grid_template_areas": null,
            "grid_template_columns": null,
            "grid_template_rows": null,
            "height": null,
            "justify_content": null,
            "justify_items": null,
            "left": null,
            "margin": null,
            "max_height": null,
            "max_width": null,
            "min_height": null,
            "min_width": null,
            "object_fit": null,
            "object_position": null,
            "order": null,
            "overflow": null,
            "overflow_x": null,
            "overflow_y": null,
            "padding": null,
            "right": null,
            "top": null,
            "visibility": null,
            "width": null
          }
        },
        "75d7d43d568d47b1b8e153faa5216575": {
          "model_module": "@jupyter-widgets/base",
          "model_name": "LayoutModel",
          "model_module_version": "1.2.0",
          "state": {
            "_model_module": "@jupyter-widgets/base",
            "_model_module_version": "1.2.0",
            "_model_name": "LayoutModel",
            "_view_count": null,
            "_view_module": "@jupyter-widgets/base",
            "_view_module_version": "1.2.0",
            "_view_name": "LayoutView",
            "align_content": null,
            "align_items": null,
            "align_self": null,
            "border": null,
            "bottom": null,
            "display": null,
            "flex": null,
            "flex_flow": null,
            "grid_area": null,
            "grid_auto_columns": null,
            "grid_auto_flow": null,
            "grid_auto_rows": null,
            "grid_column": null,
            "grid_gap": null,
            "grid_row": null,
            "grid_template_areas": null,
            "grid_template_columns": null,
            "grid_template_rows": null,
            "height": null,
            "justify_content": null,
            "justify_items": null,
            "left": null,
            "margin": null,
            "max_height": null,
            "max_width": null,
            "min_height": null,
            "min_width": null,
            "object_fit": null,
            "object_position": null,
            "order": null,
            "overflow": null,
            "overflow_x": null,
            "overflow_y": null,
            "padding": null,
            "right": null,
            "top": null,
            "visibility": null,
            "width": null
          }
        },
        "93a2002bf52044e39be207911ab1cd62": {
          "model_module": "@jupyter-widgets/controls",
          "model_name": "DescriptionStyleModel",
          "model_module_version": "1.5.0",
          "state": {
            "_model_module": "@jupyter-widgets/controls",
            "_model_module_version": "1.5.0",
            "_model_name": "DescriptionStyleModel",
            "_view_count": null,
            "_view_module": "@jupyter-widgets/base",
            "_view_module_version": "1.2.0",
            "_view_name": "StyleView",
            "description_width": ""
          }
        },
        "25289911ed3e4d6d89f9fb799390feb5": {
          "model_module": "@jupyter-widgets/base",
          "model_name": "LayoutModel",
          "model_module_version": "1.2.0",
          "state": {
            "_model_module": "@jupyter-widgets/base",
            "_model_module_version": "1.2.0",
            "_model_name": "LayoutModel",
            "_view_count": null,
            "_view_module": "@jupyter-widgets/base",
            "_view_module_version": "1.2.0",
            "_view_name": "LayoutView",
            "align_content": null,
            "align_items": null,
            "align_self": null,
            "border": null,
            "bottom": null,
            "display": null,
            "flex": null,
            "flex_flow": null,
            "grid_area": null,
            "grid_auto_columns": null,
            "grid_auto_flow": null,
            "grid_auto_rows": null,
            "grid_column": null,
            "grid_gap": null,
            "grid_row": null,
            "grid_template_areas": null,
            "grid_template_columns": null,
            "grid_template_rows": null,
            "height": null,
            "justify_content": null,
            "justify_items": null,
            "left": null,
            "margin": null,
            "max_height": null,
            "max_width": null,
            "min_height": null,
            "min_width": null,
            "object_fit": null,
            "object_position": null,
            "order": null,
            "overflow": null,
            "overflow_x": null,
            "overflow_y": null,
            "padding": null,
            "right": null,
            "top": null,
            "visibility": null,
            "width": null
          }
        },
        "268df0b05e334ac6b55ac2285910cb0f": {
          "model_module": "@jupyter-widgets/controls",
          "model_name": "ProgressStyleModel",
          "model_module_version": "1.5.0",
          "state": {
            "_model_module": "@jupyter-widgets/controls",
            "_model_module_version": "1.5.0",
            "_model_name": "ProgressStyleModel",
            "_view_count": null,
            "_view_module": "@jupyter-widgets/base",
            "_view_module_version": "1.2.0",
            "_view_name": "StyleView",
            "bar_color": null,
            "description_width": ""
          }
        },
        "15f581e9f4b24050bb121beaa4a4ff0c": {
          "model_module": "@jupyter-widgets/base",
          "model_name": "LayoutModel",
          "model_module_version": "1.2.0",
          "state": {
            "_model_module": "@jupyter-widgets/base",
            "_model_module_version": "1.2.0",
            "_model_name": "LayoutModel",
            "_view_count": null,
            "_view_module": "@jupyter-widgets/base",
            "_view_module_version": "1.2.0",
            "_view_name": "LayoutView",
            "align_content": null,
            "align_items": null,
            "align_self": null,
            "border": null,
            "bottom": null,
            "display": null,
            "flex": null,
            "flex_flow": null,
            "grid_area": null,
            "grid_auto_columns": null,
            "grid_auto_flow": null,
            "grid_auto_rows": null,
            "grid_column": null,
            "grid_gap": null,
            "grid_row": null,
            "grid_template_areas": null,
            "grid_template_columns": null,
            "grid_template_rows": null,
            "height": null,
            "justify_content": null,
            "justify_items": null,
            "left": null,
            "margin": null,
            "max_height": null,
            "max_width": null,
            "min_height": null,
            "min_width": null,
            "object_fit": null,
            "object_position": null,
            "order": null,
            "overflow": null,
            "overflow_x": null,
            "overflow_y": null,
            "padding": null,
            "right": null,
            "top": null,
            "visibility": null,
            "width": null
          }
        },
        "3236dd7869274f4ea53cd856f5240cb9": {
          "model_module": "@jupyter-widgets/controls",
          "model_name": "DescriptionStyleModel",
          "model_module_version": "1.5.0",
          "state": {
            "_model_module": "@jupyter-widgets/controls",
            "_model_module_version": "1.5.0",
            "_model_name": "DescriptionStyleModel",
            "_view_count": null,
            "_view_module": "@jupyter-widgets/base",
            "_view_module_version": "1.2.0",
            "_view_name": "StyleView",
            "description_width": ""
          }
        },
        "03e1da01280541cdb810a418eb89bdc6": {
          "model_module": "@jupyter-widgets/controls",
          "model_name": "HBoxModel",
          "model_module_version": "1.5.0",
          "state": {
            "_dom_classes": [],
            "_model_module": "@jupyter-widgets/controls",
            "_model_module_version": "1.5.0",
            "_model_name": "HBoxModel",
            "_view_count": null,
            "_view_module": "@jupyter-widgets/controls",
            "_view_module_version": "1.5.0",
            "_view_name": "HBoxView",
            "box_style": "",
            "children": [
              "IPY_MODEL_c31c4a0d1b2f4fd1844970359fe6d4fe",
              "IPY_MODEL_d658d148dfd24dd7b3d241f557f5e54f",
              "IPY_MODEL_356e8b19414d4d84957e5ce2ac75a403"
            ],
            "layout": "IPY_MODEL_8002bc4b6630489ebc60cfc20698247d"
          }
        },
        "c31c4a0d1b2f4fd1844970359fe6d4fe": {
          "model_module": "@jupyter-widgets/controls",
          "model_name": "HTMLModel",
          "model_module_version": "1.5.0",
          "state": {
            "_dom_classes": [],
            "_model_module": "@jupyter-widgets/controls",
            "_model_module_version": "1.5.0",
            "_model_name": "HTMLModel",
            "_view_count": null,
            "_view_module": "@jupyter-widgets/controls",
            "_view_module_version": "1.5.0",
            "_view_name": "HTMLView",
            "description": "",
            "description_tooltip": null,
            "layout": "IPY_MODEL_ca7c8781c3b446db9116e26f56cb1930",
            "placeholder": "​",
            "style": "IPY_MODEL_9a95b09857b549cfbd0887656fc209c9",
            "value": "test-00000-of-00001.parquet: 100%"
          }
        },
        "d658d148dfd24dd7b3d241f557f5e54f": {
          "model_module": "@jupyter-widgets/controls",
          "model_name": "FloatProgressModel",
          "model_module_version": "1.5.0",
          "state": {
            "_dom_classes": [],
            "_model_module": "@jupyter-widgets/controls",
            "_model_module_version": "1.5.0",
            "_model_name": "FloatProgressModel",
            "_view_count": null,
            "_view_module": "@jupyter-widgets/controls",
            "_view_module_version": "1.5.0",
            "_view_name": "ProgressView",
            "bar_style": "success",
            "description": "",
            "description_tooltip": null,
            "layout": "IPY_MODEL_e5f8cb08d14e4efea07e9a680c93d006",
            "max": 2595890,
            "min": 0,
            "orientation": "horizontal",
            "style": "IPY_MODEL_5ad7479559d84517b61d30ed11503b8d",
            "value": 2595890
          }
        },
        "356e8b19414d4d84957e5ce2ac75a403": {
          "model_module": "@jupyter-widgets/controls",
          "model_name": "HTMLModel",
          "model_module_version": "1.5.0",
          "state": {
            "_dom_classes": [],
            "_model_module": "@jupyter-widgets/controls",
            "_model_module_version": "1.5.0",
            "_model_name": "HTMLModel",
            "_view_count": null,
            "_view_module": "@jupyter-widgets/controls",
            "_view_module_version": "1.5.0",
            "_view_name": "HTMLView",
            "description": "",
            "description_tooltip": null,
            "layout": "IPY_MODEL_d19e81824d3241e0a594f4731687c794",
            "placeholder": "​",
            "style": "IPY_MODEL_a8be593659aa4515b448fa52a2d0359f",
            "value": " 2.60M/2.60M [00:00&lt;00:00, 33.0MB/s]"
          }
        },
        "8002bc4b6630489ebc60cfc20698247d": {
          "model_module": "@jupyter-widgets/base",
          "model_name": "LayoutModel",
          "model_module_version": "1.2.0",
          "state": {
            "_model_module": "@jupyter-widgets/base",
            "_model_module_version": "1.2.0",
            "_model_name": "LayoutModel",
            "_view_count": null,
            "_view_module": "@jupyter-widgets/base",
            "_view_module_version": "1.2.0",
            "_view_name": "LayoutView",
            "align_content": null,
            "align_items": null,
            "align_self": null,
            "border": null,
            "bottom": null,
            "display": null,
            "flex": null,
            "flex_flow": null,
            "grid_area": null,
            "grid_auto_columns": null,
            "grid_auto_flow": null,
            "grid_auto_rows": null,
            "grid_column": null,
            "grid_gap": null,
            "grid_row": null,
            "grid_template_areas": null,
            "grid_template_columns": null,
            "grid_template_rows": null,
            "height": null,
            "justify_content": null,
            "justify_items": null,
            "left": null,
            "margin": null,
            "max_height": null,
            "max_width": null,
            "min_height": null,
            "min_width": null,
            "object_fit": null,
            "object_position": null,
            "order": null,
            "overflow": null,
            "overflow_x": null,
            "overflow_y": null,
            "padding": null,
            "right": null,
            "top": null,
            "visibility": null,
            "width": null
          }
        },
        "ca7c8781c3b446db9116e26f56cb1930": {
          "model_module": "@jupyter-widgets/base",
          "model_name": "LayoutModel",
          "model_module_version": "1.2.0",
          "state": {
            "_model_module": "@jupyter-widgets/base",
            "_model_module_version": "1.2.0",
            "_model_name": "LayoutModel",
            "_view_count": null,
            "_view_module": "@jupyter-widgets/base",
            "_view_module_version": "1.2.0",
            "_view_name": "LayoutView",
            "align_content": null,
            "align_items": null,
            "align_self": null,
            "border": null,
            "bottom": null,
            "display": null,
            "flex": null,
            "flex_flow": null,
            "grid_area": null,
            "grid_auto_columns": null,
            "grid_auto_flow": null,
            "grid_auto_rows": null,
            "grid_column": null,
            "grid_gap": null,
            "grid_row": null,
            "grid_template_areas": null,
            "grid_template_columns": null,
            "grid_template_rows": null,
            "height": null,
            "justify_content": null,
            "justify_items": null,
            "left": null,
            "margin": null,
            "max_height": null,
            "max_width": null,
            "min_height": null,
            "min_width": null,
            "object_fit": null,
            "object_position": null,
            "order": null,
            "overflow": null,
            "overflow_x": null,
            "overflow_y": null,
            "padding": null,
            "right": null,
            "top": null,
            "visibility": null,
            "width": null
          }
        },
        "9a95b09857b549cfbd0887656fc209c9": {
          "model_module": "@jupyter-widgets/controls",
          "model_name": "DescriptionStyleModel",
          "model_module_version": "1.5.0",
          "state": {
            "_model_module": "@jupyter-widgets/controls",
            "_model_module_version": "1.5.0",
            "_model_name": "DescriptionStyleModel",
            "_view_count": null,
            "_view_module": "@jupyter-widgets/base",
            "_view_module_version": "1.2.0",
            "_view_name": "StyleView",
            "description_width": ""
          }
        },
        "e5f8cb08d14e4efea07e9a680c93d006": {
          "model_module": "@jupyter-widgets/base",
          "model_name": "LayoutModel",
          "model_module_version": "1.2.0",
          "state": {
            "_model_module": "@jupyter-widgets/base",
            "_model_module_version": "1.2.0",
            "_model_name": "LayoutModel",
            "_view_count": null,
            "_view_module": "@jupyter-widgets/base",
            "_view_module_version": "1.2.0",
            "_view_name": "LayoutView",
            "align_content": null,
            "align_items": null,
            "align_self": null,
            "border": null,
            "bottom": null,
            "display": null,
            "flex": null,
            "flex_flow": null,
            "grid_area": null,
            "grid_auto_columns": null,
            "grid_auto_flow": null,
            "grid_auto_rows": null,
            "grid_column": null,
            "grid_gap": null,
            "grid_row": null,
            "grid_template_areas": null,
            "grid_template_columns": null,
            "grid_template_rows": null,
            "height": null,
            "justify_content": null,
            "justify_items": null,
            "left": null,
            "margin": null,
            "max_height": null,
            "max_width": null,
            "min_height": null,
            "min_width": null,
            "object_fit": null,
            "object_position": null,
            "order": null,
            "overflow": null,
            "overflow_x": null,
            "overflow_y": null,
            "padding": null,
            "right": null,
            "top": null,
            "visibility": null,
            "width": null
          }
        },
        "5ad7479559d84517b61d30ed11503b8d": {
          "model_module": "@jupyter-widgets/controls",
          "model_name": "ProgressStyleModel",
          "model_module_version": "1.5.0",
          "state": {
            "_model_module": "@jupyter-widgets/controls",
            "_model_module_version": "1.5.0",
            "_model_name": "ProgressStyleModel",
            "_view_count": null,
            "_view_module": "@jupyter-widgets/base",
            "_view_module_version": "1.2.0",
            "_view_name": "StyleView",
            "bar_color": null,
            "description_width": ""
          }
        },
        "d19e81824d3241e0a594f4731687c794": {
          "model_module": "@jupyter-widgets/base",
          "model_name": "LayoutModel",
          "model_module_version": "1.2.0",
          "state": {
            "_model_module": "@jupyter-widgets/base",
            "_model_module_version": "1.2.0",
            "_model_name": "LayoutModel",
            "_view_count": null,
            "_view_module": "@jupyter-widgets/base",
            "_view_module_version": "1.2.0",
            "_view_name": "LayoutView",
            "align_content": null,
            "align_items": null,
            "align_self": null,
            "border": null,
            "bottom": null,
            "display": null,
            "flex": null,
            "flex_flow": null,
            "grid_area": null,
            "grid_auto_columns": null,
            "grid_auto_flow": null,
            "grid_auto_rows": null,
            "grid_column": null,
            "grid_gap": null,
            "grid_row": null,
            "grid_template_areas": null,
            "grid_template_columns": null,
            "grid_template_rows": null,
            "height": null,
            "justify_content": null,
            "justify_items": null,
            "left": null,
            "margin": null,
            "max_height": null,
            "max_width": null,
            "min_height": null,
            "min_width": null,
            "object_fit": null,
            "object_position": null,
            "order": null,
            "overflow": null,
            "overflow_x": null,
            "overflow_y": null,
            "padding": null,
            "right": null,
            "top": null,
            "visibility": null,
            "width": null
          }
        },
        "a8be593659aa4515b448fa52a2d0359f": {
          "model_module": "@jupyter-widgets/controls",
          "model_name": "DescriptionStyleModel",
          "model_module_version": "1.5.0",
          "state": {
            "_model_module": "@jupyter-widgets/controls",
            "_model_module_version": "1.5.0",
            "_model_name": "DescriptionStyleModel",
            "_view_count": null,
            "_view_module": "@jupyter-widgets/base",
            "_view_module_version": "1.2.0",
            "_view_name": "StyleView",
            "description_width": ""
          }
        }
      }
    }
  },
  "nbformat": 4,
  "nbformat_minor": 0
}