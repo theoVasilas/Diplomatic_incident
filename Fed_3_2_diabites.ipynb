{
  "cells": [
    {
      "cell_type": "markdown",
      "metadata": {
        "id": "view-in-github",
        "colab_type": "text"
      },
      "source": [
        "<a href=\"https://colab.research.google.com/github/theoVasilas/Diplomatic_incident/blob/simulation/Fed_3_2_diabites.ipynb\" target=\"_parent\"><img src=\"https://colab.research.google.com/assets/colab-badge.svg\" alt=\"Open In Colab\"/></a>"
      ]
    },
    {
      "cell_type": "markdown",
      "metadata": {
        "id": "nm_KsFraeQNa"
      },
      "source": [
        "# Installations"
      ]
    },
    {
      "cell_type": "code",
      "execution_count": 103,
      "metadata": {
        "id": "WbXGZcJBcrVT"
      },
      "outputs": [],
      "source": [
        "!pip install -q flwr[simulation] flwr-datasets[vision] torch torchvision"
      ]
    },
    {
      "cell_type": "code",
      "execution_count": 104,
      "metadata": {
        "colab": {
          "base_uri": "https://localhost:8080/"
        },
        "id": "81QRVoGVe1iY",
        "outputId": "6df5482d-d332-4315-9420-ab797572009a"
      },
      "outputs": [
        {
          "output_type": "stream",
          "name": "stdout",
          "text": [
            "Training on cpu\n",
            "Flower 1.12.0 / PyTorch 2.5.1+cu121\n"
          ]
        }
      ],
      "source": [
        "from collections import OrderedDict, Counter\n",
        "from typing import Dict, List, Optional, Tuple\n",
        "\n",
        "import matplotlib.pyplot as plt\n",
        "import numpy as np\n",
        "import torch\n",
        "import torch.nn as nn\n",
        "import torch.nn.functional as F\n",
        "import torchvision.transforms as transforms\n",
        "from torch.utils.data import DataLoader\n",
        "from datasets import load_dataset, logging\n",
        "from datasets.utils.logging import disable_progress_bar\n",
        "\n",
        "import flwr\n",
        "from flwr.client import Client, ClientApp, NumPyClient\n",
        "from flwr.common import Metrics, Context\n",
        "from flwr.server import ServerApp, ServerConfig, ServerAppComponents\n",
        "from flwr.server.strategy import FedAvg, FedAdagrad\n",
        "from flwr.simulation import run_simulation\n",
        "from flwr_datasets import FederatedDataset\n",
        "from flwr.common import ndarrays_to_parameters, NDArrays, Scalar, Context\n",
        "\n",
        "\n",
        "DEVICE = torch.device(\"cpu\")  # Try \"cuda\" to train on GPU\n",
        "print(f\"Training on {DEVICE}\")\n",
        "print(f\"Flower {flwr.__version__} / PyTorch {torch.__version__}\")\n",
        "disable_progress_bar()"
      ]
    },
    {
      "cell_type": "markdown",
      "metadata": {
        "id": "C8jpPOMUeesL"
      },
      "source": [
        "# Dataloader\n"
      ]
    },
    {
      "cell_type": "markdown",
      "source": [
        "## Partition loader\n"
      ],
      "metadata": {
        "id": "sFMQCmV2UtYd"
      }
    },
    {
      "cell_type": "code",
      "source": [
        "import pandas as pd\n",
        "import torch\n",
        "from torch.utils.data import DataLoader, TensorDataset, Subset\n",
        "from sklearn.preprocessing import StandardScaler\n",
        "from sklearn.model_selection import train_test_split\n",
        "\n",
        "BATCH_SIZE = 32  # Adjust as needed\n",
        "\n",
        "def load_datasets(partition_id: int, num_partitions: int):\n",
        "    # Load the Pima Indians Diabetes dataset\n",
        "    url = \"https://raw.githubusercontent.com/jbrownlee/Datasets/master/pima-indians-diabetes.data.csv\"\n",
        "    column_names = [\"Pregnancies\", \"Glucose\", \"BloodPressure\", \"SkinThickness\", \"Insulin\",\n",
        "                    \"BMI\", \"DiabetesPedigreeFunction\", \"Age\", \"Outcome\"]\n",
        "    data = pd.read_csv(url, header=None, names=column_names)\n",
        "\n",
        "    # Split features and labels\n",
        "    X = data.iloc[:, :-1].values\n",
        "    y = data.iloc[:, -1].values\n",
        "\n",
        "    # Normalize features\n",
        "    scaler = StandardScaler()\n",
        "    X = scaler.fit_transform(X)\n",
        "\n",
        "    # Convert to PyTorch tensors\n",
        "    X_tensor = torch.tensor(X, dtype=torch.float32)\n",
        "    y_tensor = torch.tensor(y, dtype=torch.long)\n",
        "\n",
        "    # Partition the data into `num_partitions`\n",
        "    dataset = TensorDataset(X_tensor, y_tensor)\n",
        "    total_size = len(dataset)\n",
        "    partition_size = total_size // num_partitions\n",
        "\n",
        "    # Determine indices for this partition\n",
        "    start_idx = partition_id * partition_size\n",
        "    end_idx = total_size if partition_id == num_partitions - 1 else (partition_id + 1) * partition_size\n",
        "    partition_indices = list(range(start_idx, end_idx))\n",
        "\n",
        "    # Split the partition into training and validation (80% train, 20% val)\n",
        "    train_size = int(0.8 * len(partition_indices))\n",
        "    val_size = len(partition_indices) - train_size\n",
        "    train_indices = partition_indices[:train_size]\n",
        "    val_indices = partition_indices[train_size:]\n",
        "\n",
        "    # Create subsets\n",
        "    train_dataset = Subset(dataset, train_indices)\n",
        "    val_dataset = Subset(dataset, val_indices)\n",
        "\n",
        "    # Create DataLoaders for train and validation\n",
        "    trainloader = DataLoader(train_dataset, batch_size=BATCH_SIZE, shuffle=True)\n",
        "    valloader = DataLoader(val_dataset, batch_size=BATCH_SIZE, shuffle=False)\n",
        "\n",
        "    return trainloader, valloader"
      ],
      "metadata": {
        "id": "M8nS6luzPanq"
      },
      "execution_count": 105,
      "outputs": []
    },
    {
      "cell_type": "markdown",
      "source": [
        "## test set loader\n"
      ],
      "metadata": {
        "id": "k5UB9v_7UqIC"
      }
    },
    {
      "cell_type": "code",
      "source": [
        "def load_testset():\n",
        "    # Load the full test set (centralized)\n",
        "    url = \"https://raw.githubusercontent.com/jbrownlee/Datasets/master/pima-indians-diabetes.data.csv\"\n",
        "    column_names = [\"Pregnancies\", \"Glucose\", \"BloodPressure\", \"SkinThickness\", \"Insulin\",\n",
        "                    \"BMI\", \"DiabetesPedigreeFunction\", \"Age\", \"Outcome\"]\n",
        "    data = pd.read_csv(url, header=None, names=column_names)\n",
        "\n",
        "    # Split features and labels\n",
        "    X = data.iloc[:, :-1].values\n",
        "    y = data.iloc[:, -1].values\n",
        "\n",
        "    # Normalize features\n",
        "    scaler = StandardScaler()\n",
        "    X = scaler.fit_transform(X)\n",
        "\n",
        "    # Convert to PyTorch tensors\n",
        "    X_tensor = torch.tensor(X, dtype=torch.float32)\n",
        "    y_tensor = torch.tensor(y, dtype=torch.long)\n",
        "\n",
        "    # Create a TensorDataset and DataLoader for the test set\n",
        "    test_dataset = TensorDataset(X_tensor, y_tensor)\n",
        "    testloader = DataLoader(test_dataset, batch_size=BATCH_SIZE, shuffle=False)\n",
        "\n",
        "    return testloader"
      ],
      "metadata": {
        "id": "Ry045kKaUpmn"
      },
      "execution_count": 106,
      "outputs": []
    },
    {
      "cell_type": "markdown",
      "metadata": {
        "id": "AosnHQ_ojGd7"
      },
      "source": [
        "## Histogram of the dataset\n"
      ]
    },
    {
      "cell_type": "code",
      "execution_count": 107,
      "metadata": {
        "collapsed": true,
        "id": "X44-OYzFi__q"
      },
      "outputs": [],
      "source": [
        "import pandas as pd\n",
        "import matplotlib.pyplot as plt\n",
        "import numpy as np\n",
        "\n",
        "def load_raw_partition(partition_id: int, num_partitions: int):\n",
        "    # Load the Pima Indians Diabetes dataset\n",
        "    url = \"https://raw.githubusercontent.com/jbrownlee/Datasets/master/pima-indians-diabetes.data.csv\"\n",
        "    column_names = [\"Pregnancies\", \"Glucose\", \"BloodPressure\", \"SkinThickness\", \"Insulin\",\n",
        "                    \"BMI\", \"DiabetesPedigreeFunction\", \"Age\", \"Outcome\"]\n",
        "    data = pd.read_csv(url, header=None, names=column_names)\n",
        "\n",
        "    # Drop the label column for features\n",
        "    features = data.iloc[:, :-1].values\n",
        "    labels = data.iloc[:, -1].values\n",
        "\n",
        "    # Partition the data\n",
        "    total_size = len(features)\n",
        "    partition_size = total_size // num_partitions\n",
        "    start_idx = partition_id * partition_size\n",
        "    end_idx = total_size if partition_id == num_partitions - 1 else (partition_id + 1) * partition_size\n",
        "\n",
        "    partition_features = features[start_idx:end_idx]\n",
        "    partition_labels = labels[start_idx:end_idx]\n",
        "\n",
        "    return partition_features, partition_labels\n",
        "\n",
        "def plot_histograms(partition_features):\n",
        "    # Create histograms for all features\n",
        "    num_features = partition_features.shape[1]\n",
        "    feature_names = [\"Pregnancies\", \"Glucose\", \"BloodPressure\", \"SkinThickness\", \"Insulin\",\n",
        "                     \"BMI\", \"DiabetesPedigreeFunction\", \"Age\"]\n",
        "\n",
        "    plt.figure(figsize=(12, 10))\n",
        "    for i in range(num_features):\n",
        "        plt.subplot(3, 3, i + 1)\n",
        "        plt.hist(partition_features[:, i], bins=20, color='blue', alpha=0.7, edgecolor='black')\n",
        "        plt.title(feature_names[i])\n",
        "        plt.xlabel(\"Value\")\n",
        "        plt.ylabel(\"Frequency\")\n",
        "    plt.tight_layout()\n",
        "    plt.suptitle(\"Histograms of Partition Features\", fontsize=16, y=1.02)\n",
        "    plt.show()"
      ]
    },
    {
      "cell_type": "code",
      "source": [
        "# Load raw data for partition 0\n",
        "partition_id = 0\n",
        "num_partitions = 10\n",
        "partition_features, _ = load_raw_partition(partition_id, num_partitions)\n",
        "\n",
        "# Plot histograms for the features in the partition\n",
        "plot_histograms(partition_features)"
      ],
      "metadata": {
        "colab": {
          "base_uri": "https://localhost:8080/",
          "height": 1000
        },
        "id": "uGhGZqpWXvyU",
        "outputId": "2e889d21-b938-4f7a-db82-851eb05da434"
      },
      "execution_count": 108,
      "outputs": [
        {
          "output_type": "display_data",
          "data": {
            "text/plain": [
              "<Figure size 1200x1000 with 8 Axes>"
            ],
            "image/png": "[encoded data removed]"
          },
          "metadata": {}
        }
      ]
    },
    {
      "cell_type": "code",
      "source": [
        "# Load raw data for partition 0\n",
        "partition_id = 2\n",
        "num_partitions = 10\n",
        "partition_features, _ = load_raw_partition(partition_id, num_partitions)\n",
        "\n",
        "# Plot histograms for the features in the partition\n",
        "plot_histograms(partition_features)"
      ],
      "metadata": {
        "colab": {
          "base_uri": "https://localhost:8080/",
          "height": 1000
        },
        "id": "FHeHEM5TXwlj",
        "outputId": "a9eb46ab-1e34-4f9b-9d81-72fe7d464b95"
      },
      "execution_count": 109,
      "outputs": [
        {
          "output_type": "stream",
          "name": "stderr",
          "text": [
            "/usr/local/lib/python3.10/dist-packages/ipykernel/ipkernel.py:283: DeprecationWarning: `should_run_async` will not call `transform_cell` automatically in the future. Please pass the result to `transformed_cell` argument and any exception that happen during thetransform in `preprocessing_exc_tuple` in IPython 7.17 and above.\n",
            "  and should_run_async(code)\n"
          ]
        },
        {
          "output_type": "display_data",
          "data": {
            "text/plain": [
              "<Figure size 1200x1000 with 8 Axes>"
            ],
            "image/png": "[encoded data removed]"
          },
          "metadata": {}
        }
      ]
    },
    {
      "cell_type": "code",
      "source": [
        "# Load raw data for partition 0\n",
        "partition_id = 6\n",
        "num_partitions = 10\n",
        "partition_features, _ = load_raw_partition(partition_id, num_partitions)\n",
        "\n",
        "# Plot histograms for the features in the partition\n",
        "plot_histograms(partition_features)"
      ],
      "metadata": {
        "colab": {
          "base_uri": "https://localhost:8080/",
          "height": 1000
        },
        "id": "Zzcjwq8gXyWH",
        "outputId": "e46d6480-367e-4cab-cf40-b96d5c31a66d"
      },
      "execution_count": 110,
      "outputs": [
        {
          "output_type": "stream",
          "name": "stderr",
          "text": [
            "/usr/local/lib/python3.10/dist-packages/ipykernel/ipkernel.py:283: DeprecationWarning: `should_run_async` will not call `transform_cell` automatically in the future. Please pass the result to `transformed_cell` argument and any exception that happen during thetransform in `preprocessing_exc_tuple` in IPython 7.17 and above.\n",
            "  and should_run_async(code)\n"
          ]
        },
        {
          "output_type": "display_data",
          "data": {
            "text/plain": [
              "<Figure size 1200x1000 with 8 Axes>"
            ],
            "image/png": "[encoded data removed]"
          },
          "metadata": {}
        }
      ]
    },
    {
      "cell_type": "markdown",
      "source": [
        "the partitions has non IID datasets"
      ],
      "metadata": {
        "id": "S2jLsAjpcBOZ"
      }
    },
    {
      "cell_type": "markdown",
      "metadata": {
        "id": "BrJWWa_JjUTk"
      },
      "source": [
        "# Model"
      ]
    },
    {
      "cell_type": "code",
      "source": [
        "import torch.nn.init as init\n",
        "\n",
        "class Net(nn.Module):\n",
        "    def __init__(self):\n",
        "        super(Net, self).__init__()\n",
        "        self.fc1 = nn.Linear(8, 64)\n",
        "        self.fc2 = nn.Linear(64, 32)\n",
        "        self.fc3 = nn.Linear(32, 1)\n",
        "\n",
        "    def forward(self, x: torch.Tensor) -> torch.Tensor:\n",
        "        x = F.elu(self.fc1(x), alpha=1.0)\n",
        "        x = F.elu(self.fc2(x), alpha=1.0)\n",
        "        x = self.fc3(x)  # Logit output\n",
        "        return x\n",
        "\n",
        "    def reset_parameters(self):\n",
        "      for layer in self.children():\n",
        "          if isinstance(layer, nn.Linear):\n",
        "              init.xavier_uniform_(layer.weight)  # Using Xavier initialization for weights\n",
        "              init.zeros_(layer.bias)\n"
      ],
      "metadata": {
        "colab": {
          "base_uri": "https://localhost:8080/"
        },
        "id": "HvNsSSNaSWtm",
        "outputId": "c097847f-4f3d-4050-b5da-595321d0d064"
      },
      "execution_count": 111,
      "outputs": [
        {
          "output_type": "stream",
          "name": "stderr",
          "text": [
            "/usr/local/lib/python3.10/dist-packages/ipykernel/ipkernel.py:283: DeprecationWarning: `should_run_async` will not call `transform_cell` automatically in the future. Please pass the result to `transformed_cell` argument and any exception that happen during thetransform in `preprocessing_exc_tuple` in IPython 7.17 and above.\n",
            "  and should_run_async(code)\n"
          ]
        }
      ]
    },
    {
      "cell_type": "code",
      "execution_count": 112,
      "metadata": {
        "colab": {
          "base_uri": "https://localhost:8080/"
        },
        "id": "hBSI1-6bka1b",
        "outputId": "2502d7ee-fd14-47b9-c536-a95087018f28"
      },
      "outputs": [
        {
          "output_type": "stream",
          "name": "stdout",
          "text": [
            "num_parameters = 2689\n"
          ]
        }
      ],
      "source": [
        "net = Net()\n",
        "num_parameters = sum(value.numel() for value in net.state_dict().values())\n",
        "print(f\"{num_parameters = }\")"
      ]
    },
    {
      "cell_type": "markdown",
      "metadata": {
        "id": "bWjz0Nerendb"
      },
      "source": [
        "# train test Func\n"
      ]
    },
    {
      "cell_type": "code",
      "execution_count": 113,
      "metadata": {
        "id": "acU_vF0fkmrk"
      },
      "outputs": [],
      "source": [
        "def train(net, trainloader, optimizer, epochs: int, verbose=False):\n",
        "    \"\"\"Train the network on the training set.\"\"\"\n",
        "    criterion = torch.nn.BCEWithLogitsLoss()  # Binary classification loss\n",
        "    net.train()\n",
        "    for epoch in range(epochs):\n",
        "        correct, total, epoch_loss = 0, 0, 0.0\n",
        "        for features, labels in trainloader:\n",
        "            features, labels = features.to(DEVICE), labels.float().to(DEVICE)  # Labels must be float for BCE\n",
        "            optimizer.zero_grad()\n",
        "\n",
        "            outputs = net(features).squeeze(1)  # Squeeze for compatibility with BCEWithLogitsLoss\n",
        "            loss = criterion(outputs, labels)\n",
        "            loss.backward()\n",
        "            optimizer.step()\n",
        "\n",
        "            # Metrics\n",
        "            epoch_loss += loss.item()\n",
        "            total += labels.size(0)\n",
        "            predicted = (torch.sigmoid(outputs) > 0.5).int()  # Sigmoid for binary predictions\n",
        "            correct += (predicted == labels.int()).sum().item()\n",
        "\n",
        "        epoch_loss /= len(trainloader.dataset)\n",
        "        epoch_acc = correct / total\n",
        "        if verbose:\n",
        "            print(f\"Epoch {epoch + 1}: train loss {epoch_loss:.4f}, accuracy {epoch_acc:.4f}\")\n",
        "\n",
        "\n",
        "def test(net, testloader):\n",
        "    \"\"\"Evaluate the network on the entire test set.\"\"\"\n",
        "    criterion = torch.nn.BCEWithLogitsLoss()  # Binary classification loss\n",
        "    correct, total, loss = 0, 0, 0.0\n",
        "\n",
        "    net.eval()\n",
        "    with torch.no_grad():\n",
        "        for features, labels in testloader:\n",
        "            features, labels = features.to(DEVICE), labels.float().to(DEVICE)\n",
        "            outputs = net(features).squeeze(1)\n",
        "\n",
        "            loss += criterion(outputs, labels).item()\n",
        "            predicted = (torch.sigmoid(outputs) > 0.5).int()  # Sigmoid for binary predictions\n",
        "            total += labels.size(0)\n",
        "            correct += (predicted == labels.int()).sum().item()\n",
        "\n",
        "    loss /= len(testloader.dataset)\n",
        "    accuracy = correct / total\n",
        "    return loss, accuracy\n"
      ]
    },
    {
      "cell_type": "markdown",
      "metadata": {
        "id": "957pzoxDewHM"
      },
      "source": [
        "# centralised"
      ]
    },
    {
      "cell_type": "code",
      "execution_count": 114,
      "metadata": {
        "id": "DI1gU4AzcnVI"
      },
      "outputs": [],
      "source": [
        "def run_centralised(\n",
        "    trainloader,\n",
        "    valloader,\n",
        "    testloader,\n",
        "    epochs: int,\n",
        "    lr: float,\n",
        "    momentum: float = 0.9\n",
        "):\n",
        "\n",
        "    # instantiate the model\n",
        "    model = Net().to(DEVICE)\n",
        "    model.reset_parameters()\n",
        "\n",
        "    # optim = torch.optim.Adam(net.parameters())\n",
        "    optim = torch.optim.SGD(model.parameters(), lr=lr, momentum=momentum)\n",
        "\n",
        "    print(f\"Training for {epochs} epochs...\")\n",
        "    train(model, trainloader, optim, epochs, verbose =True)\n",
        "    loss, accuracy = test(model, valloader)\n",
        "    print(f\"validation loss {loss}, accuracy {accuracy}\")\n",
        "\n",
        "    loss, accuracy = test(model, testloader)\n",
        "    print(f\"test {loss = }\")\n",
        "    print(f\"test {accuracy = }\")"
      ]
    },
    {
      "cell_type": "code",
      "execution_count": 115,
      "metadata": {
        "collapsed": true,
        "id": "FHUITDUzpy8d",
        "colab": {
          "base_uri": "https://localhost:8080/"
        },
        "outputId": "51c054da-392d-45b5-de47-e4ef70cece4d"
      },
      "outputs": [
        {
          "output_type": "stream",
          "name": "stdout",
          "text": [
            "Training for 50 epochs...\n",
            "Epoch 1: train loss 0.0176, accuracy 0.7313\n",
            "Epoch 2: train loss 0.0158, accuracy 0.7590\n",
            "Epoch 3: train loss 0.0157, accuracy 0.7801\n",
            "Epoch 4: train loss 0.0161, accuracy 0.7541\n",
            "Epoch 5: train loss 0.0155, accuracy 0.7687\n",
            "Epoch 6: train loss 0.0154, accuracy 0.7736\n",
            "Epoch 7: train loss 0.0156, accuracy 0.7801\n",
            "Epoch 8: train loss 0.0156, accuracy 0.7736\n",
            "Epoch 9: train loss 0.0154, accuracy 0.7606\n",
            "Epoch 10: train loss 0.0152, accuracy 0.7687\n",
            "Epoch 11: train loss 0.0150, accuracy 0.7850\n",
            "Epoch 12: train loss 0.0141, accuracy 0.7883\n",
            "Epoch 13: train loss 0.0145, accuracy 0.7915\n",
            "Epoch 14: train loss 0.0146, accuracy 0.7964\n",
            "Epoch 15: train loss 0.0146, accuracy 0.7850\n",
            "Epoch 16: train loss 0.0145, accuracy 0.7866\n",
            "Epoch 17: train loss 0.0147, accuracy 0.7899\n",
            "Epoch 18: train loss 0.0148, accuracy 0.7801\n",
            "Epoch 19: train loss 0.0144, accuracy 0.7752\n",
            "Epoch 20: train loss 0.0149, accuracy 0.7948\n",
            "Epoch 21: train loss 0.0142, accuracy 0.7915\n",
            "Epoch 22: train loss 0.0148, accuracy 0.7818\n",
            "Epoch 23: train loss 0.0146, accuracy 0.7720\n",
            "Epoch 24: train loss 0.0142, accuracy 0.7997\n",
            "Epoch 25: train loss 0.0149, accuracy 0.7736\n",
            "Epoch 26: train loss 0.0144, accuracy 0.7785\n",
            "Epoch 27: train loss 0.0139, accuracy 0.8111\n",
            "Epoch 28: train loss 0.0144, accuracy 0.7948\n",
            "Epoch 29: train loss 0.0141, accuracy 0.7883\n",
            "Epoch 30: train loss 0.0137, accuracy 0.8094\n",
            "Epoch 31: train loss 0.0137, accuracy 0.7980\n",
            "Epoch 32: train loss 0.0136, accuracy 0.8029\n",
            "Epoch 33: train loss 0.0138, accuracy 0.7980\n",
            "Epoch 34: train loss 0.0151, accuracy 0.7932\n",
            "Epoch 35: train loss 0.0147, accuracy 0.7932\n",
            "Epoch 36: train loss 0.0133, accuracy 0.8062\n",
            "Epoch 37: train loss 0.0138, accuracy 0.8046\n",
            "Epoch 38: train loss 0.0155, accuracy 0.7590\n",
            "Epoch 39: train loss 0.0139, accuracy 0.7866\n",
            "Epoch 40: train loss 0.0143, accuracy 0.7899\n",
            "Epoch 41: train loss 0.0138, accuracy 0.7948\n",
            "Epoch 42: train loss 0.0134, accuracy 0.8029\n",
            "Epoch 43: train loss 0.0137, accuracy 0.8062\n",
            "Epoch 44: train loss 0.0134, accuracy 0.8078\n",
            "Epoch 45: train loss 0.0131, accuracy 0.7899\n",
            "Epoch 46: train loss 0.0134, accuracy 0.7948\n",
            "Epoch 47: train loss 0.0137, accuracy 0.7932\n",
            "Epoch 48: train loss 0.0134, accuracy 0.8046\n",
            "Epoch 49: train loss 0.0135, accuracy 0.8029\n",
            "Epoch 50: train loss 0.0139, accuracy 0.7964\n",
            "validation loss 0.016391507410383845, accuracy 0.7857142857142857\n",
            "test loss = 0.012963412290749451\n",
            "test accuracy = 0.8138020833333334\n"
          ]
        }
      ],
      "source": [
        "trainloader, valloader = load_datasets(0, 1)\n",
        "\n",
        "testloader = load_testset()\n",
        "\n",
        "# Run the centralised training\n",
        "run_centralised(trainloader, valloader, testloader, epochs=50, lr=0.1)"
      ]
    },
    {
      "cell_type": "markdown",
      "source": [
        "# Federation"
      ],
      "metadata": {
        "id": "TzT9lfBvr3KZ"
      }
    },
    {
      "cell_type": "markdown",
      "metadata": {
        "id": "2cKphyyRfX73"
      },
      "source": [
        "## set-get params\n"
      ]
    },
    {
      "cell_type": "code",
      "execution_count": 116,
      "metadata": {
        "id": "n8TluyQffXa3",
        "colab": {
          "base_uri": "https://localhost:8080/"
        },
        "outputId": "c341b6f5-921a-4ccb-ad9b-7cc583443012"
      },
      "outputs": [
        {
          "output_type": "stream",
          "name": "stderr",
          "text": [
            "/usr/local/lib/python3.10/dist-packages/ipykernel/ipkernel.py:283: DeprecationWarning: `should_run_async` will not call `transform_cell` automatically in the future. Please pass the result to `transformed_cell` argument and any exception that happen during thetransform in `preprocessing_exc_tuple` in IPython 7.17 and above.\n",
            "  and should_run_async(code)\n"
          ]
        }
      ],
      "source": [
        "def set_parameters(net, parameters: List[np.ndarray]):\n",
        "    params_dict = zip(net.state_dict().keys(), parameters)\n",
        "    state_dict = OrderedDict({k: torch.Tensor(v) for k, v in params_dict})\n",
        "    # replace the parameters\n",
        "    net.load_state_dict(state_dict, strict=True)\n",
        "\n",
        "\n",
        "def get_parameters(net) -> List[np.ndarray]:\n",
        "    \"\"\"Extract model parameters as a list of NumPy arrays.\"\"\"\n",
        "    return [val.cpu().numpy() for _, val in net.state_dict().items()]"
      ]
    },
    {
      "cell_type": "markdown",
      "source": [
        "## FlowerClient"
      ],
      "metadata": {
        "id": "ItO_cOnewf93"
      }
    },
    {
      "cell_type": "code",
      "source": [
        "class FlowerClient(NumPyClient):\n",
        "    def __init__(self, pid, net, trainloader, valloader):\n",
        "        self.pid = pid  # partition ID of a client\n",
        "        self.net = net\n",
        "        self.trainloader = trainloader\n",
        "        self.valloader = valloader\n",
        "\n",
        "    def get_parameters(self, config):\n",
        "        print(f\"[Client {self.pid}] get_parameters\")\n",
        "        return get_parameters(self.net)\n",
        "\n",
        "    def fit(self, parameters, config):\n",
        "        # Read values from config\n",
        "        server_round = config[\"server_round\"]\n",
        "        local_epochs = config[\"local_epochs\"]\n",
        "\n",
        "        # Use values provided by the config\n",
        "        print(f\"[Client {self.pid}, round {server_round}] fit, config: {config}\")\n",
        "        set_parameters(self.net, parameters)\n",
        "\n",
        "        optim = torch.optim.SGD(self.net.parameters(), lr=0.01, momentum=0.9)\n",
        "        train(self.net, self.trainloader,optim , epochs=local_epochs)\n",
        "\n",
        "        return get_parameters(self.net), len(self.trainloader), {}\n",
        "\n",
        "    def evaluate(self, parameters, config):\n",
        "\n",
        "        print(f\"[Client {self.pid}] evaluate, config: {config}\")\n",
        "        set_parameters(self.net, parameters)\n",
        "\n",
        "        loss, accuracy = test(self.net, self.valloader)\n",
        "\n",
        "        return float(loss), len(self.valloader), {\"accuracy\": float(accuracy)}\n",
        "\n",
        "\n",
        "def client_fn(context: Context) -> Client:\n",
        "\n",
        "    net = Net().to(DEVICE)\n",
        "\n",
        "    partition_id = context.node_config[\"partition-id\"]\n",
        "    num_partitions = context.node_config[\"num-partitions\"]\n",
        "\n",
        "    trainloader, valloader = load_datasets(partition_id, num_partitions)\n",
        "\n",
        "    # print(f\"FlowerClient is created\")\n",
        "    return FlowerClient(partition_id, net, trainloader, valloader).to_client()\n",
        "\n",
        "\n",
        "# Create the ClientApp\n",
        "client = ClientApp(client_fn=client_fn)"
      ],
      "metadata": {
        "id": "QPIbdYyUwes4"
      },
      "execution_count": 117,
      "outputs": []
    },
    {
      "cell_type": "markdown",
      "source": [
        "## Agregation Function"
      ],
      "metadata": {
        "id": "qspNHaEtwH6d"
      }
    },
    {
      "cell_type": "code",
      "source": [
        "Agregation_history = []\n",
        "\n",
        "def My_weighted_average(metrics: List[Tuple[int, Metrics]]) -> Metrics:\n",
        "\n",
        "    accuracies = [num_examples * m[\"accuracy\"] for num_examples, m in metrics]\n",
        "    losses = [num_examples * m.get(\"loss\", 0.0) for num_examples, m in metrics]\n",
        "    examples = [num_examples for num_examples, _ in metrics]\n",
        "\n",
        "    accuracy = sum(accuracies) / sum(examples)\n",
        "    loss = sum(losses) / sum(examples)\n",
        "\n",
        "    # Save metrics to history\n",
        "    Agregation_history.append({\n",
        "        # \"round\": server_round,\n",
        "        \"loss\": loss,\n",
        "        \"accuracy\": accuracy\n",
        "    })\n",
        "\n",
        "    print(f\"My_weighted_average -{accuracy} {loss} \")\n",
        "\n",
        "    return {\"accuracy\": accuracy, \"loss\": loss}"
      ],
      "metadata": {
        "id": "WqzWwkJoneTK"
      },
      "execution_count": 118,
      "outputs": []
    },
    {
      "cell_type": "markdown",
      "source": [
        "## Server Evaluate metrics aggregation fn"
      ],
      "metadata": {
        "id": "knQUJf_4wxeh"
      }
    },
    {
      "cell_type": "code",
      "source": [
        "evaluation_history = []\n",
        "\n",
        "def My_evaluate(\n",
        "    server_round: int,\n",
        "    parameters: NDArrays,\n",
        "    config: Dict[str, Scalar],\n",
        ") -> Optional[Tuple[float, Dict[str, Scalar]]]:\n",
        "\n",
        "    net = Net().to(DEVICE)\n",
        "\n",
        "    testloader = load_testset()\n",
        "\n",
        "    set_parameters(net, parameters)  # Update model with the latest parameters\n",
        "\n",
        "    loss, accuracy = test(net, testloader)\n",
        "\n",
        "    print(f\"Server-side evaluation loss {loss} / accuracy {accuracy}\")\n",
        "\n",
        "    # Save metrics to history\n",
        "    evaluation_history.append({\n",
        "        \"round\": server_round,\n",
        "        \"loss\": loss,\n",
        "        \"accuracy\": accuracy\n",
        "    })\n",
        "\n",
        "    if accuracy >= 0.98:\n",
        "        print(f\"Target accuracy of { 0.98*100}% achieved. Stopping training.\")\n",
        "        return fl.server.EarlyStopping()\n",
        "\n",
        "    model_filename = f\"federated_model_{server_round}.pth\"\n",
        "    torch.save(net.state_dict(), model_filename)\n",
        "    print(f\"Model saved as {model_filename}\")\n",
        "\n",
        "    return loss, {\"accuracy\": accuracy}\n"
      ],
      "metadata": {
        "id": "7iOysmhM4xkn"
      },
      "execution_count": 119,
      "outputs": []
    },
    {
      "cell_type": "markdown",
      "source": [
        "## Server Fn Strategy"
      ],
      "metadata": {
        "id": "q8a-4OUwuUlj"
      }
    },
    {
      "cell_type": "code",
      "source": [
        "def fit_config(server_round: int):\n",
        "    config = {\n",
        "        \"server_round\": server_round,  # The current round of federated learning\n",
        "        \"local_epochs\": 5 ,\n",
        "    }\n",
        "    return config"
      ],
      "metadata": {
        "id": "ovdO-TbMsmJN"
      },
      "execution_count": 120,
      "outputs": []
    },
    {
      "cell_type": "code",
      "source": [
        "NUM_CLIENTS = 10"
      ],
      "metadata": {
        "id": "0Yik1laByNMB"
      },
      "execution_count": 121,
      "outputs": []
    },
    {
      "cell_type": "code",
      "source": [
        "NUM_ROUNDS = 30"
      ],
      "metadata": {
        "id": "Ql8afg82ugnE"
      },
      "execution_count": 122,
      "outputs": []
    },
    {
      "cell_type": "code",
      "source": [
        "params = get_parameters(Net())"
      ],
      "metadata": {
        "id": "k3DpUzwDrmEo"
      },
      "execution_count": 123,
      "outputs": []
    },
    {
      "cell_type": "code",
      "source": [
        "def server_fn(context: Context) -> ServerAppComponents:\n",
        "    # Create FedAvg strategy\n",
        "    strategy = FedAvg(\n",
        "        fraction_fit  = 1,\n",
        "        fraction_evaluate = 1,\n",
        "        min_fit_clients  =  5,\n",
        "        min_evaluate_clients  = 2,\n",
        "        min_available_clients = NUM_CLIENTS, # use all\n",
        "        evaluate_fn = My_evaluate, # function used for validation dy server\n",
        "        on_fit_config_fn  = fit_config,  # Pass the fit_config function\n",
        "        # on_evaluate_config_fn,\n",
        "        # accept_failures,\n",
        "        initial_parameters  = ndarrays_to_parameters(params),\n",
        "        evaluate_metrics_aggregation_fn =  My_weighted_average,\n",
        "        # inplace,\n",
        "    )\n",
        "\n",
        "    config = ServerConfig(num_rounds = NUM_ROUNDS)\n",
        "\n",
        "    return ServerAppComponents(strategy=strategy, config = config)\n",
        "\n",
        "\n",
        "# Create the ServerApp\n",
        "server = ServerApp(server_fn=server_fn)"
      ],
      "metadata": {
        "id": "qVXUWwcCr_8-"
      },
      "execution_count": 124,
      "outputs": []
    },
    {
      "cell_type": "markdown",
      "source": [
        "## RUN\n"
      ],
      "metadata": {
        "id": "Wuh15neYr-Lu"
      }
    },
    {
      "cell_type": "code",
      "source": [
        "backend_config = {\"client_resources\": {\"num_cpus\": 1, \"num_gpus\": 0.0}}\n",
        "\n",
        "run_simulation(\n",
        "    server_app=server,\n",
        "    client_app=client,\n",
        "    num_supernodes=NUM_CLIENTS,\n",
        "    backend_config=backend_config,\n",
        ")"
      ],
      "metadata": {
        "colab": {
          "base_uri": "https://localhost:8080/"
        },
        "collapsed": true,
        "id": "JkRK4CULr9r9",
        "outputId": "d0be398d-0ce4-4fe2-a61c-5a8cccffa0f3"
      },
      "execution_count": 125,
      "outputs": [
        {
          "output_type": "stream",
          "name": "stderr",
          "text": [
            "\u001b[92mINFO \u001b[0m:      Starting Flower ServerApp, config: num_rounds=30, no round_timeout\n",
            "\u001b[92mINFO \u001b[0m:      \n",
            "\u001b[92mINFO \u001b[0m:      [INIT]\n",
            "\u001b[92mINFO \u001b[0m:      Using initial global parameters provided by strategy\n",
            "\u001b[92mINFO \u001b[0m:      Starting evaluation of initial global parameters\n",
            "\u001b[92mINFO \u001b[0m:      initial parameters (loss, other metrics): 0.022276054524506133, {'accuracy': 0.38671875}\n",
            "\u001b[92mINFO \u001b[0m:      \n",
            "\u001b[92mINFO \u001b[0m:      [ROUND 1]\n"
          ]
        },
        {
          "output_type": "stream",
          "name": "stdout",
          "text": [
            "Server-side evaluation loss 0.022276054524506133 / accuracy 0.38671875\n",
            "Model saved as federated_model_0.pth\n"
          ]
        },
        {
          "output_type": "stream",
          "name": "stderr",
          "text": [
            "\u001b[92mINFO \u001b[0m:      configure_fit: strategy sampled 5 clients (out of 10)\n",
            "\u001b[36m(pid=13401)\u001b[0m 2024-11-20 12:12:45.271458: E external/local_xla/xla/stream_executor/cuda/cuda_fft.cc:485] Unable to register cuFFT factory: Attempting to register factory for plugin cuFFT when one has already been registered\n",
            "\u001b[36m(pid=13401)\u001b[0m 2024-11-20 12:12:45.317303: E external/local_xla/xla/stream_executor/cuda/cuda_dnn.cc:8454] Unable to register cuDNN factory: Attempting to register factory for plugin cuDNN when one has already been registered\n",
            "\u001b[36m(pid=13401)\u001b[0m 2024-11-20 12:12:45.330956: E external/local_xla/xla/stream_executor/cuda/cuda_blas.cc:1452] Unable to register cuBLAS factory: Attempting to register factory for plugin cuBLAS when one has already been registered\n",
            "\u001b[36m(pid=13401)\u001b[0m 2024-11-20 12:12:48.603384: W tensorflow/compiler/tf2tensorrt/utils/py_utils.cc:38] TF-TRT Warning: Could not find TensorRT\n"
          ]
        },
        {
          "output_type": "stream",
          "name": "stdout",
          "text": [
            "\u001b[36m(ClientAppActor pid=13401)\u001b[0m [Client 0, round 1] fit, config: {'server_round': 1, 'local_epochs': 5}\n",
            "\u001b[36m(ClientAppActor pid=13401)\u001b[0m [Client 2, round 1] fit, config: {'server_round': 1, 'local_epochs': 5}\u001b[32m [repeated 2x across cluster] (Ray deduplicates logs by default. Set RAY_DEDUP_LOGS=0 to disable log deduplication, or see https://docs.ray.io/en/master/ray-observability/ray-logging.html#log-deduplication for more options.)\u001b[0m\n"
          ]
        },
        {
          "output_type": "stream",
          "name": "stderr",
          "text": [
            "\u001b[92mINFO \u001b[0m:      aggregate_fit: received 5 results and 0 failures\n",
            "\u001b[93mWARNING \u001b[0m:   No fit_metrics_aggregation_fn provided\n",
            "\u001b[92mINFO \u001b[0m:      fit progress: (1, 0.020722786352659266, {'accuracy': 0.6627604166666666}, 45.36275512300017)\n",
            "\u001b[92mINFO \u001b[0m:      configure_evaluate: strategy sampled 10 clients (out of 10)\n"
          ]
        },
        {
          "output_type": "stream",
          "name": "stdout",
          "text": [
            "Server-side evaluation loss 0.020722786352659266 / accuracy 0.6627604166666666\n",
            "Model saved as federated_model_1.pth\n",
            "\u001b[36m(ClientAppActor pid=13400)\u001b[0m [Client 2] evaluate, config: {}\n"
          ]
        },
        {
          "output_type": "stream",
          "name": "stderr",
          "text": [
            "\u001b[92mINFO \u001b[0m:      aggregate_evaluate: received 10 results and 0 failures\n",
            "\u001b[92mINFO \u001b[0m:      \n",
            "\u001b[92mINFO \u001b[0m:      [ROUND 2]\n",
            "\u001b[92mINFO \u001b[0m:      configure_fit: strategy sampled 10 clients (out of 10)\n"
          ]
        },
        {
          "output_type": "stream",
          "name": "stdout",
          "text": [
            "My_weighted_average -0.6636029411764706 0.0 \n"
          ]
        },
        {
          "output_type": "stream",
          "name": "stderr",
          "text": [
            "\u001b[92mINFO \u001b[0m:      aggregate_fit: received 10 results and 0 failures\n",
            "\u001b[92mINFO \u001b[0m:      fit progress: (2, 0.019533563405275345, {'accuracy': 0.7005208333333334}, 46.960517623000214)\n",
            "\u001b[92mINFO \u001b[0m:      configure_evaluate: strategy sampled 10 clients (out of 10)\n"
          ]
        },
        {
          "output_type": "stream",
          "name": "stdout",
          "text": [
            "Server-side evaluation loss 0.019533563405275345 / accuracy 0.7005208333333334\n",
            "Model saved as federated_model_2.pth\n"
          ]
        },
        {
          "output_type": "stream",
          "name": "stderr",
          "text": [
            "\u001b[92mINFO \u001b[0m:      aggregate_evaluate: received 10 results and 0 failures\n",
            "\u001b[92mINFO \u001b[0m:      \n",
            "\u001b[92mINFO \u001b[0m:      [ROUND 3]\n",
            "\u001b[92mINFO \u001b[0m:      configure_fit: strategy sampled 10 clients (out of 10)\n"
          ]
        },
        {
          "output_type": "stream",
          "name": "stdout",
          "text": [
            "My_weighted_average -0.7011029411764705 0.0 \n"
          ]
        },
        {
          "output_type": "stream",
          "name": "stderr",
          "text": [
            "\u001b[92mINFO \u001b[0m:      aggregate_fit: received 10 results and 0 failures\n",
            "\u001b[92mINFO \u001b[0m:      fit progress: (3, 0.018617147967840236, {'accuracy': 0.7239583333333334}, 48.511705669000094)\n",
            "\u001b[92mINFO \u001b[0m:      configure_evaluate: strategy sampled 10 clients (out of 10)\n"
          ]
        },
        {
          "output_type": "stream",
          "name": "stdout",
          "text": [
            "Server-side evaluation loss 0.018617147967840236 / accuracy 0.7239583333333334\n",
            "Model saved as federated_model_3.pth\n"
          ]
        },
        {
          "output_type": "stream",
          "name": "stderr",
          "text": [
            "\u001b[92mINFO \u001b[0m:      aggregate_evaluate: received 10 results and 0 failures\n",
            "\u001b[92mINFO \u001b[0m:      \n",
            "\u001b[92mINFO \u001b[0m:      [ROUND 4]\n",
            "\u001b[92mINFO \u001b[0m:      configure_fit: strategy sampled 10 clients (out of 10)\n"
          ]
        },
        {
          "output_type": "stream",
          "name": "stdout",
          "text": [
            "My_weighted_average -0.7202205882352941 0.0 \n"
          ]
        },
        {
          "output_type": "stream",
          "name": "stderr",
          "text": [
            "\u001b[92mINFO \u001b[0m:      aggregate_fit: received 10 results and 0 failures\n",
            "\u001b[92mINFO \u001b[0m:      fit progress: (4, 0.017861079424619675, {'accuracy': 0.7330729166666666}, 50.02991236800017)\n",
            "\u001b[92mINFO \u001b[0m:      configure_evaluate: strategy sampled 10 clients (out of 10)\n"
          ]
        },
        {
          "output_type": "stream",
          "name": "stdout",
          "text": [
            "Server-side evaluation loss 0.017861079424619675 / accuracy 0.7330729166666666\n",
            "Model saved as federated_model_4.pth\n",
            "\u001b[36m(ClientAppActor pid=13401)\u001b[0m [Client 6, round 4] fit, config: {'server_round': 4, 'local_epochs': 5}\u001b[32m [repeated 32x across cluster]\u001b[0m\n"
          ]
        },
        {
          "output_type": "stream",
          "name": "stderr",
          "text": [
            "\u001b[92mINFO \u001b[0m:      aggregate_evaluate: received 10 results and 0 failures\n",
            "\u001b[92mINFO \u001b[0m:      \n",
            "\u001b[92mINFO \u001b[0m:      [ROUND 5]\n",
            "\u001b[92mINFO \u001b[0m:      configure_fit: strategy sampled 10 clients (out of 10)\n"
          ]
        },
        {
          "output_type": "stream",
          "name": "stdout",
          "text": [
            "\u001b[36m(ClientAppActor pid=13400)\u001b[0m [Client 0] evaluate, config: {}\u001b[32m [repeated 38x across cluster]\u001b[0m\n",
            "My_weighted_average -0.7202205882352941 0.0 \n"
          ]
        },
        {
          "output_type": "stream",
          "name": "stderr",
          "text": [
            "\u001b[92mINFO \u001b[0m:      aggregate_fit: received 10 results and 0 failures\n",
            "\u001b[92mINFO \u001b[0m:      fit progress: (5, 0.01724552906428774, {'accuracy': 0.73828125}, 51.47988119799993)\n",
            "\u001b[92mINFO \u001b[0m:      configure_evaluate: strategy sampled 10 clients (out of 10)\n"
          ]
        },
        {
          "output_type": "stream",
          "name": "stdout",
          "text": [
            "Server-side evaluation loss 0.01724552906428774 / accuracy 0.73828125\n",
            "Model saved as federated_model_5.pth\n"
          ]
        },
        {
          "output_type": "stream",
          "name": "stderr",
          "text": [
            "\u001b[92mINFO \u001b[0m:      aggregate_evaluate: received 10 results and 0 failures\n",
            "\u001b[92mINFO \u001b[0m:      \n",
            "\u001b[92mINFO \u001b[0m:      [ROUND 6]\n",
            "\u001b[92mINFO \u001b[0m:      configure_fit: strategy sampled 10 clients (out of 10)\n"
          ]
        },
        {
          "output_type": "stream",
          "name": "stdout",
          "text": [
            "My_weighted_average -0.7264705882352941 0.0 \n"
          ]
        },
        {
          "output_type": "stream",
          "name": "stderr",
          "text": [
            "\u001b[92mINFO \u001b[0m:      aggregate_fit: received 10 results and 0 failures\n",
            "\u001b[92mINFO \u001b[0m:      fit progress: (6, 0.01678452097500364, {'accuracy': 0.7317708333333334}, 53.10851972699993)\n",
            "\u001b[92mINFO \u001b[0m:      configure_evaluate: strategy sampled 10 clients (out of 10)\n"
          ]
        },
        {
          "output_type": "stream",
          "name": "stdout",
          "text": [
            "Server-side evaluation loss 0.01678452097500364 / accuracy 0.7317708333333334\n",
            "Model saved as federated_model_6.pth\n"
          ]
        },
        {
          "output_type": "stream",
          "name": "stderr",
          "text": [
            "\u001b[92mINFO \u001b[0m:      aggregate_evaluate: received 10 results and 0 failures\n",
            "\u001b[92mINFO \u001b[0m:      \n",
            "\u001b[92mINFO \u001b[0m:      [ROUND 7]\n",
            "\u001b[92mINFO \u001b[0m:      configure_fit: strategy sampled 10 clients (out of 10)\n"
          ]
        },
        {
          "output_type": "stream",
          "name": "stdout",
          "text": [
            "My_weighted_average -0.7139705882352941 0.0 \n"
          ]
        },
        {
          "output_type": "stream",
          "name": "stderr",
          "text": [
            "\u001b[92mINFO \u001b[0m:      aggregate_fit: received 10 results and 0 failures\n",
            "\u001b[92mINFO \u001b[0m:      fit progress: (7, 0.01634635093311469, {'accuracy': 0.734375}, 55.03168841800016)\n",
            "\u001b[92mINFO \u001b[0m:      configure_evaluate: strategy sampled 10 clients (out of 10)\n"
          ]
        },
        {
          "output_type": "stream",
          "name": "stdout",
          "text": [
            "Server-side evaluation loss 0.01634635093311469 / accuracy 0.734375\n",
            "Model saved as federated_model_7.pth\n",
            "\u001b[36m(ClientAppActor pid=13401)\u001b[0m [Client 5, round 7] fit, config: {'server_round': 7, 'local_epochs': 5}\u001b[32m [repeated 30x across cluster]\u001b[0m\n",
            "\u001b[36m(ClientAppActor pid=13400)\u001b[0m [Client 8] evaluate, config: {}\u001b[32m [repeated 26x across cluster]\u001b[0m\n"
          ]
        },
        {
          "output_type": "stream",
          "name": "stderr",
          "text": [
            "\u001b[92mINFO \u001b[0m:      aggregate_evaluate: received 10 results and 0 failures\n",
            "\u001b[92mINFO \u001b[0m:      \n",
            "\u001b[92mINFO \u001b[0m:      [ROUND 8]\n",
            "\u001b[92mINFO \u001b[0m:      configure_fit: strategy sampled 10 clients (out of 10)\n"
          ]
        },
        {
          "output_type": "stream",
          "name": "stdout",
          "text": [
            "My_weighted_average -0.7202205882352941 0.0 \n"
          ]
        },
        {
          "output_type": "stream",
          "name": "stderr",
          "text": [
            "\u001b[92mINFO \u001b[0m:      aggregate_fit: received 10 results and 0 failures\n",
            "\u001b[92mINFO \u001b[0m:      fit progress: (8, 0.016029453099084396, {'accuracy': 0.7421875}, 57.25084031899996)\n",
            "\u001b[92mINFO \u001b[0m:      configure_evaluate: strategy sampled 10 clients (out of 10)\n"
          ]
        },
        {
          "output_type": "stream",
          "name": "stdout",
          "text": [
            "Server-side evaluation loss 0.016029453099084396 / accuracy 0.7421875\n",
            "Model saved as federated_model_8.pth\n"
          ]
        },
        {
          "output_type": "stream",
          "name": "stderr",
          "text": [
            "\u001b[92mINFO \u001b[0m:      aggregate_evaluate: received 10 results and 0 failures\n",
            "\u001b[92mINFO \u001b[0m:      \n",
            "\u001b[92mINFO \u001b[0m:      [ROUND 9]\n",
            "\u001b[92mINFO \u001b[0m:      configure_fit: strategy sampled 10 clients (out of 10)\n"
          ]
        },
        {
          "output_type": "stream",
          "name": "stdout",
          "text": [
            "My_weighted_average -0.7202205882352941 0.0 \n"
          ]
        },
        {
          "output_type": "stream",
          "name": "stderr",
          "text": [
            "\u001b[92mINFO \u001b[0m:      aggregate_fit: received 10 results and 0 failures\n",
            "\u001b[92mINFO \u001b[0m:      fit progress: (9, 0.015763529964412253, {'accuracy': 0.74609375}, 59.02319600200008)\n",
            "\u001b[92mINFO \u001b[0m:      configure_evaluate: strategy sampled 10 clients (out of 10)\n"
          ]
        },
        {
          "output_type": "stream",
          "name": "stdout",
          "text": [
            "Server-side evaluation loss 0.015763529964412253 / accuracy 0.74609375\n",
            "Model saved as federated_model_9.pth\n"
          ]
        },
        {
          "output_type": "stream",
          "name": "stderr",
          "text": [
            "\u001b[92mINFO \u001b[0m:      aggregate_evaluate: received 10 results and 0 failures\n",
            "\u001b[92mINFO \u001b[0m:      \n",
            "\u001b[92mINFO \u001b[0m:      [ROUND 10]\n",
            "\u001b[92mINFO \u001b[0m:      configure_fit: strategy sampled 10 clients (out of 10)\n"
          ]
        },
        {
          "output_type": "stream",
          "name": "stdout",
          "text": [
            "My_weighted_average -0.7264705882352941 0.0 \n"
          ]
        },
        {
          "output_type": "stream",
          "name": "stderr",
          "text": [
            "\u001b[92mINFO \u001b[0m:      aggregate_fit: received 10 results and 0 failures\n"
          ]
        },
        {
          "output_type": "stream",
          "name": "stdout",
          "text": [
            "\u001b[36m(ClientAppActor pid=13400)\u001b[0m [Client 6, round 10] fit, config: {'server_round': 10, 'local_epochs': 5}\u001b[32m [repeated 27x across cluster]\u001b[0m\n"
          ]
        },
        {
          "output_type": "stream",
          "name": "stderr",
          "text": [
            "\u001b[92mINFO \u001b[0m:      fit progress: (10, 0.01555931354717662, {'accuracy': 0.7447916666666666}, 60.54128629900015)\n",
            "\u001b[92mINFO \u001b[0m:      configure_evaluate: strategy sampled 10 clients (out of 10)\n"
          ]
        },
        {
          "output_type": "stream",
          "name": "stdout",
          "text": [
            "Server-side evaluation loss 0.01555931354717662 / accuracy 0.7447916666666666\n",
            "Model saved as federated_model_10.pth\n",
            "\u001b[36m(ClientAppActor pid=13400)\u001b[0m [Client 0] evaluate, config: {}\u001b[32m [repeated 26x across cluster]\u001b[0m\n"
          ]
        },
        {
          "output_type": "stream",
          "name": "stderr",
          "text": [
            "\u001b[92mINFO \u001b[0m:      aggregate_evaluate: received 10 results and 0 failures\n",
            "\u001b[92mINFO \u001b[0m:      \n",
            "\u001b[92mINFO \u001b[0m:      [ROUND 11]\n",
            "\u001b[92mINFO \u001b[0m:      configure_fit: strategy sampled 10 clients (out of 10)\n"
          ]
        },
        {
          "output_type": "stream",
          "name": "stdout",
          "text": [
            "My_weighted_average -0.7327205882352941 0.0 \n"
          ]
        },
        {
          "output_type": "stream",
          "name": "stderr",
          "text": [
            "\u001b[92mINFO \u001b[0m:      aggregate_fit: received 10 results and 0 failures\n",
            "\u001b[92mINFO \u001b[0m:      fit progress: (11, 0.015417928652216991, {'accuracy': 0.7513020833333334}, 61.90674769199995)\n",
            "\u001b[92mINFO \u001b[0m:      configure_evaluate: strategy sampled 10 clients (out of 10)\n"
          ]
        },
        {
          "output_type": "stream",
          "name": "stdout",
          "text": [
            "Server-side evaluation loss 0.015417928652216991 / accuracy 0.7513020833333334\n",
            "Model saved as federated_model_11.pth\n"
          ]
        },
        {
          "output_type": "stream",
          "name": "stderr",
          "text": [
            "\u001b[92mINFO \u001b[0m:      aggregate_evaluate: received 10 results and 0 failures\n",
            "\u001b[92mINFO \u001b[0m:      \n",
            "\u001b[92mINFO \u001b[0m:      [ROUND 12]\n",
            "\u001b[92mINFO \u001b[0m:      configure_fit: strategy sampled 10 clients (out of 10)\n"
          ]
        },
        {
          "output_type": "stream",
          "name": "stdout",
          "text": [
            "My_weighted_average -0.7514705882352941 0.0 \n"
          ]
        },
        {
          "output_type": "stream",
          "name": "stderr",
          "text": [
            "\u001b[92mINFO \u001b[0m:      aggregate_fit: received 10 results and 0 failures\n",
            "\u001b[92mINFO \u001b[0m:      fit progress: (12, 0.015268870474149784, {'accuracy': 0.7565104166666666}, 63.43445384200004)\n",
            "\u001b[92mINFO \u001b[0m:      configure_evaluate: strategy sampled 10 clients (out of 10)\n"
          ]
        },
        {
          "output_type": "stream",
          "name": "stdout",
          "text": [
            "Server-side evaluation loss 0.015268870474149784 / accuracy 0.7565104166666666\n",
            "Model saved as federated_model_12.pth\n"
          ]
        },
        {
          "output_type": "stream",
          "name": "stderr",
          "text": [
            "\u001b[92mINFO \u001b[0m:      aggregate_evaluate: received 10 results and 0 failures\n",
            "\u001b[92mINFO \u001b[0m:      \n",
            "\u001b[92mINFO \u001b[0m:      [ROUND 13]\n",
            "\u001b[92mINFO \u001b[0m:      configure_fit: strategy sampled 10 clients (out of 10)\n"
          ]
        },
        {
          "output_type": "stream",
          "name": "stdout",
          "text": [
            "My_weighted_average -0.7577205882352941 0.0 \n"
          ]
        },
        {
          "output_type": "stream",
          "name": "stderr",
          "text": [
            "\u001b[92mINFO \u001b[0m:      aggregate_fit: received 10 results and 0 failures\n",
            "\u001b[92mINFO \u001b[0m:      fit progress: (13, 0.015148841814758876, {'accuracy': 0.7578125}, 65.00832267600026)\n",
            "\u001b[92mINFO \u001b[0m:      configure_evaluate: strategy sampled 10 clients (out of 10)\n"
          ]
        },
        {
          "output_type": "stream",
          "name": "stdout",
          "text": [
            "Server-side evaluation loss 0.015148841814758876 / accuracy 0.7578125\n",
            "Model saved as federated_model_13.pth\n",
            "\u001b[36m(ClientAppActor pid=13401)\u001b[0m [Client 4, round 13] fit, config: {'server_round': 13, 'local_epochs': 5}\u001b[32m [repeated 33x across cluster]\u001b[0m\n"
          ]
        },
        {
          "output_type": "stream",
          "name": "stderr",
          "text": [
            "\u001b[92mINFO \u001b[0m:      aggregate_evaluate: received 10 results and 0 failures\n",
            "\u001b[92mINFO \u001b[0m:      \n",
            "\u001b[92mINFO \u001b[0m:      [ROUND 14]\n",
            "\u001b[92mINFO \u001b[0m:      configure_fit: strategy sampled 10 clients (out of 10)\n"
          ]
        },
        {
          "output_type": "stream",
          "name": "stdout",
          "text": [
            "My_weighted_average -0.7577205882352941 0.0 \n",
            "\u001b[36m(ClientAppActor pid=13401)\u001b[0m [Client 9] evaluate, config: {}\u001b[32m [repeated 39x across cluster]\u001b[0m\n"
          ]
        },
        {
          "output_type": "stream",
          "name": "stderr",
          "text": [
            "\u001b[92mINFO \u001b[0m:      aggregate_fit: received 10 results and 0 failures\n",
            "\u001b[92mINFO \u001b[0m:      fit progress: (14, 0.015052487996096412, {'accuracy': 0.7565104166666666}, 66.47549673799995)\n",
            "\u001b[92mINFO \u001b[0m:      configure_evaluate: strategy sampled 10 clients (out of 10)\n"
          ]
        },
        {
          "output_type": "stream",
          "name": "stdout",
          "text": [
            "Server-side evaluation loss 0.015052487996096412 / accuracy 0.7565104166666666\n",
            "Model saved as federated_model_14.pth\n"
          ]
        },
        {
          "output_type": "stream",
          "name": "stderr",
          "text": [
            "\u001b[92mINFO \u001b[0m:      aggregate_evaluate: received 10 results and 0 failures\n",
            "\u001b[92mINFO \u001b[0m:      \n",
            "\u001b[92mINFO \u001b[0m:      [ROUND 15]\n",
            "\u001b[92mINFO \u001b[0m:      configure_fit: strategy sampled 10 clients (out of 10)\n"
          ]
        },
        {
          "output_type": "stream",
          "name": "stdout",
          "text": [
            "My_weighted_average -0.7577205882352941 0.0 \n"
          ]
        },
        {
          "output_type": "stream",
          "name": "stderr",
          "text": [
            "\u001b[92mINFO \u001b[0m:      aggregate_fit: received 10 results and 0 failures\n",
            "\u001b[92mINFO \u001b[0m:      fit progress: (15, 0.015009659575298429, {'accuracy': 0.7604166666666666}, 67.95479600099998)\n",
            "\u001b[92mINFO \u001b[0m:      configure_evaluate: strategy sampled 10 clients (out of 10)\n"
          ]
        },
        {
          "output_type": "stream",
          "name": "stdout",
          "text": [
            "Server-side evaluation loss 0.015009659575298429 / accuracy 0.7604166666666666\n",
            "Model saved as federated_model_15.pth\n"
          ]
        },
        {
          "output_type": "stream",
          "name": "stderr",
          "text": [
            "\u001b[92mINFO \u001b[0m:      aggregate_evaluate: received 10 results and 0 failures\n",
            "\u001b[92mINFO \u001b[0m:      \n",
            "\u001b[92mINFO \u001b[0m:      [ROUND 16]\n",
            "\u001b[92mINFO \u001b[0m:      configure_fit: strategy sampled 10 clients (out of 10)\n"
          ]
        },
        {
          "output_type": "stream",
          "name": "stdout",
          "text": [
            "My_weighted_average -0.7577205882352941 0.0 \n"
          ]
        },
        {
          "output_type": "stream",
          "name": "stderr",
          "text": [
            "\u001b[92mINFO \u001b[0m:      aggregate_fit: received 10 results and 0 failures\n",
            "\u001b[92mINFO \u001b[0m:      fit progress: (16, 0.014983369774806002, {'accuracy': 0.7630208333333334}, 70.0412806280001)\n",
            "\u001b[92mINFO \u001b[0m:      configure_evaluate: strategy sampled 10 clients (out of 10)\n"
          ]
        },
        {
          "output_type": "stream",
          "name": "stdout",
          "text": [
            "Server-side evaluation loss 0.014983369774806002 / accuracy 0.7630208333333334\n",
            "Model saved as federated_model_16.pth\n",
            "\u001b[36m(ClientAppActor pid=13400)\u001b[0m [Client 7, round 16] fit, config: {'server_round': 16, 'local_epochs': 5}\u001b[32m [repeated 30x across cluster]\u001b[0m\n"
          ]
        },
        {
          "output_type": "stream",
          "name": "stderr",
          "text": [
            "\u001b[92mINFO \u001b[0m:      aggregate_evaluate: received 10 results and 0 failures\n",
            "\u001b[92mINFO \u001b[0m:      \n",
            "\u001b[92mINFO \u001b[0m:      [ROUND 17]\n",
            "\u001b[92mINFO \u001b[0m:      configure_fit: strategy sampled 10 clients (out of 10)\n"
          ]
        },
        {
          "output_type": "stream",
          "name": "stdout",
          "text": [
            "\u001b[36m(ClientAppActor pid=13400)\u001b[0m [Client 3] evaluate, config: {}\u001b[32m [repeated 27x across cluster]\u001b[0m\n",
            "My_weighted_average -0.7577205882352941 0.0 \n"
          ]
        },
        {
          "output_type": "stream",
          "name": "stderr",
          "text": [
            "\u001b[92mINFO \u001b[0m:      aggregate_fit: received 10 results and 0 failures\n",
            "\u001b[92mINFO \u001b[0m:      fit progress: (17, 0.014939274988137186, {'accuracy': 0.7669270833333334}, 72.4348446150002)\n",
            "\u001b[92mINFO \u001b[0m:      configure_evaluate: strategy sampled 10 clients (out of 10)\n"
          ]
        },
        {
          "output_type": "stream",
          "name": "stdout",
          "text": [
            "Server-side evaluation loss 0.014939274988137186 / accuracy 0.7669270833333334\n",
            "Model saved as federated_model_17.pth\n"
          ]
        },
        {
          "output_type": "stream",
          "name": "stderr",
          "text": [
            "\u001b[92mINFO \u001b[0m:      aggregate_evaluate: received 10 results and 0 failures\n",
            "\u001b[92mINFO \u001b[0m:      \n",
            "\u001b[92mINFO \u001b[0m:      [ROUND 18]\n",
            "\u001b[92mINFO \u001b[0m:      configure_fit: strategy sampled 10 clients (out of 10)\n"
          ]
        },
        {
          "output_type": "stream",
          "name": "stdout",
          "text": [
            "My_weighted_average -0.7514705882352941 0.0 \n"
          ]
        },
        {
          "output_type": "stream",
          "name": "stderr",
          "text": [
            "\u001b[92mINFO \u001b[0m:      aggregate_fit: received 10 results and 0 failures\n",
            "\u001b[92mINFO \u001b[0m:      fit progress: (18, 0.014874486873547236, {'accuracy': 0.765625}, 73.91458016200022)\n",
            "\u001b[92mINFO \u001b[0m:      configure_evaluate: strategy sampled 10 clients (out of 10)\n"
          ]
        },
        {
          "output_type": "stream",
          "name": "stdout",
          "text": [
            "Server-side evaluation loss 0.014874486873547236 / accuracy 0.765625\n",
            "Model saved as federated_model_18.pth\n"
          ]
        },
        {
          "output_type": "stream",
          "name": "stderr",
          "text": [
            "\u001b[92mINFO \u001b[0m:      aggregate_evaluate: received 10 results and 0 failures\n",
            "\u001b[92mINFO \u001b[0m:      \n",
            "\u001b[92mINFO \u001b[0m:      [ROUND 19]\n",
            "\u001b[92mINFO \u001b[0m:      configure_fit: strategy sampled 10 clients (out of 10)\n"
          ]
        },
        {
          "output_type": "stream",
          "name": "stdout",
          "text": [
            "My_weighted_average -0.7573529411764706 0.0 \n"
          ]
        },
        {
          "output_type": "stream",
          "name": "stderr",
          "text": [
            "\u001b[92mINFO \u001b[0m:      aggregate_fit: received 10 results and 0 failures\n",
            "\u001b[92mINFO \u001b[0m:      fit progress: (19, 0.014850241248495877, {'accuracy': 0.7669270833333334}, 75.52693480700009)\n",
            "\u001b[92mINFO \u001b[0m:      configure_evaluate: strategy sampled 10 clients (out of 10)\n"
          ]
        },
        {
          "output_type": "stream",
          "name": "stdout",
          "text": [
            "Server-side evaluation loss 0.014850241248495877 / accuracy 0.7669270833333334\n",
            "Model saved as federated_model_19.pth\n",
            "\u001b[36m(ClientAppActor pid=13401)\u001b[0m [Client 2, round 19] fit, config: {'server_round': 19, 'local_epochs': 5}\u001b[32m [repeated 30x across cluster]\u001b[0m\n",
            "\u001b[36m(ClientAppActor pid=13400)\u001b[0m [Client 5] evaluate, config: {}\u001b[32m [repeated 26x across cluster]\u001b[0m\n"
          ]
        },
        {
          "output_type": "stream",
          "name": "stderr",
          "text": [
            "\u001b[92mINFO \u001b[0m:      aggregate_evaluate: received 10 results and 0 failures\n",
            "\u001b[92mINFO \u001b[0m:      \n",
            "\u001b[92mINFO \u001b[0m:      [ROUND 20]\n",
            "\u001b[92mINFO \u001b[0m:      configure_fit: strategy sampled 10 clients (out of 10)\n"
          ]
        },
        {
          "output_type": "stream",
          "name": "stdout",
          "text": [
            "My_weighted_average -0.7636029411764705 0.0 \n"
          ]
        },
        {
          "output_type": "stream",
          "name": "stderr",
          "text": [
            "\u001b[92mINFO \u001b[0m:      aggregate_fit: received 10 results and 0 failures\n",
            "\u001b[92mINFO \u001b[0m:      fit progress: (20, 0.014811266291265687, {'accuracy': 0.7682291666666666}, 76.9728331350002)\n",
            "\u001b[92mINFO \u001b[0m:      configure_evaluate: strategy sampled 10 clients (out of 10)\n"
          ]
        },
        {
          "output_type": "stream",
          "name": "stdout",
          "text": [
            "Server-side evaluation loss 0.014811266291265687 / accuracy 0.7682291666666666\n",
            "Model saved as federated_model_20.pth\n"
          ]
        },
        {
          "output_type": "stream",
          "name": "stderr",
          "text": [
            "\u001b[92mINFO \u001b[0m:      aggregate_evaluate: received 10 results and 0 failures\n",
            "\u001b[92mINFO \u001b[0m:      \n",
            "\u001b[92mINFO \u001b[0m:      [ROUND 21]\n",
            "\u001b[92mINFO \u001b[0m:      configure_fit: strategy sampled 10 clients (out of 10)\n"
          ]
        },
        {
          "output_type": "stream",
          "name": "stdout",
          "text": [
            "My_weighted_average -0.7636029411764705 0.0 \n"
          ]
        },
        {
          "output_type": "stream",
          "name": "stderr",
          "text": [
            "\u001b[92mINFO \u001b[0m:      aggregate_fit: received 10 results and 0 failures\n",
            "\u001b[92mINFO \u001b[0m:      fit progress: (21, 0.014784030926724276, {'accuracy': 0.765625}, 78.53672282900015)\n",
            "\u001b[92mINFO \u001b[0m:      configure_evaluate: strategy sampled 10 clients (out of 10)\n"
          ]
        },
        {
          "output_type": "stream",
          "name": "stdout",
          "text": [
            "Server-side evaluation loss 0.014784030926724276 / accuracy 0.765625\n",
            "Model saved as federated_model_21.pth\n"
          ]
        },
        {
          "output_type": "stream",
          "name": "stderr",
          "text": [
            "\u001b[92mINFO \u001b[0m:      aggregate_evaluate: received 10 results and 0 failures\n",
            "\u001b[92mINFO \u001b[0m:      \n",
            "\u001b[92mINFO \u001b[0m:      [ROUND 22]\n",
            "\u001b[92mINFO \u001b[0m:      configure_fit: strategy sampled 10 clients (out of 10)\n"
          ]
        },
        {
          "output_type": "stream",
          "name": "stdout",
          "text": [
            "My_weighted_average -0.7636029411764705 0.0 \n"
          ]
        },
        {
          "output_type": "stream",
          "name": "stderr",
          "text": [
            "\u001b[92mINFO \u001b[0m:      aggregate_fit: received 10 results and 0 failures\n",
            "\u001b[92mINFO \u001b[0m:      fit progress: (22, 0.014751634793356061, {'accuracy': 0.7643229166666666}, 79.96734827)\n",
            "\u001b[92mINFO \u001b[0m:      configure_evaluate: strategy sampled 10 clients (out of 10)\n"
          ]
        },
        {
          "output_type": "stream",
          "name": "stdout",
          "text": [
            "Server-side evaluation loss 0.014751634793356061 / accuracy 0.7643229166666666\n",
            "Model saved as federated_model_22.pth\n"
          ]
        },
        {
          "output_type": "stream",
          "name": "stderr",
          "text": [
            "\u001b[92mINFO \u001b[0m:      aggregate_evaluate: received 10 results and 0 failures\n",
            "\u001b[92mINFO \u001b[0m:      \n",
            "\u001b[92mINFO \u001b[0m:      [ROUND 23]\n",
            "\u001b[92mINFO \u001b[0m:      configure_fit: strategy sampled 10 clients (out of 10)\n"
          ]
        },
        {
          "output_type": "stream",
          "name": "stdout",
          "text": [
            "My_weighted_average -0.7636029411764705 0.0 \n",
            "\u001b[36m(ClientAppActor pid=13400)\u001b[0m [Client 3, round 23] fit, config: {'server_round': 23, 'local_epochs': 5}\u001b[32m [repeated 31x across cluster]\u001b[0m\n",
            "\u001b[36m(ClientAppActor pid=13401)\u001b[0m [Client 9] evaluate, config: {}\u001b[32m [repeated 37x across cluster]\u001b[0m\n"
          ]
        },
        {
          "output_type": "stream",
          "name": "stderr",
          "text": [
            "\u001b[92mINFO \u001b[0m:      aggregate_fit: received 10 results and 0 failures\n",
            "\u001b[92mINFO \u001b[0m:      fit progress: (23, 0.014732192076432208, {'accuracy': 0.765625}, 81.43636790100027)\n",
            "\u001b[92mINFO \u001b[0m:      configure_evaluate: strategy sampled 10 clients (out of 10)\n"
          ]
        },
        {
          "output_type": "stream",
          "name": "stdout",
          "text": [
            "Server-side evaluation loss 0.014732192076432208 / accuracy 0.765625\n",
            "Model saved as federated_model_23.pth\n"
          ]
        },
        {
          "output_type": "stream",
          "name": "stderr",
          "text": [
            "\u001b[92mINFO \u001b[0m:      aggregate_evaluate: received 10 results and 0 failures\n",
            "\u001b[92mINFO \u001b[0m:      \n",
            "\u001b[92mINFO \u001b[0m:      [ROUND 24]\n",
            "\u001b[92mINFO \u001b[0m:      configure_fit: strategy sampled 10 clients (out of 10)\n"
          ]
        },
        {
          "output_type": "stream",
          "name": "stdout",
          "text": [
            "My_weighted_average -0.7636029411764705 0.0 \n"
          ]
        },
        {
          "output_type": "stream",
          "name": "stderr",
          "text": [
            "\u001b[92mINFO \u001b[0m:      aggregate_fit: received 10 results and 0 failures\n",
            "\u001b[92mINFO \u001b[0m:      fit progress: (24, 0.014713957828159133, {'accuracy': 0.765625}, 83.08497243900001)\n",
            "\u001b[92mINFO \u001b[0m:      configure_evaluate: strategy sampled 10 clients (out of 10)\n"
          ]
        },
        {
          "output_type": "stream",
          "name": "stdout",
          "text": [
            "Server-side evaluation loss 0.014713957828159133 / accuracy 0.765625\n",
            "Model saved as federated_model_24.pth\n"
          ]
        },
        {
          "output_type": "stream",
          "name": "stderr",
          "text": [
            "\u001b[92mINFO \u001b[0m:      aggregate_evaluate: received 10 results and 0 failures\n",
            "\u001b[92mINFO \u001b[0m:      \n",
            "\u001b[92mINFO \u001b[0m:      [ROUND 25]\n",
            "\u001b[92mINFO \u001b[0m:      configure_fit: strategy sampled 10 clients (out of 10)\n"
          ]
        },
        {
          "output_type": "stream",
          "name": "stdout",
          "text": [
            "My_weighted_average -0.7639705882352941 0.0 \n"
          ]
        },
        {
          "output_type": "stream",
          "name": "stderr",
          "text": [
            "\u001b[92mINFO \u001b[0m:      aggregate_fit: received 10 results and 0 failures\n",
            "\u001b[92mINFO \u001b[0m:      fit progress: (25, 0.014691585946517685, {'accuracy': 0.7630208333333334}, 85.36982433100002)\n",
            "\u001b[92mINFO \u001b[0m:      configure_evaluate: strategy sampled 10 clients (out of 10)\n"
          ]
        },
        {
          "output_type": "stream",
          "name": "stdout",
          "text": [
            "Server-side evaluation loss 0.014691585946517685 / accuracy 0.7630208333333334\n",
            "Model saved as federated_model_25.pth\n",
            "\u001b[36m(ClientAppActor pid=13401)\u001b[0m [Client 6, round 25] fit, config: {'server_round': 25, 'local_epochs': 5}\u001b[32m [repeated 29x across cluster]\u001b[0m\n",
            "\u001b[36m(ClientAppActor pid=13401)\u001b[0m [Client 9] evaluate, config: {}\u001b[32m [repeated 25x across cluster]\u001b[0m\n"
          ]
        },
        {
          "output_type": "stream",
          "name": "stderr",
          "text": [
            "\u001b[92mINFO \u001b[0m:      aggregate_evaluate: received 10 results and 0 failures\n",
            "\u001b[92mINFO \u001b[0m:      \n",
            "\u001b[92mINFO \u001b[0m:      [ROUND 26]\n",
            "\u001b[92mINFO \u001b[0m:      configure_fit: strategy sampled 10 clients (out of 10)\n"
          ]
        },
        {
          "output_type": "stream",
          "name": "stdout",
          "text": [
            "My_weighted_average -0.7577205882352941 0.0 \n"
          ]
        },
        {
          "output_type": "stream",
          "name": "stderr",
          "text": [
            "\u001b[92mINFO \u001b[0m:      aggregate_fit: received 10 results and 0 failures\n",
            "\u001b[92mINFO \u001b[0m:      fit progress: (26, 0.014677544978136817, {'accuracy': 0.7669270833333334}, 87.44451249600024)\n",
            "\u001b[92mINFO \u001b[0m:      configure_evaluate: strategy sampled 10 clients (out of 10)\n"
          ]
        },
        {
          "output_type": "stream",
          "name": "stdout",
          "text": [
            "Server-side evaluation loss 0.014677544978136817 / accuracy 0.7669270833333334\n",
            "Model saved as federated_model_26.pth\n"
          ]
        },
        {
          "output_type": "stream",
          "name": "stderr",
          "text": [
            "\u001b[92mINFO \u001b[0m:      aggregate_evaluate: received 10 results and 0 failures\n",
            "\u001b[92mINFO \u001b[0m:      \n",
            "\u001b[92mINFO \u001b[0m:      [ROUND 27]\n",
            "\u001b[92mINFO \u001b[0m:      configure_fit: strategy sampled 10 clients (out of 10)\n"
          ]
        },
        {
          "output_type": "stream",
          "name": "stdout",
          "text": [
            "My_weighted_average -0.7639705882352941 0.0 \n"
          ]
        },
        {
          "output_type": "stream",
          "name": "stderr",
          "text": [
            "\u001b[92mINFO \u001b[0m:      aggregate_fit: received 10 results and 0 failures\n",
            "\u001b[92mINFO \u001b[0m:      fit progress: (27, 0.01464737947875013, {'accuracy': 0.7669270833333334}, 88.91185331299994)\n",
            "\u001b[92mINFO \u001b[0m:      configure_evaluate: strategy sampled 10 clients (out of 10)\n"
          ]
        },
        {
          "output_type": "stream",
          "name": "stdout",
          "text": [
            "Server-side evaluation loss 0.01464737947875013 / accuracy 0.7669270833333334\n",
            "Model saved as federated_model_27.pth\n"
          ]
        },
        {
          "output_type": "stream",
          "name": "stderr",
          "text": [
            "\u001b[92mINFO \u001b[0m:      aggregate_evaluate: received 10 results and 0 failures\n",
            "\u001b[92mINFO \u001b[0m:      \n",
            "\u001b[92mINFO \u001b[0m:      [ROUND 28]\n",
            "\u001b[92mINFO \u001b[0m:      configure_fit: strategy sampled 10 clients (out of 10)\n"
          ]
        },
        {
          "output_type": "stream",
          "name": "stdout",
          "text": [
            "My_weighted_average -0.7577205882352941 0.0 \n"
          ]
        },
        {
          "output_type": "stream",
          "name": "stderr",
          "text": [
            "\u001b[92mINFO \u001b[0m:      aggregate_fit: received 10 results and 0 failures\n",
            "\u001b[92mINFO \u001b[0m:      fit progress: (28, 0.014627510371307531, {'accuracy': 0.7669270833333334}, 90.35623676700015)\n",
            "\u001b[92mINFO \u001b[0m:      configure_evaluate: strategy sampled 10 clients (out of 10)\n"
          ]
        },
        {
          "output_type": "stream",
          "name": "stdout",
          "text": [
            "Server-side evaluation loss 0.014627510371307531 / accuracy 0.7669270833333334\n",
            "Model saved as federated_model_28.pth\n"
          ]
        },
        {
          "output_type": "stream",
          "name": "stderr",
          "text": [
            "\u001b[92mINFO \u001b[0m:      aggregate_evaluate: received 10 results and 0 failures\n",
            "\u001b[92mINFO \u001b[0m:      \n",
            "\u001b[92mINFO \u001b[0m:      [ROUND 29]\n",
            "\u001b[92mINFO \u001b[0m:      configure_fit: strategy sampled 10 clients (out of 10)\n"
          ]
        },
        {
          "output_type": "stream",
          "name": "stdout",
          "text": [
            "\u001b[36m(ClientAppActor pid=13401)\u001b[0m [Client 7, round 28] fit, config: {'server_round': 28, 'local_epochs': 5}\u001b[32m [repeated 30x across cluster]\u001b[0m\n",
            "My_weighted_average -0.7577205882352941 0.0 \n"
          ]
        },
        {
          "output_type": "stream",
          "name": "stderr",
          "text": [
            "\u001b[92mINFO \u001b[0m:      aggregate_fit: received 10 results and 0 failures\n",
            "\u001b[92mINFO \u001b[0m:      fit progress: (29, 0.014624706702306867, {'accuracy': 0.76953125}, 91.7281103270002)\n",
            "\u001b[92mINFO \u001b[0m:      configure_evaluate: strategy sampled 10 clients (out of 10)\n"
          ]
        },
        {
          "output_type": "stream",
          "name": "stdout",
          "text": [
            "\u001b[36m(ClientAppActor pid=13401)\u001b[0m [Client 1] evaluate, config: {}\u001b[32m [repeated 35x across cluster]\u001b[0m\n",
            "Server-side evaluation loss 0.014624706702306867 / accuracy 0.76953125\n",
            "Model saved as federated_model_29.pth\n"
          ]
        },
        {
          "output_type": "stream",
          "name": "stderr",
          "text": [
            "\u001b[92mINFO \u001b[0m:      aggregate_evaluate: received 10 results and 0 failures\n",
            "\u001b[92mINFO \u001b[0m:      \n",
            "\u001b[92mINFO \u001b[0m:      [ROUND 30]\n",
            "\u001b[92mINFO \u001b[0m:      configure_fit: strategy sampled 10 clients (out of 10)\n"
          ]
        },
        {
          "output_type": "stream",
          "name": "stdout",
          "text": [
            "My_weighted_average -0.7639705882352941 0.0 \n"
          ]
        },
        {
          "output_type": "stream",
          "name": "stderr",
          "text": [
            "\u001b[92mINFO \u001b[0m:      aggregate_fit: received 10 results and 0 failures\n",
            "\u001b[92mINFO \u001b[0m:      fit progress: (30, 0.01460625413650026, {'accuracy': 0.7669270833333334}, 93.15937245100031)\n",
            "\u001b[92mINFO \u001b[0m:      configure_evaluate: strategy sampled 10 clients (out of 10)\n"
          ]
        },
        {
          "output_type": "stream",
          "name": "stdout",
          "text": [
            "Server-side evaluation loss 0.01460625413650026 / accuracy 0.7669270833333334\n",
            "Model saved as federated_model_30.pth\n"
          ]
        },
        {
          "output_type": "stream",
          "name": "stderr",
          "text": [
            "\u001b[92mINFO \u001b[0m:      aggregate_evaluate: received 10 results and 0 failures\n",
            "\u001b[92mINFO \u001b[0m:      \n",
            "\u001b[92mINFO \u001b[0m:      [SUMMARY]\n",
            "\u001b[92mINFO \u001b[0m:      Run finished 30 round(s) in 93.80s\n",
            "\u001b[92mINFO \u001b[0m:      \tHistory (loss, distributed):\n",
            "\u001b[92mINFO \u001b[0m:      \t\tround 1: 0.041321122931206926\n",
            "\u001b[92mINFO \u001b[0m:      \t\tround 2: 0.03894906458170975\n",
            "\u001b[92mINFO \u001b[0m:      \t\tround 3: 0.037103795391671794\n",
            "\u001b[92mINFO \u001b[0m:      \t\tround 4: 0.035575999012764765\n",
            "\u001b[92mINFO \u001b[0m:      \t\tround 5: 0.03432878966936294\n",
            "\u001b[92mINFO \u001b[0m:      \t\tround 6: 0.033364405614488266\n",
            "\u001b[92mINFO \u001b[0m:      \t\tround 7: 0.032456444740733684\n",
            "\u001b[92mINFO \u001b[0m:      \t\tround 8: 0.03175534566535669\n",
            "\u001b[92mINFO \u001b[0m:      \t\tround 9: 0.031203916898983365\n",
            "\u001b[92mINFO \u001b[0m:      \t\tround 10: 0.0307387831456521\n",
            "\u001b[92mINFO \u001b[0m:      \t\tround 11: 0.030403695759527827\n",
            "\u001b[92mINFO \u001b[0m:      \t\tround 12: 0.030036080760114336\n",
            "\u001b[92mINFO \u001b[0m:      \t\tround 13: 0.02973630093038082\n",
            "\u001b[92mINFO \u001b[0m:      \t\tround 14: 0.029457214485634774\n",
            "\u001b[92mINFO \u001b[0m:      \t\tround 15: 0.029381583543384777\n",
            "\u001b[92mINFO \u001b[0m:      \t\tround 16: 0.029364214289714308\n",
            "\u001b[92mINFO \u001b[0m:      \t\tround 17: 0.029191439007135\n",
            "\u001b[92mINFO \u001b[0m:      \t\tround 18: 0.029013752137475153\n",
            "\u001b[92mINFO \u001b[0m:      \t\tround 19: 0.028990489134893698\n",
            "\u001b[92mINFO \u001b[0m:      \t\tround 20: 0.02883698085651678\n",
            "\u001b[92mINFO \u001b[0m:      \t\tround 21: 0.028711098476367835\n",
            "\u001b[92mINFO \u001b[0m:      \t\tround 22: 0.02858502986457418\n",
            "\u001b[92mINFO \u001b[0m:      \t\tround 23: 0.0284967501373852\n",
            "\u001b[92mINFO \u001b[0m:      \t\tround 24: 0.028420033464756078\n",
            "\u001b[92mINFO \u001b[0m:      \t\tround 25: 0.028330595994039493\n",
            "\u001b[92mINFO \u001b[0m:      \t\tround 26: 0.02828591665910447\n",
            "\u001b[92mINFO \u001b[0m:      \t\tround 27: 0.028163980517317267\n",
            "\u001b[92mINFO \u001b[0m:      \t\tround 28: 0.02807732425520525\n",
            "\u001b[92mINFO \u001b[0m:      \t\tround 29: 0.02813934291000752\n",
            "\u001b[92mINFO \u001b[0m:      \t\tround 30: 0.028097580669119077\n",
            "\u001b[92mINFO \u001b[0m:      \tHistory (loss, centralized):\n",
            "\u001b[92mINFO \u001b[0m:      \t\tround 0: 0.022276054524506133\n",
            "\u001b[92mINFO \u001b[0m:      \t\tround 1: 0.020722786352659266\n",
            "\u001b[92mINFO \u001b[0m:      \t\tround 2: 0.019533563405275345\n",
            "\u001b[92mINFO \u001b[0m:      \t\tround 3: 0.018617147967840236\n",
            "\u001b[92mINFO \u001b[0m:      \t\tround 4: 0.017861079424619675\n",
            "\u001b[92mINFO \u001b[0m:      \t\tround 5: 0.01724552906428774\n",
            "\u001b[92mINFO \u001b[0m:      \t\tround 6: 0.01678452097500364\n",
            "\u001b[92mINFO \u001b[0m:      \t\tround 7: 0.01634635093311469\n",
            "\u001b[92mINFO \u001b[0m:      \t\tround 8: 0.016029453099084396\n",
            "\u001b[92mINFO \u001b[0m:      \t\tround 9: 0.015763529964412253\n",
            "\u001b[92mINFO \u001b[0m:      \t\tround 10: 0.01555931354717662\n",
            "\u001b[92mINFO \u001b[0m:      \t\tround 11: 0.015417928652216991\n",
            "\u001b[92mINFO \u001b[0m:      \t\tround 12: 0.015268870474149784\n",
            "\u001b[92mINFO \u001b[0m:      \t\tround 13: 0.015148841814758876\n",
            "\u001b[92mINFO \u001b[0m:      \t\tround 14: 0.015052487996096412\n",
            "\u001b[92mINFO \u001b[0m:      \t\tround 15: 0.015009659575298429\n",
            "\u001b[92mINFO \u001b[0m:      \t\tround 16: 0.014983369774806002\n",
            "\u001b[92mINFO \u001b[0m:      \t\tround 17: 0.014939274988137186\n",
            "\u001b[92mINFO \u001b[0m:      \t\tround 18: 0.014874486873547236\n",
            "\u001b[92mINFO \u001b[0m:      \t\tround 19: 0.014850241248495877\n",
            "\u001b[92mINFO \u001b[0m:      \t\tround 20: 0.014811266291265687\n",
            "\u001b[92mINFO \u001b[0m:      \t\tround 21: 0.014784030926724276\n",
            "\u001b[92mINFO \u001b[0m:      \t\tround 22: 0.014751634793356061\n",
            "\u001b[92mINFO \u001b[0m:      \t\tround 23: 0.014732192076432208\n",
            "\u001b[92mINFO \u001b[0m:      \t\tround 24: 0.014713957828159133\n",
            "\u001b[92mINFO \u001b[0m:      \t\tround 25: 0.014691585946517685\n",
            "\u001b[92mINFO \u001b[0m:      \t\tround 26: 0.014677544978136817\n",
            "\u001b[92mINFO \u001b[0m:      \t\tround 27: 0.01464737947875013\n",
            "\u001b[92mINFO \u001b[0m:      \t\tround 28: 0.014627510371307531\n",
            "\u001b[92mINFO \u001b[0m:      \t\tround 29: 0.014624706702306867\n",
            "\u001b[92mINFO \u001b[0m:      \t\tround 30: 0.01460625413650026\n",
            "\u001b[92mINFO \u001b[0m:      \tHistory (metrics, distributed, evaluate):\n",
            "\u001b[92mINFO \u001b[0m:      \t{'accuracy': [(1, 0.6636029411764706),\n",
            "\u001b[92mINFO \u001b[0m:      \t              (2, 0.7011029411764705),\n",
            "\u001b[92mINFO \u001b[0m:      \t              (3, 0.7202205882352941),\n",
            "\u001b[92mINFO \u001b[0m:      \t              (4, 0.7202205882352941),\n",
            "\u001b[92mINFO \u001b[0m:      \t              (5, 0.7264705882352941),\n",
            "\u001b[92mINFO \u001b[0m:      \t              (6, 0.7139705882352941),\n",
            "\u001b[92mINFO \u001b[0m:      \t              (7, 0.7202205882352941),\n",
            "\u001b[92mINFO \u001b[0m:      \t              (8, 0.7202205882352941),\n",
            "\u001b[92mINFO \u001b[0m:      \t              (9, 0.7264705882352941),\n",
            "\u001b[92mINFO \u001b[0m:      \t              (10, 0.7327205882352941),\n",
            "\u001b[92mINFO \u001b[0m:      \t              (11, 0.7514705882352941),\n",
            "\u001b[92mINFO \u001b[0m:      \t              (12, 0.7577205882352941),\n",
            "\u001b[92mINFO \u001b[0m:      \t              (13, 0.7577205882352941),\n",
            "\u001b[92mINFO \u001b[0m:      \t              (14, 0.7577205882352941),\n",
            "\u001b[92mINFO \u001b[0m:      \t              (15, 0.7577205882352941),\n",
            "\u001b[92mINFO \u001b[0m:      \t              (16, 0.7577205882352941),\n",
            "\u001b[92mINFO \u001b[0m:      \t              (17, 0.7514705882352941),\n",
            "\u001b[92mINFO \u001b[0m:      \t              (18, 0.7573529411764706),\n",
            "\u001b[92mINFO \u001b[0m:      \t              (19, 0.7636029411764705),\n",
            "\u001b[92mINFO \u001b[0m:      \t              (20, 0.7636029411764705),\n",
            "\u001b[92mINFO \u001b[0m:      \t              (21, 0.7636029411764705),\n",
            "\u001b[92mINFO \u001b[0m:      \t              (22, 0.7636029411764705),\n",
            "\u001b[92mINFO \u001b[0m:      \t              (23, 0.7636029411764705),\n",
            "\u001b[92mINFO \u001b[0m:      \t              (24, 0.7639705882352941),\n",
            "\u001b[92mINFO \u001b[0m:      \t              (25, 0.7577205882352941),\n",
            "\u001b[92mINFO \u001b[0m:      \t              (26, 0.7639705882352941),\n",
            "\u001b[92mINFO \u001b[0m:      \t              (27, 0.7577205882352941),\n",
            "\u001b[92mINFO \u001b[0m:      \t              (28, 0.7577205882352941),\n",
            "\u001b[92mINFO \u001b[0m:      \t              (29, 0.7639705882352941),\n",
            "\u001b[92mINFO \u001b[0m:      \t              (30, 0.7639705882352941)],\n",
            "\u001b[92mINFO \u001b[0m:      \t 'loss': [(1, 0.0),\n",
            "\u001b[92mINFO \u001b[0m:      \t          (2, 0.0),\n",
            "\u001b[92mINFO \u001b[0m:      \t          (3, 0.0),\n",
            "\u001b[92mINFO \u001b[0m:      \t          (4, 0.0),\n",
            "\u001b[92mINFO \u001b[0m:      \t          (5, 0.0),\n",
            "\u001b[92mINFO \u001b[0m:      \t          (6, 0.0),\n",
            "\u001b[92mINFO \u001b[0m:      \t          (7, 0.0),\n",
            "\u001b[92mINFO \u001b[0m:      \t          (8, 0.0),\n",
            "\u001b[92mINFO \u001b[0m:      \t          (9, 0.0),\n",
            "\u001b[92mINFO \u001b[0m:      \t          (10, 0.0),\n",
            "\u001b[92mINFO \u001b[0m:      \t          (11, 0.0),\n",
            "\u001b[92mINFO \u001b[0m:      \t          (12, 0.0),\n",
            "\u001b[92mINFO \u001b[0m:      \t          (13, 0.0),\n",
            "\u001b[92mINFO \u001b[0m:      \t          (14, 0.0),\n",
            "\u001b[92mINFO \u001b[0m:      \t          (15, 0.0),\n",
            "\u001b[92mINFO \u001b[0m:      \t          (16, 0.0),\n",
            "\u001b[92mINFO \u001b[0m:      \t          (17, 0.0),\n",
            "\u001b[92mINFO \u001b[0m:      \t          (18, 0.0),\n",
            "\u001b[92mINFO \u001b[0m:      \t          (19, 0.0),\n",
            "\u001b[92mINFO \u001b[0m:      \t          (20, 0.0),\n",
            "\u001b[92mINFO \u001b[0m:      \t          (21, 0.0),\n",
            "\u001b[92mINFO \u001b[0m:      \t          (22, 0.0),\n",
            "\u001b[92mINFO \u001b[0m:      \t          (23, 0.0),\n",
            "\u001b[92mINFO \u001b[0m:      \t          (24, 0.0),\n",
            "\u001b[92mINFO \u001b[0m:      \t          (25, 0.0),\n",
            "\u001b[92mINFO \u001b[0m:      \t          (26, 0.0),\n"
          ]
        },
        {
          "output_type": "stream",
          "name": "stdout",
          "text": [
            "My_weighted_average -0.7639705882352941 0.0 \n"
          ]
        },
        {
          "output_type": "stream",
          "name": "stderr",
          "text": [
            "\u001b[92mINFO \u001b[0m:      \t          (27, 0.0),\n",
            "\u001b[92mINFO \u001b[0m:      \t          (28, 0.0),\n",
            "\u001b[92mINFO \u001b[0m:      \t          (29, 0.0),\n",
            "\u001b[92mINFO \u001b[0m:      \t          (30, 0.0)]}\n",
            "\u001b[92mINFO \u001b[0m:      \tHistory (metrics, centralized):\n",
            "\u001b[92mINFO \u001b[0m:      \t{'accuracy': [(0, 0.38671875),\n",
            "\u001b[92mINFO \u001b[0m:      \t              (1, 0.6627604166666666),\n",
            "\u001b[92mINFO \u001b[0m:      \t              (2, 0.7005208333333334),\n",
            "\u001b[92mINFO \u001b[0m:      \t              (3, 0.7239583333333334),\n",
            "\u001b[92mINFO \u001b[0m:      \t              (4, 0.7330729166666666),\n",
            "\u001b[92mINFO \u001b[0m:      \t              (5, 0.73828125),\n",
            "\u001b[92mINFO \u001b[0m:      \t              (6, 0.7317708333333334),\n",
            "\u001b[92mINFO \u001b[0m:      \t              (7, 0.734375),\n",
            "\u001b[92mINFO \u001b[0m:      \t              (8, 0.7421875),\n",
            "\u001b[92mINFO \u001b[0m:      \t              (9, 0.74609375),\n",
            "\u001b[92mINFO \u001b[0m:      \t              (10, 0.7447916666666666),\n",
            "\u001b[92mINFO \u001b[0m:      \t              (11, 0.7513020833333334),\n",
            "\u001b[92mINFO \u001b[0m:      \t              (12, 0.7565104166666666),\n",
            "\u001b[92mINFO \u001b[0m:      \t              (13, 0.7578125),\n",
            "\u001b[92mINFO \u001b[0m:      \t              (14, 0.7565104166666666),\n",
            "\u001b[92mINFO \u001b[0m:      \t              (15, 0.7604166666666666),\n",
            "\u001b[92mINFO \u001b[0m:      \t              (16, 0.7630208333333334),\n",
            "\u001b[92mINFO \u001b[0m:      \t              (17, 0.7669270833333334),\n",
            "\u001b[92mINFO \u001b[0m:      \t              (18, 0.765625),\n",
            "\u001b[92mINFO \u001b[0m:      \t              (19, 0.7669270833333334),\n",
            "\u001b[92mINFO \u001b[0m:      \t              (20, 0.7682291666666666),\n",
            "\u001b[92mINFO \u001b[0m:      \t              (21, 0.765625),\n",
            "\u001b[92mINFO \u001b[0m:      \t              (22, 0.7643229166666666),\n",
            "\u001b[92mINFO \u001b[0m:      \t              (23, 0.765625),\n",
            "\u001b[92mINFO \u001b[0m:      \t              (24, 0.765625),\n",
            "\u001b[92mINFO \u001b[0m:      \t              (25, 0.7630208333333334),\n",
            "\u001b[92mINFO \u001b[0m:      \t              (26, 0.7669270833333334),\n",
            "\u001b[92mINFO \u001b[0m:      \t              (27, 0.7669270833333334),\n",
            "\u001b[92mINFO \u001b[0m:      \t              (28, 0.7669270833333334),\n",
            "\u001b[92mINFO \u001b[0m:      \t              (29, 0.76953125),\n",
            "\u001b[92mINFO \u001b[0m:      \t              (30, 0.7669270833333334)]}\n",
            "\u001b[92mINFO \u001b[0m:      \n"
          ]
        },
        {
          "output_type": "stream",
          "name": "stdout",
          "text": [
            "\u001b[36m(ClientAppActor pid=13401)\u001b[0m [Client 8, round 30] fit, config: {'server_round': 30, 'local_epochs': 5}\u001b[32m [repeated 20x across cluster]\u001b[0m\n",
            "\u001b[36m(ClientAppActor pid=13401)\u001b[0m [Client 8] evaluate, config: {}\u001b[32m [repeated 20x across cluster]\u001b[0m\n"
          ]
        },
        {
          "output_type": "stream",
          "name": "stderr",
          "text": [
            "\u001b[36m(pid=13400)\u001b[0m 2024-11-20 12:12:45.271458: E external/local_xla/xla/stream_executor/cuda/cuda_fft.cc:485] Unable to register cuFFT factory: Attempting to register factory for plugin cuFFT when one has already been registered\n",
            "\u001b[36m(pid=13400)\u001b[0m 2024-11-20 12:12:45.317313: E external/local_xla/xla/stream_executor/cuda/cuda_dnn.cc:8454] Unable to register cuDNN factory: Attempting to register factory for plugin cuDNN when one has already been registered\n",
            "\u001b[36m(pid=13400)\u001b[0m 2024-11-20 12:12:45.330950: E external/local_xla/xla/stream_executor/cuda/cuda_blas.cc:1452] Unable to register cuBLAS factory: Attempting to register factory for plugin cuBLAS when one has already been registered\n",
            "\u001b[36m(pid=13400)\u001b[0m 2024-11-20 12:12:48.603384: W tensorflow/compiler/tf2tensorrt/utils/py_utils.cc:38] TF-TRT Warning: Could not find TensorRT\n"
          ]
        }
      ]
    },
    {
      "cell_type": "markdown",
      "source": [
        "## Metrics"
      ],
      "metadata": {
        "id": "32Eu7SSURlgC"
      }
    },
    {
      "cell_type": "code",
      "source": [
        "Agregation_history"
      ],
      "metadata": {
        "colab": {
          "base_uri": "https://localhost:8080/"
        },
        "id": "1-j5_eQFDq25",
        "outputId": "bf92d782-fa0e-4acb-da6b-6a0a49d082b4"
      },
      "execution_count": 126,
      "outputs": [
        {
          "output_type": "stream",
          "name": "stderr",
          "text": [
            "/usr/local/lib/python3.10/dist-packages/ipykernel/ipkernel.py:283: DeprecationWarning: `should_run_async` will not call `transform_cell` automatically in the future. Please pass the result to `transformed_cell` argument and any exception that happen during thetransform in `preprocessing_exc_tuple` in IPython 7.17 and above.\n",
            "  and should_run_async(code)\n"
          ]
        },
        {
          "output_type": "execute_result",
          "data": {
            "text/plain": [
              "[{'loss': 0.0, 'accuracy': 0.6636029411764706},\n",
              " {'loss': 0.0, 'accuracy': 0.7011029411764705},\n",
              " {'loss': 0.0, 'accuracy': 0.7202205882352941},\n",
              " {'loss': 0.0, 'accuracy': 0.7202205882352941},\n",
              " {'loss': 0.0, 'accuracy': 0.7264705882352941},\n",
              " {'loss': 0.0, 'accuracy': 0.7139705882352941},\n",
              " {'loss': 0.0, 'accuracy': 0.7202205882352941},\n",
              " {'loss': 0.0, 'accuracy': 0.7202205882352941},\n",
              " {'loss': 0.0, 'accuracy': 0.7264705882352941},\n",
              " {'loss': 0.0, 'accuracy': 0.7327205882352941},\n",
              " {'loss': 0.0, 'accuracy': 0.7514705882352941},\n",
              " {'loss': 0.0, 'accuracy': 0.7577205882352941},\n",
              " {'loss': 0.0, 'accuracy': 0.7577205882352941},\n",
              " {'loss': 0.0, 'accuracy': 0.7577205882352941},\n",
              " {'loss': 0.0, 'accuracy': 0.7577205882352941},\n",
              " {'loss': 0.0, 'accuracy': 0.7577205882352941},\n",
              " {'loss': 0.0, 'accuracy': 0.7514705882352941},\n",
              " {'loss': 0.0, 'accuracy': 0.7573529411764706},\n",
              " {'loss': 0.0, 'accuracy': 0.7636029411764705},\n",
              " {'loss': 0.0, 'accuracy': 0.7636029411764705},\n",
              " {'loss': 0.0, 'accuracy': 0.7636029411764705},\n",
              " {'loss': 0.0, 'accuracy': 0.7636029411764705},\n",
              " {'loss': 0.0, 'accuracy': 0.7636029411764705},\n",
              " {'loss': 0.0, 'accuracy': 0.7639705882352941},\n",
              " {'loss': 0.0, 'accuracy': 0.7577205882352941},\n",
              " {'loss': 0.0, 'accuracy': 0.7639705882352941},\n",
              " {'loss': 0.0, 'accuracy': 0.7577205882352941},\n",
              " {'loss': 0.0, 'accuracy': 0.7577205882352941},\n",
              " {'loss': 0.0, 'accuracy': 0.7639705882352941},\n",
              " {'loss': 0.0, 'accuracy': 0.7639705882352941}]"
            ]
          },
          "metadata": {},
          "execution_count": 126
        }
      ]
    },
    {
      "cell_type": "code",
      "source": [
        "evaluation_history"
      ],
      "metadata": {
        "colab": {
          "base_uri": "https://localhost:8080/"
        },
        "id": "Jtz2MZwX5WdT",
        "outputId": "ccb3dc58-a0e8-4696-e1db-789329c94863"
      },
      "execution_count": 127,
      "outputs": [
        {
          "output_type": "execute_result",
          "data": {
            "text/plain": [
              "[{'round': 0, 'loss': 0.022276054524506133, 'accuracy': 0.38671875},\n",
              " {'round': 1, 'loss': 0.020722786352659266, 'accuracy': 0.6627604166666666},\n",
              " {'round': 2, 'loss': 0.019533563405275345, 'accuracy': 0.7005208333333334},\n",
              " {'round': 3, 'loss': 0.018617147967840236, 'accuracy': 0.7239583333333334},\n",
              " {'round': 4, 'loss': 0.017861079424619675, 'accuracy': 0.7330729166666666},\n",
              " {'round': 5, 'loss': 0.01724552906428774, 'accuracy': 0.73828125},\n",
              " {'round': 6, 'loss': 0.01678452097500364, 'accuracy': 0.7317708333333334},\n",
              " {'round': 7, 'loss': 0.01634635093311469, 'accuracy': 0.734375},\n",
              " {'round': 8, 'loss': 0.016029453099084396, 'accuracy': 0.7421875},\n",
              " {'round': 9, 'loss': 0.015763529964412253, 'accuracy': 0.74609375},\n",
              " {'round': 10, 'loss': 0.01555931354717662, 'accuracy': 0.7447916666666666},\n",
              " {'round': 11, 'loss': 0.015417928652216991, 'accuracy': 0.7513020833333334},\n",
              " {'round': 12, 'loss': 0.015268870474149784, 'accuracy': 0.7565104166666666},\n",
              " {'round': 13, 'loss': 0.015148841814758876, 'accuracy': 0.7578125},\n",
              " {'round': 14, 'loss': 0.015052487996096412, 'accuracy': 0.7565104166666666},\n",
              " {'round': 15, 'loss': 0.015009659575298429, 'accuracy': 0.7604166666666666},\n",
              " {'round': 16, 'loss': 0.014983369774806002, 'accuracy': 0.7630208333333334},\n",
              " {'round': 17, 'loss': 0.014939274988137186, 'accuracy': 0.7669270833333334},\n",
              " {'round': 18, 'loss': 0.014874486873547236, 'accuracy': 0.765625},\n",
              " {'round': 19, 'loss': 0.014850241248495877, 'accuracy': 0.7669270833333334},\n",
              " {'round': 20, 'loss': 0.014811266291265687, 'accuracy': 0.7682291666666666},\n",
              " {'round': 21, 'loss': 0.014784030926724276, 'accuracy': 0.765625},\n",
              " {'round': 22, 'loss': 0.014751634793356061, 'accuracy': 0.7643229166666666},\n",
              " {'round': 23, 'loss': 0.014732192076432208, 'accuracy': 0.765625},\n",
              " {'round': 24, 'loss': 0.014713957828159133, 'accuracy': 0.765625},\n",
              " {'round': 25, 'loss': 0.014691585946517685, 'accuracy': 0.7630208333333334},\n",
              " {'round': 26, 'loss': 0.014677544978136817, 'accuracy': 0.7669270833333334},\n",
              " {'round': 27, 'loss': 0.01464737947875013, 'accuracy': 0.7669270833333334},\n",
              " {'round': 28, 'loss': 0.014627510371307531, 'accuracy': 0.7669270833333334},\n",
              " {'round': 29, 'loss': 0.014624706702306867, 'accuracy': 0.76953125},\n",
              " {'round': 30, 'loss': 0.01460625413650026, 'accuracy': 0.7669270833333334}]"
            ]
          },
          "metadata": {},
          "execution_count": 127
        }
      ]
    },
    {
      "cell_type": "code",
      "source": [
        "accuracy_values = [d['accuracy'] for d in Agregation_history]\n",
        "plt.plot(accuracy_values)\n",
        "plt.show()"
      ],
      "metadata": {
        "colab": {
          "base_uri": "https://localhost:8080/",
          "height": 430
        },
        "collapsed": true,
        "id": "05FnkZl4EXWd",
        "outputId": "d2d747b6-13b8-46d9-ea04-4aed92f0907b"
      },
      "execution_count": 128,
      "outputs": [
        {
          "output_type": "display_data",
          "data": {
            "text/plain": [
              "<Figure size 640x480 with 1 Axes>"
            ],
            "image/png": "[encoded data removed]"
          },
          "metadata": {}
        }
      ]
    },
    {
      "cell_type": "code",
      "source": [
        "rounds = [entry[\"round\"] for entry in evaluation_history]\n",
        "loss = [entry[\"loss\"] for entry in evaluation_history]\n",
        "accuracy = [entry[\"accuracy\"] for entry in evaluation_history]\n",
        "\n",
        "fig, ax1 = plt.subplots()\n",
        "\n",
        "# Plot loss on the first y-axis\n",
        "ax1.set_xlabel(\"Round\")\n",
        "ax1.set_ylabel(\"Loss\", color=\"tab:red\")\n",
        "ax1.plot(rounds, loss, color=\"tab:red\", label=\"Loss\")\n",
        "ax1.tick_params(axis=\"y\", labelcolor=\"tab:red\")\n",
        "\n",
        "# Create a second y-axis for accuracy\n",
        "ax2 = ax1.twinx()\n",
        "ax2.set_ylabel(\"Accuracy\", color=\"tab:blue\")\n",
        "ax2.plot(rounds, accuracy, color=\"tab:blue\", label=\"Accuracy\")\n",
        "ax2.tick_params(axis=\"y\", labelcolor=\"tab:blue\")\n",
        "\n",
        "# Title and legend\n",
        "fig.suptitle(\"Loss and Accuracy over Training Rounds\")\n",
        "ax1.legend(loc=\"upper left\")\n",
        "ax2.legend(loc=\"upper right\")\n",
        "\n",
        "# Show the plot\n",
        "plt.show()\n"
      ],
      "metadata": {
        "colab": {
          "base_uri": "https://localhost:8080/",
          "height": 497
        },
        "id": "Nceh6n9N5ovV",
        "outputId": "1f5ac758-f676-4d5f-fb93-1e04fb83eda1",
        "collapsed": true
      },
      "execution_count": 129,
      "outputs": [
        {
          "output_type": "display_data",
          "data": {
            "text/plain": [
              "<Figure size 640x480 with 2 Axes>"
            ],
            "image/png": "[encoded data removed]"
          },
          "metadata": {}
        }
      ]
    }
  ],
  "metadata": {
    "colab": {
      "collapsed_sections": [
        "nm_KsFraeQNa",
        "bWjz0Nerendb"
      ],
      "provenance": [],
      "toc_visible": true,
      "authorship_tag": "ABX9TyP8b85LSNI7CSWe+ZrcTp6X",
      "include_colab_link": true
    },
    "kernelspec": {
      "display_name": "Python 3",
      "name": "python3"
    },
    "language_info": {
      "name": "python"
    }
  },
  "nbformat": 4,
  "nbformat_minor": 0
}