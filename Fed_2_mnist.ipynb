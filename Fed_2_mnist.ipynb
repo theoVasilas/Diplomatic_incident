{
  "nbformat": 4,
  "nbformat_minor": 0,
  "metadata": {
    "colab": {
      "provenance": [],
      "toc_visible": true,
      "authorship_tag": "ABX9TyObqJNL4PUpqCHrijVf4G5j",
      "include_colab_link": true
    },
    "kernelspec": {
      "name": "python3",
      "display_name": "Python 3"
    },
    "language_info": {
      "name": "python"
    }
  },
  "cells": [
    {
      "cell_type": "markdown",
      "metadata": {
        "id": "view-in-github",
        "colab_type": "text"
      },
      "source": [
        "<a href=\"https://colab.research.google.com/github/theoVasilas/Diplomatic_incident/blob/simulation/Fed_2_mnist.ipynb\" target=\"_parent\"><img src=\"https://colab.research.google.com/assets/colab-badge.svg\" alt=\"Open In Colab\"/></a>"
      ]
    },
    {
      "cell_type": "markdown",
      "source": [
        "# Installations"
      ],
      "metadata": {
        "id": "nm_KsFraeQNa"
      }
    },
    {
      "cell_type": "code",
      "execution_count": null,
      "metadata": {
        "id": "WbXGZcJBcrVT"
      },
      "outputs": [],
      "source": [
        "!pip install -q flwr[simulation] flwr-datasets[vision] torch torchvision"
      ]
    },
    {
      "cell_type": "code",
      "source": [
        "from collections import OrderedDict\n",
        "from typing import Dict, List, Optional, Tuple\n",
        "\n",
        "import numpy as np\n",
        "import torch\n",
        "import torch.nn as nn\n",
        "import torch.nn.functional as F\n",
        "import torchvision.transforms as transforms\n",
        "from torch.utils.data import DataLoader\n",
        "\n",
        "import flwr\n",
        "from flwr.client import Client, ClientApp, NumPyClient\n",
        "from flwr.server import ServerApp, ServerConfig, ServerAppComponents\n",
        "from flwr.server.strategy import FedAvg, FedAdagrad\n",
        "from flwr.simulation import run_simulation\n",
        "from flwr_datasets import FederatedDataset\n",
        "from flwr.common import ndarrays_to_parameters, NDArrays, Scalar, Context\n",
        "\n",
        "DEVICE = torch.device(\"cpu\")  # Try \"cuda\" to train on GPU\n",
        "print(f\"Training on {DEVICE}\")\n",
        "print(f\"Flower {flwr.__version__} / PyTorch {torch.__version__}\")"
      ],
      "metadata": {
        "colab": {
          "base_uri": "https://localhost:8080/"
        },
        "id": "81QRVoGVe1iY",
        "outputId": "295b9eee-8d55-4178-bf81-2592328e0552"
      },
      "execution_count": null,
      "outputs": [
        {
          "output_type": "stream",
          "name": "stdout",
          "text": [
            "Training on cpu\n",
            "Flower 1.12.0 / PyTorch 2.5.0+cu121\n"
          ]
        }
      ]
    },
    {
      "cell_type": "code",
      "source": [
        "!pip install matplotlib"
      ],
      "metadata": {
        "colab": {
          "base_uri": "https://localhost:8080/"
        },
        "collapsed": true,
        "id": "G90OvWHyipUa",
        "outputId": "837df8e3-c726-4ca6-99d1-9aa141ce62a1"
      },
      "execution_count": null,
      "outputs": [
        {
          "output_type": "stream",
          "name": "stdout",
          "text": [
            "Requirement already satisfied: matplotlib in /usr/local/lib/python3.10/dist-packages (3.8.0)\n",
            "Requirement already satisfied: contourpy>=1.0.1 in /usr/local/lib/python3.10/dist-packages (from matplotlib) (1.3.0)\n",
            "Requirement already satisfied: cycler>=0.10 in /usr/local/lib/python3.10/dist-packages (from matplotlib) (0.12.1)\n",
            "Requirement already satisfied: fonttools>=4.22.0 in /usr/local/lib/python3.10/dist-packages (from matplotlib) (4.54.1)\n",
            "Requirement already satisfied: kiwisolver>=1.0.1 in /usr/local/lib/python3.10/dist-packages (from matplotlib) (1.4.7)\n",
            "Requirement already satisfied: numpy<2,>=1.21 in /usr/local/lib/python3.10/dist-packages (from matplotlib) (1.26.4)\n",
            "Requirement already satisfied: packaging>=20.0 in /usr/local/lib/python3.10/dist-packages (from matplotlib) (24.1)\n",
            "Requirement already satisfied: pillow>=6.2.0 in /usr/local/lib/python3.10/dist-packages (from matplotlib) (10.4.0)\n",
            "Requirement already satisfied: pyparsing>=2.3.1 in /usr/local/lib/python3.10/dist-packages (from matplotlib) (3.2.0)\n",
            "Requirement already satisfied: python-dateutil>=2.7 in /usr/local/lib/python3.10/dist-packages (from matplotlib) (2.8.2)\n",
            "Requirement already satisfied: six>=1.5 in /usr/local/lib/python3.10/dist-packages (from python-dateutil>=2.7->matplotlib) (1.16.0)\n"
          ]
        }
      ]
    },
    {
      "cell_type": "markdown",
      "source": [
        "# Dataloader\n"
      ],
      "metadata": {
        "id": "C8jpPOMUeesL"
      }
    },
    {
      "cell_type": "code",
      "source": [
        "import torch\n",
        "from torch.utils.data import DataLoader\n",
        "from torchvision import transforms\n",
        "from flwr_datasets import FederatedDataset\n",
        "from flwr_datasets.partitioner import IidPartitioner\n",
        "\n",
        "NUM_PARTITIONS = 10\n",
        "BATCH_SIZE = 32\n",
        "\n",
        "def load_datasets(partition_id: int, num_partitions: int):\n",
        "    # Initialize the FederatedDataset with partitioning scheme\n",
        "    fds = FederatedDataset(\n",
        "        dataset=\"mnist\",\n",
        "        partitioners={\"train\": IidPartitioner(num_partitions=num_partitions)}\n",
        "    )\n",
        "\n",
        "    # Define transforms\n",
        "    pytorch_transforms = transforms.Compose([\n",
        "        transforms.ToTensor(),\n",
        "        transforms.Normalize((0.1307,), (0.3081,))\n",
        "    ])\n",
        "\n",
        "    def apply_transforms(batch):\n",
        "        batch[\"image\"] = [pytorch_transforms(img) for img in batch[\"image\"]]\n",
        "        return batch\n",
        "\n",
        "    # Load and partition the dataset\n",
        "    partition = fds.load_partition(partition_id)\n",
        "    partition_train_test = partition.train_test_split(test_size=0.2, seed=42)\n",
        "    partition_train_test = partition_train_test.with_transform(apply_transforms)\n",
        "\n",
        "    # Create DataLoaders\n",
        "    trainloader = DataLoader(partition_train_test[\"train\"], batch_size=BATCH_SIZE, shuffle=True)\n",
        "    valloader = DataLoader(partition_train_test[\"test\"], batch_size=BATCH_SIZE)\n",
        "\n",
        "    # Load the test set split (not partitioned)\n",
        "    testset = fds.load_split(\"test\").with_transform(apply_transforms)\n",
        "    testloader = DataLoader(testset, batch_size=BATCH_SIZE)\n",
        "\n",
        "    return trainloader, valloader, testloader\n"
      ],
      "metadata": {
        "collapsed": true,
        "id": "IegZUniri1tS"
      },
      "execution_count": null,
      "outputs": []
    },
    {
      "cell_type": "markdown",
      "source": [
        "Histogram of the dataset\n"
      ],
      "metadata": {
        "id": "AosnHQ_ojGd7"
      }
    },
    {
      "cell_type": "code",
      "source": [
        "import matplotlib.pyplot as plt\n",
        "from collections import Counter\n",
        "from datasets import load_dataset\n",
        "\n",
        "# Download dataset\n",
        "mnist = load_dataset(\"ylecun/mnist\")\n",
        "\n",
        "# construct histogram\n",
        "all_labels = mnist[\"train\"][\"label\"]\n",
        "all_label_counts = Counter(all_labels)\n",
        "\n",
        "# visualise histogram\n",
        "bar = plt.bar(all_label_counts.keys(), all_label_counts.values())\n",
        "_ = plt.bar_label(bar)\n",
        "\n",
        "# plot formatting\n",
        "_ = plt.xticks([label for label in all_label_counts.keys()])"
      ],
      "metadata": {
        "colab": {
          "base_uri": "https://localhost:8080/",
          "height": 431
        },
        "id": "X44-OYzFi__q",
        "outputId": "49db639d-6997-47e5-f58c-86918a31974a"
      },
      "execution_count": null,
      "outputs": [
        {
          "output_type": "display_data",
          "data": {
            "text/plain": [
              "<Figure size 640x480 with 1 Axes>"
            ],
            "image/png": "[encoded data removed]"
          },
          "metadata": {}
        }
      ]
    },
    {
      "cell_type": "markdown",
      "source": [
        "# Model"
      ],
      "metadata": {
        "id": "BrJWWa_JjUTk"
      }
    },
    {
      "cell_type": "code",
      "source": [
        "import torch.nn as nn\n",
        "import torch.nn.functional as F\n",
        "\n",
        "\n",
        "class Net(nn.Module):\n",
        "    def __init__(self, num_classes: int) -> None:\n",
        "        super(Net, self).__init__()\n",
        "        self.conv1 = nn.Conv2d(1, 6, 5)\n",
        "        self.pool = nn.MaxPool2d(2, 2)\n",
        "        self.conv2 = nn.Conv2d(6, 16, 5)\n",
        "        self.fc1 = nn.Linear(16 * 4 * 4, 120)\n",
        "        self.fc2 = nn.Linear(120, 84)\n",
        "        self.fc3 = nn.Linear(84, num_classes)\n",
        "\n",
        "    def forward(self, x: torch.Tensor) -> torch.Tensor:\n",
        "        x = self.pool(F.relu(self.conv1(x)))\n",
        "        x = self.pool(F.relu(self.conv2(x)))\n",
        "        x = x.view(-1, 16 * 4 * 4)\n",
        "        x = F.relu(self.fc1(x))\n",
        "        x = F.relu(self.fc2(x))\n",
        "        x = self.fc3(x)\n",
        "        return x"
      ],
      "metadata": {
        "id": "zo5PCprRixcB"
      },
      "execution_count": null,
      "outputs": []
    },
    {
      "cell_type": "code",
      "source": [
        "model = Net(num_classes=10)\n",
        "num_parameters = sum(value.numel() for value in model.state_dict().values())\n",
        "print(f\"{num_parameters = }\")"
      ],
      "metadata": {
        "colab": {
          "base_uri": "https://localhost:8080/"
        },
        "id": "hBSI1-6bka1b",
        "outputId": "373f9873-4aa7-4e58-a449-331c6d25603d"
      },
      "execution_count": null,
      "outputs": [
        {
          "output_type": "stream",
          "name": "stdout",
          "text": [
            "num_parameters = 44426\n"
          ]
        }
      ]
    },
    {
      "cell_type": "markdown",
      "source": [
        "# train test Func\n"
      ],
      "metadata": {
        "id": "bWjz0Nerendb"
      }
    },
    {
      "cell_type": "code",
      "source": [
        "def train(net, trainloader, optimizer, epochs):\n",
        "    \"\"\"Train the network on the training set.\"\"\"\n",
        "    criterion = torch.nn.CrossEntropyLoss()\n",
        "    net.train()\n",
        "    for batch in trainloader:\n",
        "        images, labels = batch[\"image\"], batch[\"label\"]\n",
        "        optimizer.zero_grad()\n",
        "        loss = criterion(net(images), labels)\n",
        "        loss.backward()\n",
        "        optimizer.step()\n",
        "\n",
        "\n",
        "def test(net, testloader):\n",
        "    \"\"\"Validate the network on the entire test set.\"\"\"\n",
        "    criterion = torch.nn.CrossEntropyLoss()\n",
        "    correct, loss = 0, 0.0\n",
        "    net.eval()\n",
        "    with torch.no_grad():\n",
        "        for batch in testloader:\n",
        "            images, labels = batch[\"image\"], batch[\"label\"]\n",
        "            outputs = net(images)\n",
        "            loss += criterion(outputs, labels).item()\n",
        "            _, predicted = torch.max(outputs.data, 1)\n",
        "            correct += (predicted == labels).sum().item()\n",
        "    accuracy = correct / len(testloader.dataset)\n",
        "    return loss, accuracy"
      ],
      "metadata": {
        "id": "acU_vF0fkmrk"
      },
      "execution_count": null,
      "outputs": []
    },
    {
      "cell_type": "markdown",
      "source": [
        "# centralised"
      ],
      "metadata": {
        "id": "957pzoxDewHM"
      }
    },
    {
      "cell_type": "code",
      "source": [
        "def run_centralised(\n",
        "    trainloader,\n",
        "    testloader,\n",
        "    epochs: int,\n",
        "    lr: float,\n",
        "    momentum: float = 0.9\n",
        "):\n",
        "\n",
        "    # instantiate the model\n",
        "    model = Net(num_classes=10)\n",
        "\n",
        "    # define optimiser with hyperparameters supplied\n",
        "    optim = torch.optim.SGD(model.parameters(), lr=lr, momentum=momentum)\n",
        "\n",
        "    # train for the specified number of epochs\n",
        "    for e in range(epochs):\n",
        "        print(f\"Training epoch {e} ...\")\n",
        "        train(model, trainloader, optim, epochs)\n",
        "\n",
        "    # training is completed, then evaluate model on the test set\n",
        "    loss, accuracy = test(model, testloader)\n",
        "    print(f\"{loss = }\")\n",
        "    print(f\"{accuracy = }\")"
      ],
      "metadata": {
        "id": "DI1gU4AzcnVI"
      },
      "execution_count": null,
      "outputs": []
    },
    {
      "cell_type": "code",
      "source": [
        "# Construct dataloaders\n",
        "trainloader, _, testloader = load_datasets(partition_id=0, num_partitions=1)\n",
        "\n",
        "# Run the centralised training\n",
        "run_centralised(trainloader, testloader, epochs=5, lr=0.01)"
      ],
      "metadata": {
        "id": "FHUITDUzpy8d",
        "colab": {
          "base_uri": "https://localhost:8080/"
        },
        "outputId": "4cc82d3d-f7bb-41f9-a3ba-cd37ad2470b4"
      },
      "execution_count": null,
      "outputs": [
        {
          "output_type": "stream",
          "name": "stdout",
          "text": [
            "Training epoch 0 ...\n",
            "Training epoch 1 ...\n",
            "Training epoch 2 ...\n",
            "Training epoch 3 ...\n",
            "Training epoch 4 ...\n",
            "loss = 12.655296282486233\n",
            "accuracy = 0.9873\n"
          ]
        }
      ]
    },
    {
      "cell_type": "markdown",
      "source": [
        "# Clients partitions\n"
      ],
      "metadata": {
        "id": "o-k8ZdyrxH7D"
      }
    },
    {
      "cell_type": "code",
      "source": [
        "from flwr_datasets import FederatedDataset\n",
        "from flwr_datasets.partitioner import IidPartitioner\n",
        "\n",
        "NUM_PARTITIONS = 100\n",
        "\n",
        "partitioner = IidPartitioner(num_partitions=NUM_PARTITIONS)\n",
        "\n",
        "fds = FederatedDataset(dataset=\"ylecun/mnist\", partitioners={\"train\": partitioner})"
      ],
      "metadata": {
        "id": "zL6Qb_LXxLd7"
      },
      "execution_count": null,
      "outputs": []
    },
    {
      "cell_type": "markdown",
      "source": [
        "## homogenus distribution"
      ],
      "metadata": {
        "id": "-xTUj8cKxV60"
      }
    },
    {
      "cell_type": "code",
      "source": [
        "from flwr_datasets.visualization import plot_label_distributions\n",
        "\n",
        "partition_0 = fds.load_partition(0)\n",
        "\n",
        "fig, ax, df = plot_label_distributions(\n",
        "    partitioner,\n",
        "    label_name=\"label\",\n",
        "    plot_type=\"bar\",\n",
        "    size_unit=\"absolute\",\n",
        "    partition_id_axis=\"x\",\n",
        "    legend=True,\n",
        "    verbose_labels=True,\n",
        "    max_num_partitions=30,  # Note we are only showing the first 30 so the plot remains readable\n",
        "    title=\"Per Partition Labels Distribution\",\n",
        ")"
      ],
      "metadata": {
        "id": "tnHa0UJBxU1U",
        "collapsed": true
      },
      "execution_count": null,
      "outputs": []
    },
    {
      "cell_type": "markdown",
      "source": [
        "# Flwr client\n"
      ],
      "metadata": {
        "id": "3UzEPJxtfMJW"
      }
    },
    {
      "cell_type": "markdown",
      "source": [
        "## set-get params\n"
      ],
      "metadata": {
        "id": "2cKphyyRfX73"
      }
    },
    {
      "cell_type": "code",
      "source": [
        "# Two auxhiliary functions to set and extract parameters of a model\n",
        "def set_parameters(net, parameters: List[np.ndarray]):\n",
        "    params_dict = zip(net.state_dict().keys(), parameters)\n",
        "    state_dict = OrderedDict({k: torch.Tensor(v) for k, v in params_dict})\n",
        "    # now replace the parameters\n",
        "    net.load_state_dict(state_dict, strict=True)\n",
        "\n",
        "\n",
        "def get_parameters(net) -> List[np.ndarray]:\n",
        "    \"\"\"Extract model parameters as a list of NumPy arrays.\"\"\"\n",
        "    return [val.cpu().numpy() for _, val in model.state_dict().items()]"
      ],
      "metadata": {
        "id": "n8TluyQffXa3"
      },
      "execution_count": null,
      "outputs": []
    },
    {
      "cell_type": "code",
      "source": [
        "from collections import OrderedDict\n",
        "from typing import Dict, Tuple\n",
        "\n",
        "import torch\n",
        "from flwr.common import NDArrays, Scalar\n",
        "from flwr.client import NumPyClient\n",
        "\n",
        "\n",
        "class FlowerClient(NumPyClient):\n",
        "    def __init__(self, partition_id, trainloader, valloader, model):\n",
        "        super().__init__()\n",
        "        self.partition_id = partition_id\n",
        "        self.trainloader = trainloader\n",
        "        self.valloader = valloader\n",
        "        self.model = model\n",
        "\n",
        "    def get_parameters(self, config):\n",
        "        # Read values from config\n",
        "        server_round = config[\"server_round\"]\n",
        "        local_epochs = config[\"local_epochs\"]\n",
        "\n",
        "      #  Return the current local model parameters\n",
        "        print(f\"[Client {self.partition_id}] get_parameters\")\n",
        "        return get_parameters(self.net)\n",
        "\n",
        "    def fit(self, parameters, config):\n",
        "        # Receive parameters sent by the server into client's local model\n",
        "        print(f\"[Client {self.partition_id}] fit, config: {config}\")\n",
        "        set_params(self.model, parameters)\n",
        "\n",
        "        # # Define the optimizer\n",
        "        # optim = torch.optim.SGD(self.model.parameters(), lr=0.01, momentum=0.9)\n",
        "\n",
        "        # local training\n",
        "        train(self.model, self.trainloader, optim, epochs=1)\n",
        "        # return the model parameters to the server as well as extra info\n",
        "        return get_params(self.model), len(self.trainloader), {}\n",
        "\n",
        "    def evaluate(self, parameters: NDArrays, config: Dict[str, Scalar]):\n",
        "        print(f\"[Client {self.partition_id}] evaluate, config: {config}\")\n",
        "        set_params(self.model, parameters)\n",
        "        # do local evaluation\n",
        "        loss, accuracy = test(self.model, self.valloader)\n",
        "        # send statistics back to the server\n",
        "        return float(loss), len(self.valloader), {\"accuracy\": accuracy}\n",
        "\n",
        "    def fit_config(server_round: int):\n",
        "        \"\"\"Return training configuration dict for each round.\n",
        "\n",
        "        Perform two rounds of training with one local epoch, increase to two local\n",
        "        epochs afterwards.\n",
        "        \"\"\"\n",
        "        config = {\n",
        "            \"server_round\": server_round,  # The current round of federated learning\n",
        "            \"local_epochs\": 1 if server_round < 2 else 2,\n",
        "        }\n",
        "        return config\n"
      ],
      "metadata": {
        "id": "7H-9V-mGyQPK"
      },
      "execution_count": null,
      "outputs": []
    },
    {
      "cell_type": "markdown",
      "source": [
        "## client func"
      ],
      "metadata": {
        "id": "pRjlq9UpaniV"
      }
    },
    {
      "cell_type": "code",
      "source": [
        "from flwr.common import Context\n",
        "from flwr.client import ClientApp\n",
        "\n",
        "\n",
        "def client_fn(context: Context) -> Client:\n",
        "    \"\"\"Returns a FlowerClient containing its data partition.\"\"\"\n",
        "    # Load model\n",
        "    model = Net(num_classes=10).to(DEVICE)\n",
        "\n",
        "    partition_id = int(context.node_config[\"partition-id\"])\n",
        "\n",
        "    ###################################################################################\n",
        "    # the client loads a full data partition\n",
        "    partition = fds.load_partition(partition_id, \"train\")\n",
        "    # partition into train/validation\n",
        "    partition_train_val = partition.train_test_split(test_size=0.1, seed=42)\n",
        "    # PARTITION DATA  each client gets a different trainloader/valloader to each client\n",
        "    trainloader, testloader = get_mnist_dataloaders(partition_train_val, batch_size=32)\n",
        "    ######################################################################################\n",
        "\n",
        "    # FlowerClient is a subclass of NumPyClient, so we need to call .to_client()\n",
        "    return FlowerClient(partition_id, model, trainloader, testloader).to_client()\n"
      ],
      "metadata": {
        "id": "w48j76pjy9cD"
      },
      "execution_count": null,
      "outputs": []
    },
    {
      "cell_type": "code",
      "source": [
        "def client_fn(context: Context) -> Client:\n",
        "\n",
        "    model = Net(num_classes=10).to(DEVICE)\n",
        "\n",
        "    # assigns the partition_id, num_partitions to each client\n",
        "    partition_id = context.node_config[\"partition-id\"]\n",
        "    num_partitions = context.node_config[\"num-partitions\"]\n",
        "\n",
        "    #  pre-splited\n",
        "    trainloader, valloader, _ = load_datasets(partition_id, num_partitions)\n",
        "\n",
        "    return FlowerClient(partition_id, net, trainloader, valloader).to_client()"
      ],
      "metadata": {
        "id": "S56SlHeHcfny"
      },
      "execution_count": null,
      "outputs": []
    },
    {
      "cell_type": "code",
      "source": [
        "# Concstruct the ClientApp\n",
        "client_app = ClientApp(client_fn=client_fn)"
      ],
      "metadata": {
        "id": "mbTu0HXLuX8A"
      },
      "execution_count": null,
      "outputs": []
    },
    {
      "cell_type": "markdown",
      "source": [
        "## Aggregation func\n"
      ],
      "metadata": {
        "id": "ROlMcjFCJ0Ig"
      }
    },
    {
      "cell_type": "code",
      "source": [
        "from typing import List\n",
        "from flwr.common import Metrics\n",
        "\n",
        "\n",
        "# Define metric aggregation function\n",
        "def weighted_average(metrics: List[Tuple[int, Metrics]]) -> Metrics:\n",
        "    # Multiply accuracy of each client by number of examples used\n",
        "    accuracies = [num_examples * m[\"accuracy\"] for num_examples, m in metrics]\n",
        "    examples = [num_examples for num_examples, _ in metrics]\n",
        "\n",
        "    # Aggregate and return custom metric (weighted average)\n",
        "    return {\"accuracy\": sum(accuracies) / sum(examples)}"
      ],
      "metadata": {
        "id": "TOObI2DmJzIo"
      },
      "execution_count": null,
      "outputs": []
    },
    {
      "cell_type": "markdown",
      "source": [
        "## Strategies\n",
        "\n"
      ],
      "metadata": {
        "id": "9fjnJiGIyQgY"
      }
    },
    {
      "cell_type": "code",
      "source": [
        "strategy_1 = FedAvg(\n",
        "    fraction_fit=1.0,  # Sample 100% of available clients for training\n",
        "    fraction_evaluate=0.5,  # Sample 50% of available clients for evaluation\n",
        "    min_fit_clients=10,  # Never sample less than 10 clients for training\n",
        "    min_evaluate_clients=5,  # Never sample less than 5 clients for evaluation\n",
        "    min_available_clients=10,  # Wait until all 10 clients are available\n",
        "    # initial_parameters, # initialised global model\n",
        ")"
      ],
      "metadata": {
        "id": "Io_f5Cs4wXqk"
      },
      "execution_count": null,
      "outputs": []
    },
    {
      "cell_type": "code",
      "source": [
        "strategy_2 = FedAvgCustom(\n",
        "        file_name=\"results_fedavgcustom\",\n",
        "        num_rounds=num_rounds,\n",
        "        fraction_fit=0.1,  # 10% clients sampled each round to do fit()\n",
        "        fraction_evaluate=0.25,  # 25% clients sample each round to do evaluate()\n",
        "        # min_fit_clients=10,\n",
        "        # min_evaluate_clients=5,\n",
        "        # min_available_clients=10, # Wait until all 10 clients are available\n",
        "        evaluate_metrics_aggregation_fn=weighted_average,  # weighted average\n",
        "\n",
        "        initial_parameters=global_model_init,  # initialised global model\n",
        "\n",
        "        evaluate_fn=get_evaluate_fn(testloader),  # gloabl evaluation (here we can pass the same testset as used in centralised)\n",
        "    )"
      ],
      "metadata": {
        "id": "OqiONM_9w5oH"
      },
      "execution_count": null,
      "outputs": []
    },
    {
      "cell_type": "code",
      "source": [
        "strategy_3 = FedAdagrad(\n",
        "        fraction_fit=0.3,\n",
        "        fraction_evaluate=0.3,\n",
        "        min_fit_clients=3,\n",
        "        min_evaluate_clients=3,\n",
        "        min_available_clients=NUM_PARTITIONS,\n",
        "        initial_parameters=ndarrays_to_parameters(params),\n",
        "    )"
      ],
      "metadata": {
        "id": "EwczSjcy4F92"
      },
      "execution_count": null,
      "outputs": []
    },
    {
      "cell_type": "markdown",
      "source": [
        "### Fed Avg Custom"
      ],
      "metadata": {
        "id": "B31ZLfjv13o-"
      }
    },
    {
      "cell_type": "code",
      "source": [
        "from flwr.server.strategy import FedAvg\n",
        "from flwr.common import Parameters\n",
        "import json\n",
        "\n",
        "\n",
        "class FedAvgCustom(FedAvg):\n",
        "    def __init__(self, file_name: str, num_rounds: int, *args, **kwargs):\n",
        "        super().__init__(*args, **kwargs)\n",
        "        self.file_name = file_name\n",
        "        self.num_rounds = num_rounds\n",
        "        self.loss_list = []\n",
        "        self.metrics_list = []\n",
        "\n",
        "    def _make_plot(self):\n",
        "        \"\"\"Makes a plot with the results recorded\"\"\"\n",
        "        round = list(range(1, len(self.loss_list) + 1))\n",
        "        acc = [100.0 * metrics[\"accuracy\"] for metrics in self.metrics_list]\n",
        "        plt.plot(round, acc)\n",
        "        plt.grid()\n",
        "        plt.ylabel(\"Accuracy (%)\")\n",
        "        plt.xlabel(\"Round\")\n",
        "\n",
        "    def evaluate(self, server_round: int, parameters: Parameters):\n",
        "        \"\"\"Evaluate model parameters using an evaluation function.\"\"\"\n",
        "        loss, metrics = super().evaluate(server_round, parameters)\n",
        "        # Record results\n",
        "        self.loss_list.append(loss)\n",
        "        self.metrics_list.append(metrics)\n",
        "        # If last round, save results and make a plot\n",
        "        if server_round == self.num_rounds:\n",
        "            # Save to CSV\n",
        "            with open(f\"{self.file_name}.json\", \"w\") as f:\n",
        "                json.dump({\"loss\": self.loss_list, \"metrics\": self.metrics_list}, f)\n",
        "            # Generate plot\n",
        "            self._make_plot()\n",
        "\n",
        "\n",
        "def get_evaluate_fn(testloader):\n",
        "    \"\"\"Return a function that can be called to do global evaluation.\"\"\"\n",
        "\n",
        "    def evaluate_fn(server_round: int, parameters, config):\n",
        "        \"\"\"Evaluate global model on the whole test set.\"\"\"\n",
        "\n",
        "        model = Net(num_classes=10)\n",
        "\n",
        "        # set parameters to the model\n",
        "        params_dict = zip(model.state_dict().keys(), parameters)\n",
        "        state_dict = OrderedDict({k: torch.Tensor(v) for k, v in params_dict})\n",
        "        model.load_state_dict(state_dict, strict=True)\n",
        "\n",
        "        # call test (evaluate model as in centralised setting)\n",
        "        loss, accuracy = test(model, testloader)\n",
        "        return loss, {\"accuracy\": accuracy}\n",
        "\n",
        "    return evaluate_fn"
      ],
      "metadata": {
        "id": "pRitLk_mZHAk"
      },
      "execution_count": null,
      "outputs": []
    },
    {
      "cell_type": "markdown",
      "source": [
        "# Server side\n"
      ],
      "metadata": {
        "id": "veLCHQizKOwL"
      }
    },
    {
      "cell_type": "code",
      "source": [
        "from flwr.common import ndarrays_to_parameters\n",
        "from flwr.server import ServerApp, ServerConfig, ServerAppComponents\n",
        "from flwr.server.strategy import FedAvg\n",
        "from flwr.server import ServerApp, ServerConfig\n",
        "\n",
        "\n",
        "def server_fn(context: Context):\n",
        "\n",
        "    # instantiate the model\n",
        "    model = Net(num_classes=10)\n",
        "    ndarrays = get_params(model)\n",
        "    # Convert model parameters to flwr.common.Parameters\n",
        "    global_model_init = ndarrays_to_parameters(ndarrays)\n",
        "\n",
        "    # Define the strategy\n",
        "\n",
        "    # Construct ServerConfig\n",
        "    config = ServerConfig()\n",
        "\n",
        "    # Wrap everything into a `ServerAppComponents` object\n",
        "    return ServerAppComponents(strategy=strategy_1, config=config)\n",
        "\n",
        "\n",
        "# Create your ServerApp\n",
        "server_app = ServerApp(server_fn=server_fn)"
      ],
      "metadata": {
        "id": "YCvZvtflKJz6"
      },
      "execution_count": null,
      "outputs": []
    },
    {
      "cell_type": "markdown",
      "source": [
        "# Run\n"
      ],
      "metadata": {
        "id": "wu6GSVlkKXdT"
      }
    },
    {
      "cell_type": "code",
      "source": [
        "# each client will be allocated 2x CPU and 0x GPUs\n",
        "backend_config = {\"client_resources\": None}\n",
        "\n",
        "# each client will be allocated 1x CPU and 0x GPUs\n",
        "# backend_config = {\"client_resources\": {\"num_cpus\": 1, \"num_gpus\": 0.0}}\n",
        "\n",
        "if DEVICE.type == \"cuda\":\n",
        "    backend_config = {\"client_resources\": {\"num_cpus\": 1, \"num_gpus\": 1.0}}\n"
      ],
      "metadata": {
        "id": "ovtCtM2Oxa0V"
      },
      "execution_count": null,
      "outputs": []
    },
    {
      "cell_type": "code",
      "source": [
        "from flwr.simulation import run_simulation\n",
        "\n",
        "num_rounds = 5\n",
        "\n",
        "run_simulation(\n",
        "    server_app=server_app,\n",
        "    num_rounds=num_rounds,\n",
        "    client_app=client_app,\n",
        "    num_supernodes=NUM_CLIENTS,# each group train locally and send their updates to the supernode for aggregation\n",
        "    backend_config=backend_config,\n",
        ")"
      ],
      "metadata": {
        "id": "VVoWwSDzKWmb"
      },
      "execution_count": null,
      "outputs": []
    },
    {
      "cell_type": "markdown",
      "source": [
        "\n",
        "\n",
        "---\n",
        "\n",
        "\n",
        "# Server-side parameter evaluation"
      ],
      "metadata": {
        "id": "xjdz_DSXXr_6"
      }
    },
    {
      "cell_type": "markdown",
      "source": [
        "## Evaluate func on server"
      ],
      "metadata": {
        "id": "HZgTEJLVYhSG"
      }
    },
    {
      "cell_type": "code",
      "source": [
        "# The `evaluate` function will be called by Flower after every round\n",
        "def evaluate(\n",
        "    server_round: int,\n",
        "    parameters: NDArrays,\n",
        "    config: Dict[str, Scalar],\n",
        ") -> Optional[Tuple[float, Dict[str, Scalar]]]:\n",
        "    net = Net().to(DEVICE)\n",
        "    _, _, testloader = load_datasets(0, NUM_PARTITIONS)\n",
        "    set_parameters(net, parameters)  # Update model with the latest parameters\n",
        "    loss, accuracy = test(net, testloader)\n",
        "    print(f\"Server-side evaluation loss {loss} / accuracy {accuracy}\")\n",
        "    return loss, {\"accuracy\": accuracy}"
      ],
      "metadata": {
        "id": "iu0f1jiSXd5Y"
      },
      "execution_count": null,
      "outputs": []
    },
    {
      "cell_type": "markdown",
      "source": [
        "## Strat"
      ],
      "metadata": {
        "id": "t-u3lNbWYrtf"
      }
    },
    {
      "cell_type": "code",
      "source": [
        "strategy = FedAvg(\n",
        "        fraction_fit=0.3,\n",
        "        fraction_evaluate=0.3,\n",
        "        min_fit_clients=3,\n",
        "        min_evaluate_clients=3,\n",
        "        min_available_clients=NUM_PARTITIONS,\n",
        "        initial_parameters=ndarrays_to_parameters(params),\n",
        "        evaluate_fn=evaluate,  # Pass the evaluation function\n",
        "    )"
      ],
      "metadata": {
        "id": "p_GXOMTbYfse"
      },
      "execution_count": null,
      "outputs": []
    },
    {
      "cell_type": "markdown",
      "source": [
        "## Server func"
      ],
      "metadata": {
        "id": "sRJD9BQiYuzQ"
      }
    },
    {
      "cell_type": "code",
      "source": [
        "def server_fn(context: Context):\n",
        "    # Define the strategy\n",
        "\n",
        "    # Construct ServerConfig (num_rounds defined in the run funcion)\n",
        "    config = ServerConfig()\n",
        "\n",
        "    # Wrap everything into a `ServerAppComponents` object\n",
        "    return ServerAppComponents(strategy=strategy, config=config)\n",
        "\n",
        "\n",
        "# Create your ServerApp\n",
        "server_app = ServerApp(server_fn=server_fn)"
      ],
      "metadata": {
        "id": "FlgSDenaX607"
      },
      "execution_count": null,
      "outputs": []
    },
    {
      "cell_type": "markdown",
      "source": [
        "## Run"
      ],
      "metadata": {
        "id": "ilWcdqNCYxWh"
      }
    },
    {
      "cell_type": "code",
      "source": [
        "from flwr.simulation import run_simulation\n",
        "\n",
        "num_rounds = 5\n",
        "\n",
        "run_simulation(\n",
        "    server_app=server,\n",
        "    num_rounds=num_rounds,\n",
        "    client_app=client,\n",
        "    num_supernodes=NUM_PARTITIONS,# each group train locally and send their updates to the supernode for aggregation\n",
        "    backend_config=backend_config,\n",
        ")"
      ],
      "metadata": {
        "id": "iOXOevZNYZTm"
      },
      "execution_count": null,
      "outputs": []
    }
  ]
}