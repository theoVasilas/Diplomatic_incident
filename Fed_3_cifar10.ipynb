{
  "cells": [
    {
      "cell_type": "markdown",
      "metadata": {
        "id": "view-in-github",
        "colab_type": "text"
      },
      "source": [
        "<a href=\"https://colab.research.google.com/github/theoVasilas/Diplomatic_incident/blob/simulation/Fed_3_cifar10.ipynb\" target=\"_parent\"><img src=\"https://colab.research.google.com/assets/colab-badge.svg\" alt=\"Open In Colab\"/></a>"
      ]
    },
    {
      "cell_type": "markdown",
      "metadata": {
        "id": "nm_KsFraeQNa"
      },
      "source": [
        "# Installations"
      ]
    },
    {
      "cell_type": "code",
      "execution_count": 1,
      "metadata": {
        "id": "WbXGZcJBcrVT"
      },
      "outputs": [],
      "source": [
        "!pip install -q flwr[simulation] flwr-datasets[vision] torch torchvision"
      ]
    },
    {
      "cell_type": "code",
      "execution_count": 2,
      "metadata": {
        "colab": {
          "base_uri": "https://localhost:8080/"
        },
        "id": "81QRVoGVe1iY",
        "outputId": "1bea4a94-f138-4d16-9f3a-32bf140db181"
      },
      "outputs": [
        {
          "output_type": "stream",
          "name": "stdout",
          "text": [
            "Training on cpu\n",
            "Flower 1.12.0 / PyTorch 2.5.1+cu121\n"
          ]
        }
      ],
      "source": [
        "from collections import OrderedDict, Counter\n",
        "from typing import Dict, List, Optional, Tuple\n",
        "\n",
        "import matplotlib.pyplot as plt\n",
        "import numpy as np\n",
        "import torch\n",
        "import torch.nn as nn\n",
        "import torch.nn.functional as F\n",
        "import torchvision.transforms as transforms\n",
        "from torch.utils.data import DataLoader\n",
        "from datasets import load_dataset, logging\n",
        "from datasets.utils.logging import disable_progress_bar\n",
        "\n",
        "import flwr\n",
        "from flwr.client import Client, ClientApp, NumPyClient\n",
        "from flwr.common import Metrics, Context\n",
        "from flwr.server import ServerApp, ServerConfig, ServerAppComponents\n",
        "from flwr.server.strategy import FedAvg, FedAdagrad\n",
        "from flwr.simulation import run_simulation\n",
        "from flwr_datasets import FederatedDataset\n",
        "from flwr.common import ndarrays_to_parameters, NDArrays, Scalar, Context\n",
        "\n",
        "\n",
        "DEVICE = torch.device(\"cpu\")  # Try \"cuda\" to train on GPU\n",
        "print(f\"Training on {DEVICE}\")\n",
        "print(f\"Flower {flwr.__version__} / PyTorch {torch.__version__}\")\n",
        "disable_progress_bar()"
      ]
    },
    {
      "cell_type": "markdown",
      "metadata": {
        "id": "C8jpPOMUeesL"
      },
      "source": [
        "# Dataloader\n"
      ]
    },
    {
      "cell_type": "code",
      "execution_count": 3,
      "metadata": {
        "id": "3eSppwJ3sLLC",
        "colab": {
          "base_uri": "https://localhost:8080/"
        },
        "outputId": "67837731-f05f-4bd8-ad2b-09e7fde3fcd9"
      },
      "outputs": [
        {
          "output_type": "stream",
          "name": "stderr",
          "text": [
            "/usr/local/lib/python3.10/dist-packages/ipykernel/ipkernel.py:283: DeprecationWarning: `should_run_async` will not call `transform_cell` automatically in the future. Please pass the result to `transformed_cell` argument and any exception that happen during thetransform in `preprocessing_exc_tuple` in IPython 7.17 and above.\n",
            "  and should_run_async(code)\n"
          ]
        }
      ],
      "source": [
        "BATCH_SIZE = 32\n",
        "NUM_CLIENTS = 10"
      ]
    },
    {
      "cell_type": "code",
      "execution_count": 4,
      "metadata": {
        "collapsed": true,
        "id": "IegZUniri1tS"
      },
      "outputs": [],
      "source": [
        "def load_datasets(partition_id: int, num_partitions: int):\n",
        "    fds = FederatedDataset(dataset=\"cifar10\", partitioners={\"train\": num_partitions})\n",
        "\n",
        "    pytorch_transforms = transforms.Compose(\n",
        "        [transforms.ToTensor(), transforms.Normalize((0.5, 0.5, 0.5), (0.5, 0.5, 0.5))]\n",
        "    )\n",
        "    def apply_transforms(batch):\n",
        "        batch[\"img\"] = [pytorch_transforms(img) for img in batch[\"img\"]]\n",
        "        return batch\n",
        "\n",
        "    partition = fds.load_partition(partition_id)\n",
        "    # Divider : 80% train, 20% test\n",
        "    partition_train_test = partition.train_test_split(test_size=0.2, seed=42)\n",
        "    #Apply Tranforms\n",
        "    partition_train_test = partition_train_test.with_transform(apply_transforms)\n",
        "\n",
        "    trainloader = DataLoader(partition_train_test[\"train\"], batch_size=BATCH_SIZE, shuffle=True )\n",
        "    valloader = DataLoader(partition_train_test[\"test\"], batch_size=BATCH_SIZE)\n",
        "\n",
        "    testset = fds.load_split(\"test\").with_transform(apply_transforms)\n",
        "    testloader = DataLoader(testset, batch_size=BATCH_SIZE)\n",
        "\n",
        "    return trainloader, valloader, testloader"
      ]
    },
    {
      "cell_type": "markdown",
      "metadata": {
        "id": "AosnHQ_ojGd7"
      },
      "source": [
        "### Histogram of the dataset\n"
      ]
    },
    {
      "cell_type": "code",
      "execution_count": 5,
      "metadata": {
        "colab": {
          "base_uri": "https://localhost:8080/",
          "height": 0
        },
        "collapsed": true,
        "id": "X44-OYzFi__q",
        "outputId": "ef10a1a4-bba1-40c7-d65e-bc3f796c62fb"
      },
      "outputs": [
        {
          "output_type": "stream",
          "name": "stderr",
          "text": [
            "/usr/local/lib/python3.10/dist-packages/huggingface_hub/utils/_auth.py:94: UserWarning: \n",
            "The secret `HF_TOKEN` does not exist in your Colab secrets.\n",
            "To authenticate with the Hugging Face Hub, create a token in your settings tab (https://huggingface.co/settings/tokens), set it as secret in your Google Colab and restart your session.\n",
            "You will be able to reuse this secret in all of your notebooks.\n",
            "Please note that authentication is recommended but still optional to access public models or datasets.\n",
            "  warnings.warn(\n"
          ]
        },
        {
          "output_type": "display_data",
          "data": {
            "text/plain": [
              "<Figure size 640x480 with 1 Axes>"
            ],
            "image/png": "[encoded data removed]"
          },
          "metadata": {}
        }
      ],
      "source": [
        "# Download the CIFAR-10 dataset\n",
        "logging.set_verbosity_error()  # Suppress logs at the error level and below\n",
        "cifar10 = load_dataset(\"cifar10\")\n",
        "\n",
        "# Construct histogram for training labels\n",
        "all_labels = cifar10[\"train\"][\"label\"]\n",
        "all_label_counts = Counter(all_labels)\n",
        "\n",
        "# Visualize the histogram\n",
        "bar = plt.bar(all_label_counts.keys(), all_label_counts.values())\n",
        "_ = plt.bar_label(bar)\n",
        "\n",
        "# Plot formatting\n",
        "_ = plt.xticks([label for label in all_label_counts.keys()],\n",
        "               labels=[\"airplane\", \"automobile\", \"bird\", \"cat\", \"deer\", \"dog\", \"frog\", \"horse\", \"ship\", \"truck\"],\n",
        "               rotation=45)\n",
        "\n",
        "plt.xlabel(\"Class Label\")\n",
        "plt.ylabel(\"Frequency\")\n",
        "plt.title(\"CIFAR-10 Training Dataset Label Distribution\")\n",
        "plt.show()\n"
      ]
    },
    {
      "cell_type": "markdown",
      "metadata": {
        "id": "BrJWWa_JjUTk"
      },
      "source": [
        "# Model"
      ]
    },
    {
      "cell_type": "code",
      "execution_count": 6,
      "metadata": {
        "id": "zo5PCprRixcB",
        "colab": {
          "base_uri": "https://localhost:8080/"
        },
        "outputId": "7d53f7ec-d779-420a-8d66-a700e0241115"
      },
      "outputs": [
        {
          "output_type": "stream",
          "name": "stderr",
          "text": [
            "/usr/local/lib/python3.10/dist-packages/ipykernel/ipkernel.py:283: DeprecationWarning: `should_run_async` will not call `transform_cell` automatically in the future. Please pass the result to `transformed_cell` argument and any exception that happen during thetransform in `preprocessing_exc_tuple` in IPython 7.17 and above.\n",
            "  and should_run_async(code)\n"
          ]
        }
      ],
      "source": [
        "class Net(nn.Module):\n",
        "    def __init__(self) -> None:\n",
        "        super(Net, self).__init__()\n",
        "        self.conv1 = nn.Conv2d(3, 6, 5)\n",
        "        self.pool = nn.MaxPool2d(2, 2)\n",
        "        self.conv2 = nn.Conv2d(6, 16, 5)\n",
        "        self.fc1 = nn.Linear(16 * 5 * 5, 120)\n",
        "        self.fc2 = nn.Linear(120, 84)\n",
        "        self.fc3 = nn.Linear(84, 10)\n",
        "\n",
        "    def forward(self, x: torch.Tensor) -> torch.Tensor:\n",
        "        x = self.pool(F.relu(self.conv1(x)))\n",
        "        x = self.pool(F.relu(self.conv2(x)))\n",
        "        x = x.view(-1, 16 * 5 * 5)\n",
        "        x = F.relu(self.fc1(x))\n",
        "        x = F.relu(self.fc2(x))\n",
        "        x = self.fc3(x)\n",
        "        return x"
      ]
    },
    {
      "cell_type": "code",
      "execution_count": 7,
      "metadata": {
        "colab": {
          "base_uri": "https://localhost:8080/"
        },
        "id": "hBSI1-6bka1b",
        "outputId": "25521708-bea6-467a-8c6d-acfb646edda3"
      },
      "outputs": [
        {
          "output_type": "stream",
          "name": "stdout",
          "text": [
            "num_parameters = 62006\n"
          ]
        }
      ],
      "source": [
        "net = Net()\n",
        "num_parameters = sum(value.numel() for value in net.state_dict().values())\n",
        "print(f\"{num_parameters = }\")"
      ]
    },
    {
      "cell_type": "markdown",
      "metadata": {
        "id": "bWjz0Nerendb"
      },
      "source": [
        "# train test Func\n"
      ]
    },
    {
      "cell_type": "code",
      "execution_count": 8,
      "metadata": {
        "id": "acU_vF0fkmrk"
      },
      "outputs": [],
      "source": [
        "def train(net, trainloader, optimizer, epochs: int, verbose=False):\n",
        "    \"\"\"Train the network on the training set.\"\"\"\n",
        "    criterion = torch.nn.CrossEntropyLoss()\n",
        "    net.train()\n",
        "    for epoch in range(epochs):\n",
        "        correct, total, epoch_loss = 0, 0, 0.0\n",
        "        for batch in trainloader:\n",
        "            images, labels = batch[\"img\"].to(DEVICE), batch[\"label\"].to(DEVICE)\n",
        "            optimizer.zero_grad()\n",
        "            outputs = net(images)\n",
        "            loss = criterion(outputs, labels)\n",
        "            loss.backward()\n",
        "            optimizer.step()\n",
        "\n",
        "            # Metrics\n",
        "            epoch_loss += loss\n",
        "            total += labels.size(0)\n",
        "            correct += (torch.max(outputs.data, 1)[1] == labels).sum().item()\n",
        "\n",
        "        epoch_loss /= len(trainloader.dataset)\n",
        "        epoch_acc = correct / total\n",
        "        if verbose:\n",
        "            print(f\"Epoch {epoch+1}: train loss {epoch_loss}, accuracy {epoch_acc}\")\n",
        "\n",
        "\n",
        "def test(net, testloader):\n",
        "    \"\"\"Evaluate the network on the entire test set.\"\"\"\n",
        "    criterion = torch.nn.CrossEntropyLoss()\n",
        "    correct, total, loss = 0, 0, 0.0\n",
        "\n",
        "    net.eval()\n",
        "    with torch.no_grad():\n",
        "        for batch in testloader:\n",
        "            images, labels = batch[\"img\"].to(DEVICE), batch[\"label\"].to(DEVICE)\n",
        "            outputs = net(images)\n",
        "\n",
        "            loss += criterion(outputs, labels).item()\n",
        "            _, predicted = torch.max(outputs.data, 1)\n",
        "            total += labels.size(0)\n",
        "            correct += (predicted == labels).sum().item()\n",
        "\n",
        "    loss /= len(testloader.dataset)\n",
        "    accuracy = correct / total\n",
        "    return loss, accuracy"
      ]
    },
    {
      "cell_type": "markdown",
      "metadata": {
        "id": "957pzoxDewHM"
      },
      "source": [
        "# centralised"
      ]
    },
    {
      "cell_type": "code",
      "execution_count": 9,
      "metadata": {
        "id": "DI1gU4AzcnVI"
      },
      "outputs": [],
      "source": [
        "def run_centralised(\n",
        "    trainloader,\n",
        "    valloader,\n",
        "    testloader,\n",
        "    epochs: int,\n",
        "    lr: float,\n",
        "    momentum: float = 0.9\n",
        "):\n",
        "\n",
        "    # instantiate the model\n",
        "    model = Net().to(DEVICE)\n",
        "\n",
        "    # optim = torch.optim.Adam(net.parameters())\n",
        "    optim = torch.optim.SGD(model.parameters(), lr=lr, momentum=momentum)\n",
        "\n",
        "    print(f\"Training for {epochs} epochs...\")\n",
        "    train(model, trainloader, optim, epochs)\n",
        "    loss, accuracy = test(model, valloader)\n",
        "    print(f\"validation loss {loss}, accuracy {accuracy}\")\n",
        "\n",
        "    loss, accuracy = test(model, testloader)\n",
        "    print(f\"{loss = }\")\n",
        "    print(f\"{accuracy = }\")"
      ]
    },
    {
      "cell_type": "code",
      "execution_count": 10,
      "metadata": {
        "collapsed": true,
        "id": "FHUITDUzpy8d"
      },
      "outputs": [],
      "source": [
        "# Construct dataloaders\n",
        "trainloader, valloader, testloader = load_datasets(partition_id=0, num_partitions=1)\n",
        "\n",
        "# Run the centralised training\n",
        "# run_centralised(trainloader, valloader, testloader, epochs=10, lr=0.01)"
      ]
    },
    {
      "cell_type": "markdown",
      "source": [
        "# Federation"
      ],
      "metadata": {
        "id": "TzT9lfBvr3KZ"
      }
    },
    {
      "cell_type": "markdown",
      "metadata": {
        "id": "2cKphyyRfX73"
      },
      "source": [
        "## set-get params\n"
      ]
    },
    {
      "cell_type": "code",
      "execution_count": 11,
      "metadata": {
        "id": "n8TluyQffXa3",
        "colab": {
          "base_uri": "https://localhost:8080/"
        },
        "outputId": "df084e49-cf68-4639-d50f-96d6feb98873"
      },
      "outputs": [
        {
          "output_type": "stream",
          "name": "stderr",
          "text": [
            "/usr/local/lib/python3.10/dist-packages/ipykernel/ipkernel.py:283: DeprecationWarning: `should_run_async` will not call `transform_cell` automatically in the future. Please pass the result to `transformed_cell` argument and any exception that happen during thetransform in `preprocessing_exc_tuple` in IPython 7.17 and above.\n",
            "  and should_run_async(code)\n"
          ]
        }
      ],
      "source": [
        "def set_parameters(net, parameters: List[np.ndarray]):\n",
        "    params_dict = zip(net.state_dict().keys(), parameters)\n",
        "    state_dict = OrderedDict({k: torch.Tensor(v) for k, v in params_dict})\n",
        "    # replace the parameters\n",
        "    net.load_state_dict(state_dict, strict=True)\n",
        "\n",
        "\n",
        "def get_parameters(net) -> List[np.ndarray]:\n",
        "    \"\"\"Extract model parameters as a list of NumPy arrays.\"\"\"\n",
        "    return [val.cpu().numpy() for _, val in net.state_dict().items()]"
      ]
    },
    {
      "cell_type": "markdown",
      "source": [
        "## FlowerClient"
      ],
      "metadata": {
        "id": "ItO_cOnewf93"
      }
    },
    {
      "cell_type": "code",
      "source": [
        "class FlowerClient(NumPyClient):\n",
        "    def __init__(self, pid, net, trainloader, valloader):\n",
        "        self.pid = pid  # partition ID of a client\n",
        "        self.net = net\n",
        "        self.trainloader = trainloader\n",
        "        self.valloader = valloader\n",
        "\n",
        "    def get_parameters(self, config):\n",
        "        print(f\"[Client {self.pid}] get_parameters\")\n",
        "        return get_parameters(self.net)\n",
        "\n",
        "    def fit(self, parameters, config):\n",
        "        # Read values from config\n",
        "        server_round = config[\"server_round\"]\n",
        "        local_epochs = config[\"local_epochs\"]\n",
        "\n",
        "        # Use values provided by the config\n",
        "        print(f\"[Client {self.pid}, round {server_round}] fit, config: {config}\")\n",
        "        set_parameters(self.net, parameters)\n",
        "\n",
        "        optim = torch.optim.SGD(self.net.parameters(), lr=0.01, momentum=0.9)\n",
        "        train(self.net, self.trainloader,optim , epochs=local_epochs)\n",
        "\n",
        "        return get_parameters(self.net), len(self.trainloader), {}\n",
        "\n",
        "    def evaluate(self, parameters, config):\n",
        "\n",
        "        print(f\"[Client {self.pid}] evaluate, config: {config}\")\n",
        "        set_parameters(self.net, parameters)\n",
        "\n",
        "        loss, accuracy = test(self.net, self.valloader)\n",
        "\n",
        "        return float(loss), len(self.valloader), {\"accuracy\": float(accuracy)}\n",
        "\n",
        "\n",
        "def client_fn(context: Context) -> Client:\n",
        "\n",
        "    net = Net().to(DEVICE)\n",
        "\n",
        "    partition_id = context.node_config[\"partition-id\"]\n",
        "    num_partitions = context.node_config[\"num-partitions\"]\n",
        "\n",
        "    trainloader, valloader, _ = load_datasets(partition_id, num_partitions)\n",
        "\n",
        "    # print(f\"FlowerClient is created\")\n",
        "    return FlowerClient(partition_id, net, trainloader, valloader).to_client()\n",
        "\n",
        "\n",
        "# Create the ClientApp\n",
        "client = ClientApp(client_fn=client_fn)"
      ],
      "metadata": {
        "id": "QPIbdYyUwes4"
      },
      "execution_count": 12,
      "outputs": []
    },
    {
      "cell_type": "markdown",
      "source": [
        "## Agregation Function"
      ],
      "metadata": {
        "id": "qspNHaEtwH6d"
      }
    },
    {
      "cell_type": "code",
      "source": [
        "Agregation_history = []\n",
        "\n",
        "def My_weighted_average(metrics: List[Tuple[int, Metrics]]) -> Metrics:\n",
        "\n",
        "    accuracies = [num_examples * m[\"accuracy\"] for num_examples, m in metrics]\n",
        "    losses = [num_examples * m.get(\"loss\", 0.0) for num_examples, m in metrics]\n",
        "    examples = [num_examples for num_examples, _ in metrics]\n",
        "\n",
        "    accuracy = sum(accuracies) / sum(examples)\n",
        "    loss = sum(losses) / sum(examples)\n",
        "\n",
        "    # Save metrics to history\n",
        "    Agregation_history.append({\n",
        "        # \"round\": server_round,\n",
        "        \"loss\": loss,\n",
        "        \"accuracy\": accuracy\n",
        "    })\n",
        "\n",
        "    print(f\"My_weighted_average -{accuracy} {loss} \")\n",
        "\n",
        "    return {\"accuracy\": accuracy, \"loss\": loss}"
      ],
      "metadata": {
        "id": "WqzWwkJoneTK"
      },
      "execution_count": 13,
      "outputs": []
    },
    {
      "cell_type": "markdown",
      "source": [
        "## Server Evaluate metrics aggregation fn"
      ],
      "metadata": {
        "id": "knQUJf_4wxeh"
      }
    },
    {
      "cell_type": "code",
      "source": [
        "evaluation_history = []\n",
        "\n",
        "def My_evaluate(\n",
        "    server_round: int,\n",
        "    parameters: NDArrays,\n",
        "    config: Dict[str, Scalar],\n",
        ") -> Optional[Tuple[float, Dict[str, Scalar]]]:\n",
        "\n",
        "    net = Net().to(DEVICE)\n",
        "\n",
        "    _, _, testloader = load_datasets(0, NUM_CLIENTS)\n",
        "\n",
        "    set_parameters(net, parameters)  # Update model with the latest parameters\n",
        "\n",
        "    loss, accuracy = test(net, testloader)\n",
        "\n",
        "    print(f\"Server-side evaluation loss {loss} / accuracy {accuracy}\")\n",
        "\n",
        "    # Save metrics to history\n",
        "    evaluation_history.append({\n",
        "        \"round\": server_round,\n",
        "        \"loss\": loss,\n",
        "        \"accuracy\": accuracy\n",
        "    })\n",
        "\n",
        "    if accuracy >= 0.98:\n",
        "        print(f\"Target accuracy of { 0.98*100}% achieved. Stopping training.\")\n",
        "        return fl.server.EarlyStopping()\n",
        "\n",
        "    model_filename = f\"federated_model_{server_round}.pth\"\n",
        "    torch.save(net.state_dict(), model_filename)\n",
        "    print(f\"Model saved as {model_filename}\")\n",
        "\n",
        "    return loss, {\"accuracy\": accuracy}\n"
      ],
      "metadata": {
        "id": "7iOysmhM4xkn"
      },
      "execution_count": 14,
      "outputs": []
    },
    {
      "cell_type": "markdown",
      "source": [
        "## Server Fn Strategy"
      ],
      "metadata": {
        "id": "q8a-4OUwuUlj"
      }
    },
    {
      "cell_type": "code",
      "source": [
        "def fit_config(server_round: int):\n",
        "    config = {\n",
        "        \"server_round\": server_round,  # The current round of federated learning\n",
        "        \"local_epochs\": 5 ,\n",
        "    }\n",
        "    return config"
      ],
      "metadata": {
        "id": "ovdO-TbMsmJN"
      },
      "execution_count": 15,
      "outputs": []
    },
    {
      "cell_type": "code",
      "source": [
        "NUM_CLIENTS = 10"
      ],
      "metadata": {
        "id": "0Yik1laByNMB"
      },
      "execution_count": 16,
      "outputs": []
    },
    {
      "cell_type": "code",
      "source": [
        "strategy_3 = FedAdagrad(\n",
        "        fraction_fit= 1,\n",
        "        fraction_evaluate=0.3,\n",
        "        min_fit_clients = 5,\n",
        "        min_evaluate_clients = 3,\n",
        "        min_available_clients = NUM_CLIENTS,\n",
        "        initial_parameters = ndarrays_to_parameters(get_parameters(net)),\n",
        "    )"
      ],
      "metadata": {
        "id": "3geNiPA9xzfG"
      },
      "execution_count": 17,
      "outputs": []
    },
    {
      "cell_type": "code",
      "source": [
        "NUM_ROUNDS = 30"
      ],
      "metadata": {
        "id": "Ql8afg82ugnE"
      },
      "execution_count": 18,
      "outputs": []
    },
    {
      "cell_type": "code",
      "source": [
        "params = get_parameters(Net())"
      ],
      "metadata": {
        "id": "k3DpUzwDrmEo"
      },
      "execution_count": 19,
      "outputs": []
    },
    {
      "cell_type": "code",
      "source": [
        "def server_fn(context: Context) -> ServerAppComponents:\n",
        "    # Create FedAvg strategy\n",
        "    strategy = FedAvg(\n",
        "        fraction_fit  = 1,\n",
        "        fraction_evaluate = 1,\n",
        "        min_fit_clients  =  5,\n",
        "        min_evaluate_clients  = 2,\n",
        "        min_available_clients = NUM_CLIENTS, # use all\n",
        "        evaluate_fn = My_evaluate, # function used for validation dy server\n",
        "        on_fit_config_fn  = fit_config,  # Pass the fit_config function\n",
        "        # on_evaluate_config_fn,\n",
        "        # accept_failures,\n",
        "        initial_parameters  = ndarrays_to_parameters(params),\n",
        "        evaluate_metrics_aggregation_fn =  My_weighted_average,\n",
        "        # inplace,\n",
        "    )\n",
        "\n",
        "    config = ServerConfig(num_rounds = NUM_ROUNDS)\n",
        "\n",
        "    return ServerAppComponents(strategy=strategy, config = config)\n",
        "\n",
        "\n",
        "# Create the ServerApp\n",
        "server = ServerApp(server_fn=server_fn)"
      ],
      "metadata": {
        "id": "qVXUWwcCr_8-"
      },
      "execution_count": 20,
      "outputs": []
    },
    {
      "cell_type": "markdown",
      "source": [
        "## RUN\n"
      ],
      "metadata": {
        "id": "Wuh15neYr-Lu"
      }
    },
    {
      "cell_type": "code",
      "source": [
        "backend_config = {\"client_resources\": {\"num_cpus\": 1, \"num_gpus\": 0.0}}\n",
        "\n",
        "run_simulation(\n",
        "    server_app=server,\n",
        "    client_app=client,\n",
        "    num_supernodes=NUM_CLIENTS,\n",
        "    backend_config=backend_config,\n",
        ")"
      ],
      "metadata": {
        "colab": {
          "base_uri": "https://localhost:8080/"
        },
        "collapsed": true,
        "id": "JkRK4CULr9r9",
        "outputId": "ea87ff48-a0fa-4860-da90-388934ac2fb5"
      },
      "execution_count": 21,
      "outputs": [
        {
          "output_type": "stream",
          "name": "stderr",
          "text": [
            "DEBUG:flwr:Asyncio event loop already running.\n",
            "\u001b[92mINFO \u001b[0m:      Starting Flower ServerApp, config: num_rounds=30, no round_timeout\n",
            "\u001b[92mINFO \u001b[0m:      \n",
            "\u001b[92mINFO \u001b[0m:      [INIT]\n",
            "\u001b[92mINFO \u001b[0m:      Using initial global parameters provided by strategy\n",
            "\u001b[92mINFO \u001b[0m:      Starting evaluation of initial global parameters\n",
            "\u001b[92mINFO \u001b[0m:      initial parameters (loss, other metrics): 0.07213021206855774, {'accuracy': 0.1002}\n",
            "\u001b[92mINFO \u001b[0m:      \n",
            "\u001b[92mINFO \u001b[0m:      [ROUND 1]\n",
            "\u001b[92mINFO \u001b[0m:      configure_fit: strategy sampled 10 clients (out of 10)\n"
          ]
        },
        {
          "output_type": "stream",
          "name": "stdout",
          "text": [
            "Server-side evaluation loss 0.07213021206855774 / accuracy 0.1002\n",
            "Model saved as federated_model_0.pth\n"
          ]
        },
        {
          "output_type": "stream",
          "name": "stderr",
          "text": [
            "\u001b[36m(pid=22752)\u001b[0m 2024-11-17 21:27:26.552691: E external/local_xla/xla/stream_executor/cuda/cuda_fft.cc:485] Unable to register cuFFT factory: Attempting to register factory for plugin cuFFT when one has already been registered\n",
            "\u001b[36m(pid=22752)\u001b[0m 2024-11-17 21:27:26.593559: E external/local_xla/xla/stream_executor/cuda/cuda_dnn.cc:8454] Unable to register cuDNN factory: Attempting to register factory for plugin cuDNN when one has already been registered\n",
            "\u001b[36m(pid=22751)\u001b[0m 2024-11-17 21:27:26.705351: E external/local_xla/xla/stream_executor/cuda/cuda_blas.cc:1452] Unable to register cuBLAS factory: Attempting to register factory for plugin cuBLAS when one has already been registered\n",
            "\u001b[36m(pid=22751)\u001b[0m 2024-11-17 21:27:29.221697: W tensorflow/compiler/tf2tensorrt/utils/py_utils.cc:38] TF-TRT Warning: Could not find TensorRT\n",
            "\u001b[36m(ClientAppActor pid=22751)\u001b[0m /usr/local/lib/python3.10/dist-packages/jupyter_client/connect.py:28: DeprecationWarning: Jupyter is migrating its paths to use standard platformdirs\n",
            "\u001b[36m(ClientAppActor pid=22751)\u001b[0m given by the platformdirs library.  To remove this warning and\n",
            "\u001b[36m(ClientAppActor pid=22751)\u001b[0m see the appropriate new directories, set the environment variable\n",
            "\u001b[36m(ClientAppActor pid=22751)\u001b[0m `JUPYTER_PLATFORM_DIRS=1` and then run `jupyter --paths`.\n",
            "\u001b[36m(ClientAppActor pid=22751)\u001b[0m The use of platformdirs will be the default in `jupyter_core` v6\n",
            "\u001b[36m(ClientAppActor pid=22751)\u001b[0m   from jupyter_core.paths import jupyter_data_dir, jupyter_runtime_dir, secure_write\n",
            "\u001b[36m(pid=22751)\u001b[0m 2024-11-17 21:27:26.632582: E external/local_xla/xla/stream_executor/cuda/cuda_fft.cc:485] Unable to register cuFFT factory: Attempting to register factory for plugin cuFFT when one has already been registered\n",
            "\u001b[36m(pid=22751)\u001b[0m 2024-11-17 21:27:26.688098: E external/local_xla/xla/stream_executor/cuda/cuda_dnn.cc:8454] Unable to register cuDNN factory: Attempting to register factory for plugin cuDNN when one has already been registered\n",
            "\u001b[36m(pid=22752)\u001b[0m 2024-11-17 21:27:26.613296: E external/local_xla/xla/stream_executor/cuda/cuda_blas.cc:1452] Unable to register cuBLAS factory: Attempting to register factory for plugin cuBLAS when one has already been registered\n",
            "\u001b[36m(pid=22752)\u001b[0m 2024-11-17 21:27:29.184711: W tensorflow/compiler/tf2tensorrt/utils/py_utils.cc:38] TF-TRT Warning: Could not find TensorRT\n"
          ]
        },
        {
          "output_type": "stream",
          "name": "stdout",
          "text": [
            "\u001b[36m(ClientAppActor pid=22751)\u001b[0m [Client 2, round 1] fit, config: {'server_round': 1, 'local_epochs': 5}\n",
            "\u001b[36m(ClientAppActor pid=22751)\u001b[0m [Client 3, round 1] fit, config: {'server_round': 1, 'local_epochs': 5}\u001b[32m [repeated 2x across cluster] (Ray deduplicates logs by default. Set RAY_DEDUP_LOGS=0 to disable log deduplication, or see https://docs.ray.io/en/master/ray-observability/ray-logging.html#log-deduplication for more options.)\u001b[0m\n",
            "\u001b[36m(ClientAppActor pid=22751)\u001b[0m [Client 7, round 1] fit, config: {'server_round': 1, 'local_epochs': 5}\u001b[32m [repeated 2x across cluster]\u001b[0m\n",
            "\u001b[36m(ClientAppActor pid=22751)\u001b[0m [Client 5, round 1] fit, config: {'server_round': 1, 'local_epochs': 5}\u001b[32m [repeated 2x across cluster]\u001b[0m\n",
            "\u001b[36m(ClientAppActor pid=22751)\u001b[0m [Client 0, round 1] fit, config: {'server_round': 1, 'local_epochs': 5}\u001b[32m [repeated 2x across cluster]\u001b[0m\n"
          ]
        },
        {
          "output_type": "stream",
          "name": "stderr",
          "text": [
            "\u001b[92mINFO \u001b[0m:      aggregate_fit: received 10 results and 0 failures\n",
            "\u001b[93mWARNING \u001b[0m:   No fit_metrics_aggregation_fn provided\n",
            "\u001b[92mINFO \u001b[0m:      fit progress: (1, 0.04957194167375564, {'accuracy': 0.4259}, 194.08429766399968)\n",
            "\u001b[92mINFO \u001b[0m:      configure_evaluate: strategy sampled 10 clients (out of 10)\n"
          ]
        },
        {
          "output_type": "stream",
          "name": "stdout",
          "text": [
            "Server-side evaluation loss 0.04957194167375564 / accuracy 0.4259\n",
            "Model saved as federated_model_1.pth\n",
            "\u001b[36m(ClientAppActor pid=22752)\u001b[0m [Client 0] evaluate, config: {}\n",
            "\u001b[36m(ClientAppActor pid=22752)\u001b[0m [Client 9, round 1] fit, config: {'server_round': 1, 'local_epochs': 5}\n",
            "\u001b[36m(ClientAppActor pid=22751)\u001b[0m [Client 8] evaluate, config: {}\u001b[32m [repeated 4x across cluster]\u001b[0m\n",
            "\u001b[36m(ClientAppActor pid=22751)\u001b[0m [Client 2] evaluate, config: {}\u001b[32m [repeated 4x across cluster]\u001b[0m\n"
          ]
        },
        {
          "output_type": "stream",
          "name": "stderr",
          "text": [
            "\u001b[92mINFO \u001b[0m:      aggregate_evaluate: received 10 results and 0 failures\n",
            "\u001b[92mINFO \u001b[0m:      \n",
            "\u001b[92mINFO \u001b[0m:      [ROUND 2]\n",
            "\u001b[92mINFO \u001b[0m:      configure_fit: strategy sampled 10 clients (out of 10)\n"
          ]
        },
        {
          "output_type": "stream",
          "name": "stdout",
          "text": [
            "My_weighted_average -0.4234 0.0 \n",
            "\u001b[36m(ClientAppActor pid=22751)\u001b[0m [Client 3, round 2] fit, config: {'server_round': 2, 'local_epochs': 5}\n",
            "\u001b[36m(ClientAppActor pid=22752)\u001b[0m [Client 3] evaluate, config: {}\n",
            "\u001b[36m(ClientAppActor pid=22752)\u001b[0m [Client 6, round 2] fit, config: {'server_round': 2, 'local_epochs': 5}\u001b[32m [repeated 2x across cluster]\u001b[0m\n",
            "\u001b[36m(ClientAppActor pid=22751)\u001b[0m [Client 8, round 2] fit, config: {'server_round': 2, 'local_epochs': 5}\u001b[32m [repeated 2x across cluster]\u001b[0m\n",
            "\u001b[36m(ClientAppActor pid=22751)\u001b[0m [Client 0, round 2] fit, config: {'server_round': 2, 'local_epochs': 5}\u001b[32m [repeated 2x across cluster]\u001b[0m\n",
            "\u001b[36m(ClientAppActor pid=22751)\u001b[0m [Client 5, round 2] fit, config: {'server_round': 2, 'local_epochs': 5}\u001b[32m [repeated 2x across cluster]\u001b[0m\n"
          ]
        },
        {
          "output_type": "stream",
          "name": "stderr",
          "text": [
            "\u001b[92mINFO \u001b[0m:      aggregate_fit: received 10 results and 0 failures\n",
            "\u001b[92mINFO \u001b[0m:      fit progress: (2, 0.04294627478122711, {'accuracy': 0.5021}, 375.6814582520001)\n",
            "\u001b[92mINFO \u001b[0m:      configure_evaluate: strategy sampled 10 clients (out of 10)\n"
          ]
        },
        {
          "output_type": "stream",
          "name": "stdout",
          "text": [
            "Server-side evaluation loss 0.04294627478122711 / accuracy 0.5021\n",
            "Model saved as federated_model_2.pth\n",
            "\u001b[36m(ClientAppActor pid=22752)\u001b[0m [Client 0] evaluate, config: {}\n",
            "\u001b[36m(ClientAppActor pid=22752)\u001b[0m [Client 2, round 2] fit, config: {'server_round': 2, 'local_epochs': 5}\n",
            "\u001b[36m(ClientAppActor pid=22752)\u001b[0m [Client 8] evaluate, config: {}\u001b[32m [repeated 4x across cluster]\u001b[0m\n",
            "\u001b[36m(ClientAppActor pid=22751)\u001b[0m [Client 4] evaluate, config: {}\u001b[32m [repeated 5x across cluster]\u001b[0m\n"
          ]
        },
        {
          "output_type": "stream",
          "name": "stderr",
          "text": [
            "\u001b[92mINFO \u001b[0m:      aggregate_evaluate: received 10 results and 0 failures\n",
            "\u001b[92mINFO \u001b[0m:      \n",
            "\u001b[92mINFO \u001b[0m:      [ROUND 3]\n",
            "\u001b[92mINFO \u001b[0m:      configure_fit: strategy sampled 10 clients (out of 10)\n"
          ]
        },
        {
          "output_type": "stream",
          "name": "stdout",
          "text": [
            "My_weighted_average -0.5015 0.0 \n",
            "\u001b[36m(ClientAppActor pid=22752)\u001b[0m [Client 2, round 3] fit, config: {'server_round': 3, 'local_epochs': 5}\n",
            "\u001b[36m(ClientAppActor pid=22752)\u001b[0m [Client 3, round 3] fit, config: {'server_round': 3, 'local_epochs': 5}\u001b[32m [repeated 2x across cluster]\u001b[0m\n",
            "\u001b[36m(ClientAppActor pid=22751)\u001b[0m [Client 6, round 3] fit, config: {'server_round': 3, 'local_epochs': 5}\u001b[32m [repeated 2x across cluster]\u001b[0m\n",
            "\u001b[36m(ClientAppActor pid=22751)\u001b[0m [Client 4, round 3] fit, config: {'server_round': 3, 'local_epochs': 5}\u001b[32m [repeated 2x across cluster]\u001b[0m\n",
            "\u001b[36m(ClientAppActor pid=22751)\u001b[0m [Client 1, round 3] fit, config: {'server_round': 3, 'local_epochs': 5}\u001b[32m [repeated 2x across cluster]\u001b[0m\n"
          ]
        },
        {
          "output_type": "stream",
          "name": "stderr",
          "text": [
            "\u001b[92mINFO \u001b[0m:      aggregate_fit: received 10 results and 0 failures\n",
            "\u001b[92mINFO \u001b[0m:      fit progress: (3, 0.03961925381422043, {'accuracy': 0.5503}, 559.6516395709996)\n",
            "\u001b[92mINFO \u001b[0m:      configure_evaluate: strategy sampled 10 clients (out of 10)\n"
          ]
        },
        {
          "output_type": "stream",
          "name": "stdout",
          "text": [
            "Server-side evaluation loss 0.03961925381422043 / accuracy 0.5503\n",
            "Model saved as federated_model_3.pth\n",
            "\u001b[36m(ClientAppActor pid=22751)\u001b[0m [Client 4] evaluate, config: {}\n",
            "\u001b[36m(ClientAppActor pid=22752)\u001b[0m [Client 7, round 3] fit, config: {'server_round': 3, 'local_epochs': 5}\n",
            "\u001b[36m(ClientAppActor pid=22752)\u001b[0m [Client 8] evaluate, config: {}\u001b[32m [repeated 4x across cluster]\u001b[0m\n",
            "\u001b[36m(ClientAppActor pid=22752)\u001b[0m [Client 7] evaluate, config: {}\u001b[32m [repeated 4x across cluster]\u001b[0m\n"
          ]
        },
        {
          "output_type": "stream",
          "name": "stderr",
          "text": [
            "\u001b[92mINFO \u001b[0m:      aggregate_evaluate: received 10 results and 0 failures\n",
            "\u001b[92mINFO \u001b[0m:      \n",
            "\u001b[92mINFO \u001b[0m:      [ROUND 4]\n",
            "\u001b[92mINFO \u001b[0m:      configure_fit: strategy sampled 10 clients (out of 10)\n"
          ]
        },
        {
          "output_type": "stream",
          "name": "stdout",
          "text": [
            "My_weighted_average -0.5523999999999999 0.0 \n",
            "\u001b[36m(ClientAppActor pid=22751)\u001b[0m [Client 0, round 4] fit, config: {'server_round': 4, 'local_epochs': 5}\n",
            "\u001b[36m(ClientAppActor pid=22751)\u001b[0m [Client 3] evaluate, config: {}\n",
            "\u001b[36m(ClientAppActor pid=22751)\u001b[0m [Client 2, round 4] fit, config: {'server_round': 4, 'local_epochs': 5}\u001b[32m [repeated 2x across cluster]\u001b[0m\n",
            "\u001b[36m(ClientAppActor pid=22751)\u001b[0m [Client 4, round 4] fit, config: {'server_round': 4, 'local_epochs': 5}\u001b[32m [repeated 2x across cluster]\u001b[0m\n",
            "\u001b[36m(ClientAppActor pid=22751)\u001b[0m [Client 5, round 4] fit, config: {'server_round': 4, 'local_epochs': 5}\u001b[32m [repeated 2x across cluster]\u001b[0m\n",
            "\u001b[36m(ClientAppActor pid=22751)\u001b[0m [Client 6, round 4] fit, config: {'server_round': 4, 'local_epochs': 5}\u001b[32m [repeated 2x across cluster]\u001b[0m\n"
          ]
        },
        {
          "output_type": "stream",
          "name": "stderr",
          "text": [
            "\u001b[92mINFO \u001b[0m:      aggregate_fit: received 10 results and 0 failures\n",
            "\u001b[92mINFO \u001b[0m:      fit progress: (4, 0.038870618230104445, {'accuracy': 0.574}, 743.4430933129997)\n",
            "\u001b[92mINFO \u001b[0m:      configure_evaluate: strategy sampled 10 clients (out of 10)\n"
          ]
        },
        {
          "output_type": "stream",
          "name": "stdout",
          "text": [
            "Server-side evaluation loss 0.038870618230104445 / accuracy 0.574\n",
            "Model saved as federated_model_4.pth\n",
            "\u001b[36m(ClientAppActor pid=22752)\u001b[0m [Client 0] evaluate, config: {}\n",
            "\u001b[36m(ClientAppActor pid=22752)\u001b[0m [Client 7, round 4] fit, config: {'server_round': 4, 'local_epochs': 5}\n",
            "\u001b[36m(ClientAppActor pid=22752)\u001b[0m [Client 9] evaluate, config: {}\u001b[32m [repeated 4x across cluster]\u001b[0m\n",
            "\u001b[36m(ClientAppActor pid=22752)\u001b[0m [Client 3] evaluate, config: {}\u001b[32m [repeated 4x across cluster]\u001b[0m\n"
          ]
        },
        {
          "output_type": "stream",
          "name": "stderr",
          "text": [
            "\u001b[92mINFO \u001b[0m:      aggregate_evaluate: received 10 results and 0 failures\n",
            "\u001b[92mINFO \u001b[0m:      \n",
            "\u001b[92mINFO \u001b[0m:      [ROUND 5]\n",
            "\u001b[92mINFO \u001b[0m:      configure_fit: strategy sampled 10 clients (out of 10)\n"
          ]
        },
        {
          "output_type": "stream",
          "name": "stdout",
          "text": [
            "My_weighted_average -0.5729 0.0 \n",
            "\u001b[36m(ClientAppActor pid=22751)\u001b[0m [Client 0, round 5] fit, config: {'server_round': 5, 'local_epochs': 5}\n",
            "\u001b[36m(ClientAppActor pid=22751)\u001b[0m [Client 8] evaluate, config: {}\n",
            "\u001b[36m(ClientAppActor pid=22751)\u001b[0m [Client 2, round 5] fit, config: {'server_round': 5, 'local_epochs': 5}\u001b[32m [repeated 2x across cluster]\u001b[0m\n",
            "\u001b[36m(ClientAppActor pid=22751)\u001b[0m [Client 6, round 5] fit, config: {'server_round': 5, 'local_epochs': 5}\u001b[32m [repeated 2x across cluster]\u001b[0m\n",
            "\u001b[36m(ClientAppActor pid=22751)\u001b[0m [Client 9, round 5] fit, config: {'server_round': 5, 'local_epochs': 5}\u001b[32m [repeated 2x across cluster]\u001b[0m\n",
            "\u001b[36m(ClientAppActor pid=22751)\u001b[0m [Client 4, round 5] fit, config: {'server_round': 5, 'local_epochs': 5}\u001b[32m [repeated 2x across cluster]\u001b[0m\n"
          ]
        },
        {
          "output_type": "stream",
          "name": "stderr",
          "text": [
            "\u001b[92mINFO \u001b[0m:      aggregate_fit: received 10 results and 0 failures\n",
            "\u001b[92mINFO \u001b[0m:      fit progress: (5, 0.03956690509319306, {'accuracy': 0.5839}, 918.9033108009999)\n",
            "\u001b[92mINFO \u001b[0m:      configure_evaluate: strategy sampled 10 clients (out of 10)\n"
          ]
        },
        {
          "output_type": "stream",
          "name": "stdout",
          "text": [
            "Server-side evaluation loss 0.03956690509319306 / accuracy 0.5839\n",
            "Model saved as federated_model_5.pth\n",
            "\u001b[36m(ClientAppActor pid=22752)\u001b[0m [Client 3] evaluate, config: {}\n",
            "\u001b[36m(ClientAppActor pid=22752)\u001b[0m [Client 5, round 5] fit, config: {'server_round': 5, 'local_epochs': 5}\n",
            "\u001b[36m(ClientAppActor pid=22751)\u001b[0m [Client 8] evaluate, config: {}\u001b[32m [repeated 4x across cluster]\u001b[0m\n",
            "\u001b[36m(ClientAppActor pid=22752)\u001b[0m [Client 0] evaluate, config: {}\u001b[32m [repeated 4x across cluster]\u001b[0m\n"
          ]
        },
        {
          "output_type": "stream",
          "name": "stderr",
          "text": [
            "\u001b[92mINFO \u001b[0m:      aggregate_evaluate: received 10 results and 0 failures\n",
            "\u001b[92mINFO \u001b[0m:      \n",
            "\u001b[92mINFO \u001b[0m:      [ROUND 6]\n",
            "\u001b[92mINFO \u001b[0m:      configure_fit: strategy sampled 10 clients (out of 10)\n"
          ]
        },
        {
          "output_type": "stream",
          "name": "stdout",
          "text": [
            "My_weighted_average -0.5854999999999999 0.0 \n",
            "\u001b[36m(ClientAppActor pid=22751)\u001b[0m [Client 1, round 6] fit, config: {'server_round': 6, 'local_epochs': 5}\n",
            "\u001b[36m(ClientAppActor pid=22751)\u001b[0m [Client 2] evaluate, config: {}\n",
            "\u001b[36m(ClientAppActor pid=22752)\u001b[0m [Client 6, round 6] fit, config: {'server_round': 6, 'local_epochs': 5}\u001b[32m [repeated 2x across cluster]\u001b[0m\n",
            "\u001b[36m(ClientAppActor pid=22752)\u001b[0m [Client 9, round 6] fit, config: {'server_round': 6, 'local_epochs': 5}\u001b[32m [repeated 2x across cluster]\u001b[0m\n",
            "\u001b[36m(ClientAppActor pid=22752)\u001b[0m [Client 5, round 6] fit, config: {'server_round': 6, 'local_epochs': 5}\u001b[32m [repeated 2x across cluster]\u001b[0m\n",
            "\u001b[36m(ClientAppActor pid=22752)\u001b[0m [Client 0, round 6] fit, config: {'server_round': 6, 'local_epochs': 5}\u001b[32m [repeated 2x across cluster]\u001b[0m\n"
          ]
        },
        {
          "output_type": "stream",
          "name": "stderr",
          "text": [
            "\u001b[92mINFO \u001b[0m:      aggregate_fit: received 10 results and 0 failures\n",
            "\u001b[92mINFO \u001b[0m:      fit progress: (6, 0.04096959291100502, {'accuracy': 0.5878}, 1107.5168960649999)\n",
            "\u001b[92mINFO \u001b[0m:      configure_evaluate: strategy sampled 10 clients (out of 10)\n"
          ]
        },
        {
          "output_type": "stream",
          "name": "stdout",
          "text": [
            "Server-side evaluation loss 0.04096959291100502 / accuracy 0.5878\n",
            "Model saved as federated_model_6.pth\n",
            "\u001b[36m(ClientAppActor pid=22752)\u001b[0m [Client 4] evaluate, config: {}\n",
            "\u001b[36m(ClientAppActor pid=22751)\u001b[0m [Client 4, round 6] fit, config: {'server_round': 6, 'local_epochs': 5}\n",
            "\u001b[36m(ClientAppActor pid=22752)\u001b[0m [Client 8] evaluate, config: {}\u001b[32m [repeated 4x across cluster]\u001b[0m\n",
            "\u001b[36m(ClientAppActor pid=22752)\u001b[0m [Client 5] evaluate, config: {}\u001b[32m [repeated 4x across cluster]\u001b[0m\n"
          ]
        },
        {
          "output_type": "stream",
          "name": "stderr",
          "text": [
            "\u001b[92mINFO \u001b[0m:      aggregate_evaluate: received 10 results and 0 failures\n",
            "\u001b[92mINFO \u001b[0m:      \n",
            "\u001b[92mINFO \u001b[0m:      [ROUND 7]\n",
            "\u001b[92mINFO \u001b[0m:      configure_fit: strategy sampled 10 clients (out of 10)\n"
          ]
        },
        {
          "output_type": "stream",
          "name": "stdout",
          "text": [
            "My_weighted_average -0.5828 0.0 \n",
            "\u001b[36m(ClientAppActor pid=22751)\u001b[0m [Client 0, round 7] fit, config: {'server_round': 7, 'local_epochs': 5}\n",
            "\u001b[36m(ClientAppActor pid=22751)\u001b[0m [Client 3] evaluate, config: {}\n",
            "\u001b[36m(ClientAppActor pid=22752)\u001b[0m [Client 2, round 7] fit, config: {'server_round': 7, 'local_epochs': 5}\u001b[32m [repeated 2x across cluster]\u001b[0m\n",
            "\u001b[36m(ClientAppActor pid=22751)\u001b[0m [Client 7, round 7] fit, config: {'server_round': 7, 'local_epochs': 5}\u001b[32m [repeated 2x across cluster]\u001b[0m\n",
            "\u001b[36m(ClientAppActor pid=22751)\u001b[0m [Client 5, round 7] fit, config: {'server_round': 7, 'local_epochs': 5}\u001b[32m [repeated 2x across cluster]\u001b[0m\n",
            "\u001b[36m(ClientAppActor pid=22751)\u001b[0m [Client 6, round 7] fit, config: {'server_round': 7, 'local_epochs': 5}\u001b[32m [repeated 2x across cluster]\u001b[0m\n"
          ]
        },
        {
          "output_type": "stream",
          "name": "stderr",
          "text": [
            "\u001b[92mINFO \u001b[0m:      aggregate_fit: received 10 results and 0 failures\n",
            "\u001b[92mINFO \u001b[0m:      fit progress: (7, 0.043640689462423325, {'accuracy': 0.5832}, 1292.0344040680002)\n",
            "\u001b[92mINFO \u001b[0m:      configure_evaluate: strategy sampled 10 clients (out of 10)\n"
          ]
        },
        {
          "output_type": "stream",
          "name": "stdout",
          "text": [
            "Server-side evaluation loss 0.043640689462423325 / accuracy 0.5832\n",
            "Model saved as federated_model_7.pth\n",
            "\u001b[36m(ClientAppActor pid=22751)\u001b[0m [Client 3] evaluate, config: {}\n",
            "\u001b[36m(ClientAppActor pid=22752)\u001b[0m [Client 8, round 7] fit, config: {'server_round': 7, 'local_epochs': 5}\n",
            "\u001b[36m(ClientAppActor pid=22752)\u001b[0m [Client 7] evaluate, config: {}\u001b[32m [repeated 4x across cluster]\u001b[0m\n",
            "\u001b[36m(ClientAppActor pid=22751)\u001b[0m [Client 1] evaluate, config: {}\u001b[32m [repeated 4x across cluster]\u001b[0m\n"
          ]
        },
        {
          "output_type": "stream",
          "name": "stderr",
          "text": [
            "\u001b[92mINFO \u001b[0m:      aggregate_evaluate: received 10 results and 0 failures\n",
            "\u001b[92mINFO \u001b[0m:      \n",
            "\u001b[92mINFO \u001b[0m:      [ROUND 8]\n",
            "\u001b[92mINFO \u001b[0m:      configure_fit: strategy sampled 10 clients (out of 10)\n"
          ]
        },
        {
          "output_type": "stream",
          "name": "stdout",
          "text": [
            "My_weighted_average -0.587 0.0 \n",
            "\u001b[36m(ClientAppActor pid=22751)\u001b[0m [Client 2, round 8] fit, config: {'server_round': 8, 'local_epochs': 5}\n",
            "\u001b[36m(ClientAppActor pid=22752)\u001b[0m [Client 0] evaluate, config: {}\n",
            "\u001b[36m(ClientAppActor pid=22752)\u001b[0m [Client 5, round 8] fit, config: {'server_round': 8, 'local_epochs': 5}\u001b[32m [repeated 2x across cluster]\u001b[0m\n",
            "\u001b[36m(ClientAppActor pid=22751)\u001b[0m [Client 9, round 8] fit, config: {'server_round': 8, 'local_epochs': 5}\u001b[32m [repeated 2x across cluster]\u001b[0m\n",
            "\u001b[36m(ClientAppActor pid=22751)\u001b[0m [Client 3, round 8] fit, config: {'server_round': 8, 'local_epochs': 5}\u001b[32m [repeated 2x across cluster]\u001b[0m\n",
            "\u001b[36m(ClientAppActor pid=22751)\u001b[0m [Client 4, round 8] fit, config: {'server_round': 8, 'local_epochs': 5}\u001b[32m [repeated 2x across cluster]\u001b[0m\n"
          ]
        },
        {
          "output_type": "stream",
          "name": "stderr",
          "text": [
            "\u001b[92mINFO \u001b[0m:      aggregate_fit: received 10 results and 0 failures\n",
            "\u001b[92mINFO \u001b[0m:      fit progress: (8, 0.04521124165058136, {'accuracy': 0.5913}, 1480.1418154949997)\n",
            "\u001b[92mINFO \u001b[0m:      configure_evaluate: strategy sampled 10 clients (out of 10)\n"
          ]
        },
        {
          "output_type": "stream",
          "name": "stdout",
          "text": [
            "Server-side evaluation loss 0.04521124165058136 / accuracy 0.5913\n",
            "Model saved as federated_model_8.pth\n",
            "\u001b[36m(ClientAppActor pid=22752)\u001b[0m [Client 1] evaluate, config: {}\n",
            "\u001b[36m(ClientAppActor pid=22752)\u001b[0m [Client 1, round 8] fit, config: {'server_round': 8, 'local_epochs': 5}\n",
            "\u001b[36m(ClientAppActor pid=22752)\u001b[0m [Client 7] evaluate, config: {}\u001b[32m [repeated 4x across cluster]\u001b[0m\n",
            "\u001b[36m(ClientAppActor pid=22752)\u001b[0m [Client 0] evaluate, config: {}\u001b[32m [repeated 4x across cluster]\u001b[0m\n"
          ]
        },
        {
          "output_type": "stream",
          "name": "stderr",
          "text": [
            "\u001b[92mINFO \u001b[0m:      aggregate_evaluate: received 10 results and 0 failures\n",
            "\u001b[92mINFO \u001b[0m:      \n",
            "\u001b[92mINFO \u001b[0m:      [ROUND 9]\n",
            "\u001b[92mINFO \u001b[0m:      configure_fit: strategy sampled 10 clients (out of 10)\n"
          ]
        },
        {
          "output_type": "stream",
          "name": "stdout",
          "text": [
            "My_weighted_average -0.592 0.0 \n",
            "\u001b[36m(ClientAppActor pid=22751)\u001b[0m [Client 3, round 9] fit, config: {'server_round': 9, 'local_epochs': 5}\n",
            "\u001b[36m(ClientAppActor pid=22751)\u001b[0m [Client 8] evaluate, config: {}\n",
            "\u001b[36m(ClientAppActor pid=22752)\u001b[0m [Client 5, round 9] fit, config: {'server_round': 9, 'local_epochs': 5}\u001b[32m [repeated 2x across cluster]\u001b[0m\n",
            "\u001b[36m(ClientAppActor pid=22752)\u001b[0m [Client 8, round 9] fit, config: {'server_round': 9, 'local_epochs': 5}\u001b[32m [repeated 2x across cluster]\u001b[0m\n",
            "\u001b[36m(ClientAppActor pid=22751)\u001b[0m [Client 6, round 9] fit, config: {'server_round': 9, 'local_epochs': 5}\u001b[32m [repeated 2x across cluster]\u001b[0m\n",
            "\u001b[36m(ClientAppActor pid=22751)\u001b[0m [Client 2, round 9] fit, config: {'server_round': 9, 'local_epochs': 5}\u001b[32m [repeated 2x across cluster]\u001b[0m\n"
          ]
        },
        {
          "output_type": "stream",
          "name": "stderr",
          "text": [
            "\u001b[92mINFO \u001b[0m:      aggregate_fit: received 10 results and 0 failures\n",
            "\u001b[92mINFO \u001b[0m:      fit progress: (9, 0.04797728852033615, {'accuracy': 0.5809}, 1662.3724238249997)\n",
            "\u001b[92mINFO \u001b[0m:      configure_evaluate: strategy sampled 10 clients (out of 10)\n"
          ]
        },
        {
          "output_type": "stream",
          "name": "stdout",
          "text": [
            "Server-side evaluation loss 0.04797728852033615 / accuracy 0.5809\n",
            "Model saved as federated_model_9.pth\n",
            "\u001b[36m(ClientAppActor pid=22751)\u001b[0m [Client 3] evaluate, config: {}\n",
            "\u001b[36m(ClientAppActor pid=22752)\u001b[0m [Client 0, round 9] fit, config: {'server_round': 9, 'local_epochs': 5}\n",
            "\u001b[36m(ClientAppActor pid=22751)\u001b[0m [Client 7] evaluate, config: {}\u001b[32m [repeated 4x across cluster]\u001b[0m\n",
            "\u001b[36m(ClientAppActor pid=22751)\u001b[0m [Client 6] evaluate, config: {}\u001b[32m [repeated 4x across cluster]\u001b[0m\n"
          ]
        },
        {
          "output_type": "stream",
          "name": "stderr",
          "text": [
            "\u001b[92mINFO \u001b[0m:      aggregate_evaluate: received 10 results and 0 failures\n",
            "\u001b[92mINFO \u001b[0m:      \n",
            "\u001b[92mINFO \u001b[0m:      [ROUND 10]\n",
            "\u001b[92mINFO \u001b[0m:      configure_fit: strategy sampled 10 clients (out of 10)\n"
          ]
        },
        {
          "output_type": "stream",
          "name": "stdout",
          "text": [
            "My_weighted_average -0.5883 0.0 \n",
            "\u001b[36m(ClientAppActor pid=22751)\u001b[0m [Client 3, round 10] fit, config: {'server_round': 10, 'local_epochs': 5}\n",
            "\u001b[36m(ClientAppActor pid=22752)\u001b[0m [Client 1] evaluate, config: {}\n",
            "\u001b[36m(ClientAppActor pid=22751)\u001b[0m [Client 5, round 10] fit, config: {'server_round': 10, 'local_epochs': 5}\u001b[32m [repeated 2x across cluster]\u001b[0m\n",
            "\u001b[36m(ClientAppActor pid=22751)\u001b[0m [Client 7, round 10] fit, config: {'server_round': 10, 'local_epochs': 5}\u001b[32m [repeated 2x across cluster]\u001b[0m\n",
            "\u001b[36m(ClientAppActor pid=22751)\u001b[0m [Client 9, round 10] fit, config: {'server_round': 10, 'local_epochs': 5}\u001b[32m [repeated 2x across cluster]\u001b[0m\n",
            "\u001b[36m(ClientAppActor pid=22751)\u001b[0m [Client 0, round 10] fit, config: {'server_round': 10, 'local_epochs': 5}\u001b[32m [repeated 2x across cluster]\u001b[0m\n"
          ]
        },
        {
          "output_type": "stream",
          "name": "stderr",
          "text": [
            "\u001b[92mINFO \u001b[0m:      aggregate_fit: received 10 results and 0 failures\n",
            "\u001b[92mINFO \u001b[0m:      fit progress: (10, 0.05021208301186562, {'accuracy': 0.5824}, 1848.8677125969998)\n",
            "\u001b[92mINFO \u001b[0m:      configure_evaluate: strategy sampled 10 clients (out of 10)\n"
          ]
        },
        {
          "output_type": "stream",
          "name": "stdout",
          "text": [
            "Server-side evaluation loss 0.05021208301186562 / accuracy 0.5824\n",
            "Model saved as federated_model_10.pth\n",
            "\u001b[36m(ClientAppActor pid=22751)\u001b[0m [Client 2] evaluate, config: {}\n",
            "\u001b[36m(ClientAppActor pid=22752)\u001b[0m [Client 1, round 10] fit, config: {'server_round': 10, 'local_epochs': 5}\n",
            "\u001b[36m(ClientAppActor pid=22752)\u001b[0m [Client 6] evaluate, config: {}\u001b[32m [repeated 4x across cluster]\u001b[0m\n",
            "\u001b[36m(ClientAppActor pid=22752)\u001b[0m [Client 1] evaluate, config: {}\u001b[32m [repeated 4x across cluster]\u001b[0m\n"
          ]
        },
        {
          "output_type": "stream",
          "name": "stderr",
          "text": [
            "\u001b[92mINFO \u001b[0m:      aggregate_evaluate: received 10 results and 0 failures\n",
            "\u001b[92mINFO \u001b[0m:      \n",
            "\u001b[92mINFO \u001b[0m:      [ROUND 11]\n",
            "\u001b[92mINFO \u001b[0m:      configure_fit: strategy sampled 10 clients (out of 10)\n"
          ]
        },
        {
          "output_type": "stream",
          "name": "stdout",
          "text": [
            "My_weighted_average -0.5896999999999999 0.0 \n",
            "\u001b[36m(ClientAppActor pid=22752)\u001b[0m [Client 3, round 11] fit, config: {'server_round': 11, 'local_epochs': 5}\n",
            "\u001b[36m(ClientAppActor pid=22751)\u001b[0m [Client 8] evaluate, config: {}\n",
            "\u001b[36m(ClientAppActor pid=22751)\u001b[0m [Client 5, round 11] fit, config: {'server_round': 11, 'local_epochs': 5}\u001b[32m [repeated 2x across cluster]\u001b[0m\n",
            "\u001b[36m(ClientAppActor pid=22751)\u001b[0m [Client 8, round 11] fit, config: {'server_round': 11, 'local_epochs': 5}\u001b[32m [repeated 2x across cluster]\u001b[0m\n",
            "\u001b[36m(ClientAppActor pid=22751)\u001b[0m [Client 1, round 11] fit, config: {'server_round': 11, 'local_epochs': 5}\u001b[32m [repeated 2x across cluster]\u001b[0m\n",
            "\u001b[36m(ClientAppActor pid=22751)\u001b[0m [Client 4, round 11] fit, config: {'server_round': 11, 'local_epochs': 5}\u001b[32m [repeated 2x across cluster]\u001b[0m\n"
          ]
        },
        {
          "output_type": "stream",
          "name": "stderr",
          "text": [
            "\u001b[92mINFO \u001b[0m:      aggregate_fit: received 10 results and 0 failures\n",
            "\u001b[92mINFO \u001b[0m:      fit progress: (11, 0.05204330217242241, {'accuracy': 0.5826}, 2032.0161342410001)\n",
            "\u001b[92mINFO \u001b[0m:      configure_evaluate: strategy sampled 10 clients (out of 10)\n"
          ]
        },
        {
          "output_type": "stream",
          "name": "stdout",
          "text": [
            "Server-side evaluation loss 0.05204330217242241 / accuracy 0.5826\n",
            "Model saved as federated_model_11.pth\n",
            "\u001b[36m(ClientAppActor pid=22751)\u001b[0m [Client 4] evaluate, config: {}\n",
            "\u001b[36m(ClientAppActor pid=22752)\u001b[0m [Client 2, round 11] fit, config: {'server_round': 11, 'local_epochs': 5}\n",
            "\u001b[36m(ClientAppActor pid=22752)\u001b[0m [Client 8] evaluate, config: {}\u001b[32m [repeated 4x across cluster]\u001b[0m\n",
            "\u001b[36m(ClientAppActor pid=22752)\u001b[0m [Client 2] evaluate, config: {}\u001b[32m [repeated 4x across cluster]\u001b[0m\n"
          ]
        },
        {
          "output_type": "stream",
          "name": "stderr",
          "text": [
            "\u001b[92mINFO \u001b[0m:      aggregate_evaluate: received 10 results and 0 failures\n",
            "\u001b[92mINFO \u001b[0m:      \n",
            "\u001b[92mINFO \u001b[0m:      [ROUND 12]\n",
            "\u001b[92mINFO \u001b[0m:      configure_fit: strategy sampled 10 clients (out of 10)\n"
          ]
        },
        {
          "output_type": "stream",
          "name": "stdout",
          "text": [
            "My_weighted_average -0.5885 0.0 \n",
            "\u001b[36m(ClientAppActor pid=22751)\u001b[0m [Client 0, round 12] fit, config: {'server_round': 12, 'local_epochs': 5}\n",
            "\u001b[36m(ClientAppActor pid=22751)\u001b[0m [Client 0] evaluate, config: {}\n",
            "\u001b[36m(ClientAppActor pid=22751)\u001b[0m [Client 2, round 12] fit, config: {'server_round': 12, 'local_epochs': 5}\u001b[32m [repeated 2x across cluster]\u001b[0m\n",
            "\u001b[36m(ClientAppActor pid=22751)\u001b[0m [Client 6, round 12] fit, config: {'server_round': 12, 'local_epochs': 5}\u001b[32m [repeated 2x across cluster]\u001b[0m\n",
            "\u001b[36m(ClientAppActor pid=22751)\u001b[0m [Client 5, round 12] fit, config: {'server_round': 12, 'local_epochs': 5}\u001b[32m [repeated 2x across cluster]\u001b[0m\n",
            "\u001b[36m(ClientAppActor pid=22751)\u001b[0m [Client 7, round 12] fit, config: {'server_round': 12, 'local_epochs': 5}\u001b[32m [repeated 2x across cluster]\u001b[0m\n"
          ]
        },
        {
          "output_type": "stream",
          "name": "stderr",
          "text": [
            "\u001b[92mINFO \u001b[0m:      aggregate_fit: received 10 results and 0 failures\n",
            "\u001b[92mINFO \u001b[0m:      fit progress: (12, 0.05447696316242218, {'accuracy': 0.5884}, 2208.390554138)\n",
            "\u001b[92mINFO \u001b[0m:      configure_evaluate: strategy sampled 10 clients (out of 10)\n"
          ]
        },
        {
          "output_type": "stream",
          "name": "stdout",
          "text": [
            "Server-side evaluation loss 0.05447696316242218 / accuracy 0.5884\n",
            "Model saved as federated_model_12.pth\n",
            "\u001b[36m(ClientAppActor pid=22751)\u001b[0m [Client 1] evaluate, config: {}\n",
            "\u001b[36m(ClientAppActor pid=22752)\u001b[0m [Client 8, round 12] fit, config: {'server_round': 12, 'local_epochs': 5}\n",
            "\u001b[36m(ClientAppActor pid=22752)\u001b[0m [Client 7] evaluate, config: {}\u001b[32m [repeated 4x across cluster]\u001b[0m\n",
            "\u001b[36m(ClientAppActor pid=22752)\u001b[0m [Client 9] evaluate, config: {}\u001b[32m [repeated 4x across cluster]\u001b[0m\n"
          ]
        },
        {
          "output_type": "stream",
          "name": "stderr",
          "text": [
            "\u001b[92mINFO \u001b[0m:      aggregate_evaluate: received 10 results and 0 failures\n",
            "\u001b[92mINFO \u001b[0m:      \n",
            "\u001b[92mINFO \u001b[0m:      [ROUND 13]\n",
            "\u001b[92mINFO \u001b[0m:      configure_fit: strategy sampled 10 clients (out of 10)\n"
          ]
        },
        {
          "output_type": "stream",
          "name": "stdout",
          "text": [
            "My_weighted_average -0.5902000000000001 0.0 \n",
            "\u001b[36m(ClientAppActor pid=22752)\u001b[0m [Client 1, round 13] fit, config: {'server_round': 13, 'local_epochs': 5}\n",
            "\u001b[36m(ClientAppActor pid=22751)\u001b[0m [Client 6] evaluate, config: {}\n",
            "\u001b[36m(ClientAppActor pid=22751)\u001b[0m [Client 5, round 13] fit, config: {'server_round': 13, 'local_epochs': 5}\u001b[32m [repeated 2x across cluster]\u001b[0m\n",
            "\u001b[36m(ClientAppActor pid=22751)\u001b[0m [Client 8, round 13] fit, config: {'server_round': 13, 'local_epochs': 5}\u001b[32m [repeated 2x across cluster]\u001b[0m\n",
            "\u001b[36m(ClientAppActor pid=22752)\u001b[0m [Client 3, round 13] fit, config: {'server_round': 13, 'local_epochs': 5}\u001b[32m [repeated 2x across cluster]\u001b[0m\n",
            "\u001b[36m(ClientAppActor pid=22751)\u001b[0m [Client 2, round 13] fit, config: {'server_round': 13, 'local_epochs': 5}\u001b[32m [repeated 2x across cluster]\u001b[0m\n"
          ]
        },
        {
          "output_type": "stream",
          "name": "stderr",
          "text": [
            "\u001b[92mINFO \u001b[0m:      aggregate_fit: received 10 results and 0 failures\n",
            "\u001b[92mINFO \u001b[0m:      fit progress: (13, 0.056761082291603086, {'accuracy': 0.58}, 2391.471762047)\n",
            "\u001b[92mINFO \u001b[0m:      configure_evaluate: strategy sampled 10 clients (out of 10)\n"
          ]
        },
        {
          "output_type": "stream",
          "name": "stdout",
          "text": [
            "Server-side evaluation loss 0.056761082291603086 / accuracy 0.58\n",
            "Model saved as federated_model_13.pth\n",
            "\u001b[36m(ClientAppActor pid=22751)\u001b[0m [Client 0] evaluate, config: {}\n",
            "\u001b[36m(ClientAppActor pid=22752)\u001b[0m [Client 4, round 13] fit, config: {'server_round': 13, 'local_epochs': 5}\n",
            "\u001b[36m(ClientAppActor pid=22752)\u001b[0m [Client 5] evaluate, config: {}\u001b[32m [repeated 4x across cluster]\u001b[0m\n",
            "\u001b[36m(ClientAppActor pid=22751)\u001b[0m [Client 9] evaluate, config: {}\u001b[32m [repeated 4x across cluster]\u001b[0m\n"
          ]
        },
        {
          "output_type": "stream",
          "name": "stderr",
          "text": [
            "\u001b[92mINFO \u001b[0m:      aggregate_evaluate: received 10 results and 0 failures\n",
            "\u001b[92mINFO \u001b[0m:      \n",
            "\u001b[92mINFO \u001b[0m:      [ROUND 14]\n",
            "\u001b[92mINFO \u001b[0m:      configure_fit: strategy sampled 10 clients (out of 10)\n"
          ]
        },
        {
          "output_type": "stream",
          "name": "stdout",
          "text": [
            "My_weighted_average -0.5861999999999999 0.0 \n",
            "\u001b[36m(ClientAppActor pid=22751)\u001b[0m [Client 1, round 14] fit, config: {'server_round': 14, 'local_epochs': 5}\n",
            "\u001b[36m(ClientAppActor pid=22752)\u001b[0m [Client 6] evaluate, config: {}\n",
            "\u001b[36m(ClientAppActor pid=22752)\u001b[0m [Client 3, round 14] fit, config: {'server_round': 14, 'local_epochs': 5}\u001b[32m [repeated 2x across cluster]\u001b[0m\n",
            "\u001b[36m(ClientAppActor pid=22752)\u001b[0m [Client 6, round 14] fit, config: {'server_round': 14, 'local_epochs': 5}\u001b[32m [repeated 2x across cluster]\u001b[0m\n",
            "\u001b[36m(ClientAppActor pid=22752)\u001b[0m [Client 2, round 14] fit, config: {'server_round': 14, 'local_epochs': 5}\u001b[32m [repeated 2x across cluster]\u001b[0m\n",
            "\u001b[36m(ClientAppActor pid=22752)\u001b[0m [Client 7, round 14] fit, config: {'server_round': 14, 'local_epochs': 5}\u001b[32m [repeated 2x across cluster]\u001b[0m\n"
          ]
        },
        {
          "output_type": "stream",
          "name": "stderr",
          "text": [
            "\u001b[92mINFO \u001b[0m:      aggregate_fit: received 10 results and 0 failures\n",
            "\u001b[92mINFO \u001b[0m:      fit progress: (14, 0.05765930961370468, {'accuracy': 0.5827}, 2581.8815108400004)\n",
            "\u001b[92mINFO \u001b[0m:      configure_evaluate: strategy sampled 10 clients (out of 10)\n"
          ]
        },
        {
          "output_type": "stream",
          "name": "stdout",
          "text": [
            "Server-side evaluation loss 0.05765930961370468 / accuracy 0.5827\n",
            "Model saved as federated_model_14.pth\n",
            "\u001b[36m(ClientAppActor pid=22751)\u001b[0m [Client 3] evaluate, config: {}\n",
            "\u001b[36m(ClientAppActor pid=22751)\u001b[0m [Client 8, round 14] fit, config: {'server_round': 14, 'local_epochs': 5}\n",
            "\u001b[36m(ClientAppActor pid=22751)\u001b[0m [Client 7] evaluate, config: {}\u001b[32m [repeated 4x across cluster]\u001b[0m\n",
            "\u001b[36m(ClientAppActor pid=22751)\u001b[0m [Client 4] evaluate, config: {}\u001b[32m [repeated 4x across cluster]\u001b[0m\n"
          ]
        },
        {
          "output_type": "stream",
          "name": "stderr",
          "text": [
            "\u001b[92mINFO \u001b[0m:      aggregate_evaluate: received 10 results and 0 failures\n",
            "\u001b[92mINFO \u001b[0m:      \n",
            "\u001b[92mINFO \u001b[0m:      [ROUND 15]\n",
            "\u001b[92mINFO \u001b[0m:      configure_fit: strategy sampled 10 clients (out of 10)\n"
          ]
        },
        {
          "output_type": "stream",
          "name": "stdout",
          "text": [
            "My_weighted_average -0.5843999999999998 0.0 \n",
            "\u001b[36m(ClientAppActor pid=22752)\u001b[0m [Client 0, round 15] fit, config: {'server_round': 15, 'local_epochs': 5}\n",
            "\u001b[36m(ClientAppActor pid=22752)\u001b[0m [Client 9] evaluate, config: {}\n",
            "\u001b[36m(ClientAppActor pid=22752)\u001b[0m [Client 3, round 15] fit, config: {'server_round': 15, 'local_epochs': 5}\u001b[32m [repeated 2x across cluster]\u001b[0m\n",
            "\u001b[36m(ClientAppActor pid=22751)\u001b[0m [Client 5, round 15] fit, config: {'server_round': 15, 'local_epochs': 5}\u001b[32m [repeated 2x across cluster]\u001b[0m\n",
            "\u001b[36m(ClientAppActor pid=22751)\u001b[0m [Client 2, round 15] fit, config: {'server_round': 15, 'local_epochs': 5}\u001b[32m [repeated 2x across cluster]\u001b[0m\n",
            "\u001b[36m(ClientAppActor pid=22751)\u001b[0m [Client 7, round 15] fit, config: {'server_round': 15, 'local_epochs': 5}\u001b[32m [repeated 2x across cluster]\u001b[0m\n"
          ]
        },
        {
          "output_type": "stream",
          "name": "stderr",
          "text": [
            "\u001b[92mINFO \u001b[0m:      aggregate_fit: received 10 results and 0 failures\n",
            "\u001b[92mINFO \u001b[0m:      fit progress: (15, 0.060000590682029724, {'accuracy': 0.584}, 2770.7087118090003)\n",
            "\u001b[92mINFO \u001b[0m:      configure_evaluate: strategy sampled 10 clients (out of 10)\n"
          ]
        },
        {
          "output_type": "stream",
          "name": "stdout",
          "text": [
            "Server-side evaluation loss 0.060000590682029724 / accuracy 0.584\n",
            "Model saved as federated_model_15.pth\n",
            "\u001b[36m(ClientAppActor pid=22751)\u001b[0m [Client 4] evaluate, config: {}\n",
            "\u001b[36m(ClientAppActor pid=22752)\u001b[0m [Client 6, round 15] fit, config: {'server_round': 15, 'local_epochs': 5}\n",
            "\u001b[36m(ClientAppActor pid=22751)\u001b[0m [Client 7] evaluate, config: {}\u001b[32m [repeated 4x across cluster]\u001b[0m\n",
            "\u001b[36m(ClientAppActor pid=22751)\u001b[0m [Client 2] evaluate, config: {}\u001b[32m [repeated 4x across cluster]\u001b[0m\n"
          ]
        },
        {
          "output_type": "stream",
          "name": "stderr",
          "text": [
            "\u001b[92mINFO \u001b[0m:      aggregate_evaluate: received 10 results and 0 failures\n",
            "\u001b[92mINFO \u001b[0m:      \n",
            "\u001b[92mINFO \u001b[0m:      [ROUND 16]\n",
            "\u001b[92mINFO \u001b[0m:      configure_fit: strategy sampled 10 clients (out of 10)\n"
          ]
        },
        {
          "output_type": "stream",
          "name": "stdout",
          "text": [
            "My_weighted_average -0.5842999999999999 0.0 \n",
            "\u001b[36m(ClientAppActor pid=22752)\u001b[0m [Client 1, round 16] fit, config: {'server_round': 16, 'local_epochs': 5}\n",
            "\u001b[36m(ClientAppActor pid=22752)\u001b[0m [Client 0] evaluate, config: {}\n",
            "\u001b[36m(ClientAppActor pid=22752)\u001b[0m [Client 4, round 16] fit, config: {'server_round': 16, 'local_epochs': 5}\u001b[32m [repeated 2x across cluster]\u001b[0m\n",
            "\u001b[36m(ClientAppActor pid=22752)\u001b[0m [Client 7, round 16] fit, config: {'server_round': 16, 'local_epochs': 5}\u001b[32m [repeated 2x across cluster]\u001b[0m\n",
            "\u001b[36m(ClientAppActor pid=22752)\u001b[0m [Client 5, round 16] fit, config: {'server_round': 16, 'local_epochs': 5}\u001b[32m [repeated 2x across cluster]\u001b[0m\n",
            "\u001b[36m(ClientAppActor pid=22752)\u001b[0m [Client 9, round 16] fit, config: {'server_round': 16, 'local_epochs': 5}\u001b[32m [repeated 2x across cluster]\u001b[0m\n"
          ]
        },
        {
          "output_type": "stream",
          "name": "stderr",
          "text": [
            "\u001b[92mINFO \u001b[0m:      aggregate_fit: received 10 results and 0 failures\n",
            "\u001b[92mINFO \u001b[0m:      fit progress: (16, 0.06392808902859688, {'accuracy': 0.5832}, 2959.293209202)\n",
            "\u001b[92mINFO \u001b[0m:      configure_evaluate: strategy sampled 10 clients (out of 10)\n"
          ]
        },
        {
          "output_type": "stream",
          "name": "stdout",
          "text": [
            "Server-side evaluation loss 0.06392808902859688 / accuracy 0.5832\n",
            "Model saved as federated_model_16.pth\n",
            "\u001b[36m(ClientAppActor pid=22751)\u001b[0m [Client 6] evaluate, config: {}\n",
            "\u001b[36m(ClientAppActor pid=22751)\u001b[0m [Client 2, round 16] fit, config: {'server_round': 16, 'local_epochs': 5}\n",
            "\u001b[36m(ClientAppActor pid=22752)\u001b[0m [Client 9] evaluate, config: {}\u001b[32m [repeated 4x across cluster]\u001b[0m\n",
            "\u001b[36m(ClientAppActor pid=22752)\u001b[0m [Client 0] evaluate, config: {}\u001b[32m [repeated 4x across cluster]\u001b[0m\n"
          ]
        },
        {
          "output_type": "stream",
          "name": "stderr",
          "text": [
            "\u001b[92mINFO \u001b[0m:      aggregate_evaluate: received 10 results and 0 failures\n",
            "\u001b[92mINFO \u001b[0m:      \n",
            "\u001b[92mINFO \u001b[0m:      [ROUND 17]\n",
            "\u001b[92mINFO \u001b[0m:      configure_fit: strategy sampled 10 clients (out of 10)\n"
          ]
        },
        {
          "output_type": "stream",
          "name": "stdout",
          "text": [
            "My_weighted_average -0.5898 0.0 \n",
            "\u001b[36m(ClientAppActor pid=22752)\u001b[0m [Client 2, round 17] fit, config: {'server_round': 17, 'local_epochs': 5}\n",
            "\u001b[36m(ClientAppActor pid=22751)\u001b[0m [Client 3] evaluate, config: {}\n",
            "\u001b[36m(ClientAppActor pid=22752)\u001b[0m [Client 4, round 17] fit, config: {'server_round': 17, 'local_epochs': 5}\u001b[32m [repeated 2x across cluster]\u001b[0m\n",
            "\u001b[36m(ClientAppActor pid=22751)\u001b[0m [Client 8, round 17] fit, config: {'server_round': 17, 'local_epochs': 5}\u001b[32m [repeated 2x across cluster]\u001b[0m\n",
            "\u001b[36m(ClientAppActor pid=22752)\u001b[0m [Client 9, round 17] fit, config: {'server_round': 17, 'local_epochs': 5}\u001b[32m [repeated 2x across cluster]\u001b[0m\n",
            "\u001b[36m(ClientAppActor pid=22751)\u001b[0m [Client 1, round 17] fit, config: {'server_round': 17, 'local_epochs': 5}\u001b[32m [repeated 2x across cluster]\u001b[0m\n"
          ]
        },
        {
          "output_type": "stream",
          "name": "stderr",
          "text": [
            "\u001b[92mINFO \u001b[0m:      aggregate_fit: received 10 results and 0 failures\n",
            "\u001b[92mINFO \u001b[0m:      fit progress: (17, 0.06548620933890342, {'accuracy': 0.5824}, 3149.057048722)\n",
            "\u001b[92mINFO \u001b[0m:      configure_evaluate: strategy sampled 10 clients (out of 10)\n"
          ]
        },
        {
          "output_type": "stream",
          "name": "stdout",
          "text": [
            "Server-side evaluation loss 0.06548620933890342 / accuracy 0.5824\n",
            "Model saved as federated_model_17.pth\n",
            "\u001b[36m(ClientAppActor pid=22751)\u001b[0m [Client 0] evaluate, config: {}\n",
            "\u001b[36m(ClientAppActor pid=22752)\u001b[0m [Client 3, round 17] fit, config: {'server_round': 17, 'local_epochs': 5}\n",
            "\u001b[36m(ClientAppActor pid=22752)\u001b[0m [Client 8] evaluate, config: {}\u001b[32m [repeated 4x across cluster]\u001b[0m\n",
            "\u001b[36m(ClientAppActor pid=22752)\u001b[0m [Client 2] evaluate, config: {}\u001b[32m [repeated 4x across cluster]\u001b[0m\n"
          ]
        },
        {
          "output_type": "stream",
          "name": "stderr",
          "text": [
            "\u001b[92mINFO \u001b[0m:      aggregate_evaluate: received 10 results and 0 failures\n",
            "\u001b[92mINFO \u001b[0m:      \n",
            "\u001b[92mINFO \u001b[0m:      [ROUND 18]\n",
            "\u001b[92mINFO \u001b[0m:      configure_fit: strategy sampled 10 clients (out of 10)\n"
          ]
        },
        {
          "output_type": "stream",
          "name": "stdout",
          "text": [
            "My_weighted_average -0.5883 0.0 \n",
            "\u001b[36m(ClientAppActor pid=22751)\u001b[0m [Client 1, round 18] fit, config: {'server_round': 18, 'local_epochs': 5}\n",
            "\u001b[36m(ClientAppActor pid=22751)\u001b[0m [Client 7] evaluate, config: {}\n",
            "\u001b[36m(ClientAppActor pid=22752)\u001b[0m [Client 4, round 18] fit, config: {'server_round': 18, 'local_epochs': 5}\u001b[32m [repeated 2x across cluster]\u001b[0m\n",
            "\u001b[36m(ClientAppActor pid=22752)\u001b[0m [Client 6, round 18] fit, config: {'server_round': 18, 'local_epochs': 5}\u001b[32m [repeated 2x across cluster]\u001b[0m\n",
            "\u001b[36m(ClientAppActor pid=22752)\u001b[0m [Client 9, round 18] fit, config: {'server_round': 18, 'local_epochs': 5}\u001b[32m [repeated 2x across cluster]\u001b[0m\n",
            "\u001b[36m(ClientAppActor pid=22752)\u001b[0m [Client 0, round 18] fit, config: {'server_round': 18, 'local_epochs': 5}\u001b[32m [repeated 2x across cluster]\u001b[0m\n"
          ]
        },
        {
          "output_type": "stream",
          "name": "stderr",
          "text": [
            "\u001b[92mINFO \u001b[0m:      aggregate_fit: received 10 results and 0 failures\n",
            "\u001b[92mINFO \u001b[0m:      fit progress: (18, 0.06427126877307891, {'accuracy': 0.5791}, 3328.427598695999)\n",
            "\u001b[92mINFO \u001b[0m:      configure_evaluate: strategy sampled 10 clients (out of 10)\n"
          ]
        },
        {
          "output_type": "stream",
          "name": "stdout",
          "text": [
            "Server-side evaluation loss 0.06427126877307891 / accuracy 0.5791\n",
            "Model saved as federated_model_18.pth\n",
            "\u001b[36m(ClientAppActor pid=22751)\u001b[0m [Client 1] evaluate, config: {}\n",
            "\u001b[36m(ClientAppActor pid=22751)\u001b[0m [Client 8, round 18] fit, config: {'server_round': 18, 'local_epochs': 5}\n",
            "\u001b[36m(ClientAppActor pid=22752)\u001b[0m [Client 7] evaluate, config: {}\u001b[32m [repeated 4x across cluster]\u001b[0m\n",
            "\u001b[36m(ClientAppActor pid=22752)\u001b[0m [Client 5] evaluate, config: {}\u001b[32m [repeated 4x across cluster]\u001b[0m\n"
          ]
        },
        {
          "output_type": "stream",
          "name": "stderr",
          "text": [
            "\u001b[92mINFO \u001b[0m:      aggregate_evaluate: received 10 results and 0 failures\n",
            "\u001b[92mINFO \u001b[0m:      \n",
            "\u001b[92mINFO \u001b[0m:      [ROUND 19]\n",
            "\u001b[92mINFO \u001b[0m:      configure_fit: strategy sampled 10 clients (out of 10)\n"
          ]
        },
        {
          "output_type": "stream",
          "name": "stdout",
          "text": [
            "My_weighted_average -0.5852 0.0 \n",
            "\u001b[36m(ClientAppActor pid=22751)\u001b[0m [Client 0, round 19] fit, config: {'server_round': 19, 'local_epochs': 5}\n",
            "\u001b[36m(ClientAppActor pid=22751)\u001b[0m [Client 9] evaluate, config: {}\n",
            "\u001b[36m(ClientAppActor pid=22751)\u001b[0m [Client 4, round 19] fit, config: {'server_round': 19, 'local_epochs': 5}\u001b[32m [repeated 2x across cluster]\u001b[0m\n",
            "\u001b[36m(ClientAppActor pid=22752)\u001b[0m [Client 8, round 19] fit, config: {'server_round': 19, 'local_epochs': 5}\u001b[32m [repeated 2x across cluster]\u001b[0m\n",
            "\u001b[36m(ClientAppActor pid=22752)\u001b[0m [Client 6, round 19] fit, config: {'server_round': 19, 'local_epochs': 5}\u001b[32m [repeated 2x across cluster]\u001b[0m\n",
            "\u001b[36m(ClientAppActor pid=22752)\u001b[0m [Client 2, round 19] fit, config: {'server_round': 19, 'local_epochs': 5}\u001b[32m [repeated 2x across cluster]\u001b[0m\n"
          ]
        },
        {
          "output_type": "stream",
          "name": "stderr",
          "text": [
            "\u001b[92mINFO \u001b[0m:      aggregate_fit: received 10 results and 0 failures\n",
            "\u001b[92mINFO \u001b[0m:      fit progress: (19, 0.06604247241318226, {'accuracy': 0.5821}, 3515.3892760379995)\n",
            "\u001b[92mINFO \u001b[0m:      configure_evaluate: strategy sampled 10 clients (out of 10)\n"
          ]
        },
        {
          "output_type": "stream",
          "name": "stdout",
          "text": [
            "Server-side evaluation loss 0.06604247241318226 / accuracy 0.5821\n",
            "Model saved as federated_model_19.pth\n",
            "\u001b[36m(ClientAppActor pid=22751)\u001b[0m [Client 3] evaluate, config: {}\n",
            "\u001b[36m(ClientAppActor pid=22751)\u001b[0m [Client 1, round 19] fit, config: {'server_round': 19, 'local_epochs': 5}\n",
            "\u001b[36m(ClientAppActor pid=22752)\u001b[0m [Client 9] evaluate, config: {}\u001b[32m [repeated 4x across cluster]\u001b[0m\n",
            "\u001b[36m(ClientAppActor pid=22752)\u001b[0m [Client 7] evaluate, config: {}\u001b[32m [repeated 4x across cluster]\u001b[0m\n"
          ]
        },
        {
          "output_type": "stream",
          "name": "stderr",
          "text": [
            "\u001b[92mINFO \u001b[0m:      aggregate_evaluate: received 10 results and 0 failures\n",
            "\u001b[92mINFO \u001b[0m:      \n",
            "\u001b[92mINFO \u001b[0m:      [ROUND 20]\n",
            "\u001b[92mINFO \u001b[0m:      configure_fit: strategy sampled 10 clients (out of 10)\n"
          ]
        },
        {
          "output_type": "stream",
          "name": "stdout",
          "text": [
            "My_weighted_average -0.5887 0.0 \n",
            "\u001b[36m(ClientAppActor pid=22751)\u001b[0m [Client 1, round 20] fit, config: {'server_round': 20, 'local_epochs': 5}\n",
            "\u001b[36m(ClientAppActor pid=22751)\u001b[0m [Client 2] evaluate, config: {}\n",
            "\u001b[36m(ClientAppActor pid=22751)\u001b[0m [Client 4, round 20] fit, config: {'server_round': 20, 'local_epochs': 5}\u001b[32m [repeated 2x across cluster]\u001b[0m\n",
            "\u001b[36m(ClientAppActor pid=22751)\u001b[0m [Client 8, round 20] fit, config: {'server_round': 20, 'local_epochs': 5}\u001b[32m [repeated 2x across cluster]\u001b[0m\n",
            "\u001b[36m(ClientAppActor pid=22751)\u001b[0m [Client 2, round 20] fit, config: {'server_round': 20, 'local_epochs': 5}\u001b[32m [repeated 2x across cluster]\u001b[0m\n",
            "\u001b[36m(ClientAppActor pid=22751)\u001b[0m [Client 7, round 20] fit, config: {'server_round': 20, 'local_epochs': 5}\u001b[32m [repeated 2x across cluster]\u001b[0m\n"
          ]
        },
        {
          "output_type": "stream",
          "name": "stderr",
          "text": [
            "\u001b[92mINFO \u001b[0m:      aggregate_fit: received 10 results and 0 failures\n",
            "\u001b[92mINFO \u001b[0m:      fit progress: (20, 0.06874446074962616, {'accuracy': 0.5796}, 3703.5498816320005)\n",
            "\u001b[92mINFO \u001b[0m:      configure_evaluate: strategy sampled 10 clients (out of 10)\n"
          ]
        },
        {
          "output_type": "stream",
          "name": "stdout",
          "text": [
            "Server-side evaluation loss 0.06874446074962616 / accuracy 0.5796\n",
            "Model saved as federated_model_20.pth\n",
            "\u001b[36m(ClientAppActor pid=22751)\u001b[0m [Client 1] evaluate, config: {}\n",
            "\u001b[36m(ClientAppActor pid=22752)\u001b[0m [Client 5, round 20] fit, config: {'server_round': 20, 'local_epochs': 5}\n",
            "\u001b[36m(ClientAppActor pid=22752)\u001b[0m [Client 9] evaluate, config: {}\u001b[32m [repeated 4x across cluster]\u001b[0m\n",
            "\u001b[36m(ClientAppActor pid=22751)\u001b[0m [Client 2] evaluate, config: {}\u001b[32m [repeated 4x across cluster]\u001b[0m\n"
          ]
        },
        {
          "output_type": "stream",
          "name": "stderr",
          "text": [
            "\u001b[92mINFO \u001b[0m:      aggregate_evaluate: received 10 results and 0 failures\n",
            "\u001b[92mINFO \u001b[0m:      \n",
            "\u001b[92mINFO \u001b[0m:      [ROUND 21]\n",
            "\u001b[92mINFO \u001b[0m:      configure_fit: strategy sampled 10 clients (out of 10)\n"
          ]
        },
        {
          "output_type": "stream",
          "name": "stdout",
          "text": [
            "My_weighted_average -0.5833999999999999 0.0 \n",
            "\u001b[36m(ClientAppActor pid=22751)\u001b[0m [Client 3, round 21] fit, config: {'server_round': 21, 'local_epochs': 5}\n",
            "\u001b[36m(ClientAppActor pid=22752)\u001b[0m [Client 7] evaluate, config: {}\n",
            "\u001b[36m(ClientAppActor pid=22751)\u001b[0m [Client 4, round 21] fit, config: {'server_round': 21, 'local_epochs': 5}\u001b[32m [repeated 2x across cluster]\u001b[0m\n",
            "\u001b[36m(ClientAppActor pid=22751)\u001b[0m [Client 6, round 21] fit, config: {'server_round': 21, 'local_epochs': 5}\u001b[32m [repeated 2x across cluster]\u001b[0m\n",
            "\u001b[36m(ClientAppActor pid=22751)\u001b[0m [Client 0, round 21] fit, config: {'server_round': 21, 'local_epochs': 5}\u001b[32m [repeated 2x across cluster]\u001b[0m\n",
            "\u001b[36m(ClientAppActor pid=22751)\u001b[0m [Client 9, round 21] fit, config: {'server_round': 21, 'local_epochs': 5}\u001b[32m [repeated 2x across cluster]\u001b[0m\n"
          ]
        },
        {
          "output_type": "stream",
          "name": "stderr",
          "text": [
            "\u001b[92mINFO \u001b[0m:      aggregate_fit: received 10 results and 0 failures\n",
            "\u001b[92mINFO \u001b[0m:      fit progress: (21, 0.06878115547597408, {'accuracy': 0.5772}, 3892.286850379999)\n",
            "\u001b[92mINFO \u001b[0m:      configure_evaluate: strategy sampled 10 clients (out of 10)\n"
          ]
        },
        {
          "output_type": "stream",
          "name": "stdout",
          "text": [
            "Server-side evaluation loss 0.06878115547597408 / accuracy 0.5772\n",
            "Model saved as federated_model_21.pth\n",
            "\u001b[36m(ClientAppActor pid=22752)\u001b[0m [Client 1] evaluate, config: {}\n",
            "\u001b[36m(ClientAppActor pid=22752)\u001b[0m [Client 7, round 21] fit, config: {'server_round': 21, 'local_epochs': 5}\n",
            "\u001b[36m(ClientAppActor pid=22752)\u001b[0m [Client 7] evaluate, config: {}\u001b[32m [repeated 4x across cluster]\u001b[0m\n",
            "\u001b[36m(ClientAppActor pid=22752)\u001b[0m [Client 0] evaluate, config: {}\u001b[32m [repeated 4x across cluster]\u001b[0m\n"
          ]
        },
        {
          "output_type": "stream",
          "name": "stderr",
          "text": [
            "\u001b[92mINFO \u001b[0m:      aggregate_evaluate: received 10 results and 0 failures\n",
            "\u001b[92mINFO \u001b[0m:      \n",
            "\u001b[92mINFO \u001b[0m:      [ROUND 22]\n",
            "\u001b[92mINFO \u001b[0m:      configure_fit: strategy sampled 10 clients (out of 10)\n"
          ]
        },
        {
          "output_type": "stream",
          "name": "stdout",
          "text": [
            "My_weighted_average -0.5817 0.0 \n",
            "\u001b[36m(ClientAppActor pid=22752)\u001b[0m [Client 2, round 22] fit, config: {'server_round': 22, 'local_epochs': 5}\n",
            "\u001b[36m(ClientAppActor pid=22751)\u001b[0m [Client 6] evaluate, config: {}\n",
            "\u001b[36m(ClientAppActor pid=22752)\u001b[0m [Client 4, round 22] fit, config: {'server_round': 22, 'local_epochs': 5}\u001b[32m [repeated 2x across cluster]\u001b[0m\n",
            "\u001b[36m(ClientAppActor pid=22752)\u001b[0m [Client 7, round 22] fit, config: {'server_round': 22, 'local_epochs': 5}\u001b[32m [repeated 2x across cluster]\u001b[0m\n",
            "\u001b[36m(ClientAppActor pid=22751)\u001b[0m [Client 1, round 22] fit, config: {'server_round': 22, 'local_epochs': 5}\u001b[32m [repeated 2x across cluster]\u001b[0m\n",
            "\u001b[36m(ClientAppActor pid=22751)\u001b[0m [Client 8, round 22] fit, config: {'server_round': 22, 'local_epochs': 5}\u001b[32m [repeated 2x across cluster]\u001b[0m\n"
          ]
        },
        {
          "output_type": "stream",
          "name": "stderr",
          "text": [
            "\u001b[92mINFO \u001b[0m:      aggregate_fit: received 10 results and 0 failures\n",
            "\u001b[92mINFO \u001b[0m:      fit progress: (22, 0.07139839947521687, {'accuracy': 0.5761}, 4080.78360548)\n",
            "\u001b[92mINFO \u001b[0m:      configure_evaluate: strategy sampled 10 clients (out of 10)\n"
          ]
        },
        {
          "output_type": "stream",
          "name": "stdout",
          "text": [
            "Server-side evaluation loss 0.07139839947521687 / accuracy 0.5761\n",
            "Model saved as federated_model_22.pth\n",
            "\u001b[36m(ClientAppActor pid=22751)\u001b[0m [Client 1] evaluate, config: {}\n",
            "\u001b[36m(ClientAppActor pid=22752)\u001b[0m [Client 3, round 22] fit, config: {'server_round': 22, 'local_epochs': 5}\n",
            "\u001b[36m(ClientAppActor pid=22752)\u001b[0m [Client 8] evaluate, config: {}\u001b[32m [repeated 4x across cluster]\u001b[0m\n",
            "\u001b[36m(ClientAppActor pid=22752)\u001b[0m [Client 2] evaluate, config: {}\u001b[32m [repeated 4x across cluster]\u001b[0m\n"
          ]
        },
        {
          "output_type": "stream",
          "name": "stderr",
          "text": [
            "\u001b[92mINFO \u001b[0m:      aggregate_evaluate: received 10 results and 0 failures\n",
            "\u001b[92mINFO \u001b[0m:      \n",
            "\u001b[92mINFO \u001b[0m:      [ROUND 23]\n",
            "\u001b[92mINFO \u001b[0m:      configure_fit: strategy sampled 10 clients (out of 10)\n"
          ]
        },
        {
          "output_type": "stream",
          "name": "stdout",
          "text": [
            "My_weighted_average -0.5807999999999999 0.0 \n",
            "\u001b[36m(ClientAppActor pid=22752)\u001b[0m [Client 1, round 23] fit, config: {'server_round': 23, 'local_epochs': 5}\n",
            "\u001b[36m(ClientAppActor pid=22751)\u001b[0m [Client 6] evaluate, config: {}\n",
            "\u001b[36m(ClientAppActor pid=22752)\u001b[0m [Client 2, round 23] fit, config: {'server_round': 23, 'local_epochs': 5}\u001b[32m [repeated 2x across cluster]\u001b[0m\n",
            "\u001b[36m(ClientAppActor pid=22752)\u001b[0m [Client 5, round 23] fit, config: {'server_round': 23, 'local_epochs': 5}\u001b[32m [repeated 2x across cluster]\u001b[0m\n",
            "\u001b[36m(ClientAppActor pid=22752)\u001b[0m [Client 3, round 23] fit, config: {'server_round': 23, 'local_epochs': 5}\u001b[32m [repeated 2x across cluster]\u001b[0m\n",
            "\u001b[36m(ClientAppActor pid=22752)\u001b[0m [Client 7, round 23] fit, config: {'server_round': 23, 'local_epochs': 5}\u001b[32m [repeated 2x across cluster]\u001b[0m\n"
          ]
        },
        {
          "output_type": "stream",
          "name": "stderr",
          "text": [
            "\u001b[92mINFO \u001b[0m:      aggregate_fit: received 10 results and 0 failures\n",
            "\u001b[92mINFO \u001b[0m:      fit progress: (23, 0.07186894128024578, {'accuracy': 0.5775}, 4268.903321068)\n",
            "\u001b[92mINFO \u001b[0m:      configure_evaluate: strategy sampled 10 clients (out of 10)\n"
          ]
        },
        {
          "output_type": "stream",
          "name": "stdout",
          "text": [
            "Server-side evaluation loss 0.07186894128024578 / accuracy 0.5775\n",
            "Model saved as federated_model_23.pth\n",
            "\u001b[36m(ClientAppActor pid=22752)\u001b[0m [Client 4] evaluate, config: {}\n",
            "\u001b[36m(ClientAppActor pid=22751)\u001b[0m [Client 6, round 23] fit, config: {'server_round': 23, 'local_epochs': 5}\n",
            "\u001b[36m(ClientAppActor pid=22751)\u001b[0m [Client 7] evaluate, config: {}\u001b[32m [repeated 4x across cluster]\u001b[0m\n",
            "\u001b[36m(ClientAppActor pid=22752)\u001b[0m [Client 3] evaluate, config: {}\u001b[32m [repeated 4x across cluster]\u001b[0m\n"
          ]
        },
        {
          "output_type": "stream",
          "name": "stderr",
          "text": [
            "\u001b[92mINFO \u001b[0m:      aggregate_evaluate: received 10 results and 0 failures\n",
            "\u001b[92mINFO \u001b[0m:      \n",
            "\u001b[92mINFO \u001b[0m:      [ROUND 24]\n",
            "\u001b[92mINFO \u001b[0m:      configure_fit: strategy sampled 10 clients (out of 10)\n"
          ]
        },
        {
          "output_type": "stream",
          "name": "stdout",
          "text": [
            "My_weighted_average -0.5802999999999999 0.0 \n",
            "\u001b[36m(ClientAppActor pid=22752)\u001b[0m [Client 2, round 24] fit, config: {'server_round': 24, 'local_epochs': 5}\n",
            "\u001b[36m(ClientAppActor pid=22751)\u001b[0m [Client 1] evaluate, config: {}\n",
            "\u001b[36m(ClientAppActor pid=22752)\u001b[0m [Client 5, round 24] fit, config: {'server_round': 24, 'local_epochs': 5}\u001b[32m [repeated 2x across cluster]\u001b[0m\n",
            "\u001b[36m(ClientAppActor pid=22751)\u001b[0m [Client 9, round 24] fit, config: {'server_round': 24, 'local_epochs': 5}\u001b[32m [repeated 2x across cluster]\u001b[0m\n",
            "\u001b[36m(ClientAppActor pid=22751)\u001b[0m [Client 1, round 24] fit, config: {'server_round': 24, 'local_epochs': 5}\u001b[32m [repeated 2x across cluster]\u001b[0m\n",
            "\u001b[36m(ClientAppActor pid=22751)\u001b[0m [Client 3, round 24] fit, config: {'server_round': 24, 'local_epochs': 5}\u001b[32m [repeated 2x across cluster]\u001b[0m\n"
          ]
        },
        {
          "output_type": "stream",
          "name": "stderr",
          "text": [
            "\u001b[92mINFO \u001b[0m:      aggregate_fit: received 10 results and 0 failures\n",
            "\u001b[92mINFO \u001b[0m:      fit progress: (24, 0.0732579203903675, {'accuracy': 0.5788}, 4462.543057387001)\n",
            "\u001b[92mINFO \u001b[0m:      configure_evaluate: strategy sampled 10 clients (out of 10)\n"
          ]
        },
        {
          "output_type": "stream",
          "name": "stdout",
          "text": [
            "Server-side evaluation loss 0.0732579203903675 / accuracy 0.5788\n",
            "Model saved as federated_model_24.pth\n",
            "\u001b[36m(ClientAppActor pid=22751)\u001b[0m [Client 1] evaluate, config: {}\n",
            "\u001b[36m(ClientAppActor pid=22752)\u001b[0m [Client 6, round 24] fit, config: {'server_round': 24, 'local_epochs': 5}\n",
            "\u001b[36m(ClientAppActor pid=22751)\u001b[0m [Client 8] evaluate, config: {}\u001b[32m [repeated 4x across cluster]\u001b[0m\n",
            "\u001b[36m(ClientAppActor pid=22751)\u001b[0m [Client 5] evaluate, config: {}\u001b[32m [repeated 4x across cluster]\u001b[0m\n"
          ]
        },
        {
          "output_type": "stream",
          "name": "stderr",
          "text": [
            "\u001b[92mINFO \u001b[0m:      aggregate_evaluate: received 10 results and 0 failures\n",
            "\u001b[92mINFO \u001b[0m:      \n",
            "\u001b[92mINFO \u001b[0m:      [ROUND 25]\n",
            "\u001b[92mINFO \u001b[0m:      configure_fit: strategy sampled 10 clients (out of 10)\n"
          ]
        },
        {
          "output_type": "stream",
          "name": "stdout",
          "text": [
            "My_weighted_average -0.5778 0.0 \n",
            "\u001b[36m(ClientAppActor pid=22752)\u001b[0m [Client 0, round 25] fit, config: {'server_round': 25, 'local_epochs': 5}\n",
            "\u001b[36m(ClientAppActor pid=22752)\u001b[0m [Client 7] evaluate, config: {}\n",
            "\u001b[36m(ClientAppActor pid=22752)\u001b[0m [Client 4, round 25] fit, config: {'server_round': 25, 'local_epochs': 5}\u001b[32m [repeated 2x across cluster]\u001b[0m\n",
            "\u001b[36m(ClientAppActor pid=22752)\u001b[0m [Client 8, round 25] fit, config: {'server_round': 25, 'local_epochs': 5}\u001b[32m [repeated 2x across cluster]\u001b[0m\n",
            "\u001b[36m(ClientAppActor pid=22752)\u001b[0m [Client 5, round 25] fit, config: {'server_round': 25, 'local_epochs': 5}\u001b[32m [repeated 2x across cluster]\u001b[0m\n",
            "\u001b[36m(ClientAppActor pid=22752)\u001b[0m [Client 6, round 25] fit, config: {'server_round': 25, 'local_epochs': 5}\u001b[32m [repeated 2x across cluster]\u001b[0m\n"
          ]
        },
        {
          "output_type": "stream",
          "name": "stderr",
          "text": [
            "\u001b[92mINFO \u001b[0m:      aggregate_fit: received 10 results and 0 failures\n",
            "\u001b[92mINFO \u001b[0m:      fit progress: (25, 0.07349921526014805, {'accuracy': 0.5756}, 4646.320115684)\n",
            "\u001b[92mINFO \u001b[0m:      configure_evaluate: strategy sampled 10 clients (out of 10)\n"
          ]
        },
        {
          "output_type": "stream",
          "name": "stdout",
          "text": [
            "Server-side evaluation loss 0.07349921526014805 / accuracy 0.5756\n",
            "Model saved as federated_model_25.pth\n",
            "\u001b[36m(ClientAppActor pid=22751)\u001b[0m [Client 0] evaluate, config: {}\n",
            "\u001b[36m(ClientAppActor pid=22751)\u001b[0m [Client 3, round 25] fit, config: {'server_round': 25, 'local_epochs': 5}\n",
            "\u001b[36m(ClientAppActor pid=22751)\u001b[0m [Client 6] evaluate, config: {}\u001b[32m [repeated 4x across cluster]\u001b[0m\n",
            "\u001b[36m(ClientAppActor pid=22751)\u001b[0m [Client 1] evaluate, config: {}\u001b[32m [repeated 4x across cluster]\u001b[0m\n"
          ]
        },
        {
          "output_type": "stream",
          "name": "stderr",
          "text": [
            "\u001b[92mINFO \u001b[0m:      aggregate_evaluate: received 10 results and 0 failures\n",
            "\u001b[92mINFO \u001b[0m:      \n",
            "\u001b[92mINFO \u001b[0m:      [ROUND 26]\n",
            "\u001b[92mINFO \u001b[0m:      configure_fit: strategy sampled 10 clients (out of 10)\n"
          ]
        },
        {
          "output_type": "stream",
          "name": "stdout",
          "text": [
            "My_weighted_average -0.5805999999999999 0.0 \n",
            "\u001b[36m(ClientAppActor pid=22751)\u001b[0m [Client 2, round 26] fit, config: {'server_round': 26, 'local_epochs': 5}\n",
            "\u001b[36m(ClientAppActor pid=22752)\u001b[0m [Client 2] evaluate, config: {}\n",
            "\u001b[36m(ClientAppActor pid=22751)\u001b[0m [Client 3, round 26] fit, config: {'server_round': 26, 'local_epochs': 5}\u001b[32m [repeated 2x across cluster]\u001b[0m\n",
            "\u001b[36m(ClientAppActor pid=22751)\u001b[0m [Client 7, round 26] fit, config: {'server_round': 26, 'local_epochs': 5}\u001b[32m [repeated 2x across cluster]\u001b[0m\n",
            "\u001b[36m(ClientAppActor pid=22751)\u001b[0m [Client 0, round 26] fit, config: {'server_round': 26, 'local_epochs': 5}\u001b[32m [repeated 2x across cluster]\u001b[0m\n",
            "\u001b[36m(ClientAppActor pid=22751)\u001b[0m [Client 5, round 26] fit, config: {'server_round': 26, 'local_epochs': 5}\u001b[32m [repeated 2x across cluster]\u001b[0m\n"
          ]
        },
        {
          "output_type": "stream",
          "name": "stderr",
          "text": [
            "\u001b[92mINFO \u001b[0m:      aggregate_fit: received 10 results and 0 failures\n",
            "\u001b[92mINFO \u001b[0m:      fit progress: (26, 0.07457002520561218, {'accuracy': 0.5764}, 4836.3573265370005)\n",
            "\u001b[92mINFO \u001b[0m:      configure_evaluate: strategy sampled 10 clients (out of 10)\n"
          ]
        },
        {
          "output_type": "stream",
          "name": "stdout",
          "text": [
            "Server-side evaluation loss 0.07457002520561218 / accuracy 0.5764\n",
            "Model saved as federated_model_26.pth\n",
            "\u001b[36m(ClientAppActor pid=22751)\u001b[0m [Client 4] evaluate, config: {}\n",
            "\u001b[36m(ClientAppActor pid=22752)\u001b[0m [Client 8, round 26] fit, config: {'server_round': 26, 'local_epochs': 5}\n",
            "\u001b[36m(ClientAppActor pid=22751)\u001b[0m [Client 8] evaluate, config: {}\u001b[32m [repeated 4x across cluster]\u001b[0m\n",
            "\u001b[36m(ClientAppActor pid=22752)\u001b[0m [Client 2] evaluate, config: {}\u001b[32m [repeated 4x across cluster]\u001b[0m\n"
          ]
        },
        {
          "output_type": "stream",
          "name": "stderr",
          "text": [
            "\u001b[92mINFO \u001b[0m:      aggregate_evaluate: received 10 results and 0 failures\n",
            "\u001b[92mINFO \u001b[0m:      \n",
            "\u001b[92mINFO \u001b[0m:      [ROUND 27]\n",
            "\u001b[92mINFO \u001b[0m:      configure_fit: strategy sampled 10 clients (out of 10)\n"
          ]
        },
        {
          "output_type": "stream",
          "name": "stdout",
          "text": [
            "My_weighted_average -0.5791999999999999 0.0 \n",
            "\u001b[36m(ClientAppActor pid=22752)\u001b[0m [Client 2, round 27] fit, config: {'server_round': 27, 'local_epochs': 5}\n",
            "\u001b[36m(ClientAppActor pid=22751)\u001b[0m [Client 5] evaluate, config: {}\n",
            "\u001b[36m(ClientAppActor pid=22751)\u001b[0m [Client 4, round 27] fit, config: {'server_round': 27, 'local_epochs': 5}\u001b[32m [repeated 2x across cluster]\u001b[0m\n",
            "\u001b[36m(ClientAppActor pid=22751)\u001b[0m [Client 6, round 27] fit, config: {'server_round': 27, 'local_epochs': 5}\u001b[32m [repeated 2x across cluster]\u001b[0m\n",
            "\u001b[36m(ClientAppActor pid=22751)\u001b[0m [Client 0, round 27] fit, config: {'server_round': 27, 'local_epochs': 5}\u001b[32m [repeated 2x across cluster]\u001b[0m\n",
            "\u001b[36m(ClientAppActor pid=22751)\u001b[0m [Client 8, round 27] fit, config: {'server_round': 27, 'local_epochs': 5}\u001b[32m [repeated 2x across cluster]\u001b[0m\n"
          ]
        },
        {
          "output_type": "stream",
          "name": "stderr",
          "text": [
            "\u001b[92mINFO \u001b[0m:      aggregate_fit: received 10 results and 0 failures\n",
            "\u001b[92mINFO \u001b[0m:      fit progress: (27, 0.07572785207033157, {'accuracy': 0.5703}, 5032.6052146600005)\n",
            "\u001b[92mINFO \u001b[0m:      configure_evaluate: strategy sampled 10 clients (out of 10)\n"
          ]
        },
        {
          "output_type": "stream",
          "name": "stdout",
          "text": [
            "Server-side evaluation loss 0.07572785207033157 / accuracy 0.5703\n",
            "Model saved as federated_model_27.pth\n",
            "\u001b[36m(ClientAppActor pid=22752)\u001b[0m [Client 0] evaluate, config: {}\n",
            "\u001b[36m(ClientAppActor pid=22752)\u001b[0m [Client 9, round 27] fit, config: {'server_round': 27, 'local_epochs': 5}\n",
            "\u001b[36m(ClientAppActor pid=22752)\u001b[0m [Client 6] evaluate, config: {}\u001b[32m [repeated 4x across cluster]\u001b[0m\n",
            "\u001b[36m(ClientAppActor pid=22751)\u001b[0m [Client 4] evaluate, config: {}\u001b[32m [repeated 4x across cluster]\u001b[0m\n"
          ]
        },
        {
          "output_type": "stream",
          "name": "stderr",
          "text": [
            "\u001b[92mINFO \u001b[0m:      aggregate_evaluate: received 10 results and 0 failures\n",
            "\u001b[92mINFO \u001b[0m:      \n",
            "\u001b[92mINFO \u001b[0m:      [ROUND 28]\n",
            "\u001b[92mINFO \u001b[0m:      configure_fit: strategy sampled 10 clients (out of 10)\n"
          ]
        },
        {
          "output_type": "stream",
          "name": "stdout",
          "text": [
            "My_weighted_average -0.5768 0.0 \n",
            "\u001b[36m(ClientAppActor pid=22751)\u001b[0m [Client 2, round 28] fit, config: {'server_round': 28, 'local_epochs': 5}\n",
            "\u001b[36m(ClientAppActor pid=22752)\u001b[0m [Client 9] evaluate, config: {}\n",
            "\u001b[36m(ClientAppActor pid=22751)\u001b[0m [Client 4, round 28] fit, config: {'server_round': 28, 'local_epochs': 5}\u001b[32m [repeated 2x across cluster]\u001b[0m\n",
            "\u001b[36m(ClientAppActor pid=22751)\u001b[0m [Client 7, round 28] fit, config: {'server_round': 28, 'local_epochs': 5}\u001b[32m [repeated 2x across cluster]\u001b[0m\n",
            "\u001b[36m(ClientAppActor pid=22751)\u001b[0m [Client 1, round 28] fit, config: {'server_round': 28, 'local_epochs': 5}\u001b[32m [repeated 2x across cluster]\u001b[0m\n",
            "\u001b[36m(ClientAppActor pid=22751)\u001b[0m [Client 3, round 28] fit, config: {'server_round': 28, 'local_epochs': 5}\u001b[32m [repeated 2x across cluster]\u001b[0m\n"
          ]
        },
        {
          "output_type": "stream",
          "name": "stderr",
          "text": [
            "\u001b[92mINFO \u001b[0m:      aggregate_fit: received 10 results and 0 failures\n",
            "\u001b[92mINFO \u001b[0m:      fit progress: (28, 0.07652734435498715, {'accuracy': 0.5724}, 5217.625873287)\n",
            "\u001b[92mINFO \u001b[0m:      configure_evaluate: strategy sampled 10 clients (out of 10)\n"
          ]
        },
        {
          "output_type": "stream",
          "name": "stdout",
          "text": [
            "Server-side evaluation loss 0.07652734435498715 / accuracy 0.5724\n",
            "Model saved as federated_model_28.pth\n",
            "\u001b[36m(ClientAppActor pid=22752)\u001b[0m [Client 0] evaluate, config: {}\n",
            "\u001b[36m(ClientAppActor pid=22752)\u001b[0m [Client 5, round 28] fit, config: {'server_round': 28, 'local_epochs': 5}\n",
            "\u001b[36m(ClientAppActor pid=22751)\u001b[0m [Client 8] evaluate, config: {}\u001b[32m [repeated 4x across cluster]\u001b[0m\n",
            "\u001b[36m(ClientAppActor pid=22751)\u001b[0m [Client 4] evaluate, config: {}\u001b[32m [repeated 4x across cluster]\u001b[0m\n"
          ]
        },
        {
          "output_type": "stream",
          "name": "stderr",
          "text": [
            "\u001b[92mINFO \u001b[0m:      aggregate_evaluate: received 10 results and 0 failures\n",
            "\u001b[92mINFO \u001b[0m:      \n",
            "\u001b[92mINFO \u001b[0m:      [ROUND 29]\n",
            "\u001b[92mINFO \u001b[0m:      configure_fit: strategy sampled 10 clients (out of 10)\n"
          ]
        },
        {
          "output_type": "stream",
          "name": "stdout",
          "text": [
            "My_weighted_average -0.5725 0.0 \n",
            "\u001b[36m(ClientAppActor pid=22751)\u001b[0m [Client 2, round 29] fit, config: {'server_round': 29, 'local_epochs': 5}\n",
            "\u001b[36m(ClientAppActor pid=22752)\u001b[0m [Client 9] evaluate, config: {}\n",
            "\u001b[36m(ClientAppActor pid=22752)\u001b[0m [Client 5, round 29] fit, config: {'server_round': 29, 'local_epochs': 5}\u001b[32m [repeated 2x across cluster]\u001b[0m\n",
            "\u001b[36m(ClientAppActor pid=22751)\u001b[0m [Client 6, round 29] fit, config: {'server_round': 29, 'local_epochs': 5}\u001b[32m [repeated 2x across cluster]\u001b[0m\n",
            "\u001b[36m(ClientAppActor pid=22752)\u001b[0m [Client 4, round 29] fit, config: {'server_round': 29, 'local_epochs': 5}\u001b[32m [repeated 2x across cluster]\u001b[0m\n",
            "\u001b[36m(ClientAppActor pid=22752)\u001b[0m [Client 9, round 29] fit, config: {'server_round': 29, 'local_epochs': 5}\u001b[32m [repeated 2x across cluster]\u001b[0m\n"
          ]
        },
        {
          "output_type": "stream",
          "name": "stderr",
          "text": [
            "\u001b[92mINFO \u001b[0m:      aggregate_fit: received 10 results and 0 failures\n",
            "\u001b[92mINFO \u001b[0m:      fit progress: (29, 0.07898486936688423, {'accuracy': 0.5715}, 5406.669061692)\n",
            "\u001b[92mINFO \u001b[0m:      configure_evaluate: strategy sampled 10 clients (out of 10)\n"
          ]
        },
        {
          "output_type": "stream",
          "name": "stdout",
          "text": [
            "Server-side evaluation loss 0.07898486936688423 / accuracy 0.5715\n",
            "Model saved as federated_model_29.pth\n",
            "\u001b[36m(ClientAppActor pid=22751)\u001b[0m [Client 0] evaluate, config: {}\n",
            "\u001b[36m(ClientAppActor pid=22751)\u001b[0m [Client 1, round 29] fit, config: {'server_round': 29, 'local_epochs': 5}\n",
            "\u001b[36m(ClientAppActor pid=22752)\u001b[0m [Client 6] evaluate, config: {}\u001b[32m [repeated 4x across cluster]\u001b[0m\n",
            "\u001b[36m(ClientAppActor pid=22752)\u001b[0m [Client 9] evaluate, config: {}\u001b[32m [repeated 4x across cluster]\u001b[0m\n"
          ]
        },
        {
          "output_type": "stream",
          "name": "stderr",
          "text": [
            "\u001b[92mINFO \u001b[0m:      aggregate_evaluate: received 10 results and 0 failures\n",
            "\u001b[92mINFO \u001b[0m:      \n",
            "\u001b[92mINFO \u001b[0m:      [ROUND 30]\n",
            "\u001b[92mINFO \u001b[0m:      configure_fit: strategy sampled 10 clients (out of 10)\n"
          ]
        },
        {
          "output_type": "stream",
          "name": "stdout",
          "text": [
            "My_weighted_average -0.5744 0.0 \n",
            "\u001b[36m(ClientAppActor pid=22751)\u001b[0m [Client 0, round 30] fit, config: {'server_round': 30, 'local_epochs': 5}\n",
            "\u001b[36m(ClientAppActor pid=22751)\u001b[0m [Client 1] evaluate, config: {}\n",
            "\u001b[36m(ClientAppActor pid=22751)\u001b[0m [Client 6, round 30] fit, config: {'server_round': 30, 'local_epochs': 5}\u001b[32m [repeated 2x across cluster]\u001b[0m\n",
            "\u001b[36m(ClientAppActor pid=22751)\u001b[0m [Client 7, round 30] fit, config: {'server_round': 30, 'local_epochs': 5}\u001b[32m [repeated 2x across cluster]\u001b[0m\n",
            "\u001b[36m(ClientAppActor pid=22752)\u001b[0m [Client 3, round 30] fit, config: {'server_round': 30, 'local_epochs': 5}\u001b[32m [repeated 2x across cluster]\u001b[0m\n",
            "\u001b[36m(ClientAppActor pid=22751)\u001b[0m [Client 1, round 30] fit, config: {'server_round': 30, 'local_epochs': 5}\u001b[32m [repeated 2x across cluster]\u001b[0m\n"
          ]
        },
        {
          "output_type": "stream",
          "name": "stderr",
          "text": [
            "\u001b[92mINFO \u001b[0m:      aggregate_fit: received 10 results and 0 failures\n",
            "\u001b[92mINFO \u001b[0m:      fit progress: (30, 0.07618626578450204, {'accuracy': 0.5687}, 5596.889138046)\n",
            "\u001b[92mINFO \u001b[0m:      configure_evaluate: strategy sampled 10 clients (out of 10)\n"
          ]
        },
        {
          "output_type": "stream",
          "name": "stdout",
          "text": [
            "Server-side evaluation loss 0.07618626578450204 / accuracy 0.5687\n",
            "Model saved as federated_model_30.pth\n",
            "\u001b[36m(ClientAppActor pid=22751)\u001b[0m [Client 2] evaluate, config: {}\n",
            "\u001b[36m(ClientAppActor pid=22752)\u001b[0m [Client 9, round 30] fit, config: {'server_round': 30, 'local_epochs': 5}\n",
            "\u001b[36m(ClientAppActor pid=22751)\u001b[0m [Client 8] evaluate, config: {}\u001b[32m [repeated 4x across cluster]\u001b[0m\n",
            "\u001b[36m(ClientAppActor pid=22751)\u001b[0m [Client 6] evaluate, config: {}\u001b[32m [repeated 4x across cluster]\u001b[0m\n"
          ]
        },
        {
          "output_type": "stream",
          "name": "stderr",
          "text": [
            "\u001b[92mINFO \u001b[0m:      aggregate_evaluate: received 10 results and 0 failures\n",
            "\u001b[92mINFO \u001b[0m:      \n",
            "\u001b[92mINFO \u001b[0m:      [SUMMARY]\n",
            "\u001b[92mINFO \u001b[0m:      Run finished 30 round(s) in 5612.90s\n",
            "\u001b[92mINFO \u001b[0m:      \tHistory (loss, distributed):\n",
            "\u001b[92mINFO \u001b[0m:      \t\tround 1: 0.05098379262685776\n",
            "\u001b[92mINFO \u001b[0m:      \t\tround 2: 0.04418947134017944\n",
            "\u001b[92mINFO \u001b[0m:      \t\tround 3: 0.04055968804359437\n",
            "\u001b[92mINFO \u001b[0m:      \t\tround 4: 0.04000821300148964\n",
            "\u001b[92mINFO \u001b[0m:      \t\tround 5: 0.04066357983350754\n",
            "\u001b[92mINFO \u001b[0m:      \t\tround 6: 0.042988144296407696\n",
            "\u001b[92mINFO \u001b[0m:      \t\tround 7: 0.04579189878702163\n",
            "\u001b[92mINFO \u001b[0m:      \t\tround 8: 0.0473429092258215\n",
            "\u001b[92mINFO \u001b[0m:      \t\tround 9: 0.04993320191502572\n",
            "\u001b[92mINFO \u001b[0m:      \t\tround 10: 0.052897984069585804\n",
            "\u001b[92mINFO \u001b[0m:      \t\tround 11: 0.05469037201404571\n",
            "\u001b[92mINFO \u001b[0m:      \t\tround 12: 0.05756531379818917\n",
            "\u001b[92mINFO \u001b[0m:      \t\tround 13: 0.05989097936153411\n",
            "\u001b[92mINFO \u001b[0m:      \t\tround 14: 0.0607530384838581\n",
            "\u001b[92mINFO \u001b[0m:      \t\tround 15: 0.06311614289283751\n",
            "\u001b[92mINFO \u001b[0m:      \t\tround 16: 0.06719502581954002\n",
            "\u001b[92mINFO \u001b[0m:      \t\tround 17: 0.06880188249349595\n",
            "\u001b[92mINFO \u001b[0m:      \t\tround 18: 0.06698461433053017\n",
            "\u001b[92mINFO \u001b[0m:      \t\tround 19: 0.06888504506349565\n",
            "\u001b[92mINFO \u001b[0m:      \t\tround 20: 0.07192295337319374\n",
            "\u001b[92mINFO \u001b[0m:      \t\tround 21: 0.07129293768405916\n",
            "\u001b[92mINFO \u001b[0m:      \t\tround 22: 0.07442608667016029\n",
            "\u001b[92mINFO \u001b[0m:      \t\tround 23: 0.07492611234784126\n",
            "\u001b[92mINFO \u001b[0m:      \t\tround 24: 0.07655838983952999\n",
            "\u001b[92mINFO \u001b[0m:      \t\tround 25: 0.07610078282952308\n",
            "\u001b[92mINFO \u001b[0m:      \t\tround 26: 0.07774903354644777\n",
            "\u001b[92mINFO \u001b[0m:      \t\tround 27: 0.07840997692346573\n",
            "\u001b[92mINFO \u001b[0m:      \t\tround 28: 0.07959822007417679\n",
            "\u001b[92mINFO \u001b[0m:      \t\tround 29: 0.08284156180620193\n",
            "\u001b[92mINFO \u001b[0m:      \t\tround 30: 0.07912206630706788\n",
            "\u001b[92mINFO \u001b[0m:      \tHistory (loss, centralized):\n",
            "\u001b[92mINFO \u001b[0m:      \t\tround 0: 0.07213021206855774\n",
            "\u001b[92mINFO \u001b[0m:      \t\tround 1: 0.04957194167375564\n",
            "\u001b[92mINFO \u001b[0m:      \t\tround 2: 0.04294627478122711\n",
            "\u001b[92mINFO \u001b[0m:      \t\tround 3: 0.03961925381422043\n",
            "\u001b[92mINFO \u001b[0m:      \t\tround 4: 0.038870618230104445\n",
            "\u001b[92mINFO \u001b[0m:      \t\tround 5: 0.03956690509319306\n",
            "\u001b[92mINFO \u001b[0m:      \t\tround 6: 0.04096959291100502\n",
            "\u001b[92mINFO \u001b[0m:      \t\tround 7: 0.043640689462423325\n",
            "\u001b[92mINFO \u001b[0m:      \t\tround 8: 0.04521124165058136\n",
            "\u001b[92mINFO \u001b[0m:      \t\tround 9: 0.04797728852033615\n",
            "\u001b[92mINFO \u001b[0m:      \t\tround 10: 0.05021208301186562\n",
            "\u001b[92mINFO \u001b[0m:      \t\tround 11: 0.05204330217242241\n",
            "\u001b[92mINFO \u001b[0m:      \t\tround 12: 0.05447696316242218\n",
            "\u001b[92mINFO \u001b[0m:      \t\tround 13: 0.056761082291603086\n",
            "\u001b[92mINFO \u001b[0m:      \t\tround 14: 0.05765930961370468\n",
            "\u001b[92mINFO \u001b[0m:      \t\tround 15: 0.060000590682029724\n",
            "\u001b[92mINFO \u001b[0m:      \t\tround 16: 0.06392808902859688\n",
            "\u001b[92mINFO \u001b[0m:      \t\tround 17: 0.06548620933890342\n",
            "\u001b[92mINFO \u001b[0m:      \t\tround 18: 0.06427126877307891\n",
            "\u001b[92mINFO \u001b[0m:      \t\tround 19: 0.06604247241318226\n",
            "\u001b[92mINFO \u001b[0m:      \t\tround 20: 0.06874446074962616\n",
            "\u001b[92mINFO \u001b[0m:      \t\tround 21: 0.06878115547597408\n",
            "\u001b[92mINFO \u001b[0m:      \t\tround 22: 0.07139839947521687\n",
            "\u001b[92mINFO \u001b[0m:      \t\tround 23: 0.07186894128024578\n",
            "\u001b[92mINFO \u001b[0m:      \t\tround 24: 0.0732579203903675\n",
            "\u001b[92mINFO \u001b[0m:      \t\tround 25: 0.07349921526014805\n",
            "\u001b[92mINFO \u001b[0m:      \t\tround 26: 0.07457002520561218\n",
            "\u001b[92mINFO \u001b[0m:      \t\tround 27: 0.07572785207033157\n",
            "\u001b[92mINFO \u001b[0m:      \t\tround 28: 0.07652734435498715\n",
            "\u001b[92mINFO \u001b[0m:      \t\tround 29: 0.07898486936688423\n",
            "\u001b[92mINFO \u001b[0m:      \t\tround 30: 0.07618626578450204\n",
            "\u001b[92mINFO \u001b[0m:      \tHistory (metrics, distributed, evaluate):\n",
            "\u001b[92mINFO \u001b[0m:      \t{'accuracy': [(1, 0.4234),\n",
            "\u001b[92mINFO \u001b[0m:      \t              (2, 0.5015),\n",
            "\u001b[92mINFO \u001b[0m:      \t              (3, 0.5523999999999999),\n",
            "\u001b[92mINFO \u001b[0m:      \t              (4, 0.5729),\n",
            "\u001b[92mINFO \u001b[0m:      \t              (5, 0.5854999999999999),\n",
            "\u001b[92mINFO \u001b[0m:      \t              (6, 0.5828),\n",
            "\u001b[92mINFO \u001b[0m:      \t              (7, 0.587),\n",
            "\u001b[92mINFO \u001b[0m:      \t              (8, 0.592),\n",
            "\u001b[92mINFO \u001b[0m:      \t              (9, 0.5883),\n",
            "\u001b[92mINFO \u001b[0m:      \t              (10, 0.5896999999999999),\n",
            "\u001b[92mINFO \u001b[0m:      \t              (11, 0.5885),\n",
            "\u001b[92mINFO \u001b[0m:      \t              (12, 0.5902000000000001),\n",
            "\u001b[92mINFO \u001b[0m:      \t              (13, 0.5861999999999999),\n",
            "\u001b[92mINFO \u001b[0m:      \t              (14, 0.5843999999999998),\n",
            "\u001b[92mINFO \u001b[0m:      \t              (15, 0.5842999999999999),\n",
            "\u001b[92mINFO \u001b[0m:      \t              (16, 0.5898),\n",
            "\u001b[92mINFO \u001b[0m:      \t              (17, 0.5883),\n",
            "\u001b[92mINFO \u001b[0m:      \t              (18, 0.5852),\n",
            "\u001b[92mINFO \u001b[0m:      \t              (19, 0.5887),\n",
            "\u001b[92mINFO \u001b[0m:      \t              (20, 0.5833999999999999),\n",
            "\u001b[92mINFO \u001b[0m:      \t              (21, 0.5817),\n",
            "\u001b[92mINFO \u001b[0m:      \t              (22, 0.5807999999999999),\n",
            "\u001b[92mINFO \u001b[0m:      \t              (23, 0.5802999999999999),\n",
            "\u001b[92mINFO \u001b[0m:      \t              (24, 0.5778),\n",
            "\u001b[92mINFO \u001b[0m:      \t              (25, 0.5805999999999999),\n",
            "\u001b[92mINFO \u001b[0m:      \t              (26, 0.5791999999999999),\n",
            "\u001b[92mINFO \u001b[0m:      \t              (27, 0.5768),\n",
            "\u001b[92mINFO \u001b[0m:      \t              (28, 0.5725),\n",
            "\u001b[92mINFO \u001b[0m:      \t              (29, 0.5744),\n",
            "\u001b[92mINFO \u001b[0m:      \t              (30, 0.5721999999999999)],\n",
            "\u001b[92mINFO \u001b[0m:      \t 'loss': [(1, 0.0),\n",
            "\u001b[92mINFO \u001b[0m:      \t          (2, 0.0),\n",
            "\u001b[92mINFO \u001b[0m:      \t          (3, 0.0),\n",
            "\u001b[92mINFO \u001b[0m:      \t          (4, 0.0),\n",
            "\u001b[92mINFO \u001b[0m:      \t          (5, 0.0),\n",
            "\u001b[92mINFO \u001b[0m:      \t          (6, 0.0),\n",
            "\u001b[92mINFO \u001b[0m:      \t          (7, 0.0),\n",
            "\u001b[92mINFO \u001b[0m:      \t          (8, 0.0),\n",
            "\u001b[92mINFO \u001b[0m:      \t          (9, 0.0),\n",
            "\u001b[92mINFO \u001b[0m:      \t          (10, 0.0),\n",
            "\u001b[92mINFO \u001b[0m:      \t          (11, 0.0),\n",
            "\u001b[92mINFO \u001b[0m:      \t          (12, 0.0),\n",
            "\u001b[92mINFO \u001b[0m:      \t          (13, 0.0),\n",
            "\u001b[92mINFO \u001b[0m:      \t          (14, 0.0),\n",
            "\u001b[92mINFO \u001b[0m:      \t          (15, 0.0),\n",
            "\u001b[92mINFO \u001b[0m:      \t          (16, 0.0),\n",
            "\u001b[92mINFO \u001b[0m:      \t          (17, 0.0),\n",
            "\u001b[92mINFO \u001b[0m:      \t          (18, 0.0),\n",
            "\u001b[92mINFO \u001b[0m:      \t          (19, 0.0),\n",
            "\u001b[92mINFO \u001b[0m:      \t          (20, 0.0),\n",
            "\u001b[92mINFO \u001b[0m:      \t          (21, 0.0),\n",
            "\u001b[92mINFO \u001b[0m:      \t          (22, 0.0),\n",
            "\u001b[92mINFO \u001b[0m:      \t          (23, 0.0),\n",
            "\u001b[92mINFO \u001b[0m:      \t          (24, 0.0),\n",
            "\u001b[92mINFO \u001b[0m:      \t          (25, 0.0),\n",
            "\u001b[92mINFO \u001b[0m:      \t          (26, 0.0),\n",
            "\u001b[92mINFO \u001b[0m:      \t          (27, 0.0),\n",
            "\u001b[92mINFO \u001b[0m:      \t          (28, 0.0),\n",
            "\u001b[92mINFO \u001b[0m:      \t          (29, 0.0),\n",
            "\u001b[92mINFO \u001b[0m:      \t          (30, 0.0)]}\n",
            "\u001b[92mINFO \u001b[0m:      \tHistory (metrics, centralized):\n",
            "\u001b[92mINFO \u001b[0m:      \t{'accuracy': [(0, 0.1002),\n",
            "\u001b[92mINFO \u001b[0m:      \t              (1, 0.4259),\n",
            "\u001b[92mINFO \u001b[0m:      \t              (2, 0.5021),\n",
            "\u001b[92mINFO \u001b[0m:      \t              (3, 0.5503),\n",
            "\u001b[92mINFO \u001b[0m:      \t              (4, 0.574),\n",
            "\u001b[92mINFO \u001b[0m:      \t              (5, 0.5839),\n",
            "\u001b[92mINFO \u001b[0m:      \t              (6, 0.5878),\n",
            "\u001b[92mINFO \u001b[0m:      \t              (7, 0.5832),\n",
            "\u001b[92mINFO \u001b[0m:      \t              (8, 0.5913),\n",
            "\u001b[92mINFO \u001b[0m:      \t              (9, 0.5809),\n",
            "\u001b[92mINFO \u001b[0m:      \t              (10, 0.5824),\n",
            "\u001b[92mINFO \u001b[0m:      \t              (11, 0.5826),\n",
            "\u001b[92mINFO \u001b[0m:      \t              (12, 0.5884),\n",
            "\u001b[92mINFO \u001b[0m:      \t              (13, 0.58),\n",
            "\u001b[92mINFO \u001b[0m:      \t              (14, 0.5827),\n",
            "\u001b[92mINFO \u001b[0m:      \t              (15, 0.584),\n",
            "\u001b[92mINFO \u001b[0m:      \t              (16, 0.5832),\n",
            "\u001b[92mINFO \u001b[0m:      \t              (17, 0.5824),\n",
            "\u001b[92mINFO \u001b[0m:      \t              (18, 0.5791),\n",
            "\u001b[92mINFO \u001b[0m:      \t              (19, 0.5821),\n"
          ]
        },
        {
          "output_type": "stream",
          "name": "stdout",
          "text": [
            "My_weighted_average -0.5721999999999999 0.0 \n"
          ]
        },
        {
          "output_type": "stream",
          "name": "stderr",
          "text": [
            "\u001b[92mINFO \u001b[0m:      \t              (20, 0.5796),\n",
            "\u001b[92mINFO \u001b[0m:      \t              (21, 0.5772),\n",
            "\u001b[92mINFO \u001b[0m:      \t              (22, 0.5761),\n",
            "\u001b[92mINFO \u001b[0m:      \t              (23, 0.5775),\n",
            "\u001b[92mINFO \u001b[0m:      \t              (24, 0.5788),\n",
            "\u001b[92mINFO \u001b[0m:      \t              (25, 0.5756),\n",
            "\u001b[92mINFO \u001b[0m:      \t              (26, 0.5764),\n",
            "\u001b[92mINFO \u001b[0m:      \t              (27, 0.5703),\n",
            "\u001b[92mINFO \u001b[0m:      \t              (28, 0.5724),\n",
            "\u001b[92mINFO \u001b[0m:      \t              (29, 0.5715),\n",
            "\u001b[92mINFO \u001b[0m:      \t              (30, 0.5687)]}\n",
            "\u001b[92mINFO \u001b[0m:      \n"
          ]
        },
        {
          "output_type": "stream",
          "name": "stdout",
          "text": [
            "\u001b[36m(ClientAppActor pid=22752)\u001b[0m [Client 0] evaluate, config: {}\n"
          ]
        },
        {
          "output_type": "stream",
          "name": "stderr",
          "text": [
            "\u001b[36m(ClientAppActor pid=22752)\u001b[0m /usr/local/lib/python3.10/dist-packages/jupyter_client/connect.py:28: DeprecationWarning: Jupyter is migrating its paths to use standard platformdirs\n",
            "\u001b[36m(ClientAppActor pid=22752)\u001b[0m given by the platformdirs library.  To remove this warning and\n",
            "\u001b[36m(ClientAppActor pid=22752)\u001b[0m see the appropriate new directories, set the environment variable\n",
            "\u001b[36m(ClientAppActor pid=22752)\u001b[0m `JUPYTER_PLATFORM_DIRS=1` and then run `jupyter --paths`.\n",
            "\u001b[36m(ClientAppActor pid=22752)\u001b[0m The use of platformdirs will be the default in `jupyter_core` v6\n",
            "\u001b[36m(ClientAppActor pid=22752)\u001b[0m   from jupyter_core.paths import jupyter_data_dir, jupyter_runtime_dir, secure_write\n"
          ]
        }
      ]
    },
    {
      "cell_type": "markdown",
      "source": [
        "## Metrics"
      ],
      "metadata": {
        "id": "32Eu7SSURlgC"
      }
    },
    {
      "cell_type": "code",
      "source": [
        "Agregation_history"
      ],
      "metadata": {
        "colab": {
          "base_uri": "https://localhost:8080/"
        },
        "id": "1-j5_eQFDq25",
        "outputId": "cf961585-2ae9-4260-ad45-8415c2299281"
      },
      "execution_count": 22,
      "outputs": [
        {
          "output_type": "stream",
          "name": "stderr",
          "text": [
            "/usr/local/lib/python3.10/dist-packages/ipykernel/ipkernel.py:283: DeprecationWarning: `should_run_async` will not call `transform_cell` automatically in the future. Please pass the result to `transformed_cell` argument and any exception that happen during thetransform in `preprocessing_exc_tuple` in IPython 7.17 and above.\n",
            "  and should_run_async(code)\n"
          ]
        },
        {
          "output_type": "execute_result",
          "data": {
            "text/plain": [
              "[{'loss': 0.0, 'accuracy': 0.4234},\n",
              " {'loss': 0.0, 'accuracy': 0.5015},\n",
              " {'loss': 0.0, 'accuracy': 0.5523999999999999},\n",
              " {'loss': 0.0, 'accuracy': 0.5729},\n",
              " {'loss': 0.0, 'accuracy': 0.5854999999999999},\n",
              " {'loss': 0.0, 'accuracy': 0.5828},\n",
              " {'loss': 0.0, 'accuracy': 0.587},\n",
              " {'loss': 0.0, 'accuracy': 0.592},\n",
              " {'loss': 0.0, 'accuracy': 0.5883},\n",
              " {'loss': 0.0, 'accuracy': 0.5896999999999999},\n",
              " {'loss': 0.0, 'accuracy': 0.5885},\n",
              " {'loss': 0.0, 'accuracy': 0.5902000000000001},\n",
              " {'loss': 0.0, 'accuracy': 0.5861999999999999},\n",
              " {'loss': 0.0, 'accuracy': 0.5843999999999998},\n",
              " {'loss': 0.0, 'accuracy': 0.5842999999999999},\n",
              " {'loss': 0.0, 'accuracy': 0.5898},\n",
              " {'loss': 0.0, 'accuracy': 0.5883},\n",
              " {'loss': 0.0, 'accuracy': 0.5852},\n",
              " {'loss': 0.0, 'accuracy': 0.5887},\n",
              " {'loss': 0.0, 'accuracy': 0.5833999999999999},\n",
              " {'loss': 0.0, 'accuracy': 0.5817},\n",
              " {'loss': 0.0, 'accuracy': 0.5807999999999999},\n",
              " {'loss': 0.0, 'accuracy': 0.5802999999999999},\n",
              " {'loss': 0.0, 'accuracy': 0.5778},\n",
              " {'loss': 0.0, 'accuracy': 0.5805999999999999},\n",
              " {'loss': 0.0, 'accuracy': 0.5791999999999999},\n",
              " {'loss': 0.0, 'accuracy': 0.5768},\n",
              " {'loss': 0.0, 'accuracy': 0.5725},\n",
              " {'loss': 0.0, 'accuracy': 0.5744},\n",
              " {'loss': 0.0, 'accuracy': 0.5721999999999999}]"
            ]
          },
          "metadata": {},
          "execution_count": 22
        }
      ]
    },
    {
      "cell_type": "code",
      "source": [
        "evaluation_history"
      ],
      "metadata": {
        "colab": {
          "base_uri": "https://localhost:8080/"
        },
        "id": "Jtz2MZwX5WdT",
        "outputId": "b4147122-3b24-4bfb-96d9-f561f3a8bca4"
      },
      "execution_count": 23,
      "outputs": [
        {
          "output_type": "execute_result",
          "data": {
            "text/plain": [
              "[{'round': 0, 'loss': 0.07213021206855774, 'accuracy': 0.1002},\n",
              " {'round': 1, 'loss': 0.04957194167375564, 'accuracy': 0.4259},\n",
              " {'round': 2, 'loss': 0.04294627478122711, 'accuracy': 0.5021},\n",
              " {'round': 3, 'loss': 0.03961925381422043, 'accuracy': 0.5503},\n",
              " {'round': 4, 'loss': 0.038870618230104445, 'accuracy': 0.574},\n",
              " {'round': 5, 'loss': 0.03956690509319306, 'accuracy': 0.5839},\n",
              " {'round': 6, 'loss': 0.04096959291100502, 'accuracy': 0.5878},\n",
              " {'round': 7, 'loss': 0.043640689462423325, 'accuracy': 0.5832},\n",
              " {'round': 8, 'loss': 0.04521124165058136, 'accuracy': 0.5913},\n",
              " {'round': 9, 'loss': 0.04797728852033615, 'accuracy': 0.5809},\n",
              " {'round': 10, 'loss': 0.05021208301186562, 'accuracy': 0.5824},\n",
              " {'round': 11, 'loss': 0.05204330217242241, 'accuracy': 0.5826},\n",
              " {'round': 12, 'loss': 0.05447696316242218, 'accuracy': 0.5884},\n",
              " {'round': 13, 'loss': 0.056761082291603086, 'accuracy': 0.58},\n",
              " {'round': 14, 'loss': 0.05765930961370468, 'accuracy': 0.5827},\n",
              " {'round': 15, 'loss': 0.060000590682029724, 'accuracy': 0.584},\n",
              " {'round': 16, 'loss': 0.06392808902859688, 'accuracy': 0.5832},\n",
              " {'round': 17, 'loss': 0.06548620933890342, 'accuracy': 0.5824},\n",
              " {'round': 18, 'loss': 0.06427126877307891, 'accuracy': 0.5791},\n",
              " {'round': 19, 'loss': 0.06604247241318226, 'accuracy': 0.5821},\n",
              " {'round': 20, 'loss': 0.06874446074962616, 'accuracy': 0.5796},\n",
              " {'round': 21, 'loss': 0.06878115547597408, 'accuracy': 0.5772},\n",
              " {'round': 22, 'loss': 0.07139839947521687, 'accuracy': 0.5761},\n",
              " {'round': 23, 'loss': 0.07186894128024578, 'accuracy': 0.5775},\n",
              " {'round': 24, 'loss': 0.0732579203903675, 'accuracy': 0.5788},\n",
              " {'round': 25, 'loss': 0.07349921526014805, 'accuracy': 0.5756},\n",
              " {'round': 26, 'loss': 0.07457002520561218, 'accuracy': 0.5764},\n",
              " {'round': 27, 'loss': 0.07572785207033157, 'accuracy': 0.5703},\n",
              " {'round': 28, 'loss': 0.07652734435498715, 'accuracy': 0.5724},\n",
              " {'round': 29, 'loss': 0.07898486936688423, 'accuracy': 0.5715},\n",
              " {'round': 30, 'loss': 0.07618626578450204, 'accuracy': 0.5687}]"
            ]
          },
          "metadata": {},
          "execution_count": 23
        }
      ]
    },
    {
      "cell_type": "code",
      "source": [
        "accuracy_values = [d['accuracy'] for d in Agregation_history]\n",
        "plt.plot(accuracy_values)\n",
        "plt.show()"
      ],
      "metadata": {
        "colab": {
          "base_uri": "https://localhost:8080/",
          "height": 434
        },
        "collapsed": true,
        "id": "05FnkZl4EXWd",
        "outputId": "53697b34-c992-46d1-af62-c06cd55df644"
      },
      "execution_count": 24,
      "outputs": [
        {
          "output_type": "display_data",
          "data": {
            "text/plain": [
              "<Figure size 640x480 with 1 Axes>"
            ],
            "image/png": "[encoded data removed]"
          },
          "metadata": {}
        }
      ]
    },
    {
      "cell_type": "code",
      "source": [
        "rounds = [entry[\"round\"] for entry in evaluation_history]\n",
        "loss = [entry[\"loss\"] for entry in evaluation_history]\n",
        "accuracy = [entry[\"accuracy\"] for entry in evaluation_history]\n",
        "\n",
        "fig, ax1 = plt.subplots()\n",
        "\n",
        "# Plot loss on the first y-axis\n",
        "ax1.set_xlabel(\"Round\")\n",
        "ax1.set_ylabel(\"Loss\", color=\"tab:red\")\n",
        "ax1.plot(rounds, loss, color=\"tab:red\", label=\"Loss\")\n",
        "ax1.tick_params(axis=\"y\", labelcolor=\"tab:red\")\n",
        "\n",
        "# Create a second y-axis for accuracy\n",
        "ax2 = ax1.twinx()\n",
        "ax2.set_ylabel(\"Accuracy\", color=\"tab:blue\")\n",
        "ax2.plot(rounds, accuracy, color=\"tab:blue\", label=\"Accuracy\")\n",
        "ax2.tick_params(axis=\"y\", labelcolor=\"tab:blue\")\n",
        "\n",
        "# Title and legend\n",
        "fig.suptitle(\"Loss and Accuracy over Training Rounds\")\n",
        "ax1.legend(loc=\"upper left\")\n",
        "ax2.legend(loc=\"upper right\")\n",
        "\n",
        "# Show the plot\n",
        "plt.show()\n"
      ],
      "metadata": {
        "colab": {
          "base_uri": "https://localhost:8080/",
          "height": 497
        },
        "id": "Nceh6n9N5ovV",
        "outputId": "ba8a602d-505a-4592-ec08-ba002e615ab5",
        "collapsed": true
      },
      "execution_count": 25,
      "outputs": [
        {
          "output_type": "display_data",
          "data": {
            "text/plain": [
              "<Figure size 640x480 with 2 Axes>"
            ],
            "image/png": "[encoded data removed]"
          },
          "metadata": {}
        }
      ]
    }
  ],
  "metadata": {
    "colab": {
      "collapsed_sections": [
        "nm_KsFraeQNa",
        "C8jpPOMUeesL",
        "AosnHQ_ojGd7",
        "BrJWWa_JjUTk",
        "_vxerus6q9qy",
        "bWjz0Nerendb",
        "957pzoxDewHM",
        "-xTUj8cKxV60"
      ],
      "provenance": [],
      "authorship_tag": "ABX9TyM183/HoTyrQzHkJSTfFKf/",
      "include_colab_link": true
    },
    "kernelspec": {
      "display_name": "Python 3",
      "name": "python3"
    },
    "language_info": {
      "name": "python"
    }
  },
  "nbformat": 4,
  "nbformat_minor": 0
}